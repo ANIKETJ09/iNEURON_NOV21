{
 "cells": [
  {
   "cell_type": "code",
   "execution_count": 1,
   "id": "da630ecb",
   "metadata": {},
   "outputs": [],
   "source": [
    "# Code with Harry.\n",
    "\n",
    "# https://www.youtube.com/watch?v=rvXhj-FyzcE "
   ]
  },
  {
   "cell_type": "code",
   "execution_count": null,
   "id": "5ff2bee0",
   "metadata": {},
   "outputs": [],
   "source": [
    "# Here we are connecting python with local mongodb database. i.e. with help of \" mongodb compass \"."
   ]
  },
  {
   "cell_type": "code",
   "execution_count": 2,
   "id": "74e6deeb",
   "metadata": {},
   "outputs": [
    {
     "name": "stdout",
     "output_type": "stream",
     "text": [
      "Database(MongoClient(host=['localhost:27017'], document_class=dict, tz_aware=False, connect=True), 'test')\n"
     ]
    }
   ],
   "source": [
    "import pymongo\n",
    "client = pymongo.MongoClient(\"mongodb://localhost:27017/\")\n",
    "db = client.test\n",
    "print(db)"
   ]
  },
  {
   "cell_type": "code",
   "execution_count": null,
   "id": "b29a4859",
   "metadata": {},
   "outputs": [],
   "source": []
  }
 ],
 "metadata": {
  "kernelspec": {
   "display_name": "Python 3 (ipykernel)",
   "language": "python",
   "name": "python3"
  },
  "language_info": {
   "codemirror_mode": {
    "name": "ipython",
    "version": 3
   },
   "file_extension": ".py",
   "mimetype": "text/x-python",
   "name": "python",
   "nbconvert_exporter": "python",
   "pygments_lexer": "ipython3",
   "version": "3.7.7"
  }
 },
 "nbformat": 4,
 "nbformat_minor": 5
}
