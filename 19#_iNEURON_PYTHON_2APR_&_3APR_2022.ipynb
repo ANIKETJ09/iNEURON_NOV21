{
 "cells": [
  {
   "cell_type": "code",
   "execution_count": null,
   "id": "192ab52f",
   "metadata": {},
   "outputs": [],
   "source": [
    "# 2nd APR"
   ]
  },
  {
   "cell_type": "code",
   "execution_count": null,
   "id": "1bec7f5f",
   "metadata": {},
   "outputs": [],
   "source": []
  },
  {
   "cell_type": "code",
   "execution_count": null,
   "id": "0ce962e7",
   "metadata": {},
   "outputs": [],
   "source": [
    "# 3rd APR"
   ]
  },
  {
   "cell_type": "code",
   "execution_count": null,
   "id": "60348b44",
   "metadata": {},
   "outputs": [],
   "source": []
  }
 ],
 "metadata": {
  "kernelspec": {
   "display_name": "Python 3 (ipykernel)",
   "language": "python",
   "name": "python3"
  },
  "language_info": {
   "codemirror_mode": {
    "name": "ipython",
    "version": 3
   },
   "file_extension": ".py",
   "mimetype": "text/x-python",
   "name": "python",
   "nbconvert_exporter": "python",
   "pygments_lexer": "ipython3",
   "version": "3.7.7"
  }
 },
 "nbformat": 4,
 "nbformat_minor": 5
}
