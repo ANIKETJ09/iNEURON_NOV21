{
 "cells": [
  {
   "cell_type": "markdown",
   "id": "89df40ac",
   "metadata": {},
   "source": [
    "# 9th APR"
   ]
  },
  {
   "cell_type": "code",
   "execution_count": null,
   "id": "889e7a25",
   "metadata": {},
   "outputs": [],
   "source": []
  },
  {
   "cell_type": "markdown",
   "id": "423edfa5",
   "metadata": {},
   "source": [
    "# 10th APR"
   ]
  },
  {
   "cell_type": "code",
   "execution_count": null,
   "id": "27106b0b",
   "metadata": {},
   "outputs": [],
   "source": []
  }
 ],
 "metadata": {
  "kernelspec": {
   "display_name": "Python 3 (ipykernel)",
   "language": "python",
   "name": "python3"
  },
  "language_info": {
   "codemirror_mode": {
    "name": "ipython",
    "version": 3
   },
   "file_extension": ".py",
   "mimetype": "text/x-python",
   "name": "python",
   "nbconvert_exporter": "python",
   "pygments_lexer": "ipython3",
   "version": "3.7.7"
  }
 },
 "nbformat": 4,
 "nbformat_minor": 5
}
