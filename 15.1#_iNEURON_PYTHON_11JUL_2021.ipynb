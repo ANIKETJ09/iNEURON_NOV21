{
 "cells": [
  {
   "cell_type": "markdown",
   "id": "64f6dfeb",
   "metadata": {},
   "source": [
    "# 11th JUL"
   ]
  },
  {
   "cell_type": "code",
   "execution_count": null,
   "id": "57fad9de",
   "metadata": {},
   "outputs": [],
   "source": [
    "# This is from previous batch recording."
   ]
  },
  {
   "cell_type": "code",
   "execution_count": 1,
   "id": "c5550d60",
   "metadata": {},
   "outputs": [],
   "source": [
    "import numpy as np\n",
    "import array"
   ]
  },
  {
   "cell_type": "code",
   "execution_count": 2,
   "id": "b8ff88f7",
   "metadata": {},
   "outputs": [
    {
     "data": {
      "text/plain": [
       "array([1, 2, 3, 4, 5])"
      ]
     },
     "execution_count": 2,
     "metadata": {},
     "output_type": "execute_result"
    }
   ],
   "source": [
    "np.array([1,2,3,4,5])"
   ]
  },
  {
   "cell_type": "code",
   "execution_count": 3,
   "id": "058a25bb",
   "metadata": {},
   "outputs": [
    {
     "data": {
      "text/plain": [
       "numpy.ndarray"
      ]
     },
     "execution_count": 3,
     "metadata": {},
     "output_type": "execute_result"
    }
   ],
   "source": [
    "type(np.array([1,2,3,4,5]))"
   ]
  },
  {
   "cell_type": "code",
   "execution_count": 4,
   "id": "f0482d92",
   "metadata": {},
   "outputs": [
    {
     "data": {
      "text/plain": [
       "array(['1', '2', '3', '4', '5', 'sudh', '(4+8j)'], dtype='<U64')"
      ]
     },
     "execution_count": 4,
     "metadata": {},
     "output_type": "execute_result"
    }
   ],
   "source": [
    "np.array([1,2,3,4,5,\"sudh\" , 4+8j,])\n",
    "\n",
    "# Here array is converting all values into the string value."
   ]
  },
  {
   "cell_type": "code",
   "execution_count": 5,
   "id": "89d12e92",
   "metadata": {},
   "outputs": [
    {
     "data": {
      "text/plain": [
       "array([1. , 2. , 3. , 4.5, 6. ])"
      ]
     },
     "execution_count": 5,
     "metadata": {},
     "output_type": "execute_result"
    }
   ],
   "source": [
    "np.array([1,2,3,4.5,6.0])\n",
    "\n",
    "# Here array is converting all numerical values into the floating point no."
   ]
  },
  {
   "cell_type": "code",
   "execution_count": 6,
   "id": "b811b936",
   "metadata": {},
   "outputs": [
    {
     "data": {
      "text/plain": [
       "array([[1, 3],\n",
       "       [3, 4]])"
      ]
     },
     "execution_count": 6,
     "metadata": {},
     "output_type": "execute_result"
    }
   ],
   "source": [
    "np.array([[1,3],[3,4]])\n",
    "\n",
    "# Here we gave data into list.\n",
    "\n",
    "# OR we can give data in tuple also. see on next cell."
   ]
  },
  {
   "cell_type": "code",
   "execution_count": 13,
   "id": "06117ab4",
   "metadata": {},
   "outputs": [
    {
     "data": {
      "text/plain": [
       "array([[1, 2],\n",
       "       [4, 5]])"
      ]
     },
     "execution_count": 13,
     "metadata": {},
     "output_type": "execute_result"
    }
   ],
   "source": [
    "np.array([(1,2),(4,5)])"
   ]
  },
  {
   "cell_type": "code",
   "execution_count": 7,
   "id": "31a059c5",
   "metadata": {},
   "outputs": [
    {
     "data": {
      "text/plain": [
       "array([[1, 3],\n",
       "       [3, 4],\n",
       "       [6, 7]])"
      ]
     },
     "execution_count": 7,
     "metadata": {},
     "output_type": "execute_result"
    }
   ],
   "source": [
    "np.array([[1,3],[3,4],[6,7]])"
   ]
  },
  {
   "cell_type": "code",
   "execution_count": 9,
   "id": "17a30eec",
   "metadata": {},
   "outputs": [
    {
     "data": {
      "text/plain": [
       "array([[[1, 3],\n",
       "        [3, 4]],\n",
       "\n",
       "       [[1, 3],\n",
       "        [3, 4]]])"
      ]
     },
     "execution_count": 9,
     "metadata": {},
     "output_type": "execute_result"
    }
   ],
   "source": [
    "np.array([[[1,3],[3,4]],[[1,3],[3,4]]])"
   ]
  },
  {
   "cell_type": "code",
   "execution_count": 8,
   "id": "7c43cb47",
   "metadata": {},
   "outputs": [
    {
     "name": "stderr",
     "output_type": "stream",
     "text": [
      "/opt/anaconda3/lib/python3.7/site-packages/ipykernel_launcher.py:1: VisibleDeprecationWarning: Creating an ndarray from ragged nested sequences (which is a list-or-tuple of lists-or-tuples-or ndarrays with different lengths or shapes) is deprecated. If you meant to do this, you must specify 'dtype=object' when creating the ndarray.\n",
      "  \"\"\"Entry point for launching an IPython kernel.\n"
     ]
    },
    {
     "data": {
      "text/plain": [
       "array([list([1, 3]), list([3, 4]), list([6, 7, 8])], dtype=object)"
      ]
     },
     "execution_count": 8,
     "metadata": {},
     "output_type": "execute_result"
    }
   ],
   "source": [
    "np.array([[1,3],[3,4],[6,7,8]])"
   ]
  },
  {
   "cell_type": "code",
   "execution_count": 10,
   "id": "7fb4619a",
   "metadata": {},
   "outputs": [
    {
     "data": {
      "text/plain": [
       "array([[[1, 2, 3]]])"
      ]
     },
     "execution_count": 10,
     "metadata": {},
     "output_type": "execute_result"
    }
   ],
   "source": [
    "np.array([1,2,3] , ndmin = 3)"
   ]
  },
  {
   "cell_type": "code",
   "execution_count": 11,
   "id": "2fc847a7",
   "metadata": {},
   "outputs": [
    {
     "data": {
      "text/plain": [
       "array([1.+0.j, 2.+0.j, 3.+0.j])"
      ]
     },
     "execution_count": 11,
     "metadata": {},
     "output_type": "execute_result"
    }
   ],
   "source": [
    "np.array([1,2,3] , dtype = complex)\n",
    "\n",
    "# Here we can do the type casting also."
   ]
  },
  {
   "cell_type": "code",
   "execution_count": 15,
   "id": "8c6a6710",
   "metadata": {},
   "outputs": [
    {
     "data": {
      "text/plain": [
       "array([[1, 3],\n",
       "       [3, 4]])"
      ]
     },
     "execution_count": 15,
     "metadata": {},
     "output_type": "execute_result"
    }
   ],
   "source": [
    "arr  = np.array([[1,3],[3,4]])\n",
    "arr"
   ]
  },
  {
   "cell_type": "code",
   "execution_count": 16,
   "id": "de802246",
   "metadata": {},
   "outputs": [
    {
     "data": {
      "text/plain": [
       "3"
      ]
     },
     "execution_count": 16,
     "metadata": {},
     "output_type": "execute_result"
    }
   ],
   "source": [
    "arr[0][1]"
   ]
  },
  {
   "cell_type": "code",
   "execution_count": 17,
   "id": "f1206639",
   "metadata": {},
   "outputs": [
    {
     "data": {
      "text/plain": [
       "numpy.int64"
      ]
     },
     "execution_count": 17,
     "metadata": {},
     "output_type": "execute_result"
    }
   ],
   "source": [
    "type(arr[0][1])"
   ]
  },
  {
   "cell_type": "code",
   "execution_count": 21,
   "id": "5b55eec4",
   "metadata": {},
   "outputs": [
    {
     "data": {
      "text/plain": [
       "matrix([[1, 3],\n",
       "        [3, 4]])"
      ]
     },
     "execution_count": 21,
     "metadata": {},
     "output_type": "execute_result"
    }
   ],
   "source": [
    "mat=np.mat(arr)\n",
    "mat"
   ]
  },
  {
   "cell_type": "code",
   "execution_count": null,
   "id": "daed4d1a",
   "metadata": {},
   "outputs": [],
   "source": [
    "# OR"
   ]
  },
  {
   "cell_type": "code",
   "execution_count": 22,
   "id": "438f4a21",
   "metadata": {},
   "outputs": [
    {
     "data": {
      "text/plain": [
       "matrix([[1, 3],\n",
       "        [3, 4]])"
      ]
     },
     "execution_count": 22,
     "metadata": {},
     "output_type": "execute_result"
    }
   ],
   "source": [
    "mat = np.matrix(arr)\n",
    "mat"
   ]
  },
  {
   "cell_type": "code",
   "execution_count": 25,
   "id": "949bf304",
   "metadata": {},
   "outputs": [],
   "source": [
    "l = [3,4,5,76,7]\n",
    "\n",
    "# We can convert list into array by using np.array(),np.asarray(),np.asanyarray()."
   ]
  },
  {
   "cell_type": "code",
   "execution_count": 26,
   "id": "1354892a",
   "metadata": {},
   "outputs": [
    {
     "data": {
      "text/plain": [
       "array([ 3,  4,  5, 76,  7])"
      ]
     },
     "execution_count": 26,
     "metadata": {},
     "output_type": "execute_result"
    }
   ],
   "source": [
    "np.array(l)"
   ]
  },
  {
   "cell_type": "code",
   "execution_count": 27,
   "id": "eeb787d7",
   "metadata": {},
   "outputs": [
    {
     "data": {
      "text/plain": [
       "array([ 3,  4,  5, 76,  7])"
      ]
     },
     "execution_count": 27,
     "metadata": {},
     "output_type": "execute_result"
    }
   ],
   "source": [
    "np.asarray(l)"
   ]
  },
  {
   "cell_type": "code",
   "execution_count": 28,
   "id": "c9ba370b",
   "metadata": {},
   "outputs": [
    {
     "data": {
      "text/plain": [
       "array([ 3,  4,  5, 76,  7])"
      ]
     },
     "execution_count": 28,
     "metadata": {},
     "output_type": "execute_result"
    }
   ],
   "source": [
    "np.asanyarray(l)"
   ]
  },
  {
   "cell_type": "code",
   "execution_count": 29,
   "id": "3b2ea332",
   "metadata": {},
   "outputs": [
    {
     "data": {
      "text/plain": [
       "matrix([[1, 3],\n",
       "        [3, 4]])"
      ]
     },
     "execution_count": 29,
     "metadata": {},
     "output_type": "execute_result"
    }
   ],
   "source": [
    "mat=np.mat(arr)\n",
    "mat"
   ]
  },
  {
   "cell_type": "code",
   "execution_count": 30,
   "id": "8a92325f",
   "metadata": {},
   "outputs": [
    {
     "data": {
      "text/plain": [
       "matrix([[1, 3],\n",
       "        [3, 4]])"
      ]
     },
     "execution_count": 30,
     "metadata": {},
     "output_type": "execute_result"
    }
   ],
   "source": [
    "np.asanyarray(mat)"
   ]
  },
  {
   "cell_type": "code",
   "execution_count": 31,
   "id": "df7859ae",
   "metadata": {},
   "outputs": [
    {
     "data": {
      "text/plain": [
       "False"
      ]
     },
     "execution_count": 31,
     "metadata": {},
     "output_type": "execute_result"
    }
   ],
   "source": [
    "# If we want a proof that weather matrix is subform/subclass of array.\n",
    "\n",
    "issubclass(np.ndarray,np.matrix)\n",
    "\n",
    "# \"False\" in o/p  means ndarray is not sub class of matrix."
   ]
  },
  {
   "cell_type": "code",
   "execution_count": 32,
   "id": "dd168b57",
   "metadata": {},
   "outputs": [
    {
     "data": {
      "text/plain": [
       "True"
      ]
     },
     "execution_count": 32,
     "metadata": {},
     "output_type": "execute_result"
    }
   ],
   "source": [
    "issubclass(np.matrix,np.ndarray)\n",
    "\n",
    "# \"True\" in o/p  means matrix is sub class of ndarray."
   ]
  },
  {
   "cell_type": "code",
   "execution_count": 36,
   "id": "ce975849",
   "metadata": {},
   "outputs": [
    {
     "data": {
      "text/plain": [
       "array([[1, 3],\n",
       "       [3, 4]])"
      ]
     },
     "execution_count": 36,
     "metadata": {},
     "output_type": "execute_result"
    }
   ],
   "source": [
    "arr"
   ]
  },
  {
   "cell_type": "code",
   "execution_count": 37,
   "id": "1942e328",
   "metadata": {},
   "outputs": [],
   "source": [
    "a=arr  "
   ]
  },
  {
   "cell_type": "code",
   "execution_count": 38,
   "id": "dd0fd147",
   "metadata": {},
   "outputs": [],
   "source": [
    "b = np.copy(arr) "
   ]
  },
  {
   "cell_type": "code",
   "execution_count": 39,
   "id": "b0caddea",
   "metadata": {},
   "outputs": [
    {
     "data": {
      "text/plain": [
       "array([[67,  3],\n",
       "       [ 3,  4]])"
      ]
     },
     "execution_count": 39,
     "metadata": {},
     "output_type": "execute_result"
    }
   ],
   "source": [
    "arr[0][0] = 67\n",
    "arr"
   ]
  },
  {
   "cell_type": "code",
   "execution_count": 40,
   "id": "1402d649",
   "metadata": {},
   "outputs": [
    {
     "data": {
      "text/plain": [
       "array([[67,  3],\n",
       "       [ 3,  4]])"
      ]
     },
     "execution_count": 40,
     "metadata": {},
     "output_type": "execute_result"
    }
   ],
   "source": [
    "a"
   ]
  },
  {
   "cell_type": "code",
   "execution_count": 41,
   "id": "f0d2858d",
   "metadata": {},
   "outputs": [
    {
     "data": {
      "text/plain": [
       "array([[1, 3],\n",
       "       [3, 4]])"
      ]
     },
     "execution_count": 41,
     "metadata": {},
     "output_type": "execute_result"
    }
   ],
   "source": [
    "b"
   ]
  },
  {
   "cell_type": "code",
   "execution_count": 42,
   "id": "83c98ad6",
   "metadata": {},
   "outputs": [
    {
     "data": {
      "text/plain": [
       "array([3, 4])"
      ]
     },
     "execution_count": 42,
     "metadata": {},
     "output_type": "execute_result"
    }
   ],
   "source": [
    "arr[-1]"
   ]
  },
  {
   "cell_type": "code",
   "execution_count": 43,
   "id": "bbdd6c43",
   "metadata": {},
   "outputs": [
    {
     "name": "stdout",
     "output_type": "stream",
     "text": [
      "[67  3]\n",
      "[3 4]\n"
     ]
    }
   ],
   "source": [
    "for i in arr:\n",
    "    print(i)"
   ]
  },
  {
   "cell_type": "code",
   "execution_count": 44,
   "id": "6a72b580",
   "metadata": {},
   "outputs": [
    {
     "data": {
      "text/plain": [
       "array([[ True, False, False, False],\n",
       "       [False,  True, False, False],\n",
       "       [False, False,  True, False],\n",
       "       [False, False, False,  True]])"
      ]
     },
     "execution_count": 44,
     "metadata": {},
     "output_type": "execute_result"
    }
   ],
   "source": [
    "np.fromfunction(lambda i,j :i==j,(4,4))"
   ]
  },
  {
   "cell_type": "code",
   "execution_count": 45,
   "id": "c9d3817f",
   "metadata": {},
   "outputs": [
    {
     "data": {
      "text/plain": [
       "numpy.ndarray"
      ]
     },
     "execution_count": 45,
     "metadata": {},
     "output_type": "execute_result"
    }
   ],
   "source": [
    "type(np.fromfunction(lambda i,j :i==j,(4,4)))"
   ]
  },
  {
   "cell_type": "code",
   "execution_count": 46,
   "id": "837e25d2",
   "metadata": {},
   "outputs": [
    {
     "data": {
      "text/plain": [
       "array([[0., 0., 0.],\n",
       "       [0., 1., 2.],\n",
       "       [0., 2., 4.]])"
      ]
     },
     "execution_count": 46,
     "metadata": {},
     "output_type": "execute_result"
    }
   ],
   "source": [
    "np.fromfunction(lambda i,j :i*j,(3,3))"
   ]
  },
  {
   "cell_type": "code",
   "execution_count": 47,
   "id": "4d1445ca",
   "metadata": {},
   "outputs": [
    {
     "data": {
      "text/plain": [
       "array([[1., 0., 0.],\n",
       "       [1., 1., 1.],\n",
       "       [1., 2., 4.]])"
      ]
     },
     "execution_count": 47,
     "metadata": {},
     "output_type": "execute_result"
    }
   ],
   "source": [
    "np.fromfunction(lambda i,j :i**j,(3,3))"
   ]
  },
  {
   "cell_type": "code",
   "execution_count": 49,
   "id": "f6ad058c",
   "metadata": {},
   "outputs": [
    {
     "ename": "ZeroDivisionError",
     "evalue": "division by zero",
     "output_type": "error",
     "traceback": [
      "\u001b[0;31m---------------------------------------------------------------------------\u001b[0m",
      "\u001b[0;31mZeroDivisionError\u001b[0m                         Traceback (most recent call last)",
      "\u001b[0;32m/var/folders/g0/424mq_gn0jq76h7qlxtqdg_h0000gn/T/ipykernel_15477/182040962.py\u001b[0m in \u001b[0;36m<module>\u001b[0;34m\u001b[0m\n\u001b[0;32m----> 1\u001b[0;31m \u001b[0;36m0\u001b[0m\u001b[0;34m/\u001b[0m\u001b[0;36m0\u001b[0m\u001b[0;34m\u001b[0m\u001b[0;34m\u001b[0m\u001b[0m\n\u001b[0m",
      "\u001b[0;31mZeroDivisionError\u001b[0m: division by zero"
     ]
    }
   ],
   "source": [
    "0/0"
   ]
  },
  {
   "cell_type": "code",
   "execution_count": 50,
   "id": "7d254463",
   "metadata": {},
   "outputs": [
    {
     "ename": "ZeroDivisionError",
     "evalue": "division by zero",
     "output_type": "error",
     "traceback": [
      "\u001b[0;31m---------------------------------------------------------------------------\u001b[0m",
      "\u001b[0;31mZeroDivisionError\u001b[0m                         Traceback (most recent call last)",
      "\u001b[0;32m/var/folders/g0/424mq_gn0jq76h7qlxtqdg_h0000gn/T/ipykernel_15477/2354412189.py\u001b[0m in \u001b[0;36m<module>\u001b[0;34m\u001b[0m\n\u001b[0;32m----> 1\u001b[0;31m \u001b[0;36m1\u001b[0m\u001b[0;34m/\u001b[0m\u001b[0;36m0\u001b[0m\u001b[0;34m\u001b[0m\u001b[0;34m\u001b[0m\u001b[0m\n\u001b[0m",
      "\u001b[0;31mZeroDivisionError\u001b[0m: division by zero"
     ]
    }
   ],
   "source": [
    "1/0"
   ]
  },
  {
   "cell_type": "code",
   "execution_count": 48,
   "id": "407b3750",
   "metadata": {},
   "outputs": [
    {
     "name": "stderr",
     "output_type": "stream",
     "text": [
      "/opt/anaconda3/lib/python3.7/site-packages/ipykernel_launcher.py:1: RuntimeWarning: divide by zero encountered in true_divide\n",
      "  \"\"\"Entry point for launching an IPython kernel.\n",
      "/opt/anaconda3/lib/python3.7/site-packages/ipykernel_launcher.py:1: RuntimeWarning: invalid value encountered in true_divide\n",
      "  \"\"\"Entry point for launching an IPython kernel.\n"
     ]
    },
    {
     "data": {
      "text/plain": [
       "array([[nan, 0. , 0. ],\n",
       "       [inf, 1. , 0.5],\n",
       "       [inf, 2. , 1. ]])"
      ]
     },
     "execution_count": 48,
     "metadata": {},
     "output_type": "execute_result"
    }
   ],
   "source": [
    "np.fromfunction(lambda i,j :i/j,(3,3))"
   ]
  },
  {
   "cell_type": "code",
   "execution_count": null,
   "id": "e2b9c2a2",
   "metadata": {},
   "outputs": [],
   "source": [
    "# Here in above we are not getting error. because we have done calculation in numpy."
   ]
  },
  {
   "cell_type": "code",
   "execution_count": 53,
   "id": "94ca9545",
   "metadata": {},
   "outputs": [
    {
     "data": {
      "text/plain": [
       "[0, 1, 4, 9, 16]"
      ]
     },
     "execution_count": 53,
     "metadata": {},
     "output_type": "execute_result"
    }
   ],
   "source": [
    "[i*i for i in range(5)]"
   ]
  },
  {
   "cell_type": "code",
   "execution_count": 54,
   "id": "b6d1280f",
   "metadata": {},
   "outputs": [
    {
     "data": {
      "text/plain": [
       "<generator object <genexpr> at 0x7faf85b1d6d0>"
      ]
     },
     "execution_count": 54,
     "metadata": {},
     "output_type": "execute_result"
    }
   ],
   "source": [
    "(i*i for i in range(5))\n",
    "\n",
    "# OR"
   ]
  },
  {
   "cell_type": "code",
   "execution_count": 55,
   "id": "f8487dde",
   "metadata": {},
   "outputs": [
    {
     "data": {
      "text/plain": [
       "<generator object test at 0x7faf85b1d750>"
      ]
     },
     "execution_count": 55,
     "metadata": {},
     "output_type": "execute_result"
    }
   ],
   "source": [
    "def test(x):\n",
    "    yield x \n",
    "    \n",
    "test(5)\n",
    "\n",
    "# OR"
   ]
  },
  {
   "cell_type": "code",
   "execution_count": 61,
   "id": "e4f35bcd",
   "metadata": {},
   "outputs": [
    {
     "data": {
      "text/plain": [
       "<generator object <genexpr> at 0x7faf85b1dbd0>"
      ]
     },
     "execution_count": 61,
     "metadata": {},
     "output_type": "execute_result"
    }
   ],
   "source": [
    "gen=(i*i for i in range(5))\n",
    "gen"
   ]
  },
  {
   "cell_type": "code",
   "execution_count": 62,
   "id": "60cbe574",
   "metadata": {},
   "outputs": [
    {
     "name": "stdout",
     "output_type": "stream",
     "text": [
      "0\n",
      "1\n",
      "4\n",
      "9\n",
      "16\n"
     ]
    }
   ],
   "source": [
    "for i in gen:\n",
    "    print(i)"
   ]
  },
  {
   "cell_type": "code",
   "execution_count": 67,
   "id": "21fe9c7d",
   "metadata": {},
   "outputs": [
    {
     "data": {
      "text/plain": [
       "array([5])"
      ]
     },
     "execution_count": 67,
     "metadata": {},
     "output_type": "execute_result"
    }
   ],
   "source": [
    "np.fromiter(gen,dtype= int)"
   ]
  },
  {
   "cell_type": "code",
   "execution_count": 64,
   "id": "660ae563",
   "metadata": {},
   "outputs": [
    {
     "data": {
      "text/plain": [
       "array([0, 1, 2, 3, 4])"
      ]
     },
     "execution_count": 64,
     "metadata": {},
     "output_type": "execute_result"
    }
   ],
   "source": [
    "np.fromiter(range(5),dtype= int)"
   ]
  },
  {
   "cell_type": "code",
   "execution_count": 65,
   "id": "61cd0f26",
   "metadata": {},
   "outputs": [
    {
     "data": {
      "text/plain": [
       "array([1, 3, 4, 5, 5])"
      ]
     },
     "execution_count": 65,
     "metadata": {},
     "output_type": "execute_result"
    }
   ],
   "source": [
    "np.fromstring('1,3,4,5,5',sep = ',', dtype= int)"
   ]
  },
  {
   "cell_type": "code",
   "execution_count": 66,
   "id": "2322538c",
   "metadata": {},
   "outputs": [
    {
     "data": {
      "text/plain": [
       "array([  456.+0.j,   456.+0.j,  3454.+0.j, 34543.+0.j])"
      ]
     },
     "execution_count": 66,
     "metadata": {},
     "output_type": "execute_result"
    }
   ],
   "source": [
    "np.fromstring(\"456 456 3454 34543\",sep = ' ', dtype= complex)"
   ]
  },
  {
   "cell_type": "code",
   "execution_count": 3,
   "id": "429e84ab",
   "metadata": {},
   "outputs": [],
   "source": [
    "import numpy as np"
   ]
  },
  {
   "cell_type": "code",
   "execution_count": 4,
   "id": "e727070f",
   "metadata": {},
   "outputs": [],
   "source": [
    "l = [3,4,5,6,7,8]"
   ]
  },
  {
   "cell_type": "code",
   "execution_count": 6,
   "id": "070f83de",
   "metadata": {},
   "outputs": [
    {
     "data": {
      "text/plain": [
       "array([3, 4, 5, 6, 7, 8])"
      ]
     },
     "execution_count": 6,
     "metadata": {},
     "output_type": "execute_result"
    }
   ],
   "source": [
    "arr = np.array(l)\n",
    "arr"
   ]
  },
  {
   "cell_type": "code",
   "execution_count": 7,
   "id": "b24f3b7f",
   "metadata": {},
   "outputs": [
    {
     "data": {
      "text/plain": [
       "array([[1, 2, 3, 4],\n",
       "       [2, 3, 4, 5],\n",
       "       [4, 5, 6, 7]])"
      ]
     },
     "execution_count": 7,
     "metadata": {},
     "output_type": "execute_result"
    }
   ],
   "source": [
    "arr1 = np.array([[1,2,3,4] , [2,3,4,5] , [4,5,6,7]])\n",
    "arr1"
   ]
  },
  {
   "cell_type": "code",
   "execution_count": 8,
   "id": "e6fba3a4",
   "metadata": {},
   "outputs": [
    {
     "data": {
      "text/plain": [
       "numpy.ndarray"
      ]
     },
     "execution_count": 8,
     "metadata": {},
     "output_type": "execute_result"
    }
   ],
   "source": [
    "type(arr)"
   ]
  },
  {
   "cell_type": "code",
   "execution_count": 9,
   "id": "98b6496c",
   "metadata": {},
   "outputs": [
    {
     "data": {
      "text/plain": [
       "numpy.ndarray"
      ]
     },
     "execution_count": 9,
     "metadata": {},
     "output_type": "execute_result"
    }
   ],
   "source": [
    "type(arr1)"
   ]
  },
  {
   "cell_type": "code",
   "execution_count": 10,
   "id": "34bd062c",
   "metadata": {},
   "outputs": [
    {
     "data": {
      "text/plain": [
       "1"
      ]
     },
     "execution_count": 10,
     "metadata": {},
     "output_type": "execute_result"
    }
   ],
   "source": [
    "arr.ndim # dimension"
   ]
  },
  {
   "cell_type": "code",
   "execution_count": 11,
   "id": "a3233844",
   "metadata": {},
   "outputs": [
    {
     "data": {
      "text/plain": [
       "6"
      ]
     },
     "execution_count": 11,
     "metadata": {},
     "output_type": "execute_result"
    }
   ],
   "source": [
    "arr.size # Total No of elements."
   ]
  },
  {
   "cell_type": "code",
   "execution_count": 12,
   "id": "214c8315",
   "metadata": {},
   "outputs": [
    {
     "data": {
      "text/plain": [
       "(6,)"
      ]
     },
     "execution_count": 12,
     "metadata": {},
     "output_type": "execute_result"
    }
   ],
   "source": [
    "arr.shape # 3rows 4colunm."
   ]
  },
  {
   "cell_type": "code",
   "execution_count": 78,
   "id": "fd7c9c66",
   "metadata": {},
   "outputs": [
    {
     "data": {
      "text/plain": [
       "dtype('int64')"
      ]
     },
     "execution_count": 78,
     "metadata": {},
     "output_type": "execute_result"
    }
   ],
   "source": [
    "arr.dtype # Type"
   ]
  },
  {
   "cell_type": "code",
   "execution_count": 79,
   "id": "6eeb98f8",
   "metadata": {},
   "outputs": [
    {
     "data": {
      "text/plain": [
       "2"
      ]
     },
     "execution_count": 79,
     "metadata": {},
     "output_type": "execute_result"
    }
   ],
   "source": [
    "arr1.ndim"
   ]
  },
  {
   "cell_type": "code",
   "execution_count": 80,
   "id": "0b3dc235",
   "metadata": {},
   "outputs": [
    {
     "data": {
      "text/plain": [
       "12"
      ]
     },
     "execution_count": 80,
     "metadata": {},
     "output_type": "execute_result"
    }
   ],
   "source": [
    "arr1.size"
   ]
  },
  {
   "cell_type": "code",
   "execution_count": 81,
   "id": "ced001c2",
   "metadata": {},
   "outputs": [
    {
     "data": {
      "text/plain": [
       "(3, 4)"
      ]
     },
     "execution_count": 81,
     "metadata": {},
     "output_type": "execute_result"
    }
   ],
   "source": [
    "arr1.shape"
   ]
  },
  {
   "cell_type": "code",
   "execution_count": 82,
   "id": "c3af2a7e",
   "metadata": {},
   "outputs": [
    {
     "data": {
      "text/plain": [
       "dtype('int64')"
      ]
     },
     "execution_count": 82,
     "metadata": {},
     "output_type": "execute_result"
    }
   ],
   "source": [
    "arr1.dtype"
   ]
  },
  {
   "cell_type": "code",
   "execution_count": 84,
   "id": "154067a6",
   "metadata": {},
   "outputs": [
    {
     "data": {
      "text/plain": [
       "array([[[1, 2, 3, 4],\n",
       "        [4, 5, 6, 7]],\n",
       "\n",
       "       [[1, 2, 3, 4],\n",
       "        [4, 5, 6, 7]]])"
      ]
     },
     "execution_count": 84,
     "metadata": {},
     "output_type": "execute_result"
    }
   ],
   "source": [
    "arr2 = np.array([[[1,2,3,4],[4,5,6,7]] , [[1,2,3,4],[4,5,6,7]]])\n",
    "arr2"
   ]
  },
  {
   "cell_type": "code",
   "execution_count": 85,
   "id": "01284f94",
   "metadata": {},
   "outputs": [
    {
     "data": {
      "text/plain": [
       "3"
      ]
     },
     "execution_count": 85,
     "metadata": {},
     "output_type": "execute_result"
    }
   ],
   "source": [
    "arr2.ndim"
   ]
  },
  {
   "cell_type": "code",
   "execution_count": 86,
   "id": "2d7f7c00",
   "metadata": {},
   "outputs": [
    {
     "data": {
      "text/plain": [
       "16"
      ]
     },
     "execution_count": 86,
     "metadata": {},
     "output_type": "execute_result"
    }
   ],
   "source": [
    "arr2.size"
   ]
  },
  {
   "cell_type": "code",
   "execution_count": 87,
   "id": "a6ec8e66",
   "metadata": {},
   "outputs": [
    {
     "data": {
      "text/plain": [
       "(2, 2, 4)"
      ]
     },
     "execution_count": 87,
     "metadata": {},
     "output_type": "execute_result"
    }
   ],
   "source": [
    "arr2.shape  "
   ]
  },
  {
   "cell_type": "code",
   "execution_count": 88,
   "id": "a5bd3aa5",
   "metadata": {},
   "outputs": [
    {
     "data": {
      "text/plain": [
       "dtype('int64')"
      ]
     },
     "execution_count": 88,
     "metadata": {},
     "output_type": "execute_result"
    }
   ],
   "source": [
    "arr2.dtype"
   ]
  },
  {
   "cell_type": "code",
   "execution_count": 101,
   "id": "213a54f6",
   "metadata": {},
   "outputs": [
    {
     "data": {
      "text/plain": [
       "array([[[[1, 2, 3, 4],\n",
       "         [4, 5, 6, 7]],\n",
       "\n",
       "        [[1, 2, 3, 4],\n",
       "         [4, 5, 6, 7]],\n",
       "\n",
       "        [[1, 2, 3, 4],\n",
       "         [4, 5, 6, 7]],\n",
       "\n",
       "        [[1, 2, 3, 4],\n",
       "         [4, 5, 6, 7]]]])"
      ]
     },
     "execution_count": 101,
     "metadata": {},
     "output_type": "execute_result"
    }
   ],
   "source": [
    "arr4 = np.array([[[[1,2,3,4],[4,5,6,7]],[[1,2,3,4],[4,5,6,7]] , [[1,2,3,4],[4,5,6,7]],[[1,2,3,4],[4,5,6,7]]]])\n",
    "arr4"
   ]
  },
  {
   "cell_type": "code",
   "execution_count": 102,
   "id": "6945395c",
   "metadata": {},
   "outputs": [
    {
     "data": {
      "text/plain": [
       "4"
      ]
     },
     "execution_count": 102,
     "metadata": {},
     "output_type": "execute_result"
    }
   ],
   "source": [
    "arr4.ndim"
   ]
  },
  {
   "cell_type": "code",
   "execution_count": 103,
   "id": "4510679d",
   "metadata": {},
   "outputs": [
    {
     "data": {
      "text/plain": [
       "32"
      ]
     },
     "execution_count": 103,
     "metadata": {},
     "output_type": "execute_result"
    }
   ],
   "source": [
    "arr4.size"
   ]
  },
  {
   "cell_type": "code",
   "execution_count": 104,
   "id": "f6f537e8",
   "metadata": {},
   "outputs": [
    {
     "data": {
      "text/plain": [
       "(1, 4, 2, 4)"
      ]
     },
     "execution_count": 104,
     "metadata": {},
     "output_type": "execute_result"
    }
   ],
   "source": [
    "arr4.shape"
   ]
  },
  {
   "cell_type": "code",
   "execution_count": 105,
   "id": "55b84f1f",
   "metadata": {},
   "outputs": [
    {
     "data": {
      "text/plain": [
       "dtype('int64')"
      ]
     },
     "execution_count": 105,
     "metadata": {},
     "output_type": "execute_result"
    }
   ],
   "source": [
    "arr4.dtype"
   ]
  },
  {
   "cell_type": "code",
   "execution_count": 106,
   "id": "104e56a5",
   "metadata": {},
   "outputs": [
    {
     "data": {
      "text/plain": [
       "[0, 1, 2, 3, 4]"
      ]
     },
     "execution_count": 106,
     "metadata": {},
     "output_type": "execute_result"
    }
   ],
   "source": [
    "list(range(5))"
   ]
  },
  {
   "cell_type": "code",
   "execution_count": 107,
   "id": "e56c2c1f",
   "metadata": {},
   "outputs": [
    {
     "ename": "TypeError",
     "evalue": "'float' object cannot be interpreted as an integer",
     "output_type": "error",
     "traceback": [
      "\u001b[0;31m---------------------------------------------------------------------------\u001b[0m",
      "\u001b[0;31mTypeError\u001b[0m                                 Traceback (most recent call last)",
      "\u001b[0;32m/var/folders/g0/424mq_gn0jq76h7qlxtqdg_h0000gn/T/ipykernel_15477/2563226345.py\u001b[0m in \u001b[0;36m<module>\u001b[0;34m\u001b[0m\n\u001b[0;32m----> 1\u001b[0;31m \u001b[0mlist\u001b[0m\u001b[0;34m(\u001b[0m\u001b[0mrange\u001b[0m\u001b[0;34m(\u001b[0m\u001b[0;36m6.6\u001b[0m\u001b[0;34m,\u001b[0m\u001b[0;36m9\u001b[0m\u001b[0;34m,\u001b[0m\u001b[0;36m.3\u001b[0m\u001b[0;34m)\u001b[0m\u001b[0;34m)\u001b[0m\u001b[0;34m\u001b[0m\u001b[0;34m\u001b[0m\u001b[0m\n\u001b[0m",
      "\u001b[0;31mTypeError\u001b[0m: 'float' object cannot be interpreted as an integer"
     ]
    }
   ],
   "source": [
    "list(range(6.6,9,.3))"
   ]
  },
  {
   "cell_type": "code",
   "execution_count": 109,
   "id": "dcf211cb",
   "metadata": {},
   "outputs": [
    {
     "data": {
      "text/plain": [
       "array([0., 1., 2., 3., 4., 5., 6.])"
      ]
     },
     "execution_count": 109,
     "metadata": {},
     "output_type": "execute_result"
    }
   ],
   "source": [
    "np.arange(6.6)"
   ]
  },
  {
   "cell_type": "code",
   "execution_count": 110,
   "id": "8aba4e0b",
   "metadata": {},
   "outputs": [
    {
     "data": {
      "text/plain": [
       "array([6.6, 6.9, 7.2, 7.5, 7.8, 8.1, 8.4, 8.7, 9. ])"
      ]
     },
     "execution_count": 110,
     "metadata": {},
     "output_type": "execute_result"
    }
   ],
   "source": [
    "np.arange(6.6,9,.3) # In case of floating value upper bound (9) is going to consider."
   ]
  },
  {
   "cell_type": "code",
   "execution_count": 114,
   "id": "66e44220",
   "metadata": {},
   "outputs": [
    {
     "data": {
      "text/plain": [
       "array([], dtype=float64)"
      ]
     },
     "execution_count": 114,
     "metadata": {},
     "output_type": "execute_result"
    }
   ],
   "source": [
    "np.arange(6.6,9,-.3) # It will give us blank as we aware about the scaling concept.+ve/-ve direction"
   ]
  },
  {
   "cell_type": "code",
   "execution_count": 113,
   "id": "51575dc4",
   "metadata": {},
   "outputs": [
    {
     "data": {
      "text/plain": [
       "array([9. , 8.7, 8.4, 8.1, 7.8, 7.5, 7.2, 6.9, 6.6])"
      ]
     },
     "execution_count": 113,
     "metadata": {},
     "output_type": "execute_result"
    }
   ],
   "source": [
    "np.arange(9,6.6,-.3) # In case of floating value upper bound (6.6) is going to consider."
   ]
  },
  {
   "cell_type": "code",
   "execution_count": 15,
   "id": "4acbf54c",
   "metadata": {},
   "outputs": [
    {
     "data": {
      "text/plain": [
       "array([6, 8])"
      ]
     },
     "execution_count": 15,
     "metadata": {},
     "output_type": "execute_result"
    }
   ],
   "source": [
    "np.arange(6,9,2) # In case of int value upper bound (9) is not going to consider."
   ]
  },
  {
   "cell_type": "code",
   "execution_count": 16,
   "id": "5608bf8a",
   "metadata": {},
   "outputs": [
    {
     "data": {
      "text/plain": [
       "array([], dtype=int64)"
      ]
     },
     "execution_count": 16,
     "metadata": {},
     "output_type": "execute_result"
    }
   ],
   "source": [
    "np.arange(6,9,-2)  # It will give us blank as we aware about the scaling concept.+ve/-ve direction."
   ]
  },
  {
   "cell_type": "code",
   "execution_count": 115,
   "id": "388487a7",
   "metadata": {},
   "outputs": [
    {
     "data": {
      "text/plain": [
       "array([ 1.  ,  3.25,  5.5 ,  7.75, 10.  ])"
      ]
     },
     "execution_count": 115,
     "metadata": {},
     "output_type": "execute_result"
    }
   ],
   "source": [
    "np.linspace(1,10,5)  # It means produce 5 value between 1,10 with equal differences."
   ]
  },
  {
   "cell_type": "code",
   "execution_count": 116,
   "id": "ab45bbb6",
   "metadata": {},
   "outputs": [
    {
     "data": {
      "text/plain": [
       "array([0., 0., 0., 0., 0.])"
      ]
     },
     "execution_count": 116,
     "metadata": {},
     "output_type": "execute_result"
    }
   ],
   "source": [
    "np.zeros(5)"
   ]
  },
  {
   "cell_type": "code",
   "execution_count": 117,
   "id": "5082da36",
   "metadata": {},
   "outputs": [
    {
     "data": {
      "text/plain": [
       "array([[[0., 0., 0., 0.],\n",
       "        [0., 0., 0., 0.],\n",
       "        [0., 0., 0., 0.],\n",
       "        [0., 0., 0., 0.],\n",
       "        [0., 0., 0., 0.]],\n",
       "\n",
       "       [[0., 0., 0., 0.],\n",
       "        [0., 0., 0., 0.],\n",
       "        [0., 0., 0., 0.],\n",
       "        [0., 0., 0., 0.],\n",
       "        [0., 0., 0., 0.]]])"
      ]
     },
     "execution_count": 117,
     "metadata": {},
     "output_type": "execute_result"
    }
   ],
   "source": [
    "np.zeros((2,5,4))"
   ]
  },
  {
   "cell_type": "code",
   "execution_count": 125,
   "id": "230c7852",
   "metadata": {
    "scrolled": true
   },
   "outputs": [
    {
     "data": {
      "text/plain": [
       "array([[[[0.],\n",
       "         [0.],\n",
       "         [0.],\n",
       "         [0.]],\n",
       "\n",
       "        [[0.],\n",
       "         [0.],\n",
       "         [0.],\n",
       "         [0.]],\n",
       "\n",
       "        [[0.],\n",
       "         [0.],\n",
       "         [0.],\n",
       "         [0.]],\n",
       "\n",
       "        [[0.],\n",
       "         [0.],\n",
       "         [0.],\n",
       "         [0.]],\n",
       "\n",
       "        [[0.],\n",
       "         [0.],\n",
       "         [0.],\n",
       "         [0.]]],\n",
       "\n",
       "\n",
       "       [[[0.],\n",
       "         [0.],\n",
       "         [0.],\n",
       "         [0.]],\n",
       "\n",
       "        [[0.],\n",
       "         [0.],\n",
       "         [0.],\n",
       "         [0.]],\n",
       "\n",
       "        [[0.],\n",
       "         [0.],\n",
       "         [0.],\n",
       "         [0.]],\n",
       "\n",
       "        [[0.],\n",
       "         [0.],\n",
       "         [0.],\n",
       "         [0.]],\n",
       "\n",
       "        [[0.],\n",
       "         [0.],\n",
       "         [0.],\n",
       "         [0.]]]])"
      ]
     },
     "execution_count": 125,
     "metadata": {},
     "output_type": "execute_result"
    }
   ],
   "source": [
    "np.zeros((2,5,4,1))"
   ]
  },
  {
   "cell_type": "code",
   "execution_count": 118,
   "id": "cd0f0b02",
   "metadata": {},
   "outputs": [
    {
     "data": {
      "text/plain": [
       "array([1., 1., 1., 1.])"
      ]
     },
     "execution_count": 118,
     "metadata": {},
     "output_type": "execute_result"
    }
   ],
   "source": [
    "np.ones(4)"
   ]
  },
  {
   "cell_type": "code",
   "execution_count": 128,
   "id": "eea5416b",
   "metadata": {
    "scrolled": true
   },
   "outputs": [
    {
     "data": {
      "text/plain": [
       "array([[[1.],\n",
       "        [1.],\n",
       "        [1.]],\n",
       "\n",
       "       [[1.],\n",
       "        [1.],\n",
       "        [1.]]])"
      ]
     },
     "execution_count": 128,
     "metadata": {},
     "output_type": "execute_result"
    }
   ],
   "source": [
    "np.ones((2,3,1))"
   ]
  },
  {
   "cell_type": "code",
   "execution_count": 119,
   "id": "0e9ec2fc",
   "metadata": {},
   "outputs": [
    {
     "data": {
      "text/plain": [
       "array([[[6.],\n",
       "        [6.],\n",
       "        [6.]],\n",
       "\n",
       "       [[6.],\n",
       "        [6.],\n",
       "        [6.]]])"
      ]
     },
     "execution_count": 119,
     "metadata": {},
     "output_type": "execute_result"
    }
   ],
   "source": [
    "np.ones((2,3,1)) + 5"
   ]
  },
  {
   "cell_type": "code",
   "execution_count": 120,
   "id": "c867b8c1",
   "metadata": {},
   "outputs": [
    {
     "data": {
      "text/plain": [
       "array([0., 0., 0., 0., 0.])"
      ]
     },
     "execution_count": 120,
     "metadata": {},
     "output_type": "execute_result"
    }
   ],
   "source": [
    "np.empty(5)"
   ]
  },
  {
   "cell_type": "code",
   "execution_count": 121,
   "id": "3f1f8f5c",
   "metadata": {},
   "outputs": [
    {
     "data": {
      "text/plain": [
       "array([[0.00000000e+000, 2.96439388e-323, 0.00000000e+000,\n",
       "        0.00000000e+000],\n",
       "       [8.48798316e-313, 6.82116729e-043, 7.73684658e-091,\n",
       "        4.74989402e-037],\n",
       "       [2.36689902e+179, 4.11633523e+179, 3.99910963e+252,\n",
       "        1.16187641e+295]])"
      ]
     },
     "execution_count": 121,
     "metadata": {},
     "output_type": "execute_result"
    }
   ],
   "source": [
    "np.empty((3,4))"
   ]
  },
  {
   "cell_type": "code",
   "execution_count": 122,
   "id": "b924b231",
   "metadata": {},
   "outputs": [
    {
     "data": {
      "text/plain": [
       "array([[1., 0., 0.],\n",
       "       [0., 1., 0.],\n",
       "       [0., 0., 1.]])"
      ]
     },
     "execution_count": 122,
     "metadata": {},
     "output_type": "execute_result"
    }
   ],
   "source": [
    "np.eye(3) # Identity matrix. 3 means (3*3)"
   ]
  },
  {
   "cell_type": "code",
   "execution_count": 134,
   "id": "9d015a52",
   "metadata": {},
   "outputs": [
    {
     "data": {
      "text/plain": [
       "array([1.  , 2.25, 3.5 , 4.75])"
      ]
     },
     "execution_count": 134,
     "metadata": {},
     "output_type": "execute_result"
    }
   ],
   "source": [
    "np.linspace(1,6,4,endpoint=False,axis=0)"
   ]
  },
  {
   "cell_type": "code",
   "execution_count": 135,
   "id": "760eb2fa",
   "metadata": {
    "scrolled": true
   },
   "outputs": [
    {
     "ename": "AxisError",
     "evalue": "destination: axis 1 is out of bounds for array of dimension 1",
     "output_type": "error",
     "traceback": [
      "\u001b[0;31m---------------------------------------------------------------------------\u001b[0m",
      "\u001b[0;31mAxisError\u001b[0m                                 Traceback (most recent call last)",
      "\u001b[0;32m/var/folders/g0/424mq_gn0jq76h7qlxtqdg_h0000gn/T/ipykernel_15477/2948441408.py\u001b[0m in \u001b[0;36m<module>\u001b[0;34m\u001b[0m\n\u001b[0;32m----> 1\u001b[0;31m \u001b[0mnp\u001b[0m\u001b[0;34m.\u001b[0m\u001b[0mlinspace\u001b[0m\u001b[0;34m(\u001b[0m\u001b[0;36m1\u001b[0m\u001b[0;34m,\u001b[0m\u001b[0;36m6\u001b[0m\u001b[0;34m,\u001b[0m\u001b[0;36m4\u001b[0m\u001b[0;34m,\u001b[0m\u001b[0mendpoint\u001b[0m\u001b[0;34m=\u001b[0m\u001b[0;32mFalse\u001b[0m\u001b[0;34m,\u001b[0m\u001b[0maxis\u001b[0m\u001b[0;34m=\u001b[0m\u001b[0;36m1\u001b[0m\u001b[0;34m)\u001b[0m\u001b[0;34m\u001b[0m\u001b[0;34m\u001b[0m\u001b[0m\n\u001b[0m",
      "\u001b[0;32m<__array_function__ internals>\u001b[0m in \u001b[0;36mlinspace\u001b[0;34m(*args, **kwargs)\u001b[0m\n",
      "\u001b[0;32m/opt/anaconda3/lib/python3.7/site-packages/numpy/core/function_base.py\u001b[0m in \u001b[0;36mlinspace\u001b[0;34m(start, stop, num, endpoint, retstep, dtype, axis)\u001b[0m\n\u001b[1;32m    165\u001b[0m \u001b[0;34m\u001b[0m\u001b[0m\n\u001b[1;32m    166\u001b[0m     \u001b[0;32mif\u001b[0m \u001b[0maxis\u001b[0m \u001b[0;34m!=\u001b[0m \u001b[0;36m0\u001b[0m\u001b[0;34m:\u001b[0m\u001b[0;34m\u001b[0m\u001b[0;34m\u001b[0m\u001b[0m\n\u001b[0;32m--> 167\u001b[0;31m         \u001b[0my\u001b[0m \u001b[0;34m=\u001b[0m \u001b[0m_nx\u001b[0m\u001b[0;34m.\u001b[0m\u001b[0mmoveaxis\u001b[0m\u001b[0;34m(\u001b[0m\u001b[0my\u001b[0m\u001b[0;34m,\u001b[0m \u001b[0;36m0\u001b[0m\u001b[0;34m,\u001b[0m \u001b[0maxis\u001b[0m\u001b[0;34m)\u001b[0m\u001b[0;34m\u001b[0m\u001b[0;34m\u001b[0m\u001b[0m\n\u001b[0m\u001b[1;32m    168\u001b[0m \u001b[0;34m\u001b[0m\u001b[0m\n\u001b[1;32m    169\u001b[0m     \u001b[0;32mif\u001b[0m \u001b[0m_nx\u001b[0m\u001b[0;34m.\u001b[0m\u001b[0missubdtype\u001b[0m\u001b[0;34m(\u001b[0m\u001b[0mdtype\u001b[0m\u001b[0;34m,\u001b[0m \u001b[0m_nx\u001b[0m\u001b[0;34m.\u001b[0m\u001b[0minteger\u001b[0m\u001b[0;34m)\u001b[0m\u001b[0;34m:\u001b[0m\u001b[0;34m\u001b[0m\u001b[0;34m\u001b[0m\u001b[0m\n",
      "\u001b[0;32m<__array_function__ internals>\u001b[0m in \u001b[0;36mmoveaxis\u001b[0;34m(*args, **kwargs)\u001b[0m\n",
      "\u001b[0;32m/opt/anaconda3/lib/python3.7/site-packages/numpy/core/numeric.py\u001b[0m in \u001b[0;36mmoveaxis\u001b[0;34m(a, source, destination)\u001b[0m\n\u001b[1;32m   1460\u001b[0m \u001b[0;34m\u001b[0m\u001b[0m\n\u001b[1;32m   1461\u001b[0m     \u001b[0msource\u001b[0m \u001b[0;34m=\u001b[0m \u001b[0mnormalize_axis_tuple\u001b[0m\u001b[0;34m(\u001b[0m\u001b[0msource\u001b[0m\u001b[0;34m,\u001b[0m \u001b[0ma\u001b[0m\u001b[0;34m.\u001b[0m\u001b[0mndim\u001b[0m\u001b[0;34m,\u001b[0m \u001b[0;34m'source'\u001b[0m\u001b[0;34m)\u001b[0m\u001b[0;34m\u001b[0m\u001b[0;34m\u001b[0m\u001b[0m\n\u001b[0;32m-> 1462\u001b[0;31m     \u001b[0mdestination\u001b[0m \u001b[0;34m=\u001b[0m \u001b[0mnormalize_axis_tuple\u001b[0m\u001b[0;34m(\u001b[0m\u001b[0mdestination\u001b[0m\u001b[0;34m,\u001b[0m \u001b[0ma\u001b[0m\u001b[0;34m.\u001b[0m\u001b[0mndim\u001b[0m\u001b[0;34m,\u001b[0m \u001b[0;34m'destination'\u001b[0m\u001b[0;34m)\u001b[0m\u001b[0;34m\u001b[0m\u001b[0;34m\u001b[0m\u001b[0m\n\u001b[0m\u001b[1;32m   1463\u001b[0m     \u001b[0;32mif\u001b[0m \u001b[0mlen\u001b[0m\u001b[0;34m(\u001b[0m\u001b[0msource\u001b[0m\u001b[0;34m)\u001b[0m \u001b[0;34m!=\u001b[0m \u001b[0mlen\u001b[0m\u001b[0;34m(\u001b[0m\u001b[0mdestination\u001b[0m\u001b[0;34m)\u001b[0m\u001b[0;34m:\u001b[0m\u001b[0;34m\u001b[0m\u001b[0;34m\u001b[0m\u001b[0m\n\u001b[1;32m   1464\u001b[0m         raise ValueError('`source` and `destination` arguments must have '\n",
      "\u001b[0;32m/opt/anaconda3/lib/python3.7/site-packages/numpy/core/numeric.py\u001b[0m in \u001b[0;36mnormalize_axis_tuple\u001b[0;34m(axis, ndim, argname, allow_duplicate)\u001b[0m\n\u001b[1;32m   1389\u001b[0m             \u001b[0;32mpass\u001b[0m\u001b[0;34m\u001b[0m\u001b[0;34m\u001b[0m\u001b[0m\n\u001b[1;32m   1390\u001b[0m     \u001b[0;31m# Going via an iterator directly is slower than via list comprehension.\u001b[0m\u001b[0;34m\u001b[0m\u001b[0;34m\u001b[0m\u001b[0;34m\u001b[0m\u001b[0m\n\u001b[0;32m-> 1391\u001b[0;31m     \u001b[0maxis\u001b[0m \u001b[0;34m=\u001b[0m \u001b[0mtuple\u001b[0m\u001b[0;34m(\u001b[0m\u001b[0;34m[\u001b[0m\u001b[0mnormalize_axis_index\u001b[0m\u001b[0;34m(\u001b[0m\u001b[0max\u001b[0m\u001b[0;34m,\u001b[0m \u001b[0mndim\u001b[0m\u001b[0;34m,\u001b[0m \u001b[0margname\u001b[0m\u001b[0;34m)\u001b[0m \u001b[0;32mfor\u001b[0m \u001b[0max\u001b[0m \u001b[0;32min\u001b[0m \u001b[0maxis\u001b[0m\u001b[0;34m]\u001b[0m\u001b[0;34m)\u001b[0m\u001b[0;34m\u001b[0m\u001b[0;34m\u001b[0m\u001b[0m\n\u001b[0m\u001b[1;32m   1392\u001b[0m     \u001b[0;32mif\u001b[0m \u001b[0;32mnot\u001b[0m \u001b[0mallow_duplicate\u001b[0m \u001b[0;32mand\u001b[0m \u001b[0mlen\u001b[0m\u001b[0;34m(\u001b[0m\u001b[0mset\u001b[0m\u001b[0;34m(\u001b[0m\u001b[0maxis\u001b[0m\u001b[0;34m)\u001b[0m\u001b[0;34m)\u001b[0m \u001b[0;34m!=\u001b[0m \u001b[0mlen\u001b[0m\u001b[0;34m(\u001b[0m\u001b[0maxis\u001b[0m\u001b[0;34m)\u001b[0m\u001b[0;34m:\u001b[0m\u001b[0;34m\u001b[0m\u001b[0;34m\u001b[0m\u001b[0m\n\u001b[1;32m   1393\u001b[0m         \u001b[0;32mif\u001b[0m \u001b[0margname\u001b[0m\u001b[0;34m:\u001b[0m\u001b[0;34m\u001b[0m\u001b[0;34m\u001b[0m\u001b[0m\n",
      "\u001b[0;32m/opt/anaconda3/lib/python3.7/site-packages/numpy/core/numeric.py\u001b[0m in \u001b[0;36m<listcomp>\u001b[0;34m(.0)\u001b[0m\n\u001b[1;32m   1389\u001b[0m             \u001b[0;32mpass\u001b[0m\u001b[0;34m\u001b[0m\u001b[0;34m\u001b[0m\u001b[0m\n\u001b[1;32m   1390\u001b[0m     \u001b[0;31m# Going via an iterator directly is slower than via list comprehension.\u001b[0m\u001b[0;34m\u001b[0m\u001b[0;34m\u001b[0m\u001b[0;34m\u001b[0m\u001b[0m\n\u001b[0;32m-> 1391\u001b[0;31m     \u001b[0maxis\u001b[0m \u001b[0;34m=\u001b[0m \u001b[0mtuple\u001b[0m\u001b[0;34m(\u001b[0m\u001b[0;34m[\u001b[0m\u001b[0mnormalize_axis_index\u001b[0m\u001b[0;34m(\u001b[0m\u001b[0max\u001b[0m\u001b[0;34m,\u001b[0m \u001b[0mndim\u001b[0m\u001b[0;34m,\u001b[0m \u001b[0margname\u001b[0m\u001b[0;34m)\u001b[0m \u001b[0;32mfor\u001b[0m \u001b[0max\u001b[0m \u001b[0;32min\u001b[0m \u001b[0maxis\u001b[0m\u001b[0;34m]\u001b[0m\u001b[0;34m)\u001b[0m\u001b[0;34m\u001b[0m\u001b[0;34m\u001b[0m\u001b[0m\n\u001b[0m\u001b[1;32m   1392\u001b[0m     \u001b[0;32mif\u001b[0m \u001b[0;32mnot\u001b[0m \u001b[0mallow_duplicate\u001b[0m \u001b[0;32mand\u001b[0m \u001b[0mlen\u001b[0m\u001b[0;34m(\u001b[0m\u001b[0mset\u001b[0m\u001b[0;34m(\u001b[0m\u001b[0maxis\u001b[0m\u001b[0;34m)\u001b[0m\u001b[0;34m)\u001b[0m \u001b[0;34m!=\u001b[0m \u001b[0mlen\u001b[0m\u001b[0;34m(\u001b[0m\u001b[0maxis\u001b[0m\u001b[0;34m)\u001b[0m\u001b[0;34m:\u001b[0m\u001b[0;34m\u001b[0m\u001b[0;34m\u001b[0m\u001b[0m\n\u001b[1;32m   1393\u001b[0m         \u001b[0;32mif\u001b[0m \u001b[0margname\u001b[0m\u001b[0;34m:\u001b[0m\u001b[0;34m\u001b[0m\u001b[0;34m\u001b[0m\u001b[0m\n",
      "\u001b[0;31mAxisError\u001b[0m: destination: axis 1 is out of bounds for array of dimension 1"
     ]
    }
   ],
   "source": [
    "np.linspace(1,6,4,endpoint=False,axis=1) # It will give us error."
   ]
  },
  {
   "cell_type": "code",
   "execution_count": 24,
   "id": "a9f504d1",
   "metadata": {
    "scrolled": true
   },
   "outputs": [
    {
     "data": {
      "text/plain": [
       "array([[1.  , 6.  ],\n",
       "       [1.06, 5.96],\n",
       "       [1.12, 5.92],\n",
       "       [1.18, 5.88],\n",
       "       [1.24, 5.84],\n",
       "       [1.3 , 5.8 ],\n",
       "       [1.36, 5.76],\n",
       "       [1.42, 5.72],\n",
       "       [1.48, 5.68],\n",
       "       [1.54, 5.64],\n",
       "       [1.6 , 5.6 ],\n",
       "       [1.66, 5.56],\n",
       "       [1.72, 5.52],\n",
       "       [1.78, 5.48],\n",
       "       [1.84, 5.44],\n",
       "       [1.9 , 5.4 ],\n",
       "       [1.96, 5.36],\n",
       "       [2.02, 5.32],\n",
       "       [2.08, 5.28],\n",
       "       [2.14, 5.24],\n",
       "       [2.2 , 5.2 ],\n",
       "       [2.26, 5.16],\n",
       "       [2.32, 5.12],\n",
       "       [2.38, 5.08],\n",
       "       [2.44, 5.04],\n",
       "       [2.5 , 5.  ],\n",
       "       [2.56, 4.96],\n",
       "       [2.62, 4.92],\n",
       "       [2.68, 4.88],\n",
       "       [2.74, 4.84],\n",
       "       [2.8 , 4.8 ],\n",
       "       [2.86, 4.76],\n",
       "       [2.92, 4.72],\n",
       "       [2.98, 4.68],\n",
       "       [3.04, 4.64],\n",
       "       [3.1 , 4.6 ],\n",
       "       [3.16, 4.56],\n",
       "       [3.22, 4.52],\n",
       "       [3.28, 4.48],\n",
       "       [3.34, 4.44],\n",
       "       [3.4 , 4.4 ],\n",
       "       [3.46, 4.36],\n",
       "       [3.52, 4.32],\n",
       "       [3.58, 4.28],\n",
       "       [3.64, 4.24],\n",
       "       [3.7 , 4.2 ],\n",
       "       [3.76, 4.16],\n",
       "       [3.82, 4.12],\n",
       "       [3.88, 4.08],\n",
       "       [3.94, 4.04]])"
      ]
     },
     "execution_count": 24,
     "metadata": {},
     "output_type": "execute_result"
    }
   ],
   "source": [
    "np.linspace([1,6],4,endpoint=False,axis=0) #??"
   ]
  },
  {
   "cell_type": "code",
   "execution_count": 23,
   "id": "1685cad0",
   "metadata": {},
   "outputs": [
    {
     "data": {
      "text/plain": [
       "array([[1.  , 1.06, 1.12, 1.18, 1.24, 1.3 , 1.36, 1.42, 1.48, 1.54, 1.6 ,\n",
       "        1.66, 1.72, 1.78, 1.84, 1.9 , 1.96, 2.02, 2.08, 2.14, 2.2 , 2.26,\n",
       "        2.32, 2.38, 2.44, 2.5 , 2.56, 2.62, 2.68, 2.74, 2.8 , 2.86, 2.92,\n",
       "        2.98, 3.04, 3.1 , 3.16, 3.22, 3.28, 3.34, 3.4 , 3.46, 3.52, 3.58,\n",
       "        3.64, 3.7 , 3.76, 3.82, 3.88, 3.94],\n",
       "       [6.  , 5.96, 5.92, 5.88, 5.84, 5.8 , 5.76, 5.72, 5.68, 5.64, 5.6 ,\n",
       "        5.56, 5.52, 5.48, 5.44, 5.4 , 5.36, 5.32, 5.28, 5.24, 5.2 , 5.16,\n",
       "        5.12, 5.08, 5.04, 5.  , 4.96, 4.92, 4.88, 4.84, 4.8 , 4.76, 4.72,\n",
       "        4.68, 4.64, 4.6 , 4.56, 4.52, 4.48, 4.44, 4.4 , 4.36, 4.32, 4.28,\n",
       "        4.24, 4.2 , 4.16, 4.12, 4.08, 4.04]])"
      ]
     },
     "execution_count": 23,
     "metadata": {},
     "output_type": "execute_result"
    }
   ],
   "source": [
    "np.linspace([1,6],4,endpoint=False,axis=1) #??"
   ]
  },
  {
   "cell_type": "code",
   "execution_count": 146,
   "id": "bb6aaaa4",
   "metadata": {
    "scrolled": true
   },
   "outputs": [
    {
     "data": {
      "text/plain": [
       "array([[1.        , 6.        ],\n",
       "       [1.06122449, 5.95918367],\n",
       "       [1.12244898, 5.91836735],\n",
       "       [1.18367347, 5.87755102],\n",
       "       [1.24489796, 5.83673469],\n",
       "       [1.30612245, 5.79591837],\n",
       "       [1.36734694, 5.75510204],\n",
       "       [1.42857143, 5.71428571],\n",
       "       [1.48979592, 5.67346939],\n",
       "       [1.55102041, 5.63265306],\n",
       "       [1.6122449 , 5.59183673],\n",
       "       [1.67346939, 5.55102041],\n",
       "       [1.73469388, 5.51020408],\n",
       "       [1.79591837, 5.46938776],\n",
       "       [1.85714286, 5.42857143],\n",
       "       [1.91836735, 5.3877551 ],\n",
       "       [1.97959184, 5.34693878],\n",
       "       [2.04081633, 5.30612245],\n",
       "       [2.10204082, 5.26530612],\n",
       "       [2.16326531, 5.2244898 ],\n",
       "       [2.2244898 , 5.18367347],\n",
       "       [2.28571429, 5.14285714],\n",
       "       [2.34693878, 5.10204082],\n",
       "       [2.40816327, 5.06122449],\n",
       "       [2.46938776, 5.02040816],\n",
       "       [2.53061224, 4.97959184],\n",
       "       [2.59183673, 4.93877551],\n",
       "       [2.65306122, 4.89795918],\n",
       "       [2.71428571, 4.85714286],\n",
       "       [2.7755102 , 4.81632653],\n",
       "       [2.83673469, 4.7755102 ],\n",
       "       [2.89795918, 4.73469388],\n",
       "       [2.95918367, 4.69387755],\n",
       "       [3.02040816, 4.65306122],\n",
       "       [3.08163265, 4.6122449 ],\n",
       "       [3.14285714, 4.57142857],\n",
       "       [3.20408163, 4.53061224],\n",
       "       [3.26530612, 4.48979592],\n",
       "       [3.32653061, 4.44897959],\n",
       "       [3.3877551 , 4.40816327],\n",
       "       [3.44897959, 4.36734694],\n",
       "       [3.51020408, 4.32653061],\n",
       "       [3.57142857, 4.28571429],\n",
       "       [3.63265306, 4.24489796],\n",
       "       [3.69387755, 4.20408163],\n",
       "       [3.75510204, 4.16326531],\n",
       "       [3.81632653, 4.12244898],\n",
       "       [3.87755102, 4.08163265],\n",
       "       [3.93877551, 4.04081633],\n",
       "       [4.        , 4.        ]])"
      ]
     },
     "execution_count": 146,
     "metadata": {},
     "output_type": "execute_result"
    }
   ],
   "source": [
    "np.linspace([1,6],4,endpoint=True,axis=0)"
   ]
  },
  {
   "cell_type": "code",
   "execution_count": 143,
   "id": "612a07ae",
   "metadata": {
    "scrolled": true
   },
   "outputs": [
    {
     "data": {
      "text/plain": [
       "array([[1.        , 1.06122449, 1.12244898, 1.18367347, 1.24489796,\n",
       "        1.30612245, 1.36734694, 1.42857143, 1.48979592, 1.55102041,\n",
       "        1.6122449 , 1.67346939, 1.73469388, 1.79591837, 1.85714286,\n",
       "        1.91836735, 1.97959184, 2.04081633, 2.10204082, 2.16326531,\n",
       "        2.2244898 , 2.28571429, 2.34693878, 2.40816327, 2.46938776,\n",
       "        2.53061224, 2.59183673, 2.65306122, 2.71428571, 2.7755102 ,\n",
       "        2.83673469, 2.89795918, 2.95918367, 3.02040816, 3.08163265,\n",
       "        3.14285714, 3.20408163, 3.26530612, 3.32653061, 3.3877551 ,\n",
       "        3.44897959, 3.51020408, 3.57142857, 3.63265306, 3.69387755,\n",
       "        3.75510204, 3.81632653, 3.87755102, 3.93877551, 4.        ],\n",
       "       [6.        , 5.95918367, 5.91836735, 5.87755102, 5.83673469,\n",
       "        5.79591837, 5.75510204, 5.71428571, 5.67346939, 5.63265306,\n",
       "        5.59183673, 5.55102041, 5.51020408, 5.46938776, 5.42857143,\n",
       "        5.3877551 , 5.34693878, 5.30612245, 5.26530612, 5.2244898 ,\n",
       "        5.18367347, 5.14285714, 5.10204082, 5.06122449, 5.02040816,\n",
       "        4.97959184, 4.93877551, 4.89795918, 4.85714286, 4.81632653,\n",
       "        4.7755102 , 4.73469388, 4.69387755, 4.65306122, 4.6122449 ,\n",
       "        4.57142857, 4.53061224, 4.48979592, 4.44897959, 4.40816327,\n",
       "        4.36734694, 4.32653061, 4.28571429, 4.24489796, 4.20408163,\n",
       "        4.16326531, 4.12244898, 4.08163265, 4.04081633, 4.        ]])"
      ]
     },
     "execution_count": 143,
     "metadata": {},
     "output_type": "execute_result"
    }
   ],
   "source": [
    "np.linspace([1,6],4,endpoint=True,axis=1)"
   ]
  },
  {
   "cell_type": "code",
   "execution_count": 159,
   "id": "9daa7296",
   "metadata": {},
   "outputs": [
    {
     "data": {
      "text/plain": [
       "array([   100.        ,    215.443469  ,    464.15888336,   1000.        ,\n",
       "         2154.43469003,   4641.58883361,  10000.        ,  21544.34690032,\n",
       "        46415.88833613, 100000.        ])"
      ]
     },
     "execution_count": 159,
     "metadata": {},
     "output_type": "execute_result"
    }
   ],
   "source": [
    "np.logspace(2,5,10)"
   ]
  },
  {
   "cell_type": "code",
   "execution_count": 147,
   "id": "a29136a9",
   "metadata": {
    "scrolled": true
   },
   "outputs": [
    {
     "data": {
      "text/plain": [
       "array([[ 100.        ],\n",
       "       [ 104.81131342],\n",
       "       [ 109.8541142 ],\n",
       "       [ 115.13953993],\n",
       "       [ 120.67926406],\n",
       "       [ 126.48552169],\n",
       "       [ 132.57113656],\n",
       "       [ 138.94954944],\n",
       "       [ 145.63484775],\n",
       "       [ 152.64179672],\n",
       "       [ 159.98587196],\n",
       "       [ 167.68329368],\n",
       "       [ 175.75106249],\n",
       "       [ 184.20699693],\n",
       "       [ 193.06977289],\n",
       "       [ 202.35896477],\n",
       "       [ 212.09508879],\n",
       "       [ 222.29964825],\n",
       "       [ 232.99518105],\n",
       "       [ 244.20530945],\n",
       "       [ 255.95479227],\n",
       "       [ 268.26957953],\n",
       "       [ 281.1768698 ],\n",
       "       [ 294.70517026],\n",
       "       [ 308.88435965],\n",
       "       [ 323.74575428],\n",
       "       [ 339.32217719],\n",
       "       [ 355.64803062],\n",
       "       [ 372.75937203],\n",
       "       [ 390.69399371],\n",
       "       [ 409.49150624],\n",
       "       [ 429.19342601],\n",
       "       [ 449.8432669 ],\n",
       "       [ 471.48663635],\n",
       "       [ 494.17133613],\n",
       "       [ 517.94746792],\n",
       "       [ 542.86754393],\n",
       "       [ 568.9866029 ],\n",
       "       [ 596.36233166],\n",
       "       [ 625.05519253],\n",
       "       [ 655.12855686],\n",
       "       [ 686.648845  ],\n",
       "       [ 719.685673  ],\n",
       "       [ 754.31200634],\n",
       "       [ 790.60432109],\n",
       "       [ 828.64277285],\n",
       "       [ 868.51137375],\n",
       "       [ 910.29817799],\n",
       "       [ 954.09547635],\n",
       "       [1000.        ]])"
      ]
     },
     "execution_count": 147,
     "metadata": {},
     "output_type": "execute_result"
    }
   ],
   "source": [
    "np.logspace([2],[3] ,axis = 0)"
   ]
  },
  {
   "cell_type": "code",
   "execution_count": 148,
   "id": "89ccf405",
   "metadata": {},
   "outputs": [
    {
     "data": {
      "text/plain": [
       "array([[ 100.        ,  104.81131342,  109.8541142 ,  115.13953993,\n",
       "         120.67926406,  126.48552169,  132.57113656,  138.94954944,\n",
       "         145.63484775,  152.64179672,  159.98587196,  167.68329368,\n",
       "         175.75106249,  184.20699693,  193.06977289,  202.35896477,\n",
       "         212.09508879,  222.29964825,  232.99518105,  244.20530945,\n",
       "         255.95479227,  268.26957953,  281.1768698 ,  294.70517026,\n",
       "         308.88435965,  323.74575428,  339.32217719,  355.64803062,\n",
       "         372.75937203,  390.69399371,  409.49150624,  429.19342601,\n",
       "         449.8432669 ,  471.48663635,  494.17133613,  517.94746792,\n",
       "         542.86754393,  568.9866029 ,  596.36233166,  625.05519253,\n",
       "         655.12855686,  686.648845  ,  719.685673  ,  754.31200634,\n",
       "         790.60432109,  828.64277285,  868.51137375,  910.29817799,\n",
       "         954.09547635, 1000.        ]])"
      ]
     },
     "execution_count": 148,
     "metadata": {},
     "output_type": "execute_result"
    }
   ],
   "source": [
    "np.logspace([2],[3] ,axis = 1)"
   ]
  },
  {
   "cell_type": "code",
   "execution_count": 149,
   "id": "9937307e",
   "metadata": {},
   "outputs": [
    {
     "data": {
      "text/plain": [
       "array([4.        , 4.07692308, 4.15384615, 4.23076923, 4.30769231,\n",
       "       4.38461538, 4.46153846, 4.53846154, 4.61538462, 4.69230769,\n",
       "       4.76923077, 4.84615385, 4.92307692, 5.        , 5.07692308,\n",
       "       5.15384615, 5.23076923, 5.30769231, 5.38461538, 5.46153846,\n",
       "       5.53846154, 5.61538462, 5.69230769, 5.76923077, 5.84615385,\n",
       "       5.92307692, 6.        , 6.07692308, 6.15384615, 6.23076923,\n",
       "       6.30769231, 6.38461538, 6.46153846, 6.53846154, 6.61538462,\n",
       "       6.69230769, 6.76923077, 6.84615385, 6.92307692, 7.        ])"
      ]
     },
     "execution_count": 149,
     "metadata": {},
     "output_type": "execute_result"
    }
   ],
   "source": [
    "d = np.linspace(4,7,40)\n",
    "d"
   ]
  },
  {
   "cell_type": "code",
   "execution_count": 150,
   "id": "0d41e3a7",
   "metadata": {},
   "outputs": [
    {
     "data": {
      "text/plain": [
       "1"
      ]
     },
     "execution_count": 150,
     "metadata": {},
     "output_type": "execute_result"
    }
   ],
   "source": [
    "d.ndim"
   ]
  },
  {
   "cell_type": "code",
   "execution_count": 151,
   "id": "8abcfed2",
   "metadata": {},
   "outputs": [
    {
     "data": {
      "text/plain": [
       "(40,)"
      ]
     },
     "execution_count": 151,
     "metadata": {},
     "output_type": "execute_result"
    }
   ],
   "source": [
    "d.shape"
   ]
  },
  {
   "cell_type": "code",
   "execution_count": 152,
   "id": "3b3cc262",
   "metadata": {
    "scrolled": true
   },
   "outputs": [
    {
     "data": {
      "text/plain": [
       "array([[4.        ],\n",
       "       [4.07692308],\n",
       "       [4.15384615],\n",
       "       [4.23076923],\n",
       "       [4.30769231],\n",
       "       [4.38461538],\n",
       "       [4.46153846],\n",
       "       [4.53846154],\n",
       "       [4.61538462],\n",
       "       [4.69230769],\n",
       "       [4.76923077],\n",
       "       [4.84615385],\n",
       "       [4.92307692],\n",
       "       [5.        ],\n",
       "       [5.07692308],\n",
       "       [5.15384615],\n",
       "       [5.23076923],\n",
       "       [5.30769231],\n",
       "       [5.38461538],\n",
       "       [5.46153846],\n",
       "       [5.53846154],\n",
       "       [5.61538462],\n",
       "       [5.69230769],\n",
       "       [5.76923077],\n",
       "       [5.84615385],\n",
       "       [5.92307692],\n",
       "       [6.        ],\n",
       "       [6.07692308],\n",
       "       [6.15384615],\n",
       "       [6.23076923],\n",
       "       [6.30769231],\n",
       "       [6.38461538],\n",
       "       [6.46153846],\n",
       "       [6.53846154],\n",
       "       [6.61538462],\n",
       "       [6.69230769],\n",
       "       [6.76923077],\n",
       "       [6.84615385],\n",
       "       [6.92307692],\n",
       "       [7.        ]])"
      ]
     },
     "execution_count": 152,
     "metadata": {},
     "output_type": "execute_result"
    }
   ],
   "source": [
    "d.reshape(40,1)"
   ]
  },
  {
   "cell_type": "code",
   "execution_count": 156,
   "id": "50115aa0",
   "metadata": {},
   "outputs": [
    {
     "data": {
      "text/plain": [
       "array([[[4.        , 4.07692308, 4.15384615, 4.23076923, 4.30769231,\n",
       "         4.38461538, 4.46153846, 4.53846154, 4.61538462, 4.69230769],\n",
       "        [4.76923077, 4.84615385, 4.92307692, 5.        , 5.07692308,\n",
       "         5.15384615, 5.23076923, 5.30769231, 5.38461538, 5.46153846],\n",
       "        [5.53846154, 5.61538462, 5.69230769, 5.76923077, 5.84615385,\n",
       "         5.92307692, 6.        , 6.07692308, 6.15384615, 6.23076923],\n",
       "        [6.30769231, 6.38461538, 6.46153846, 6.53846154, 6.61538462,\n",
       "         6.69230769, 6.76923077, 6.84615385, 6.92307692, 7.        ]]])"
      ]
     },
     "execution_count": 156,
     "metadata": {},
     "output_type": "execute_result"
    }
   ],
   "source": [
    "d.reshape(1,4,10)"
   ]
  },
  {
   "cell_type": "code",
   "execution_count": 157,
   "id": "07c64b4c",
   "metadata": {},
   "outputs": [
    {
     "data": {
      "text/plain": [
       "array([[[4.        , 4.07692308, 4.15384615, 4.23076923, 4.30769231,\n",
       "         4.38461538, 4.46153846, 4.53846154, 4.61538462, 4.69230769,\n",
       "         4.76923077, 4.84615385, 4.92307692, 5.        , 5.07692308,\n",
       "         5.15384615, 5.23076923, 5.30769231, 5.38461538, 5.46153846],\n",
       "        [5.53846154, 5.61538462, 5.69230769, 5.76923077, 5.84615385,\n",
       "         5.92307692, 6.        , 6.07692308, 6.15384615, 6.23076923,\n",
       "         6.30769231, 6.38461538, 6.46153846, 6.53846154, 6.61538462,\n",
       "         6.69230769, 6.76923077, 6.84615385, 6.92307692, 7.        ]]])"
      ]
     },
     "execution_count": 157,
     "metadata": {},
     "output_type": "execute_result"
    }
   ],
   "source": [
    "d.reshape(1,2,20)"
   ]
  },
  {
   "cell_type": "code",
   "execution_count": 158,
   "id": "c7a75325",
   "metadata": {},
   "outputs": [
    {
     "data": {
      "text/plain": [
       "array([[[4.        , 4.07692308, 4.15384615, 4.23076923, 4.30769231,\n",
       "         4.38461538, 4.46153846, 4.53846154, 4.61538462, 4.69230769,\n",
       "         4.76923077, 4.84615385, 4.92307692, 5.        , 5.07692308,\n",
       "         5.15384615, 5.23076923, 5.30769231, 5.38461538, 5.46153846]],\n",
       "\n",
       "       [[5.53846154, 5.61538462, 5.69230769, 5.76923077, 5.84615385,\n",
       "         5.92307692, 6.        , 6.07692308, 6.15384615, 6.23076923,\n",
       "         6.30769231, 6.38461538, 6.46153846, 6.53846154, 6.61538462,\n",
       "         6.69230769, 6.76923077, 6.84615385, 6.92307692, 7.        ]]])"
      ]
     },
     "execution_count": 158,
     "metadata": {},
     "output_type": "execute_result"
    }
   ],
   "source": [
    "d.reshape(2,1,20)"
   ]
  },
  {
   "cell_type": "code",
   "execution_count": 161,
   "id": "3a13c21e",
   "metadata": {},
   "outputs": [
    {
     "data": {
      "text/plain": [
       "array([0.81182075, 0.34115952, 0.78941516])"
      ]
     },
     "execution_count": 161,
     "metadata": {},
     "output_type": "execute_result"
    }
   ],
   "source": [
    "np.random.rand(3) # It will produce data based on Normal distribution/gaussian distribution."
   ]
  },
  {
   "cell_type": "code",
   "execution_count": 162,
   "id": "14358648",
   "metadata": {},
   "outputs": [
    {
     "data": {
      "text/plain": [
       "array([-0.33139272, -1.11703314, -0.44549503, -0.85437885, -0.02669858])"
      ]
     },
     "execution_count": 162,
     "metadata": {},
     "output_type": "execute_result"
    }
   ],
   "source": [
    "np.random.randn(5) # It will Return a sample of numbers (or samples) from the \"standard normal distribution\"."
   ]
  },
  {
   "cell_type": "code",
   "execution_count": 163,
   "id": "52258ba8",
   "metadata": {},
   "outputs": [
    {
     "data": {
      "text/plain": [
       "array([[[-0.14255287, -1.14896331, -1.09906756],\n",
       "        [-0.11729797,  0.4043128 , -1.09548951]],\n",
       "\n",
       "       [[-0.66376322, -1.71109944, -1.6686709 ],\n",
       "        [ 0.80771368, -0.36608303,  1.06834357]]])"
      ]
     },
     "execution_count": 163,
     "metadata": {},
     "output_type": "execute_result"
    }
   ],
   "source": [
    "np.random.randn(2,2,3)"
   ]
  },
  {
   "cell_type": "code",
   "execution_count": 164,
   "id": "9847fe37",
   "metadata": {},
   "outputs": [
    {
     "data": {
      "text/plain": [
       "4"
      ]
     },
     "execution_count": 164,
     "metadata": {},
     "output_type": "execute_result"
    }
   ],
   "source": [
    "np.random.randint(5)"
   ]
  },
  {
   "cell_type": "code",
   "execution_count": 165,
   "id": "cd5fd6ae",
   "metadata": {},
   "outputs": [
    {
     "data": {
      "text/plain": [
       "30"
      ]
     },
     "execution_count": 165,
     "metadata": {},
     "output_type": "execute_result"
    }
   ],
   "source": [
    "np.random.randint(5,60)"
   ]
  },
  {
   "cell_type": "code",
   "execution_count": 166,
   "id": "1a8c1f8b",
   "metadata": {},
   "outputs": [
    {
     "data": {
      "text/plain": [
       "array([[31, 29, 24, 46],\n",
       "       [59, 38, 51, 42],\n",
       "       [48, 55, 19, 29],\n",
       "       [12, 14, 58, 54]])"
      ]
     },
     "execution_count": 166,
     "metadata": {},
     "output_type": "execute_result"
    }
   ],
   "source": [
    "np.random.randint(5,60,(4,4))"
   ]
  },
  {
   "cell_type": "code",
   "execution_count": 168,
   "id": "4c938fa7",
   "metadata": {},
   "outputs": [
    {
     "data": {
      "text/plain": [
       "array([[4, 3, 5],\n",
       "       [6, 5, 5],\n",
       "       [4, 3, 3]])"
      ]
     },
     "execution_count": 168,
     "metadata": {},
     "output_type": "execute_result"
    }
   ],
   "source": [
    "arr = np.random.randint(3,9,(3,3))\n",
    "arr"
   ]
  },
  {
   "cell_type": "code",
   "execution_count": 169,
   "id": "fe9e0009",
   "metadata": {},
   "outputs": [
    {
     "data": {
      "text/plain": [
       "array([[4, 3, 5, 6, 5, 5, 4, 3, 3]])"
      ]
     },
     "execution_count": 169,
     "metadata": {},
     "output_type": "execute_result"
    }
   ],
   "source": [
    "arr.reshape(1,9)"
   ]
  },
  {
   "cell_type": "code",
   "execution_count": 170,
   "id": "228a2d22",
   "metadata": {},
   "outputs": [
    {
     "data": {
      "text/plain": [
       "array([[4],\n",
       "       [3],\n",
       "       [5],\n",
       "       [6],\n",
       "       [5],\n",
       "       [5],\n",
       "       [4],\n",
       "       [3],\n",
       "       [3]])"
      ]
     },
     "execution_count": 170,
     "metadata": {},
     "output_type": "execute_result"
    }
   ],
   "source": [
    "arr.reshape(9,1)"
   ]
  },
  {
   "cell_type": "code",
   "execution_count": 171,
   "id": "6184fd00",
   "metadata": {},
   "outputs": [
    {
     "data": {
      "text/plain": [
       "array([[[4, 3, 5, 6, 5, 5, 4, 3, 3]]])"
      ]
     },
     "execution_count": 171,
     "metadata": {},
     "output_type": "execute_result"
    }
   ],
   "source": [
    "arr.reshape(1,1,9)"
   ]
  },
  {
   "cell_type": "code",
   "execution_count": 172,
   "id": "d68a1790",
   "metadata": {},
   "outputs": [
    {
     "data": {
      "text/plain": [
       "array([[[4],\n",
       "        [3],\n",
       "        [5]],\n",
       "\n",
       "       [[6],\n",
       "        [5],\n",
       "        [5]],\n",
       "\n",
       "       [[4],\n",
       "        [3],\n",
       "        [3]]])"
      ]
     },
     "execution_count": 172,
     "metadata": {},
     "output_type": "execute_result"
    }
   ],
   "source": [
    "arr.reshape(3,3,1)"
   ]
  },
  {
   "cell_type": "code",
   "execution_count": 173,
   "id": "f9e02dfd",
   "metadata": {},
   "outputs": [
    {
     "data": {
      "text/plain": [
       "array([[4, 3, 5],\n",
       "       [6, 5, 5],\n",
       "       [4, 3, 3]])"
      ]
     },
     "execution_count": 173,
     "metadata": {},
     "output_type": "execute_result"
    }
   ],
   "source": [
    "arr.reshape(3,-198979)"
   ]
  },
  {
   "cell_type": "code",
   "execution_count": 174,
   "id": "56817816",
   "metadata": {},
   "outputs": [
    {
     "data": {
      "text/plain": [
       "array([[4, 3, 5, 6, 5, 5, 4, 3, 3]])"
      ]
     },
     "execution_count": 174,
     "metadata": {},
     "output_type": "execute_result"
    }
   ],
   "source": [
    "arr.reshape(1,-145654656)"
   ]
  },
  {
   "cell_type": "code",
   "execution_count": 175,
   "id": "2b0de4a2",
   "metadata": {},
   "outputs": [
    {
     "data": {
      "text/plain": [
       "array([[4, 3, 5],\n",
       "       [6, 5, 5],\n",
       "       [4, 3, 3]])"
      ]
     },
     "execution_count": 175,
     "metadata": {},
     "output_type": "execute_result"
    }
   ],
   "source": [
    "arr"
   ]
  },
  {
   "cell_type": "code",
   "execution_count": 176,
   "id": "9692a52e",
   "metadata": {},
   "outputs": [
    {
     "data": {
      "text/plain": [
       "6"
      ]
     },
     "execution_count": 176,
     "metadata": {},
     "output_type": "execute_result"
    }
   ],
   "source": [
    "arr.max()"
   ]
  },
  {
   "cell_type": "code",
   "execution_count": 177,
   "id": "9c29ef1a",
   "metadata": {},
   "outputs": [
    {
     "data": {
      "text/plain": [
       "3"
      ]
     },
     "execution_count": 177,
     "metadata": {},
     "output_type": "execute_result"
    }
   ],
   "source": [
    "arr.min()"
   ]
  },
  {
   "cell_type": "code",
   "execution_count": 179,
   "id": "0ca8d1b6",
   "metadata": {},
   "outputs": [
    {
     "data": {
      "text/plain": [
       "array([[59, 30, 94,  9, 78],\n",
       "       [70, 71,  7, 90, 44],\n",
       "       [66, 92, 24, 39, 57],\n",
       "       [35,  8, 14, 97, 73],\n",
       "       [99, 66, 32,  8, 45]])"
      ]
     },
     "execution_count": 179,
     "metadata": {},
     "output_type": "execute_result"
    }
   ],
   "source": [
    "arr = np.random.randint(4,100, (5,5))\n",
    "arr"
   ]
  },
  {
   "cell_type": "code",
   "execution_count": 180,
   "id": "cc79bd92",
   "metadata": {},
   "outputs": [
    {
     "data": {
      "text/plain": [
       "array([[97, 73],\n",
       "       [ 8, 45]])"
      ]
     },
     "execution_count": 180,
     "metadata": {},
     "output_type": "execute_result"
    }
   ],
   "source": [
    "arr[3: , 3:]"
   ]
  },
  {
   "cell_type": "code",
   "execution_count": 181,
   "id": "b52f0560",
   "metadata": {},
   "outputs": [
    {
     "data": {
      "text/plain": [
       "array([[30,  9],\n",
       "       [71, 90],\n",
       "       [92, 39],\n",
       "       [ 8, 97],\n",
       "       [66,  8]])"
      ]
     },
     "execution_count": 181,
     "metadata": {},
     "output_type": "execute_result"
    }
   ],
   "source": [
    "arr[:,[1,3]]"
   ]
  },
  {
   "cell_type": "code",
   "execution_count": 182,
   "id": "961a0f2f",
   "metadata": {},
   "outputs": [
    {
     "data": {
      "text/plain": [
       "array([[59, 30, 94,  9, 78],\n",
       "       [70, 71,  7, 90, 44],\n",
       "       [66, 92, 24, 39, 57],\n",
       "       [35,  8, 14, 97, 73],\n",
       "       [99, 66, 32,  8, 45]])"
      ]
     },
     "execution_count": 182,
     "metadata": {},
     "output_type": "execute_result"
    }
   ],
   "source": [
    "arr"
   ]
  },
  {
   "cell_type": "code",
   "execution_count": 184,
   "id": "970e6a77",
   "metadata": {},
   "outputs": [
    {
     "data": {
      "text/plain": [
       "array([[ True,  True,  True, False,  True],\n",
       "       [ True,  True, False,  True,  True],\n",
       "       [ True,  True,  True,  True,  True],\n",
       "       [ True, False,  True,  True,  True],\n",
       "       [ True,  True,  True, False,  True]])"
      ]
     },
     "execution_count": 184,
     "metadata": {},
     "output_type": "execute_result"
    }
   ],
   "source": [
    "arr>10"
   ]
  },
  {
   "cell_type": "code",
   "execution_count": 183,
   "id": "96dbb4ae",
   "metadata": {},
   "outputs": [
    {
     "data": {
      "text/plain": [
       "array([59, 30, 94, 78, 70, 71, 90, 44, 66, 92, 24, 39, 57, 35, 14, 97, 73,\n",
       "       99, 66, 32, 45])"
      ]
     },
     "execution_count": 183,
     "metadata": {},
     "output_type": "execute_result"
    }
   ],
   "source": [
    "arr[arr>10]"
   ]
  },
  {
   "cell_type": "code",
   "execution_count": 185,
   "id": "dee7e7d3",
   "metadata": {},
   "outputs": [
    {
     "data": {
      "text/plain": [
       "array([[59, 30, 94,  9, 78],\n",
       "       [70, 71,  7, 90, 44],\n",
       "       [66, 92, 24, 39, 57],\n",
       "       [35,  8, 14, 97, 73],\n",
       "       [99, 66, 32,  8, 45]])"
      ]
     },
     "execution_count": 185,
     "metadata": {},
     "output_type": "execute_result"
    }
   ],
   "source": [
    "arr"
   ]
  },
  {
   "cell_type": "code",
   "execution_count": 186,
   "id": "e9fd1d86",
   "metadata": {},
   "outputs": [
    {
     "data": {
      "text/plain": [
       "array([[3481,  900, 8836,   81, 6084],\n",
       "       [4900, 5041,   49, 8100, 1936],\n",
       "       [4356, 8464,  576, 1521, 3249],\n",
       "       [1225,   64,  196, 9409, 5329],\n",
       "       [9801, 4356, 1024,   64, 2025]])"
      ]
     },
     "execution_count": 186,
     "metadata": {},
     "output_type": "execute_result"
    }
   ],
   "source": [
    "arr*arr"
   ]
  },
  {
   "cell_type": "code",
   "execution_count": 190,
   "id": "02fa5eca",
   "metadata": {},
   "outputs": [
    {
     "data": {
      "text/plain": [
       "array([[3, 3, 2],\n",
       "       [3, 3, 2],\n",
       "       [2, 3, 2]])"
      ]
     },
     "execution_count": 190,
     "metadata": {},
     "output_type": "execute_result"
    }
   ],
   "source": [
    "arr1 = np.random.randint(2,4,(3,3))\n",
    "arr1"
   ]
  },
  {
   "cell_type": "code",
   "execution_count": 189,
   "id": "b379d092",
   "metadata": {},
   "outputs": [
    {
     "data": {
      "text/plain": [
       "array([[2, 2, 3],\n",
       "       [3, 3, 2],\n",
       "       [2, 3, 3]])"
      ]
     },
     "execution_count": 189,
     "metadata": {},
     "output_type": "execute_result"
    }
   ],
   "source": [
    "arr2 = np.random.randint(2,4,(3,3))\n",
    "arr2"
   ]
  },
  {
   "cell_type": "code",
   "execution_count": 191,
   "id": "51f7ee88",
   "metadata": {},
   "outputs": [
    {
     "data": {
      "text/plain": [
       "array([[6, 6, 6],\n",
       "       [9, 9, 4],\n",
       "       [4, 9, 6]])"
      ]
     },
     "execution_count": 191,
     "metadata": {},
     "output_type": "execute_result"
    }
   ],
   "source": [
    "arr1*arr2"
   ]
  },
  {
   "cell_type": "code",
   "execution_count": 192,
   "id": "fe90b42d",
   "metadata": {},
   "outputs": [
    {
     "data": {
      "text/plain": [
       "array([[19, 21, 21],\n",
       "       [19, 21, 21],\n",
       "       [17, 19, 18]])"
      ]
     },
     "execution_count": 192,
     "metadata": {},
     "output_type": "execute_result"
    }
   ],
   "source": [
    "arr1@arr2"
   ]
  },
  {
   "cell_type": "code",
   "execution_count": 193,
   "id": "4da51381",
   "metadata": {},
   "outputs": [
    {
     "name": "stderr",
     "output_type": "stream",
     "text": [
      "/opt/anaconda3/lib/python3.7/site-packages/ipykernel_launcher.py:1: RuntimeWarning: divide by zero encountered in true_divide\n",
      "  \"\"\"Entry point for launching an IPython kernel.\n"
     ]
    },
    {
     "data": {
      "text/plain": [
       "array([[inf, inf, inf, inf, inf],\n",
       "       [inf, inf, inf, inf, inf],\n",
       "       [inf, inf, inf, inf, inf],\n",
       "       [inf, inf, inf, inf, inf],\n",
       "       [inf, inf, inf, inf, inf]])"
      ]
     },
     "execution_count": 193,
     "metadata": {},
     "output_type": "execute_result"
    }
   ],
   "source": [
    "arr/0"
   ]
  },
  {
   "cell_type": "code",
   "execution_count": 194,
   "id": "037774f0",
   "metadata": {},
   "outputs": [
    {
     "data": {
      "text/plain": [
       "array([[3481,  900, 8836,   81, 6084],\n",
       "       [4900, 5041,   49, 8100, 1936],\n",
       "       [4356, 8464,  576, 1521, 3249],\n",
       "       [1225,   64,  196, 9409, 5329],\n",
       "       [9801, 4356, 1024,   64, 2025]])"
      ]
     },
     "execution_count": 194,
     "metadata": {},
     "output_type": "execute_result"
    }
   ],
   "source": [
    "arr**2"
   ]
  },
  {
   "cell_type": "code",
   "execution_count": 195,
   "id": "0440aee3",
   "metadata": {},
   "outputs": [
    {
     "data": {
      "text/plain": [
       "array([[0., 0., 0., 0.],\n",
       "       [0., 0., 0., 0.],\n",
       "       [0., 0., 0., 0.]])"
      ]
     },
     "execution_count": 195,
     "metadata": {},
     "output_type": "execute_result"
    }
   ],
   "source": [
    "arr = np.zeros((3,4))\n",
    "arr"
   ]
  },
  {
   "cell_type": "code",
   "execution_count": 196,
   "id": "bfbbb21b",
   "metadata": {},
   "outputs": [
    {
     "data": {
      "text/plain": [
       "array([1, 2, 3, 5])"
      ]
     },
     "execution_count": 196,
     "metadata": {},
     "output_type": "execute_result"
    }
   ],
   "source": [
    "a = np.array([1,2,3,5])\n",
    "a"
   ]
  },
  {
   "cell_type": "code",
   "execution_count": 197,
   "id": "4aeccf8f",
   "metadata": {},
   "outputs": [
    {
     "data": {
      "text/plain": [
       "array([[1., 2., 3., 5.],\n",
       "       [1., 2., 3., 5.],\n",
       "       [1., 2., 3., 5.]])"
      ]
     },
     "execution_count": 197,
     "metadata": {},
     "output_type": "execute_result"
    }
   ],
   "source": [
    "arr + a "
   ]
  },
  {
   "cell_type": "code",
   "execution_count": 198,
   "id": "847b5d68",
   "metadata": {},
   "outputs": [
    {
     "data": {
      "text/plain": [
       "array([[5., 5., 5., 5.],\n",
       "       [5., 5., 5., 5.],\n",
       "       [5., 5., 5., 5.]])"
      ]
     },
     "execution_count": 198,
     "metadata": {},
     "output_type": "execute_result"
    }
   ],
   "source": [
    "arr + 5"
   ]
  },
  {
   "cell_type": "code",
   "execution_count": 199,
   "id": "d46d2404",
   "metadata": {},
   "outputs": [
    {
     "data": {
      "text/plain": [
       "array([5, 6, 7])"
      ]
     },
     "execution_count": 199,
     "metadata": {},
     "output_type": "execute_result"
    }
   ],
   "source": [
    "b = np.array([5,6,7])\n",
    "b"
   ]
  },
  {
   "cell_type": "code",
   "execution_count": 200,
   "id": "91333039",
   "metadata": {},
   "outputs": [
    {
     "data": {
      "text/plain": [
       "array([[5],\n",
       "       [6],\n",
       "       [7]])"
      ]
     },
     "execution_count": 200,
     "metadata": {},
     "output_type": "execute_result"
    }
   ],
   "source": [
    "b=b.reshape(3,1)\n",
    "b"
   ]
  },
  {
   "cell_type": "code",
   "execution_count": 201,
   "id": "34dcd178",
   "metadata": {},
   "outputs": [
    {
     "data": {
      "text/plain": [
       "array([[5., 5., 5., 5.],\n",
       "       [6., 6., 6., 6.],\n",
       "       [7., 7., 7., 7.]])"
      ]
     },
     "execution_count": 201,
     "metadata": {},
     "output_type": "execute_result"
    }
   ],
   "source": [
    "b + arr"
   ]
  },
  {
   "cell_type": "code",
   "execution_count": 204,
   "id": "325b8e9b",
   "metadata": {},
   "outputs": [
    {
     "data": {
      "text/plain": [
       "array([[5, 6, 7]])"
      ]
     },
     "execution_count": 204,
     "metadata": {},
     "output_type": "execute_result"
    }
   ],
   "source": [
    "b = np.array([[5,6,7]])\n",
    "b"
   ]
  },
  {
   "cell_type": "code",
   "execution_count": 203,
   "id": "5c2f0f41",
   "metadata": {},
   "outputs": [
    {
     "data": {
      "text/plain": [
       "array([[5., 5., 5., 5.],\n",
       "       [6., 6., 6., 6.],\n",
       "       [7., 7., 7., 7.]])"
      ]
     },
     "execution_count": 203,
     "metadata": {},
     "output_type": "execute_result"
    }
   ],
   "source": [
    "b.T + arr"
   ]
  },
  {
   "cell_type": "code",
   "execution_count": 205,
   "id": "80442c8e",
   "metadata": {},
   "outputs": [
    {
     "data": {
      "text/plain": [
       "array([[0.18929521, 0.8484029 , 0.37109952, 0.88056087],\n",
       "       [0.07288116, 0.12548979, 0.25254976, 0.0447791 ],\n",
       "       [0.93338298, 0.30545522, 0.61708657, 0.3051688 ],\n",
       "       [0.38585387, 0.5137722 , 0.68891279, 0.88334617],\n",
       "       [0.17237062, 0.92152257, 0.99809822, 0.74936367]])"
      ]
     },
     "execution_count": 205,
     "metadata": {},
     "output_type": "execute_result"
    }
   ],
   "source": [
    "arr = np.random.rand(5,4)\n",
    "arr"
   ]
  },
  {
   "cell_type": "code",
   "execution_count": 206,
   "id": "5f85dc5a",
   "metadata": {},
   "outputs": [
    {
     "data": {
      "text/plain": [
       "array([[0.4350807 , 0.92108789, 0.60917938, 0.93838205],\n",
       "       [0.2699651 , 0.35424538, 0.50254329, 0.21161072],\n",
       "       [0.96611748, 0.55268003, 0.78554858, 0.55242085],\n",
       "       [0.62117137, 0.71677905, 0.8300077 , 0.93986498],\n",
       "       [0.41517541, 0.95995967, 0.99904866, 0.86565794]])"
      ]
     },
     "execution_count": 206,
     "metadata": {},
     "output_type": "execute_result"
    }
   ],
   "source": [
    "np.sqrt(arr)"
   ]
  },
  {
   "cell_type": "code",
   "execution_count": 207,
   "id": "dd9d2f1d",
   "metadata": {},
   "outputs": [
    {
     "data": {
      "text/plain": [
       "array([[1.20839763, 2.33591319, 1.4493273 , 2.41225228],\n",
       "       [1.0756027 , 1.13370359, 1.28730355, 1.04579682],\n",
       "       [2.54309789, 1.3572427 , 1.85352007, 1.35685402],\n",
       "       [1.47086972, 1.67158487, 1.99154912, 2.41898051],\n",
       "       [1.18811809, 2.51311386, 2.71311717, 2.11565332]])"
      ]
     },
     "execution_count": 207,
     "metadata": {},
     "output_type": "execute_result"
    }
   ],
   "source": [
    "np.exp(arr)"
   ]
  },
  {
   "cell_type": "code",
   "execution_count": 208,
   "id": "0dde0918",
   "metadata": {},
   "outputs": [
    {
     "data": {
      "text/plain": [
       "array([[-7.22860371e-01, -7.13978534e-02, -4.30509611e-01,\n",
       "        -5.52406181e-02],\n",
       "       [-1.13738475e+00, -9.01391609e-01, -5.97653045e-01,\n",
       "        -1.34892466e+00],\n",
       "       [-2.99401227e-02, -5.15052453e-01, -2.09653905e-01,\n",
       "        -5.15459874e-01],\n",
       "       [-4.13577138e-01, -2.89229398e-01, -1.61835752e-01,\n",
       "        -5.38690679e-02],\n",
       "       [-7.63536760e-01, -3.54940254e-02, -8.26718494e-04,\n",
       "        -1.25307369e-01]])"
      ]
     },
     "execution_count": 208,
     "metadata": {},
     "output_type": "execute_result"
    }
   ],
   "source": [
    "np.log10(arr)"
   ]
  },
  {
   "cell_type": "code",
   "execution_count": 210,
   "id": "c8a7a450",
   "metadata": {},
   "outputs": [
    {
     "data": {
      "text/plain": [
       "array([[4, 4, 4, 4, 3],\n",
       "       [2, 2, 2, 2, 3],\n",
       "       [2, 2, 3, 2, 2],\n",
       "       [2, 3, 3, 2, 4],\n",
       "       [2, 4, 3, 4, 2]])"
      ]
     },
     "execution_count": 210,
     "metadata": {},
     "output_type": "execute_result"
    }
   ],
   "source": [
    "arr1 = np.random.randint(2,5,(5,5))\n",
    "arr1"
   ]
  },
  {
   "cell_type": "code",
   "execution_count": 211,
   "id": "c6691169",
   "metadata": {},
   "outputs": [
    {
     "data": {
      "text/plain": [
       "array([[0.60205999, 0.60205999, 0.60205999, 0.60205999, 0.47712125],\n",
       "       [0.30103   , 0.30103   , 0.30103   , 0.30103   , 0.47712125],\n",
       "       [0.30103   , 0.30103   , 0.47712125, 0.30103   , 0.30103   ],\n",
       "       [0.30103   , 0.47712125, 0.47712125, 0.30103   , 0.60205999],\n",
       "       [0.30103   , 0.60205999, 0.47712125, 0.60205999, 0.30103   ]])"
      ]
     },
     "execution_count": 211,
     "metadata": {},
     "output_type": "execute_result"
    }
   ],
   "source": [
    "np.log10(arr1)"
   ]
  },
  {
   "cell_type": "code",
   "execution_count": 215,
   "id": "455a176c",
   "metadata": {},
   "outputs": [
    {
     "data": {
      "text/plain": [
       "array([[0.25627995, 0.34758122, 0.00941277, 0.35833378],\n",
       "       [0.94909418, 0.21789901, 0.31939137, 0.91777239]])"
      ]
     },
     "execution_count": 215,
     "metadata": {},
     "output_type": "execute_result"
    }
   ],
   "source": [
    "np.random.rand(2,4) # If we execute this n no of time so it will give dif dif value every time."
   ]
  },
  {
   "cell_type": "code",
   "execution_count": null,
   "id": "7f9f11ea",
   "metadata": {},
   "outputs": [],
   "source": []
  },
  {
   "cell_type": "code",
   "execution_count": 217,
   "id": "8c474eae",
   "metadata": {},
   "outputs": [
    {
     "data": {
      "text/plain": [
       "array([[0.64414354, 0.38074849, 0.66304791, 0.16365073],\n",
       "       [0.96260781, 0.34666184, 0.99175099, 0.2350579 ]])"
      ]
     },
     "execution_count": 217,
     "metadata": {},
     "output_type": "execute_result"
    }
   ],
   "source": [
    "np.random.seed(30) # Seed wise we can mention any value.\n",
    "np.random.rand(2,4) \n",
    "\n",
    "# If we execute this n no of time so it will give dif dif value every time, it will give same value in o/p."
   ]
  },
  {
   "cell_type": "code",
   "execution_count": null,
   "id": "b36f467f",
   "metadata": {},
   "outputs": [],
   "source": [
    "# Open file No.17 directly,no need to open the file no 16."
   ]
  }
 ],
 "metadata": {
  "kernelspec": {
   "display_name": "Python 3 (ipykernel)",
   "language": "python",
   "name": "python3"
  },
  "language_info": {
   "codemirror_mode": {
    "name": "ipython",
    "version": 3
   },
   "file_extension": ".py",
   "mimetype": "text/x-python",
   "name": "python",
   "nbconvert_exporter": "python",
   "pygments_lexer": "ipython3",
   "version": "3.7.7"
  }
 },
 "nbformat": 4,
 "nbformat_minor": 5
}
