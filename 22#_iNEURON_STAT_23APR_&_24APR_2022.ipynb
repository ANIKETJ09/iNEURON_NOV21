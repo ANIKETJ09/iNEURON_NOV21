{
 "cells": [
  {
   "cell_type": "code",
   "execution_count": null,
   "id": "fc6bc100",
   "metadata": {},
   "outputs": [],
   "source": [
    "# Inferential STATISTICS by Gaurav Manjrekar.\n",
    "\n",
    "# Z TEST\n",
    "# https://www.youtube.com/playlist?list=PLRNL7AjA6rjy_ryWXKMil8CjtLQjUiy0I\n",
    "\n",
    "# T TEST\n",
    "# https://www.youtube.com/playlist?list=PLRNL7AjA6rjx40R-Y-hIEVawQXxbeUgiD\n",
    "\n",
    "# CHI SQUARE TEST\n",
    "# https://www.youtube.com/playlist?list=PLRNL7AjA6rjxVTlKSB4TNFY8y5qKF-mQa\n",
    "\n",
    "# F TEST\n",
    "# https://www.youtube.com/playlist?list=PLRNL7AjA6rjxVTlKSB4TNFY8y5qKF-mQa\n",
    "\n",
    "# https://www.youtube.com/playlist?list=PLRNL7AjA6rjzENK5e6_11-NlxnsCbC-RB"
   ]
  },
  {
   "cell_type": "markdown",
   "id": "ba867beb",
   "metadata": {},
   "source": [
    "# 23rd APR"
   ]
  },
  {
   "cell_type": "code",
   "execution_count": null,
   "id": "7290c5c8",
   "metadata": {},
   "outputs": [],
   "source": [
    "# Statistics PART 2\n",
    "\n",
    "# Inferential STATISTICS"
   ]
  },
  {
   "cell_type": "markdown",
   "id": "ef41c993",
   "metadata": {},
   "source": [
    "# 24th APR"
   ]
  },
  {
   "cell_type": "code",
   "execution_count": null,
   "id": "de1e088f",
   "metadata": {},
   "outputs": [],
   "source": [
    "# Statistics PART 2.1\n",
    "\n",
    "# Continuation of Inferential STATISTICS "
   ]
  }
 ],
 "metadata": {
  "kernelspec": {
   "display_name": "Python 3 (ipykernel)",
   "language": "python",
   "name": "python3"
  },
  "language_info": {
   "codemirror_mode": {
    "name": "ipython",
    "version": 3
   },
   "file_extension": ".py",
   "mimetype": "text/x-python",
   "name": "python",
   "nbconvert_exporter": "python",
   "pygments_lexer": "ipython3",
   "version": "3.7.7"
  }
 },
 "nbformat": 4,
 "nbformat_minor": 5
}
