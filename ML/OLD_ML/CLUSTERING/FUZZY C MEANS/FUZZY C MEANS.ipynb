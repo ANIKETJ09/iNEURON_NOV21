{
 "cells": [
  {
   "cell_type": "code",
   "execution_count": null,
   "id": "aa9e30b7",
   "metadata": {},
   "outputs": [],
   "source": [
    "# Explanation of Fuzzy C Means\n",
    "# https://www.youtube.com/watch?v=SdyukrDWTe0\n",
    "# https://www.youtube.com/watch?v=Zz1cmz_DOMU&t=10s\n",
    "\n",
    "# Explanation of Fuzzy C Means\n",
    "\n",
    "# https://www.youtube.com/watch?v=VhYt7nxOKKs\n",
    "# https://www.youtube.com/watch?v=W-3ZYGmLJ-4"
   ]
  },
  {
   "cell_type": "code",
   "execution_count": null,
   "id": "8afb22f2",
   "metadata": {},
   "outputs": [],
   "source": [
    "import numpy as np\n",
    "import pandas as pd\n",
    "from fcmeans import FCM\n",
    "from matplotlib import pyplot as plt"
   ]
  },
  {
   "cell_type": "code",
   "execution_count": null,
   "id": "96c1c70c",
   "metadata": {},
   "outputs": [],
   "source": [
    "n_samples = 3000\n",
    "\n",
    "X = np.concatenate((\n",
    "    np.random.normal((-2, -2), size=(n_samples, 2)),\n",
    "    np.random.normal((2, 2), size=(n_samples, 2)),\n",
    "    np.random.normal((9, 0), size=(n_samples, 2)),\n",
    "    np.random.normal((5, -8), size=(n_samples, 2))\n",
    "))\n",
    "\n",
    "plt.figure(figsize=(5, 5))\n",
    "plt.scatter(X[:,0], X[:,1], alpha=.1)\n",
    "plt.show()"
   ]
  },
  {
   "cell_type": "code",
   "execution_count": null,
   "id": "362a7986",
   "metadata": {},
   "outputs": [],
   "source": [
    "fcm = FCM(n_clusters=2)\n",
    "fcm.fit(X)"
   ]
  },
  {
   "cell_type": "code",
   "execution_count": null,
   "id": "f9813197",
   "metadata": {},
   "outputs": [],
   "source": [
    "# outputs\n",
    "fcm_centers = fcm.centers\n",
    "fcm_labels = fcm.predict(X)"
   ]
  },
  {
   "cell_type": "code",
   "execution_count": null,
   "id": "b417dc98",
   "metadata": {},
   "outputs": [],
   "source": [
    "fcm_centers"
   ]
  },
  {
   "cell_type": "code",
   "execution_count": null,
   "id": "8a116279",
   "metadata": {},
   "outputs": [],
   "source": [
    "np.unique(fcm_labels)"
   ]
  },
  {
   "cell_type": "code",
   "execution_count": null,
   "id": "a1f5a231",
   "metadata": {},
   "outputs": [],
   "source": [
    "# plot result\n",
    "f, axes = plt.subplots(1, 2, figsize=(11,5))\n",
    "axes[0].scatter(X[:,0], X[:,1], alpha=.1)\n",
    "axes[1].scatter(X[:,0], X[:,1], c=fcm_labels, alpha=.1)\n",
    "axes[1].scatter(fcm_centers[:,0], fcm_centers[:,1], marker=\"+\", s=500, c='w')\n",
    "plt.show()"
   ]
  },
  {
   "cell_type": "code",
   "execution_count": null,
   "id": "0721273f",
   "metadata": {},
   "outputs": [],
   "source": [
    "n_clusters_list = [2, 3, 4, 5, 6, 7]\n",
    "models = list()\n",
    "for n_clusters in n_clusters_list:\n",
    "    fcm = FCM(n_clusters)\n",
    "    fcm.fit(X)\n",
    "    models.append(fcm)"
   ]
  },
  {
   "cell_type": "code",
   "execution_count": null,
   "id": "b482f1e5",
   "metadata": {},
   "outputs": [],
   "source": [
    "# outputs\n",
    "num_clusters = len(n_clusters_list)\n",
    "rows = int(np.ceil(np.sqrt(num_clusters)))\n",
    "cols = int(np.ceil(num_clusters / rows))\n",
    "f, axes = plt.subplots(rows, cols, figsize=(11,16))\n",
    "for n_clusters, model, axe in zip(n_clusters_list, models, axes.ravel()):\n",
    "    # get validation metrics\n",
    "    pc = model.partition_coefficient\n",
    "    pec = model.partition_entropy_coefficient\n",
    "    \n",
    "    fcm_centers = model.centers\n",
    "    fcm_labels = model.predict(X)\n",
    "    # plot result\n",
    "    axe.scatter(X[:,0], X[:,1], c=fcm_labels, alpha=.1)\n",
    "    axe.scatter(fcm_centers[:,0], fcm_centers[:,1], marker=\"+\", s=500, c='black')\n",
    "    axe.set_title(f'n_clusters = {n_clusters}, PC = {pc:.3f}, PEC = {pec:.3f}')\n",
    "plt.show()"
   ]
  }
 ],
 "metadata": {
  "kernelspec": {
   "display_name": "Python 3 (ipykernel)",
   "language": "python",
   "name": "python3"
  },
  "language_info": {
   "codemirror_mode": {
    "name": "ipython",
    "version": 3
   },
   "file_extension": ".py",
   "mimetype": "text/x-python",
   "name": "python",
   "nbconvert_exporter": "python",
   "pygments_lexer": "ipython3",
   "version": "3.9.12"
  }
 },
 "nbformat": 4,
 "nbformat_minor": 5
}
