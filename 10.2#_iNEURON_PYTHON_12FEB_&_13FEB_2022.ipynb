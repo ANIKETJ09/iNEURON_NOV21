{
 "cells": [
  {
   "cell_type": "code",
   "execution_count": null,
   "id": "5a9b964a",
   "metadata": {},
   "outputs": [],
   "source": [
    "# Krish Naik Tutorial\n",
    "\n",
    "# https://www.youtube.com/watch?v=magzEfYqIos&list=PLZoTAELRMXVN_8zzsevm1bm6G-plsiO1I&index=1"
   ]
  },
  {
   "cell_type": "code",
   "execution_count": 1,
   "id": "4867191c",
   "metadata": {},
   "outputs": [],
   "source": [
    "# Connection to \" Mongodb-Atlas \" to \" Python \" via \" Mongodb Compass \"\n",
    "# Mongodb Atlas - - - > Mongodb compass - - - > Python"
   ]
  },
  {
   "cell_type": "code",
   "execution_count": null,
   "id": "2230c38e",
   "metadata": {},
   "outputs": [],
   "source": []
  }
 ],
 "metadata": {
  "kernelspec": {
   "display_name": "Python 3 (ipykernel)",
   "language": "python",
   "name": "python3"
  },
  "language_info": {
   "codemirror_mode": {
    "name": "ipython",
    "version": 3
   },
   "file_extension": ".py",
   "mimetype": "text/x-python",
   "name": "python",
   "nbconvert_exporter": "python",
   "pygments_lexer": "ipython3",
   "version": "3.7.7"
  }
 },
 "nbformat": 4,
 "nbformat_minor": 5
}
