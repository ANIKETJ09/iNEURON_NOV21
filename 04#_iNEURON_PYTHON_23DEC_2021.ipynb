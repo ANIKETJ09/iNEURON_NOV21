{
 "cells": [
  {
   "cell_type": "markdown",
   "id": "5d85bccb",
   "metadata": {},
   "source": [
    "## FUNCTIONS"
   ]
  },
  {
   "cell_type": "code",
   "execution_count": 1,
   "id": "419a1721",
   "metadata": {},
   "outputs": [],
   "source": [
    "def test():\n",
    "    print(\"HELLO ANIKET\")"
   ]
  },
  {
   "cell_type": "code",
   "execution_count": 2,
   "id": "a6ca5ce4",
   "metadata": {},
   "outputs": [
    {
     "name": "stdout",
     "output_type": "stream",
     "text": [
      "HELLO ANIKET\n"
     ]
    }
   ],
   "source": [
    "test()"
   ]
  },
  {
   "cell_type": "code",
   "execution_count": 3,
   "id": "5f4c6488",
   "metadata": {},
   "outputs": [
    {
     "name": "stdout",
     "output_type": "stream",
     "text": [
      "HELLO ANIKET\n"
     ]
    }
   ],
   "source": [
    "a=test()"
   ]
  },
  {
   "cell_type": "code",
   "execution_count": 5,
   "id": "691d1041",
   "metadata": {},
   "outputs": [],
   "source": [
    "a # If we Execute this we are not getting any thing."
   ]
  },
  {
   "cell_type": "code",
   "execution_count": 6,
   "id": "d557a5c8",
   "metadata": {},
   "outputs": [
    {
     "ename": "TypeError",
     "evalue": "unsupported operand type(s) for +: 'NoneType' and 'str'",
     "output_type": "error",
     "traceback": [
      "\u001b[0;31m---------------------------------------------------------------------------\u001b[0m",
      "\u001b[0;31mTypeError\u001b[0m                                 Traceback (most recent call last)",
      "\u001b[0;32m<ipython-input-6-25bc8c207889>\u001b[0m in \u001b[0;36m<module>\u001b[0;34m\u001b[0m\n\u001b[1;32m      1\u001b[0m \u001b[0;31m# Now perform this operation\u001b[0m\u001b[0;34m\u001b[0m\u001b[0;34m\u001b[0m\u001b[0;34m\u001b[0m\u001b[0m\n\u001b[0;32m----> 2\u001b[0;31m \u001b[0ma\u001b[0m\u001b[0;34m+\u001b[0m\u001b[0;34m\"JOSHI\"\u001b[0m\u001b[0;34m\u001b[0m\u001b[0;34m\u001b[0m\u001b[0m\n\u001b[0m",
      "\u001b[0;31mTypeError\u001b[0m: unsupported operand type(s) for +: 'NoneType' and 'str'"
     ]
    }
   ],
   "source": [
    "# Now perform this operation\n",
    "a+\"JOSHI\""
   ]
  },
  {
   "cell_type": "code",
   "execution_count": 7,
   "id": "a568048d",
   "metadata": {},
   "outputs": [
    {
     "name": "stdout",
     "output_type": "stream",
     "text": [
      "HELLO ANIKET\n"
     ]
    },
    {
     "data": {
      "text/plain": [
       "NoneType"
      ]
     },
     "execution_count": 7,
     "metadata": {},
     "output_type": "execute_result"
    }
   ],
   "source": [
    "type(test()) # It is NoneType. Now if we try to do type casting for the function it is not gonig to work. see"
   ]
  },
  {
   "cell_type": "code",
   "execution_count": 8,
   "id": "8491bd77",
   "metadata": {},
   "outputs": [
    {
     "name": "stdout",
     "output_type": "stream",
     "text": [
      "HELLO ANIKET\n"
     ]
    },
    {
     "data": {
      "text/plain": [
       "'None'"
      ]
     },
     "execution_count": 8,
     "metadata": {},
     "output_type": "execute_result"
    }
   ],
   "source": [
    "str(test())"
   ]
  },
  {
   "cell_type": "code",
   "execution_count": 19,
   "id": "f92679fd",
   "metadata": {},
   "outputs": [],
   "source": [
    "def test2():\n",
    "    return (\"THIS IS ME\")"
   ]
  },
  {
   "cell_type": "code",
   "execution_count": 20,
   "id": "31345b96",
   "metadata": {},
   "outputs": [
    {
     "data": {
      "text/plain": [
       "'THIS IS ME'"
      ]
     },
     "execution_count": 20,
     "metadata": {},
     "output_type": "execute_result"
    }
   ],
   "source": [
    "test2()"
   ]
  },
  {
   "cell_type": "code",
   "execution_count": 21,
   "id": "06c82b5d",
   "metadata": {},
   "outputs": [
    {
     "data": {
      "text/plain": [
       "str"
      ]
     },
     "execution_count": 21,
     "metadata": {},
     "output_type": "execute_result"
    }
   ],
   "source": [
    "type(test2())\n",
    "\n",
    "# Now if check the type of test2() function it will show you that it is string\n",
    "# beacaus we have mention return in the code. so whatever the type we gives to the function. It is giving that \n",
    "# in o/p. str gives str. int gives int."
   ]
  },
  {
   "cell_type": "code",
   "execution_count": 22,
   "id": "0f98d0ba",
   "metadata": {},
   "outputs": [],
   "source": [
    "f=test2()"
   ]
  },
  {
   "cell_type": "code",
   "execution_count": 23,
   "id": "e8a43316",
   "metadata": {},
   "outputs": [
    {
     "data": {
      "text/plain": [
       "'Aniket THIS IS ME'"
      ]
     },
     "execution_count": 23,
     "metadata": {},
     "output_type": "execute_result"
    }
   ],
   "source": [
    "# Now we can do any operation with that.\n",
    "\"Aniket\"+\" \"+f"
   ]
  },
  {
   "cell_type": "code",
   "execution_count": 28,
   "id": "a5cbe5c5",
   "metadata": {},
   "outputs": [],
   "source": [
    "def test3():\n",
    "    return(4747)   # int type is mention in the test3() function."
   ]
  },
  {
   "cell_type": "code",
   "execution_count": 29,
   "id": "c3d6b174",
   "metadata": {},
   "outputs": [
    {
     "data": {
      "text/plain": [
       "4747"
      ]
     },
     "execution_count": 29,
     "metadata": {},
     "output_type": "execute_result"
    }
   ],
   "source": [
    "test3()"
   ]
  },
  {
   "cell_type": "code",
   "execution_count": 30,
   "id": "5b371f25",
   "metadata": {},
   "outputs": [
    {
     "data": {
      "text/plain": [
       "int"
      ]
     },
     "execution_count": 30,
     "metadata": {},
     "output_type": "execute_result"
    }
   ],
   "source": [
    "type(test3()) # Now here we give int so it is giving us o/p in int"
   ]
  },
  {
   "cell_type": "code",
   "execution_count": 31,
   "id": "251fa541",
   "metadata": {},
   "outputs": [],
   "source": [
    "# def test():                       def test2():     \n",
    "#    print(\"HELLO ANIKET\")              return (\"THIS IS ME\")\n",
    "#  type(test())                     type(test2())\n",
    "\n",
    "# Now if we see the difference between print and return then print will give us None Type but return \n",
    "# will give us as str or int or other data type. whaterve we have mention in it."
   ]
  },
  {
   "cell_type": "code",
   "execution_count": 32,
   "id": "3f824e21",
   "metadata": {},
   "outputs": [],
   "source": [
    "def test4():\n",
    "    return 4,3, \"sudh\" , [1,2,3,4,5]"
   ]
  },
  {
   "cell_type": "code",
   "execution_count": 33,
   "id": "9ce86738",
   "metadata": {},
   "outputs": [
    {
     "data": {
      "text/plain": [
       "(4, 3, 'sudh', [1, 2, 3, 4, 5])"
      ]
     },
     "execution_count": 33,
     "metadata": {},
     "output_type": "execute_result"
    }
   ],
   "source": [
    "test4()   # we can write multiple elements in return function. \n",
    "          # after calling it we are getting tuple as an o/p. "
   ]
  },
  {
   "cell_type": "code",
   "execution_count": 34,
   "id": "41da1d01",
   "metadata": {},
   "outputs": [],
   "source": [
    "a,b,c,d=test4()"
   ]
  },
  {
   "cell_type": "code",
   "execution_count": 37,
   "id": "9381faa4",
   "metadata": {},
   "outputs": [
    {
     "name": "stdout",
     "output_type": "stream",
     "text": [
      "4\n",
      "3\n",
      "sudh\n",
      "[1, 2, 3, 4, 5]\n"
     ]
    }
   ],
   "source": [
    "print(a)\n",
    "print(b) \n",
    "print(c)\n",
    "print(d)"
   ]
  },
  {
   "cell_type": "code",
   "execution_count": 38,
   "id": "d6040560",
   "metadata": {},
   "outputs": [],
   "source": [
    "def test5():\n",
    "    a = 6*7 /6\n",
    "    return a "
   ]
  },
  {
   "cell_type": "code",
   "execution_count": 40,
   "id": "b62c4db5",
   "metadata": {},
   "outputs": [
    {
     "data": {
      "text/plain": [
       "7.0"
      ]
     },
     "execution_count": 40,
     "metadata": {},
     "output_type": "execute_result"
    }
   ],
   "source": [
    "test5()"
   ]
  },
  {
   "cell_type": "code",
   "execution_count": 31,
   "id": "2873df73",
   "metadata": {},
   "outputs": [],
   "source": [
    "def test6(a):\n",
    "    n = []\n",
    "    if type(a) == list:\n",
    "        for i in a:\n",
    "            if type(i) == int:\n",
    "                n.append(i)\n",
    "    return n      "
   ]
  },
  {
   "cell_type": "code",
   "execution_count": 33,
   "id": "580e9cbd",
   "metadata": {},
   "outputs": [
    {
     "data": {
      "text/plain": [
       "[1, 2, 3, 4]"
      ]
     },
     "execution_count": 33,
     "metadata": {},
     "output_type": "execute_result"
    }
   ],
   "source": [
    "test6([1,2,3,4,\"fhvh\",(\"gh\",97,66),[4644,74,878]])"
   ]
  },
  {
   "cell_type": "code",
   "execution_count": 34,
   "id": "0655e4b4",
   "metadata": {},
   "outputs": [
    {
     "ename": "TypeError",
     "evalue": "test6() takes 1 positional argument but 2 were given",
     "output_type": "error",
     "traceback": [
      "\u001b[0;31m---------------------------------------------------------------------------\u001b[0m",
      "\u001b[0;31mTypeError\u001b[0m                                 Traceback (most recent call last)",
      "\u001b[0;32m<ipython-input-34-dcdc11db3f4d>\u001b[0m in \u001b[0;36m<module>\u001b[0;34m\u001b[0m\n\u001b[0;32m----> 1\u001b[0;31m \u001b[0mtest6\u001b[0m\u001b[0;34m(\u001b[0m\u001b[0;34m[\u001b[0m\u001b[0;36m1\u001b[0m\u001b[0;34m,\u001b[0m\u001b[0;36m2\u001b[0m\u001b[0;34m,\u001b[0m\u001b[0;36m3\u001b[0m\u001b[0;34m,\u001b[0m\u001b[0;36m4\u001b[0m\u001b[0;34m,\u001b[0m\u001b[0;34m\"fhvh\"\u001b[0m\u001b[0;34m,\u001b[0m\u001b[0;34m(\u001b[0m\u001b[0;34m\"gh\"\u001b[0m\u001b[0;34m,\u001b[0m\u001b[0;36m97\u001b[0m\u001b[0;34m,\u001b[0m\u001b[0;36m66\u001b[0m\u001b[0;34m)\u001b[0m\u001b[0;34m]\u001b[0m\u001b[0;34m,\u001b[0m\u001b[0;34m[\u001b[0m\u001b[0;36m4644\u001b[0m\u001b[0;34m,\u001b[0m\u001b[0;36m74\u001b[0m\u001b[0;34m,\u001b[0m\u001b[0;36m878\u001b[0m\u001b[0;34m]\u001b[0m\u001b[0;34m)\u001b[0m \u001b[0;31m# here we pass 2 Aurgument but while writing a function\u001b[0m\u001b[0;34m\u001b[0m\u001b[0;34m\u001b[0m\u001b[0m\n\u001b[0m\u001b[1;32m      2\u001b[0m                                                    \u001b[0;31m# we mention only one aurgument.that why it is showing\u001b[0m\u001b[0;34m\u001b[0m\u001b[0;34m\u001b[0m\u001b[0;34m\u001b[0m\u001b[0m\n\u001b[1;32m      3\u001b[0m                                                    \u001b[0;31m# an error.\u001b[0m\u001b[0;34m\u001b[0m\u001b[0;34m\u001b[0m\u001b[0;34m\u001b[0m\u001b[0m\n",
      "\u001b[0;31mTypeError\u001b[0m: test6() takes 1 positional argument but 2 were given"
     ]
    }
   ],
   "source": [
    "test6([1,2,3,4,\"fhvh\",(\"gh\",97,66)],[4644,74,878]) # here we pass 2 Aurgument but while writing a function \n",
    "                                                   # we mention only one aurgument.that why it is showing \n",
    "                                                   # an error. "
   ]
  },
  {
   "cell_type": "code",
   "execution_count": 38,
   "id": "9557416a",
   "metadata": {},
   "outputs": [
    {
     "data": {
      "text/plain": [
       "list"
      ]
     },
     "execution_count": 38,
     "metadata": {},
     "output_type": "execute_result"
    }
   ],
   "source": [
    "l = [3,4,5,6,7,7 ,\"sudh\" , [1,3,4,54,56]]\n",
    "type(test6(l))"
   ]
  },
  {
   "cell_type": "code",
   "execution_count": null,
   "id": "329caefe",
   "metadata": {},
   "outputs": [],
   "source": [
    "def test7(a):\n",
    "    n = []\n",
    "    if type(a) == list:\n",
    "        for i in a:\n",
    "            if type(i) == int or type(i)==list or type(i)==tuple:\n",
    "                for j in i:\n",
    "                    if type(j)==int:\n",
    "                        n.append(j)\n",
    "                return n      "
   ]
  },
  {
   "cell_type": "code",
   "execution_count": null,
   "id": "63af336b",
   "metadata": {},
   "outputs": [],
   "source": [
    "test7([1,2,3,4,\"fhvh\",(\"gh\",97,66),[4644,74,878]])"
   ]
  },
  {
   "cell_type": "code",
   "execution_count": 52,
   "id": "ae620758",
   "metadata": {},
   "outputs": [],
   "source": [
    "def test8(c) :\n",
    "    if type(c) == dict :\n",
    "        return c.keys()\n",
    "    else :\n",
    "        return \"you have not passed a dic\""
   ]
  },
  {
   "cell_type": "code",
   "execution_count": 53,
   "id": "f04ddfd2",
   "metadata": {},
   "outputs": [
    {
     "data": {
      "text/plain": [
       "'you have not passed a dic'"
      ]
     },
     "execution_count": 53,
     "metadata": {},
     "output_type": "execute_result"
    }
   ],
   "source": [
    "test8(\"fsadfsaf\")"
   ]
  },
  {
   "cell_type": "code",
   "execution_count": 54,
   "id": "8d293c47",
   "metadata": {},
   "outputs": [
    {
     "data": {
      "text/plain": [
       "dict_keys(['a', 'b', 'c'])"
      ]
     },
     "execution_count": 54,
     "metadata": {},
     "output_type": "execute_result"
    }
   ],
   "source": [
    "test8({\"a\":\"dsfsf\" , \"b\" :2354234 , \"c\" : [4,5,76,78]})"
   ]
  },
  {
   "cell_type": "code",
   "execution_count": 55,
   "id": "b1c65d64",
   "metadata": {},
   "outputs": [],
   "source": [
    "def test9(a,b) :\n",
    "    if type(a) == list and type(b) == list:\n",
    "        a.extend(b)\n",
    "        return a\n",
    "    else :\n",
    "        return \"either of your data is not a list \""
   ]
  },
  {
   "cell_type": "code",
   "execution_count": 56,
   "id": "b2e661a2",
   "metadata": {},
   "outputs": [
    {
     "data": {
      "text/plain": [
       "'either of your data is not a list '"
      ]
     },
     "execution_count": 56,
     "metadata": {},
     "output_type": "execute_result"
    }
   ],
   "source": [
    "test9(2424,\"uisdeh\")"
   ]
  },
  {
   "cell_type": "code",
   "execution_count": 57,
   "id": "2849546e",
   "metadata": {},
   "outputs": [
    {
     "data": {
      "text/plain": [
       "[2, 3, 4, 5, 6, 4, 5, 7, 788]"
      ]
     },
     "execution_count": 57,
     "metadata": {},
     "output_type": "execute_result"
    }
   ],
   "source": [
    "test9([2,3,4,5,6] , [4,5,7,788])"
   ]
  },
  {
   "cell_type": "code",
   "execution_count": 58,
   "id": "b0e66988",
   "metadata": {},
   "outputs": [],
   "source": [
    "def triangle (rows):\n",
    "    if type(rows) == int:\n",
    "        for i in range(1,rows):\n",
    "            for j in range(i):\n",
    "                print(\".\",end=\" \")\n",
    "            print(\"\\n\") "
   ]
  },
  {
   "cell_type": "code",
   "execution_count": 59,
   "id": "aec880c7",
   "metadata": {},
   "outputs": [
    {
     "name": "stdout",
     "output_type": "stream",
     "text": [
      ". \n",
      "\n",
      ". . \n",
      "\n",
      ". . . \n",
      "\n",
      ". . . . \n",
      "\n"
     ]
    }
   ],
   "source": [
    "triangle(5)"
   ]
  },
  {
   "cell_type": "code",
   "execution_count": 60,
   "id": "e568b4ab",
   "metadata": {},
   "outputs": [],
   "source": [
    "def test10(n):\n",
    "    \"\"\"\n",
    "    this is a fun to craete a tri \n",
    "    you can give input as an int \n",
    "    and you will be able to get output as a traingle \n",
    "    \"\"\"\n",
    "    for i in range(0,n):\n",
    "        for j in range (0, i+1):\n",
    "            print(\"*\", end= \"\")\n",
    "        print(\"\\r\")"
   ]
  },
  {
   "cell_type": "code",
   "execution_count": 62,
   "id": "9a6a231e",
   "metadata": {},
   "outputs": [
    {
     "name": "stdout",
     "output_type": "stream",
     "text": [
      "*\r\n",
      "**\r\n",
      "***\r\n",
      "****\r\n",
      "*****\r\n",
      "******\r\n"
     ]
    }
   ],
   "source": [
    "test10(6)"
   ]
  },
  {
   "cell_type": "code",
   "execution_count": 65,
   "id": "cd6d7724",
   "metadata": {},
   "outputs": [
    {
     "name": "stdout",
     "output_type": "stream",
     "text": [
      "Help on function test10 in module __main__:\n",
      "\n",
      "test10(n)\n",
      "    this is a fun to craete a tri \n",
      "    you can give input as an int \n",
      "    and you will be able to get output as a traingle\n",
      "\n"
     ]
    }
   ],
   "source": [
    "help(test10)   ## Meaning of function is going to come after using help function."
   ]
  },
  {
   "cell_type": "code",
   "execution_count": 63,
   "id": "55a1b8b0",
   "metadata": {},
   "outputs": [],
   "source": [
    "# ASSIGNMENT"
   ]
  },
  {
   "cell_type": "code",
   "execution_count": null,
   "id": "48dac5d8",
   "metadata": {},
   "outputs": [],
   "source": [
    "\"\"\"\n",
    "1 . you have to write a fun which will take string and return a len of \n",
    "it without using a inbuilt fun len.\n",
    "2 . write a fun which will be able to print an index of all premitive element which you will pass \n",
    "3 . Write a fun which will take input as a dict and give me out as a list of all the values \n",
    "even in case of 2 level nesting it should work . \n",
    "4 . write a fun which will take another function as an input and return me an output \n",
    "5. write a function whihc will take multiple list as a input and give me concatnation of all the element as \n",
    "and output \n",
    "6 . write a function which will be able to take a list as an input return an index of each element \n",
    "like a inbuilt index function but even if we have repetative element it should return index \n",
    "7 . Write a function which will whould return list of all the file name from a directory . \n",
    "8  . write a function which will be able to show your system configuration . \n",
    "9 . write a function which will be able to show date and time  . \n",
    "10 . write a function whihc will be able to read a image file and show it to you .\n",
    "11 . write a function which can read video file and play for you . \n",
    "12  . write a function whihc can move a file from one directory to another directory . \n",
    "13 . write a function which will be able to shutdonw your system . \n",
    "14 . write a function whihc will be able to access your mail . \n",
    "15 . write a func bywhcih i can send a mail to anyone \n",
    "16. write a func to read a complete PDf file . \n",
    "17. write a function to read a word file . \n",
    "18 . write a function which can help you to filter only word file from a directory . \n",
    "19 . write a function by which you can print an ip address of your system . \n",
    "20 . write a function by which you will be able to append two PDF files .\n",
    "\"\"\""
   ]
  },
  {
   "cell_type": "code",
   "execution_count": 18,
   "id": "79065518",
   "metadata": {},
   "outputs": [],
   "source": [
    "# 1. You have to write a fun which will take string and return a len of it without using a inbuilt fun \"len\".\n",
    "def func1(a):\n",
    "    l=[]\n",
    "    for i in a:\n",
    "        l.append(i)\n",
    "    return len(l)"
   ]
  },
  {
   "cell_type": "code",
   "execution_count": 19,
   "id": "73f7d8fa",
   "metadata": {},
   "outputs": [
    {
     "data": {
      "text/plain": [
       "4"
      ]
     },
     "execution_count": 19,
     "metadata": {},
     "output_type": "execute_result"
    }
   ],
   "source": [
    "func1(\"vgmn\")"
   ]
  },
  {
   "cell_type": "code",
   "execution_count": 22,
   "id": "3ce1ddf4",
   "metadata": {},
   "outputs": [],
   "source": [
    "def func1_1():\n",
    "    a=input()\n",
    "    l=[]\n",
    "    for i in a:\n",
    "        l.append(i)\n",
    "    return len(l)"
   ]
  },
  {
   "cell_type": "code",
   "execution_count": 23,
   "id": "e61a47b8",
   "metadata": {},
   "outputs": [
    {
     "name": "stdout",
     "output_type": "stream",
     "text": [
      "hg\n"
     ]
    },
    {
     "data": {
      "text/plain": [
       "2"
      ]
     },
     "execution_count": 23,
     "metadata": {},
     "output_type": "execute_result"
    }
   ],
   "source": [
    "func1_1()"
   ]
  },
  {
   "cell_type": "code",
   "execution_count": 1,
   "id": "b2891258",
   "metadata": {},
   "outputs": [],
   "source": [
    "# CORRECT SOLUTION\n",
    "def func121():\n",
    "    a=input()\n",
    "    if type(a)==str:\n",
    "        count = 0 \n",
    "    for i in a :\n",
    "        count = count +1\n",
    "    return count"
   ]
  },
  {
   "cell_type": "code",
   "execution_count": 2,
   "id": "4959176e",
   "metadata": {},
   "outputs": [
    {
     "name": "stdout",
     "output_type": "stream",
     "text": [
      "jdgfh\n"
     ]
    },
    {
     "data": {
      "text/plain": [
       "5"
      ]
     },
     "execution_count": 2,
     "metadata": {},
     "output_type": "execute_result"
    }
   ],
   "source": [
    "func121()"
   ]
  },
  {
   "cell_type": "code",
   "execution_count": 23,
   "id": "d499fe49",
   "metadata": {},
   "outputs": [],
   "source": [
    "# 2. write a fun which will be able to print an index of all premitive element which you will pass.\n",
    "def func2():\n",
    "    a=input(\"elements\")\n",
    "    if type(a)==list or type(a)==int or type(a)==str:\n",
    "        for i in range(len(a)):\n",
    "            return(a[i],i)\n",
    "        "
   ]
  },
  {
   "cell_type": "code",
   "execution_count": 24,
   "id": "42f68d92",
   "metadata": {},
   "outputs": [
    {
     "name": "stdout",
     "output_type": "stream",
     "text": [
      "elements3\n"
     ]
    },
    {
     "data": {
      "text/plain": [
       "('3', 0)"
      ]
     },
     "execution_count": 24,
     "metadata": {},
     "output_type": "execute_result"
    }
   ],
   "source": [
    "func2()"
   ]
  },
  {
   "cell_type": "code",
   "execution_count": 35,
   "id": "b36ff5f9",
   "metadata": {},
   "outputs": [],
   "source": [
    "def func2_1(a):\n",
    "    if type(a)==list or type(a) or type(a)==str:\n",
    "        for i in range(len(a)):\n",
    "            print(a[i],i)\n",
    "        "
   ]
  },
  {
   "cell_type": "code",
   "execution_count": 36,
   "id": "c5c9812a",
   "metadata": {},
   "outputs": [
    {
     "name": "stdout",
     "output_type": "stream",
     "text": [
      "1 0\n",
      "2 1\n",
      "3 2\n"
     ]
    }
   ],
   "source": [
    "func2_1([1,2,3])"
   ]
  },
  {
   "cell_type": "code",
   "execution_count": 51,
   "id": "070c39e9",
   "metadata": {},
   "outputs": [],
   "source": [
    "#3. Write a fun which will take input as a dict and give me out as a list of all the values \n",
    "#   even in case of 2 level nesting it should work.\n",
    "def func3(d):\n",
    "        l = []\n",
    "        if type(d)==dict:\n",
    "            for i in d.values():\n",
    "                for j in i.values():\n",
    "                    l.append(j)\n",
    "                return(l)"
   ]
  },
  {
   "cell_type": "code",
   "execution_count": 53,
   "id": "48032ba6",
   "metadata": {},
   "outputs": [
    {
     "data": {
      "text/plain": [
       "[14, 10, 4]"
      ]
     },
     "execution_count": 53,
     "metadata": {},
     "output_type": "execute_result"
    }
   ],
   "source": [
    "func3({\"ineruon\" :{\n",
    "                        \"a\" : 14,\n",
    "                        \"b\":10,\n",
    "                        \"c\" : 4\n",
    "                    },\n",
    "        \n",
    "    })"
   ]
  },
  {
   "cell_type": "code",
   "execution_count": 6,
   "id": "2c22570e",
   "metadata": {},
   "outputs": [],
   "source": [
    "#4. Write a fun which will take another function as an input and return me an output.\n",
    "\n",
    "def func4():\n",
    "    a=input()\n",
    "    return(a)\n",
    "                        "
   ]
  },
  {
   "cell_type": "code",
   "execution_count": 7,
   "id": "0e7ba307",
   "metadata": {},
   "outputs": [
    {
     "name": "stdout",
     "output_type": "stream",
     "text": [
      "dfg\n"
     ]
    },
    {
     "data": {
      "text/plain": [
       "'dfg'"
      ]
     },
     "execution_count": 7,
     "metadata": {},
     "output_type": "execute_result"
    }
   ],
   "source": [
    "func4()"
   ]
  },
  {
   "cell_type": "code",
   "execution_count": 40,
   "id": "928fd1ca",
   "metadata": {},
   "outputs": [
    {
     "data": {
      "text/plain": [
       "[2]"
      ]
     },
     "execution_count": 40,
     "metadata": {},
     "output_type": "execute_result"
    }
   ],
   "source": [
    "def func4_1(n):\n",
    "    return list(range(n))\n",
    "def func4_1_1(fun):\n",
    "    if type(fun)==list:\n",
    "        l=[]\n",
    "        for i in fun:\n",
    "            l.append(i+2)\n",
    "            return l\n",
    "func4_1_1(func4_1(5))"
   ]
  },
  {
   "cell_type": "code",
   "execution_count": 1,
   "id": "92df5ea6",
   "metadata": {},
   "outputs": [],
   "source": [
    "#5. write a function which will take multiple list as a input and give me concatnation of all the element as \n",
    "# and output.\n",
    "\n",
    "def func5(a,b) :\n",
    "    if type(a) == list and type(b) == list:\n",
    "        a.extend(b)\n",
    "        return a\n",
    "    else :\n",
    "        return \"either of your data is not a list \""
   ]
  },
  {
   "cell_type": "code",
   "execution_count": 2,
   "id": "37e4c60a",
   "metadata": {},
   "outputs": [
    {
     "data": {
      "text/plain": [
       "[1, 2, 3, 4, 5, 6]"
      ]
     },
     "execution_count": 2,
     "metadata": {},
     "output_type": "execute_result"
    }
   ],
   "source": [
    "func5([1,2,3],[4,5,6])"
   ]
  },
  {
   "cell_type": "code",
   "execution_count": 7,
   "id": "3839c24a",
   "metadata": {},
   "outputs": [],
   "source": [
    "def func5(*a) :\n",
    "    l=[]\n",
    "    for i in a:\n",
    "        if type(i) == list:\n",
    "            l.append=l+i\n",
    "    return l"
   ]
  },
  {
   "cell_type": "code",
   "execution_count": 8,
   "id": "e1a32548",
   "metadata": {},
   "outputs": [
    {
     "data": {
      "text/plain": [
       "[1, 2, 3, 'a', 'a', 'rr']"
      ]
     },
     "execution_count": 8,
     "metadata": {},
     "output_type": "execute_result"
    }
   ],
   "source": [
    "func5([1,2,3],['a','a','rr'])"
   ]
  },
  {
   "cell_type": "code",
   "execution_count": 12,
   "id": "bb61558c",
   "metadata": {},
   "outputs": [],
   "source": [
    "# 6. write a function which will be able to take a list as an input return an index of each element \n",
    "#   like a inbuilt index function but even if we have repetative element it should return index.\n",
    "def func6(l1):\n",
    "    l=[]\n",
    "    if type(l1)==list:\n",
    "        for i in range(len(l1)):\n",
    "            l.append(f'index of {l1[i]} is {i}')\n",
    "        return l"
   ]
  },
  {
   "cell_type": "code",
   "execution_count": 13,
   "id": "04be5871",
   "metadata": {},
   "outputs": [
    {
     "data": {
      "text/plain": [
       "['index of 1 is 0',\n",
       " 'index of 2 is 1',\n",
       " 'index of 3 is 2',\n",
       " 'index of 4 is 3',\n",
       " 'index of 1 is 4',\n",
       " 'index of 2 is 5']"
      ]
     },
     "execution_count": 13,
     "metadata": {},
     "output_type": "execute_result"
    }
   ],
   "source": [
    "func6([1,2,3,4,1,2])"
   ]
  },
  {
   "cell_type": "code",
   "execution_count": null,
   "id": "876012fc",
   "metadata": {},
   "outputs": [],
   "source": [
    "# 7. Write a function which would return list of all the file name from a directory. \n",
    "def func7(path):\n",
    "    import os\n",
    "    returnos.listdir(path)\n",
    "func7(\" \") # in bracket pass any path then execute"
   ]
  },
  {
   "cell_type": "code",
   "execution_count": 22,
   "id": "e1b9a82f",
   "metadata": {},
   "outputs": [
    {
     "data": {
      "text/plain": [
       "uname_result(system='Darwin', node='ANIKETs-MacBook-Air.local', release='21.2.0', version='Darwin Kernel Version 21.2.0: Sun Nov 28 20:28:54 PST 2021; root:xnu-8019.61.5~1/RELEASE_X86_64', machine='x86_64', processor='i386')"
      ]
     },
     "execution_count": 22,
     "metadata": {},
     "output_type": "execute_result"
    }
   ],
   "source": [
    "# 8. write a function which will be able to show your system configuration . \n",
    "def func8():\n",
    "    import platform as pl\n",
    "    return pl.uname()\n",
    "func8()"
   ]
  },
  {
   "cell_type": "code",
   "execution_count": null,
   "id": "a5f7b16d",
   "metadata": {},
   "outputs": [],
   "source": []
  }
 ],
 "metadata": {
  "kernelspec": {
   "display_name": "Python 3 (ipykernel)",
   "language": "python",
   "name": "python3"
  },
  "language_info": {
   "codemirror_mode": {
    "name": "ipython",
    "version": 3
   },
   "file_extension": ".py",
   "mimetype": "text/x-python",
   "name": "python",
   "nbconvert_exporter": "python",
   "pygments_lexer": "ipython3",
   "version": "3.7.7"
  }
 },
 "nbformat": 4,
 "nbformat_minor": 5
}
