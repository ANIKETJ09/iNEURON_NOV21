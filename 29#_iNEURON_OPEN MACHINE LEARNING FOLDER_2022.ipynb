{
 "cells": [
  {
   "cell_type": "code",
   "execution_count": 3,
   "id": "d83bf955-4d91-4bc0-8f10-6891aaa3e379",
   "metadata": {},
   "outputs": [],
   "source": [
    "# OPEN MACHINE LEARNING FOLDER"
   ]
  },
  {
   "cell_type": "code",
   "execution_count": null,
   "id": "172f8596-eae4-48f8-b719-5ad28829622a",
   "metadata": {},
   "outputs": [],
   "source": []
  }
 ],
 "metadata": {
  "kernelspec": {
   "display_name": "Python 3 (ipykernel)",
   "language": "python",
   "name": "python3"
  },
  "language_info": {
   "codemirror_mode": {
    "name": "ipython",
    "version": 3
   },
   "file_extension": ".py",
   "mimetype": "text/x-python",
   "name": "python",
   "nbconvert_exporter": "python",
   "pygments_lexer": "ipython3",
   "version": "3.9.12"
  }
 },
 "nbformat": 4,
 "nbformat_minor": 5
}
