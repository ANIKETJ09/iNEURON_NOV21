{
 "cells": [
  {
   "cell_type": "markdown",
   "id": "df1f4657",
   "metadata": {},
   "source": [
    "## 29 JAN"
   ]
  },
  {
   "cell_type": "code",
   "execution_count": 12,
   "id": "bcebc33f",
   "metadata": {},
   "outputs": [],
   "source": [
    "## INHERITACE CONCEPT"
   ]
  },
  {
   "cell_type": "code",
   "execution_count": 1,
   "id": "8b9844d9",
   "metadata": {},
   "outputs": [],
   "source": [
    "class xyz :\n",
    "    def __init__(self,a,b,c):\n",
    "        self.a = a \n",
    "        self.b = b\n",
    "        self.c = c \n",
    "    \n",
    "    def test(self):\n",
    "        print(\"this is my first test metond of xyz class \")\n",
    "        \n",
    "    def test1(self):\n",
    "        print(\"this is a test1 meth of xyz class \")\n",
    "    \n",
    "    def test2(self): \n",
    "        print(\"this is my test2 meth of xyz class \")  "
   ]
  },
  {
   "cell_type": "code",
   "execution_count": 2,
   "id": "51366238",
   "metadata": {},
   "outputs": [],
   "source": [
    "p = xyz(1,2,3) # Now here p is variable of class xyz"
   ]
  },
  {
   "cell_type": "code",
   "execution_count": 3,
   "id": "36e690b0",
   "metadata": {},
   "outputs": [
    {
     "name": "stdout",
     "output_type": "stream",
     "text": [
      "this is a test1 meth of xyz class \n"
     ]
    }
   ],
   "source": [
    "p.test1()  # Now with help of this class varibale 'p' we can access a,b,c,test,test1,test2."
   ]
  },
  {
   "cell_type": "code",
   "execution_count": 4,
   "id": "66aad3a8",
   "metadata": {},
   "outputs": [],
   "source": [
    "# Now in above we created one class whoes name is 'xyz'. now again I create one class xyz1 now i want to \n",
    "# utilize all the things which are present in the class xyz in xyz1 class.Then how we can import from xyz \n",
    "# to xyz1.let see... \n",
    "\n",
    "class xyz1(xyz):  # here we are calling class as method by putting the xyz in xyz1 class.same like function,\n",
    "                  # inside the function we are passing argument.so in python we can write class inside the \n",
    "                  # class.\n",
    "    pass\n",
    "\n",
    "# here we are trying to call xyz class inside the xyz1 class.means i am trying to call properties of xyz class \n",
    "# inside the property xyz1 class. By deafalut it is trying to inherrit each and every thing."
   ]
  },
  {
   "cell_type": "code",
   "execution_count": 5,
   "id": "e5cb6b6f",
   "metadata": {},
   "outputs": [
    {
     "ename": "TypeError",
     "evalue": "__init__() missing 3 required positional arguments: 'a', 'b', and 'c'",
     "output_type": "error",
     "traceback": [
      "\u001b[0;31m---------------------------------------------------------------------------\u001b[0m",
      "\u001b[0;31mTypeError\u001b[0m                                 Traceback (most recent call last)",
      "\u001b[0;32m<ipython-input-5-9fc0ba77cfbc>\u001b[0m in \u001b[0;36m<module>\u001b[0;34m\u001b[0m\n\u001b[0;32m----> 1\u001b[0;31m \u001b[0mq\u001b[0m \u001b[0;34m=\u001b[0m \u001b[0mxyz1\u001b[0m\u001b[0;34m(\u001b[0m\u001b[0;34m)\u001b[0m \u001b[0;31m# Now after executing this we will get Error. Because we have not given any thing in bracket.\u001b[0m\u001b[0;34m\u001b[0m\u001b[0;34m\u001b[0m\u001b[0m\n\u001b[0m\u001b[1;32m      2\u001b[0m            \u001b[0;31m# beacuse as in above cell we called xyz in xyz1 class. and as we know that in xyz class we wrote\u001b[0m\u001b[0;34m\u001b[0m\u001b[0;34m\u001b[0m\u001b[0;34m\u001b[0m\u001b[0m\n\u001b[1;32m      3\u001b[0m            \u001b[0;31m# __init__ function and it is asking 3 variable. and because of inheritace xyz1 class is also\u001b[0m\u001b[0;34m\u001b[0m\u001b[0;34m\u001b[0m\u001b[0;34m\u001b[0m\u001b[0m\n\u001b[1;32m      4\u001b[0m            \u001b[0;31m# expecting 3 variable inside it.\u001b[0m\u001b[0;34m\u001b[0m\u001b[0;34m\u001b[0m\u001b[0;34m\u001b[0m\u001b[0m\n",
      "\u001b[0;31mTypeError\u001b[0m: __init__() missing 3 required positional arguments: 'a', 'b', and 'c'"
     ]
    }
   ],
   "source": [
    "q = xyz1() # Now after executing this we will get Error. Because we have not given any thing in bracket.\n",
    "           # beacuse as in above cell we called xyz in xyz1 class. and as we know that in xyz class we wrote \n",
    "           # __init__ function and it is asking 3 variable. and because of inheritace xyz1 class is also\n",
    "           # expecting 3 variable inside it.\n",
    "            \n",
    "# now see in below cell."
   ]
  },
  {
   "cell_type": "code",
   "execution_count": 6,
   "id": "a5d5136f",
   "metadata": {},
   "outputs": [],
   "source": [
    "q = xyz1(3,4,5)"
   ]
  },
  {
   "cell_type": "code",
   "execution_count": 7,
   "id": "d671e1da",
   "metadata": {},
   "outputs": [
    {
     "name": "stdout",
     "output_type": "stream",
     "text": [
      "this is a test1 meth of xyz class \n"
     ]
    }
   ],
   "source": [
    "q.test1()\n",
    "\n",
    "# Now here we get the o/p. whatever in the xyz class it will show it in xyz1 class. "
   ]
  },
  {
   "cell_type": "code",
   "execution_count": 8,
   "id": "5a546cc6",
   "metadata": {},
   "outputs": [
    {
     "data": {
      "text/plain": [
       "3"
      ]
     },
     "execution_count": 8,
     "metadata": {},
     "output_type": "execute_result"
    }
   ],
   "source": [
    "q.a"
   ]
  },
  {
   "cell_type": "code",
   "execution_count": 9,
   "id": "dbee2874",
   "metadata": {},
   "outputs": [],
   "source": [
    "class xyz1(xyz):\n",
    "    def test(self):\n",
    "        print(\"this is a test meth aviable in xyz1\")\n",
    "        \n",
    "        "
   ]
  },
  {
   "cell_type": "code",
   "execution_count": 10,
   "id": "7292c285",
   "metadata": {},
   "outputs": [],
   "source": [
    "g = xyz1(4,5,6)"
   ]
  },
  {
   "cell_type": "code",
   "execution_count": 11,
   "id": "ae852e68",
   "metadata": {},
   "outputs": [
    {
     "name": "stdout",
     "output_type": "stream",
     "text": [
      "this is a test meth aviable in xyz1\n"
     ]
    }
   ],
   "source": [
    "g.test()  # Here we get the o/p from the child class i.e. xyz1.\n",
    "          # as we know that in both the classes there is 'test()'function is available but it will give us o/p \n",
    "          # from the function i.e.'test()' which is available at child class i.e. xyz1 class. because it will \n",
    "          # over write the method defination itself. "
   ]
  },
  {
   "cell_type": "code",
   "execution_count": null,
   "id": "c5d0247a",
   "metadata": {},
   "outputs": [],
   "source": [
    "# Multiple Inheritance."
   ]
  },
  {
   "cell_type": "code",
   "execution_count": 14,
   "id": "85b5e1b1",
   "metadata": {},
   "outputs": [],
   "source": [
    "class xyz:\n",
    "    def __init__(self,a,b,c) :\n",
    "        self.a= a \n",
    "        self.b= b \n",
    "        self.c= c \n",
    "        \n",
    "        \n",
    "    def test(self) : \n",
    "        print(\"this is a meth of xyz class \")\n",
    "    \n",
    "class xyz1:\n",
    "    \n",
    "    def __init__(self,p,q,v) :\n",
    "        self.p = p \n",
    "        self.v = v \n",
    "        self.q = q \n",
    "        \n",
    "    def test1(self) : \n",
    "        print(\"this is a meth form class xyz1\")\n",
    "        \n",
    "class child(xyz,xyz1):\n",
    "    pass\n",
    "    "
   ]
  },
  {
   "cell_type": "code",
   "execution_count": 15,
   "id": "15d77042",
   "metadata": {},
   "outputs": [],
   "source": [
    "n = child(1,2,3)"
   ]
  },
  {
   "cell_type": "code",
   "execution_count": 16,
   "id": "1c789649",
   "metadata": {},
   "outputs": [
    {
     "data": {
      "text/plain": [
       "1"
      ]
     },
     "execution_count": 16,
     "metadata": {},
     "output_type": "execute_result"
    }
   ],
   "source": [
    "n.a"
   ]
  },
  {
   "cell_type": "code",
   "execution_count": 18,
   "id": "4e49cb39",
   "metadata": {},
   "outputs": [
    {
     "data": {
      "text/plain": [
       "2"
      ]
     },
     "execution_count": 18,
     "metadata": {},
     "output_type": "execute_result"
    }
   ],
   "source": [
    "n.b"
   ]
  },
  {
   "cell_type": "code",
   "execution_count": 19,
   "id": "0b22a95e",
   "metadata": {},
   "outputs": [
    {
     "data": {
      "text/plain": [
       "3"
      ]
     },
     "execution_count": 19,
     "metadata": {},
     "output_type": "execute_result"
    }
   ],
   "source": [
    "n.c"
   ]
  },
  {
   "cell_type": "code",
   "execution_count": 20,
   "id": "390d518d",
   "metadata": {},
   "outputs": [
    {
     "name": "stdout",
     "output_type": "stream",
     "text": [
      "this is a meth of xyz class \n"
     ]
    }
   ],
   "source": [
    "n.test()"
   ]
  },
  {
   "cell_type": "code",
   "execution_count": 21,
   "id": "0aa9745a",
   "metadata": {},
   "outputs": [
    {
     "ename": "AttributeError",
     "evalue": "'child' object has no attribute 'p'",
     "output_type": "error",
     "traceback": [
      "\u001b[0;31m---------------------------------------------------------------------------\u001b[0m",
      "\u001b[0;31mAttributeError\u001b[0m                            Traceback (most recent call last)",
      "\u001b[0;32m<ipython-input-21-39ac1e6251c0>\u001b[0m in \u001b[0;36m<module>\u001b[0;34m\u001b[0m\n\u001b[0;32m----> 1\u001b[0;31m \u001b[0mn\u001b[0m\u001b[0;34m.\u001b[0m\u001b[0mp\u001b[0m\u001b[0;34m\u001b[0m\u001b[0;34m\u001b[0m\u001b[0m\n\u001b[0m",
      "\u001b[0;31mAttributeError\u001b[0m: 'child' object has no attribute 'p'"
     ]
    }
   ],
   "source": [
    "n.p"
   ]
  },
  {
   "cell_type": "code",
   "execution_count": 22,
   "id": "18637ee5",
   "metadata": {},
   "outputs": [
    {
     "ename": "AttributeError",
     "evalue": "'child' object has no attribute 'v'",
     "output_type": "error",
     "traceback": [
      "\u001b[0;31m---------------------------------------------------------------------------\u001b[0m",
      "\u001b[0;31mAttributeError\u001b[0m                            Traceback (most recent call last)",
      "\u001b[0;32m<ipython-input-22-f35ba2996a3e>\u001b[0m in \u001b[0;36m<module>\u001b[0;34m\u001b[0m\n\u001b[0;32m----> 1\u001b[0;31m \u001b[0mn\u001b[0m\u001b[0;34m.\u001b[0m\u001b[0mv\u001b[0m\u001b[0;34m\u001b[0m\u001b[0;34m\u001b[0m\u001b[0m\n\u001b[0m",
      "\u001b[0;31mAttributeError\u001b[0m: 'child' object has no attribute 'v'"
     ]
    }
   ],
   "source": [
    "n.v"
   ]
  },
  {
   "cell_type": "code",
   "execution_count": 23,
   "id": "c5659653",
   "metadata": {},
   "outputs": [
    {
     "ename": "AttributeError",
     "evalue": "'child' object has no attribute 'q'",
     "output_type": "error",
     "traceback": [
      "\u001b[0;31m---------------------------------------------------------------------------\u001b[0m",
      "\u001b[0;31mAttributeError\u001b[0m                            Traceback (most recent call last)",
      "\u001b[0;32m<ipython-input-23-52abf7431d88>\u001b[0m in \u001b[0;36m<module>\u001b[0;34m\u001b[0m\n\u001b[0;32m----> 1\u001b[0;31m \u001b[0mn\u001b[0m\u001b[0;34m.\u001b[0m\u001b[0mq\u001b[0m\u001b[0;34m\u001b[0m\u001b[0;34m\u001b[0m\u001b[0m\n\u001b[0m",
      "\u001b[0;31mAttributeError\u001b[0m: 'child' object has no attribute 'q'"
     ]
    }
   ],
   "source": [
    "n.q"
   ]
  },
  {
   "cell_type": "code",
   "execution_count": 24,
   "id": "eefefcf4",
   "metadata": {},
   "outputs": [
    {
     "name": "stdout",
     "output_type": "stream",
     "text": [
      "this is a meth form class xyz1\n"
     ]
    }
   ],
   "source": [
    "n.test1()"
   ]
  },
  {
   "cell_type": "code",
   "execution_count": 25,
   "id": "13c8cc0e",
   "metadata": {},
   "outputs": [],
   "source": [
    "# Now from watching cell no. from 16 to 24 we can conclude that child class is completly taking 'function' i.e\n",
    "# called as methods in \"class-object topic of python\" and as well as variable i.e (a,b,c) from xyz class but it\n",
    "# is partially taking some features i.e only function from xyz1 class. \n",
    "\n",
    "# because.... 1st see cell no 14 line no 21 \n",
    "\n",
    "# class child(xyz,xyz1):\n",
    "#    pass\n",
    "\n",
    "# Here we give xyz 1st then xyz1 as 2nd taht's why we are getting or we can say that it is inheriting all \n",
    "# variable from very 1st class of an argument which i have given at the time of inheritance i.e a,b,c,& test()\n",
    "# from 'xyz' class and test1() from the xyz1 class.\n",
    "\n",
    "# But insted of this -------> class child(xyz,xyz1):     If I give this ----->      class child(xyz1,xyz):\n",
    "#                                pass                                                   pass\n",
    "\n",
    "# Here we give xyz1 1st then xyz as 2nd that's why we are getting or we can say that it is inheriting all \n",
    "# variable from very 2nd class of an argument which i have given at the time of inheritance i.e p,v,q,& test1()\n",
    "# from 'xyz1' class and test() from the xyz class.\n"
   ]
  },
  {
   "cell_type": "code",
   "execution_count": 26,
   "id": "418dfd1f",
   "metadata": {},
   "outputs": [],
   "source": [
    "# now here is the solution of above problem.\n",
    "\n",
    "class xyz:\n",
    "    def __init__(self, a,b,c) :\n",
    "        self.a= a \n",
    "        self.b= b \n",
    "        self.c= c \n",
    "        \n",
    "        \n",
    "    def test(self) : \n",
    "        print(\"this is a meth of xyz class \")\n",
    "    \n",
    "class xyz1:\n",
    "    \n",
    "    def __init__(self , p,q,v) :\n",
    "        self.p = p \n",
    "        self.v = v \n",
    "        self.q = q \n",
    "        \n",
    "    def test1(self) : \n",
    "        print(\"this is a meth form class xyz1\")\n",
    "        \n",
    "class child(xyz1,xyz):\n",
    "    def __init__(self , *args ,**kwargs):\n",
    "        xyz.__init__(self,*args) \n",
    "        xyz1.__init__(self,**kwargs)   "
   ]
  },
  {
   "cell_type": "code",
   "execution_count": 27,
   "id": "ceff1cca",
   "metadata": {},
   "outputs": [
    {
     "ename": "TypeError",
     "evalue": "__init__() takes 4 positional arguments but 7 were given",
     "output_type": "error",
     "traceback": [
      "\u001b[0;31m---------------------------------------------------------------------------\u001b[0m",
      "\u001b[0;31mTypeError\u001b[0m                                 Traceback (most recent call last)",
      "\u001b[0;32m<ipython-input-27-ac2e1ff23a3f>\u001b[0m in \u001b[0;36m<module>\u001b[0;34m\u001b[0m\n\u001b[0;32m----> 1\u001b[0;31m \u001b[0mn\u001b[0m \u001b[0;34m=\u001b[0m \u001b[0mchild\u001b[0m\u001b[0;34m(\u001b[0m\u001b[0;36m4\u001b[0m\u001b[0;34m,\u001b[0m\u001b[0;36m5\u001b[0m\u001b[0;34m,\u001b[0m\u001b[0;36m6\u001b[0m\u001b[0;34m,\u001b[0m\u001b[0;36m7\u001b[0m\u001b[0;34m,\u001b[0m\u001b[0;36m8\u001b[0m\u001b[0;34m,\u001b[0m\u001b[0;36m9\u001b[0m\u001b[0;34m)\u001b[0m\u001b[0;34m\u001b[0m\u001b[0;34m\u001b[0m\u001b[0m\n\u001b[0m",
      "\u001b[0;32m<ipython-input-26-74017004a078>\u001b[0m in \u001b[0;36m__init__\u001b[0;34m(self, *args, **kwargs)\u001b[0m\n\u001b[1;32m     23\u001b[0m \u001b[0;32mclass\u001b[0m \u001b[0mchild\u001b[0m\u001b[0;34m(\u001b[0m\u001b[0mxyz1\u001b[0m\u001b[0;34m,\u001b[0m\u001b[0mxyz\u001b[0m\u001b[0;34m)\u001b[0m\u001b[0;34m:\u001b[0m\u001b[0;34m\u001b[0m\u001b[0;34m\u001b[0m\u001b[0m\n\u001b[1;32m     24\u001b[0m     \u001b[0;32mdef\u001b[0m \u001b[0m__init__\u001b[0m\u001b[0;34m(\u001b[0m\u001b[0mself\u001b[0m \u001b[0;34m,\u001b[0m \u001b[0;34m*\u001b[0m\u001b[0margs\u001b[0m \u001b[0;34m,\u001b[0m\u001b[0;34m**\u001b[0m\u001b[0mkwargs\u001b[0m\u001b[0;34m)\u001b[0m\u001b[0;34m:\u001b[0m\u001b[0;34m\u001b[0m\u001b[0;34m\u001b[0m\u001b[0m\n\u001b[0;32m---> 25\u001b[0;31m         \u001b[0mxyz\u001b[0m\u001b[0;34m.\u001b[0m\u001b[0m__init__\u001b[0m\u001b[0;34m(\u001b[0m\u001b[0mself\u001b[0m\u001b[0;34m,\u001b[0m\u001b[0;34m*\u001b[0m\u001b[0margs\u001b[0m\u001b[0;34m)\u001b[0m\u001b[0;34m\u001b[0m\u001b[0;34m\u001b[0m\u001b[0m\n\u001b[0m\u001b[1;32m     26\u001b[0m         \u001b[0mxyz1\u001b[0m\u001b[0;34m.\u001b[0m\u001b[0m__init__\u001b[0m\u001b[0;34m(\u001b[0m\u001b[0mself\u001b[0m\u001b[0;34m,\u001b[0m\u001b[0;34m**\u001b[0m\u001b[0mkwargs\u001b[0m\u001b[0;34m)\u001b[0m\u001b[0;34m\u001b[0m\u001b[0;34m\u001b[0m\u001b[0m\n",
      "\u001b[0;31mTypeError\u001b[0m: __init__() takes 4 positional arguments but 7 were given"
     ]
    }
   ],
   "source": [
    "n = child(4,5,6,7,8,9) # now we have to lable p,v,q seperatly."
   ]
  },
  {
   "cell_type": "code",
   "execution_count": null,
   "id": "96aa413f",
   "metadata": {},
   "outputs": [],
   "source": [
    "# Now here is the solution of above problem.\n",
    "# if we want to inherit complete propertites of one class into the another class then use init function in that\n",
    "# class where we have to inherit all properties from the other class. see line no 27 and 28 in same class.\n",
    "\n",
    "class xyz:\n",
    "    def __init__(self, a,b,c) :\n",
    "        self.a= a \n",
    "        self.b= b \n",
    "        self.c= c \n",
    "        \n",
    "        \n",
    "    def test(self) : \n",
    "        print(\"this is a meth of xyz class \")\n",
    "    \n",
    "class xyz1:\n",
    "    \n",
    "    def __init__(self , p,q,v) :\n",
    "        self.p = p \n",
    "        self.v = v \n",
    "        self.q = q \n",
    "        \n",
    "    def test1(self) : \n",
    "        print(\"this is a meth form class xyz1\")\n",
    "        \n",
    "class child(xyz1,xyz):\n",
    "    def __init__(self , *args ,**kwargs):\n",
    "        xyz.__init__(self,*args) \n",
    "        xyz1.__init__(self,**kwargs) \n",
    "        \n",
    "# so what we are doning Inside the __init__ of my child classes i over write that __init__ of my parrent classes\n",
    "# line no 26,27,28 of same cell. \n",
    "\n",
    "# see the video from 1hr 8min to 1hr 12 min."
   ]
  },
  {
   "cell_type": "code",
   "execution_count": 31,
   "id": "be9579e1",
   "metadata": {},
   "outputs": [],
   "source": [
    "n = child(4,5,6,p=3,q=4,v=5)"
   ]
  },
  {
   "cell_type": "code",
   "execution_count": 33,
   "id": "e5b63c1c",
   "metadata": {},
   "outputs": [
    {
     "data": {
      "text/plain": [
       "4"
      ]
     },
     "execution_count": 33,
     "metadata": {},
     "output_type": "execute_result"
    }
   ],
   "source": [
    "n.a"
   ]
  },
  {
   "cell_type": "code",
   "execution_count": 34,
   "id": "5be05ec0",
   "metadata": {},
   "outputs": [
    {
     "data": {
      "text/plain": [
       "5"
      ]
     },
     "execution_count": 34,
     "metadata": {},
     "output_type": "execute_result"
    }
   ],
   "source": [
    "n.b"
   ]
  },
  {
   "cell_type": "code",
   "execution_count": 35,
   "id": "fec402ad",
   "metadata": {},
   "outputs": [
    {
     "data": {
      "text/plain": [
       "6"
      ]
     },
     "execution_count": 35,
     "metadata": {},
     "output_type": "execute_result"
    }
   ],
   "source": [
    "n.c"
   ]
  },
  {
   "cell_type": "code",
   "execution_count": 36,
   "id": "c6cc659e",
   "metadata": {},
   "outputs": [
    {
     "name": "stdout",
     "output_type": "stream",
     "text": [
      "this is a meth of xyz class \n"
     ]
    }
   ],
   "source": [
    "n.test()"
   ]
  },
  {
   "cell_type": "code",
   "execution_count": 37,
   "id": "9fae96d4",
   "metadata": {},
   "outputs": [
    {
     "data": {
      "text/plain": [
       "3"
      ]
     },
     "execution_count": 37,
     "metadata": {},
     "output_type": "execute_result"
    }
   ],
   "source": [
    "n.p"
   ]
  },
  {
   "cell_type": "code",
   "execution_count": 38,
   "id": "f83db6c4",
   "metadata": {},
   "outputs": [
    {
     "data": {
      "text/plain": [
       "5"
      ]
     },
     "execution_count": 38,
     "metadata": {},
     "output_type": "execute_result"
    }
   ],
   "source": [
    "n.v"
   ]
  },
  {
   "cell_type": "code",
   "execution_count": 39,
   "id": "9dff8226",
   "metadata": {},
   "outputs": [
    {
     "data": {
      "text/plain": [
       "4"
      ]
     },
     "execution_count": 39,
     "metadata": {},
     "output_type": "execute_result"
    }
   ],
   "source": [
    "n.q"
   ]
  },
  {
   "cell_type": "code",
   "execution_count": 40,
   "id": "c6bfc4df",
   "metadata": {},
   "outputs": [
    {
     "name": "stdout",
     "output_type": "stream",
     "text": [
      "this is a meth form class xyz1\n"
     ]
    }
   ],
   "source": [
    "n.test1()"
   ]
  },
  {
   "cell_type": "code",
   "execution_count": 44,
   "id": "fecf8b2a",
   "metadata": {},
   "outputs": [],
   "source": [
    "# Multilevel Inheritance\n",
    "class xyz:\n",
    "    def __init__(self,a,b,c) :\n",
    "        self.a= a \n",
    "        self.b= b \n",
    "        self.c= c \n",
    "        \n",
    "        \n",
    "    def test(self) : \n",
    "        print(\"this is a meth of xyz class \")\n",
    "    \n",
    "class xyz1(xyz):\n",
    "        \n",
    "    def test1(self) : \n",
    "        print(\"this is a meth form class xyz1\")\n",
    "        \n",
    "class xyz2(xyz1) :\n",
    "    def test2(self) :\n",
    "        print(\"this is a meth form class 2\")\n",
    "\n",
    "class xyz3(xyz2):\n",
    "    def test3(self) : \n",
    "        print(\"this is my meth form class xyz3\")        "
   ]
  },
  {
   "cell_type": "code",
   "execution_count": 45,
   "id": "969427a2",
   "metadata": {},
   "outputs": [],
   "source": [
    "v = xyz2(5,6,7)"
   ]
  },
  {
   "cell_type": "code",
   "execution_count": 46,
   "id": "837c3d24",
   "metadata": {},
   "outputs": [],
   "source": [
    "m = xyz3(4,5,6)"
   ]
  },
  {
   "cell_type": "code",
   "execution_count": 47,
   "id": "edb651d6",
   "metadata": {},
   "outputs": [],
   "source": [
    "# 1"
   ]
  },
  {
   "cell_type": "code",
   "execution_count": 48,
   "id": "57ecc790",
   "metadata": {},
   "outputs": [],
   "source": [
    "j = xyz(4,89,90)"
   ]
  },
  {
   "cell_type": "code",
   "execution_count": 49,
   "id": "c6e62a12",
   "metadata": {},
   "outputs": [
    {
     "data": {
      "text/plain": [
       "4"
      ]
     },
     "execution_count": 49,
     "metadata": {},
     "output_type": "execute_result"
    }
   ],
   "source": [
    "j.a"
   ]
  },
  {
   "cell_type": "code",
   "execution_count": 50,
   "id": "7c2eeb31",
   "metadata": {},
   "outputs": [
    {
     "name": "stdout",
     "output_type": "stream",
     "text": [
      "this is a meth of xyz class \n"
     ]
    }
   ],
   "source": [
    "j.test()"
   ]
  },
  {
   "cell_type": "code",
   "execution_count": 51,
   "id": "360b0fe5",
   "metadata": {},
   "outputs": [],
   "source": [
    "#2 "
   ]
  },
  {
   "cell_type": "code",
   "execution_count": 52,
   "id": "fc317aaa",
   "metadata": {},
   "outputs": [],
   "source": [
    "v = xyz2(5,6,7)"
   ]
  },
  {
   "cell_type": "code",
   "execution_count": 53,
   "id": "36c2df90",
   "metadata": {},
   "outputs": [
    {
     "data": {
      "text/plain": [
       "5"
      ]
     },
     "execution_count": 53,
     "metadata": {},
     "output_type": "execute_result"
    }
   ],
   "source": [
    "v.a"
   ]
  },
  {
   "cell_type": "code",
   "execution_count": 54,
   "id": "f3152675",
   "metadata": {},
   "outputs": [
    {
     "name": "stdout",
     "output_type": "stream",
     "text": [
      "this is a meth of xyz class \n"
     ]
    }
   ],
   "source": [
    "v.test()"
   ]
  },
  {
   "cell_type": "code",
   "execution_count": 55,
   "id": "c8ca762b",
   "metadata": {},
   "outputs": [
    {
     "name": "stdout",
     "output_type": "stream",
     "text": [
      "this is a meth form class xyz1\n"
     ]
    }
   ],
   "source": [
    "v.test1()"
   ]
  },
  {
   "cell_type": "code",
   "execution_count": 56,
   "id": "aede687b",
   "metadata": {},
   "outputs": [],
   "source": [
    "# 3"
   ]
  },
  {
   "cell_type": "code",
   "execution_count": 57,
   "id": "531766ef",
   "metadata": {},
   "outputs": [],
   "source": [
    "m = xyz3(4,5,6)"
   ]
  },
  {
   "cell_type": "code",
   "execution_count": 58,
   "id": "449c2861",
   "metadata": {},
   "outputs": [
    {
     "data": {
      "text/plain": [
       "4"
      ]
     },
     "execution_count": 58,
     "metadata": {},
     "output_type": "execute_result"
    }
   ],
   "source": [
    "m.a"
   ]
  },
  {
   "cell_type": "code",
   "execution_count": 59,
   "id": "5bfc2d15",
   "metadata": {},
   "outputs": [
    {
     "name": "stdout",
     "output_type": "stream",
     "text": [
      "this is a meth of xyz class \n"
     ]
    }
   ],
   "source": [
    "m.test()"
   ]
  },
  {
   "cell_type": "code",
   "execution_count": 60,
   "id": "6708f839",
   "metadata": {},
   "outputs": [
    {
     "name": "stdout",
     "output_type": "stream",
     "text": [
      "this is a meth form class xyz1\n"
     ]
    }
   ],
   "source": [
    "m.test1()"
   ]
  },
  {
   "cell_type": "code",
   "execution_count": 61,
   "id": "d3537baa",
   "metadata": {},
   "outputs": [
    {
     "name": "stdout",
     "output_type": "stream",
     "text": [
      "this is a meth form class 2\n"
     ]
    }
   ],
   "source": [
    "m.test2()"
   ]
  },
  {
   "cell_type": "code",
   "execution_count": 62,
   "id": "834b08d2",
   "metadata": {},
   "outputs": [],
   "source": [
    "# q1  - create a file class for reading data from respective file with a method name read and write. \n",
    "# q2  - Try to inherit read and write method from parent class to child class to perform read and write \n",
    "#       operation. "
   ]
  },
  {
   "cell_type": "code",
   "execution_count": 63,
   "id": "3e41c15b",
   "metadata": {},
   "outputs": [],
   "source": [
    "import logging \n",
    "\n",
    "logging.basicConfig(filename=\"list.log\",level=logging.DEBUG,format=\"%(asctime)s %(levelname)s %(message)s\",\n",
    "                    filemode='w')\n",
    "\n",
    "class File:\n",
    "    def __init__(self,filename):\n",
    "        logging.info(\"Creating file instance varibale\")\n",
    "        self.file = filename\n",
    "\n",
    "    def read(self):\n",
    "        logging.info(\"executing read method\")\n",
    "        try:\n",
    "            with open(f\"{self.file}.txt\",'r') as f:\n",
    "                data = f.read()\n",
    "                return data\n",
    "        except FileNotFoundError as e:\n",
    "            logging.error(\"Error occured while opening the file \")\n",
    "            logging.exception(f\"Error is {e}\")\n",
    "\n",
    "    def write(self,data):\n",
    "        logging.info(\"executing write method\")\n",
    "        try:\n",
    "            with open(f\"{self.file}.txt\",'w') as f:\n",
    "                data = f.write(data)\n",
    "        except FileNotFoundError as e:\n",
    "            logging.error(\"Something is going wrong\")\n",
    "            \n",
    "obj = File(\"abc\")"
   ]
  },
  {
   "cell_type": "code",
   "execution_count": 64,
   "id": "65654da1",
   "metadata": {},
   "outputs": [],
   "source": [
    "class fileopeartion:\n",
    "    def __init__(self,filepath):\n",
    "        self.filepath = filepath\n",
    "        \n",
    "    def read(self):\n",
    "        try:\n",
    "            f = open(self.filepath,\"r+\")\n",
    "            print(f.read())\n",
    "        except Exception as e:\n",
    "            print(e)\n",
    "        f.close()\n",
    "        \n",
    "    def write(self,writings=\"\"):\n",
    "        try:\n",
    "            f = open(self.filepath,\"a\")\n",
    "        except Exception as e:\n",
    "            print(e)\n",
    "        f.write(writings)\n",
    "        f.close()\n",
    "        \n",
    "class child(fileopeartion):\n",
    "    pass"
   ]
  },
  {
   "cell_type": "markdown",
   "id": "e90a90ca",
   "metadata": {},
   "source": [
    "## PUBLIC-PRIVATE-PROTECTED "
   ]
  },
  {
   "cell_type": "code",
   "execution_count": 65,
   "id": "b7a642ec",
   "metadata": {},
   "outputs": [],
   "source": [
    "# In capsulation means you are just trying to protect your variable from outside, but in python there is no \n",
    "# such provision it just comes as notation. \n",
    "# PUBLIC-PRIVATE-PROTECTED it is not in python it is in java.\n",
    "# In python it is called as notation."
   ]
  },
  {
   "cell_type": "code",
   "execution_count": 80,
   "id": "cacbb042",
   "metadata": {},
   "outputs": [],
   "source": [
    "class test : \n",
    "    def __init__(self,a,b,c) :\n",
    "        self.a = a \n",
    "        self.b = b \n",
    "        self.c = c \n",
    "        \n",
    "class test1(test) :\n",
    "    pass\n",
    "\n",
    "u = test(4,5,6)\n",
    "# Watch Video from 1 hr. 52 min to  "
   ]
  },
  {
   "cell_type": "code",
   "execution_count": 81,
   "id": "e43f92f2",
   "metadata": {},
   "outputs": [],
   "source": [
    "v=test1(3,4,5)   # Here name of class variable is same either in 'u' and 'v' i.e. a,b,c but valus we have given \n",
    "                 # are different i.e 4,5,6 in u and 3,4,5 in v. see same cell and above cell.   "
   ]
  },
  {
   "cell_type": "code",
   "execution_count": 82,
   "id": "1ed7c69f",
   "metadata": {},
   "outputs": [
    {
     "data": {
      "text/plain": [
       "4"
      ]
     },
     "execution_count": 82,
     "metadata": {},
     "output_type": "execute_result"
    }
   ],
   "source": [
    "u.a"
   ]
  },
  {
   "cell_type": "code",
   "execution_count": 83,
   "id": "666c9f69",
   "metadata": {},
   "outputs": [
    {
     "data": {
      "text/plain": [
       "3"
      ]
     },
     "execution_count": 83,
     "metadata": {},
     "output_type": "execute_result"
    }
   ],
   "source": [
    "v.a"
   ]
  },
  {
   "cell_type": "code",
   "execution_count": 1,
   "id": "15862ce7",
   "metadata": {},
   "outputs": [],
   "source": [
    "class test : \n",
    "    def __init__(self) :\n",
    "        self.a = 4\n",
    "\n",
    "        \n",
    "class test1(test) :\n",
    "    def __init__(self): \n",
    "        self.a = 7"
   ]
  },
  {
   "cell_type": "code",
   "execution_count": 2,
   "id": "e4262ea2",
   "metadata": {},
   "outputs": [],
   "source": [
    "u = test()"
   ]
  },
  {
   "cell_type": "code",
   "execution_count": 3,
   "id": "50d700bb",
   "metadata": {},
   "outputs": [
    {
     "data": {
      "text/plain": [
       "4"
      ]
     },
     "execution_count": 3,
     "metadata": {},
     "output_type": "execute_result"
    }
   ],
   "source": [
    "u.a"
   ]
  },
  {
   "cell_type": "code",
   "execution_count": 93,
   "id": "39fdb4f3",
   "metadata": {},
   "outputs": [],
   "source": [
    "v=test1()"
   ]
  },
  {
   "cell_type": "code",
   "execution_count": 94,
   "id": "fd44e83e",
   "metadata": {},
   "outputs": [
    {
     "data": {
      "text/plain": [
       "7"
      ]
     },
     "execution_count": 94,
     "metadata": {},
     "output_type": "execute_result"
    }
   ],
   "source": [
    "v.a"
   ]
  },
  {
   "cell_type": "code",
   "execution_count": 84,
   "id": "ace814ae",
   "metadata": {},
   "outputs": [],
   "source": [
    "# See here what is happening in above code. 1st we give the value to the parent class. i.e. u=test(4,5,6)\n",
    "# so a=4 b=5 c=6.\n",
    "\n",
    "# now same class i.e. test() if we call it into the another class i.e. test 1() so still we get a=4 b=5 c=6.\n",
    "# but the thing is that there is one loop hole in it. i.e. we can assign the value directly to the test1(),\n",
    "# so a=3 b=4 c=5. means it is wrong thing that any one can manuplate the value.\n",
    " \n",
    "# so for this we have the followig concept. \n",
    "\n",
    "# PUBLIC-PRIVATE-PROTECTED it is not in python it is in java.\n",
    "# In python it is called as notation."
   ]
  },
  {
   "cell_type": "code",
   "execution_count": 115,
   "id": "c9197984",
   "metadata": {},
   "outputs": [],
   "source": [
    "class test : \n",
    "    def __init__(self) :\n",
    "        self._a = 4      # what is _a ? whenever you create variable with single underscore i.e. _a in Python\n",
    "                         # so it will treated as \"protected\" variable. and when there is no underscore (a = 10) \n",
    "                         # i.e. it is \"public\" variable.\n",
    "class test1(test):\n",
    "    def __init__(self): \n",
    "        self._a = 7\n",
    "\n",
    "u = test()"
   ]
  },
  {
   "cell_type": "code",
   "execution_count": 117,
   "id": "974b2f73",
   "metadata": {},
   "outputs": [
    {
     "data": {
      "text/plain": [
       "4"
      ]
     },
     "execution_count": 117,
     "metadata": {},
     "output_type": "execute_result"
    }
   ],
   "source": [
    "u._a"
   ]
  },
  {
   "cell_type": "code",
   "execution_count": 119,
   "id": "3cbcf731",
   "metadata": {},
   "outputs": [],
   "source": [
    "v = test1()"
   ]
  },
  {
   "cell_type": "code",
   "execution_count": 120,
   "id": "cec4dc3e",
   "metadata": {},
   "outputs": [
    {
     "data": {
      "text/plain": [
       "7"
      ]
     },
     "execution_count": 120,
     "metadata": {},
     "output_type": "execute_result"
    }
   ],
   "source": [
    "v._a"
   ]
  },
  {
   "cell_type": "code",
   "execution_count": 1,
   "id": "98af4e51",
   "metadata": {},
   "outputs": [],
   "source": [
    "class test : \n",
    "    def __init__(self) :\n",
    "        self.__a = 4   # what is __a ? whenever you create variable with double underscore i.e. __a in Python\n",
    "                         # so it will treated as \"private\" variable. \n",
    "   \n",
    "        \n",
    "class test1(test) :\n",
    "    def __init__(self): \n",
    "        self.__a = 7\n",
    "\n",
    "u = test()"
   ]
  },
  {
   "cell_type": "code",
   "execution_count": 2,
   "id": "2ad33f8f",
   "metadata": {},
   "outputs": [
    {
     "ename": "AttributeError",
     "evalue": "'test' object has no attribute '__a'",
     "output_type": "error",
     "traceback": [
      "\u001b[0;31m---------------------------------------------------------------------------\u001b[0m",
      "\u001b[0;31mAttributeError\u001b[0m                            Traceback (most recent call last)",
      "\u001b[0;32m<ipython-input-2-45f5c7f66ea7>\u001b[0m in \u001b[0;36m<module>\u001b[0;34m\u001b[0m\n\u001b[0;32m----> 1\u001b[0;31m \u001b[0mu\u001b[0m\u001b[0;34m.\u001b[0m\u001b[0m__a\u001b[0m\u001b[0;34m\u001b[0m\u001b[0;34m\u001b[0m\u001b[0m\n\u001b[0m",
      "\u001b[0;31mAttributeError\u001b[0m: 'test' object has no attribute '__a'"
     ]
    }
   ],
   "source": [
    "u.__a"
   ]
  },
  {
   "cell_type": "code",
   "execution_count": 3,
   "id": "b5fa75d8",
   "metadata": {},
   "outputs": [],
   "source": [
    "v=test1()"
   ]
  },
  {
   "cell_type": "code",
   "execution_count": 4,
   "id": "91dd5b81",
   "metadata": {},
   "outputs": [
    {
     "ename": "AttributeError",
     "evalue": "'test1' object has no attribute '__a'",
     "output_type": "error",
     "traceback": [
      "\u001b[0;31m---------------------------------------------------------------------------\u001b[0m",
      "\u001b[0;31mAttributeError\u001b[0m                            Traceback (most recent call last)",
      "\u001b[0;32m<ipython-input-4-7aed92cddc9e>\u001b[0m in \u001b[0;36m<module>\u001b[0;34m\u001b[0m\n\u001b[0;32m----> 1\u001b[0;31m \u001b[0mv\u001b[0m\u001b[0;34m.\u001b[0m\u001b[0m__a\u001b[0m\u001b[0;34m\u001b[0m\u001b[0;34m\u001b[0m\u001b[0m\n\u001b[0m",
      "\u001b[0;31mAttributeError\u001b[0m: 'test1' object has no attribute '__a'"
     ]
    }
   ],
   "source": [
    "v.__a"
   ]
  },
  {
   "cell_type": "code",
   "execution_count": 5,
   "id": "6f1ccbe8",
   "metadata": {},
   "outputs": [],
   "source": [
    "# Now in above case it is giving us error. "
   ]
  },
  {
   "cell_type": "code",
   "execution_count": 6,
   "id": "621170dd",
   "metadata": {},
   "outputs": [],
   "source": [
    "class test:\n",
    "    def __init__(self,a,b,c):\n",
    "        self.a = a \n",
    "        self.b= b \n",
    "        self.c = c \n",
    "    \n",
    "v = test(4,5,6)"
   ]
  },
  {
   "cell_type": "code",
   "execution_count": 7,
   "id": "418e92bf",
   "metadata": {},
   "outputs": [
    {
     "data": {
      "text/plain": [
       "4"
      ]
     },
     "execution_count": 7,
     "metadata": {},
     "output_type": "execute_result"
    }
   ],
   "source": [
    "v.a # We are able to access it."
   ]
  },
  {
   "cell_type": "code",
   "execution_count": 10,
   "id": "3505708a",
   "metadata": {},
   "outputs": [],
   "source": [
    "class test:\n",
    "    def __init__(self,a,b,c):\n",
    "        self._a = a \n",
    "        self.b= b \n",
    "        self.c = c \n",
    "    \n",
    "v = test(4,5,6)"
   ]
  },
  {
   "cell_type": "code",
   "execution_count": 11,
   "id": "24b8fa04",
   "metadata": {},
   "outputs": [
    {
     "ename": "AttributeError",
     "evalue": "'test' object has no attribute 'a'",
     "output_type": "error",
     "traceback": [
      "\u001b[0;31m---------------------------------------------------------------------------\u001b[0m",
      "\u001b[0;31mAttributeError\u001b[0m                            Traceback (most recent call last)",
      "\u001b[0;32m<ipython-input-11-bd111c48723f>\u001b[0m in \u001b[0;36m<module>\u001b[0;34m\u001b[0m\n\u001b[0;32m----> 1\u001b[0;31m \u001b[0mv\u001b[0m\u001b[0;34m.\u001b[0m\u001b[0ma\u001b[0m\u001b[0;34m\u001b[0m\u001b[0;34m\u001b[0m\u001b[0m\n\u001b[0m",
      "\u001b[0;31mAttributeError\u001b[0m: 'test' object has no attribute 'a'"
     ]
    }
   ],
   "source": [
    "v.a # we are not able to acces it. _a it means a notion means it is protected, that means you can use it \n",
    "    # inside the classes as well as sub class. but otside the sub class we are not be able to use it."
   ]
  },
  {
   "cell_type": "code",
   "execution_count": 13,
   "id": "cc23250d",
   "metadata": {},
   "outputs": [
    {
     "data": {
      "text/plain": [
       "4"
      ]
     },
     "execution_count": 13,
     "metadata": {},
     "output_type": "execute_result"
    }
   ],
   "source": [
    "# Now if we modify that i.e. \n",
    "\n",
    "v._a # Here it will work."
   ]
  },
  {
   "cell_type": "code",
   "execution_count": 19,
   "id": "a4bc8983",
   "metadata": {},
   "outputs": [],
   "source": [
    "# Again see the following code again. same code but some cahnges.\n",
    "\n",
    "class test:\n",
    "    def __init__(self,a,b,c):\n",
    "        self.__a = a \n",
    "        self.b= b \n",
    "        self.c = c \n",
    "    \n",
    "v = test(4,5,6)\n"
   ]
  },
  {
   "cell_type": "code",
   "execution_count": 20,
   "id": "86a7839b",
   "metadata": {},
   "outputs": [
    {
     "ename": "AttributeError",
     "evalue": "'test' object has no attribute '__a'",
     "output_type": "error",
     "traceback": [
      "\u001b[0;31m---------------------------------------------------------------------------\u001b[0m",
      "\u001b[0;31mAttributeError\u001b[0m                            Traceback (most recent call last)",
      "\u001b[0;32m<ipython-input-20-42f615992035>\u001b[0m in \u001b[0;36m<module>\u001b[0;34m\u001b[0m\n\u001b[0;32m----> 1\u001b[0;31m \u001b[0mv\u001b[0m\u001b[0;34m.\u001b[0m\u001b[0m__a\u001b[0m  \u001b[0;31m# Here it will not work. in error what is the message is giving that \" 'test' object has no attribute\u001b[0m\u001b[0;34m\u001b[0m\u001b[0;34m\u001b[0m\u001b[0m\n\u001b[0m\u001b[1;32m      2\u001b[0m        \u001b[0;31m# '__a' \"\u001b[0m\u001b[0;34m\u001b[0m\u001b[0;34m\u001b[0m\u001b[0;34m\u001b[0m\u001b[0m\n\u001b[1;32m      3\u001b[0m        \u001b[0;31m# but in code it is there but stilit is giving us error.\u001b[0m\u001b[0;34m\u001b[0m\u001b[0;34m\u001b[0m\u001b[0;34m\u001b[0m\u001b[0m\n\u001b[1;32m      4\u001b[0m \u001b[0;34m\u001b[0m\u001b[0m\n\u001b[1;32m      5\u001b[0m \u001b[0;31m# now see how to handle it in following cell.\u001b[0m\u001b[0;34m\u001b[0m\u001b[0;34m\u001b[0m\u001b[0;34m\u001b[0m\u001b[0m\n",
      "\u001b[0;31mAttributeError\u001b[0m: 'test' object has no attribute '__a'"
     ]
    }
   ],
   "source": [
    "v.__a  # Here it will not work. in error what is the message is giving that \" 'test' object has no attribute\n",
    "       # '__a' \"\n",
    "       # but in code it is there but stil it is giving us error.\n",
    "       # that means __a this kind of variable access in class only.\n",
    "        \n",
    "# now see how to handle it in following cell."
   ]
  },
  {
   "cell_type": "code",
   "execution_count": 22,
   "id": "8bc3f490",
   "metadata": {},
   "outputs": [
    {
     "data": {
      "text/plain": [
       "4"
      ]
     },
     "execution_count": 22,
     "metadata": {},
     "output_type": "execute_result"
    }
   ],
   "source": [
    "v._test__a"
   ]
  },
  {
   "cell_type": "code",
   "execution_count": 30,
   "id": "1025b1f1",
   "metadata": {},
   "outputs": [],
   "source": [
    "# now see the code with all public protected private in one code\n",
    "\n",
    "class test:\n",
    "    def __init__(self,a,b,c):\n",
    "        self._a = a  # Protected variable\n",
    "        self.__b= b  # Private variable\n",
    "        self.c = c   # Public variable\n",
    "class test1(test):\n",
    "\n",
    "        pass\n",
    "          \n",
    "v = test(4,5,6)"
   ]
  },
  {
   "cell_type": "code",
   "execution_count": 31,
   "id": "a1065590",
   "metadata": {},
   "outputs": [
    {
     "data": {
      "text/plain": [
       "4"
      ]
     },
     "execution_count": 31,
     "metadata": {},
     "output_type": "execute_result"
    }
   ],
   "source": [
    "v._a"
   ]
  },
  {
   "cell_type": "code",
   "execution_count": 32,
   "id": "29a5d656",
   "metadata": {},
   "outputs": [
    {
     "data": {
      "text/plain": [
       "5"
      ]
     },
     "execution_count": 32,
     "metadata": {},
     "output_type": "execute_result"
    }
   ],
   "source": [
    "v._test__b"
   ]
  },
  {
   "cell_type": "code",
   "execution_count": 33,
   "id": "5247a809",
   "metadata": {},
   "outputs": [
    {
     "data": {
      "text/plain": [
       "6"
      ]
     },
     "execution_count": 33,
     "metadata": {},
     "output_type": "execute_result"
    }
   ],
   "source": [
    "v.c"
   ]
  },
  {
   "cell_type": "code",
   "execution_count": 36,
   "id": "1c1e7129",
   "metadata": {},
   "outputs": [],
   "source": [
    "class test:\n",
    "    def __init__(self,a,b,c):\n",
    "        self._a = a  # Protected variable\n",
    "        self.__b= b  # Private variable\n",
    "        self.c = c   # Public variable\n",
    "        \n",
    "class test1(test):\n",
    "    pass\n",
    "          \n",
    "v = test(4,5,6)"
   ]
  },
  {
   "cell_type": "code",
   "execution_count": 37,
   "id": "467827ad",
   "metadata": {},
   "outputs": [],
   "source": [
    "u=test1(3,4,7)"
   ]
  },
  {
   "cell_type": "code",
   "execution_count": null,
   "id": "5ea99ec3",
   "metadata": {},
   "outputs": [],
   "source": [
    "# 1"
   ]
  },
  {
   "cell_type": "code",
   "execution_count": 38,
   "id": "860b6bb4",
   "metadata": {},
   "outputs": [
    {
     "data": {
      "text/plain": [
       "7"
      ]
     },
     "execution_count": 38,
     "metadata": {},
     "output_type": "execute_result"
    }
   ],
   "source": [
    "u.c"
   ]
  },
  {
   "cell_type": "code",
   "execution_count": null,
   "id": "04696972",
   "metadata": {},
   "outputs": [],
   "source": [
    "# 2"
   ]
  },
  {
   "cell_type": "code",
   "execution_count": 40,
   "id": "ddd07822",
   "metadata": {},
   "outputs": [
    {
     "ename": "AttributeError",
     "evalue": "'test1' object has no attribute 'a'",
     "output_type": "error",
     "traceback": [
      "\u001b[0;31m---------------------------------------------------------------------------\u001b[0m",
      "\u001b[0;31mAttributeError\u001b[0m                            Traceback (most recent call last)",
      "\u001b[0;32m<ipython-input-40-afa9342845d0>\u001b[0m in \u001b[0;36m<module>\u001b[0;34m\u001b[0m\n\u001b[0;32m----> 1\u001b[0;31m \u001b[0mu\u001b[0m\u001b[0;34m.\u001b[0m\u001b[0ma\u001b[0m\u001b[0;34m\u001b[0m\u001b[0;34m\u001b[0m\u001b[0m\n\u001b[0m",
      "\u001b[0;31mAttributeError\u001b[0m: 'test1' object has no attribute 'a'"
     ]
    }
   ],
   "source": [
    "u.a  # here i am not be able to acces it"
   ]
  },
  {
   "cell_type": "code",
   "execution_count": 41,
   "id": "eb541bdb",
   "metadata": {},
   "outputs": [
    {
     "data": {
      "text/plain": [
       "3"
      ]
     },
     "execution_count": 41,
     "metadata": {},
     "output_type": "execute_result"
    }
   ],
   "source": [
    "u._a  # here we are able to acces it"
   ]
  },
  {
   "cell_type": "code",
   "execution_count": 42,
   "id": "a40dacd3",
   "metadata": {},
   "outputs": [],
   "source": [
    "# 3"
   ]
  },
  {
   "cell_type": "code",
   "execution_count": 43,
   "id": "ec65fc01",
   "metadata": {},
   "outputs": [
    {
     "ename": "AttributeError",
     "evalue": "'test1' object has no attribute '__b'",
     "output_type": "error",
     "traceback": [
      "\u001b[0;31m---------------------------------------------------------------------------\u001b[0m",
      "\u001b[0;31mAttributeError\u001b[0m                            Traceback (most recent call last)",
      "\u001b[0;32m<ipython-input-43-4dfc70e27000>\u001b[0m in \u001b[0;36m<module>\u001b[0;34m\u001b[0m\n\u001b[0;32m----> 1\u001b[0;31m \u001b[0mu\u001b[0m\u001b[0;34m.\u001b[0m\u001b[0m__b\u001b[0m\u001b[0;34m\u001b[0m\u001b[0;34m\u001b[0m\u001b[0m\n\u001b[0m",
      "\u001b[0;31mAttributeError\u001b[0m: 'test1' object has no attribute '__b'"
     ]
    }
   ],
   "source": [
    "u.__b"
   ]
  },
  {
   "cell_type": "code",
   "execution_count": 45,
   "id": "f51bdf57",
   "metadata": {},
   "outputs": [
    {
     "data": {
      "text/plain": [
       "4"
      ]
     },
     "execution_count": 45,
     "metadata": {},
     "output_type": "execute_result"
    }
   ],
   "source": [
    "u._test__b   # Here it will give us result because we mention main class i.e. test() over here."
   ]
  },
  {
   "cell_type": "code",
   "execution_count": 44,
   "id": "39a85353",
   "metadata": {},
   "outputs": [
    {
     "ename": "AttributeError",
     "evalue": "'test1' object has no attribute '_test1__b'",
     "output_type": "error",
     "traceback": [
      "\u001b[0;31m---------------------------------------------------------------------------\u001b[0m",
      "\u001b[0;31mAttributeError\u001b[0m                            Traceback (most recent call last)",
      "\u001b[0;32m<ipython-input-44-28b27c9c3546>\u001b[0m in \u001b[0;36m<module>\u001b[0;34m\u001b[0m\n\u001b[0;32m----> 1\u001b[0;31m \u001b[0mu\u001b[0m\u001b[0;34m.\u001b[0m\u001b[0m_test1__b\u001b[0m\u001b[0;34m\u001b[0m\u001b[0;34m\u001b[0m\u001b[0m\n\u001b[0m",
      "\u001b[0;31mAttributeError\u001b[0m: 'test1' object has no attribute '_test1__b'"
     ]
    }
   ],
   "source": [
    "u._test1__b  # Here it will not give us result because test1() is sub class of main class i.e. test().To access\n",
    "             # variable we have to mention name of main class notsub class."
   ]
  },
  {
   "cell_type": "code",
   "execution_count": 46,
   "id": "6517e394",
   "metadata": {},
   "outputs": [],
   "source": [
    "# Whenever you are trying to call private variable we are able to access inside the sub class or child class.\n",
    "\n",
    "# but whenever you are trying to call private variable inside the child class you have to give notion that i am \n",
    "# trying to inherit it from my parent class. "
   ]
  },
  {
   "cell_type": "code",
   "execution_count": 3,
   "id": "0a9f1a0d",
   "metadata": {},
   "outputs": [],
   "source": [
    "class bonousclaculator:\n",
    "    def __init__(self, empid , emprating) :\n",
    "        self.empid = empid                     #\n",
    "                                                 # Both two are public variable.     \n",
    "        self.emprating = emprating             #\n",
    "        \n",
    "        self._empmail = \"fdsfsfssf@gmail.com\"\n",
    "        self.__bonusforratingA = \"70%\"         #\n",
    "        self.__bonusforratingB = \"60%\"         # All three are private variable.\n",
    "        self.__bonusforratingC = \"40%\"         # \n",
    "    \n",
    "    def bonuscalculator(self) :\n",
    "        if self.emprating == \"A\":\n",
    "            bonus = self.__bonusforratingA\n",
    "            return bonus\n",
    "        elif self.emprating == \"B\" :\n",
    "            bonus = self.__bonusforratingB\n",
    "            return bonus\n",
    "        else :\n",
    "            bonus = self.__bonusforratingC\n",
    "            return bonus "
   ]
  },
  {
   "cell_type": "code",
   "execution_count": 4,
   "id": "24d4f45f",
   "metadata": {},
   "outputs": [],
   "source": [
    "emp1 = bonousclaculator(101 , \"A\")\n",
    "emp2 = bonousclaculator(102 , \"B\")\n",
    "emp3 = bonousclaculator(103 , \"C\")"
   ]
  },
  {
   "cell_type": "code",
   "execution_count": 5,
   "id": "05aa41ec",
   "metadata": {},
   "outputs": [
    {
     "data": {
      "text/plain": [
       "'70%'"
      ]
     },
     "execution_count": 5,
     "metadata": {},
     "output_type": "execute_result"
    }
   ],
   "source": [
    "emp1.bonuscalculator()"
   ]
  },
  {
   "cell_type": "code",
   "execution_count": 6,
   "id": "263bbfd3",
   "metadata": {},
   "outputs": [
    {
     "data": {
      "text/plain": [
       "'60%'"
      ]
     },
     "execution_count": 6,
     "metadata": {},
     "output_type": "execute_result"
    }
   ],
   "source": [
    "emp2.bonuscalculator()"
   ]
  },
  {
   "cell_type": "code",
   "execution_count": 7,
   "id": "3176caa3",
   "metadata": {},
   "outputs": [
    {
     "data": {
      "text/plain": [
       "'40%'"
      ]
     },
     "execution_count": 7,
     "metadata": {},
     "output_type": "execute_result"
    }
   ],
   "source": [
    "emp3.bonuscalculator()"
   ]
  },
  {
   "cell_type": "code",
   "execution_count": 8,
   "id": "d99e36a0",
   "metadata": {},
   "outputs": [],
   "source": [
    "# Now if we want to change the empid & emprating then do the following steps."
   ]
  },
  {
   "cell_type": "code",
   "execution_count": 9,
   "id": "64291a27",
   "metadata": {},
   "outputs": [],
   "source": [
    "emp1.empid=104"
   ]
  },
  {
   "cell_type": "code",
   "execution_count": 10,
   "id": "284e84dd",
   "metadata": {},
   "outputs": [
    {
     "data": {
      "text/plain": [
       "104"
      ]
     },
     "execution_count": 10,
     "metadata": {},
     "output_type": "execute_result"
    }
   ],
   "source": [
    "emp1.empid    # ID changed"
   ]
  },
  {
   "cell_type": "code",
   "execution_count": null,
   "id": "73cb9c08",
   "metadata": {},
   "outputs": [],
   "source": [
    "# Previously emp1. rating ='A' now see how we can over write it."
   ]
  },
  {
   "cell_type": "code",
   "execution_count": 11,
   "id": "56bad07b",
   "metadata": {},
   "outputs": [],
   "source": [
    "emp1.emprating='B' "
   ]
  },
  {
   "cell_type": "code",
   "execution_count": 12,
   "id": "e20ae82e",
   "metadata": {},
   "outputs": [
    {
     "data": {
      "text/plain": [
       "'60%'"
      ]
     },
     "execution_count": 12,
     "metadata": {},
     "output_type": "execute_result"
    }
   ],
   "source": [
    "emp1.bonuscalculator()  # now emp. rating is changed. we overwrote that and we get bonous according to that \n",
    "# i.e. 60%"
   ]
  },
  {
   "cell_type": "code",
   "execution_count": 15,
   "id": "449b3c4a",
   "metadata": {},
   "outputs": [],
   "source": [
    "emp1.__bonusforratingB = \"90%\"  # It will run. It will not give us error. But in Actual sense value will not \n",
    "                                # change. "
   ]
  },
  {
   "cell_type": "code",
   "execution_count": 16,
   "id": "8fdd1095",
   "metadata": {},
   "outputs": [
    {
     "data": {
      "text/plain": [
       "'60%'"
      ]
     },
     "execution_count": 16,
     "metadata": {},
     "output_type": "execute_result"
    }
   ],
   "source": [
    "emp1.bonuscalculator()    # See it is not chnaged. it is still showing 60%"
   ]
  },
  {
   "cell_type": "code",
   "execution_count": 17,
   "id": "c2fa7387",
   "metadata": {},
   "outputs": [
    {
     "data": {
      "text/plain": [
       "'B'"
      ]
     },
     "execution_count": 17,
     "metadata": {},
     "output_type": "execute_result"
    }
   ],
   "source": [
    "# Again check with different example.\n",
    "emp2.emprating"
   ]
  },
  {
   "cell_type": "code",
   "execution_count": 18,
   "id": "5b37d4ac",
   "metadata": {},
   "outputs": [
    {
     "data": {
      "text/plain": [
       "'60%'"
      ]
     },
     "execution_count": 18,
     "metadata": {},
     "output_type": "execute_result"
    }
   ],
   "source": [
    "emp2.bonuscalculator()"
   ]
  },
  {
   "cell_type": "code",
   "execution_count": 19,
   "id": "df251611",
   "metadata": {},
   "outputs": [],
   "source": [
    "# Now if we want to change the value then do the following things. \n",
    "\n",
    "# we can change the value of private variable but you have to call it along with the class name.\n",
    "\n",
    "emp2._bonousclaculator__bonusforraringB=\"100%\""
   ]
  },
  {
   "cell_type": "code",
   "execution_count": 20,
   "id": "6b311961",
   "metadata": {},
   "outputs": [
    {
     "data": {
      "text/plain": [
       "'100%'"
      ]
     },
     "execution_count": 20,
     "metadata": {},
     "output_type": "execute_result"
    }
   ],
   "source": [
    "emp2._bonousclaculator__bonusforraringB  # Now see here value is change."
   ]
  },
  {
   "cell_type": "code",
   "execution_count": 22,
   "id": "bae00508",
   "metadata": {},
   "outputs": [
    {
     "data": {
      "text/plain": [
       "'fdsfsfssf@gmail.com'"
      ]
     },
     "execution_count": 22,
     "metadata": {},
     "output_type": "execute_result"
    }
   ],
   "source": [
    "# Now see how we can chnge the value in protected variable.\n",
    "emp1._empmail "
   ]
  },
  {
   "cell_type": "code",
   "execution_count": 23,
   "id": "91c9ce65",
   "metadata": {},
   "outputs": [],
   "source": [
    "emp1._empmail  = \"sudhanshu@gmail.com\""
   ]
  },
  {
   "cell_type": "code",
   "execution_count": 24,
   "id": "ed01746e",
   "metadata": {},
   "outputs": [
    {
     "data": {
      "text/plain": [
       "'sudhanshu@gmail.com'"
      ]
     },
     "execution_count": 24,
     "metadata": {},
     "output_type": "execute_result"
    }
   ],
   "source": [
    "emp1._empmail       # Email_id has been changed."
   ]
  },
  {
   "cell_type": "markdown",
   "id": "66158a63",
   "metadata": {},
   "source": [
    "## Doubts"
   ]
  },
  {
   "cell_type": "code",
   "execution_count": 25,
   "id": "da6660cd",
   "metadata": {},
   "outputs": [
    {
     "name": "stdout",
     "output_type": "stream",
     "text": [
      "Enter an integer233\n",
      "233  is a prime number\n"
     ]
    }
   ],
   "source": [
    "def checkPrime():\n",
    "    ''' Checks if a number is Prime. Keeps on asking\n",
    "        for an input in correct form, >1 & an integer\n",
    "        '''\n",
    "    while True:\n",
    "        try:\n",
    "            num=int(input('Enter an integer'))\n",
    "            if num>1:\n",
    "                for i in range(2, num):\n",
    "                    \n",
    "                    if (num % i)==0:\n",
    "                        pass\n",
    "                        #print(num, ' is a not prime number')\n",
    "                        #break\n",
    "                \n",
    "                    else:\n",
    "                        print(num, ' is a prime number')\n",
    "                        break\n",
    "                        \n",
    "                break       \n",
    "                        \n",
    "                \n",
    "            else:\n",
    "                print('Please enter a number >1')\n",
    "        except:\n",
    "            print('Please enter a valid input, an integer')\n",
    "checkPrime()"
   ]
  },
  {
   "cell_type": "markdown",
   "id": "23c5ab1a",
   "metadata": {},
   "source": [
    "## 30 JAN"
   ]
  },
  {
   "cell_type": "code",
   "execution_count": 2,
   "id": "fa359b9a",
   "metadata": {},
   "outputs": [],
   "source": [
    "# Polymorphism [Multiple-Forms]\n",
    "\n",
    "# behaviour and your measures are going to change with respect to a cercumtances called as Polymorphism.\n",
    "# one single object or one single entity w.r.t but it's behaviour going to chnage w.r.t to different situation \n",
    "# with different different environment i.e. called as Polymorphism."
   ]
  },
  {
   "cell_type": "code",
   "execution_count": 10,
   "id": "aa1f1fe4",
   "metadata": {},
   "outputs": [],
   "source": [
    "def test(a,b):\n",
    "    return a+b"
   ]
  },
  {
   "cell_type": "code",
   "execution_count": 11,
   "id": "de8c65eb",
   "metadata": {},
   "outputs": [
    {
     "data": {
      "text/plain": [
       "7"
      ]
     },
     "execution_count": 11,
     "metadata": {},
     "output_type": "execute_result"
    }
   ],
   "source": [
    "test(3,4)"
   ]
  },
  {
   "cell_type": "code",
   "execution_count": 12,
   "id": "a669fbfb",
   "metadata": {},
   "outputs": [
    {
     "data": {
      "text/plain": [
       "'AniketJoshi'"
      ]
     },
     "execution_count": 12,
     "metadata": {},
     "output_type": "execute_result"
    }
   ],
   "source": [
    "test(\"Aniket\",\"Joshi\")  "
   ]
  },
  {
   "cell_type": "code",
   "execution_count": 13,
   "id": "4eea0d41",
   "metadata": {},
   "outputs": [],
   "source": [
    "# See in cell no 11 and 12.\n",
    "\n",
    "# In cell no 11 it is doing Addition.\n",
    "# In cell no 12 it is doing Concatination.\n",
    "\n",
    "\n",
    "# It means one function is beahaving in to different ways with diff. situation i.e. called polymorphism."
   ]
  },
  {
   "cell_type": "code",
   "execution_count": 16,
   "id": "e8d6c727",
   "metadata": {},
   "outputs": [],
   "source": [
    "# Ex.1 for Polymorphism concept\n",
    "\n",
    "class insta :\n",
    "    def share_stories(self) :\n",
    "        print(\"this will share my insta story \")\n",
    "                \n",
    "class facebook :\n",
    "    def share_stories(self) :\n",
    "        print(\"this will share my facebook stories\")\n",
    "        \n",
    "# We created 2 diff. classes in above thing."
   ]
  },
  {
   "cell_type": "code",
   "execution_count": 17,
   "id": "fd2794c7",
   "metadata": {},
   "outputs": [],
   "source": [
    "# we made one different function.\n",
    "\n",
    "def sharestroies(app) :\n",
    "    app.share_stories()"
   ]
  },
  {
   "cell_type": "code",
   "execution_count": 18,
   "id": "6f350b35",
   "metadata": {},
   "outputs": [],
   "source": [
    "i = insta()\n",
    "f = facebook()"
   ]
  },
  {
   "cell_type": "code",
   "execution_count": 24,
   "id": "2f3d721e",
   "metadata": {},
   "outputs": [
    {
     "name": "stdout",
     "output_type": "stream",
     "text": [
      "this will share my insta story \n"
     ]
    }
   ],
   "source": [
    "# Here what we are doing we are calling outside function i.e sharestroies() just passing\n",
    "# an argument i.e. nothing but object of class 'insta' or 'facebook' inside the function.\n",
    "\n",
    "# Here we passed 'insta' object into the class. \n",
    "\n",
    "sharestroies(i)"
   ]
  },
  {
   "cell_type": "code",
   "execution_count": 25,
   "id": "50b988d3",
   "metadata": {},
   "outputs": [
    {
     "name": "stdout",
     "output_type": "stream",
     "text": [
      "this will share my facebook stories\n"
     ]
    }
   ],
   "source": [
    "# Here we passed 'facebook' object into the class. \n",
    "sharestroies(f) "
   ]
  },
  {
   "cell_type": "code",
   "execution_count": 30,
   "id": "1678a625",
   "metadata": {},
   "outputs": [],
   "source": [
    "# Ex.2 for Polymorphism concept\n",
    "\n",
    "class social_media:\n",
    "    def share_stories(self) :\n",
    "        print(\"share a stroies\")\n",
    "    def upload_pic(self) :\n",
    "        print(\"this will help you to upload pic on social media\")\n",
    "        \n",
    "class facebook(social_media) :\n",
    "    def share_stories(self):\n",
    "        print(\"this is a fun for shargin an story for facebook\")\n",
    "    \n",
    "class insta(social_media):\n",
    "    def share_stories(self) :\n",
    "        print(\"this will print a stroy from insta\")      "
   ]
  },
  {
   "cell_type": "code",
   "execution_count": 31,
   "id": "cc954bf1",
   "metadata": {},
   "outputs": [],
   "source": [
    "f = facebook()\n",
    "i = insta()"
   ]
  },
  {
   "cell_type": "code",
   "execution_count": 32,
   "id": "535c2ee7",
   "metadata": {},
   "outputs": [
    {
     "name": "stdout",
     "output_type": "stream",
     "text": [
      "this is a fun for shargin an story for facebook\n"
     ]
    }
   ],
   "source": [
    "f.share_stories()"
   ]
  },
  {
   "cell_type": "code",
   "execution_count": 33,
   "id": "767ea1a8",
   "metadata": {},
   "outputs": [
    {
     "name": "stdout",
     "output_type": "stream",
     "text": [
      "this will print a stroy from insta\n"
     ]
    }
   ],
   "source": [
    "i.share_stories()"
   ]
  },
  {
   "cell_type": "code",
   "execution_count": 38,
   "id": "2ded3c30",
   "metadata": {},
   "outputs": [],
   "source": [
    "class test(Exception):   # Here what we did see.. In this 'test' class which is the class we created manually\n",
    "                         # in which we are inheriting properties of 'Exception' class which is an inbuilt class\n",
    "                         # of python.\n",
    "            \n",
    "    def __init__(self , msg  , myval) :\n",
    "        self.msg = msg\n",
    "        self.myval =myval"
   ]
  },
  {
   "cell_type": "code",
   "execution_count": 35,
   "id": "5115cbf1",
   "metadata": {},
   "outputs": [
    {
     "name": "stdout",
     "output_type": "stream",
     "text": [
      "('this is my own exceptino class ', 'fdsafsaf')\n"
     ]
    }
   ],
   "source": [
    "try :\n",
    "    raise(test(\"this is my own exceptino class \" , \"fdsafsaf\"))\n",
    "except test as t :\n",
    "    print(t)"
   ]
  },
  {
   "cell_type": "code",
   "execution_count": 36,
   "id": "ac4f20e9",
   "metadata": {},
   "outputs": [
    {
     "name": "stdout",
     "output_type": "stream",
     "text": [
      "('this is my own exceptino class ', 5)\n"
     ]
    }
   ],
   "source": [
    "try :\n",
    "    raise(test(\"this is my own exceptino class \",5))\n",
    "except test as t :\n",
    "    print(t)"
   ]
  },
  {
   "cell_type": "code",
   "execution_count": null,
   "id": "78a40185",
   "metadata": {},
   "outputs": [],
   "source": [
    "# Instance variable means\n",
    "\n",
    "\n",
    "# Parent class1\n",
    "class Batch_number:\n",
    "    batchnumber = \"\"\n",
    "    def __init__(self,a,b,c):\n",
    "        self.a = a                  # Here a,b,c all are insatnce variable.So to call this variable we have \n",
    "                                    # to create object for this.i.e. s1 we created.. see on line no. 29 in same\n",
    "                                    # cell.\n",
    "        self.b= b \n",
    "        self.c = c \n",
    "    #@staticmethod   \n",
    "    def batch(self):\n",
    "        print(self.batchnumber)\n",
    " \n",
    " # Parent class2\n",
    "class course_name:\n",
    "    cname = \"\"\n",
    "    def course(self):\n",
    "        print(self.cname)\n",
    " \n",
    " # Child class\n",
    "class Student(Batch_number, course_name):\n",
    "    def deets(self):\n",
    "        print(\"Batch :\", self.batchnumber)\n",
    "        print(\"course :\", self.cname)\n",
    " \n",
    " # Child class code\n",
    "s1 = Student(4,5,6)\n",
    "s1.batchnumber = \"2\"\n",
    "s1.cname = \"FSDS\"\n",
    "s1.deets() "
   ]
  },
  {
   "cell_type": "code",
   "execution_count": null,
   "id": "bab34bc0",
   "metadata": {},
   "outputs": [],
   "source": [
    "# class/static variable means\n",
    "\n",
    "# Parent class1\n",
    "class Batch_number:\n",
    "    batchnumber = \"\"              # --> Acces of class/static variable's is Available throught this file.\n",
    "                                  # Means we can call yhis variable at any time in this file.\n",
    "                                  # whenever we will call this function we does not require to create object \n",
    "                                  # for this. We can call it directly.\n",
    "                                  \n",
    "    def __init__(self,a,b,c):\n",
    "        self.a = a \n",
    "        self.b= b \n",
    "        self.c = c \n",
    "    #@staticmethod   \n",
    "    def batch(self):\n",
    "        print(self.batchnumber)\n",
    " \n",
    " # Parent class2\n",
    "class course_name:\n",
    "    cname = \"\"\n",
    "    def course(self):\n",
    "        print(self.cname)\n",
    " \n",
    " # Child class\n",
    "class Student(Batch_number, course_name):\n",
    "    def deets(self):\n",
    "        print(\"Batch :\", self.batchnumber)\n",
    "        print(\"course :\", self.cname)\n",
    " \n",
    " # Child class code\n",
    "s1 = Student(4,5,6)\n",
    "s1.batchnumber = \"2\"\n",
    "s1.cname = \"FSDS\"\n",
    "s1.deets()\n",
    "\n"
   ]
  },
  {
   "cell_type": "code",
   "execution_count": 50,
   "id": "94df1dc5",
   "metadata": {},
   "outputs": [],
   "source": [
    "# ANS of 1st q\n",
    "\n",
    "# Multiple inheritance\n",
    " \n",
    "  \n",
    " # Parent class1\n",
    "class Batch_number:\n",
    "    batchnumber = \"\"                 \n",
    "    def batch(self):\n",
    "        print(self.batchnumber)\n",
    "        \n",
    "# Parent class2\n",
    "class course_name:\n",
    "    cname = \"\"\n",
    "    def course(self):\n",
    "        print(self.cname)\n",
    " \n",
    " # Child class\n",
    "class Student(Batch_number, course_name):\n",
    "    def deets(self):\n",
    "        print(\"Batch :\", self.batchnumber)\n",
    "        print(\"course :\", self.cname)\n",
    " \n",
    " # Child class code"
   ]
  },
  {
   "cell_type": "code",
   "execution_count": 51,
   "id": "67756402",
   "metadata": {},
   "outputs": [],
   "source": [
    "s1 = Student()\n"
   ]
  },
  {
   "cell_type": "code",
   "execution_count": 52,
   "id": "da971bbe",
   "metadata": {},
   "outputs": [],
   "source": [
    "s1.batchnumber = \"2\""
   ]
  },
  {
   "cell_type": "code",
   "execution_count": 53,
   "id": "5a64c647",
   "metadata": {},
   "outputs": [],
   "source": [
    "s1.cname = \"FSDS\""
   ]
  },
  {
   "cell_type": "code",
   "execution_count": 54,
   "id": "d2db302b",
   "metadata": {},
   "outputs": [
    {
     "name": "stdout",
     "output_type": "stream",
     "text": [
      "Batch : 2\n",
      "course : FSDS\n"
     ]
    }
   ],
   "source": [
    "s1.deets()"
   ]
  },
  {
   "cell_type": "code",
   "execution_count": 60,
   "id": "81cae220",
   "metadata": {},
   "outputs": [
    {
     "data": {
      "text/plain": [
       "''"
      ]
     },
     "execution_count": 60,
     "metadata": {},
     "output_type": "execute_result"
    }
   ],
   "source": [
    "bn1=Batch_number()   # Now we can access the class variable i.e. batchnumber with the help of object.\n",
    "bn1.batchnumber"
   ]
  },
  {
   "cell_type": "code",
   "execution_count": 61,
   "id": "aeb58dd1",
   "metadata": {},
   "outputs": [
    {
     "data": {
      "text/plain": [
       "''"
      ]
     },
     "execution_count": 61,
     "metadata": {},
     "output_type": "execute_result"
    }
   ],
   "source": [
    "Batch_number.batchnumber # we can access the class variable i.e.batchnumber with the help of class name itself."
   ]
  },
  {
   "cell_type": "code",
   "execution_count": 62,
   "id": "ebbf5056",
   "metadata": {},
   "outputs": [],
   "source": [
    "bn1.batchnumber=\"sudh\"  # we can change the value."
   ]
  },
  {
   "cell_type": "code",
   "execution_count": 63,
   "id": "a1a7dc19",
   "metadata": {},
   "outputs": [
    {
     "data": {
      "text/plain": [
       "'sudh'"
      ]
     },
     "execution_count": 63,
     "metadata": {},
     "output_type": "execute_result"
    }
   ],
   "source": [
    "bn1.batchnumber          # see it is changed."
   ]
  },
  {
   "cell_type": "code",
   "execution_count": 64,
   "id": "4697acd4",
   "metadata": {},
   "outputs": [
    {
     "data": {
      "text/plain": [
       "''"
      ]
     },
     "execution_count": 64,
     "metadata": {},
     "output_type": "execute_result"
    }
   ],
   "source": [
    "# now i will create another object i.e. bn\n",
    "\n",
    "bn=Batch_number() \n",
    "bn.batchnumber\n",
    "\n",
    "# Now still it is showing me '' but not showing me the changed value."
   ]
  },
  {
   "cell_type": "code",
   "execution_count": 66,
   "id": "74dd94a1",
   "metadata": {},
   "outputs": [
    {
     "data": {
      "text/plain": [
       "123"
      ]
     },
     "execution_count": 66,
     "metadata": {},
     "output_type": "execute_result"
    }
   ],
   "source": [
    "# Now to overcum this problem see in the following.\n",
    "\n",
    "Batch_number.batchnumber=123\n",
    "\n",
    "bn.batchnumber\n",
    "\n",
    "# We have to write it with the help of class name i.e. Batch_number."
   ]
  },
  {
   "cell_type": "code",
   "execution_count": 75,
   "id": "611f60e9",
   "metadata": {},
   "outputs": [],
   "source": [
    "# Now we can create static function also.\n",
    "    \n",
    "# Parent class1\n",
    "class Batch_number:\n",
    "    batchnumber = \"\"\n",
    "    def __init__(self,a,b,c):\n",
    "        self.a = a \n",
    "        self.b= b \n",
    "        self.c = c \n",
    "    @staticmethod         # there is 'decorater' which is allready created i.e. called as staticmethod means \n",
    "                          # Someone has wirtten code of this static method.\n",
    "        \n",
    "                          # whenever you used this @stsaticmethod so function below this is called as class.\n",
    "                          # function not an instance function.\n",
    "                \n",
    "                          # now for this we have to delete self word from the function as we wrote it \n",
    "                          # previously like   def batch(self):\n",
    "                        \n",
    "    def batch():                               # static/class function\n",
    "        print(\" this is static method \")\n",
    "        \n",
    "    def batch1(self):                              # Instance function\n",
    "        print(\" this is static method batch1 \") "
   ]
  },
  {
   "cell_type": "code",
   "execution_count": 76,
   "id": "14ba70fe",
   "metadata": {},
   "outputs": [
    {
     "name": "stdout",
     "output_type": "stream",
     "text": [
      " this is static method \n"
     ]
    }
   ],
   "source": [
    "Batch_number.batch() # we are able to access it."
   ]
  },
  {
   "cell_type": "code",
   "execution_count": 77,
   "id": "5f696223",
   "metadata": {},
   "outputs": [
    {
     "ename": "TypeError",
     "evalue": "batch1() missing 1 required positional argument: 'self'",
     "output_type": "error",
     "traceback": [
      "\u001b[0;31m---------------------------------------------------------------------------\u001b[0m",
      "\u001b[0;31mTypeError\u001b[0m                                 Traceback (most recent call last)",
      "\u001b[0;32m/var/folders/g0/424mq_gn0jq76h7qlxtqdg_h0000gn/T/ipykernel_10038/1089591987.py\u001b[0m in \u001b[0;36m<module>\u001b[0;34m\u001b[0m\n\u001b[0;32m----> 1\u001b[0;31m \u001b[0mBatch_number\u001b[0m\u001b[0;34m.\u001b[0m\u001b[0mbatch1\u001b[0m\u001b[0;34m(\u001b[0m\u001b[0;34m)\u001b[0m \u001b[0;31m# we are not able to acces it. it will access only with help of object.\u001b[0m\u001b[0;34m\u001b[0m\u001b[0;34m\u001b[0m\u001b[0m\n\u001b[0m",
      "\u001b[0;31mTypeError\u001b[0m: batch1() missing 1 required positional argument: 'self'"
     ]
    }
   ],
   "source": [
    "Batch_number.batch1() # we are not able to acces it. it will access only with help of object."
   ]
  },
  {
   "cell_type": "code",
   "execution_count": 78,
   "id": "3585b714",
   "metadata": {},
   "outputs": [
    {
     "data": {
      "text/plain": [
       "4"
      ]
     },
     "execution_count": 78,
     "metadata": {},
     "output_type": "execute_result"
    }
   ],
   "source": [
    "# Now problem came in above cell is resolved with the following thing i.e. by creating object which is b.\n",
    "\n",
    "b=Batch_number(4,5,6)\n",
    "b.a"
   ]
  },
  {
   "cell_type": "code",
   "execution_count": 79,
   "id": "450b1921",
   "metadata": {},
   "outputs": [],
   "source": [
    "# what is decorator?\n",
    "\n",
    "# ANS:- It is special design funtion so which is going to help the other function or instances to behave as per\n",
    "#  the defination.\n",
    "\n",
    "# if we have to create a class function in python we have to use decorator. i.e. we created in cell no 75 and \n",
    "# line no.10\n",
    "\n",
    "# In class,functions written below this '@staticmethod' called as utility function."
   ]
  },
  {
   "cell_type": "code",
   "execution_count": 80,
   "id": "989657ec",
   "metadata": {},
   "outputs": [
    {
     "data": {
      "text/plain": [
       "'\\n    q1  create your own class for to achive multiple,multilevel inheritance. \\n    q2  create your own class to represenet ploymorprism. \\n    q3  create your own class for custome exception.\\n    q4  create your own class to achive encaptulation.\\n    q5  create your own class to achive method overloading and overriding. \\n    \\n'"
      ]
     },
     "execution_count": 80,
     "metadata": {},
     "output_type": "execute_result"
    }
   ],
   "source": [
    "\"\"\"\n",
    "    q1  create your own class for to achive multiple,multilevel inheritance. \n",
    "    q2  create your own class to represenet ploymorprism. \n",
    "    q3  create your own class for custome exception.\n",
    "    q4  create your own class to achive encaptulation.\n",
    "    q5  create your own class to achive method overloading and overriding. \n",
    "    \n",
    "\"\"\""
   ]
  },
  {
   "cell_type": "code",
   "execution_count": 81,
   "id": "b54e5866",
   "metadata": {},
   "outputs": [
    {
     "name": "stdout",
     "output_type": "stream",
     "text": [
      "Batch : 2\n",
      "course : FSDS\n"
     ]
    }
   ],
   "source": [
    "# Q 1.0 \n",
    "# create your own class for to achive multiple inheritance.\n",
    "\n",
    "# Multiple inheritance\n",
    "     \n",
    "# Parent class1\n",
    "class Batch_number:\n",
    "    batchnumber = \"\"\n",
    "    def __init__(self,a,b,c):\n",
    "        self.a = a \n",
    "        self.b= b \n",
    "        self.c = c \n",
    "    #@staticmethod   \n",
    "    def batch(self):\n",
    "        print(self.batchnumber)\n",
    " \n",
    " # Parent class2\n",
    "class course_name:\n",
    "    cname = \"\"\n",
    "    def course(self):\n",
    "        print(self.cname)\n",
    " \n",
    " # Child class\n",
    "class Student(Batch_number, course_name):\n",
    "    def deets(self):\n",
    "        print(\"Batch :\", self.batchnumber)\n",
    "        print(\"course :\", self.cname)\n",
    " \n",
    " # Child class code\n",
    "s1 = Student(4,5,6)\n",
    "s1.batchnumber = \"2\"\n",
    "s1.cname = \"FSDS\"\n",
    "s1.deets()"
   ]
  },
  {
   "cell_type": "code",
   "execution_count": 82,
   "id": "1c9838e1",
   "metadata": {},
   "outputs": [
    {
     "name": "stdout",
     "output_type": "stream",
     "text": [
      "This is my method of xyz1 class\n"
     ]
    }
   ],
   "source": [
    "# Q 1.1\n",
    "\n",
    "# create your own class for to achive multilevel inheritance.\n",
    "\n",
    "# Multi-level\n",
    "\n",
    "class xyz:\n",
    "    def __init__(self,a,b,c):\n",
    "        self.a=a\n",
    "        self.b=b\n",
    "        self.c=c\n",
    "    \n",
    "    def test(self):\n",
    "            print(\"This is my method of xyz class\")\n",
    "class xyz1(xyz):\n",
    "    def test1(self):\n",
    "        print(\"This is my method of xyz1 class\")\n",
    "        \n",
    "class xyz2(xyz1):\n",
    "    def test2(self):\n",
    "        print(\"method of xyz2 class\")\n",
    "        \n",
    "n=xyz1(3,4,5)\n",
    "n.test1()"
   ]
  },
  {
   "cell_type": "code",
   "execution_count": 83,
   "id": "f3d9162a",
   "metadata": {},
   "outputs": [
    {
     "name": "stdout",
     "output_type": "stream",
     "text": [
      "enter first number 3\n",
      "enter second number 4\n",
      "0.75\n"
     ]
    }
   ],
   "source": [
    "class division_by_5 (Exception):\n",
    "    def __init__ (self,msg):\n",
    "        self.msg = msg\n",
    "try:\n",
    "    a= int(input(\"enter first number \"))\n",
    "    b= int(input(\"enter second number \"))\n",
    "    a/b\n",
    "    if b == 5:\n",
    "        raise division_by_5(\"division by 5 error\")\n",
    "except ValueError as msg:\n",
    "        print(msg)\n",
    "except ZeroDivisionError as msg:\n",
    "        print(msg)\n",
    "except division_by_5 as msg:\n",
    "         print(msg)\n",
    "else:\n",
    "    try :\n",
    "        result = a/b\n",
    "        print(result)\n",
    "    except Exception as e :\n",
    "        print(e)"
   ]
  },
  {
   "cell_type": "code",
   "execution_count": 84,
   "id": "864cae13",
   "metadata": {},
   "outputs": [
    {
     "name": "stdout",
     "output_type": "stream",
     "text": [
      "enter first number 1\n",
      "enter second number 5\n",
      "division by 5 error\n"
     ]
    }
   ],
   "source": [
    "class division_by_5 (Exception):\n",
    "    def __init__ (self,msg):\n",
    "        self.msg = msg\n",
    "try:\n",
    "    a= int(input(\"enter first number \"))\n",
    "    b= int(input(\"enter second number \"))\n",
    "    a/b\n",
    "    if b == 5:\n",
    "        raise division_by_5(\"division by 5 error\")\n",
    "except ValueError as msg:\n",
    "        print(msg)\n",
    "except ZeroDivisionError as msg:\n",
    "        print(msg)\n",
    "except division_by_5 as msg:\n",
    "         print(msg)\n",
    "else:\n",
    "    try :\n",
    "        result = a/b\n",
    "        print(result)\n",
    "    except Exception as e :\n",
    "        print(e)"
   ]
  },
  {
   "cell_type": "code",
   "execution_count": 86,
   "id": "2cebb20d",
   "metadata": {},
   "outputs": [
    {
     "name": "stdout",
     "output_type": "stream",
     "text": [
      "enter first number 6\n",
      "enter second number 0\n",
      "division by zero\n"
     ]
    }
   ],
   "source": [
    "class division_by_5 (Exception):\n",
    "    def __init__ (self,msg):\n",
    "        self.msg = msg\n",
    "try:\n",
    "    a= int(input(\"enter first number \"))\n",
    "    b= int(input(\"enter second number \"))\n",
    "    if b == 5:\n",
    "        raise division_by_5(\"division by 5 error\")\n",
    "except ValueError as msg:\n",
    "        print(msg)\n",
    "except ZeroDivisionError as msg:\n",
    "        print(msg)\n",
    "except division_by_5 as msg:\n",
    "         print(msg)\n",
    "else:\n",
    "    try :\n",
    "        result = a/b\n",
    "        print(result)\n",
    "    except Exception as e :\n",
    "        print(e)"
   ]
  },
  {
   "cell_type": "code",
   "execution_count": 87,
   "id": "d1bc8c38",
   "metadata": {},
   "outputs": [],
   "source": [
    "  ## Abstraction. It is nothing but a blueprint."
   ]
  },
  {
   "cell_type": "code",
   "execution_count": 2,
   "id": "664f16e0",
   "metadata": {},
   "outputs": [],
   "source": [
    "class abc :    # Its not an actual implementation it just blue print. we have not mention any thing into it.\n",
    "    pass"
   ]
  },
  {
   "cell_type": "code",
   "execution_count": 3,
   "id": "16a87e04",
   "metadata": {},
   "outputs": [],
   "source": [
    "from abc import abstractmethod\n",
    "class data_project :\n",
    "    \n",
    "    @abstractmethod\n",
    "    def read_file(self) :\n",
    "        pass\n",
    "    \n",
    "    def validate_file_name(slef) :\n",
    "        pass\n",
    "    \n",
    "    def validate_datatype(self) :\n",
    "        pass\n",
    "    \n",
    "    def validate_db_connn(self) :\n",
    "        pass\n",
    "    \n",
    "    def create_connn(self) :\n",
    "        pass\n",
    "    \n",
    "    def insert_data(self) :\n",
    "        pass\n",
    "    \n",
    "    def delete_data(self):\n",
    "        pass\n",
    "    \n",
    "    def update_data(self) :\n",
    "        pass\n",
    "    \n",
    "    def perform_stats(self) :\n",
    "        pass\n",
    "    \n",
    "    def perform_eda(self) :\n",
    "        pass\n",
    "    \n",
    "# It is complete blue print of my project. In above all functions are just a skeleton of project i.e. called \n",
    "# abstraction.  "
   ]
  },
  {
   "cell_type": "code",
   "execution_count": null,
   "id": "aa86fa55",
   "metadata": {},
   "outputs": [],
   "source": [
    "# overloading"
   ]
  },
  {
   "cell_type": "code",
   "execution_count": 5,
   "id": "e13ccb2a",
   "metadata": {},
   "outputs": [],
   "source": [
    "class test:\n",
    "    def fun(self) :\n",
    "        print(\"this is my sample class \")"
   ]
  },
  {
   "cell_type": "code",
   "execution_count": 6,
   "id": "6206cace",
   "metadata": {},
   "outputs": [],
   "source": [
    "t=test()"
   ]
  },
  {
   "cell_type": "code",
   "execution_count": 7,
   "id": "c0dccbbf",
   "metadata": {},
   "outputs": [
    {
     "name": "stdout",
     "output_type": "stream",
     "text": [
      "<__main__.test object at 0x7fe656b16710>\n"
     ]
    }
   ],
   "source": [
    "print(t)  # here we get some sort of hexadecimal no. now see how we overwrite or we can say overload it."
   ]
  },
  {
   "cell_type": "code",
   "execution_count": 10,
   "id": "b21e30fc",
   "metadata": {},
   "outputs": [],
   "source": [
    "# Overloading doen here.\n",
    "\n",
    "class test:\n",
    "    def fun(self) :\n",
    "        print(\"this is my sample class \")\n",
    "        \n",
    "    def __str__(self):\n",
    "        return str(\" this is function called at a time of object print \")\n",
    "    \n",
    "# str is function is resposible for overloading a message for your object. We create 't' as an object see in \n",
    "# next cell."
   ]
  },
  {
   "cell_type": "code",
   "execution_count": 11,
   "id": "e5d2851e",
   "metadata": {},
   "outputs": [
    {
     "name": "stdout",
     "output_type": "stream",
     "text": [
      "thsi is function called at a time of object print \n"
     ]
    }
   ],
   "source": [
    "t=test()\n",
    "print(t)  "
   ]
  },
  {
   "cell_type": "code",
   "execution_count": 3,
   "id": "a7990ef9",
   "metadata": {},
   "outputs": [],
   "source": [
    "# Overloading\n",
    "\n",
    "class test :\n",
    "    def __init__(self, a , b , c):\n",
    "        self.a = a \n",
    "        self.b = b \n",
    "        self.c = c    "
   ]
  },
  {
   "cell_type": "code",
   "execution_count": 4,
   "id": "10ad3807",
   "metadata": {},
   "outputs": [],
   "source": [
    "t=test(4,5,6)"
   ]
  },
  {
   "cell_type": "code",
   "execution_count": 5,
   "id": "7ae73da2",
   "metadata": {},
   "outputs": [
    {
     "name": "stdout",
     "output_type": "stream",
     "text": [
      "<__main__.test object at 0x7fcaa30bb490>\n"
     ]
    }
   ],
   "source": [
    "print(t)"
   ]
  },
  {
   "cell_type": "code",
   "execution_count": 8,
   "id": "ff81e320",
   "metadata": {},
   "outputs": [],
   "source": [
    "# Overloading\n",
    "\n",
    "class test:\n",
    "    def __init__(self, a , b , c):\n",
    "        self.a = a \n",
    "        self.b = b \n",
    "        self.c = c \n",
    "    def __str__(self):\n",
    "        return \"fsfsafsdfsaf\""
   ]
  },
  {
   "cell_type": "code",
   "execution_count": 9,
   "id": "a7000f85",
   "metadata": {},
   "outputs": [],
   "source": [
    "t=test(4,5,6)"
   ]
  },
  {
   "cell_type": "code",
   "execution_count": 10,
   "id": "4f635a28",
   "metadata": {},
   "outputs": [
    {
     "name": "stdout",
     "output_type": "stream",
     "text": [
      "fsfsafsdfsaf\n"
     ]
    }
   ],
   "source": [
    "print(t)   # with help of __str__function we over ride the function."
   ]
  },
  {
   "cell_type": "code",
   "execution_count": 12,
   "id": "ed3a3236",
   "metadata": {},
   "outputs": [],
   "source": [
    "#Overriding \n",
    "\n",
    "class test :\n",
    "    def __init__(self,a,b,c):\n",
    "        self.a = a \n",
    "        self.b = b \n",
    "        self.c = c \n",
    "    def __str__(self) :\n",
    "        return \"fsfsafsdfsaf\"\n",
    "    \n",
    "    def class_fun(self) :\n",
    "        print(\"this is a print form class_fun\")\n",
    "        \n",
    "        \n",
    "    \n",
    "class test1(test):\n",
    "    def class_fun(self) :\n",
    "        print(\"fsdfdsfsfs dfdsf dsf sds\") \n",
    "        \n",
    "# Here we do inheritance and then i am trying to redefine it.\n",
    "        \n",
    "# As we created seperate class and pass the other class as an argument into it. i.e. we pass test into test1()\n",
    "# then it will inherit all the properties. Inside the class test1 we create one function which is same as \n",
    "# we created in test class. but print statement of both the classes are diff. and after executing it will print\n",
    "# the 2nd second value present in print statement.i.e line no. 17. \n",
    "\n",
    "# This whole process is called overriding."
   ]
  },
  {
   "cell_type": "code",
   "execution_count": 13,
   "id": "224b0726",
   "metadata": {},
   "outputs": [],
   "source": [
    "test1_obj = test1(1,2,3)\n",
    "test_obj = test(4,5,6)"
   ]
  },
  {
   "cell_type": "code",
   "execution_count": 14,
   "id": "6d14a394",
   "metadata": {},
   "outputs": [
    {
     "name": "stdout",
     "output_type": "stream",
     "text": [
      "fsdfdsfsfs dfdsf dsf sds\n"
     ]
    }
   ],
   "source": [
    "test1_obj.class_fun()"
   ]
  },
  {
   "cell_type": "code",
   "execution_count": 15,
   "id": "0021562f",
   "metadata": {},
   "outputs": [
    {
     "name": "stdout",
     "output_type": "stream",
     "text": [
      "this is a print form class_fun\n"
     ]
    }
   ],
   "source": [
    "test_obj.class_fun()"
   ]
  },
  {
   "cell_type": "code",
   "execution_count": 16,
   "id": "1a7e57cb",
   "metadata": {},
   "outputs": [],
   "source": [
    "# As we called same function in above two cells but we get 2 different o/p. i.e. called as overriding."
   ]
  },
  {
   "cell_type": "code",
   "execution_count": 17,
   "id": "636f0b6e",
   "metadata": {},
   "outputs": [],
   "source": [
    "## watch the video of 30th JAN from 4hr.30min to 5hr. i.e. 30 min time. "
   ]
  },
  {
   "cell_type": "code",
   "execution_count": 1,
   "id": "d492697e",
   "metadata": {},
   "outputs": [],
   "source": [
    "# Watch 20 th FEB class recording from 2hr 6 min."
   ]
  },
  {
   "cell_type": "code",
   "execution_count": null,
   "id": "c6a79789",
   "metadata": {},
   "outputs": [],
   "source": []
  }
 ],
 "metadata": {
  "kernelspec": {
   "display_name": "Python 3 (ipykernel)",
   "language": "python",
   "name": "python3"
  },
  "language_info": {
   "codemirror_mode": {
    "name": "ipython",
    "version": 3
   },
   "file_extension": ".py",
   "mimetype": "text/x-python",
   "name": "python",
   "nbconvert_exporter": "python",
   "pygments_lexer": "ipython3",
   "version": "3.7.7"
  }
 },
 "nbformat": 4,
 "nbformat_minor": 5
}
