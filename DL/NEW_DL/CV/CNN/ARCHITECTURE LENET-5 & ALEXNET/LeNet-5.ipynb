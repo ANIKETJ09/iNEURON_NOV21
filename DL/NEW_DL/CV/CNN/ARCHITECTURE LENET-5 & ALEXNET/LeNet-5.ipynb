{
 "cells": [
  {
   "cell_type": "code",
   "execution_count": 1,
   "metadata": {
    "executionInfo": {
     "elapsed": 4,
     "status": "ok",
     "timestamp": 1664602810217,
     "user": {
      "displayName": "Boktiar Ahmed Bappy",
      "userId": "10381972055342951581"
     },
     "user_tz": -360
    },
    "id": "0LCBShEUC814"
   },
   "outputs": [],
   "source": [
    "import tensorflow as tf\n",
    "from tensorflow import keras\n",
    "from keras.datasets import mnist\n",
    "from keras.layers import Dense, Flatten, Conv2D, AveragePooling2D\n",
    "from keras.models import Sequential"
   ]
  },
  {
   "cell_type": "code",
   "execution_count": 2,
   "metadata": {
    "colab": {
     "base_uri": "https://localhost:8080/"
    },
    "executionInfo": {
     "elapsed": 719,
     "status": "ok",
     "timestamp": 1664602854072,
     "user": {
      "displayName": "Boktiar Ahmed Bappy",
      "userId": "10381972055342951581"
     },
     "user_tz": -360
    },
    "id": "9aay8arpDyBh",
    "outputId": "e220e0ad-618c-4eec-fec9-12b651ab0e81"
   },
   "outputs": [
    {
     "name": "stdout",
     "output_type": "stream",
     "text": [
      "Downloading data from https://storage.googleapis.com/tensorflow/tf-keras-datasets/mnist.npz\n",
      "11493376/11490434 [==============================] - 0s 0us/step\n",
      "11501568/11490434 [==============================] - 0s 0us/step\n"
     ]
    }
   ],
   "source": [
    "(x_train, y_train), (x_test, y_test) = mnist.load_data()"
   ]
  },
  {
   "cell_type": "code",
   "execution_count": 4,
   "metadata": {
    "colab": {
     "base_uri": "https://localhost:8080/"
    },
    "executionInfo": {
     "elapsed": 2,
     "status": "ok",
     "timestamp": 1664602975837,
     "user": {
      "displayName": "Boktiar Ahmed Bappy",
      "userId": "10381972055342951581"
     },
     "user_tz": -360
    },
    "id": "EJNXRGEUENOo",
    "outputId": "9d8049d2-68d8-413b-dd3e-3bdb7a5b9827"
   },
   "outputs": [
    {
     "data": {
      "text/plain": [
       "60000"
      ]
     },
     "execution_count": 4,
     "metadata": {},
     "output_type": "execute_result"
    }
   ],
   "source": [
    "x_train.shape[0]"
   ]
  },
  {
   "cell_type": "code",
   "execution_count": 5,
   "metadata": {
    "executionInfo": {
     "elapsed": 4,
     "status": "ok",
     "timestamp": 1664603039683,
     "user": {
      "displayName": "Boktiar Ahmed Bappy",
      "userId": "10381972055342951581"
     },
     "user_tz": -360
    },
    "id": "0etw5D7_D8nZ"
   },
   "outputs": [],
   "source": [
    "#performing reshaping\n",
    "\n",
    "x_train = x_train.reshape(x_train.shape[0], 28,28, 1)\n",
    "x_test = x_test.reshape(x_test.shape[0],28,28, 1)"
   ]
  },
  {
   "cell_type": "code",
   "execution_count": 6,
   "metadata": {
    "colab": {
     "base_uri": "https://localhost:8080/"
    },
    "executionInfo": {
     "elapsed": 449,
     "status": "ok",
     "timestamp": 1664603046729,
     "user": {
      "displayName": "Boktiar Ahmed Bappy",
      "userId": "10381972055342951581"
     },
     "user_tz": -360
    },
    "id": "xk_QYgDiEqJH",
    "outputId": "dd4f2a00-deca-4e82-acff-d72b7ee62c07"
   },
   "outputs": [
    {
     "data": {
      "text/plain": [
       "(60000, 28, 28, 1)"
      ]
     },
     "execution_count": 6,
     "metadata": {},
     "output_type": "execute_result"
    }
   ],
   "source": [
    "x_train.shape"
   ]
  },
  {
   "cell_type": "code",
   "execution_count": 7,
   "metadata": {
    "executionInfo": {
     "elapsed": 1,
     "status": "ok",
     "timestamp": 1664603219601,
     "user": {
      "displayName": "Boktiar Ahmed Bappy",
      "userId": "10381972055342951581"
     },
     "user_tz": -360
    },
    "id": "Ycfs0lczErqo"
   },
   "outputs": [],
   "source": [
    "# Normalization\n",
    "\n",
    "x_train = x_train / 255\n",
    "x_test = x_test / 255 #min max 0-1"
   ]
  },
  {
   "cell_type": "code",
   "execution_count": 8,
   "metadata": {
    "colab": {
     "base_uri": "https://localhost:8080/"
    },
    "executionInfo": {
     "elapsed": 440,
     "status": "ok",
     "timestamp": 1664603232844,
     "user": {
      "displayName": "Boktiar Ahmed Bappy",
      "userId": "10381972055342951581"
     },
     "user_tz": -360
    },
    "id": "oJKQAiycFWD_",
    "outputId": "68ccc7eb-6eac-4e62-d8f9-a669d2eb1d2b"
   },
   "outputs": [
    {
     "data": {
      "text/plain": [
       "5"
      ]
     },
     "execution_count": 8,
     "metadata": {},
     "output_type": "execute_result"
    }
   ],
   "source": [
    "y_train[0]"
   ]
  },
  {
   "cell_type": "code",
   "execution_count": 9,
   "metadata": {
    "executionInfo": {
     "elapsed": 2,
     "status": "ok",
     "timestamp": 1664603453181,
     "user": {
      "displayName": "Boktiar Ahmed Bappy",
      "userId": "10381972055342951581"
     },
     "user_tz": -360
    },
    "id": "LwF-HmdKFZBP"
   },
   "outputs": [],
   "source": [
    "#One hot Encoding\n",
    "y_train = keras.utils.to_categorical(y_train, 10)\n",
    "y_test = keras.utils.to_categorical(y_test, 10)"
   ]
  },
  {
   "cell_type": "code",
   "execution_count": 10,
   "metadata": {
    "colab": {
     "base_uri": "https://localhost:8080/"
    },
    "executionInfo": {
     "elapsed": 4,
     "status": "ok",
     "timestamp": 1664603460313,
     "user": {
      "displayName": "Boktiar Ahmed Bappy",
      "userId": "10381972055342951581"
     },
     "user_tz": -360
    },
    "id": "cQEsQPntGPFh",
    "outputId": "9ea23a3b-3cf7-4837-e34e-bc460d35ac87"
   },
   "outputs": [
    {
     "data": {
      "text/plain": [
       "array([0., 0., 0., 0., 0., 1., 0., 0., 0., 0.], dtype=float32)"
      ]
     },
     "execution_count": 10,
     "metadata": {},
     "output_type": "execute_result"
    }
   ],
   "source": [
    "y_train[0]"
   ]
  },
  {
   "cell_type": "markdown",
   "metadata": {
    "id": "ffbA1MOjGaoR"
   },
   "source": [
    "# Model Architecture"
   ]
  },
  {
   "cell_type": "code",
   "execution_count": 14,
   "metadata": {
    "colab": {
     "base_uri": "https://localhost:8080/"
    },
    "executionInfo": {
     "elapsed": 436,
     "status": "ok",
     "timestamp": 1664604427062,
     "user": {
      "displayName": "Boktiar Ahmed Bappy",
      "userId": "10381972055342951581"
     },
     "user_tz": -360
    },
    "id": "7Ozuxa-7GQvZ",
    "outputId": "f80a8a97-4bdb-461d-ec85-4af0ba4473c4"
   },
   "outputs": [
    {
     "name": "stdout",
     "output_type": "stream",
     "text": [
      "Model: \"sequential_1\"\n",
      "_________________________________________________________________\n",
      " Layer (type)                Output Shape              Param #   \n",
      "=================================================================\n",
      " conv2d_2 (Conv2D)           (None, 24, 24, 6)         156       \n",
      "                                                                 \n",
      " average_pooling2d_2 (Averag  (None, 12, 12, 6)        0         \n",
      " ePooling2D)                                                     \n",
      "                                                                 \n",
      " conv2d_3 (Conv2D)           (None, 8, 8, 16)          2416      \n",
      "                                                                 \n",
      " average_pooling2d_3 (Averag  (None, 4, 4, 16)         0         \n",
      " ePooling2D)                                                     \n",
      "                                                                 \n",
      " flatten_1 (Flatten)         (None, 256)               0         \n",
      "                                                                 \n",
      " dense_3 (Dense)             (None, 120)               30840     \n",
      "                                                                 \n",
      " dense_4 (Dense)             (None, 84)                10164     \n",
      "                                                                 \n",
      " dense_5 (Dense)             (None, 10)                850       \n",
      "                                                                 \n",
      "=================================================================\n",
      "Total params: 44,426\n",
      "Trainable params: 44,426\n",
      "Non-trainable params: 0\n",
      "_________________________________________________________________\n"
     ]
    }
   ],
   "source": [
    "model = Sequential()\n",
    "\n",
    "model.add(Conv2D(6, kernel_size = (5,5), padding = 'valid', activation='tanh', input_shape = (28,28,1)))\n",
    "model.add(AveragePooling2D(pool_size= (2,2), strides = 2, padding = 'valid'))\n",
    "\n",
    "model.add(Conv2D(16, kernel_size = (5,5), padding = 'valid', activation='tanh'))\n",
    "model.add(AveragePooling2D(pool_size= (2,2), strides = 2, padding = 'valid'))\n",
    "\n",
    "model.add(Flatten())\n",
    "\n",
    "model.add(Dense(120, activation='tanh'))\n",
    "model.add(Dense(84, activation='tanh'))\n",
    "model.add(Dense(10, activation='softmax'))\n",
    "\n",
    "model.summary()"
   ]
  },
  {
   "cell_type": "code",
   "execution_count": 15,
   "metadata": {
    "executionInfo": {
     "elapsed": 444,
     "status": "ok",
     "timestamp": 1664604429612,
     "user": {
      "displayName": "Boktiar Ahmed Bappy",
      "userId": "10381972055342951581"
     },
     "user_tz": -360
    },
    "id": "gzaPJ6SbItEy"
   },
   "outputs": [],
   "source": [
    "model.compile(loss = keras.metrics.categorical_crossentropy, optimizer = keras.optimizers.Adam(), metrics = ['accuracy'])"
   ]
  },
  {
   "cell_type": "code",
   "execution_count": 16,
   "metadata": {
    "colab": {
     "base_uri": "https://localhost:8080/"
    },
    "executionInfo": {
     "elapsed": 32578,
     "status": "ok",
     "timestamp": 1664604464020,
     "user": {
      "displayName": "Boktiar Ahmed Bappy",
      "userId": "10381972055342951581"
     },
     "user_tz": -360
    },
    "id": "A5eEBSypJdup",
    "outputId": "91631b88-e976-4f5b-ac0c-397d58850f7b"
   },
   "outputs": [
    {
     "name": "stdout",
     "output_type": "stream",
     "text": [
      "Epoch 1/10\n",
      "469/469 [==============================] - 14s 5ms/step - loss: 0.3552 - accuracy: 0.8945 - val_loss: 0.1661 - val_accuracy: 0.9484\n",
      "Epoch 2/10\n",
      "469/469 [==============================] - 2s 5ms/step - loss: 0.1302 - accuracy: 0.9606 - val_loss: 0.0963 - val_accuracy: 0.9718\n",
      "Epoch 3/10\n",
      "469/469 [==============================] - 2s 4ms/step - loss: 0.0851 - accuracy: 0.9737 - val_loss: 0.0768 - val_accuracy: 0.9742\n",
      "Epoch 4/10\n",
      "469/469 [==============================] - 2s 4ms/step - loss: 0.0641 - accuracy: 0.9801 - val_loss: 0.0650 - val_accuracy: 0.9793\n",
      "Epoch 5/10\n",
      "469/469 [==============================] - 2s 4ms/step - loss: 0.0505 - accuracy: 0.9847 - val_loss: 0.0603 - val_accuracy: 0.9792\n",
      "Epoch 6/10\n",
      "469/469 [==============================] - 2s 4ms/step - loss: 0.0425 - accuracy: 0.9871 - val_loss: 0.0480 - val_accuracy: 0.9838\n",
      "Epoch 7/10\n",
      "469/469 [==============================] - 2s 4ms/step - loss: 0.0360 - accuracy: 0.9891 - val_loss: 0.0490 - val_accuracy: 0.9839\n",
      "Epoch 8/10\n",
      "469/469 [==============================] - 2s 4ms/step - loss: 0.0297 - accuracy: 0.9906 - val_loss: 0.0437 - val_accuracy: 0.9861\n",
      "Epoch 9/10\n",
      "469/469 [==============================] - 2s 4ms/step - loss: 0.0266 - accuracy: 0.9915 - val_loss: 0.0440 - val_accuracy: 0.9853\n",
      "Epoch 10/10\n",
      "469/469 [==============================] - 2s 4ms/step - loss: 0.0219 - accuracy: 0.9930 - val_loss: 0.0363 - val_accuracy: 0.9884\n"
     ]
    },
    {
     "data": {
      "text/plain": [
       "<keras.callbacks.History at 0x7ff7e81e3950>"
      ]
     },
     "execution_count": 16,
     "metadata": {},
     "output_type": "execute_result"
    }
   ],
   "source": [
    "model.fit(x_train, y_train, batch_size = 128, epochs=10 , verbose= 1, validation_data = (x_test, y_test))"
   ]
  },
  {
   "cell_type": "code",
   "execution_count": 17,
   "metadata": {
    "colab": {
     "base_uri": "https://localhost:8080/"
    },
    "executionInfo": {
     "elapsed": 1231,
     "status": "ok",
     "timestamp": 1664604675664,
     "user": {
      "displayName": "Boktiar Ahmed Bappy",
      "userId": "10381972055342951581"
     },
     "user_tz": -360
    },
    "id": "xtR-aiOAJtfp",
    "outputId": "026f1302-2039-46de-fb3a-4a93c9810bf6"
   },
   "outputs": [
    {
     "name": "stdout",
     "output_type": "stream",
     "text": [
      "313/313 [==============================] - 1s 3ms/step - loss: 0.0363 - accuracy: 0.9884\n",
      "Test loss: 0.03631956875324249\n",
      "Test accuracy: 0.9883999824523926\n"
     ]
    }
   ],
   "source": [
    "score = model.evaluate(x_test, y_test)\n",
    "\n",
    "print('Test loss:', score[0])\n",
    "print('Test accuracy:', score[1])"
   ]
  },
  {
   "cell_type": "code",
   "execution_count": null,
   "metadata": {
    "id": "YH5TChR4K5bS"
   },
   "outputs": [],
   "source": []
  }
 ],
 "metadata": {
  "accelerator": "GPU",
  "colab": {
   "authorship_tag": "ABX9TyPDtyDHtzd0tj08PGIXGdmh",
   "provenance": []
  },
  "kernelspec": {
   "display_name": "Python 3 (ipykernel)",
   "language": "python",
   "name": "python3"
  },
  "language_info": {
   "codemirror_mode": {
    "name": "ipython",
    "version": 3
   },
   "file_extension": ".py",
   "mimetype": "text/x-python",
   "name": "python",
   "nbconvert_exporter": "python",
   "pygments_lexer": "ipython3",
   "version": "3.9.12"
  }
 },
 "nbformat": 4,
 "nbformat_minor": 1
}
