{
 "cells": [
  {
   "cell_type": "code",
   "execution_count": null,
   "id": "c46154de",
   "metadata": {},
   "outputs": [],
   "source": [
    "# Open file no. 23.2 till end of 23. series of files and their explanation is avilable on ineuron platform\n",
    "# 2022 batch recording. 1st may and 7th may 2022. video no.46,47,48.\n",
    "# 47 is doubt clearing session."
   ]
  },
  {
   "cell_type": "code",
   "execution_count": null,
   "id": "328dbc4a",
   "metadata": {},
   "outputs": [],
   "source": [
    "# OR "
   ]
  },
  {
   "cell_type": "code",
   "execution_count": null,
   "id": "bf079954",
   "metadata": {},
   "outputs": [],
   "source": [
    "# Open EDA Folder and go from each and every file"
   ]
  },
  {
   "cell_type": "code",
   "execution_count": null,
   "id": "b3165856",
   "metadata": {},
   "outputs": [],
   "source": [
    "# ZOMATO\n",
    "# BLACK FRIDAY\n",
    "# FLIGHT PREDICTION \n",
    "\n",
    "# VIDEOS of all 3 above EDA avail on youtube.\n",
    "# (https://www.youtube.com/playlist?list=PLZoTAELRMXVPzj1D0i_6ajJ6gyD22b3jh)\n",
    "\n",
    "# We have just file of following topic of EDA not expla\n",
    "# EDA CHURN ANALYSIS \n",
    "# EDA FIFA"
   ]
  },
  {
   "cell_type": "code",
   "execution_count": null,
   "id": "8ba52368",
   "metadata": {},
   "outputs": [],
   "source": [
    "# Open 7th MAY FOLDER ALSO."
   ]
  }
 ],
 "metadata": {
  "kernelspec": {
   "display_name": "Python 3 (ipykernel)",
   "language": "python",
   "name": "python3"
  },
  "language_info": {
   "codemirror_mode": {
    "name": "ipython",
    "version": 3
   },
   "file_extension": ".py",
   "mimetype": "text/x-python",
   "name": "python",
   "nbconvert_exporter": "python",
   "pygments_lexer": "ipython3",
   "version": "3.9.12"
  }
 },
 "nbformat": 4,
 "nbformat_minor": 5
}
