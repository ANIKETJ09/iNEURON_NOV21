{
 "cells": [
  {
   "cell_type": "code",
   "execution_count": 29,
   "id": "26ffbb7c",
   "metadata": {},
   "outputs": [
    {
     "data": {
      "text/plain": [
       "'/Users/aniketsatishjoshi'"
      ]
     },
     "execution_count": 29,
     "metadata": {},
     "output_type": "execute_result"
    }
   ],
   "source": [
    "pwd()"
   ]
  },
  {
   "cell_type": "code",
   "execution_count": 1,
   "id": "70b1b465",
   "metadata": {},
   "outputs": [
    {
     "name": "stdout",
     "output_type": "stream",
     "text": [
      "The Zen of Python, by Tim Peters\n",
      "\n",
      "Beautiful is better than ugly.\n",
      "Explicit is better than implicit.\n",
      "Simple is better than complex.\n",
      "Complex is better than complicated.\n",
      "Flat is better than nested.\n",
      "Sparse is better than dense.\n",
      "Readability counts.\n",
      "Special cases aren't special enough to break the rules.\n",
      "Although practicality beats purity.\n",
      "Errors should never pass silently.\n",
      "Unless explicitly silenced.\n",
      "In the face of ambiguity, refuse the temptation to guess.\n",
      "There should be one-- and preferably only one --obvious way to do it.\n",
      "Although that way may not be obvious at first unless you're Dutch.\n",
      "Now is better than never.\n",
      "Although never is often better than *right* now.\n",
      "If the implementation is hard to explain, it's a bad idea.\n",
      "If the implementation is easy to explain, it may be a good idea.\n",
      "Namespaces are one honking great idea -- let's do more of those!\n"
     ]
    }
   ],
   "source": [
    "import this"
   ]
  },
  {
   "cell_type": "code",
   "execution_count": 1,
   "id": "bb580d75",
   "metadata": {},
   "outputs": [],
   "source": [
    "_h=9  # It is ok but \n",
    "_=88  # Even this is also ok\n",
    "*h=10 # This is not"
   ]
  },
  {
   "cell_type": "code",
   "execution_count": 2,
   "id": "40358ade",
   "metadata": {},
   "outputs": [],
   "source": [
    "a,b,c,d=234,\"ankita\",23+6j,True"
   ]
  },
  {
   "cell_type": "code",
   "execution_count": 4,
   "id": "e15ac666",
   "metadata": {},
   "outputs": [
    {
     "data": {
      "text/plain": [
       "234"
      ]
     },
     "execution_count": 4,
     "metadata": {},
     "output_type": "execute_result"
    }
   ],
   "source": [
    "a"
   ]
  },
  {
   "cell_type": "code",
   "execution_count": 28,
   "id": "8401b749",
   "metadata": {},
   "outputs": [
    {
     "data": {
      "text/plain": [
       "140244768548400"
      ]
     },
     "execution_count": 28,
     "metadata": {},
     "output_type": "execute_result"
    }
   ],
   "source": [
    "id(a)  # memory Address of 'a' variable"
   ]
  },
  {
   "cell_type": "code",
   "execution_count": 5,
   "id": "f3f4c6e3",
   "metadata": {},
   "outputs": [
    {
     "data": {
      "text/plain": [
       "(23+6j)"
      ]
     },
     "execution_count": 5,
     "metadata": {},
     "output_type": "execute_result"
    }
   ],
   "source": [
    "c"
   ]
  },
  {
   "cell_type": "code",
   "execution_count": 6,
   "id": "e865ad2f",
   "metadata": {},
   "outputs": [
    {
     "data": {
      "text/plain": [
       "23.0"
      ]
     },
     "execution_count": 6,
     "metadata": {},
     "output_type": "execute_result"
    }
   ],
   "source": [
    "c.real"
   ]
  },
  {
   "cell_type": "code",
   "execution_count": 7,
   "id": "5bdee5c4",
   "metadata": {},
   "outputs": [
    {
     "data": {
      "text/plain": [
       "6.0"
      ]
     },
     "execution_count": 7,
     "metadata": {},
     "output_type": "execute_result"
    }
   ],
   "source": [
    "c.imag"
   ]
  },
  {
   "cell_type": "code",
   "execution_count": 2,
   "id": "a056e776",
   "metadata": {},
   "outputs": [
    {
     "data": {
      "text/plain": [
       "2"
      ]
     },
     "execution_count": 2,
     "metadata": {},
     "output_type": "execute_result"
    }
   ],
   "source": [
    "True + True"
   ]
  },
  {
   "cell_type": "code",
   "execution_count": 9,
   "id": "962072e7",
   "metadata": {},
   "outputs": [
    {
     "data": {
      "text/plain": [
       "'Aniket Joshi '"
      ]
     },
     "execution_count": 9,
     "metadata": {},
     "output_type": "execute_result"
    }
   ],
   "source": [
    "# string + string\n",
    "_a = \"Aniket\"\n",
    "_K = _a + \" Joshi \"\n",
    "_K"
   ]
  },
  {
   "cell_type": "code",
   "execution_count": 12,
   "id": "febfa671",
   "metadata": {},
   "outputs": [
    {
     "data": {
      "text/plain": [
       "'aniket3'"
      ]
     },
     "execution_count": 12,
     "metadata": {},
     "output_type": "execute_result"
    }
   ],
   "source": [
    "# String + \" Num \" converted into the string. \n",
    "a=\"aniket\"\n",
    "c=a+str(3)\n",
    "c"
   ]
  },
  {
   "cell_type": "code",
   "execution_count": 10,
   "id": "0319343b",
   "metadata": {},
   "outputs": [
    {
     "data": {
      "text/plain": [
       "'34'"
      ]
     },
     "execution_count": 10,
     "metadata": {},
     "output_type": "execute_result"
    }
   ],
   "source": [
    "k_k=str(34)     # Here 34 is 'int' but still in o/p i.e. in consol we are getting str because we have done \n",
    "                # typecasting over here\n",
    "k_k"
   ]
  },
  {
   "cell_type": "code",
   "execution_count": 4,
   "id": "6d94b273",
   "metadata": {},
   "outputs": [
    {
     "data": {
      "text/plain": [
       "'34ASJ'"
      ]
     },
     "execution_count": 4,
     "metadata": {},
     "output_type": "execute_result"
    }
   ],
   "source": [
    "cc=k_k+\"ASJ\"  # Here we got Ans because k_k is variable and and we store 34 value in it as string even we \n",
    "              # know that 34 is int but because of type casting we change it to str from int.\n",
    "cc"
   ]
  },
  {
   "cell_type": "code",
   "execution_count": 12,
   "id": "1357da1e",
   "metadata": {},
   "outputs": [
    {
     "data": {
      "text/plain": [
       "46"
      ]
     },
     "execution_count": 12,
     "metadata": {},
     "output_type": "execute_result"
    }
   ],
   "source": [
    "# num + num\n",
    "DK=23+23\n",
    "DK"
   ]
  },
  {
   "cell_type": "code",
   "execution_count": 27,
   "id": "0cb16c51",
   "metadata": {},
   "outputs": [
    {
     "ename": "ValueError",
     "evalue": "invalid literal for int() with base 10: 't'",
     "output_type": "error",
     "traceback": [
      "\u001b[0;31m---------------------------------------------------------------------------\u001b[0m",
      "\u001b[0;31mValueError\u001b[0m                                Traceback (most recent call last)",
      "\u001b[0;32m<ipython-input-27-2b5bd2bb3ca8>\u001b[0m in \u001b[0;36m<module>\u001b[0;34m\u001b[0m\n\u001b[1;32m      1\u001b[0m \u001b[0mk\u001b[0m\u001b[0;34m=\u001b[0m\u001b[0;36m23\u001b[0m\u001b[0;34m\u001b[0m\u001b[0;34m\u001b[0m\u001b[0m\n\u001b[0;32m----> 2\u001b[0;31m \u001b[0md\u001b[0m\u001b[0;34m=\u001b[0m\u001b[0mint\u001b[0m\u001b[0;34m(\u001b[0m\u001b[0;34m\"t\"\u001b[0m\u001b[0;34m)\u001b[0m\u001b[0;34m+\u001b[0m\u001b[0mk\u001b[0m\u001b[0;34m\u001b[0m\u001b[0;34m\u001b[0m\u001b[0m\n\u001b[0m\u001b[1;32m      3\u001b[0m \u001b[0mprint\u001b[0m\u001b[0;34m(\u001b[0m\u001b[0md\u001b[0m\u001b[0;34m)\u001b[0m\u001b[0;34m\u001b[0m\u001b[0;34m\u001b[0m\u001b[0m\n\u001b[1;32m      4\u001b[0m \u001b[0;31m# This will not happen, it will show Error.\u001b[0m\u001b[0;34m\u001b[0m\u001b[0;34m\u001b[0m\u001b[0;34m\u001b[0m\u001b[0m\n",
      "\u001b[0;31mValueError\u001b[0m: invalid literal for int() with base 10: 't'"
     ]
    }
   ],
   "source": [
    "# Num + 'str' converted into the 'int'.\n",
    "k=23\n",
    "d=int(\"t\")+k\n",
    "print(d)\n",
    "# This will not happen, it will show Error. insted of this if value of t is given than it will possible. "
   ]
  },
  {
   "cell_type": "code",
   "execution_count": 19,
   "id": "1f5d2de3",
   "metadata": {},
   "outputs": [
    {
     "name": "stdout",
     "output_type": "stream",
     "text": [
      "Abbg t po g I p ki upog\n"
     ]
    },
    {
     "data": {
      "text/plain": [
       "'Abbg t po g I p ki upog'"
      ]
     },
     "execution_count": 19,
     "metadata": {},
     "output_type": "execute_result"
    }
   ],
   "source": [
    "input()"
   ]
  },
  {
   "cell_type": "code",
   "execution_count": 20,
   "id": "c32d5a6e",
   "metadata": {},
   "outputs": [
    {
     "name": "stdout",
     "output_type": "stream",
     "text": [
      "23\n"
     ]
    },
    {
     "data": {
      "text/plain": [
       "'23'"
      ]
     },
     "execution_count": 20,
     "metadata": {},
     "output_type": "execute_result"
    }
   ],
   "source": [
    "input()"
   ]
  },
  {
   "cell_type": "code",
   "execution_count": null,
   "id": "902656ed",
   "metadata": {},
   "outputs": [],
   "source": [
    "# input() \" This function allways gives ANS in string \" "
   ]
  },
  {
   "cell_type": "code",
   "execution_count": 23,
   "id": "10541671",
   "metadata": {},
   "outputs": [
    {
     "name": "stdout",
     "output_type": "stream",
     "text": [
      "123\n"
     ]
    },
    {
     "data": {
      "text/plain": [
       "'123'"
      ]
     },
     "execution_count": 23,
     "metadata": {},
     "output_type": "execute_result"
    }
   ],
   "source": [
    "input()"
   ]
  },
  {
   "cell_type": "code",
   "execution_count": 24,
   "id": "d596040f",
   "metadata": {},
   "outputs": [
    {
     "ename": "TypeError",
     "evalue": "can only concatenate str (not \"int\") to str",
     "output_type": "error",
     "traceback": [
      "\u001b[0;31m---------------------------------------------------------------------------\u001b[0m",
      "\u001b[0;31mTypeError\u001b[0m                                 Traceback (most recent call last)",
      "\u001b[0;32m<ipython-input-24-d6c5a6b1a1d4>\u001b[0m in \u001b[0;36m<module>\u001b[0;34m\u001b[0m\n\u001b[0;32m----> 1\u001b[0;31m \u001b[0mf\u001b[0m\u001b[0;34m=\u001b[0m\u001b[0ma\u001b[0m\u001b[0;34m+\u001b[0m\u001b[0;36m3\u001b[0m \u001b[0;31m# it will give error\u001b[0m\u001b[0;34m\u001b[0m\u001b[0;34m\u001b[0m\u001b[0m\n\u001b[0m",
      "\u001b[0;31mTypeError\u001b[0m: can only concatenate str (not \"int\") to str"
     ]
    }
   ],
   "source": [
    "f=a+3 # it will give error"
   ]
  },
  {
   "cell_type": "code",
   "execution_count": 25,
   "id": "013464eb",
   "metadata": {},
   "outputs": [
    {
     "data": {
      "text/plain": [
       "126"
      ]
     },
     "execution_count": 25,
     "metadata": {},
     "output_type": "execute_result"
    }
   ],
   "source": [
    "# Now it will not show Error. because we have done typecating over here.\n",
    "int(a)+3"
   ]
  },
  {
   "cell_type": "markdown",
   "id": "62e1b181",
   "metadata": {},
   "source": [
    "# 1"
   ]
  },
  {
   "cell_type": "code",
   "execution_count": 14,
   "id": "d0f3f4a9",
   "metadata": {},
   "outputs": [],
   "source": [
    "a=\"aniket is good boy\""
   ]
  },
  {
   "cell_type": "code",
   "execution_count": 15,
   "id": "3fdafbd3",
   "metadata": {},
   "outputs": [
    {
     "data": {
      "text/plain": [
       "'e'"
      ]
     },
     "execution_count": 15,
     "metadata": {},
     "output_type": "execute_result"
    }
   ],
   "source": [
    "a[4]"
   ]
  },
  {
   "cell_type": "code",
   "execution_count": 16,
   "id": "b7c7a71e",
   "metadata": {},
   "outputs": [
    {
     "ename": "IndexError",
     "evalue": "string index out of range",
     "output_type": "error",
     "traceback": [
      "\u001b[0;31m---------------------------------------------------------------------------\u001b[0m",
      "\u001b[0;31mIndexError\u001b[0m                                Traceback (most recent call last)",
      "\u001b[0;32m/var/folders/g0/424mq_gn0jq76h7qlxtqdg_h0000gn/T/ipykernel_9799/109431398.py\u001b[0m in \u001b[0;36m<module>\u001b[0;34m\u001b[0m\n\u001b[0;32m----> 1\u001b[0;31m \u001b[0ma\u001b[0m\u001b[0;34m[\u001b[0m\u001b[0;36m100\u001b[0m\u001b[0;34m]\u001b[0m \u001b[0;31m# It will give me Error (string index out of range)\u001b[0m\u001b[0;34m\u001b[0m\u001b[0;34m\u001b[0m\u001b[0m\n\u001b[0m",
      "\u001b[0;31mIndexError\u001b[0m: string index out of range"
     ]
    }
   ],
   "source": [
    "a[100] # It will give me Error (string index out of range)"
   ]
  },
  {
   "cell_type": "code",
   "execution_count": 17,
   "id": "e1b1d5ca",
   "metadata": {},
   "outputs": [
    {
     "data": {
      "text/plain": [
       "'aniket is good boy'"
      ]
     },
     "execution_count": 17,
     "metadata": {},
     "output_type": "execute_result"
    }
   ],
   "source": [
    "a[0:100] # This will not give us error. Because we are mentioning \"Range\" over here."
   ]
  },
  {
   "cell_type": "markdown",
   "id": "cc80f24a",
   "metadata": {},
   "source": [
    "# 2"
   ]
  },
  {
   "cell_type": "code",
   "execution_count": 36,
   "id": "c690e62d",
   "metadata": {},
   "outputs": [
    {
     "data": {
      "text/plain": [
       "'3'"
      ]
     },
     "execution_count": 36,
     "metadata": {},
     "output_type": "execute_result"
    }
   ],
   "source": [
    "a[-1]"
   ]
  },
  {
   "cell_type": "code",
   "execution_count": 45,
   "id": "8deb75d9",
   "metadata": {},
   "outputs": [
    {
     "data": {
      "text/plain": [
       "[]"
      ]
     },
     "execution_count": 45,
     "metadata": {},
     "output_type": "execute_result"
    }
   ],
   "source": [
    "a[-1:-3]"
   ]
  },
  {
   "cell_type": "code",
   "execution_count": 9,
   "id": "d65bd17a",
   "metadata": {},
   "outputs": [
    {
     "data": {
      "text/plain": [
       "''"
      ]
     },
     "execution_count": 9,
     "metadata": {},
     "output_type": "execute_result"
    }
   ],
   "source": [
    "a[-1:-4]   ## If we run this we will not get the ans, why this?\n",
    "# Answer:- \n",
    "\n",
    "# Because we have not mention jump over here And we konw by defalut jump is 1 i.e. +ve 1\n",
    "# so if see this a[-1:-4] in the scale  -5,-4,-3,-2,-1, 0, 1,2,3,4,5 carefully. you will find that start = -1\n",
    "# end = -4 both in -ve direction but step size is in +ve direction by default. \n",
    "# Because we have not mention in this a[-1:-4]"
   ]
  },
  {
   "cell_type": "code",
   "execution_count": 47,
   "id": "2b4e1134",
   "metadata": {},
   "outputs": [
    {
     "data": {
      "text/plain": [
       "'yb'"
      ]
     },
     "execution_count": 47,
     "metadata": {},
     "output_type": "execute_result"
    }
   ],
   "source": [
    "a=\"aniket is good boy\"\n",
    "a[-1:-4:-2]\n",
    "\n",
    "##  Here we got the Answer because we mention step over here."
   ]
  },
  {
   "cell_type": "code",
   "execution_count": 48,
   "id": "52d3f1d7",
   "metadata": {},
   "outputs": [
    {
     "data": {
      "text/plain": [
       "'ybdo itkn'"
      ]
     },
     "execution_count": 48,
     "metadata": {},
     "output_type": "execute_result"
    }
   ],
   "source": [
    "a=\"aniket is good boy\"\n",
    "a[-1:-100:-2]"
   ]
  },
  {
   "cell_type": "markdown",
   "id": "22116867",
   "metadata": {},
   "source": [
    "# 3"
   ]
  },
  {
   "cell_type": "code",
   "execution_count": 11,
   "id": "1f2a0605",
   "metadata": {},
   "outputs": [
    {
     "data": {
      "text/plain": [
       "''"
      ]
     },
     "execution_count": 11,
     "metadata": {},
     "output_type": "execute_result"
    }
   ],
   "source": [
    "a=\"aniket is good boy\"\n",
    "a[0:100:-1]   ## why this?\n",
    "# -5,-4,-3,-2,-1, 0, 1,2,3,4,5\n",
    "\n",
    "  Start : End : Step \n",
    "#  +ve   +ve   -ve  that's why we didn't get the Answer."
   ]
  },
  {
   "cell_type": "code",
   "execution_count": 12,
   "id": "7be24870",
   "metadata": {},
   "outputs": [
    {
     "data": {
      "text/plain": [
       "'a'"
      ]
     },
     "execution_count": 12,
     "metadata": {},
     "output_type": "execute_result"
    }
   ],
   "source": [
    "a=\"aniket is good boy\"\n",
    "a[0:-100:-1]                                             #SCALE  -5 -4 -3 -2 -1 0 1 2 3 4 5 \n",
    "\" a n i k e t   i s   g  o  o  d      b  o  y \"\n",
    "# 0-1-2-3-4-5-6-7-8-9-10-11-12-13-14-15-16-17\n",
    "\n",
    "# Output is 'a' because it is rotating it self 0 to -18 i.e. a to a\n",
    "\n",
    "#       0  1   2   3   4   5    6    7  8    9   10  11 12 13  14   15  16 17\n",
    "# a = \" a  n   i   k   e   t         i  s         g  o  o  d        b   o   y  \"\n",
    "#     -18 -17 -16 -15 -14 -13  -12  -11-10   -9  -8 -7 -6 -5   -4  -3  -2  -1\n"
   ]
  },
  {
   "cell_type": "code",
   "execution_count": 49,
   "id": "a39886fb",
   "metadata": {},
   "outputs": [
    {
     "data": {
      "text/plain": [
       "'o'"
      ]
     },
     "execution_count": 49,
     "metadata": {},
     "output_type": "execute_result"
    }
   ],
   "source": [
    "a=\"aniket is good boy\"\n",
    "a[-2:-1] # here we get o/p because \n",
    "# start  end   step\n",
    "# -2    -1    +1   SCALE  -5 -4 -3 -2 -1 0 1 2 3 4 5  [Here we are going from -2 to -1 i.e. towards +ve \n",
    "                                                    # direction and step size is also +ve 1 by deafult.]"
   ]
  },
  {
   "cell_type": "markdown",
   "id": "39f932bc",
   "metadata": {},
   "source": [
    "# 4"
   ]
  },
  {
   "cell_type": "code",
   "execution_count": 50,
   "id": "394ca8f7",
   "metadata": {},
   "outputs": [
    {
     "data": {
      "text/plain": [
       "'tekina'"
      ]
     },
     "execution_count": 50,
     "metadata": {},
     "output_type": "execute_result"
    }
   ],
   "source": [
    "a='aniket'\n",
    "a[::-1] # reverse the order \n",
    "\n",
    "#                  OR look in following cell"
   ]
  },
  {
   "cell_type": "code",
   "execution_count": 51,
   "id": "4770054c",
   "metadata": {},
   "outputs": [
    {
     "data": {
      "text/plain": [
       "'tekina'"
      ]
     },
     "execution_count": 51,
     "metadata": {},
     "output_type": "execute_result"
    }
   ],
   "source": [
    "a='aniket'\n",
    "a[-1::-1]"
   ]
  },
  {
   "cell_type": "markdown",
   "id": "cc7c8590",
   "metadata": {},
   "source": [
    "# 5"
   ]
  },
  {
   "cell_type": "code",
   "execution_count": 57,
   "id": "bafe9b13",
   "metadata": {},
   "outputs": [
    {
     "data": {
      "text/plain": [
       "'j hsitas '"
      ]
     },
     "execution_count": 57,
     "metadata": {},
     "output_type": "execute_result"
    }
   ],
   "source": [
    "a='aniket satish joshi'\n",
    "a[-5:5:-1]"
   ]
  },
  {
   "cell_type": "code",
   "execution_count": 58,
   "id": "0bcc218c",
   "metadata": {},
   "outputs": [
    {
     "data": {
      "text/plain": [
       "''"
      ]
     },
     "execution_count": 58,
     "metadata": {},
     "output_type": "execute_result"
    }
   ],
   "source": [
    "a='aniket satish joshi'\n",
    "a[-5:5:1]"
   ]
  },
  {
   "cell_type": "markdown",
   "id": "baf27764",
   "metadata": {},
   "source": [
    "## STRING FUNCTIONS"
   ]
  },
  {
   "cell_type": "code",
   "execution_count": 122,
   "id": "23527499",
   "metadata": {},
   "outputs": [],
   "source": [
    "z=\"Ajay\"*3"
   ]
  },
  {
   "cell_type": "code",
   "execution_count": 123,
   "id": "5aa5fa85",
   "metadata": {},
   "outputs": [
    {
     "data": {
      "text/plain": [
       "'AjayAjayAjay'"
      ]
     },
     "execution_count": 123,
     "metadata": {},
     "output_type": "execute_result"
    }
   ],
   "source": [
    "z"
   ]
  },
  {
   "cell_type": "code",
   "execution_count": 124,
   "id": "32e1d7fc",
   "metadata": {},
   "outputs": [
    {
     "data": {
      "text/plain": [
       "'Ajay 4'"
      ]
     },
     "execution_count": 124,
     "metadata": {},
     "output_type": "execute_result"
    }
   ],
   "source": [
    "\"Ajay\" + \" \" + \"4\""
   ]
  },
  {
   "cell_type": "code",
   "execution_count": 125,
   "id": "07541270",
   "metadata": {},
   "outputs": [
    {
     "data": {
      "text/plain": [
       "17"
      ]
     },
     "execution_count": 125,
     "metadata": {},
     "output_type": "execute_result"
    }
   ],
   "source": [
    "e= \"sanket is bad boy\"\n",
    "len(e)"
   ]
  },
  {
   "cell_type": "code",
   "execution_count": 126,
   "id": "f302fead",
   "metadata": {},
   "outputs": [
    {
     "data": {
      "text/plain": [
       "'Sanket is bad boy'"
      ]
     },
     "execution_count": 126,
     "metadata": {},
     "output_type": "execute_result"
    }
   ],
   "source": [
    "e.capitalize() ## capitalize() & titel() function, both work's as Same."
   ]
  },
  {
   "cell_type": "code",
   "execution_count": 127,
   "id": "88f6d6c6",
   "metadata": {},
   "outputs": [
    {
     "data": {
      "text/plain": [
       "'SANKET IS BAD BOY'"
      ]
     },
     "execution_count": 127,
     "metadata": {},
     "output_type": "execute_result"
    }
   ],
   "source": [
    "e.upper()"
   ]
  },
  {
   "cell_type": "code",
   "execution_count": 128,
   "id": "2e48329e",
   "metadata": {},
   "outputs": [],
   "source": [
    "q=\"SqL\""
   ]
  },
  {
   "cell_type": "code",
   "execution_count": 129,
   "id": "53bed425",
   "metadata": {},
   "outputs": [
    {
     "data": {
      "text/plain": [
       "'sQl'"
      ]
     },
     "execution_count": 129,
     "metadata": {},
     "output_type": "execute_result"
    }
   ],
   "source": [
    "q.swapcase()"
   ]
  },
  {
   "cell_type": "code",
   "execution_count": 130,
   "id": "6cbea1ce",
   "metadata": {},
   "outputs": [
    {
     "data": {
      "text/plain": [
       "'sql'"
      ]
     },
     "execution_count": 130,
     "metadata": {},
     "output_type": "execute_result"
    }
   ],
   "source": [
    "q.lower()"
   ]
  },
  {
   "cell_type": "code",
   "execution_count": 131,
   "id": "b4893a8a",
   "metadata": {},
   "outputs": [
    {
     "data": {
      "text/plain": [
       "'S q L'"
      ]
     },
     "execution_count": 131,
     "metadata": {},
     "output_type": "execute_result"
    }
   ],
   "source": [
    "\" \".join(q)"
   ]
  },
  {
   "cell_type": "code",
   "execution_count": 132,
   "id": "15494de1",
   "metadata": {},
   "outputs": [
    {
     "data": {
      "text/plain": [
       "1"
      ]
     },
     "execution_count": 132,
     "metadata": {},
     "output_type": "execute_result"
    }
   ],
   "source": [
    "e.find(\"a\")"
   ]
  },
  {
   "cell_type": "code",
   "execution_count": 133,
   "id": "7f65ae15",
   "metadata": {},
   "outputs": [
    {
     "data": {
      "text/plain": [
       "-1"
      ]
     },
     "execution_count": 133,
     "metadata": {},
     "output_type": "execute_result"
    }
   ],
   "source": [
    "e.find(\"aq\") # This combination is not in string hence it will give -1 as output"
   ]
  },
  {
   "cell_type": "code",
   "execution_count": 134,
   "id": "7e9ffd01",
   "metadata": {},
   "outputs": [
    {
     "data": {
      "text/plain": [
       "11"
      ]
     },
     "execution_count": 134,
     "metadata": {},
     "output_type": "execute_result"
    }
   ],
   "source": [
    "e.find('a',2)"
   ]
  },
  {
   "cell_type": "code",
   "execution_count": 135,
   "id": "5103c930",
   "metadata": {},
   "outputs": [
    {
     "data": {
      "text/plain": [
       "11"
      ]
     },
     "execution_count": 135,
     "metadata": {},
     "output_type": "execute_result"
    }
   ],
   "source": [
    "e.find('ad') ## It will give index of 'a' from 'ad'."
   ]
  },
  {
   "cell_type": "code",
   "execution_count": 136,
   "id": "a5fb1ef3",
   "metadata": {},
   "outputs": [
    {
     "data": {
      "text/plain": [
       "2"
      ]
     },
     "execution_count": 136,
     "metadata": {},
     "output_type": "execute_result"
    }
   ],
   "source": [
    "e.count('a')"
   ]
  },
  {
   "cell_type": "code",
   "execution_count": 137,
   "id": "11ede6e5",
   "metadata": {},
   "outputs": [
    {
     "data": {
      "text/plain": [
       "0"
      ]
     },
     "execution_count": 137,
     "metadata": {},
     "output_type": "execute_result"
    }
   ],
   "source": [
    "e.count('x')"
   ]
  },
  {
   "cell_type": "code",
   "execution_count": 138,
   "id": "e598b4b5",
   "metadata": {},
   "outputs": [
    {
     "data": {
      "text/plain": [
       "['sanket', 'is', 'bad', 'boy']"
      ]
     },
     "execution_count": 138,
     "metadata": {},
     "output_type": "execute_result"
    }
   ],
   "source": [
    "e.split() ## It will give me list of complete string."
   ]
  },
  {
   "cell_type": "code",
   "execution_count": 139,
   "id": "d10bbccc",
   "metadata": {},
   "outputs": [
    {
     "data": {
      "text/plain": [
       "['sanket', 'is', 'bad', 'boy']"
      ]
     },
     "execution_count": 139,
     "metadata": {},
     "output_type": "execute_result"
    }
   ],
   "source": [
    "l=e.split() \n",
    "l"
   ]
  },
  {
   "cell_type": "code",
   "execution_count": 140,
   "id": "915d27ce",
   "metadata": {},
   "outputs": [
    {
     "data": {
      "text/plain": [
       "'bad'"
      ]
     },
     "execution_count": 140,
     "metadata": {},
     "output_type": "execute_result"
    }
   ],
   "source": [
    "l[2]"
   ]
  },
  {
   "cell_type": "code",
   "execution_count": 141,
   "id": "5104e9f9",
   "metadata": {},
   "outputs": [
    {
     "data": {
      "text/plain": [
       "['sanket', 'is', 'bad']"
      ]
     },
     "execution_count": 141,
     "metadata": {},
     "output_type": "execute_result"
    }
   ],
   "source": [
    "l[0:3]"
   ]
  },
  {
   "cell_type": "code",
   "execution_count": 142,
   "id": "7c7890e9",
   "metadata": {},
   "outputs": [
    {
     "data": {
      "text/plain": [
       "['sanket', 'bad']"
      ]
     },
     "execution_count": 142,
     "metadata": {},
     "output_type": "execute_result"
    }
   ],
   "source": [
    "l[0:10:2]"
   ]
  },
  {
   "cell_type": "code",
   "execution_count": 143,
   "id": "378aa162",
   "metadata": {},
   "outputs": [
    {
     "data": {
      "text/plain": [
       "['s', 'nket is b', 'd boy']"
      ]
     },
     "execution_count": 143,
     "metadata": {},
     "output_type": "execute_result"
    }
   ],
   "source": [
    "e.split('a')"
   ]
  },
  {
   "cell_type": "code",
   "execution_count": 18,
   "id": "91fa1ecc",
   "metadata": {},
   "outputs": [],
   "source": [
    "w = \"  Aniket  \""
   ]
  },
  {
   "cell_type": "code",
   "execution_count": 19,
   "id": "04cb6f42",
   "metadata": {},
   "outputs": [
    {
     "data": {
      "text/plain": [
       "'Aniket'"
      ]
     },
     "execution_count": 19,
     "metadata": {},
     "output_type": "execute_result"
    }
   ],
   "source": [
    "w.strip()"
   ]
  },
  {
   "cell_type": "code",
   "execution_count": 20,
   "id": "39d6e6a1",
   "metadata": {},
   "outputs": [
    {
     "data": {
      "text/plain": [
       "'  Aniket'"
      ]
     },
     "execution_count": 20,
     "metadata": {},
     "output_type": "execute_result"
    }
   ],
   "source": [
    "w.rstrip()"
   ]
  },
  {
   "cell_type": "code",
   "execution_count": 21,
   "id": "73189641",
   "metadata": {},
   "outputs": [
    {
     "data": {
      "text/plain": [
       "'Aniket  '"
      ]
     },
     "execution_count": 21,
     "metadata": {},
     "output_type": "execute_result"
    }
   ],
   "source": [
    "w.lstrip()"
   ]
  },
  {
   "cell_type": "code",
   "execution_count": 28,
   "id": "315af7fc",
   "metadata": {},
   "outputs": [
    {
     "data": {
      "text/plain": [
       "140700487574960"
      ]
     },
     "execution_count": 28,
     "metadata": {},
     "output_type": "execute_result"
    }
   ],
   "source": [
    "s=\"aniket\"\n",
    "id(s)"
   ]
  },
  {
   "cell_type": "code",
   "execution_count": 29,
   "id": "24fadb30",
   "metadata": {},
   "outputs": [
    {
     "ename": "TypeError",
     "evalue": "'str' object does not support item assignment",
     "output_type": "error",
     "traceback": [
      "\u001b[0;31m---------------------------------------------------------------------------\u001b[0m",
      "\u001b[0;31mTypeError\u001b[0m                                 Traceback (most recent call last)",
      "\u001b[0;32m/var/folders/g0/424mq_gn0jq76h7qlxtqdg_h0000gn/T/ipykernel_9799/2311912198.py\u001b[0m in \u001b[0;36m<module>\u001b[0;34m\u001b[0m\n\u001b[1;32m      1\u001b[0m \u001b[0ms\u001b[0m\u001b[0;34m=\u001b[0m\u001b[0;34m\"aniket\"\u001b[0m\u001b[0;34m\u001b[0m\u001b[0;34m\u001b[0m\u001b[0m\n\u001b[0;32m----> 2\u001b[0;31m \u001b[0ms\u001b[0m\u001b[0;34m[\u001b[0m\u001b[0;36m1\u001b[0m\u001b[0;34m]\u001b[0m\u001b[0;34m=\u001b[0m\u001b[0;34m\"k\"\u001b[0m\u001b[0;34m\u001b[0m\u001b[0;34m\u001b[0m\u001b[0m\n\u001b[0m\u001b[1;32m      3\u001b[0m \u001b[0ms\u001b[0m\u001b[0;34m\u001b[0m\u001b[0;34m\u001b[0m\u001b[0m\n\u001b[1;32m      4\u001b[0m \u001b[0;31m# String is imutable we cant change 'n' to 'k' in \"aniket\"\u001b[0m\u001b[0;34m\u001b[0m\u001b[0;34m\u001b[0m\u001b[0;34m\u001b[0m\u001b[0m\n\u001b[1;32m      5\u001b[0m \u001b[0;34m\u001b[0m\u001b[0m\n",
      "\u001b[0;31mTypeError\u001b[0m: 'str' object does not support item assignment"
     ]
    }
   ],
   "source": [
    "s=\"aniket\"\n",
    "s[1]=\"k\"\n",
    "s\n",
    "# String is imutable we cant change 'n' to 'k' in \"aniket\"\n",
    "\n",
    "#                        But See the following lines of program\n",
    "id(s)"
   ]
  },
  {
   "cell_type": "markdown",
   "id": "7d8b889a",
   "metadata": {},
   "source": [
    "#"
   ]
  },
  {
   "cell_type": "code",
   "execution_count": 25,
   "id": "94c5db01",
   "metadata": {},
   "outputs": [
    {
     "data": {
      "text/plain": [
       "140700485915568"
      ]
     },
     "execution_count": 25,
     "metadata": {},
     "output_type": "execute_result"
    }
   ],
   "source": [
    "op= \"Aniket\"\n",
    "id(op)     # **** V V V IMP now check address of w at \"replace()\" function"
   ]
  },
  {
   "cell_type": "code",
   "execution_count": 26,
   "id": "e0b2ea8f",
   "metadata": {},
   "outputs": [
    {
     "data": {
      "text/plain": [
       "'qniket'"
      ]
     },
     "execution_count": 26,
     "metadata": {},
     "output_type": "execute_result"
    }
   ],
   "source": [
    "op.replace('A','q')"
   ]
  },
  {
   "cell_type": "code",
   "execution_count": 27,
   "id": "54bfc92f",
   "metadata": {},
   "outputs": [
    {
     "data": {
      "text/plain": [
       "140700485915568"
      ]
     },
     "execution_count": 27,
     "metadata": {},
     "output_type": "execute_result"
    }
   ],
   "source": [
    "# now see memory address of w\n",
    "id(op) "
   ]
  },
  {
   "cell_type": "code",
   "execution_count": null,
   "id": "ad437a6b",
   "metadata": {},
   "outputs": [],
   "source": [
    "#"
   ]
  },
  {
   "cell_type": "code",
   "execution_count": 36,
   "id": "6ef38407",
   "metadata": {},
   "outputs": [
    {
     "data": {
      "text/plain": [
       "140700485915568"
      ]
     },
     "execution_count": 36,
     "metadata": {},
     "output_type": "execute_result"
    }
   ],
   "source": [
    "opt= \"Aniket\"\n",
    "id(opt) "
   ]
  },
  {
   "cell_type": "code",
   "execution_count": 37,
   "id": "ab4d9de3",
   "metadata": {},
   "outputs": [
    {
     "data": {
      "text/plain": [
       "'qrstuv'"
      ]
     },
     "execution_count": 37,
     "metadata": {},
     "output_type": "execute_result"
    }
   ],
   "source": [
    "opt.replace('Aniket','qrstuv')  # Here we replace 6 letter with 6 letter."
   ]
  },
  {
   "cell_type": "code",
   "execution_count": 39,
   "id": "e102acf7",
   "metadata": {},
   "outputs": [
    {
     "data": {
      "text/plain": [
       "140700485915568"
      ]
     },
     "execution_count": 39,
     "metadata": {},
     "output_type": "execute_result"
    }
   ],
   "source": [
    "optq= \"Aniket\"\n",
    "id(optq) "
   ]
  },
  {
   "cell_type": "code",
   "execution_count": 40,
   "id": "4586a8b5",
   "metadata": {},
   "outputs": [
    {
     "data": {
      "text/plain": [
       "'qrstuvw'"
      ]
     },
     "execution_count": 40,
     "metadata": {},
     "output_type": "execute_result"
    }
   ],
   "source": [
    "optq.replace('Aniket','qrstuvw')  # Here we replace 6 letter with 7 letter."
   ]
  },
  {
   "cell_type": "code",
   "execution_count": null,
   "id": "26599e81",
   "metadata": {},
   "outputs": [],
   "source": [
    "#"
   ]
  },
  {
   "cell_type": "code",
   "execution_count": 57,
   "id": "7836cf06",
   "metadata": {},
   "outputs": [
    {
     "data": {
      "text/plain": [
       "'  Aniket  '"
      ]
     },
     "execution_count": 57,
     "metadata": {},
     "output_type": "execute_result"
    }
   ],
   "source": [
    "w.replace('x','q')"
   ]
  },
  {
   "cell_type": "code",
   "execution_count": 80,
   "id": "b85a7aec",
   "metadata": {},
   "outputs": [
    {
     "data": {
      "text/plain": [
       "'prasad  sanket'"
      ]
     },
     "execution_count": 80,
     "metadata": {},
     "output_type": "execute_result"
    }
   ],
   "source": [
    "\"prasad\\tsanket\".expandtabs() # imp [ It will create 3tabs between ' prasad ' and ' sanket '] "
   ]
  },
  {
   "cell_type": "code",
   "execution_count": 82,
   "id": "e476b6ae",
   "metadata": {},
   "outputs": [
    {
     "data": {
      "text/plain": [
       "True"
      ]
     },
     "execution_count": 82,
     "metadata": {},
     "output_type": "execute_result"
    }
   ],
   "source": [
    "a=\"ANIKET\"  \n",
    "a.isupper()  \n",
    "# It will check complete string that weather all char. are in upper format or not.\n",
    "# if yes then \"True\" else \"false\" \n",
    "# \"is\"/\"end\" comes in front of function it will check complete string and gives ans in True and False format.      "
   ]
  },
  {
   "cell_type": "code",
   "execution_count": 83,
   "id": "f78ffc7a",
   "metadata": {},
   "outputs": [
    {
     "data": {
      "text/plain": [
       "False"
      ]
     },
     "execution_count": 83,
     "metadata": {},
     "output_type": "execute_result"
    }
   ],
   "source": [
    "a=\"aniket\"\n",
    "a.isupper()"
   ]
  },
  {
   "cell_type": "code",
   "execution_count": null,
   "id": "f67910e8",
   "metadata": {},
   "outputs": [],
   "source": [
    "# SAME AS FOR \".islower\""
   ]
  },
  {
   "cell_type": "code",
   "execution_count": 86,
   "id": "1c78883b",
   "metadata": {},
   "outputs": [
    {
     "data": {
      "text/plain": [
       "True"
      ]
     },
     "execution_count": 86,
     "metadata": {},
     "output_type": "execute_result"
    }
   ],
   "source": [
    "a=\"aniket\"\n",
    "a.endswith('t')"
   ]
  },
  {
   "cell_type": "code",
   "execution_count": 87,
   "id": "6b6f0d9b",
   "metadata": {},
   "outputs": [
    {
     "data": {
      "text/plain": [
       "False"
      ]
     },
     "execution_count": 87,
     "metadata": {},
     "output_type": "execute_result"
    }
   ],
   "source": [
    "a=\"aniket\"\n",
    "a.endswith('w')"
   ]
  },
  {
   "cell_type": "code",
   "execution_count": 32,
   "id": "863674aa",
   "metadata": {},
   "outputs": [
    {
     "data": {
      "text/plain": [
       "'kunal'"
      ]
     },
     "execution_count": 32,
     "metadata": {},
     "output_type": "execute_result"
    }
   ],
   "source": [
    "w='kunal'\n",
    "w"
   ]
  },
  {
   "cell_type": "code",
   "execution_count": 33,
   "id": "0ea3e566",
   "metadata": {},
   "outputs": [
    {
     "data": {
      "text/plain": [
       "'       kunal        '"
      ]
     },
     "execution_count": 33,
     "metadata": {},
     "output_type": "execute_result"
    }
   ],
   "source": [
    "w.center(20,\" \")"
   ]
  },
  {
   "cell_type": "code",
   "execution_count": 34,
   "id": "ebd3b6a8",
   "metadata": {},
   "outputs": [
    {
     "data": {
      "text/plain": [
       "'$$$$$$$kunal$$$$$$$$'"
      ]
     },
     "execution_count": 34,
     "metadata": {},
     "output_type": "execute_result"
    }
   ],
   "source": [
    "w.center(20,\"$\")"
   ]
  },
  {
   "cell_type": "code",
   "execution_count": 35,
   "id": "1280840c",
   "metadata": {},
   "outputs": [
    {
     "data": {
      "text/plain": [
       "'$$$$$$$$kunal$$$$$$$$'"
      ]
     },
     "execution_count": 35,
     "metadata": {},
     "output_type": "execute_result"
    }
   ],
   "source": [
    "w.center(21,\"$\")"
   ]
  },
  {
   "cell_type": "markdown",
   "id": "f80fb869",
   "metadata": {},
   "source": [
    "# LIST"
   ]
  },
  {
   "cell_type": "code",
   "execution_count": 42,
   "id": "e8669766",
   "metadata": {},
   "outputs": [],
   "source": [
    "l=[10,\"aj\",38+6j,22.44,True]"
   ]
  },
  {
   "cell_type": "code",
   "execution_count": 43,
   "id": "04aa89b8",
   "metadata": {},
   "outputs": [
    {
     "data": {
      "text/plain": [
       "[10, 'aj', (38+6j), 22.44, True]"
      ]
     },
     "execution_count": 43,
     "metadata": {},
     "output_type": "execute_result"
    }
   ],
   "source": [
    "l"
   ]
  },
  {
   "cell_type": "code",
   "execution_count": 44,
   "id": "51a48c03",
   "metadata": {},
   "outputs": [
    {
     "data": {
      "text/plain": [
       "str"
      ]
     },
     "execution_count": 44,
     "metadata": {},
     "output_type": "execute_result"
    }
   ],
   "source": [
    "type(l[1])"
   ]
  },
  {
   "cell_type": "code",
   "execution_count": 45,
   "id": "f0112395",
   "metadata": {},
   "outputs": [
    {
     "data": {
      "text/plain": [
       "[]"
      ]
     },
     "execution_count": 45,
     "metadata": {},
     "output_type": "execute_result"
    }
   ],
   "source": [
    "l[-1:4]  # 0    1    2     3     4\n",
    "\n",
    "         # 10  \"aj\" 38+6j 22.44  True\n",
    "    \n",
    "         # -5  -4   -3     -2     -1"
   ]
  },
  {
   "cell_type": "code",
   "execution_count": 46,
   "id": "cda0f60a",
   "metadata": {},
   "outputs": [
    {
     "data": {
      "text/plain": [
       "'a'"
      ]
     },
     "execution_count": 46,
     "metadata": {},
     "output_type": "execute_result"
    }
   ],
   "source": [
    "l[1][0]"
   ]
  },
  {
   "cell_type": "code",
   "execution_count": 47,
   "id": "836bd3d5",
   "metadata": {},
   "outputs": [
    {
     "data": {
      "text/plain": [
       "(38+6j)"
      ]
     },
     "execution_count": 47,
     "metadata": {},
     "output_type": "execute_result"
    }
   ],
   "source": [
    "l[2]"
   ]
  },
  {
   "cell_type": "code",
   "execution_count": 48,
   "id": "0c1c357f",
   "metadata": {},
   "outputs": [
    {
     "data": {
      "text/plain": [
       "6.0"
      ]
     },
     "execution_count": 48,
     "metadata": {},
     "output_type": "execute_result"
    }
   ],
   "source": [
    "l[2].imag"
   ]
  },
  {
   "cell_type": "code",
   "execution_count": 102,
   "id": "0e438d3b",
   "metadata": {},
   "outputs": [
    {
     "data": {
      "text/plain": [
       "['ANIK', 'SHREE', 2, 'KARTHIK', True]"
      ]
     },
     "execution_count": 102,
     "metadata": {},
     "output_type": "execute_result"
    }
   ],
   "source": [
    "l1=[ \"ANIK\",\"SHREE\",2 ]\n",
    "l2=[ \"KARTHIK\",True ]\n",
    "l1+l2"
   ]
  },
  {
   "cell_type": "code",
   "execution_count": 103,
   "id": "24e06c52",
   "metadata": {},
   "outputs": [
    {
     "data": {
      "text/plain": [
       "['ANIK', 'SHREE', 2, 'kuku']"
      ]
     },
     "execution_count": 103,
     "metadata": {},
     "output_type": "execute_result"
    }
   ],
   "source": [
    "l1+[\"kuku\"]"
   ]
  },
  {
   "cell_type": "code",
   "execution_count": 104,
   "id": "2ffba077",
   "metadata": {},
   "outputs": [
    {
     "data": {
      "text/plain": [
       "['Koo', 'SHREE', 2]"
      ]
     },
     "execution_count": 104,
     "metadata": {},
     "output_type": "execute_result"
    }
   ],
   "source": [
    "l1[0]=\"Koo\"\n",
    "l1"
   ]
  },
  {
   "cell_type": "code",
   "execution_count": 105,
   "id": "34397956",
   "metadata": {},
   "outputs": [
    {
     "data": {
      "text/plain": [
       "3"
      ]
     },
     "execution_count": 105,
     "metadata": {},
     "output_type": "execute_result"
    }
   ],
   "source": [
    "len(l1)"
   ]
  },
  {
   "cell_type": "code",
   "execution_count": 106,
   "id": "36b2d5b1",
   "metadata": {},
   "outputs": [
    {
     "data": {
      "text/plain": [
       "False"
      ]
     },
     "execution_count": 106,
     "metadata": {},
     "output_type": "execute_result"
    }
   ],
   "source": [
    "\"koo\" in l1"
   ]
  },
  {
   "cell_type": "code",
   "execution_count": 107,
   "id": "693f5653",
   "metadata": {},
   "outputs": [
    {
     "data": {
      "text/plain": [
       "['Koo', 'SHREE', 2]"
      ]
     },
     "execution_count": 107,
     "metadata": {},
     "output_type": "execute_result"
    }
   ],
   "source": [
    "l1"
   ]
  },
  {
   "cell_type": "code",
   "execution_count": 108,
   "id": "a9c71e21",
   "metadata": {},
   "outputs": [],
   "source": [
    "l1.append(\"ASJ\")"
   ]
  },
  {
   "cell_type": "code",
   "execution_count": 109,
   "id": "c1a889e7",
   "metadata": {},
   "outputs": [
    {
     "data": {
      "text/plain": [
       "['Koo', 'SHREE', 2, 'ASJ']"
      ]
     },
     "execution_count": 109,
     "metadata": {},
     "output_type": "execute_result"
    }
   ],
   "source": [
    "l1"
   ]
  },
  {
   "cell_type": "code",
   "execution_count": 110,
   "id": "6b9faf3c",
   "metadata": {},
   "outputs": [
    {
     "data": {
      "text/plain": [
       "['Koo', 'SHREE', 2, 'ASJ', 'ASJ']"
      ]
     },
     "execution_count": 110,
     "metadata": {},
     "output_type": "execute_result"
    }
   ],
   "source": [
    "l1.append(\"ASJ\") ## append allways at last.\n",
    "l1"
   ]
  },
  {
   "cell_type": "code",
   "execution_count": 53,
   "id": "ac31cba9",
   "metadata": {},
   "outputs": [],
   "source": [
    "j1=['Koo', 'SHREE', 2, 38+6j, False]"
   ]
  },
  {
   "cell_type": "code",
   "execution_count": 57,
   "id": "4ce72554",
   "metadata": {},
   "outputs": [],
   "source": [
    "j1.append(['r',1,12.7])"
   ]
  },
  {
   "cell_type": "code",
   "execution_count": 60,
   "id": "bc47512d",
   "metadata": {},
   "outputs": [
    {
     "data": {
      "text/plain": [
       "['Koo', 'SHREE', 2, (38+6j), False, ['r', 1, 12.7]]"
      ]
     },
     "execution_count": 60,
     "metadata": {},
     "output_type": "execute_result"
    }
   ],
   "source": [
    "j1"
   ]
  },
  {
   "cell_type": "code",
   "execution_count": 111,
   "id": "43ffee24",
   "metadata": {},
   "outputs": [
    {
     "data": {
      "text/plain": [
       "'ASJ'"
      ]
     },
     "execution_count": 111,
     "metadata": {},
     "output_type": "execute_result"
    }
   ],
   "source": [
    "l1.pop()       ## DELETE AT LAST"
   ]
  },
  {
   "cell_type": "code",
   "execution_count": 162,
   "id": "ae27bbac",
   "metadata": {},
   "outputs": [
    {
     "data": {
      "text/plain": [
       "['Koo', 'SHREE', 2, 'ASJ']"
      ]
     },
     "execution_count": 162,
     "metadata": {},
     "output_type": "execute_result"
    }
   ],
   "source": [
    "l1"
   ]
  },
  {
   "cell_type": "code",
   "execution_count": 163,
   "id": "eb089660",
   "metadata": {},
   "outputs": [
    {
     "data": {
      "text/plain": [
       "['Koo', 2, 'ASJ']"
      ]
     },
     "execution_count": 163,
     "metadata": {},
     "output_type": "execute_result"
    }
   ],
   "source": [
    "l1.pop(1)\n",
    "l1"
   ]
  },
  {
   "cell_type": "code",
   "execution_count": 115,
   "id": "47011fcf",
   "metadata": {},
   "outputs": [
    {
     "data": {
      "text/plain": [
       "'m'"
      ]
     },
     "execution_count": 115,
     "metadata": {},
     "output_type": "execute_result"
    }
   ],
   "source": [
    "l1[0][2].replace(\"o\",\"m\")   # This is not possible. why?"
   ]
  },
  {
   "cell_type": "code",
   "execution_count": null,
   "id": "188d2c74",
   "metadata": {},
   "outputs": [],
   "source": [
    "l1 "
   ]
  },
  {
   "cell_type": "code",
   "execution_count": 167,
   "id": "bb6e55db",
   "metadata": {},
   "outputs": [
    {
     "data": {
      "text/plain": [
       "['Koo', 2, 'QLQL', 'ASJ']"
      ]
     },
     "execution_count": 167,
     "metadata": {},
     "output_type": "execute_result"
    }
   ],
   "source": [
    "l1.insert(2,\"QLQL\")\n",
    "l1"
   ]
  },
  {
   "cell_type": "code",
   "execution_count": 168,
   "id": "1aa0582b",
   "metadata": {},
   "outputs": [],
   "source": [
    "l1.insert(1,['r',1,12.7]) ##insert where we want."
   ]
  },
  {
   "cell_type": "code",
   "execution_count": 169,
   "id": "ba51a043",
   "metadata": {},
   "outputs": [
    {
     "data": {
      "text/plain": [
       "['Koo', ['r', 1, 12.7], 2, 'QLQL', 'ASJ']"
      ]
     },
     "execution_count": 169,
     "metadata": {},
     "output_type": "execute_result"
    }
   ],
   "source": [
    "l1"
   ]
  },
  {
   "cell_type": "code",
   "execution_count": 170,
   "id": "432467f1",
   "metadata": {},
   "outputs": [
    {
     "data": {
      "text/plain": [
       "['ASJ', 'QLQL', 2, ['r', 1, 12.7], 'Koo']"
      ]
     },
     "execution_count": 170,
     "metadata": {},
     "output_type": "execute_result"
    }
   ],
   "source": [
    "l1[::-1]        ## Reverse the list but not permanantly"
   ]
  },
  {
   "cell_type": "code",
   "execution_count": null,
   "id": "e404fb4d",
   "metadata": {},
   "outputs": [],
   "source": [
    "l1 # If we run this we will get orignal list."
   ]
  },
  {
   "cell_type": "code",
   "execution_count": 171,
   "id": "db4ac062",
   "metadata": {},
   "outputs": [
    {
     "data": {
      "text/plain": [
       "['ASJ', 'QLQL', 2, ['r', 1, 12.7], 'Koo']"
      ]
     },
     "execution_count": 171,
     "metadata": {},
     "output_type": "execute_result"
    }
   ],
   "source": [
    "l1.reverse()  ## Permanatly Reverse beacuse we are using function\n",
    "l1"
   ]
  },
  {
   "cell_type": "code",
   "execution_count": null,
   "id": "8bbb3a7c",
   "metadata": {},
   "outputs": [],
   "source": [
    "l1 # If we run this we will get latest updated list i.e. reverse list."
   ]
  },
  {
   "cell_type": "code",
   "execution_count": 172,
   "id": "d6b05347",
   "metadata": {},
   "outputs": [
    {
     "data": {
      "text/plain": [
       "1"
      ]
     },
     "execution_count": 172,
     "metadata": {},
     "output_type": "execute_result"
    }
   ],
   "source": [
    "l1.count('ASJ')"
   ]
  },
  {
   "cell_type": "code",
   "execution_count": 173,
   "id": "25dc160a",
   "metadata": {},
   "outputs": [
    {
     "data": {
      "text/plain": [
       "['ASJ', 'QLQL', 2, ['r', 1, 12.7], 'Koo', 10, 19, True]"
      ]
     },
     "execution_count": 173,
     "metadata": {},
     "output_type": "execute_result"
    }
   ],
   "source": [
    "l1.extend([10,19,True])   # Here what extend do,it is not directly append list at last as same as append \n",
    "l1                        # function, here concatinate operation has done. 1st unlist itself then add in main\n",
    "                          # list at last."
   ]
  },
  {
   "cell_type": "code",
   "execution_count": 179,
   "id": "d9a48261",
   "metadata": {},
   "outputs": [
    {
     "data": {
      "text/plain": [
       "[23, 3444, 'k', 'q']"
      ]
     },
     "execution_count": 179,
     "metadata": {},
     "output_type": "execute_result"
    }
   ],
   "source": [
    "l1=[23,3444]\n",
    "l1+list(\"kq\")   # IMP"
   ]
  },
  {
   "cell_type": "code",
   "execution_count": null,
   "id": "abad63c6",
   "metadata": {},
   "outputs": [],
   "source": [
    "l2=['prweu', 5345]\n",
    "l3=l2\n",
    "l3[0]='newatl3'\n",
    "print(l3)\n",
    "print(l2)\n",
    "o/p ['newatl3', 5345]\n",
    "o/p ['newatl3', 5345] \n",
    "# How it changing l2?\n",
    "\n",
    "\n",
    "s1='sudh'\n",
    "s2=s1\n",
    "s2='newdata'\n",
    "print(s1)                 # In this case why it has not changed s1?\n",
    "print(s2)\n",
    "'sudh'\n",
    "'newdata'\n",
    "\n"
   ]
  }
 ],
 "metadata": {
  "kernelspec": {
   "display_name": "Python 3 (ipykernel)",
   "language": "python",
   "name": "python3"
  },
  "language_info": {
   "codemirror_mode": {
    "name": "ipython",
    "version": 3
   },
   "file_extension": ".py",
   "mimetype": "text/x-python",
   "name": "python",
   "nbconvert_exporter": "python",
   "pygments_lexer": "ipython3",
   "version": "3.7.7"
  }
 },
 "nbformat": 4,
 "nbformat_minor": 5
}
