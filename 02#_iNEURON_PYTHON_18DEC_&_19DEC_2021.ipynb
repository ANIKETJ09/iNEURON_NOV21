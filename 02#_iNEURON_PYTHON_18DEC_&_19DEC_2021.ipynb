{
 "cells": [
  {
   "cell_type": "markdown",
   "id": "1098e81f-3288-48a2-8ebc-48a4c98ca9fb",
   "metadata": {},
   "source": [
    "# Tuple"
   ]
  },
  {
   "cell_type": "code",
   "execution_count": 2,
   "id": "b25ddba7-6dcd-42e2-91d5-5ac2be8ef5fb",
   "metadata": {},
   "outputs": [],
   "source": [
    "t=(12,\"ASJ\",29+98j,22.34,False)"
   ]
  },
  {
   "cell_type": "code",
   "execution_count": 3,
   "id": "aab73712-01cd-4505-8b2e-5cf6cea06aa4",
   "metadata": {},
   "outputs": [
    {
     "data": {
      "text/plain": [
       "(12, 'ASJ', (29+98j), 22.34, False)"
      ]
     },
     "execution_count": 3,
     "metadata": {},
     "output_type": "execute_result"
    }
   ],
   "source": [
    "t"
   ]
  },
  {
   "cell_type": "code",
   "execution_count": 4,
   "id": "b167b705",
   "metadata": {},
   "outputs": [
    {
     "data": {
      "text/plain": [
       "int"
      ]
     },
     "execution_count": 4,
     "metadata": {},
     "output_type": "execute_result"
    }
   ],
   "source": [
    "type(t[0])"
   ]
  },
  {
   "cell_type": "code",
   "execution_count": 3,
   "id": "f282be67-e1ed-4796-a792-53447bff1c61",
   "metadata": {},
   "outputs": [
    {
     "data": {
      "text/plain": [
       "tuple"
      ]
     },
     "execution_count": 3,
     "metadata": {},
     "output_type": "execute_result"
    }
   ],
   "source": [
    "type(t)"
   ]
  },
  {
   "cell_type": "code",
   "execution_count": 4,
   "id": "b34cea99-c993-4a22-b545-82e50870e642",
   "metadata": {},
   "outputs": [
    {
     "data": {
      "text/plain": [
       "(12, 'ASJ', (29+98j))"
      ]
     },
     "execution_count": 4,
     "metadata": {},
     "output_type": "execute_result"
    }
   ],
   "source": [
    "t[0:3]"
   ]
  },
  {
   "cell_type": "code",
   "execution_count": 5,
   "id": "199240c0-4abf-421e-b215-6ba956fa4f0e",
   "metadata": {},
   "outputs": [
    {
     "data": {
      "text/plain": [
       "(False, 22.34, (29+98j), 'ASJ', 12)"
      ]
     },
     "execution_count": 5,
     "metadata": {},
     "output_type": "execute_result"
    }
   ],
   "source": [
    "t[::-1]"
   ]
  },
  {
   "cell_type": "code",
   "execution_count": 6,
   "id": "2d850e49-d15c-4496-988e-27acc2368af4",
   "metadata": {},
   "outputs": [
    {
     "data": {
      "text/plain": [
       "(False, 22.34, (29+98j), 'ASJ', 12)"
      ]
     },
     "execution_count": 6,
     "metadata": {},
     "output_type": "execute_result"
    }
   ],
   "source": [
    "t[-1::-1]"
   ]
  },
  {
   "cell_type": "code",
   "execution_count": 7,
   "id": "a3f3bae4-7ed5-4f37-8da9-470a1ca38a32",
   "metadata": {},
   "outputs": [
    {
     "data": {
      "text/plain": [
       "(12, (29+98j), False)"
      ]
     },
     "execution_count": 7,
     "metadata": {},
     "output_type": "execute_result"
    }
   ],
   "source": [
    "t[0:10:2]"
   ]
  },
  {
   "cell_type": "code",
   "execution_count": 8,
   "id": "4ce3135d-8989-44fe-864c-354f6f24d479",
   "metadata": {},
   "outputs": [
    {
     "data": {
      "text/plain": [
       "12"
      ]
     },
     "execution_count": 8,
     "metadata": {},
     "output_type": "execute_result"
    }
   ],
   "source": [
    "t[0]"
   ]
  },
  {
   "cell_type": "code",
   "execution_count": 11,
   "id": "21ea4bfb-7edf-4fd3-b3ca-92109c73e98f",
   "metadata": {},
   "outputs": [
    {
     "data": {
      "text/plain": [
       "(12, 'ASJ', (29+98j), 22.34, False)"
      ]
     },
     "execution_count": 11,
     "metadata": {},
     "output_type": "execute_result"
    }
   ],
   "source": [
    "t"
   ]
  },
  {
   "cell_type": "code",
   "execution_count": 12,
   "id": "5d5c1c21-a10f-47ec-8e3a-1ee51ac9bf83",
   "metadata": {},
   "outputs": [
    {
     "data": {
      "text/plain": [
       "'S'"
      ]
     },
     "execution_count": 12,
     "metadata": {},
     "output_type": "execute_result"
    }
   ],
   "source": [
    "t[1][1]"
   ]
  },
  {
   "cell_type": "code",
   "execution_count": 9,
   "id": "8adb7828-e8e9-44a6-af2c-5ed0c5162229",
   "metadata": {},
   "outputs": [
    {
     "ename": "TypeError",
     "evalue": "'tuple' object does not support item assignment",
     "output_type": "error",
     "traceback": [
      "\u001b[0;31m---------------------------------------------------------------------------\u001b[0m",
      "\u001b[0;31mTypeError\u001b[0m                                 Traceback (most recent call last)",
      "\u001b[0;32m<ipython-input-9-ee2cb6369e48>\u001b[0m in \u001b[0;36m<module>\u001b[0;34m\u001b[0m\n\u001b[0;32m----> 1\u001b[0;31m \u001b[0mt\u001b[0m\u001b[0;34m[\u001b[0m\u001b[0;36m0\u001b[0m\u001b[0;34m]\u001b[0m\u001b[0;34m=\u001b[0m\u001b[0;34m\"kk\"\u001b[0m\u001b[0;34m\u001b[0m\u001b[0;34m\u001b[0m\u001b[0m\n\u001b[0m\u001b[1;32m      2\u001b[0m \u001b[0mt\u001b[0m\u001b[0;34m\u001b[0m\u001b[0;34m\u001b[0m\u001b[0m\n",
      "\u001b[0;31mTypeError\u001b[0m: 'tuple' object does not support item assignment"
     ]
    }
   ],
   "source": [
    "t[0]=\"kk\"    # It will show error. tuple is imutable.\n",
    "t          "
   ]
  },
  {
   "cell_type": "code",
   "execution_count": 13,
   "id": "07e4b604-94d7-4adf-8595-0045efd5d70c",
   "metadata": {},
   "outputs": [
    {
     "data": {
      "text/plain": [
       "(11, 1, 2, 13, 14, 23.34, 'ASJ', (23+34j))"
      ]
     },
     "execution_count": 13,
     "metadata": {},
     "output_type": "execute_result"
    }
   ],
   "source": [
    "t1=(11,1,2,13,14,)\n",
    "t2=(23.34,\"ASJ\",23+34j)\n",
    "t1+t2                    #It will act as \"append\" operation or we can say that \"extend\" operation."
   ]
  },
  {
   "cell_type": "code",
   "execution_count": 14,
   "id": "da296d6e-1cd9-4c5b-8ba5-3977637bd0aa",
   "metadata": {},
   "outputs": [
    {
     "data": {
      "text/plain": [
       "(11, 1, 2, 13, 14, 11, 1, 2, 13, 14)"
      ]
     },
     "execution_count": 14,
     "metadata": {},
     "output_type": "execute_result"
    }
   ],
   "source": [
    "t1*2    # Repeating tuple back to back"
   ]
  },
  {
   "cell_type": "code",
   "execution_count": 16,
   "id": "67d93a56-abf7-4f8c-903a-c95dd3331175",
   "metadata": {},
   "outputs": [
    {
     "data": {
      "text/plain": [
       "1"
      ]
     },
     "execution_count": 16,
     "metadata": {},
     "output_type": "execute_result"
    }
   ],
   "source": [
    "t1.count(1)   # it will give the count of occurrence of perticular element inside the tuple"
   ]
  },
  {
   "cell_type": "code",
   "execution_count": 17,
   "id": "00e42613-930e-4e1b-bf1b-b0b5d04cb27e",
   "metadata": {},
   "outputs": [
    {
     "data": {
      "text/plain": [
       "4"
      ]
     },
     "execution_count": 17,
     "metadata": {},
     "output_type": "execute_result"
    }
   ],
   "source": [
    "t1.index(14)   # it will give index of what we put in function from tuple"
   ]
  },
  {
   "cell_type": "code",
   "execution_count": null,
   "id": "066a692e-87d3-45dd-9fa6-81f5ff785888",
   "metadata": {},
   "outputs": [],
   "source": [
    "# Tuple inside Tuple"
   ]
  },
  {
   "cell_type": "code",
   "execution_count": 23,
   "id": "7d42ccc0-1674-4c66-a639-d8962d058fc8",
   "metadata": {},
   "outputs": [
    {
     "data": {
      "text/plain": [
       "(12,\n",
       " 'koko',\n",
       " (23+22j),\n",
       " 24.66,\n",
       " False,\n",
       " (1, 2, 3, 'a', True),\n",
       " [1, 2, 33.33, False])"
      ]
     },
     "execution_count": 23,
     "metadata": {},
     "output_type": "execute_result"
    }
   ],
   "source": [
    "t1=(12,\"koko\",23+22j,24.66,False,(1,2,3,\"a\",True),[1,2,33.33,False])\n",
    "t1"
   ]
  },
  {
   "cell_type": "code",
   "execution_count": 26,
   "id": "bd9c238f-7e71-46da-bccf-825f84b818d8",
   "metadata": {},
   "outputs": [
    {
     "name": "stdout",
     "output_type": "stream",
     "text": [
      "(12, 'koko', (23+22j), 24.66, False, (1, 2, 3, 'a', True), [1, 2, 66.66, False])\n"
     ]
    }
   ],
   "source": [
    "t1[6][2]=66.66       # we can change value inside the tuple only if that value is present in \" list \" format \n",
    "print(t1)            # inside tuple."
   ]
  },
  {
   "cell_type": "code",
   "execution_count": 27,
   "id": "d905652e-17a8-47aa-83c1-a160ea1e9f14",
   "metadata": {},
   "outputs": [
    {
     "data": {
      "text/plain": [
       "(1, 2, 3, 'jj', False)"
      ]
     },
     "execution_count": 27,
     "metadata": {},
     "output_type": "execute_result"
    }
   ],
   "source": [
    "# LIST TO TUPLE\n",
    "l=[ 1,2,3,\"jj\",False ]\n",
    "tuple(l)"
   ]
  },
  {
   "cell_type": "code",
   "execution_count": 29,
   "id": "608b832d-5e69-45f2-b8c9-a2d7ffc3aa6f",
   "metadata": {},
   "outputs": [
    {
     "data": {
      "text/plain": [
       "[1, 2, 3, 'jj', False]"
      ]
     },
     "execution_count": 29,
     "metadata": {},
     "output_type": "execute_result"
    }
   ],
   "source": [
    "# TUPLE TO LIST  \n",
    "t=(1,2,3,\"jj\",False)\n",
    "list(t)"
   ]
  },
  {
   "cell_type": "code",
   "execution_count": 110,
   "id": "c18856da-02e8-4bb9-9998-ed82d13cc9f7",
   "metadata": {},
   "outputs": [
    {
     "data": {
      "text/plain": [
       "1"
      ]
     },
     "execution_count": 110,
     "metadata": {},
     "output_type": "execute_result"
    }
   ],
   "source": [
    "t6=(\"ASJ\",1,56+67j,True)   # {IMP} True means 1 in python then it searches 1 in tuple \n",
    "t6.index(True)             # and they found at 1st index in tuple.\n",
    "          "
   ]
  },
  {
   "cell_type": "code",
   "execution_count": 118,
   "id": "b4840186-413a-4a07-aa26-522fa1a7b2fe",
   "metadata": {},
   "outputs": [
    {
     "data": {
      "text/plain": [
       "tuple"
      ]
     },
     "execution_count": 118,
     "metadata": {},
     "output_type": "execute_result"
    }
   ],
   "source": [
    "t=(1,2,3)\n",
    "type(t)"
   ]
  },
  {
   "cell_type": "code",
   "execution_count": 120,
   "id": "ae877e8b-e063-4d41-8b39-51c115c0e598",
   "metadata": {},
   "outputs": [
    {
     "data": {
      "text/plain": [
       "int"
      ]
     },
     "execution_count": 120,
     "metadata": {},
     "output_type": "execute_result"
    }
   ],
   "source": [
    "# BUT\n",
    "t=(2)\n",
    "type(t) # Here in tuple only one element is there so it will refer as premitive data type.i.e. int or str. etc "
   ]
  },
  {
   "cell_type": "markdown",
   "id": "819559b9-58f2-4873-a217-bbbf0f5765a3",
   "metadata": {},
   "source": [
    "## SET {It is Unorder collection, so set does not have index so we can't do any thing with it}"
   ]
  },
  {
   "cell_type": "code",
   "execution_count": 32,
   "id": "88e45793-50df-4bf3-826d-a3fb15151a19",
   "metadata": {},
   "outputs": [],
   "source": [
    "l=[1,2,3,4,5,6,7,8,9,120,120,4,5,6,7]"
   ]
  },
  {
   "cell_type": "code",
   "execution_count": 34,
   "id": "bc07be6f-0b14-4728-b85f-bd5c7c9ac17c",
   "metadata": {},
   "outputs": [
    {
     "data": {
      "text/plain": [
       "{1, 2, 3, 4, 5, 6, 7, 8, 9, 120}"
      ]
     },
     "execution_count": 34,
     "metadata": {},
     "output_type": "execute_result"
    }
   ],
   "source": [
    "set(l)  # It will hold only unique element. It will remove all duplicates from set."
   ]
  },
  {
   "cell_type": "code",
   "execution_count": 35,
   "id": "5cfe02a3-93eb-4ad5-ada3-0e44a60641a0",
   "metadata": {},
   "outputs": [
    {
     "data": {
      "text/plain": [
       "dict"
      ]
     },
     "execution_count": 35,
     "metadata": {},
     "output_type": "execute_result"
    }
   ],
   "source": [
    "s1={}\n",
    "type(s) # it will give o/p as dict"
   ]
  },
  {
   "cell_type": "code",
   "execution_count": 39,
   "id": "b5a25ae1-3666-4e87-b893-5995003033de",
   "metadata": {},
   "outputs": [
    {
     "data": {
      "text/plain": [
       "set"
      ]
     },
     "execution_count": 39,
     "metadata": {},
     "output_type": "execute_result"
    }
   ],
   "source": [
    "# BUT\n",
    "s2={1,23,33}\n",
    "type(s2)\n",
    "          # it will give o/p as set"
   ]
  },
  {
   "cell_type": "code",
   "execution_count": 40,
   "id": "64ac7692-63b0-4e98-8967-c4c667e22b01",
   "metadata": {},
   "outputs": [
    {
     "ename": "TypeError",
     "evalue": "'set' object is not subscriptable",
     "output_type": "error",
     "traceback": [
      "\u001b[0;31m---------------------------------------------------------------------------\u001b[0m",
      "\u001b[0;31mTypeError\u001b[0m                                 Traceback (most recent call last)",
      "\u001b[0;32m<ipython-input-40-4dc3ce09765b>\u001b[0m in \u001b[0;36m<module>\u001b[0;34m\u001b[0m\n\u001b[1;32m      1\u001b[0m \u001b[0ms\u001b[0m\u001b[0;34m=\u001b[0m\u001b[0;34m{\u001b[0m\u001b[0;36m1\u001b[0m\u001b[0;34m,\u001b[0m\u001b[0;36m2\u001b[0m\u001b[0;34m,\u001b[0m\u001b[0;36m3\u001b[0m\u001b[0;34m,\u001b[0m\u001b[0;36m4\u001b[0m\u001b[0;34m,\u001b[0m\u001b[0;34m\"ASJ\"\u001b[0m\u001b[0;34m}\u001b[0m\u001b[0;34m\u001b[0m\u001b[0;34m\u001b[0m\u001b[0m\n\u001b[0;32m----> 2\u001b[0;31m \u001b[0ms\u001b[0m\u001b[0;34m[\u001b[0m\u001b[0;36m2\u001b[0m\u001b[0;34m]\u001b[0m\u001b[0;34m\u001b[0m\u001b[0;34m\u001b[0m\u001b[0m\n\u001b[0m",
      "\u001b[0;31mTypeError\u001b[0m: 'set' object is not subscriptable"
     ]
    }
   ],
   "source": [
    "s={1,2,3,4,\"ASJ\"}\n",
    "s[2]    # it  is not possible\n",
    "        # if we want to access the elements from this convert set into list"
   ]
  },
  {
   "cell_type": "code",
   "execution_count": 42,
   "id": "18303d89-3d13-48a7-8a29-fc03c0a51dd5",
   "metadata": {},
   "outputs": [
    {
     "data": {
      "text/plain": [
       "{1, 2, 3, 4, 'ASJ', 'HHH'}"
      ]
     },
     "execution_count": 42,
     "metadata": {},
     "output_type": "execute_result"
    }
   ],
   "source": [
    "s.add(\"HHH\")\n",
    "s"
   ]
  },
  {
   "cell_type": "code",
   "execution_count": 43,
   "id": "6dab4b4c-eeea-44e7-9042-21e91dc4c745",
   "metadata": {},
   "outputs": [
    {
     "ename": "TypeError",
     "evalue": "unhashable type: 'list'",
     "output_type": "error",
     "traceback": [
      "\u001b[0;31m---------------------------------------------------------------------------\u001b[0m",
      "\u001b[0;31mTypeError\u001b[0m                                 Traceback (most recent call last)",
      "\u001b[0;32m<ipython-input-43-c325d98f1d35>\u001b[0m in \u001b[0;36m<module>\u001b[0;34m\u001b[0m\n\u001b[1;32m      1\u001b[0m \u001b[0;31m# list inside the set is not possible.\u001b[0m\u001b[0;34m\u001b[0m\u001b[0;34m\u001b[0m\u001b[0;34m\u001b[0m\u001b[0m\n\u001b[1;32m      2\u001b[0m \u001b[0;31m# Reason:- set allways hold unorder collection of unique element\u001b[0m\u001b[0;34m\u001b[0m\u001b[0;34m\u001b[0m\u001b[0;34m\u001b[0m\u001b[0m\n\u001b[0;32m----> 3\u001b[0;31m \u001b[0;34m{\u001b[0m\u001b[0;36m1\u001b[0m\u001b[0;34m,\u001b[0m\u001b[0;36m2\u001b[0m\u001b[0;34m,\u001b[0m\u001b[0;34m[\u001b[0m\u001b[0;36m12\u001b[0m\u001b[0;34m,\u001b[0m\u001b[0;36m23\u001b[0m\u001b[0;34m,\u001b[0m\u001b[0;36m44\u001b[0m\u001b[0;34m]\u001b[0m\u001b[0;34m}\u001b[0m\u001b[0;34m\u001b[0m\u001b[0;34m\u001b[0m\u001b[0m\n\u001b[0m",
      "\u001b[0;31mTypeError\u001b[0m: unhashable type: 'list'"
     ]
    }
   ],
   "source": [
    "# list inside the set is not possible.\n",
    "# Reason:- set allways hold unorder collection of unique element   \n",
    "\n",
    "{1,2,[12,23,44]}\n",
    "\n",
    "# \" WHY? \"\n",
    "# ANS:- You can't add a list to a set because lists are mutable, meaning that you can change the contents\n",
    "# of the list after adding it to the set.\n",
    "# Edit:some explanation:The documentation defines a set as an unordered collection of \"distinct hashable\" \n",
    "# objects."
   ]
  },
  {
   "cell_type": "code",
   "execution_count": 49,
   "id": "45312f4b-c895-4d9c-a566-0679d68fd06f",
   "metadata": {},
   "outputs": [
    {
     "data": {
      "text/plain": [
       "{(1, 2, 30), 45, 56}"
      ]
     },
     "execution_count": 49,
     "metadata": {},
     "output_type": "execute_result"
    }
   ],
   "source": [
    "s={(1,2,30),45,56,(1,2,30)}\n",
    "s     # it wll remove duplicate tuple              "
   ]
  },
  {
   "cell_type": "code",
   "execution_count": 50,
   "id": "90f733be-67ef-4a97-8380-5119e97d35c1",
   "metadata": {},
   "outputs": [
    {
     "data": {
      "text/plain": [
       "{(1, 2, 30), 56}"
      ]
     },
     "execution_count": 50,
     "metadata": {},
     "output_type": "execute_result"
    }
   ],
   "source": [
    "s.remove(45) #Remove an element from a set; it must be a member.\n",
    "s"
   ]
  },
  {
   "cell_type": "code",
   "execution_count": 52,
   "id": "b8d36f22-12ee-4c92-ac13-ef5884e74cad",
   "metadata": {},
   "outputs": [
    {
     "data": {
      "text/plain": [
       "{(1, 2, 30)}"
      ]
     },
     "execution_count": 52,
     "metadata": {},
     "output_type": "execute_result"
    }
   ],
   "source": [
    "s.discard(56)\n",
    "s"
   ]
  },
  {
   "cell_type": "code",
   "execution_count": 54,
   "id": "5daac413-5a45-43ab-9f66-6b2e5235d991",
   "metadata": {},
   "outputs": [
    {
     "ename": "KeyError",
     "evalue": "76",
     "output_type": "error",
     "traceback": [
      "\u001b[0;31m---------------------------------------------------------------------------\u001b[0m",
      "\u001b[0;31mKeyError\u001b[0m                                  Traceback (most recent call last)",
      "\u001b[0;32m<ipython-input-54-260ea8e1ebf5>\u001b[0m in \u001b[0;36m<module>\u001b[0;34m\u001b[0m\n\u001b[1;32m      1\u001b[0m \u001b[0;31m# difference between remove and discard is look below carefully.\u001b[0m\u001b[0;34m\u001b[0m\u001b[0;34m\u001b[0m\u001b[0;34m\u001b[0m\u001b[0m\n\u001b[0;32m----> 2\u001b[0;31m \u001b[0ms\u001b[0m\u001b[0;34m.\u001b[0m\u001b[0mremove\u001b[0m\u001b[0;34m(\u001b[0m\u001b[0;36m76\u001b[0m\u001b[0;34m)\u001b[0m\u001b[0;34m\u001b[0m\u001b[0;34m\u001b[0m\u001b[0m\n\u001b[0m",
      "\u001b[0;31mKeyError\u001b[0m: 76"
     ]
    }
   ],
   "source": [
    "# difference between remove and discard is look below carefully.\n",
    "s.remove(76)"
   ]
  },
  {
   "cell_type": "code",
   "execution_count": 55,
   "id": "8dca1dc2-0933-4296-a157-62f6bfcfd0b0",
   "metadata": {},
   "outputs": [],
   "source": [
    "s.discard(76)"
   ]
  },
  {
   "cell_type": "code",
   "execution_count": 57,
   "id": "8084546d-5309-4ad7-b8ef-1e228115a4b5",
   "metadata": {},
   "outputs": [],
   "source": [
    "# (The discard() method removes the specified item from the set. \n",
    "# This method is different from the remove() method, because the remove() method will raise an error \n",
    "# if the specified item does not exist, and the discard() method will not.)"
   ]
  },
  {
   "cell_type": "markdown",
   "id": "16607564-b7d8-4307-83b8-2eec69b2632b",
   "metadata": {},
   "source": [
    "# DICTIONARY "
   ]
  },
  {
   "cell_type": "code",
   "execution_count": 1,
   "id": "9d20f229",
   "metadata": {},
   "outputs": [
    {
     "data": {
      "text/plain": [
       "' In Python, we use dictionaries to check if an item is present or not.\\n# We can use \"integer\", \"string\", \"tuples\" as \"dictionary keys\" but cannot use list as a key of it\\n\\n# Why we can\\'t use list as key?\\n\\n# Ans:- The builtin list type should not be used as a dictionary key. \\n# Note that since tuples are immutable, they do not run into the troubles of lists -\\n# they can be hashed by their contents without worries about modification. '"
      ]
     },
     "execution_count": 1,
     "metadata": {},
     "output_type": "execute_result"
    }
   ],
   "source": [
    "\"\"\" In Python, we use dictionaries to check if an item is present or not.\n",
    "# We can use \"integer\", \"string\", \"tuples\" as \"dictionary keys\" but cannot use list as a key of it\n",
    "\n",
    "# Why we can't use list as key?\n",
    "\n",
    "# Ans:- The builtin list type should not be used as a dictionary key. \n",
    "# Note that since tuples are immutable, they do not run into the troubles of lists -\n",
    "# they can be hashed by their contents without worries about modification. \"\"\""
   ]
  },
  {
   "cell_type": "code",
   "execution_count": 68,
   "id": "903fd937-deca-4a5a-a410-b7cc96c70d7d",
   "metadata": {},
   "outputs": [
    {
     "data": {
      "text/plain": [
       "{'key1': 234, 'key2': 'ASD', 45: 'QWE', 'FGH': [1, 2, 3, 33.4]}"
      ]
     },
     "execution_count": 68,
     "metadata": {},
     "output_type": "execute_result"
    }
   ],
   "source": [
    "d={\"key1\":234,\"key2\":\"ASD\",45:\"QWE\",\"FGH\":[1,2,3,33.4]}\n",
    "d"
   ]
  },
  {
   "cell_type": "code",
   "execution_count": 69,
   "id": "bb406968-2432-4209-9d77-e11a7908f796",
   "metadata": {},
   "outputs": [
    {
     "data": {
      "text/plain": [
       "234"
      ]
     },
     "execution_count": 69,
     "metadata": {},
     "output_type": "execute_result"
    }
   ],
   "source": [
    "d[\"key1\"]"
   ]
  },
  {
   "cell_type": "code",
   "execution_count": 70,
   "id": "07d55de0-d6f1-40a4-b5e7-b8615a564447",
   "metadata": {},
   "outputs": [
    {
     "data": {
      "text/plain": [
       "'QWE'"
      ]
     },
     "execution_count": 70,
     "metadata": {},
     "output_type": "execute_result"
    }
   ],
   "source": [
    "d[45]"
   ]
  },
  {
   "cell_type": "code",
   "execution_count": 83,
   "id": "313a5582-022e-484d-9bab-869d59260537",
   "metadata": {},
   "outputs": [
    {
     "name": "stdout",
     "output_type": "stream",
     "text": [
      "{'key1': [12, 13, 14]} {'Key2': (45, 67, 89)} {'Key3': {89, 90, 78}}\n"
     ]
    }
   ],
   "source": [
    "d1={\"key1\":[12,13,14]}    # List\n",
    "#        OR\n",
    "d2={\"Key2\":(45,67,89)}    # Tuple we can do any thing from this.\n",
    "#        OR\n",
    "d3={\"Key3\":{78,89,90,90,89}} # Dictionary\n",
    "\n",
    "print(d1,d2,d3)"
   ]
  },
  {
   "cell_type": "code",
   "execution_count": 84,
   "id": "906f977a-51d1-4fb0-a212-97d12682b4f6",
   "metadata": {},
   "outputs": [
    {
     "data": {
      "text/plain": [
       "{'key1': 45, 'key2': 'SUDH'}"
      ]
     },
     "execution_count": 84,
     "metadata": {},
     "output_type": "execute_result"
    }
   ],
   "source": [
    "d4={\"key1\":[1,2,3],\"key2\":\"SUDH\",\"key1\":45}\n",
    "d4"
   ]
  },
  {
   "cell_type": "code",
   "execution_count": 85,
   "id": "443a657d-8e0b-43b4-97dc-86bea8491522",
   "metadata": {},
   "outputs": [
    {
     "data": {
      "text/plain": [
       "45"
      ]
     },
     "execution_count": 85,
     "metadata": {},
     "output_type": "execute_result"
    }
   ],
   "source": [
    "d4[\"key1\"]  # Here key1 1st save [1,2,3] then as per above dict last element is again key1 so key1 \n",
    "            # change it's value to 45 from [1,2,3].# Watch explanation. sir showes how it is working \n",
    "            # in memory. "
   ]
  },
  {
   "cell_type": "code",
   "execution_count": 99,
   "id": "15d0ac3c-9676-48c2-b8b8-672ec3e7e8ef",
   "metadata": {},
   "outputs": [
    {
     "data": {
      "text/plain": [
       "{'key1': [1, 2, 3], 'key2': [1, 2, 3], 'key3': [1, 2, 3]}"
      ]
     },
     "execution_count": 99,
     "metadata": {},
     "output_type": "execute_result"
    }
   ],
   "source": [
    "# we can put duplicate value in \"value\" section but not in \"key\" section.\n",
    "\n",
    "d5={\"key1\":[1,2,3],\"key2\":[1,2,3],\"key3\":[1,2,3]}\n",
    "d5"
   ]
  },
  {
   "cell_type": "code",
   "execution_count": 100,
   "id": "c400e7bc-78c9-4878-b8c1-73cbae43caee",
   "metadata": {},
   "outputs": [
    {
     "name": "stdout",
     "output_type": "stream",
     "text": [
      "dict_keys(['key1', 'key2', 'key3'])\n",
      "dict_values([[1, 2, 3], [1, 2, 3], [1, 2, 3]])\n"
     ]
    }
   ],
   "source": [
    "d5.keys()\n",
    "d5.values()\n",
    "print(d5.keys())\n",
    "print(d5.values())"
   ]
  },
  {
   "cell_type": "code",
   "execution_count": 101,
   "id": "80d12aca-9fab-4bb5-849a-7ceb831c50a7",
   "metadata": {},
   "outputs": [
    {
     "data": {
      "text/plain": [
       "dict_items([('Key3', {89, 90, 78})])"
      ]
     },
     "execution_count": 101,
     "metadata": {},
     "output_type": "execute_result"
    }
   ],
   "source": [
    "d.items()"
   ]
  },
  {
   "cell_type": "code",
   "execution_count": 102,
   "id": "13d71bcd-4dd4-499f-b950-0888c6454547",
   "metadata": {},
   "outputs": [
    {
     "data": {
      "text/plain": [
       "{'key1': [1, 2, 3], 'key2': [1, 2, 3], 'key3': [1, 2, 3]}"
      ]
     },
     "execution_count": 102,
     "metadata": {},
     "output_type": "execute_result"
    }
   ],
   "source": [
    "d5"
   ]
  },
  {
   "cell_type": "code",
   "execution_count": 103,
   "id": "37666447-84c5-42dc-b4cc-0c6ef7d91afd",
   "metadata": {},
   "outputs": [
    {
     "data": {
      "text/plain": [
       "{'key1': [1, 2, 3], 'key2': [1, 2, 3], 'key3': [1, 2, 3], 4: 'aa', 'pppp': 123}"
      ]
     },
     "execution_count": 103,
     "metadata": {},
     "output_type": "execute_result"
    }
   ],
   "source": [
    "# We can add many key-value pair in existing dict.\n",
    "d5[4]=\"aa\"\n",
    "d5[\"pppp\"]=123\n",
    "d5"
   ]
  },
  {
   "cell_type": "code",
   "execution_count": 104,
   "id": "b1b4b8b4-782e-4bd1-a201-366f7abbc360",
   "metadata": {},
   "outputs": [
    {
     "data": {
      "text/plain": [
       "{'key2': [1, 2, 3], 'key3': [1, 2, 3], 4: 'aa', 'pppp': 123}"
      ]
     },
     "execution_count": 104,
     "metadata": {},
     "output_type": "execute_result"
    }
   ],
   "source": [
    "del d5[\"key1\"]\n",
    "d5"
   ]
  },
  {
   "cell_type": "code",
   "execution_count": 105,
   "id": "40664e5d-899e-43aa-aad2-5eca188252de",
   "metadata": {},
   "outputs": [],
   "source": [
    "# list as key not possible "
   ]
  },
  {
   "cell_type": "code",
   "execution_count": 106,
   "id": "04c17cb8-1552-4383-bb09-0b894acf4ce4",
   "metadata": {},
   "outputs": [],
   "source": [
    "d5={\"key1\":[1,2,3],\"key2\":[1,2,3],\"key3\":[1,2,3]}\n",
    "d6={\"key3\":91,\"AS\":1996,}"
   ]
  },
  {
   "cell_type": "code",
   "execution_count": 108,
   "id": "de40402d-69fd-4755-a3c9-0c5b353e6c04",
   "metadata": {},
   "outputs": [
    {
     "data": {
      "text/plain": [
       "{'key1': [1, 2, 3], 'key2': [1, 2, 3], 'key3': 91, 'AS': 1996}"
      ]
     },
     "execution_count": 108,
     "metadata": {},
     "output_type": "execute_result"
    }
   ],
   "source": [
    "d5.update(d6)   # IMP\n",
    "d5"
   ]
  },
  {
   "cell_type": "code",
   "execution_count": 109,
   "id": "e431b1e2-0dd8-4a11-aeca-c1ad23941922",
   "metadata": {},
   "outputs": [
    {
     "ename": "TypeError",
     "evalue": "unsupported operand type(s) for +: 'dict' and 'dict'",
     "output_type": "error",
     "traceback": [
      "\u001b[0;31m---------------------------------------------------------------------------\u001b[0m",
      "\u001b[0;31mTypeError\u001b[0m                                 Traceback (most recent call last)",
      "\u001b[0;32m<ipython-input-109-625f5e5c15b6>\u001b[0m in \u001b[0;36m<module>\u001b[0;34m\u001b[0m\n\u001b[0;32m----> 1\u001b[0;31m \u001b[0md5\u001b[0m\u001b[0;34m+\u001b[0m\u001b[0md6\u001b[0m\u001b[0;34m\u001b[0m\u001b[0;34m\u001b[0m\u001b[0m\n\u001b[0m",
      "\u001b[0;31mTypeError\u001b[0m: unsupported operand type(s) for +: 'dict' and 'dict'"
     ]
    }
   ],
   "source": [
    "d5+d6 ## not possible"
   ]
  },
  {
   "cell_type": "code",
   "execution_count": 114,
   "id": "d3747101-8b19-4ce5-ab54-3282b3327cb6",
   "metadata": {},
   "outputs": [],
   "source": [
    "key=(\"name\",\"no\",\"value\",\"complex\",\"bool\")\n",
    "value=(\"True\")"
   ]
  },
  {
   "cell_type": "code",
   "execution_count": 117,
   "id": "1e783b45-ecd3-45ba-a91b-12d484d5987c",
   "metadata": {},
   "outputs": [
    {
     "name": "stdout",
     "output_type": "stream",
     "text": [
      "{'name': 'True', 'no': 'True', 'value': 'True', 'complex': 'True', 'bool': 'True'}\n"
     ]
    }
   ],
   "source": [
    "d=d1.fromkeys(key,value)\n",
    "print(d)                   # Here one to one maping will happen."
   ]
  },
  {
   "cell_type": "markdown",
   "id": "ba2c705c",
   "metadata": {},
   "source": [
    "# IF ELIF ELSE Statement"
   ]
  },
  {
   "cell_type": "code",
   "execution_count": 1,
   "id": "14987f0e",
   "metadata": {},
   "outputs": [
    {
     "data": {
      "text/plain": [
       "True"
      ]
     },
     "execution_count": 1,
     "metadata": {},
     "output_type": "execute_result"
    }
   ],
   "source": [
    "24<68"
   ]
  },
  {
   "cell_type": "code",
   "execution_count": 2,
   "id": "1e2c601c",
   "metadata": {},
   "outputs": [
    {
     "name": "stdout",
     "output_type": "stream",
     "text": [
      "ASJ\n"
     ]
    }
   ],
   "source": [
    "a=10\n",
    "if a<20:\n",
    "    print(\"ASJ\")"
   ]
  },
  {
   "cell_type": "code",
   "execution_count": 3,
   "id": "6b1e34fa",
   "metadata": {},
   "outputs": [
    {
     "name": "stdout",
     "output_type": "stream",
     "text": [
      "J\n"
     ]
    }
   ],
   "source": [
    "income=100\n",
    "if income<50:\n",
    "    print(\"A\")\n",
    "elif income<70:\n",
    "    print(\"S\")\n",
    "elif income>90:\n",
    "    print(\"J\")"
   ]
  },
  {
   "cell_type": "code",
   "execution_count": 6,
   "id": "ca6c24d3",
   "metadata": {},
   "outputs": [
    {
     "name": "stdout",
     "output_type": "stream",
     "text": [
      "101\n",
      "J\n"
     ]
    }
   ],
   "source": [
    "income=int(input())\n",
    "if income<50:\n",
    "    print(\"A\")\n",
    "elif income<70:\n",
    "    print(\"S\")\n",
    "elif income>90:\n",
    "    print(\"J\")"
   ]
  },
  {
   "cell_type": "code",
   "execution_count": 2,
   "id": "a9efbc40",
   "metadata": {},
   "outputs": [
    {
     "name": "stdout",
     "output_type": "stream",
     "text": [
      "8000\n",
      "not be able to give discount\n"
     ]
    }
   ],
   "source": [
    "Total_price=int(input())\n",
    "if Total_price >20000:\n",
    "    Discount=Total_price * .20\n",
    "    print(\"D is \", Discount)\n",
    "elif Total_price <= 7000:\n",
    "    Discount=Total_price * .05\n",
    "    print(\"D is \", Discount)\n",
    "else:\n",
    "    print(\"not be able to give discount\")"
   ]
  },
  {
   "cell_type": "code",
   "execution_count": 10,
   "id": "5b6e5d60",
   "metadata": {},
   "outputs": [
    {
     "name": "stdout",
     "output_type": "stream",
     "text": [
      "6000\n",
      "D is  300.0\n"
     ]
    }
   ],
   "source": [
    "Total_price=int(input())\n",
    "if Total_price >20000:\n",
    "    Discount=Total_price * .20\n",
    "    print(\"D is \", Discount)\n",
    "elif Total_price <= 7000:\n",
    "    Discount=Total_price * .05\n",
    "    print(\"D is \", Discount)\n",
    "else:\n",
    "    print(\"not be able to give discount\")"
   ]
  },
  {
   "cell_type": "code",
   "execution_count": 11,
   "id": "40d928cb",
   "metadata": {},
   "outputs": [
    {
     "name": "stdout",
     "output_type": "stream",
     "text": [
      "SUDHANSHU5\n",
      "you will be able to get a discount of 5 % \n",
      "you will be able to get one neuron with this amount  6726.0\n"
     ]
    }
   ],
   "source": [
    "coup = input()\n",
    "if coup == \"SUDHANSHU5\":\n",
    "    print(\"you will be able to get a discount of 5 % \")\n",
    "    paid_amount = 7080 - 7080*.05\n",
    "    print(\"you will be able to get one neuron with this amount \" , paid_amount )\n",
    "else :\n",
    "    print(\"kindly use a valid coupoun code \")"
   ]
  },
  {
   "cell_type": "code",
   "execution_count": 6,
   "id": "aaf2b718",
   "metadata": {},
   "outputs": [
    {
     "name": "stdout",
     "output_type": "stream",
     "text": [
      "enter a string to start fddf\n",
      "enter a course name sd\n",
      "enter a service name sd\n",
      "kindly connect with our team \n"
     ]
    }
   ],
   "source": [
    "# CODE \n",
    "s = input(\"enter a string to start \")\n",
    "course = input(\"enter a course name \")\n",
    "service = input(\"enter a service name \")\n",
    "if s == \"oneneuron\":\n",
    "    if course == \"DSA\":\n",
    "        print(\"yes its available under one neruon and in multiple mode for job prepratoin and core concept \")\n",
    "    elif course == \"Blockchain\":\n",
    "        print(\"this is not aviable as of now , kindly raise your demand and we will fulfil in 60 days \")\n",
    "    elif course == \"FSDS\":\n",
    "        print(\"yes its availble , youi can start learning \")\n",
    "    else :\n",
    "        print(\"this course is not availble kindly raise your demand \")\n",
    "elif s  == \"oneneuronservice\":\n",
    "    if service == \"courserequest\":\n",
    "        print(\"*NOTE: Dear Learner, you can raise demand related to any new course, and we will fulfil your need in the next 60 days.\")\n",
    "    elif service == \"module\" :\n",
    "        print(\"*NOTE: Dear Learner, you can raise demand related to any new course module, and we will fulfil your need in the next 30 days.\")\n",
    "    elif service == \"doubt\":\n",
    "        print(\"*NOTE: Dear Learner, you can raise demand related to any doubt clearing, and we will fulfil your need in the next 24 hours.\")\n",
    "    elif service == \"workwithus\":\n",
    "        print(\"*NOTE: Dear Learner, you can raise the demand to work with our team; our HR will evaluate and get back to you in 24 hours.\")\n",
    "    else :\n",
    "        print(\"kindly provide us your feedback and we will fulfil\")\n",
    "else :\n",
    "    print(\"kindly connect with our team \")"
   ]
  },
  {
   "cell_type": "code",
   "execution_count": 4,
   "id": "28ce4009",
   "metadata": {},
   "outputs": [
    {
     "name": "stdout",
     "output_type": "stream",
     "text": [
      "enter a string to start oneneuron\n",
      "enter a course name DSA\n",
      "enter a service name module\n",
      "yes its available under one neruon and in multiple mode for job prepratoin and core concept \n"
     ]
    }
   ],
   "source": [
    "#  CODE 1\n",
    "s = input(\"enter a string to start \")\n",
    "course = input(\"enter a course name \")\n",
    "service = input(\"enter a service name \")\n",
    "if s == \"oneneuron\":\n",
    "    if course == \"DSA\":\n",
    "        print(\"yes its available under one neruon and in multiple mode for job prepratoin and core concept \")\n",
    "    elif course == \"Blockchain\":\n",
    "        print(\"this is not aviable as of now , kindly raise your demand and we will fulfil in 60 days \")\n",
    "    elif course == \"FSDS\":\n",
    "        print(\"yes its availble , youi can start learning \")\n",
    "    else :\n",
    "        print(\"this course is not availble kindly raise your demand \")\n",
    "elif s  == \"oneneuronservice\":\n",
    "    if service == \"courserequest\":\n",
    "        print(\"*NOTE: Dear Learner, you can raise demand related to any new course, and we will fulfil your need in the next 60 days.\")\n",
    "    elif service == \"module\" :\n",
    "        print(\"*NOTE: Dear Learner, you can raise demand related to any new course module, and we will fulfil your need in the next 30 days.\")\n",
    "    elif service == \"doubt\":\n",
    "        print(\"*NOTE: Dear Learner, you can raise demand related to any doubt clearing, and we will fulfil your need in the next 24 hours.\")\n",
    "    elif service == \"workwithus\":\n",
    "        print(\"*NOTE: Dear Learner, you can raise the demand to work with our team; our HR will evaluate and get back to you in 24 hours.\")\n",
    "    else :\n",
    "        print(\"kindly provide us your feedback and we will fulfil\")\n",
    "else :\n",
    "    print(\"kindly connect with our team \")"
   ]
  },
  {
   "cell_type": "code",
   "execution_count": 5,
   "id": "272e261e",
   "metadata": {},
   "outputs": [
    {
     "name": "stdout",
     "output_type": "stream",
     "text": [
      "enter a string to start oneneuronservice\n",
      "enter a course name DSA\n",
      "enter a service name workwithus\n",
      "*NOTE: Dear Learner, you can raise the demand to work with our team; our HR will evaluate and get back to you in 24 hours.\n"
     ]
    }
   ],
   "source": [
    "#  CODE 2\n",
    "s = input(\"enter a string to start \")\n",
    "course = input(\"enter a course name \")\n",
    "service = input(\"enter a service name \")\n",
    "if s == \"oneneuron\":\n",
    "    if course == \"DSA\":\n",
    "        print(\"yes its available under one neruon and in multiple mode for job prepratoin and core concept \")\n",
    "    elif course == \"Blockchain\":\n",
    "        print(\"this is not aviable as of now , kindly raise your demand and we will fulfil in 60 days \")\n",
    "    elif course == \"FSDS\":\n",
    "        print(\"yes its availble , youi can start learning \")\n",
    "    else :\n",
    "        print(\"this course is not availble kindly raise your demand \")\n",
    "elif s  == \"oneneuronservice\":\n",
    "    if service == \"courserequest\":\n",
    "        print(\"*NOTE: Dear Learner, you can raise demand related to any new course, and we will fulfil your need in the next 60 days.\")\n",
    "    elif service == \"module\" :\n",
    "        print(\"*NOTE: Dear Learner, you can raise demand related to any new course module, and we will fulfil your need in the next 30 days.\")\n",
    "    elif service == \"doubt\":\n",
    "        print(\"*NOTE: Dear Learner, you can raise demand related to any doubt clearing, and we will fulfil your need in the next 24 hours.\")\n",
    "    elif service == \"workwithus\":\n",
    "        print(\"*NOTE: Dear Learner, you can raise the demand to work with our team; our HR will evaluate and get back to you in 24 hours.\")\n",
    "    else :\n",
    "        print(\"kindly provide us your feedback and we will fulfil\")\n",
    "else :\n",
    "    print(\"kindly connect with our team \") "
   ]
  },
  {
   "cell_type": "code",
   "execution_count": 1,
   "id": "e634a4d1",
   "metadata": {},
   "outputs": [
    {
     "name": "stdout",
     "output_type": "stream",
     "text": [
      "enter a string to start oneneuron\n",
      "enter a course name DSA\n",
      "yes its available under one neruon and in multiple mode for job prepratoin and core concept \n"
     ]
    }
   ],
   "source": [
    "# IMP 1\n",
    "s = input(\"enter a string to start \")\n",
    "\n",
    "if s == \"oneneuron\":\n",
    "    course = input(\"enter a course name \")\n",
    "    if course == \"DSA\":\n",
    "        print(\"yes its available under one neruon and in multiple mode for job prepratoin and core concept \")\n",
    "    elif course == \"Blockchain\":\n",
    "        print(\"this is not aviable as of now , kindly raise your demand and we will fulfil in 60 days \")\n",
    "    elif course == \"FSDS\":\n",
    "        print(\"yes its availble , youi can start learning \")\n",
    "    else :\n",
    "        print(\"this course is not availble kindly raise your demand \")\n",
    "    \n",
    "elif s  == \"oneneuronservice\":\n",
    "    service = input(\"enter a service name \")\n",
    "    if service == \"courserequest\":\n",
    "        print(\"*NOTE: Dear Learner, you can raise demand related to any new course, and we will fulfil your need in the next 60 days.\")\n",
    "    elif service == \"module\" :\n",
    "        print(\"*NOTE: Dear Learner, you can raise demand related to any new course module, and we will fulfil your need in the next 30 days.\")\n",
    "    elif service == \"doubt\":\n",
    "        print(\"*NOTE: Dear Learner, you can raise demand related to any doubt clearing, and we will fulfil your need in the next 24 hours.\")\n",
    "    elif service == \"workwithus\":\n",
    "        print(\"*NOTE: Dear Learner, you can raise the demand to work with our team; our HR will evaluate and get back to you in 24 hours.\")\n",
    "    else :\n",
    "        print(\"kindly provide us your feedback and we will fulfil\")\n",
    "else :\n",
    "    print(\"kindly connect with our team \") "
   ]
  },
  {
   "cell_type": "code",
   "execution_count": 2,
   "id": "05f24ba5",
   "metadata": {},
   "outputs": [
    {
     "name": "stdout",
     "output_type": "stream",
     "text": [
      "enter a string to start oneneuronservice\n",
      "enter a service name courserequest\n",
      "*NOTE: Dear Learner, you can raise demand related to any new course, and we will fulfil your need in the next 60 days.\n"
     ]
    }
   ],
   "source": [
    "# IMP 2\n",
    "s = input(\"enter a string to start \")\n",
    "\n",
    "if s == \"oneneuron\":\n",
    "    course = input(\"enter a course name \")\n",
    "    if course == \"DSA\":\n",
    "        print(\"yes its available under one neruon and in multiple mode for job prepratoin and core concept \")\n",
    "    elif course == \"Blockchain\":\n",
    "        print(\"this is not aviable as of now , kindly raise your demand and we will fulfil in 60 days \")\n",
    "    elif course == \"FSDS\":\n",
    "        print(\"yes its availble , youi can start learning \")\n",
    "    else :\n",
    "        print(\"this course is not availble kindly raise your demand \")\n",
    "    \n",
    "elif s  == \"oneneuronservice\":\n",
    "    service = input(\"enter a service name \")\n",
    "    if service == \"courserequest\":\n",
    "        print(\"*NOTE: Dear Learner, you can raise demand related to any new course, and we will fulfil your need in the next 60 days.\")\n",
    "    elif service == \"module\" :\n",
    "        print(\"*NOTE: Dear Learner, you can raise demand related to any new course module, and we will fulfil your need in the next 30 days.\")\n",
    "    elif service == \"doubt\":\n",
    "        print(\"*NOTE: Dear Learner, you can raise demand related to any doubt clearing, and we will fulfil your need in the next 24 hours.\")\n",
    "    elif service == \"workwithus\":\n",
    "        print(\"*NOTE: Dear Learner, you can raise the demand to work with our team; our HR will evaluate and get back to you in 24 hours.\")\n",
    "    else :\n",
    "        print(\"kindly provide us your feedback and we will fulfil\")\n",
    "else :\n",
    "    print(\"kindly connect with our team \") "
   ]
  },
  {
   "cell_type": "code",
   "execution_count": 2,
   "id": "8bdd0c05",
   "metadata": {},
   "outputs": [
    {
     "name": "stdout",
     "output_type": "stream",
     "text": [
      "enter a string to start oneneuron\n",
      "enter a course name fhdfg\n",
      "this course is not availble kindly raise your demand by putting s = oneneuronservice\n",
      "enter a string to start oneneuronservice\n",
      "enter a service name courserequest\n",
      "*NOTE: Dear Learner, you can raise demand related to any new course, and we will fulfil your need in the next 60 days.\n"
     ]
    }
   ],
   "source": [
    "# VV IMP CODE 1\n",
    "s = input(\"enter a string to start \")\n",
    "course = input(\"enter a course name \")\n",
    "\n",
    "if s == \"oneneuron\":\n",
    "    if course == \"DSA\":\n",
    "        print(\"yes its available under one neruon and in multiple mode for job prepratoin and core concept \")\n",
    "    elif course == \"Blockchain\":\n",
    "        print(\"this is not aviable as of now , kindly raise your demand and we will fulfil in 60 days \")\n",
    "    elif course == \"FSDS\":\n",
    "        print(\"yes its availble , youi can start learning \")\n",
    "    else :\n",
    "        print(\"this course is not availble kindly raise your demand by putting s = oneneuronservice\")\n",
    "        s = input(\"enter a string to start \")      \n",
    "if s  == \"oneneuronservice\":\n",
    "    service = input(\"enter a service name \")   \n",
    "    if service == \"courserequest\":\n",
    "        print(\"*NOTE: Dear Learner, you can raise demand related to any new course, and we will fulfil your need in the next 60 days.\")\n",
    "    elif service == \"module\" :\n",
    "        print(\"*NOTE: Dear Learner, you can raise demand related to any new course module, and we will fulfil your need in the next 30 days.\")\n",
    "    elif service == \"doubt\":\n",
    "        print(\"*NOTE: Dear Learner, you can raise demand related to any doubt clearing, and we will fulfil your need in the next 24 hours.\")\n",
    "    elif service == \"workwithus\":\n",
    "        print(\"*NOTE: Dear Learner, you can raise the demand to work with our team; our HR will evaluate and get back to you in 24 hours.\")\n",
    "    else :\n",
    "        print(\"kindly provide us your feedback and we will fulfil\")\n",
    "else :\n",
    "    print(\"kindly connect with our team \")"
   ]
  },
  {
   "cell_type": "code",
   "execution_count": 1,
   "id": "1091fd1d",
   "metadata": {},
   "outputs": [
    {
     "name": "stdout",
     "output_type": "stream",
     "text": [
      "enter a string to start oneneuron\n",
      "enter a course name dfg\n",
      "this course is not availble kindly raise your demand by putting s = oneneuronservice\n",
      "enter a string to start oneneuronservice\n",
      "enter a service name fghjg\n",
      "kindly provide us your feedback and we will fulfil\n"
     ]
    }
   ],
   "source": [
    "# VV IMP CODE 2\n",
    "s = input(\"enter a string to start \")\n",
    "course = input(\"enter a course name \")\n",
    "\n",
    "if s == \"oneneuron\":\n",
    "    if course == \"DSA\":\n",
    "        print(\"yes its available under one neruon and in multiple mode for job prepratoin and core concept \")\n",
    "    elif course == \"Blockchain\":\n",
    "        print(\"this is not aviable as of now , kindly raise your demand and we will fulfil in 60 days \")\n",
    "    elif course == \"FSDS\":\n",
    "        print(\"yes its availble , youi can start learning \")\n",
    "    else :\n",
    "        print(\"this course is not availble kindly raise your demand by putting s = oneneuronservice\")\n",
    "        s = input(\"enter a string to start \")      \n",
    "if s  == \"oneneuronservice\":\n",
    "    service = input(\"enter a service name \")   \n",
    "    if service == \"courserequest\":\n",
    "        print(\"*NOTE: Dear Learner, you can raise demand related to any new course, and we will fulfil your need in the next 60 days.\")\n",
    "    elif service == \"module\" :\n",
    "        print(\"*NOTE: Dear Learner, you can raise demand related to any new course module, and we will fulfil your need in the next 30 days.\")\n",
    "    elif service == \"doubt\":\n",
    "        print(\"*NOTE: Dear Learner, you can raise demand related to any doubt clearing, and we will fulfil your need in the next 24 hours.\")\n",
    "    elif service == \"workwithus\":\n",
    "        print(\"*NOTE: Dear Learner, you can raise the demand to work with our team; our HR will evaluate and get back to you in 24 hours.\")\n",
    "    else :\n",
    "        print(\"kindly provide us your feedback and we will fulfil\")\n",
    "else :\n",
    "    print(\"kindly connect with our team \")"
   ]
  },
  {
   "cell_type": "markdown",
   "id": "06a34c89",
   "metadata": {},
   "source": [
    "# FOR LOOP"
   ]
  },
  {
   "cell_type": "code",
   "execution_count": 4,
   "id": "bf7b9b1e",
   "metadata": {},
   "outputs": [
    {
     "name": "stdout",
     "output_type": "stream",
     "text": [
      "1\n",
      "2\n",
      "3\n",
      "4\n",
      "5\n",
      "6\n",
      "7\n"
     ]
    }
   ],
   "source": [
    "l = [1,2,3,4,5,6,7]\n",
    "for i in l :\n",
    "    print(i)\n",
    "    "
   ]
  },
  {
   "cell_type": "code",
   "execution_count": 5,
   "id": "f077c092",
   "metadata": {},
   "outputs": [
    {
     "name": "stdout",
     "output_type": "stream",
     "text": [
      "A\n",
      "S\n",
      "J\n"
     ]
    }
   ],
   "source": [
    "l = \"ASJ\"\n",
    "for i in l :\n",
    "    print(i)\n",
    "    "
   ]
  },
  {
   "cell_type": "code",
   "execution_count": 12,
   "id": "c5ceac11",
   "metadata": {},
   "outputs": [
    {
     "name": "stdout",
     "output_type": "stream",
     "text": [
      "h\n",
      "c\n",
      "t\n",
      "a\n",
      "b\n",
      " \n",
      "k\n",
      "c\n",
      "a\n",
      "t\n",
      "s\n",
      " \n",
      "l\n",
      "l\n",
      "u\n",
      "f\n",
      " \n",
      "s\n",
      "i\n",
      " \n",
      "s\n",
      "i\n",
      "h\n"
     ]
    }
   ],
   "source": [
    "# IMP\n",
    "s = 'this is full stack batch'\n",
    "for i in range(1,len(s)):\n",
    "    print(s[-i])"
   ]
  },
  {
   "cell_type": "code",
   "execution_count": 6,
   "id": "5ccdf8c1",
   "metadata": {},
   "outputs": [
    {
     "name": "stdout",
     "output_type": "stream",
     "text": [
      "<class 'int'>\n",
      "<class 'float'>\n",
      "<class 'complex'>\n",
      "<class 'str'>\n",
      "<class 'bool'>\n"
     ]
    }
   ],
   "source": [
    "l = [ 1, 2.3, 34+87j, \"ASF\", True ]\n",
    "for i in l :\n",
    "    print(type(i))    "
   ]
  },
  {
   "cell_type": "code",
   "execution_count": 4,
   "id": "105e82af",
   "metadata": {},
   "outputs": [
    {
     "data": {
      "text/plain": [
       "[3, 4.3, 36]"
      ]
     },
     "execution_count": 4,
     "metadata": {},
     "output_type": "execute_result"
    }
   ],
   "source": [
    "l = [1,2.3,34]\n",
    "l10=[]\n",
    "for i in l :\n",
    "    l10.append(i+2)\n",
    "l10"
   ]
  },
  {
   "cell_type": "code",
   "execution_count": 4,
   "id": "379131c7",
   "metadata": {},
   "outputs": [
    {
     "name": "stdout",
     "output_type": "stream",
     "text": [
      "[1]\n"
     ]
    }
   ],
   "source": [
    "l = [1,2.3,34+87j,\"ASF\",True]\n",
    "l1=[]\n",
    "for i in l:\n",
    "    if type(i) == int:\n",
    "        l1.append(i)\n",
    "        print(l1)\n",
    "    else:\n",
    "        \"blank\""
   ]
  },
  {
   "cell_type": "code",
   "execution_count": 6,
   "id": "7110c014",
   "metadata": {},
   "outputs": [
    {
     "name": "stdout",
     "output_type": "stream",
     "text": [
      "blank\n",
      "blank\n",
      "blank\n",
      "blank\n"
     ]
    }
   ],
   "source": [
    "l = [2.3,34+87j,\"ASF\",True]\n",
    "l1=[]\n",
    "for i in l:\n",
    "    if type(i) == int:\n",
    "        l1.append(i)\n",
    "        print(l1)\n",
    "    else:\n",
    "        print(\"blank\")"
   ]
  },
  {
   "cell_type": "code",
   "execution_count": 11,
   "id": "e8b50796",
   "metadata": {},
   "outputs": [
    {
     "name": "stdout",
     "output_type": "stream",
     "text": [
      "INT [1]\n",
      "float [2.3]\n",
      "complex [(34+87j)]\n",
      "str ['ASF']\n",
      "bool [True]\n"
     ]
    }
   ],
   "source": [
    "l = [1,2.3,34+87j,\"ASF\",True]\n",
    "l1=[]\n",
    "l2=[]\n",
    "l3=[]\n",
    "l4=[]\n",
    "l5=[]\n",
    "for i in l:\n",
    "    if type(i) == int:\n",
    "        l1.append(i)\n",
    "        print(\"INT\",l1 )\n",
    "    elif type(i)==float:\n",
    "        l2.append(i)\n",
    "        print(\"float\",l2)\n",
    "    elif type(i)==complex:\n",
    "        l3.append(i)\n",
    "        print(\"complex\",l3)\n",
    "    elif type(i)==str:\n",
    "        l4.append(i)\n",
    "        print(\"str\",l4)\n",
    "    elif type(i)==bool:\n",
    "        l5.append(i)\n",
    "        print(\"bool\",l5)\n",
    "    else:\n",
    "        Print(\"blank\")"
   ]
  },
  {
   "cell_type": "code",
   "execution_count": 5,
   "id": "e79fee99",
   "metadata": {},
   "outputs": [
    {
     "name": "stdout",
     "output_type": "stream",
     "text": [
      "2\n",
      "45\n",
      "78\n",
      "12\n",
      "56\n",
      "67\n",
      "78\n"
     ]
    }
   ],
   "source": [
    "l = [2,45,78,12,\"sudh\" , 6+7j,[56,67,78,\"dsfdsf\"]]\n",
    "for i in l :\n",
    "    if type(i) == int :\n",
    "        print(i)\n",
    "    elif type(i) == list:\n",
    "        for j in i :\n",
    "            if type(j) == int:\n",
    "                print(j)"
   ]
  },
  {
   "cell_type": "code",
   "execution_count": 15,
   "id": "c6cee9c8",
   "metadata": {},
   "outputs": [
    {
     "data": {
      "text/plain": [
       "range(0, 5)"
      ]
     },
     "execution_count": 15,
     "metadata": {},
     "output_type": "execute_result"
    }
   ],
   "source": [
    "# RANGE FUNCTION\n",
    "range(5)"
   ]
  },
  {
   "cell_type": "code",
   "execution_count": 16,
   "id": "b8cff357",
   "metadata": {},
   "outputs": [
    {
     "data": {
      "text/plain": [
       "[0, 1, 2, 3, 4]"
      ]
     },
     "execution_count": 16,
     "metadata": {},
     "output_type": "execute_result"
    }
   ],
   "source": [
    "list(range(5))"
   ]
  },
  {
   "cell_type": "code",
   "execution_count": 17,
   "id": "9e664f43",
   "metadata": {},
   "outputs": [
    {
     "data": {
      "text/plain": [
       "range(1, 5)"
      ]
     },
     "execution_count": 17,
     "metadata": {},
     "output_type": "execute_result"
    }
   ],
   "source": [
    "range(1,5)"
   ]
  },
  {
   "cell_type": "code",
   "execution_count": 18,
   "id": "a44e0b46",
   "metadata": {},
   "outputs": [
    {
     "data": {
      "text/plain": [
       "[1, 2, 3, 4]"
      ]
     },
     "execution_count": 18,
     "metadata": {},
     "output_type": "execute_result"
    }
   ],
   "source": [
    "list(range(1,5))"
   ]
  },
  {
   "cell_type": "code",
   "execution_count": null,
   "id": "53107dbc",
   "metadata": {},
   "outputs": [],
   "source": [
    "# TEST "
   ]
  },
  {
   "cell_type": "code",
   "execution_count": 12,
   "id": "48a99461",
   "metadata": {},
   "outputs": [],
   "source": [
    "l = [2,45,78,12,12,12,12,\"sudh\" , 6+7j,[56,67,78,\"dsfdsf\"]]\n",
    "#q1 . try to print index of all the element \n",
    "#q2 . Try to extract all the list of char if element is string \n",
    "#q3 . Try to return a list after doing a square of all the int element \n",
    "    "
   ]
  },
  {
   "cell_type": "code",
   "execution_count": 28,
   "id": "eba19dd2",
   "metadata": {},
   "outputs": [
    {
     "name": "stdout",
     "output_type": "stream",
     "text": [
      "index 0 for an element  2\n",
      "index 1 for an element  45\n",
      "index 2 for an element  78\n",
      "index 3 for an element  12\n",
      "index 4 for an element  12\n",
      "index 5 for an element  12\n",
      "index 6 for an element  12\n",
      "index 7 for an element  sudh\n",
      "index 8 for an element  (6+7j)\n",
      "index 9 for an element  [56, 67, 78, 'dsfdsf']\n"
     ]
    }
   ],
   "source": [
    "# Q1\n",
    "l = [2,45,78,12,12,12,12,\"sudh\" , 6+7j,[56,67,78,\"dsfdsf\"]]\n",
    "for i in range(len(l)):\n",
    "    print(\"index\" , i  , \"for an element \" , l[i])"
   ]
  },
  {
   "cell_type": "code",
   "execution_count": 29,
   "id": "2cc7e0cd",
   "metadata": {},
   "outputs": [
    {
     "name": "stdout",
     "output_type": "stream",
     "text": [
      "0 2\n",
      "1 45\n",
      "2 78\n",
      "3 12\n",
      "4 12\n",
      "5 12\n",
      "6 12\n",
      "7 sudh\n",
      "8 (6+7j)\n",
      "9 [56, 67, 78, 'dsfdsf']\n"
     ]
    }
   ],
   "source": [
    "                                        # OR\n",
    "# IMP\n",
    "for i,j  in enumerate(l):\n",
    "    print(i ,j)"
   ]
  },
  {
   "cell_type": "code",
   "execution_count": 76,
   "id": "c0daa425",
   "metadata": {},
   "outputs": [
    {
     "name": "stdout",
     "output_type": "stream",
     "text": [
      "4\n",
      "3\n",
      "2\n",
      "1\n"
     ]
    }
   ],
   "source": [
    "t=(1,2,3,4)    \n",
    "for i in range(len(t)-1,-1,-1):   # in tuple total elements are 4 but indexing start from 0 i.e.[0 1 2 3] \n",
    "      print(t[i])              "
   ]
  },
  {
   "cell_type": "code",
   "execution_count": 45,
   "id": "d83b0d23",
   "metadata": {},
   "outputs": [
    {
     "name": "stdout",
     "output_type": "stream",
     "text": [
      "['s', 'u', 'd', 'h', ' ', 'd', 'e', 's', 'i']\n"
     ]
    }
   ],
   "source": [
    "# Q2\n",
    "for i in l :\n",
    "    if type(i) == str :\n",
    "        l1 = []\n",
    "        for j in i :\n",
    "            l1.append(j)\n",
    "        print(l1)\n",
    "        "
   ]
  },
  {
   "cell_type": "code",
   "execution_count": 31,
   "id": "1761d9d5",
   "metadata": {},
   "outputs": [
    {
     "data": {
      "text/plain": [
       "[4, 2025, 6084, 144, 144, 144, 144]"
      ]
     },
     "execution_count": 31,
     "metadata": {},
     "output_type": "execute_result"
    }
   ],
   "source": [
    "# Q3\n",
    "l = [2,45,78,12,12,12,12, \"sudh\" , 6+7j,[56,67,78,\"dsfdsf\"]]\n",
    "l2=[]\n",
    "for i in l:\n",
    "    if type(i)==int:\n",
    "        l2.append(i**2)\n",
    "l2   "
   ]
  },
  {
   "cell_type": "code",
   "execution_count": 3,
   "id": "823f8e67",
   "metadata": {},
   "outputs": [
    {
     "name": "stdout",
     "output_type": "stream",
     "text": [
      "['sudh', 'desi']\n"
     ]
    },
    {
     "data": {
      "text/plain": [
       "['s', 'u', 'd', 'h', ' ', 'd', 'e', 's', 'i', 'dsfdsf']"
      ]
     },
     "execution_count": 3,
     "metadata": {},
     "output_type": "execute_result"
    }
   ],
   "source": [
    "l = [2,45,78,12,12,12,12, \"sudh desi\" , 6+7j,[56,67,78,\"dsfdsf\"]]\n",
    "l3=[]\n",
    "for i in l:\n",
    "    if type(i)== str:\n",
    "        print( i.split())\n",
    "        for j in i:\n",
    "            l3.append(j)\n",
    "    elif type(i)== list:\n",
    "        for k in i:\n",
    "            if type(k)==str:\n",
    "                 l3.append(k)\n",
    "            \n",
    "l3      "
   ]
  },
  {
   "cell_type": "code",
   "execution_count": 57,
   "id": "e2ce0a77",
   "metadata": {},
   "outputs": [
    {
     "name": "stdout",
     "output_type": "stream",
     "text": [
      "flag\n"
     ]
    },
    {
     "data": {
      "text/plain": [
       "[3136, 4489, 6084]"
      ]
     },
     "execution_count": 57,
     "metadata": {},
     "output_type": "execute_result"
    }
   ],
   "source": [
    "# IMP\n",
    "l = [2,45,78,12,\"sudh\", 6 + 7j, [56,67,78,\"hhdh\"]]\n",
    "sqr = []\n",
    "for i in range(len(l)):\n",
    "    if type(l[i]) == list :\n",
    "        print(\"It is list\")\n",
    "        for j in range(len(l[i])):\n",
    "            if type(l[i][j]) == int:\n",
    "                m = l[i][j]**2\n",
    "                sqr.append(m)\n",
    "sqr"
   ]
  },
  {
   "cell_type": "code",
   "execution_count": 61,
   "id": "759c39e4",
   "metadata": {},
   "outputs": [
    {
     "data": {
      "text/plain": [
       "[1, 2, 3, 1, 2, 3, [23, 's', 32, '4r5'], 's']"
      ]
     },
     "execution_count": 61,
     "metadata": {},
     "output_type": "execute_result"
    }
   ],
   "source": [
    "                                  # DIFFERENCE BETWEEN EXTEND AND APPEND\n",
    "l = [1,2,3]\n",
    "s =  [1,2,3,[23,'s',32,'4r5'],'s']\n",
    "l.extend(s)\n",
    "l                                # 's' first unlist itself and then add into 'l'.                                                  "
   ]
  },
  {
   "cell_type": "code",
   "execution_count": 62,
   "id": "1707eea4",
   "metadata": {},
   "outputs": [
    {
     "data": {
      "text/plain": [
       "[1, 2, 3, [1, 2, 3, [23, 's', 32, '4r5'], 's']]"
      ]
     },
     "execution_count": 62,
     "metadata": {},
     "output_type": "execute_result"
    }
   ],
   "source": [
    "l = [1,2,3]\n",
    "s =  [1,2,3,[23,'s',32,'4r5'],'s']\n",
    "l.append(s)\n",
    "l                       # Here 's'is added into 'l'directly."
   ]
  },
  {
   "cell_type": "code",
   "execution_count": null,
   "id": "2a782ee7",
   "metadata": {},
   "outputs": [],
   "source": []
  },
  {
   "cell_type": "code",
   "execution_count": null,
   "id": "b2987fc1",
   "metadata": {},
   "outputs": [],
   "source": []
  }
 ],
 "metadata": {
  "kernelspec": {
   "display_name": "Python 3 (ipykernel)",
   "language": "python",
   "name": "python3"
  },
  "language_info": {
   "codemirror_mode": {
    "name": "ipython",
    "version": 3
   },
   "file_extension": ".py",
   "mimetype": "text/x-python",
   "name": "python",
   "nbconvert_exporter": "python",
   "pygments_lexer": "ipython3",
   "version": "3.7.7"
  }
 },
 "nbformat": 4,
 "nbformat_minor": 5
}
