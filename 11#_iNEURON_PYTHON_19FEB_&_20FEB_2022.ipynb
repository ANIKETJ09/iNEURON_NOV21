{
 "cells": [
  {
   "cell_type": "code",
   "execution_count": null,
   "id": "543df044",
   "metadata": {},
   "outputs": [],
   "source": [
    "# 19th FEB"
   ]
  },
  {
   "cell_type": "code",
   "execution_count": 1,
   "id": "d5eb011c",
   "metadata": {},
   "outputs": [],
   "source": [
    "# Open this following links\n",
    "\n",
    "# 1. http://localhost:8888/notebooks/Downloads/iNeuron/LECTURES/%20MongoDB/19.3.1%20mongoDB%20introduction.ipynb\n",
    "\n",
    "# 2. http://localhost:8888/notebooks/Downloads/iNeuron/LECTURES/10%23_iNEURON_PYTHON_12FEB_%26_13FEB_2022.ipynb\n",
    "\n",
    "# 3. http://localhost:8888/notebooks/Downloads/iNeuron/LECTURES/%20MongoDB/19.3.3%20Atlas.ipynb"
   ]
  },
  {
   "cell_type": "code",
   "execution_count": 1,
   "id": "8e6bddde",
   "metadata": {},
   "outputs": [],
   "source": [
    "# 20th FEB"
   ]
  },
  {
   "cell_type": "code",
   "execution_count": 3,
   "id": "6e5f81f8",
   "metadata": {},
   "outputs": [],
   "source": [
    "# SQLITE\n",
    "# Whenever we hava to store structure data inside the local memory either in pc,laptop or mobile phone sqlite \n",
    "# kind of data base is used."
   ]
  },
  {
   "cell_type": "code",
   "execution_count": 4,
   "id": "83596321",
   "metadata": {},
   "outputs": [],
   "source": [
    "import sqlite3"
   ]
  },
  {
   "cell_type": "code",
   "execution_count": 8,
   "id": "373138dc",
   "metadata": {},
   "outputs": [],
   "source": [
    "db=sqlite3.connect(\"ineuron.db\") # \"ineuron.db\" here we created .db file in which we are going to work.\n",
    "# In following loction we get the file.\n",
    "# Downloads/iNeuron/LECTURES/ineuron.db"
   ]
  },
  {
   "cell_type": "code",
   "execution_count": 10,
   "id": "62a6cea1",
   "metadata": {},
   "outputs": [
    {
     "name": "stdout",
     "output_type": "stream",
     "text": [
      "\u001b[30m\u001b[43m MongoDB\u001b[m\u001b[m/\r\n",
      "1#_iNEURON_PYTHON_4DEC_&_5DEC_2021.ipynb\r\n",
      "10#_iNEURON_PYTHON_12FEB_&_13FEB_2022.ipynb\r\n",
      "10.1#_iNEURON_PYTHON_12FEB_&_13FEB_2022.ipynb\r\n",
      "10.2#_iNEURON_PYTHON_12FEB_&_13FEB_2022.ipynb\r\n",
      "11#_iNEURON_PYTHON_19FEB_&_20FEB_2022.ipynb\r\n",
      "12#_iNEURON_PYTHON_26FEB_&_27FEB_2022.ipynb\r\n",
      "2#_iNEURON_PYTHON_18DEC_&_19DEC_2021.ipynb\r\n",
      "3#_iNEURON_PYTHON_20DEC_&_21DEC_2021.ipynb\r\n",
      "4#_iNEURON_PYTHON_23DEC_2021.ipynb\r\n",
      "5#_iNEURON_PYTHON_8JAN_&_9JAN_2022.ipynb\r\n",
      "6#_iNEURON_PYTHON_15JAN_&_16JAN_2022.ipynb\r\n",
      "7#_iNEURON_PYTHON_22JAN_&_23JAN_2022.ipynb\r\n",
      "7.1#_iNEURON_PYTHON_22JAN_&_23JAN_2022.ipynb\r\n",
      "8#_iNEURON_PYTHON_29JAN_&_30JAN_2022.ipynb\r\n",
      "9#_iNEURON_PYTHON_5FEB_&_6FEB_2022.ipynb\r\n",
      "\u001b[34mDATA SET\u001b[m\u001b[m/\r\n",
      "\u001b[34mFILES\u001b[m\u001b[m/\r\n",
      "\u001b[34mPycharmProjects\u001b[m\u001b[m/\r\n",
      "glass.csv\r\n",
      "glass.data\r\n",
      "ineuron.db\r\n"
     ]
    }
   ],
   "source": [
    "ls"
   ]
  },
  {
   "cell_type": "code",
   "execution_count": 7,
   "id": "59531e47",
   "metadata": {},
   "outputs": [],
   "source": [
    "# In actual case...\n",
    "# In SQL we are creating connection with the server in company. But for learing we use local system.\n",
    "# In SQLITE3 we are creating connection with the local system both for learing and in company."
   ]
  },
  {
   "cell_type": "code",
   "execution_count": 11,
   "id": "e0c6ed8a",
   "metadata": {},
   "outputs": [],
   "source": [
    "c = db.cursor()"
   ]
  },
  {
   "cell_type": "code",
   "execution_count": 12,
   "id": "198bf077",
   "metadata": {},
   "outputs": [
    {
     "data": {
      "text/plain": [
       "<sqlite3.Cursor at 0x7fee0819a1f0>"
      ]
     },
     "execution_count": 12,
     "metadata": {},
     "output_type": "execute_result"
    }
   ],
   "source": [
    "c.execute('create table fsds(name text, batchid int, marks real)')"
   ]
  },
  {
   "cell_type": "code",
   "execution_count": 13,
   "id": "b49b7a76",
   "metadata": {},
   "outputs": [
    {
     "data": {
      "text/plain": [
       "<sqlite3.Cursor at 0x7fee0819a1f0>"
      ]
     },
     "execution_count": 13,
     "metadata": {},
     "output_type": "execute_result"
    }
   ],
   "source": [
    "c.execute(\"insert into fsds values('sudh' , 34535 , 454.67)\") # INSERT OPERATION"
   ]
  },
  {
   "cell_type": "code",
   "execution_count": 14,
   "id": "40885aca",
   "metadata": {},
   "outputs": [
    {
     "data": {
      "text/plain": [
       "<sqlite3.Cursor at 0x7fee0819a1f0>"
      ]
     },
     "execution_count": 14,
     "metadata": {},
     "output_type": "execute_result"
    }
   ],
   "source": [
    "c.execute(\"insert into fsds values('sudh' , 34535 , 454.67)\")\n",
    "c.execute(\"insert into fsds values('sudh' , 34535 , 454.67)\")\n",
    "c.execute(\"insert into fsds values('sudh' , 34535 , 454.67)\")\n",
    "c.execute(\"insert into fsds values('sudh' , 34535 , 454.67)\")\n",
    "c.execute(\"insert into fsds values('sudh' , 34535 , 454.67)\")\n",
    "c.execute(\"insert into fsds values('sudh' , 34535 , 454.67)\")\n",
    "c.execute(\"insert into fsds values('sudh' , 34535 , 454.67)\")\n",
    "c.execute(\"insert into fsds values('sudh' , 34535 , 454.67)\")"
   ]
  },
  {
   "cell_type": "code",
   "execution_count": 15,
   "id": "29eaa677",
   "metadata": {},
   "outputs": [],
   "source": [
    "data = c.execute(\"select * from fsds\") # TO FETCH THE DATA."
   ]
  },
  {
   "cell_type": "code",
   "execution_count": 16,
   "id": "91a22bd4",
   "metadata": {},
   "outputs": [
    {
     "name": "stdout",
     "output_type": "stream",
     "text": [
      "('sudh', 34535, 454.67)\n",
      "('sudh', 34535, 454.67)\n",
      "('sudh', 34535, 454.67)\n",
      "('sudh', 34535, 454.67)\n",
      "('sudh', 34535, 454.67)\n",
      "('sudh', 34535, 454.67)\n",
      "('sudh', 34535, 454.67)\n",
      "('sudh', 34535, 454.67)\n",
      "('sudh', 34535, 454.67)\n"
     ]
    }
   ],
   "source": [
    "for i in data:\n",
    "    print(i)"
   ]
  },
  {
   "cell_type": "code",
   "execution_count": 17,
   "id": "f9e04d28",
   "metadata": {},
   "outputs": [],
   "source": [
    "db.commit() # TO SAVE THE DATA permanently."
   ]
  },
  {
   "cell_type": "code",
   "execution_count": 18,
   "id": "1bc01732",
   "metadata": {},
   "outputs": [],
   "source": [
    "db.close() \n",
    "# If we want to close the databse file which we have allready created."
   ]
  },
  {
   "cell_type": "code",
   "execution_count": 21,
   "id": "005c012b",
   "metadata": {},
   "outputs": [],
   "source": [
    "db = sqlite3.connect(\"ineuron.db\")"
   ]
  },
  {
   "cell_type": "code",
   "execution_count": 22,
   "id": "9d1d2492",
   "metadata": {},
   "outputs": [],
   "source": [
    "c = db.cursor()"
   ]
  },
  {
   "cell_type": "code",
   "execution_count": 23,
   "id": "5afb0e2c",
   "metadata": {},
   "outputs": [],
   "source": [
    "data = c.execute(\"select * from fsds where marks > 400\")\n",
    "for i in data :\n",
    "    print(i)"
   ]
  },
  {
   "cell_type": "code",
   "execution_count": 25,
   "id": "e0373ab8",
   "metadata": {},
   "outputs": [
    {
     "name": "stdout",
     "output_type": "stream",
     "text": [
      "('sudh', 34535, 454.67)\n",
      "('sudh', 34535, 454.67)\n",
      "('sudh', 34535, 454.67)\n",
      "('sudh', 34535, 454.67)\n",
      "('sudh', 34535, 454.67)\n",
      "('sudh', 34535, 454.67)\n",
      "('sudh', 34535, 454.67)\n",
      "('sudh', 34535, 454.67)\n",
      "('sudh', 34535, 454.67)\n"
     ]
    }
   ],
   "source": [
    "data = c.execute(\"select * from fsds where name = 'sudh' \")\n",
    "for i in data :\n",
    "    print(i)"
   ]
  },
  {
   "cell_type": "code",
   "execution_count": 26,
   "id": "0b665b64",
   "metadata": {},
   "outputs": [
    {
     "name": "stdout",
     "output_type": "stream",
     "text": [
      "('sudh', 454.67)\n",
      "('sudh', 454.67)\n",
      "('sudh', 454.67)\n",
      "('sudh', 454.67)\n",
      "('sudh', 454.67)\n",
      "('sudh', 454.67)\n",
      "('sudh', 454.67)\n",
      "('sudh', 454.67)\n",
      "('sudh', 454.67)\n"
     ]
    }
   ],
   "source": [
    "data = c.execute(\"select name , marks from fsds\")\n",
    "for i in data :\n",
    "    print(i)"
   ]
  },
  {
   "cell_type": "code",
   "execution_count": 27,
   "id": "51d3febb",
   "metadata": {},
   "outputs": [
    {
     "name": "stdout",
     "output_type": "stream",
     "text": [
      "('sudh', 454.67)\n",
      "('sudh', 454.67)\n",
      "('sudh', 454.67)\n",
      "('sudh', 454.67)\n",
      "('sudh', 454.67)\n",
      "('sudh', 454.67)\n",
      "('sudh', 454.67)\n",
      "('sudh', 454.67)\n",
      "('sudh', 454.67)\n"
     ]
    }
   ],
   "source": [
    "data = c.execute(\"select name ,marks from fsds order  by marks \")\n",
    "for i in data :\n",
    "    print(i)"
   ]
  },
  {
   "cell_type": "code",
   "execution_count": 46,
   "id": "7b1904a9",
   "metadata": {},
   "outputs": [],
   "source": [
    "db.close()"
   ]
  },
  {
   "cell_type": "code",
   "execution_count": 47,
   "id": "0d50e70c",
   "metadata": {},
   "outputs": [],
   "source": [
    "db = sqlite3.connect(\"person.db\")"
   ]
  },
  {
   "cell_type": "code",
   "execution_count": 48,
   "id": "76a6ca4a",
   "metadata": {},
   "outputs": [],
   "source": [
    "c = db.cursor()"
   ]
  },
  {
   "cell_type": "code",
   "execution_count": null,
   "id": "f5506230",
   "metadata": {},
   "outputs": [],
   "source": [
    "c.execute(\"create table person_table(name text , emailid text , age int , salary real)\")"
   ]
  },
  {
   "cell_type": "code",
   "execution_count": 50,
   "id": "b3993017",
   "metadata": {},
   "outputs": [
    {
     "data": {
      "text/plain": [
       "<sqlite3.Cursor at 0x7fee097ef030>"
      ]
     },
     "execution_count": 50,
     "metadata": {},
     "output_type": "execute_result"
    }
   ],
   "source": [
    "c.execute(\"insert into person_table values('sudh' , 'sudhanshu@ineuron.ai' , 234 , 23424)\")\n",
    "c.execute(\"insert into person_table values('prashant' ,'prashant@ineuron.ai' , 345 , 23543543)\")\n",
    "c.execute(\"insert into person_table values('krish' , 'krish@ineuron.ai' , 2345 ,34534564)\")\n",
    "c.execute(\"insert into person_table values('sunnny' ,'sunny@ineuron.ai' , 2354,7789797)\")"
   ]
  },
  {
   "cell_type": "code",
   "execution_count": 51,
   "id": "92dbfda7",
   "metadata": {},
   "outputs": [
    {
     "name": "stdout",
     "output_type": "stream",
     "text": [
      "('sudh', 'sudhanshu@ineuron.ai', 234, 23424.0)\n",
      "('prashant', 'prashant@ineuron.ai', 345, 23543543.0)\n",
      "('krish', 'krish@ineuron.ai', 2345, 34534564.0)\n",
      "('sunnny', 'sunny@ineuron.ai', 2354, 7789797.0)\n",
      "('sudh', 'sudhanshu@ineuron.ai', 234, 23424.0)\n",
      "('prashant', 'prashant@ineuron.ai', 345, 23543543.0)\n",
      "('krish', 'krish@ineuron.ai', 2345, 34534564.0)\n",
      "('sunnny', 'sunny@ineuron.ai', 2354, 7789797.0)\n"
     ]
    }
   ],
   "source": [
    "data = c.execute(\"select * from person_table\")\n",
    "for i in data:\n",
    "    print(i)"
   ]
  },
  {
   "cell_type": "code",
   "execution_count": 52,
   "id": "3ea5d264",
   "metadata": {},
   "outputs": [],
   "source": [
    "db.commit()"
   ]
  },
  {
   "cell_type": "code",
   "execution_count": 53,
   "id": "b60a8c7f",
   "metadata": {},
   "outputs": [],
   "source": [
    "db.close()"
   ]
  },
  {
   "cell_type": "code",
   "execution_count": 54,
   "id": "b065d2d3",
   "metadata": {},
   "outputs": [],
   "source": [
    "db = sqlite3.connect('ineuron.db')"
   ]
  },
  {
   "cell_type": "code",
   "execution_count": 55,
   "id": "530ff9ae",
   "metadata": {},
   "outputs": [],
   "source": [
    "c = db.cursor()"
   ]
  },
  {
   "cell_type": "code",
   "execution_count": null,
   "id": "dfc9eeb3",
   "metadata": {},
   "outputs": [],
   "source": [
    "# c.execute('drop table fsds') # If we execute this it will drop the table."
   ]
  },
  {
   "cell_type": "code",
   "execution_count": 38,
   "id": "cce081ee",
   "metadata": {},
   "outputs": [],
   "source": [
    "# c.execute('select * from fsds') # To check weather the operation is done or not."
   ]
  },
  {
   "cell_type": "code",
   "execution_count": 56,
   "id": "0c2ce80e",
   "metadata": {},
   "outputs": [],
   "source": [
    "db.close()"
   ]
  },
  {
   "cell_type": "code",
   "execution_count": 57,
   "id": "66c3cfdb",
   "metadata": {},
   "outputs": [],
   "source": [
    "db = sqlite3.connect('person.db')"
   ]
  },
  {
   "cell_type": "code",
   "execution_count": 58,
   "id": "9fff7770",
   "metadata": {},
   "outputs": [],
   "source": [
    "c = db.cursor()"
   ]
  },
  {
   "cell_type": "code",
   "execution_count": 59,
   "id": "9d49b691",
   "metadata": {},
   "outputs": [],
   "source": [
    "data  = c.execute('SELECT * from person_table limit 2 ')"
   ]
  },
  {
   "cell_type": "code",
   "execution_count": 60,
   "id": "4b1bef50",
   "metadata": {},
   "outputs": [
    {
     "name": "stdout",
     "output_type": "stream",
     "text": [
      "('sudh', 'sudhanshu@ineuron.ai', 234, 23424.0)\n",
      "('prashant', 'prashant@ineuron.ai', 345, 23543543.0)\n"
     ]
    }
   ],
   "source": [
    "for i in data:\n",
    "    print(i)"
   ]
  },
  {
   "cell_type": "code",
   "execution_count": 61,
   "id": "24be8253",
   "metadata": {},
   "outputs": [],
   "source": [
    "db.close()"
   ]
  },
  {
   "cell_type": "code",
   "execution_count": 62,
   "id": "a3b620b8",
   "metadata": {},
   "outputs": [],
   "source": [
    "db = sqlite3.connect('jobdb.db')"
   ]
  },
  {
   "cell_type": "code",
   "execution_count": 63,
   "id": "12948976",
   "metadata": {},
   "outputs": [],
   "source": [
    "c = db.cursor()"
   ]
  },
  {
   "cell_type": "code",
   "execution_count": 64,
   "id": "b8ea1602",
   "metadata": {},
   "outputs": [
    {
     "data": {
      "text/plain": [
       "<sqlite3.Cursor at 0x7fee09802730>"
      ]
     },
     "execution_count": 64,
     "metadata": {},
     "output_type": "execute_result"
    }
   ],
   "source": [
    "c.execute('create table student(student_id int , student_name text , student_mailid text , marks int)')"
   ]
  },
  {
   "cell_type": "code",
   "execution_count": 65,
   "id": "924c63e8",
   "metadata": {},
   "outputs": [
    {
     "data": {
      "text/plain": [
       "<sqlite3.Cursor at 0x7fee09802730>"
      ]
     },
     "execution_count": 65,
     "metadata": {},
     "output_type": "execute_result"
    }
   ],
   "source": [
    "c.execute('create table address(student_id int ,pincode int  , location text , nearby text , phone_no int)')"
   ]
  },
  {
   "cell_type": "code",
   "execution_count": 66,
   "id": "ee21c15e",
   "metadata": {},
   "outputs": [
    {
     "data": {
      "text/plain": [
       "<sqlite3.Cursor at 0x7fee09802730>"
      ]
     },
     "execution_count": 66,
     "metadata": {},
     "output_type": "execute_result"
    }
   ],
   "source": [
    "c.execute(\"insert into student values(234,'sudhashu' , 'sudhanshu@ineuron.ai' , 234)\")\n",
    "c.execute(\"insert into student values(235,'sudhashu' , 'sudhanshu@ineuron.ai' , 234)\")\n",
    "c.execute(\"insert into student values(236,'sudhashu' , 'sudhanshu@ineuron.ai' , 234)\")\n",
    "c.execute(\"insert into student values(237,'sudhashu' , 'sudhanshu@ineuron.ai' , 234)\")\n",
    "c.execute(\"insert into student values(238,'sudhashu' , 'sudhanshu@ineuron.ai' , 234)\")\n",
    "c.execute(\"insert into student values(239,'sudhashu' , 'sudhanshu@ineuron.ai' , 234)\")\n",
    "c.execute(\"insert into student values(2310,'sudhashu' , 'sudhanshu@ineuron.ai' , 234)\")\n",
    "c.execute(\"insert into student values(2311,'sudhashu' , 'sudhanshu@ineuron.ai' , 234)\")\n",
    "c.execute(\"insert into student values(2343,'sudhashu' , 'sudhanshu@ineuron.ai' , 234)\")\n",
    "c.execute(\"insert into student values(233543,'sudhashu' , 'sudhanshu@ineuron.ai' , 234)\")\n",
    "c.execute(\"insert into student values(23345,'sudhashu' , 'sudhanshu@ineuron.ai' , 234)\")\n",
    "c.execute(\"insert into student values(233543,'sudhashu' , 'sudhanshu@ineuron.ai' , 234)\")"
   ]
  },
  {
   "cell_type": "code",
   "execution_count": 67,
   "id": "b7579bab",
   "metadata": {},
   "outputs": [
    {
     "data": {
      "text/plain": [
       "<sqlite3.Cursor at 0x7fee09802730>"
      ]
     },
     "execution_count": 67,
     "metadata": {},
     "output_type": "execute_result"
    }
   ],
   "source": [
    "c.execute(\"insert into address values(235 , 560034 , 'whitefelid' ,'ineuron office ' , 2423543454353 )\")\n",
    "c.execute(\"insert into address values(236 , 560034 , 'whitefelid' ,'ineuron office ' , 2423543454353 )\")\n",
    "c.execute(\"insert into address values(237 , 560034 , 'whitefelid' ,'ineuron office ' , 2423543454353 )\")\n",
    "c.execute(\"insert into address values(238 , 560034 , 'whitefelid' ,'ineuron office ' , 2423543454353 )\")\n",
    "c.execute(\"insert into address values(239 , 560034 , 'whitefelid' ,'ineuron office ' , 2423543454353 )\")\n",
    "c.execute(\"insert into address values(210 , 560034 , 'whitefelid' ,'ineuron office ' , 2423543454353 )\")\n",
    "c.execute(\"insert into address values(23345 , 560034 , 'whitefelid' ,'ineuron office ' , 2423543454353 )\")\n",
    "c.execute(\"insert into address values(23345 , 560034 , 'whitefelid' ,'ineuron office ' , 2423543454353 )\")\n",
    "c.execute(\"insert into address values(23654 , 560034 , 'whitefelid' ,'ineuron office ' , 2423543454353 )\")\n",
    "c.execute(\"insert into address values(235345 , 560034 , 'whitefelid' ,'ineuron office ' , 2423543454353 )\")\n",
    "c.execute(\"insert into address values(23665 , 560034 , 'whitefelid' ,'ineuron office ' , 2423543454353 )\")\n",
    "c.execute(\"insert into address values(23623 , 560034 , 'whitefelid' ,'ineuron office ' , 2423543454353 )\")\n",
    "c.execute(\"insert into address values(23689 , 560034 , 'whitefelid' ,'ineuron office ' , 2423543454353 )\")\n",
    "c.execute(\"insert into address values(23609 , 560034 , 'whitefelid' ,'ineuron office ' , 2423543454353 )\")\n",
    "c.execute(\"insert into address values(23632 , 560034 , 'whitefelid' ,'ineuron office ' , 2423543454353 )\")\n",
    "c.execute(\"insert into address values(23689 , 560034 , 'whitefelid' ,'ineuron office ' , 2423543454353 )\")\n",
    "c.execute(\"insert into address values(23623 , 560034 , 'whitefelid' ,'ineuron office ' , 2423543454353 )\")\n",
    "c.execute(\"insert into address values(23698 , 560034 , 'whitefelid' ,'ineuron office ' , 2423543454353 )\")\n",
    "c.execute(\"insert into address values(23623 , 560034 , 'whitefelid' ,'ineuron office ' , 2423543454353 )\")\n",
    "c.execute(\"insert into address values(23689 , 560034 , 'whitefelid' ,'ineuron office ' , 2423543454353 )\")\n",
    "c.execute(\"insert into address values(23623 , 560034 , 'whitefelid' ,'ineuron office ' , 2423543454353 )\")\n",
    "c.execute(\"insert into address values(23690 , 560034 , 'whitefelid' ,'ineuron office ' , 2423543454353 )\")"
   ]
  },
  {
   "cell_type": "code",
   "execution_count": 68,
   "id": "cfd1b58b",
   "metadata": {},
   "outputs": [
    {
     "name": "stdout",
     "output_type": "stream",
     "text": [
      "(234, 'sudhashu', 'sudhanshu@ineuron.ai', 234)\n",
      "(235, 'sudhashu', 'sudhanshu@ineuron.ai', 234)\n",
      "(236, 'sudhashu', 'sudhanshu@ineuron.ai', 234)\n",
      "(237, 'sudhashu', 'sudhanshu@ineuron.ai', 234)\n",
      "(238, 'sudhashu', 'sudhanshu@ineuron.ai', 234)\n",
      "(239, 'sudhashu', 'sudhanshu@ineuron.ai', 234)\n",
      "(2310, 'sudhashu', 'sudhanshu@ineuron.ai', 234)\n",
      "(2311, 'sudhashu', 'sudhanshu@ineuron.ai', 234)\n",
      "(2343, 'sudhashu', 'sudhanshu@ineuron.ai', 234)\n",
      "(233543, 'sudhashu', 'sudhanshu@ineuron.ai', 234)\n",
      "(23345, 'sudhashu', 'sudhanshu@ineuron.ai', 234)\n",
      "(233543, 'sudhashu', 'sudhanshu@ineuron.ai', 234)\n"
     ]
    }
   ],
   "source": [
    "for i in c.execute(\"select * from student\"):\n",
    "    print(i)"
   ]
  },
  {
   "cell_type": "code",
   "execution_count": 69,
   "id": "b2aace18",
   "metadata": {},
   "outputs": [
    {
     "name": "stdout",
     "output_type": "stream",
     "text": [
      "(235, 560034, 'whitefelid', 'ineuron office ', 2423543454353)\n",
      "(236, 560034, 'whitefelid', 'ineuron office ', 2423543454353)\n",
      "(237, 560034, 'whitefelid', 'ineuron office ', 2423543454353)\n",
      "(238, 560034, 'whitefelid', 'ineuron office ', 2423543454353)\n",
      "(239, 560034, 'whitefelid', 'ineuron office ', 2423543454353)\n",
      "(210, 560034, 'whitefelid', 'ineuron office ', 2423543454353)\n",
      "(23345, 560034, 'whitefelid', 'ineuron office ', 2423543454353)\n",
      "(23345, 560034, 'whitefelid', 'ineuron office ', 2423543454353)\n",
      "(23654, 560034, 'whitefelid', 'ineuron office ', 2423543454353)\n",
      "(235345, 560034, 'whitefelid', 'ineuron office ', 2423543454353)\n",
      "(23665, 560034, 'whitefelid', 'ineuron office ', 2423543454353)\n",
      "(23623, 560034, 'whitefelid', 'ineuron office ', 2423543454353)\n",
      "(23689, 560034, 'whitefelid', 'ineuron office ', 2423543454353)\n",
      "(23609, 560034, 'whitefelid', 'ineuron office ', 2423543454353)\n",
      "(23632, 560034, 'whitefelid', 'ineuron office ', 2423543454353)\n",
      "(23689, 560034, 'whitefelid', 'ineuron office ', 2423543454353)\n",
      "(23623, 560034, 'whitefelid', 'ineuron office ', 2423543454353)\n",
      "(23698, 560034, 'whitefelid', 'ineuron office ', 2423543454353)\n",
      "(23623, 560034, 'whitefelid', 'ineuron office ', 2423543454353)\n",
      "(23689, 560034, 'whitefelid', 'ineuron office ', 2423543454353)\n",
      "(23623, 560034, 'whitefelid', 'ineuron office ', 2423543454353)\n",
      "(23690, 560034, 'whitefelid', 'ineuron office ', 2423543454353)\n"
     ]
    }
   ],
   "source": [
    "for i in c.execute(\"select * from address\"):\n",
    "    print(i)"
   ]
  },
  {
   "cell_type": "code",
   "execution_count": 70,
   "id": "9790b2fc",
   "metadata": {},
   "outputs": [],
   "source": [
    "data = c.execute(\"select * from student s left join address a on s.student_id=a.student_id \")\n",
    "# data = c.execute(\"select * from address s left join student a on s.student_id=a.student_id \")"
   ]
  },
  {
   "cell_type": "code",
   "execution_count": 71,
   "id": "606c2ff5",
   "metadata": {},
   "outputs": [
    {
     "name": "stdout",
     "output_type": "stream",
     "text": [
      "(234, 'sudhashu', 'sudhanshu@ineuron.ai', 234, None, None, None, None, None)\n",
      "(235, 'sudhashu', 'sudhanshu@ineuron.ai', 234, 235, 560034, 'whitefelid', 'ineuron office ', 2423543454353)\n",
      "(236, 'sudhashu', 'sudhanshu@ineuron.ai', 234, 236, 560034, 'whitefelid', 'ineuron office ', 2423543454353)\n",
      "(237, 'sudhashu', 'sudhanshu@ineuron.ai', 234, 237, 560034, 'whitefelid', 'ineuron office ', 2423543454353)\n",
      "(238, 'sudhashu', 'sudhanshu@ineuron.ai', 234, 238, 560034, 'whitefelid', 'ineuron office ', 2423543454353)\n",
      "(239, 'sudhashu', 'sudhanshu@ineuron.ai', 234, 239, 560034, 'whitefelid', 'ineuron office ', 2423543454353)\n",
      "(2310, 'sudhashu', 'sudhanshu@ineuron.ai', 234, None, None, None, None, None)\n",
      "(2311, 'sudhashu', 'sudhanshu@ineuron.ai', 234, None, None, None, None, None)\n",
      "(2343, 'sudhashu', 'sudhanshu@ineuron.ai', 234, None, None, None, None, None)\n",
      "(233543, 'sudhashu', 'sudhanshu@ineuron.ai', 234, None, None, None, None, None)\n",
      "(23345, 'sudhashu', 'sudhanshu@ineuron.ai', 234, 23345, 560034, 'whitefelid', 'ineuron office ', 2423543454353)\n",
      "(23345, 'sudhashu', 'sudhanshu@ineuron.ai', 234, 23345, 560034, 'whitefelid', 'ineuron office ', 2423543454353)\n",
      "(233543, 'sudhashu', 'sudhanshu@ineuron.ai', 234, None, None, None, None, None)\n"
     ]
    }
   ],
   "source": [
    "for i in data :\n",
    "    print(i)"
   ]
  },
  {
   "cell_type": "code",
   "execution_count": 72,
   "id": "eb64b2b9",
   "metadata": {},
   "outputs": [
    {
     "name": "stdout",
     "output_type": "stream",
     "text": [
      "(234, 'sudhashu', 'sudhanshu@ineuron.ai', 234)\n",
      "(235, 'sudhashu', 'sudhanshu@ineuron.ai', 234)\n",
      "(236, 'sudhashu', 'sudhanshu@ineuron.ai', 234)\n",
      "(237, 'sudhashu', 'sudhanshu@ineuron.ai', 234)\n",
      "(238, 'sudhashu', 'sudhanshu@ineuron.ai', 234)\n",
      "(239, 'sudhashu', 'sudhanshu@ineuron.ai', 234)\n",
      "(2310, 'sudhashu', 'sudhanshu@ineuron.ai', 234)\n",
      "(2311, 'sudhashu', 'sudhanshu@ineuron.ai', 234)\n",
      "(2343, 'sudhashu', 'sudhanshu@ineuron.ai', 234)\n",
      "(233543, 'sudhashu', 'sudhanshu@ineuron.ai', 234)\n",
      "(23345, 'sudhashu', 'sudhanshu@ineuron.ai', 234)\n",
      "(233543, 'sudhashu', 'sudhanshu@ineuron.ai', 234)\n"
     ]
    }
   ],
   "source": [
    "for i in c.execute(\"select * from student\"):\n",
    "    print(i)"
   ]
  },
  {
   "cell_type": "code",
   "execution_count": 73,
   "id": "66027678",
   "metadata": {},
   "outputs": [
    {
     "data": {
      "text/plain": [
       "<sqlite3.Cursor at 0x7fee09802730>"
      ]
     },
     "execution_count": 73,
     "metadata": {},
     "output_type": "execute_result"
    }
   ],
   "source": [
    "c.execute('delete from student where student_id > 2000')"
   ]
  },
  {
   "cell_type": "code",
   "execution_count": 74,
   "id": "8c92ea4e",
   "metadata": {},
   "outputs": [
    {
     "name": "stdout",
     "output_type": "stream",
     "text": [
      "(234, 'sudhashu', 'sudhanshu@ineuron.ai', 234)\n",
      "(235, 'sudhashu', 'sudhanshu@ineuron.ai', 234)\n",
      "(236, 'sudhashu', 'sudhanshu@ineuron.ai', 234)\n",
      "(237, 'sudhashu', 'sudhanshu@ineuron.ai', 234)\n",
      "(238, 'sudhashu', 'sudhanshu@ineuron.ai', 234)\n",
      "(239, 'sudhashu', 'sudhanshu@ineuron.ai', 234)\n"
     ]
    }
   ],
   "source": [
    "for i in c.execute(\"select * from student\"):\n",
    "    print(i)"
   ]
  },
  {
   "cell_type": "code",
   "execution_count": 75,
   "id": "f17fd3e5",
   "metadata": {},
   "outputs": [
    {
     "data": {
      "text/plain": [
       "<sqlite3.Cursor at 0x7fee09802730>"
      ]
     },
     "execution_count": 75,
     "metadata": {},
     "output_type": "execute_result"
    }
   ],
   "source": [
    "c.execute(\"update student set student_id = 1000 where student_id = 236\")"
   ]
  },
  {
   "cell_type": "code",
   "execution_count": 76,
   "id": "4ca43afb",
   "metadata": {},
   "outputs": [
    {
     "data": {
      "text/plain": [
       "[(234, 'sudhashu', 'sudhanshu@ineuron.ai', 234),\n",
       " (235, 'sudhashu', 'sudhanshu@ineuron.ai', 234),\n",
       " (1000, 'sudhashu', 'sudhanshu@ineuron.ai', 234),\n",
       " (237, 'sudhashu', 'sudhanshu@ineuron.ai', 234),\n",
       " (238, 'sudhashu', 'sudhanshu@ineuron.ai', 234),\n",
       " (239, 'sudhashu', 'sudhanshu@ineuron.ai', 234)]"
      ]
     },
     "execution_count": 76,
     "metadata": {},
     "output_type": "execute_result"
    }
   ],
   "source": [
    "data = c.execute(\"select * from student\")\n",
    "data.fetchall()"
   ]
  },
  {
   "cell_type": "code",
   "execution_count": 77,
   "id": "4b4e9894",
   "metadata": {},
   "outputs": [],
   "source": [
    "db.close()"
   ]
  },
  {
   "cell_type": "code",
   "execution_count": null,
   "id": "4c5612db",
   "metadata": {},
   "outputs": [],
   "source": []
  }
 ],
 "metadata": {
  "kernelspec": {
   "display_name": "Python 3 (ipykernel)",
   "language": "python",
   "name": "python3"
  },
  "language_info": {
   "codemirror_mode": {
    "name": "ipython",
    "version": 3
   },
   "file_extension": ".py",
   "mimetype": "text/x-python",
   "name": "python",
   "nbconvert_exporter": "python",
   "pygments_lexer": "ipython3",
   "version": "3.7.7"
  }
 },
 "nbformat": 4,
 "nbformat_minor": 5
}
