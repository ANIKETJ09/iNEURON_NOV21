{
 "cells": [
  {
   "cell_type": "markdown",
   "id": "3248f9d5",
   "metadata": {},
   "source": [
    "## 8th JAN"
   ]
  },
  {
   "cell_type": "code",
   "execution_count": 1,
   "id": "95f76279",
   "metadata": {},
   "outputs": [],
   "source": [
    "def test(a,b,c,d,e):\n",
    "    return a,b,c,d,e"
   ]
  },
  {
   "cell_type": "code",
   "execution_count": 2,
   "id": "16c21c16",
   "metadata": {},
   "outputs": [
    {
     "data": {
      "text/plain": [
       "(34, 56, 76, 787, 878)"
      ]
     },
     "execution_count": 2,
     "metadata": {},
     "output_type": "execute_result"
    }
   ],
   "source": [
    "test(34,56,76,787,878)"
   ]
  },
  {
   "cell_type": "code",
   "execution_count": 3,
   "id": "1b3334b9",
   "metadata": {},
   "outputs": [],
   "source": [
    "def test1(*args): # if we want to give n no of inputs then use '*'sign.\n",
    "    return args"
   ]
  },
  {
   "cell_type": "code",
   "execution_count": 4,
   "id": "2f074167",
   "metadata": {},
   "outputs": [
    {
     "data": {
      "text/plain": [
       "(45, 56, 78)"
      ]
     },
     "execution_count": 4,
     "metadata": {},
     "output_type": "execute_result"
    }
   ],
   "source": [
    "test1(45,56,78)"
   ]
  },
  {
   "cell_type": "code",
   "execution_count": 5,
   "id": "6cde1308",
   "metadata": {},
   "outputs": [
    {
     "data": {
      "text/plain": [
       "(45, 34, 'sudh', 45.67)"
      ]
     },
     "execution_count": 5,
     "metadata": {},
     "output_type": "execute_result"
    }
   ],
   "source": [
    "test1(45,34,\"sudh\" , 45.67)"
   ]
  },
  {
   "cell_type": "code",
   "execution_count": 6,
   "id": "250bc818",
   "metadata": {},
   "outputs": [
    {
     "data": {
      "text/plain": [
       "([1, 2, 43, 4, 5], (45, 67, 76, 78), 'fsdf', (345+7j))"
      ]
     },
     "execution_count": 6,
     "metadata": {},
     "output_type": "execute_result"
    }
   ],
   "source": [
    "test1([1,2,43,4,5] , (45,67,76,78) , \"fsdf\" , 345+7j)"
   ]
  },
  {
   "cell_type": "code",
   "execution_count": 11,
   "id": "529147fd",
   "metadata": {},
   "outputs": [],
   "source": [
    "def test2(*aniket):\n",
    "    return aniket"
   ]
  },
  {
   "cell_type": "code",
   "execution_count": 12,
   "id": "0de23a28",
   "metadata": {},
   "outputs": [
    {
     "data": {
      "text/plain": [
       "('fsdfsdf', 345, '234234', 345)"
      ]
     },
     "execution_count": 12,
     "metadata": {},
     "output_type": "execute_result"
    }
   ],
   "source": [
    "test2(\"fsdfsdf\",345,\"234234\",345)"
   ]
  },
  {
   "cell_type": "code",
   "execution_count": 13,
   "id": "70c8ee25",
   "metadata": {},
   "outputs": [],
   "source": [
    "def test3(*aniket , a):\n",
    "    return aniket , a"
   ]
  },
  {
   "cell_type": "code",
   "execution_count": 14,
   "id": "29e4c357",
   "metadata": {},
   "outputs": [
    {
     "data": {
      "text/plain": [
       "((34, 56, 767), 6546)"
      ]
     },
     "execution_count": 14,
     "metadata": {},
     "output_type": "execute_result"
    }
   ],
   "source": [
    "test3(34,56,767 , a = 6546)"
   ]
  },
  {
   "cell_type": "code",
   "execution_count": 17,
   "id": "2907436a",
   "metadata": {},
   "outputs": [],
   "source": [
    "def test4(*aniket , a,b,c,d):\n",
    "    return aniket , a,b,c,d"
   ]
  },
  {
   "cell_type": "code",
   "execution_count": 18,
   "id": "bcf9d661",
   "metadata": {},
   "outputs": [
    {
     "data": {
      "text/plain": [
       "((345, 353, 656, 76), [4, 5, 7, 7, 4], [35445, 65, 65, 56], 'dfsfs', 345.656)"
      ]
     },
     "execution_count": 18,
     "metadata": {},
     "output_type": "execute_result"
    }
   ],
   "source": [
    "test4(345,353,656,76 , a = [4,5,7,7,4] , b = [35445,65,65,56] , c= \"dfsfs\" , d = 345.656)"
   ]
  },
  {
   "cell_type": "code",
   "execution_count": 23,
   "id": "5b146d25",
   "metadata": {},
   "outputs": [],
   "source": [
    "def test3( a , *ani):\n",
    "    return ani , a"
   ]
  },
  {
   "cell_type": "code",
   "execution_count": 24,
   "id": "3f131e39",
   "metadata": {},
   "outputs": [
    {
     "data": {
      "text/plain": [
       "((2354, 54, 56), 'fsadf')"
      ]
     },
     "execution_count": 24,
     "metadata": {},
     "output_type": "execute_result"
    }
   ],
   "source": [
    "test3(\"fsadf\" , 2354,54,56)"
   ]
  },
  {
   "cell_type": "code",
   "execution_count": 25,
   "id": "4fa80f75",
   "metadata": {},
   "outputs": [],
   "source": [
    "def test3( a , *ani):\n",
    "    return a,ani"
   ]
  },
  {
   "cell_type": "code",
   "execution_count": 22,
   "id": "15e11811",
   "metadata": {},
   "outputs": [
    {
     "ename": "TypeError",
     "evalue": "test3() got multiple values for argument 'a'",
     "output_type": "error",
     "traceback": [
      "\u001b[0;31m---------------------------------------------------------------------------\u001b[0m",
      "\u001b[0;31mTypeError\u001b[0m                                 Traceback (most recent call last)",
      "\u001b[0;32m<ipython-input-22-4ccec3f61f90>\u001b[0m in \u001b[0;36m<module>\u001b[0;34m\u001b[0m\n\u001b[0;32m----> 1\u001b[0;31m \u001b[0mtest3\u001b[0m\u001b[0;34m(\u001b[0m\u001b[0;34m\"fsadf\"\u001b[0m \u001b[0;34m,\u001b[0m \u001b[0;36m2354\u001b[0m\u001b[0;34m,\u001b[0m\u001b[0;36m54\u001b[0m\u001b[0;34m,\u001b[0m\u001b[0;36m56\u001b[0m\u001b[0;34m,\u001b[0m\u001b[0ma\u001b[0m \u001b[0;34m=\u001b[0m \u001b[0;34m\"fsadf\"\u001b[0m\u001b[0;34m)\u001b[0m\u001b[0;34m\u001b[0m\u001b[0;34m\u001b[0m\u001b[0m\n\u001b[0m",
      "\u001b[0;31mTypeError\u001b[0m: test3() got multiple values for argument 'a'"
     ]
    }
   ],
   "source": [
    "test3(\"fsadf\" , 2354,54,56,a = \"fsadf\")   # Now here it will show you an error. while writing in function we  \n",
    "                                          # mention arguments (a,*ani). but while calling we gave multiple\n",
    "                                          # inputs,so funtion's arguments is taking values\n",
    "                                          # sequntially i.e a=\"fsasf\", *ani=>2354,54,56 .but whlie calling func\n",
    "                                          # we gave a=\"fsadf\"seperately so thats why it is showing an error."
   ]
  },
  {
   "cell_type": "code",
   "execution_count": 26,
   "id": "827ac3d4",
   "metadata": {},
   "outputs": [],
   "source": [
    "# so do this kind of code which will not give you an error.\n",
    "def test5(a , *sudh , b ,c ):\n",
    "    return a , sudh,b,c"
   ]
  },
  {
   "cell_type": "code",
   "execution_count": 27,
   "id": "245c0887",
   "metadata": {},
   "outputs": [
    {
     "data": {
      "text/plain": [
       "('sfds', ([2, 3, 4, 5], 45, 6, 56, 5, 6, 67, 6, 7), 6, 7)"
      ]
     },
     "execution_count": 27,
     "metadata": {},
     "output_type": "execute_result"
    }
   ],
   "source": [
    "test5(\"sfds\" , [2,3,4,5] , 45,6,56,5,6,67,6,7,b = 6,c = 7)"
   ]
  },
  {
   "cell_type": "code",
   "execution_count": 28,
   "id": "f9cb20aa",
   "metadata": {},
   "outputs": [],
   "source": [
    "def test6(*args):\n",
    "    l = []\n",
    "    for i in args:\n",
    "        if type(i) == list:\n",
    "            l.append(i)\n",
    "    return l"
   ]
  },
  {
   "cell_type": "code",
   "execution_count": 29,
   "id": "2fe3dbd7",
   "metadata": {},
   "outputs": [
    {
     "data": {
      "text/plain": [
       "[[23, 54, 5, 4, 565656]]"
      ]
     },
     "execution_count": 29,
     "metadata": {},
     "output_type": "execute_result"
    }
   ],
   "source": [
    "test6(45,67,67,76,[23,54,5,4,565656])"
   ]
  },
  {
   "cell_type": "code",
   "execution_count": 30,
   "id": "746178ae",
   "metadata": {},
   "outputs": [
    {
     "data": {
      "text/plain": [
       "[[3, 434, 56, 54], [234, 6, 678]]"
      ]
     },
     "execution_count": 30,
     "metadata": {},
     "output_type": "execute_result"
    }
   ],
   "source": [
    "test6(546,675,67567,567, [3,434,56,54] , [234,6,678] , \"sdfs\")"
   ]
  },
  {
   "cell_type": "code",
   "execution_count": 31,
   "id": "9ab44280",
   "metadata": {},
   "outputs": [],
   "source": [
    "# now if we want o/p as dict. i.e. in the form of keys and value then while writing function use '**'\n",
    "def test7(**kwargs):\n",
    "    return kwargs"
   ]
  },
  {
   "cell_type": "code",
   "execution_count": 32,
   "id": "c667dafa",
   "metadata": {},
   "outputs": [
    {
     "data": {
      "text/plain": [
       "{'a': 345, 'b': [45, 5, 54, 6, 6]}"
      ]
     },
     "execution_count": 32,
     "metadata": {},
     "output_type": "execute_result"
    }
   ],
   "source": [
    "test7(a = 345,b =[45,5,54,6,6])"
   ]
  },
  {
   "cell_type": "code",
   "execution_count": 33,
   "id": "0a5a3903",
   "metadata": {},
   "outputs": [],
   "source": [
    "def test8(**anik) :\n",
    "    return anik"
   ]
  },
  {
   "cell_type": "code",
   "execution_count": 34,
   "id": "83b4571d",
   "metadata": {},
   "outputs": [
    {
     "data": {
      "text/plain": [
       "{'b': 787, 'g': 235, 'f': [345, 546, 76, 78, 87, 87]}"
      ]
     },
     "execution_count": 34,
     "metadata": {},
     "output_type": "execute_result"
    }
   ],
   "source": [
    "test8(b = 787 , g = 235, f = [345,546,76,78,87,87])"
   ]
  },
  {
   "cell_type": "code",
   "execution_count": 35,
   "id": "4dc925e3",
   "metadata": {},
   "outputs": [],
   "source": [
    "def test9(**anik) :\n",
    "    return anik"
   ]
  },
  {
   "cell_type": "code",
   "execution_count": 36,
   "id": "45a44870",
   "metadata": {},
   "outputs": [
    {
     "data": {
      "text/plain": [
       "{'name': 'sudh',\n",
       " 'age': '31',\n",
       " 'phone_number': '4234',\n",
       " 'mail_id': 'sdfsdfd@dsdg.com'}"
      ]
     },
     "execution_count": 36,
     "metadata": {},
     "output_type": "execute_result"
    }
   ],
   "source": [
    "test9(name = \"sudh\"  , age  = \"31\" , phone_number = \"4234\" , mail_id = \"sdfsdfd@dsdg.com\")"
   ]
  },
  {
   "cell_type": "code",
   "execution_count": 37,
   "id": "414d02b0",
   "metadata": {},
   "outputs": [
    {
     "data": {
      "text/plain": [
       "{'name': 'sudh',\n",
       " 'age': '31',\n",
       " 'phone_number': '4234',\n",
       " 'mail_id': 'sdfsdfd@dsdg.com',\n",
       " 'adr': 'fsasaffsa'}"
      ]
     },
     "execution_count": 37,
     "metadata": {},
     "output_type": "execute_result"
    }
   ],
   "source": [
    "test9(name = \"sudh\"  , age  = \"31\" , phone_number = \"4234\" , mail_id = \"sdfsdfd@dsdg.com\" , adr = \"fsasaffsa\")"
   ]
  },
  {
   "cell_type": "code",
   "execution_count": 39,
   "id": "53d41e9b",
   "metadata": {},
   "outputs": [],
   "source": [
    "def test10(a, **anik):\n",
    "    return anik , a "
   ]
  },
  {
   "cell_type": "code",
   "execution_count": 49,
   "id": "914811be",
   "metadata": {},
   "outputs": [
    {
     "ename": "TypeError",
     "evalue": "test10() takes 1 positional argument but 4 were given",
     "output_type": "error",
     "traceback": [
      "\u001b[0;31m---------------------------------------------------------------------------\u001b[0m",
      "\u001b[0;31mTypeError\u001b[0m                                 Traceback (most recent call last)",
      "\u001b[0;32m<ipython-input-49-51e289d636a0>\u001b[0m in \u001b[0;36m<module>\u001b[0;34m\u001b[0m\n\u001b[0;32m----> 1\u001b[0;31m \u001b[0mtest10\u001b[0m\u001b[0;34m(\u001b[0m\u001b[0;36m56\u001b[0m\u001b[0;34m,\u001b[0m\u001b[0;36m47\u001b[0m\u001b[0;34m,\u001b[0m\u001b[0;36m88\u001b[0m\u001b[0;34m,\u001b[0m\u001b[0;36m99\u001b[0m\u001b[0;34m)\u001b[0m \u001b[0;31m# Here Error will come beacuse we are using \"**\" in function. So after calling we have\u001b[0m\u001b[0;34m\u001b[0m\u001b[0;34m\u001b[0m\u001b[0m\n\u001b[0m\u001b[1;32m      2\u001b[0m                     \u001b[0;31m# to mention key value pair in it.\u001b[0m\u001b[0;34m\u001b[0m\u001b[0;34m\u001b[0m\u001b[0;34m\u001b[0m\u001b[0m\n",
      "\u001b[0;31mTypeError\u001b[0m: test10() takes 1 positional argument but 4 were given"
     ]
    }
   ],
   "source": [
    "test10(56,47,88,99) # Here Error will come beacuse we are using \"**\" in function. So after calling we have\n",
    "                    # to mention key value pair in it."
   ]
  },
  {
   "cell_type": "code",
   "execution_count": 40,
   "id": "0daf4cd4",
   "metadata": {},
   "outputs": [
    {
     "data": {
      "text/plain": [
       "({'t': 67, 'b': 78, 'c': 7, 'd': 8, 'e': 78}, 45)"
      ]
     },
     "execution_count": 40,
     "metadata": {},
     "output_type": "execute_result"
    }
   ],
   "source": [
    "test10(45,t = 67,b = 78,c = 7,d = 8,e = 78) # here what we have done we gave value in funtion. when we write \n",
    "                                            # t=67.then o/p it is auto. converting it into 't' i.e. into string. "
   ]
  },
  {
   "cell_type": "code",
   "execution_count": 57,
   "id": "0fd6472f",
   "metadata": {},
   "outputs": [
    {
     "ename": "SyntaxError",
     "evalue": "invalid syntax (<ipython-input-57-e976891c7d9e>, line 1)",
     "output_type": "error",
     "traceback": [
      "\u001b[0;36m  File \u001b[0;32m\"<ipython-input-57-e976891c7d9e>\"\u001b[0;36m, line \u001b[0;32m1\u001b[0m\n\u001b[0;31m    def test12(a ,**kwargs,*args):     # Sequence should be (a,'*','**')\u001b[0m\n\u001b[0m                           ^\u001b[0m\n\u001b[0;31mSyntaxError\u001b[0m\u001b[0;31m:\u001b[0m invalid syntax\n"
     ]
    }
   ],
   "source": [
    "def test12(a ,**kwargs,*args):     # Sequence should be (a,'*','**') \n",
    "    return a , args, kwargs"
   ]
  },
  {
   "cell_type": "code",
   "execution_count": 58,
   "id": "3dd87cb0",
   "metadata": {},
   "outputs": [],
   "source": [
    "def test12(a , *args, **kwargs) :\n",
    "    return a , args, kwargs"
   ]
  },
  {
   "cell_type": "code",
   "execution_count": 59,
   "id": "a5a85a14",
   "metadata": {},
   "outputs": [
    {
     "data": {
      "text/plain": [
       "(45, (676, 7, 8, 9, 90, 2), {'s': 'oo', 'k': 99})"
      ]
     },
     "execution_count": 59,
     "metadata": {},
     "output_type": "execute_result"
    }
   ],
   "source": [
    "test12(45,676,7,8,9,90,2,s=\"oo\",k=99)"
   ]
  },
  {
   "cell_type": "code",
   "execution_count": null,
   "id": "9bd3cbb0",
   "metadata": {},
   "outputs": [],
   "source": [
    "def test13(a,b):\n",
    "    return a*b"
   ]
  },
  {
   "cell_type": "code",
   "execution_count": 60,
   "id": "f719a938",
   "metadata": {},
   "outputs": [],
   "source": [
    "# lambda"
   ]
  },
  {
   "cell_type": "code",
   "execution_count": 67,
   "id": "9afee987",
   "metadata": {},
   "outputs": [
    {
     "ename": "NameError",
     "evalue": "name 'b' is not defined",
     "output_type": "error",
     "traceback": [
      "\u001b[0;31m---------------------------------------------------------------------------\u001b[0m",
      "\u001b[0;31mNameError\u001b[0m                                 Traceback (most recent call last)",
      "\u001b[0;32m<ipython-input-67-7a9e3fa1641d>\u001b[0m in \u001b[0;36m<module>\u001b[0;34m\u001b[0m\n\u001b[0;32m----> 1\u001b[0;31m \u001b[0ma\u001b[0m\u001b[0;34m=\u001b[0m\u001b[0;32mlambda\u001b[0m \u001b[0ma\u001b[0m\u001b[0;34m,\u001b[0m\u001b[0mb\u001b[0m\u001b[0;34m:\u001b[0m\u001b[0ma\u001b[0m\u001b[0;34m*\u001b[0m\u001b[0mb\u001b[0m\u001b[0;34m,\u001b[0m\u001b[0ma\u001b[0m\u001b[0;34m+\u001b[0m\u001b[0mb\u001b[0m \u001b[0;31m# Here it will show us Error.\u001b[0m\u001b[0;34m\u001b[0m\u001b[0;34m\u001b[0m\u001b[0m\n\u001b[0m\u001b[1;32m      2\u001b[0m \u001b[0ma\u001b[0m\u001b[0;34m(\u001b[0m\u001b[0;36m30\u001b[0m\u001b[0;34m,\u001b[0m\u001b[0;36m25\u001b[0m\u001b[0;34m)\u001b[0m\u001b[0;34m\u001b[0m\u001b[0;34m\u001b[0m\u001b[0m\n",
      "\u001b[0;31mNameError\u001b[0m: name 'b' is not defined"
     ]
    }
   ],
   "source": [
    "a=lambda a,b:a*b,a+b # Here it will show us Error.\n",
    "a(30,25)"
   ]
  },
  {
   "cell_type": "code",
   "execution_count": 68,
   "id": "b47eb8b7",
   "metadata": {},
   "outputs": [
    {
     "data": {
      "text/plain": [
       "(750, 55)"
      ]
     },
     "execution_count": 68,
     "metadata": {},
     "output_type": "execute_result"
    }
   ],
   "source": [
    "a=lambda a,b:(a*b,a+b)\n",
    "a(30,25)"
   ]
  },
  {
   "cell_type": "code",
   "execution_count": 63,
   "id": "2424ca47",
   "metadata": {},
   "outputs": [],
   "source": [
    "a=lambda *a:a       #  we can give Multiple input."
   ]
  },
  {
   "cell_type": "code",
   "execution_count": 64,
   "id": "a8c3c5b0",
   "metadata": {},
   "outputs": [
    {
     "data": {
      "text/plain": [
       "(67, 44, 89)"
      ]
     },
     "execution_count": 64,
     "metadata": {},
     "output_type": "execute_result"
    }
   ],
   "source": [
    "a(67,44,89)"
   ]
  },
  {
   "cell_type": "code",
   "execution_count": 77,
   "id": "4b2f33c4",
   "metadata": {},
   "outputs": [
    {
     "ename": "TypeError",
     "evalue": "unsupported operand type(s) for ** or pow(): 'tuple' and 'int'",
     "output_type": "error",
     "traceback": [
      "\u001b[0;31m---------------------------------------------------------------------------\u001b[0m",
      "\u001b[0;31mTypeError\u001b[0m                                 Traceback (most recent call last)",
      "\u001b[0;32m<ipython-input-77-82edc171e09e>\u001b[0m in \u001b[0;36m<module>\u001b[0;34m\u001b[0m\n\u001b[1;32m      1\u001b[0m \u001b[0mv\u001b[0m \u001b[0;34m=\u001b[0m \u001b[0;32mlambda\u001b[0m \u001b[0;34m*\u001b[0m\u001b[0mi\u001b[0m \u001b[0;34m:\u001b[0m \u001b[0mi\u001b[0m\u001b[0;34m**\u001b[0m\u001b[0;36m2\u001b[0m    \u001b[0;31m# As we know o/p of function is tuple Here in o/p,tuple is coming and (tuple * tuple)\u001b[0m\u001b[0;34m\u001b[0m\u001b[0;34m\u001b[0m\u001b[0m\n\u001b[0;32m----> 2\u001b[0;31m \u001b[0mv\u001b[0m\u001b[0;34m(\u001b[0m\u001b[0;36m5\u001b[0m\u001b[0;34m)\u001b[0m                    \u001b[0;31m# operation is not goning to work.\u001b[0m\u001b[0;34m\u001b[0m\u001b[0;34m\u001b[0m\u001b[0m\n\u001b[0m",
      "\u001b[0;32m<ipython-input-77-82edc171e09e>\u001b[0m in \u001b[0;36m<lambda>\u001b[0;34m(*i)\u001b[0m\n\u001b[0;32m----> 1\u001b[0;31m \u001b[0mv\u001b[0m \u001b[0;34m=\u001b[0m \u001b[0;32mlambda\u001b[0m \u001b[0;34m*\u001b[0m\u001b[0mi\u001b[0m \u001b[0;34m:\u001b[0m \u001b[0mi\u001b[0m\u001b[0;34m**\u001b[0m\u001b[0;36m2\u001b[0m    \u001b[0;31m# As we know o/p of function is tuple Here in o/p,tuple is coming and (tuple * tuple)\u001b[0m\u001b[0;34m\u001b[0m\u001b[0;34m\u001b[0m\u001b[0m\n\u001b[0m\u001b[1;32m      2\u001b[0m \u001b[0mv\u001b[0m\u001b[0;34m(\u001b[0m\u001b[0;36m5\u001b[0m\u001b[0;34m)\u001b[0m                    \u001b[0;31m# operation is not goning to work.\u001b[0m\u001b[0;34m\u001b[0m\u001b[0;34m\u001b[0m\u001b[0m\n",
      "\u001b[0;31mTypeError\u001b[0m: unsupported operand type(s) for ** or pow(): 'tuple' and 'int'"
     ]
    }
   ],
   "source": [
    "v = lambda *i : i**2    # As we know o/p of function is tuple Here in o/p,tuple is coming and (tuple * tuple)   \n",
    "v(5)                    # operation is not goning to work.                   "
   ]
  },
  {
   "cell_type": "code",
   "execution_count": 70,
   "id": "f47838f7",
   "metadata": {},
   "outputs": [],
   "source": [
    "x=lambda x: [i for i in x]"
   ]
  },
  {
   "cell_type": "code",
   "execution_count": 71,
   "id": "239fa7f7",
   "metadata": {},
   "outputs": [
    {
     "data": {
      "text/plain": [
       "[4, 5, 6]"
      ]
     },
     "execution_count": 71,
     "metadata": {},
     "output_type": "execute_result"
    }
   ],
   "source": [
    "x([4,5,6])"
   ]
  },
  {
   "cell_type": "code",
   "execution_count": 78,
   "id": "c64f9659",
   "metadata": {},
   "outputs": [],
   "source": [
    "a = lambda **kwargs : kwargs"
   ]
  },
  {
   "cell_type": "code",
   "execution_count": 80,
   "id": "d9447f96",
   "metadata": {},
   "outputs": [
    {
     "data": {
      "text/plain": [
       "{'d': 45, 'b': 56}"
      ]
     },
     "execution_count": 80,
     "metadata": {},
     "output_type": "execute_result"
    }
   ],
   "source": [
    "a(d  = 45, b = 56)"
   ]
  },
  {
   "cell_type": "code",
   "execution_count": 111,
   "id": "b62552f7",
   "metadata": {},
   "outputs": [
    {
     "data": {
      "text/plain": [
       "500"
      ]
     },
     "execution_count": 111,
     "metadata": {},
     "output_type": "execute_result"
    }
   ],
   "source": [
    "a = 10 \n",
    "def test16(c,d):\n",
    "    return c*d\n",
    "test16(a,50)\n",
    "# Here we are getting o/p as'500'. because a=10 we declare it globally i.e. outside the funtion.\n",
    "# Means if we call a= what? then we will get a='10' as an o/p.\n",
    "# \"Now here what is going see, while calllig a function function we are giving value(a,50)so here \n",
    "# c=a,and as we know that a=10 so (c*d)==>(10*50)=500 that why we are getting 500 as Ans\"."
   ]
  },
  {
   "cell_type": "code",
   "execution_count": 1,
   "id": "8fc350d9",
   "metadata": {},
   "outputs": [
    {
     "data": {
      "text/plain": [
       "500"
      ]
     },
     "execution_count": 1,
     "metadata": {},
     "output_type": "execute_result"
    }
   ],
   "source": [
    "\"\"\" ?? ask to sanket\"\"\"\n",
    "\n",
    "a=10 #(global value)       # Now see the difference between above code and following code. Here also ans is 500 \n",
    "def test16(c,d):           # because while executing code it will take c=5 but when we call function and assign\n",
    "    a=5 #(local Value)     # value (a,50) i.e. c=a and as we know that a=10 therefore c=10 it is taking global \n",
    "    return c*d             # value not local value.\n",
    "test16(a,50)     "
   ]
  },
  {
   "cell_type": "code",
   "execution_count": 104,
   "id": "cfcf1f1a",
   "metadata": {},
   "outputs": [
    {
     "data": {
      "text/plain": [
       "250"
      ]
     },
     "execution_count": 104,
     "metadata": {},
     "output_type": "execute_result"
    }
   ],
   "source": [
    "a = 10                 # Now see what is happening here while calling function we are giving valus as (a,50) \n",
    "def test16(c,d):       # i.e.c=a,as we know that a=10 therefore c=10 & d=50 but after executing function,\n",
    "                       # it is chaninge value of c from \"10\" to \"5\"\n",
    "    c=5                # hence we are getting o/p as 250. not an 500.\n",
    "    return c*d\n",
    "test16(a,50)"
   ]
  },
  {
   "cell_type": "code",
   "execution_count": 117,
   "id": "946d446a",
   "metadata": {},
   "outputs": [
    {
     "data": {
      "text/plain": [
       "250"
      ]
     },
     "execution_count": 117,
     "metadata": {},
     "output_type": "execute_result"
    }
   ],
   "source": [
    "c = 10               # Now see what is happening here while calling function we are giving valus as (c,50)\n",
    "def test16(c,d):     # i.e. c=10 (it will take global value) & d=50 but while executing function,it is changing \n",
    "                     # value of c from \"10\" to \"5\".\n",
    "    c=5              # hence we are getting o/p as 250. not an 500. And also here there in no impact of global\n",
    "    return c*d       # variable.\n",
    "test16(c,50)"
   ]
  },
  {
   "cell_type": "code",
   "execution_count": 93,
   "id": "84685680",
   "metadata": {},
   "outputs": [
    {
     "data": {
      "text/plain": [
       "10"
      ]
     },
     "execution_count": 93,
     "metadata": {},
     "output_type": "execute_result"
    }
   ],
   "source": [
    "c # we are getting c=10 not c=5 it is taking global value."
   ]
  },
  {
   "cell_type": "code",
   "execution_count": 118,
   "id": "e767b83d",
   "metadata": {},
   "outputs": [],
   "source": [
    "## LIST COMPREHENSION (reamining topic covering along with function)"
   ]
  },
  {
   "cell_type": "code",
   "execution_count": 119,
   "id": "c3d7196e",
   "metadata": {},
   "outputs": [],
   "source": [
    "l = [1,2,3,4,56,78,7,88,7]\n",
    "l1 = []\n",
    "for i in l :\n",
    "    l1.append(i+2)"
   ]
  },
  {
   "cell_type": "code",
   "execution_count": 120,
   "id": "085e6127",
   "metadata": {},
   "outputs": [
    {
     "data": {
      "text/plain": [
       "[3, 4, 5, 6, 58, 80, 9, 90, 9]"
      ]
     },
     "execution_count": 120,
     "metadata": {},
     "output_type": "execute_result"
    }
   ],
   "source": [
    "l1"
   ]
  },
  {
   "cell_type": "code",
   "execution_count": 122,
   "id": "76a4b586",
   "metadata": {},
   "outputs": [],
   "source": [
    "def test17(a) :\n",
    "    l1 = []\n",
    "    for i in a :\n",
    "        l1.append(i+2)\n",
    "    return l1"
   ]
  },
  {
   "cell_type": "code",
   "execution_count": 123,
   "id": "4d205b17",
   "metadata": {},
   "outputs": [
    {
     "data": {
      "text/plain": [
       "[3, 4, 5, 6, 58, 80, 9, 90, 9]"
      ]
     },
     "execution_count": 123,
     "metadata": {},
     "output_type": "execute_result"
    }
   ],
   "source": [
    "test17(l)"
   ]
  },
  {
   "cell_type": "code",
   "execution_count": 124,
   "id": "7821f21a",
   "metadata": {},
   "outputs": [],
   "source": [
    "a = lambda a : [i+2 for i in a ]"
   ]
  },
  {
   "cell_type": "code",
   "execution_count": 125,
   "id": "62ed77d7",
   "metadata": {},
   "outputs": [
    {
     "data": {
      "text/plain": [
       "[3, 4, 5, 6, 58, 80, 9, 90, 9]"
      ]
     },
     "execution_count": 125,
     "metadata": {},
     "output_type": "execute_result"
    }
   ],
   "source": [
    "a(l)"
   ]
  },
  {
   "cell_type": "code",
   "execution_count": 126,
   "id": "7c4e7114",
   "metadata": {},
   "outputs": [
    {
     "data": {
      "text/plain": [
       "[1, 2, 3, 4, 56, 78, 7, 88, 7]"
      ]
     },
     "execution_count": 126,
     "metadata": {},
     "output_type": "execute_result"
    }
   ],
   "source": [
    "l"
   ]
  },
  {
   "cell_type": "code",
   "execution_count": 127,
   "id": "92ad6903",
   "metadata": {},
   "outputs": [
    {
     "data": {
      "text/plain": [
       "[(1, 2), (4, 4), (9, 6)]"
      ]
     },
     "execution_count": 127,
     "metadata": {},
     "output_type": "execute_result"
    }
   ],
   "source": [
    "[(i**2,i+i) for i in l if i< 4]"
   ]
  },
  {
   "cell_type": "code",
   "execution_count": 128,
   "id": "fc4ed29a",
   "metadata": {},
   "outputs": [
    {
     "data": {
      "text/plain": [
       "[(4, 4), (9, 6)]"
      ]
     },
     "execution_count": 128,
     "metadata": {},
     "output_type": "execute_result"
    }
   ],
   "source": [
    "[(i**2,i+i) for i in l if i< 4 if i>1] # we can give multiple 'if' condition."
   ]
  },
  {
   "cell_type": "code",
   "execution_count": 129,
   "id": "1b94478e",
   "metadata": {},
   "outputs": [],
   "source": [
    "d = {1:1 , 2 :4 , 3:9}"
   ]
  },
  {
   "cell_type": "code",
   "execution_count": 130,
   "id": "7e049a52",
   "metadata": {},
   "outputs": [
    {
     "data": {
      "text/plain": [
       "{0: 0, 1: 1, 2: 4, 3: 9, 4: 16, 5: 25, 6: 36, 7: 49, 8: 64, 9: 81}"
      ]
     },
     "execution_count": 130,
     "metadata": {},
     "output_type": "execute_result"
    }
   ],
   "source": [
    "{i:i**2 for i in range(10)}"
   ]
  },
  {
   "cell_type": "code",
   "execution_count": 132,
   "id": "9a6581f9",
   "metadata": {},
   "outputs": [
    {
     "data": {
      "text/plain": [
       "{0: 0, 1: 1, 2: 4, 3: 9, 4: 16, 5: 25, 6: 36, 7: 49, 8: 64, 9: 81}"
      ]
     },
     "execution_count": 132,
     "metadata": {},
     "output_type": "execute_result"
    }
   ],
   "source": [
    "d1 = {}\n",
    "for i in range(10) : \n",
    "    d1[i] = i**2\n",
    "d1"
   ]
  },
  {
   "cell_type": "code",
   "execution_count": 133,
   "id": "79389271",
   "metadata": {},
   "outputs": [
    {
     "data": {
      "text/plain": [
       "(0, 1, 2, 3, 4, 5, 6, 7, 8, 9)"
      ]
     },
     "execution_count": 133,
     "metadata": {},
     "output_type": "execute_result"
    }
   ],
   "source": [
    "tuple(i for i in range(10))"
   ]
  },
  {
   "cell_type": "markdown",
   "id": "f0c1feac",
   "metadata": {},
   "source": [
    "## IMP TOPIC "
   ]
  },
  {
   "cell_type": "code",
   "execution_count": 136,
   "id": "82cec1de",
   "metadata": {},
   "outputs": [
    {
     "ename": "TypeError",
     "evalue": "'int' object is not iterable",
     "output_type": "error",
     "traceback": [
      "\u001b[0;31m---------------------------------------------------------------------------\u001b[0m",
      "\u001b[0;31mTypeError\u001b[0m                                 Traceback (most recent call last)",
      "\u001b[0;32m<ipython-input-136-18c07b8245c8>\u001b[0m in \u001b[0;36m<module>\u001b[0;34m\u001b[0m\n\u001b[1;32m      1\u001b[0m \u001b[0ma\u001b[0m\u001b[0;34m=\u001b[0m\u001b[0;36m56\u001b[0m\u001b[0;34m\u001b[0m\u001b[0;34m\u001b[0m\u001b[0m\n\u001b[0;32m----> 2\u001b[0;31m \u001b[0;32mfor\u001b[0m \u001b[0mi\u001b[0m \u001b[0;32min\u001b[0m \u001b[0ma\u001b[0m\u001b[0;34m:\u001b[0m\u001b[0;34m\u001b[0m\u001b[0;34m\u001b[0m\u001b[0m\n\u001b[0m\u001b[1;32m      3\u001b[0m     \u001b[0mprint\u001b[0m\u001b[0;34m(\u001b[0m\u001b[0mi\u001b[0m\u001b[0;34m)\u001b[0m\u001b[0;34m\u001b[0m\u001b[0;34m\u001b[0m\u001b[0m\n",
      "\u001b[0;31mTypeError\u001b[0m: 'int' object is not iterable"
     ]
    }
   ],
   "source": [
    "a=56                # See error. i.e. IMP\n",
    "for i in a:\n",
    "    print(i)"
   ]
  },
  {
   "cell_type": "code",
   "execution_count": 138,
   "id": "a86f01a0",
   "metadata": {},
   "outputs": [
    {
     "name": "stdout",
     "output_type": "stream",
     "text": [
      "s\n",
      "u\n",
      "d\n",
      "h\n"
     ]
    }
   ],
   "source": [
    "s=\"sudh\"                    # not getting error.because string is itrable object.\n",
    "for i in s:\n",
    "    print(i)"
   ]
  },
  {
   "cell_type": "code",
   "execution_count": 140,
   "id": "0bdc18f9",
   "metadata": {},
   "outputs": [
    {
     "ename": "TypeError",
     "evalue": "'str' object is not an iterator",
     "output_type": "error",
     "traceback": [
      "\u001b[0;31m---------------------------------------------------------------------------\u001b[0m",
      "\u001b[0;31mTypeError\u001b[0m                                 Traceback (most recent call last)",
      "\u001b[0;32m<ipython-input-140-04f8fa45f0c8>\u001b[0m in \u001b[0;36m<module>\u001b[0;34m\u001b[0m\n\u001b[0;32m----> 1\u001b[0;31m \u001b[0mnext\u001b[0m\u001b[0;34m(\u001b[0m\u001b[0ms\u001b[0m\u001b[0;34m)\u001b[0m     \u001b[0;31m# see error. now it is showing word 'iterator'\u001b[0m\u001b[0;34m\u001b[0m\u001b[0;34m\u001b[0m\u001b[0m\n\u001b[0m",
      "\u001b[0;31mTypeError\u001b[0m: 'str' object is not an iterator"
     ]
    }
   ],
   "source": [
    "next(s)  # see error. now it is showing that str is not 'iterator'.\n",
    "         # as we know next() function is giving us one one element at a time but ony when if object is itrator.\n",
    "         # and as we know that string is itrable and next function is saing that i am not be able to itrate it."
   ]
  },
  {
   "cell_type": "code",
   "execution_count": 141,
   "id": "a3e80ab8",
   "metadata": {},
   "outputs": [],
   "source": [
    "# string is itrable object yes or not? ans- yes it is. \n",
    "# But is the string is an itrator? ans:-no it is not.\n",
    "\n",
    "\n",
    "\n",
    "\n",
    "# what is Diff between itrable and itrator ?\n",
    "\n",
    "\n",
    "# Ans:-If an object is holding values with hepl of some sort of indexes and if you are able to acces \n",
    "# it one by one whith help of indexs that object is called as \"itrable object\".\n",
    "\n",
    "# An \"iterator\" is an object that contains a countable number of values. An iterator is an object that can be \n",
    "# iterated upon, meaning that you can traverse through all the values. Technically, in Python, an iterator is\n",
    "# an object which implements the iterator protocol, which consist of the methods __iter__() and __next__() ."
   ]
  },
  {
   "cell_type": "code",
   "execution_count": 142,
   "id": "f6edfcb9",
   "metadata": {},
   "outputs": [
    {
     "data": {
      "text/plain": [
       "'sudh'"
      ]
     },
     "execution_count": 142,
     "metadata": {},
     "output_type": "execute_result"
    }
   ],
   "source": [
    "s"
   ]
  },
  {
   "cell_type": "code",
   "execution_count": 143,
   "id": "88d46ca0",
   "metadata": {},
   "outputs": [],
   "source": [
    "b=iter(s)   # now here iter() funcion is converting itrable object into itrator."
   ]
  },
  {
   "cell_type": "code",
   "execution_count": 144,
   "id": "9024efa0",
   "metadata": {},
   "outputs": [
    {
     "data": {
      "text/plain": [
       "'s'"
      ]
     },
     "execution_count": 144,
     "metadata": {},
     "output_type": "execute_result"
    }
   ],
   "source": [
    "next(b)  # now if we execute it, it will not give us error it will give us 's' in consol. Next function works\n",
    "         # only when object is iterator and in above cell we convert itrable object into iterator with help of\n",
    "         # iter function.\n",
    "         # now see it in following 2/3 cell."
   ]
  },
  {
   "cell_type": "code",
   "execution_count": 145,
   "id": "f840165e",
   "metadata": {},
   "outputs": [
    {
     "data": {
      "text/plain": [
       "'u'"
      ]
     },
     "execution_count": 145,
     "metadata": {},
     "output_type": "execute_result"
    }
   ],
   "source": [
    "next(b)"
   ]
  },
  {
   "cell_type": "code",
   "execution_count": 146,
   "id": "7bf53967",
   "metadata": {},
   "outputs": [
    {
     "data": {
      "text/plain": [
       "'d'"
      ]
     },
     "execution_count": 146,
     "metadata": {},
     "output_type": "execute_result"
    }
   ],
   "source": [
    "next(b)"
   ]
  },
  {
   "cell_type": "code",
   "execution_count": 147,
   "id": "c5c48c8c",
   "metadata": {},
   "outputs": [
    {
     "data": {
      "text/plain": [
       "'h'"
      ]
     },
     "execution_count": 147,
     "metadata": {},
     "output_type": "execute_result"
    }
   ],
   "source": [
    "next(b)"
   ]
  },
  {
   "cell_type": "code",
   "execution_count": null,
   "id": "2b4038d4",
   "metadata": {},
   "outputs": [],
   "source": [
    "# Now see below how for loop works internally.\n",
    "\n",
    "s=\"sudh\"       # as we know that string is itrable. now             \n",
    "for i in s:    # for loop will 1st convert itrable object (i.e.given string =\"sudh\")into itrator by using iter()\n",
    "    print (i)  # function then by using next() next() it is giving us all elementsin sequence."
   ]
  },
  {
   "cell_type": "code",
   "execution_count": 3,
   "id": "e7cb95ad",
   "metadata": {},
   "outputs": [],
   "source": [
    "l = [3,4,5,6,6]"
   ]
  },
  {
   "cell_type": "code",
   "execution_count": 4,
   "id": "5f4956fe",
   "metadata": {},
   "outputs": [
    {
     "ename": "TypeError",
     "evalue": "'list' object is not an iterator",
     "output_type": "error",
     "traceback": [
      "\u001b[0;31m---------------------------------------------------------------------------\u001b[0m",
      "\u001b[0;31mTypeError\u001b[0m                                 Traceback (most recent call last)",
      "\u001b[0;32m<ipython-input-4-cdc8a39da60d>\u001b[0m in \u001b[0;36m<module>\u001b[0;34m\u001b[0m\n\u001b[0;32m----> 1\u001b[0;31m \u001b[0mnext\u001b[0m\u001b[0;34m(\u001b[0m\u001b[0ml\u001b[0m\u001b[0;34m)\u001b[0m\u001b[0;34m\u001b[0m\u001b[0;34m\u001b[0m\u001b[0m\n\u001b[0m",
      "\u001b[0;31mTypeError\u001b[0m: 'list' object is not an iterator"
     ]
    }
   ],
   "source": [
    "next(l)"
   ]
  },
  {
   "cell_type": "code",
   "execution_count": 5,
   "id": "687b68db",
   "metadata": {},
   "outputs": [],
   "source": [
    "l = iter(l)"
   ]
  },
  {
   "cell_type": "code",
   "execution_count": 6,
   "id": "d50cf84d",
   "metadata": {},
   "outputs": [
    {
     "data": {
      "text/plain": [
       "3"
      ]
     },
     "execution_count": 6,
     "metadata": {},
     "output_type": "execute_result"
    }
   ],
   "source": [
    "next(l)"
   ]
  },
  {
   "cell_type": "code",
   "execution_count": 7,
   "id": "6b4e75c5",
   "metadata": {},
   "outputs": [
    {
     "data": {
      "text/plain": [
       "4"
      ]
     },
     "execution_count": 7,
     "metadata": {},
     "output_type": "execute_result"
    }
   ],
   "source": [
    "next(l)"
   ]
  },
  {
   "cell_type": "code",
   "execution_count": 8,
   "id": "cbdfb84a",
   "metadata": {},
   "outputs": [
    {
     "data": {
      "text/plain": [
       "5"
      ]
     },
     "execution_count": 8,
     "metadata": {},
     "output_type": "execute_result"
    }
   ],
   "source": [
    "next(l)"
   ]
  },
  {
   "cell_type": "code",
   "execution_count": 9,
   "id": "a8ae7674",
   "metadata": {},
   "outputs": [
    {
     "data": {
      "text/plain": [
       "6"
      ]
     },
     "execution_count": 9,
     "metadata": {},
     "output_type": "execute_result"
    }
   ],
   "source": [
    "next(l)"
   ]
  },
  {
   "cell_type": "code",
   "execution_count": 10,
   "id": "e74414b9",
   "metadata": {},
   "outputs": [
    {
     "data": {
      "text/plain": [
       "6"
      ]
     },
     "execution_count": 10,
     "metadata": {},
     "output_type": "execute_result"
    }
   ],
   "source": [
    "next(l)"
   ]
  },
  {
   "cell_type": "code",
   "execution_count": 11,
   "id": "bf7c4c5b",
   "metadata": {},
   "outputs": [
    {
     "ename": "StopIteration",
     "evalue": "",
     "output_type": "error",
     "traceback": [
      "\u001b[0;31m---------------------------------------------------------------------------\u001b[0m",
      "\u001b[0;31mStopIteration\u001b[0m                             Traceback (most recent call last)",
      "\u001b[0;32m<ipython-input-11-cdc8a39da60d>\u001b[0m in \u001b[0;36m<module>\u001b[0;34m\u001b[0m\n\u001b[0;32m----> 1\u001b[0;31m \u001b[0mnext\u001b[0m\u001b[0;34m(\u001b[0m\u001b[0ml\u001b[0m\u001b[0;34m)\u001b[0m\u001b[0;34m\u001b[0m\u001b[0;34m\u001b[0m\u001b[0m\n\u001b[0m",
      "\u001b[0;31mStopIteration\u001b[0m: "
     ]
    }
   ],
   "source": [
    "next(l)  # iteration stop"
   ]
  },
  {
   "cell_type": "code",
   "execution_count": null,
   "id": "eb0096fb",
   "metadata": {},
   "outputs": [],
   "source": [
    "# same error will come as like of string. so do same procedure with it as we did on string.\n"
   ]
  },
  {
   "cell_type": "code",
   "execution_count": 150,
   "id": "df6e1afd",
   "metadata": {},
   "outputs": [
    {
     "ename": "TypeError",
     "evalue": "'int' object is not iterable",
     "output_type": "error",
     "traceback": [
      "\u001b[0;31m---------------------------------------------------------------------------\u001b[0m",
      "\u001b[0;31mTypeError\u001b[0m                                 Traceback (most recent call last)",
      "\u001b[0;32m<ipython-input-150-46dd350cb03e>\u001b[0m in \u001b[0;36m<module>\u001b[0;34m\u001b[0m\n\u001b[1;32m      1\u001b[0m \u001b[0;31m# now see\u001b[0m\u001b[0;34m\u001b[0m\u001b[0;34m\u001b[0m\u001b[0;34m\u001b[0m\u001b[0m\n\u001b[0;32m----> 2\u001b[0;31m \u001b[0miter\u001b[0m\u001b[0;34m(\u001b[0m\u001b[0;36m45\u001b[0m\u001b[0;34m)\u001b[0m\u001b[0;34m\u001b[0m\u001b[0;34m\u001b[0m\u001b[0m\n\u001b[0m",
      "\u001b[0;31mTypeError\u001b[0m: 'int' object is not iterable"
     ]
    }
   ],
   "source": [
    "# now see\n",
    "iter(45)"
   ]
  },
  {
   "cell_type": "code",
   "execution_count": 1,
   "id": "78484901",
   "metadata": {},
   "outputs": [],
   "source": [
    "# here we cant do any thing like string. Because we can convert only \"itrable object\" into an \"itrator\",not \n",
    "# other one.thats why we cant do any cahnges into in above case. because 45 is not itrable.hence we cant make \n",
    "# it itrator. \n",
    "# int,bool,float,complex all these object are not itrable. hence we can't convert it into itrator.  "
   ]
  },
  {
   "cell_type": "code",
   "execution_count": 22,
   "id": "a5ec4b9b",
   "metadata": {},
   "outputs": [],
   "source": [
    "r = range(6)"
   ]
  },
  {
   "cell_type": "code",
   "execution_count": 23,
   "id": "6ee846ca",
   "metadata": {},
   "outputs": [
    {
     "ename": "TypeError",
     "evalue": "'range' object is not an iterator",
     "output_type": "error",
     "traceback": [
      "\u001b[0;31m---------------------------------------------------------------------------\u001b[0m",
      "\u001b[0;31mTypeError\u001b[0m                                 Traceback (most recent call last)",
      "\u001b[0;32m<ipython-input-23-8ebe59a56b1d>\u001b[0m in \u001b[0;36m<module>\u001b[0;34m\u001b[0m\n\u001b[0;32m----> 1\u001b[0;31m \u001b[0mnext\u001b[0m\u001b[0;34m(\u001b[0m\u001b[0mr\u001b[0m\u001b[0;34m)\u001b[0m\u001b[0;34m\u001b[0m\u001b[0;34m\u001b[0m\u001b[0m\n\u001b[0m",
      "\u001b[0;31mTypeError\u001b[0m: 'range' object is not an iterator"
     ]
    }
   ],
   "source": [
    "next(r)"
   ]
  },
  {
   "cell_type": "code",
   "execution_count": 24,
   "id": "d728b8dd",
   "metadata": {},
   "outputs": [],
   "source": [
    "r = iter(r)"
   ]
  },
  {
   "cell_type": "code",
   "execution_count": 25,
   "id": "22dc5285",
   "metadata": {},
   "outputs": [
    {
     "data": {
      "text/plain": [
       "0"
      ]
     },
     "execution_count": 25,
     "metadata": {},
     "output_type": "execute_result"
    }
   ],
   "source": [
    "next(r)"
   ]
  },
  {
   "cell_type": "code",
   "execution_count": 26,
   "id": "79a8baba",
   "metadata": {},
   "outputs": [
    {
     "data": {
      "text/plain": [
       "1"
      ]
     },
     "execution_count": 26,
     "metadata": {},
     "output_type": "execute_result"
    }
   ],
   "source": [
    "next(r)"
   ]
  },
  {
   "cell_type": "code",
   "execution_count": 12,
   "id": "0ad81662",
   "metadata": {},
   "outputs": [],
   "source": [
    "# Remember one thing indexing and itration operation both are different.\n",
    "# indexing means we are heating one of the target variable but in itration operation we are moving to each\n",
    "# elements one by one sequentially. "
   ]
  },
  {
   "cell_type": "code",
   "execution_count": 13,
   "id": "f87544fa",
   "metadata": {},
   "outputs": [],
   "source": [
    "# All itrable object qre itrator. "
   ]
  },
  {
   "cell_type": "markdown",
   "id": "0ea8d718",
   "metadata": {},
   "source": [
    "## DOUBTS OF OTHERS"
   ]
  },
  {
   "cell_type": "code",
   "execution_count": 15,
   "id": "de3e5627",
   "metadata": {},
   "outputs": [
    {
     "name": "stdout",
     "output_type": "stream",
     "text": [
      "{4: 'd', 1: 'a', 2: 'b', 3: 'c'}\n"
     ]
    },
    {
     "data": {
      "text/plain": [
       "{4: 'd', 1: 'a', 2: 'b', 3: 'c'}"
      ]
     },
     "execution_count": 15,
     "metadata": {},
     "output_type": "execute_result"
    }
   ],
   "source": [
    "a={1:\"a\",2:\"b\",3:\"c\"}\n",
    "up={4:\"d\"}\n",
    "def insertion_beginning(dic,upk):\n",
    "      upk.update(dic)\n",
    "      print(upk)\n",
    "      return upk\n",
    "insertion_beginning(a,up)"
   ]
  },
  {
   "cell_type": "code",
   "execution_count": 16,
   "id": "9bade1c8",
   "metadata": {},
   "outputs": [],
   "source": [
    "def test(*ankit):\n",
    "    for i in ankit:\n",
    "        \n",
    "        if type(i)==list:\n",
    "            return ankit"
   ]
  },
  {
   "cell_type": "code",
   "execution_count": 17,
   "id": "2b35ba08",
   "metadata": {},
   "outputs": [
    {
     "data": {
      "text/plain": [
       "(345, 56, 56, 56, 5, 6, 56, 56, [3, 4, 56, 7, 67, 6, 7])"
      ]
     },
     "execution_count": 17,
     "metadata": {},
     "output_type": "execute_result"
    }
   ],
   "source": [
    "test(345,56,56,56,5,6,56,56,[3,4,56,7,67,6,7])"
   ]
  },
  {
   "cell_type": "code",
   "execution_count": 28,
   "id": "926c8b0d",
   "metadata": {},
   "outputs": [],
   "source": [
    "def test(*ankit):\n",
    "    for i in ankit:\n",
    "        if type(i)==list:\n",
    "            return i"
   ]
  },
  {
   "cell_type": "code",
   "execution_count": 29,
   "id": "0c04b248",
   "metadata": {},
   "outputs": [
    {
     "data": {
      "text/plain": [
       "[3, 4, 56, 7, 67, 6, 7]"
      ]
     },
     "execution_count": 29,
     "metadata": {},
     "output_type": "execute_result"
    }
   ],
   "source": [
    "test(345,56,56,56,5,6,56,56,[3,4,56,7,67,6,7])"
   ]
  },
  {
   "cell_type": "code",
   "execution_count": 30,
   "id": "fb2a6b73",
   "metadata": {},
   "outputs": [],
   "source": [
    "def test():\n",
    "    i = 0\n",
    "    while i< 4:\n",
    "        yield i \n",
    "        i=i+1"
   ]
  },
  {
   "cell_type": "code",
   "execution_count": 31,
   "id": "4c9281f2",
   "metadata": {},
   "outputs": [
    {
     "data": {
      "text/plain": [
       "[0, 1, 2, 3]"
      ]
     },
     "execution_count": 31,
     "metadata": {},
     "output_type": "execute_result"
    }
   ],
   "source": [
    "[i for i in test()]"
   ]
  },
  {
   "cell_type": "markdown",
   "id": "920a580a",
   "metadata": {},
   "source": [
    "## 9th JAN"
   ]
  },
  {
   "cell_type": "code",
   "execution_count": 32,
   "id": "b1a5fe29",
   "metadata": {},
   "outputs": [],
   "source": [
    "# Defination of Generator.\n",
    "# Generator is kind of object which allows you to hold info about a previous data set you have generated \n",
    "# and logic by which you have generated previous data set so that you will be generate next data set."
   ]
  },
  {
   "cell_type": "code",
   "execution_count": 33,
   "id": "030b01c9",
   "metadata": {},
   "outputs": [
    {
     "data": {
      "text/plain": [
       "[0, 3, 6, 9, 12, 15, 18, 21, 24, 27, 30, 33, 36, 39, 42]"
      ]
     },
     "execution_count": 33,
     "metadata": {},
     "output_type": "execute_result"
    }
   ],
   "source": [
    "list(range(0,45,3))"
   ]
  },
  {
   "cell_type": "code",
   "execution_count": 3,
   "id": "7eea3268",
   "metadata": {},
   "outputs": [],
   "source": [
    "def gencube(n) :\n",
    "    l = []\n",
    "    for i in range(n) : \n",
    "        l.append(i**3)\n",
    "    return l"
   ]
  },
  {
   "cell_type": "code",
   "execution_count": 50,
   "id": "01fe4e1a",
   "metadata": {},
   "outputs": [
    {
     "data": {
      "text/plain": [
       "[0, 1, 8, 27, 64, 125]"
      ]
     },
     "execution_count": 50,
     "metadata": {},
     "output_type": "execute_result"
    }
   ],
   "source": [
    "gencube(6)"
   ]
  },
  {
   "cell_type": "code",
   "execution_count": 5,
   "id": "715b46fb",
   "metadata": {},
   "outputs": [
    {
     "data": {
      "text/plain": [
       "[0,\n",
       " 1,\n",
       " 8,\n",
       " 27,\n",
       " 64,\n",
       " 125,\n",
       " 216,\n",
       " 343,\n",
       " 512,\n",
       " 729,\n",
       " 1000,\n",
       " 1331,\n",
       " 1728,\n",
       " 2197,\n",
       " 2744,\n",
       " 3375,\n",
       " 4096,\n",
       " 4913,\n",
       " 5832,\n",
       " 6859,\n",
       " 8000,\n",
       " 9261,\n",
       " 10648,\n",
       " 12167,\n",
       " 13824,\n",
       " 15625,\n",
       " 17576,\n",
       " 19683,\n",
       " 21952,\n",
       " 24389,\n",
       " 27000,\n",
       " 29791,\n",
       " 32768,\n",
       " 35937,\n",
       " 39304,\n",
       " 42875,\n",
       " 46656,\n",
       " 50653,\n",
       " 54872,\n",
       " 59319,\n",
       " 64000,\n",
       " 68921,\n",
       " 74088,\n",
       " 79507,\n",
       " 85184,\n",
       " 91125,\n",
       " 97336,\n",
       " 103823,\n",
       " 110592,\n",
       " 117649,\n",
       " 125000,\n",
       " 132651,\n",
       " 140608,\n",
       " 148877,\n",
       " 157464,\n",
       " 166375,\n",
       " 175616,\n",
       " 185193,\n",
       " 195112,\n",
       " 205379]"
      ]
     },
     "execution_count": 5,
     "metadata": {},
     "output_type": "execute_result"
    }
   ],
   "source": [
    "gencube(60)  # Now see what is happeneing here.. This function is taking some time after calling it and giving \n",
    "             # value to it. why it is taking some time?  Understand this 1st..\n",
    "             # Here it is taking one number from range whatever we had given,squaring itself and appendig into \n",
    "             # the list 'l'. \n",
    "            \n",
    "             # Aftre completion of entire trivarsal of range number and after producing there cube it is \n",
    "             # appendig into the list one by one and it is giving us final o/p when entire list gets created \n",
    "             # In short it is wating till unless and untill entire list gets created. \n",
    "             # so if we call function like gencube(6) so it will print o/p in 2 sec. \n",
    "             # but if call same funtion like this gencube(60).so it will take 6 sec to show o/p.because value \n",
    "             # of n is increase from 6 to 60. so automaticallly time will increase to show the o/p. "
   ]
  },
  {
   "cell_type": "code",
   "execution_count": 53,
   "id": "f89d48ee",
   "metadata": {},
   "outputs": [
    {
     "data": {
      "text/plain": [
       "[0, 1, 2, 3, 4, 5, 6, 7, 8, 9, 10, 11, 12, 13, 14]"
      ]
     },
     "execution_count": 53,
     "metadata": {},
     "output_type": "execute_result"
    }
   ],
   "source": [
    "list(range(0,15)) # here we are getting o/p instantly. why it is so? let us see.\n",
    "                  # range function is not using entire list element then it is trying to give you some \n",
    "                  # sort of record."
   ]
  },
  {
   "cell_type": "code",
   "execution_count": 57,
   "id": "3f30d5d7",
   "metadata": {},
   "outputs": [
    {
     "name": "stdout",
     "output_type": "stream",
     "text": [
      "0\n",
      "1\n",
      "2\n",
      "3\n",
      "4\n",
      "5\n",
      "6\n",
      "7\n",
      "8\n",
      "9\n"
     ]
    }
   ],
   "source": [
    "for i in range(10):  # what is happening over here range function is generating value one by one and giving it \n",
    "     print(i)        # into the consol (i.e. giving us o/p). It will not wait for the complete process."
   ]
  },
  {
   "cell_type": "code",
   "execution_count": 58,
   "id": "33e5cf8b",
   "metadata": {},
   "outputs": [],
   "source": [
    "def gencube(n) :       # what yield is doing here. it is just memorising last value and logic and where we have\n",
    "                         # to stop thats all.   \n",
    "    for i in range(n) :  # There is no need to remembar entir previous no.list to generate following no list.\n",
    "        yield i**3"
   ]
  },
  {
   "cell_type": "code",
   "execution_count": 59,
   "id": "05d93cf4",
   "metadata": {},
   "outputs": [
    {
     "data": {
      "text/plain": [
       "<generator object gencube at 0x7fcc9a2c5cd0>"
      ]
     },
     "execution_count": 59,
     "metadata": {},
     "output_type": "execute_result"
    }
   ],
   "source": [
    "gencube(10)"
   ]
  },
  {
   "cell_type": "code",
   "execution_count": 60,
   "id": "36cb894e",
   "metadata": {},
   "outputs": [
    {
     "name": "stdout",
     "output_type": "stream",
     "text": [
      "0\n",
      "1\n",
      "8\n",
      "27\n",
      "64\n",
      "125\n",
      "216\n",
      "343\n",
      "512\n",
      "729\n"
     ]
    }
   ],
   "source": [
    " for i in gencube(10):\n",
    "        print(i)"
   ]
  },
  {
   "cell_type": "code",
   "execution_count": 70,
   "id": "ad7e9363",
   "metadata": {},
   "outputs": [],
   "source": [
    "# fibonachi series"
   ]
  },
  {
   "cell_type": "code",
   "execution_count": 71,
   "id": "36ff4404",
   "metadata": {},
   "outputs": [],
   "source": [
    "def fib(n): #(n)=(10)\n",
    "    a = 1\n",
    "    b = 1\n",
    "    for i in range(n): ##[0,1,2,3,4,5,6,7,8,9]\n",
    "        yield a,i\n",
    "        a,b = b , a+b\n",
    "\n",
    "#   ith(itration)        a         i    ;    a=b            a+b=b\n",
    "\n",
    "#                        |-----------------------------------|     \n",
    "#                        |                    |----------|   |             \n",
    "#         0th            1         0    ;     1          |  (1+1)=2 \n",
    "#                      (mention            (mention      |-----|  |\n",
    "#                      in above)           in above i.e.          |\n",
    "#                                          in line no 6)          |\n",
    "#                                           |   ------------------|\n",
    "#                                  |--------|   |\n",
    "#                                  |            V\n",
    "#         1st           1          1    ;      2             (1+2)=3\n",
    "#                                           (from above          |\n",
    "#                                           itration)            |\n",
    "#                                 |----------|  |----------------- \n",
    "#                                 |             |\n",
    "#                                 |             V    \n",
    "#         2nd           2         2     ;      3             (2+3)=5\n",
    "#                                           (from above\n",
    "#                                            itration)\n",
    "\n",
    "\n",
    "#         3rd           3         3     ;     5              (3+5)=8         \n",
    "#                                           (from above\n",
    "#                                            itration)\n",
    "\n",
    "\n",
    "#         4th           5         4     ;      8             (8+5)=13\n",
    "#                                           (from above\n",
    "#                                            itration)"
   ]
  },
  {
   "cell_type": "code",
   "execution_count": 72,
   "id": "ddd63f8e",
   "metadata": {},
   "outputs": [
    {
     "name": "stdout",
     "output_type": "stream",
     "text": [
      "(1, 0)\n",
      "(1, 1)\n",
      "(2, 2)\n",
      "(3, 3)\n",
      "(5, 4)\n",
      "(8, 5)\n",
      "(13, 6)\n",
      "(21, 7)\n",
      "(34, 8)\n",
      "(55, 9)\n"
     ]
    }
   ],
   "source": [
    "for i in fib(10):\n",
    "    print(i)"
   ]
  },
  {
   "cell_type": "code",
   "execution_count": 68,
   "id": "b5b942a1",
   "metadata": {},
   "outputs": [],
   "source": [
    "def fib1(n) : \n",
    "    a = 1\n",
    "    b = 1\n",
    "    output = []\n",
    "    for i in range(n) : \n",
    "        output.append(a)\n",
    "        a,b = b , a+b\n",
    "    return output"
   ]
  },
  {
   "cell_type": "code",
   "execution_count": 69,
   "id": "02e53765",
   "metadata": {},
   "outputs": [
    {
     "data": {
      "text/plain": [
       "[1, 1, 2, 3, 5, 8, 13, 21, 34, 55]"
      ]
     },
     "execution_count": 69,
     "metadata": {},
     "output_type": "execute_result"
    }
   ],
   "source": [
    "fib1(10)"
   ]
  },
  {
   "cell_type": "code",
   "execution_count": 73,
   "id": "76629724",
   "metadata": {},
   "outputs": [],
   "source": [
    " ## File System"
   ]
  },
  {
   "cell_type": "code",
   "execution_count": 74,
   "id": "0e8f6c75",
   "metadata": {},
   "outputs": [
    {
     "name": "stdout",
     "output_type": "stream",
     "text": [
      "something in console\n"
     ]
    }
   ],
   "source": [
    "print(\"something in console\")"
   ]
  },
  {
   "cell_type": "code",
   "execution_count": 6,
   "id": "fbeae1ec",
   "metadata": {},
   "outputs": [
    {
     "data": {
      "text/plain": [
       "['In',\n",
       " 'Out',\n",
       " '_',\n",
       " '_1',\n",
       " '_4',\n",
       " '_5',\n",
       " '__',\n",
       " '___',\n",
       " '__builtin__',\n",
       " '__builtins__',\n",
       " '__doc__',\n",
       " '__loader__',\n",
       " '__name__',\n",
       " '__package__',\n",
       " '__spec__',\n",
       " '_dh',\n",
       " '_i',\n",
       " '_i1',\n",
       " '_i2',\n",
       " '_i3',\n",
       " '_i4',\n",
       " '_i5',\n",
       " '_i6',\n",
       " '_ih',\n",
       " '_ii',\n",
       " '_iii',\n",
       " '_oh',\n",
       " 'a',\n",
       " 'exit',\n",
       " 'gencube',\n",
       " 'get_ipython',\n",
       " 'quit',\n",
       " 'test16']"
      ]
     },
     "execution_count": 6,
     "metadata": {},
     "output_type": "execute_result"
    }
   ],
   "source": [
    "dir() # it is going to give me current directory whatever things are available. "
   ]
  },
  {
   "cell_type": "code",
   "execution_count": 98,
   "id": "672326d6",
   "metadata": {},
   "outputs": [],
   "source": [
    "f = open(\"test1.txt\",\"w\") # \" W \"==> Write mode  OR \"r\"==> read mode"
   ]
  },
  {
   "cell_type": "code",
   "execution_count": 99,
   "id": "0f4ffa26",
   "metadata": {},
   "outputs": [
    {
     "name": "stdout",
     "output_type": "stream",
     "text": [
      "1#_iNEURON_PYTHON_4DEC_&_5DEC_2021.ipynb\r\n",
      "2#_iNEURON_PYTHON_18DEC_&_19DEC_2021.ipynb\r\n",
      "3#_iNEURON_PYTHON_20DEC_&_21DEC_2021.ipynb\r\n",
      "4#_iNEURON_PYTHON_23DEC_2021.ipynb\r\n",
      "5#_iNEURON_PYTHON_8JAN_&_9JAN_2021.ipynb\r\n",
      "6#_iNEURON_PYTHON_15JAN_&_16JAN_2021.ipynb\r\n",
      "7#_iNEURON_PYTHON_22JAN_&_23JAN_2021.ipynb\r\n",
      "\u001b[34mApplications\u001b[m\u001b[m\r\n",
      "DATA SCIENCE 1 (NUMPY , PANDAS).ipynb\r\n",
      "DATA SCIENCE 2 (MATPLOTLIB, SEABORN, PANDAS BUILT IN DATA VISUALIZATION, PLOTLY, GEOGRAPHICAL-PLOTING).ipynb\r\n",
      "\u001b[34mDesktop\u001b[m\u001b[m\r\n",
      "\u001b[34mDocuments\u001b[m\u001b[m\r\n",
      "\u001b[34mDownloads\u001b[m\u001b[m\r\n",
      "\u001b[34mLibrary\u001b[m\u001b[m\r\n",
      "\u001b[34mMovies\u001b[m\u001b[m\r\n",
      "\u001b[34mMusic\u001b[m\u001b[m\r\n",
      "PDF & CSV WITH PYTHON .ipynb\r\n",
      "PYTHON 2021.ipynb\r\n",
      "\u001b[34mPictures\u001b[m\u001b[m\r\n",
      "\u001b[34mPublic\u001b[m\u001b[m\r\n",
      "Working_Business_Proposal.pdf\r\n",
      "example.csv\r\n",
      "\u001b[34mseaborn-data\u001b[m\u001b[m\r\n",
      "test.txt\r\n",
      "test1.txt\r\n",
      "test2.txt\r\n",
      "testfile\r\n"
     ]
    }
   ],
   "source": [
    "!ls  # It is going to list of all files which are available in my current system or in my current directory \n",
    "     # so whatere files are avail. it is gonig to give it to us.\n",
    "    \n",
    "    # Now here test1.txt file created see below."
   ]
  },
  {
   "cell_type": "code",
   "execution_count": 100,
   "id": "cf5f50ca",
   "metadata": {},
   "outputs": [
    {
     "data": {
      "text/plain": [
       "'/Users/aniketsatishjoshi'"
      ]
     },
     "execution_count": 100,
     "metadata": {},
     "output_type": "execute_result"
    }
   ],
   "source": [
    "pwd() # it is going to tell me my present directory. pwd means \"Present Working Directory\""
   ]
  },
  {
   "cell_type": "code",
   "execution_count": 101,
   "id": "08cf5d51",
   "metadata": {},
   "outputs": [],
   "source": [
    "f = open(\"test2.txt\",\"w\") # \" W \"==> Write mode  OR \"r\"==> read mode"
   ]
  },
  {
   "cell_type": "code",
   "execution_count": 102,
   "id": "cf81f391",
   "metadata": {},
   "outputs": [
    {
     "name": "stdout",
     "output_type": "stream",
     "text": [
      "1#_iNEURON_PYTHON_4DEC_&_5DEC_2021.ipynb\r\n",
      "2#_iNEURON_PYTHON_18DEC_&_19DEC_2021.ipynb\r\n",
      "3#_iNEURON_PYTHON_20DEC_&_21DEC_2021.ipynb\r\n",
      "4#_iNEURON_PYTHON_23DEC_2021.ipynb\r\n",
      "5#_iNEURON_PYTHON_8JAN_&_9JAN_2021.ipynb\r\n",
      "6#_iNEURON_PYTHON_15JAN_&_16JAN_2021.ipynb\r\n",
      "7#_iNEURON_PYTHON_22JAN_&_23JAN_2021.ipynb\r\n",
      "\u001b[34mApplications\u001b[m\u001b[m\r\n",
      "DATA SCIENCE 1 (NUMPY , PANDAS).ipynb\r\n",
      "DATA SCIENCE 2 (MATPLOTLIB, SEABORN, PANDAS BUILT IN DATA VISUALIZATION, PLOTLY, GEOGRAPHICAL-PLOTING).ipynb\r\n",
      "\u001b[34mDesktop\u001b[m\u001b[m\r\n",
      "\u001b[34mDocuments\u001b[m\u001b[m\r\n",
      "\u001b[34mDownloads\u001b[m\u001b[m\r\n",
      "\u001b[34mLibrary\u001b[m\u001b[m\r\n",
      "\u001b[34mMovies\u001b[m\u001b[m\r\n",
      "\u001b[34mMusic\u001b[m\u001b[m\r\n",
      "PDF & CSV WITH PYTHON .ipynb\r\n",
      "PYTHON 2021.ipynb\r\n",
      "\u001b[34mPictures\u001b[m\u001b[m\r\n",
      "\u001b[34mPublic\u001b[m\u001b[m\r\n",
      "Working_Business_Proposal.pdf\r\n",
      "example.csv\r\n",
      "\u001b[34mseaborn-data\u001b[m\u001b[m\r\n",
      "test.txt\r\n",
      "test1.txt\r\n",
      "test2.txt\r\n",
      "testfile\r\n"
     ]
    }
   ],
   "source": [
    "!ls      # now here we  created 2nd text file."
   ]
  },
  {
   "cell_type": "code",
   "execution_count": 103,
   "id": "338a0e4a",
   "metadata": {},
   "outputs": [],
   "source": [
    "# now if we want to write in any thing into the text file then do following thing\n",
    "f=open('test1.txt',\"w\")"
   ]
  },
  {
   "cell_type": "code",
   "execution_count": 104,
   "id": "36d3b642",
   "metadata": {},
   "outputs": [
    {
     "data": {
      "text/plain": [
       "10"
      ]
     },
     "execution_count": 104,
     "metadata": {},
     "output_type": "execute_result"
    }
   ],
   "source": [
    "f.write(\"this is me\")"
   ]
  },
  {
   "cell_type": "code",
   "execution_count": 105,
   "id": "be714ec0",
   "metadata": {},
   "outputs": [],
   "source": [
    "f.close()"
   ]
  },
  {
   "cell_type": "code",
   "execution_count": 106,
   "id": "5de0b9aa",
   "metadata": {},
   "outputs": [],
   "source": [
    "# In above 'open' 'write' and 'close' all operation. must have to perform.\n",
    "#                                         OR \n",
    "# See below code we can do same operation with help of following code also.\n",
    "\n",
    "# %%writefile test2.txt\n",
    "# this is aniket."
   ]
  },
  {
   "cell_type": "code",
   "execution_count": 107,
   "id": "cc375c60",
   "metadata": {},
   "outputs": [
    {
     "name": "stdout",
     "output_type": "stream",
     "text": [
      "Overwriting test1.txt\n"
     ]
    }
   ],
   "source": [
    "%%writefile test1.txt\n",
    "Hello aniket"
   ]
  },
  {
   "cell_type": "code",
   "execution_count": 108,
   "id": "73b62ac5",
   "metadata": {},
   "outputs": [
    {
     "data": {
      "text/plain": [
       "'Hello aniket\\n'"
      ]
     },
     "execution_count": 108,
     "metadata": {},
     "output_type": "execute_result"
    }
   ],
   "source": [
    "f=open('test1.txt')\n",
    "f.read()"
   ]
  },
  {
   "cell_type": "code",
   "execution_count": 112,
   "id": "496e09d8",
   "metadata": {},
   "outputs": [
    {
     "data": {
      "text/plain": [
       "''"
      ]
     },
     "execution_count": 112,
     "metadata": {},
     "output_type": "execute_result"
    }
   ],
   "source": [
    "f.read() # if execute again it will give us blank ''.\n",
    "# it means end of line of character.\n",
    "# because cursor is avil at last postion in file.\n",
    "\n",
    "# how to bring the cursor at 1st postion if we want to read the file again and again. \n",
    "# ==>use Seek() function "
   ]
  },
  {
   "cell_type": "code",
   "execution_count": 116,
   "id": "2efc33a3",
   "metadata": {},
   "outputs": [
    {
     "data": {
      "text/plain": [
       "'o aniket\\n'"
      ]
     },
     "execution_count": 116,
     "metadata": {},
     "output_type": "execute_result"
    }
   ],
   "source": [
    "f.seek(4) # Here reset the cursor but at 4th index.\n",
    "f.read()"
   ]
  },
  {
   "cell_type": "code",
   "execution_count": 117,
   "id": "63c66d30",
   "metadata": {},
   "outputs": [
    {
     "data": {
      "text/plain": [
       "'Hello aniket\\n'"
      ]
     },
     "execution_count": 117,
     "metadata": {},
     "output_type": "execute_result"
    }
   ],
   "source": [
    "f.seek(0) # Here it help to reset the cursor.\n",
    "f.read()"
   ]
  },
  {
   "cell_type": "code",
   "execution_count": 120,
   "id": "d329f664",
   "metadata": {},
   "outputs": [
    {
     "data": {
      "text/plain": [
       "13"
      ]
     },
     "execution_count": 120,
     "metadata": {},
     "output_type": "execute_result"
    }
   ],
   "source": [
    "f.tell() # It will tell you the position cursor."
   ]
  },
  {
   "cell_type": "code",
   "execution_count": 121,
   "id": "2d084c52",
   "metadata": {},
   "outputs": [],
   "source": [
    "f.close()"
   ]
  },
  {
   "cell_type": "code",
   "execution_count": 122,
   "id": "4a78adbf",
   "metadata": {},
   "outputs": [],
   "source": [
    "f = open(\"test1.txt\" , \"r+\")"
   ]
  },
  {
   "cell_type": "code",
   "execution_count": 123,
   "id": "74bdbff5",
   "metadata": {},
   "outputs": [
    {
     "data": {
      "text/plain": [
       "'Hello aniket\\n'"
      ]
     },
     "execution_count": 123,
     "metadata": {},
     "output_type": "execute_result"
    }
   ],
   "source": [
    "f.read()"
   ]
  },
  {
   "cell_type": "code",
   "execution_count": 124,
   "id": "b366ea9e",
   "metadata": {},
   "outputs": [
    {
     "data": {
      "text/plain": [
       "''"
      ]
     },
     "execution_count": 124,
     "metadata": {},
     "output_type": "execute_result"
    }
   ],
   "source": [
    "f.readline() # here my cursor is at last postion so i will change it."
   ]
  },
  {
   "cell_type": "code",
   "execution_count": 125,
   "id": "fe3c2854",
   "metadata": {},
   "outputs": [
    {
     "data": {
      "text/plain": [
       "13"
      ]
     },
     "execution_count": 125,
     "metadata": {},
     "output_type": "execute_result"
    }
   ],
   "source": [
    "f.tell()"
   ]
  },
  {
   "cell_type": "code",
   "execution_count": 126,
   "id": "ea0a03cf",
   "metadata": {},
   "outputs": [
    {
     "data": {
      "text/plain": [
       "0"
      ]
     },
     "execution_count": 126,
     "metadata": {},
     "output_type": "execute_result"
    }
   ],
   "source": [
    "f.seek(0)"
   ]
  },
  {
   "cell_type": "code",
   "execution_count": 127,
   "id": "3e9b70c4",
   "metadata": {},
   "outputs": [
    {
     "data": {
      "text/plain": [
       "'Hello aniket\\n'"
      ]
     },
     "execution_count": 127,
     "metadata": {},
     "output_type": "execute_result"
    }
   ],
   "source": [
    "f.readline()"
   ]
  },
  {
   "cell_type": "code",
   "execution_count": 128,
   "id": "10c697c4",
   "metadata": {},
   "outputs": [],
   "source": [
    "# Diff between read and read line.\n",
    "\n",
    "# read() will show you entire data but readline() will show you data line by line."
   ]
  },
  {
   "cell_type": "code",
   "execution_count": 129,
   "id": "88fd232a",
   "metadata": {},
   "outputs": [],
   "source": [
    "f = open('google.txt' , \"w\")"
   ]
  },
  {
   "cell_type": "code",
   "execution_count": 130,
   "id": "89ef89f3",
   "metadata": {},
   "outputs": [
    {
     "data": {
      "text/plain": [
       "3006"
      ]
     },
     "execution_count": 130,
     "metadata": {},
     "output_type": "execute_result"
    }
   ],
   "source": [
    "f.write(\"\"\"Google LLC is an American multinational technology company that specializes in Internet-related services and products, which include online advertising technologies, a search engine, cloud computing, software, and hardware. It is considered one of the Big Five companies in the American information technology industry, along with Amazon, Apple, Meta (Facebook) and Microsoft.[10]\n",
    "\n",
    "Google was founded on September 4, 1998, by Larry Page and Sergey Brin while they were Ph.D. students at Stanford University in California. Together they own about 14% of its publicly-listed shares and control 56% of the stockholder voting power through super-voting stock. The company went public via an initial public offering (IPO) in 2004. In 2015, Google was reorganized as a wholly-owned subsidiary of Alphabet Inc.. Google is Alphabet's largest subsidiary and is a holding company for Alphabet's Internet properties and interests. Sundar Pichai was appointed CEO of Google on October 24, 2015, replacing Larry Page, who became the CEO of Alphabet. On December 3, 2019, Pichai also became the CEO of Alphabet.[11]\n",
    "\n",
    "In 2021, the Alphabet Workers Union was founded, mainly composed of Google employees.[12]\n",
    "\n",
    "The company's rapid growth since incorporation has included products, acquisitions, and partnerships beyond Google's core search engine, (Google Search). It offers services designed for work and productivity (Google Docs, Google Sheets, and Google Slides), email (Gmail), scheduling and time management (Google Calendar), cloud storage (Google Drive), instant messaging and video chat (Google Duo, Google Chat, and Google Meet), language translation (Google Translate), mapping and navigation (Google Maps, Waze, Google Earth, and Street View), podcast hosting (Google Podcasts), video sharing (YouTube), blog publishing (Blogger), note-taking (Google Keep and Jamboard), and photo organizing and editing (Google Photos). The company leads the development of the Android mobile operating system, the Google Chrome web browser, and Chrome OS (a lightweight, proprietary operating system based on the free and open-source Chromium OS operating system). Google has moved increasingly into hardware; from 2010 to 2015, it partnered with major electronics manufacturers in the production of its Google Nexus devices, and it released multiple hardware products in 2016, including the Google Pixel line of smartphones, Google Home smart speaker, Google Wifi mesh wireless router. Google has also experimented with becoming an Internet carrier (Google Fiber and Google Fi).\n",
    "\n",
    "Google.com is the most visited website worldwide. Several other Google-owned websites also are on the list of most popular websites, including YouTube and Blogger.[13] On the list of most valuable brands, Google is ranked second by Forbes[14] and fourth by Interbrand.[15] It has received significant criticism involving issues such as privacy concerns, tax avoidance, censorship, search neutrality, antitrust and abuse of its monopoly position.\"\"\")"
   ]
  },
  {
   "cell_type": "code",
   "execution_count": 131,
   "id": "6c70950d",
   "metadata": {},
   "outputs": [],
   "source": [
    "f.close()"
   ]
  },
  {
   "cell_type": "code",
   "execution_count": 133,
   "id": "d22bc6a9",
   "metadata": {},
   "outputs": [],
   "source": [
    "f = open(\"google.txt\",\"r+\")"
   ]
  },
  {
   "cell_type": "code",
   "execution_count": 134,
   "id": "d2cb9cea",
   "metadata": {},
   "outputs": [
    {
     "data": {
      "text/plain": [
       "\"Google LLC is an American multinational technology company that specializes in Internet-related services and products, which include online advertising technologies, a search engine, cloud computing, software, and hardware. It is considered one of the Big Five companies in the American information technology industry, along with Amazon, Apple, Meta (Facebook) and Microsoft.[10]\\n\\nGoogle was founded on September 4, 1998, by Larry Page and Sergey Brin while they were Ph.D. students at Stanford University in California. Together they own about 14% of its publicly-listed shares and control 56% of the stockholder voting power through super-voting stock. The company went public via an initial public offering (IPO) in 2004. In 2015, Google was reorganized as a wholly-owned subsidiary of Alphabet Inc.. Google is Alphabet's largest subsidiary and is a holding company for Alphabet's Internet properties and interests. Sundar Pichai was appointed CEO of Google on October 24, 2015, replacing Larry Page, who became the CEO of Alphabet. On December 3, 2019, Pichai also became the CEO of Alphabet.[11]\\n\\nIn 2021, the Alphabet Workers Union was founded, mainly composed of Google employees.[12]\\n\\nThe company's rapid growth since incorporation has included products, acquisitions, and partnerships beyond Google's core search engine, (Google Search). It offers services designed for work and productivity (Google Docs, Google Sheets, and Google Slides), email (Gmail), scheduling and time management (Google Calendar), cloud storage (Google Drive), instant messaging and video chat (Google Duo, Google Chat, and Google Meet), language translation (Google Translate), mapping and navigation (Google Maps, Waze, Google Earth, and Street View), podcast hosting (Google Podcasts), video sharing (YouTube), blog publishing (Blogger), note-taking (Google Keep and Jamboard), and photo organizing and editing (Google Photos). The company leads the development of the Android mobile operating system, the Google Chrome web browser, and Chrome OS (a lightweight, proprietary operating system based on the free and open-source Chromium OS operating system). Google has moved increasingly into hardware; from 2010 to 2015, it partnered with major electronics manufacturers in the production of its Google Nexus devices, and it released multiple hardware products in 2016, including the Google Pixel line of smartphones, Google Home smart speaker, Google Wifi mesh wireless router. Google has also experimented with becoming an Internet carrier (Google Fiber and Google Fi).\\n\\nGoogle.com is the most visited website worldwide. Several other Google-owned websites also are on the list of most popular websites, including YouTube and Blogger.[13] On the list of most valuable brands, Google is ranked second by Forbes[14] and fourth by Interbrand.[15] It has received significant criticism involving issues such as privacy concerns, tax avoidance, censorship, search neutrality, antitrust and abuse of its monopoly position.\""
      ]
     },
     "execution_count": 134,
     "metadata": {},
     "output_type": "execute_result"
    }
   ],
   "source": [
    "f.read()"
   ]
  },
  {
   "cell_type": "code",
   "execution_count": 135,
   "id": "245a97c1",
   "metadata": {},
   "outputs": [
    {
     "data": {
      "text/plain": [
       "0"
      ]
     },
     "execution_count": 135,
     "metadata": {},
     "output_type": "execute_result"
    }
   ],
   "source": [
    "f.seek(0)"
   ]
  },
  {
   "cell_type": "code",
   "execution_count": 136,
   "id": "ed25a152",
   "metadata": {},
   "outputs": [
    {
     "data": {
      "text/plain": [
       "'Google LLC is an American multinational technology company that specializes in Internet-related services and products, which include online advertising technologies, a search engine, cloud computing, software, and hardware. It is considered one of the Big Five companies in the American information technology industry, along with Amazon, Apple, Meta (Facebook) and Microsoft.[10]\\n'"
      ]
     },
     "execution_count": 136,
     "metadata": {},
     "output_type": "execute_result"
    }
   ],
   "source": [
    "f.readline()"
   ]
  },
  {
   "cell_type": "code",
   "execution_count": 137,
   "id": "5b9eb97f",
   "metadata": {},
   "outputs": [
    {
     "data": {
      "text/plain": [
       "'\\n'"
      ]
     },
     "execution_count": 137,
     "metadata": {},
     "output_type": "execute_result"
    }
   ],
   "source": [
    "f.readline()"
   ]
  },
  {
   "cell_type": "code",
   "execution_count": 138,
   "id": "459f9801",
   "metadata": {},
   "outputs": [
    {
     "data": {
      "text/plain": [
       "\"Google was founded on September 4, 1998, by Larry Page and Sergey Brin while they were Ph.D. students at Stanford University in California. Together they own about 14% of its publicly-listed shares and control 56% of the stockholder voting power through super-voting stock. The company went public via an initial public offering (IPO) in 2004. In 2015, Google was reorganized as a wholly-owned subsidiary of Alphabet Inc.. Google is Alphabet's largest subsidiary and is a holding company for Alphabet's Internet properties and interests. Sundar Pichai was appointed CEO of Google on October 24, 2015, replacing Larry Page, who became the CEO of Alphabet. On December 3, 2019, Pichai also became the CEO of Alphabet.[11]\\n\""
      ]
     },
     "execution_count": 138,
     "metadata": {},
     "output_type": "execute_result"
    }
   ],
   "source": [
    "f.readline()"
   ]
  },
  {
   "cell_type": "code",
   "execution_count": 139,
   "id": "b35ddb50",
   "metadata": {},
   "outputs": [
    {
     "data": {
      "text/plain": [
       "'\\n'"
      ]
     },
     "execution_count": 139,
     "metadata": {},
     "output_type": "execute_result"
    }
   ],
   "source": [
    "f.readline()"
   ]
  },
  {
   "cell_type": "code",
   "execution_count": 140,
   "id": "0c45c4a0",
   "metadata": {},
   "outputs": [
    {
     "data": {
      "text/plain": [
       "'In 2021, the Alphabet Workers Union was founded, mainly composed of Google employees.[12]\\n'"
      ]
     },
     "execution_count": 140,
     "metadata": {},
     "output_type": "execute_result"
    }
   ],
   "source": [
    "f.readline()"
   ]
  },
  {
   "cell_type": "code",
   "execution_count": 141,
   "id": "ea267e99",
   "metadata": {},
   "outputs": [
    {
     "data": {
      "text/plain": [
       "'\\n'"
      ]
     },
     "execution_count": 141,
     "metadata": {},
     "output_type": "execute_result"
    }
   ],
   "source": [
    "f.readline()"
   ]
  },
  {
   "cell_type": "code",
   "execution_count": 142,
   "id": "327d65eb",
   "metadata": {},
   "outputs": [
    {
     "data": {
      "text/plain": [
       "\"The company's rapid growth since incorporation has included products, acquisitions, and partnerships beyond Google's core search engine, (Google Search). It offers services designed for work and productivity (Google Docs, Google Sheets, and Google Slides), email (Gmail), scheduling and time management (Google Calendar), cloud storage (Google Drive), instant messaging and video chat (Google Duo, Google Chat, and Google Meet), language translation (Google Translate), mapping and navigation (Google Maps, Waze, Google Earth, and Street View), podcast hosting (Google Podcasts), video sharing (YouTube), blog publishing (Blogger), note-taking (Google Keep and Jamboard), and photo organizing and editing (Google Photos). The company leads the development of the Android mobile operating system, the Google Chrome web browser, and Chrome OS (a lightweight, proprietary operating system based on the free and open-source Chromium OS operating system). Google has moved increasingly into hardware; from 2010 to 2015, it partnered with major electronics manufacturers in the production of its Google Nexus devices, and it released multiple hardware products in 2016, including the Google Pixel line of smartphones, Google Home smart speaker, Google Wifi mesh wireless router. Google has also experimented with becoming an Internet carrier (Google Fiber and Google Fi).\\n\""
      ]
     },
     "execution_count": 142,
     "metadata": {},
     "output_type": "execute_result"
    }
   ],
   "source": [
    "f.readline()"
   ]
  },
  {
   "cell_type": "code",
   "execution_count": 143,
   "id": "05d19b18",
   "metadata": {},
   "outputs": [
    {
     "data": {
      "text/plain": [
       "'\\n'"
      ]
     },
     "execution_count": 143,
     "metadata": {},
     "output_type": "execute_result"
    }
   ],
   "source": [
    "f.readline()"
   ]
  },
  {
   "cell_type": "code",
   "execution_count": 144,
   "id": "319df571",
   "metadata": {},
   "outputs": [
    {
     "data": {
      "text/plain": [
       "'Google.com is the most visited website worldwide. Several other Google-owned websites also are on the list of most popular websites, including YouTube and Blogger.[13] On the list of most valuable brands, Google is ranked second by Forbes[14] and fourth by Interbrand.[15] It has received significant criticism involving issues such as privacy concerns, tax avoidance, censorship, search neutrality, antitrust and abuse of its monopoly position.'"
      ]
     },
     "execution_count": 144,
     "metadata": {},
     "output_type": "execute_result"
    }
   ],
   "source": [
    "f.readline()"
   ]
  },
  {
   "cell_type": "code",
   "execution_count": 147,
   "id": "e93bd4e5",
   "metadata": {},
   "outputs": [],
   "source": [
    "f.close()"
   ]
  },
  {
   "cell_type": "code",
   "execution_count": 148,
   "id": "91a95d66",
   "metadata": {},
   "outputs": [
    {
     "name": "stdout",
     "output_type": "stream",
     "text": [
      "Google LLC is an American multinational technology company that specializes in Internet-related services and products, which include online advertising technologies, a search engine, cloud computing, software, and hardware. It is considered one of the Big Five companies in the American information technology industry, along with Amazon, Apple, Meta (Facebook) and Microsoft.[10]\n",
      " \n",
      " Google was founded on September 4, 1998, by Larry Page and Sergey Brin while they were Ph.D. students at Stanford University in California. Together they own about 14% of its publicly-listed shares and control 56% of the stockholder voting power through super-voting stock. The company went public via an initial public offering (IPO) in 2004. In 2015, Google was reorganized as a wholly-owned subsidiary of Alphabet Inc.. Google is Alphabet's largest subsidiary and is a holding company for Alphabet's Internet properties and interests. Sundar Pichai was appointed CEO of Google on October 24, 2015, replacing Larry Page, who became the CEO of Alphabet. On December 3, 2019, Pichai also became the CEO of Alphabet.[11]\n",
      " \n",
      " In 2021, the Alphabet Workers Union was founded, mainly composed of Google employees.[12]\n",
      " \n",
      " The company's rapid growth since incorporation has included products, acquisitions, and partnerships beyond Google's core search engine, (Google Search). It offers services designed for work and productivity (Google Docs, Google Sheets, and Google Slides), email (Gmail), scheduling and time management (Google Calendar), cloud storage (Google Drive), instant messaging and video chat (Google Duo, Google Chat, and Google Meet), language translation (Google Translate), mapping and navigation (Google Maps, Waze, Google Earth, and Street View), podcast hosting (Google Podcasts), video sharing (YouTube), blog publishing (Blogger), note-taking (Google Keep and Jamboard), and photo organizing and editing (Google Photos). The company leads the development of the Android mobile operating system, the Google Chrome web browser, and Chrome OS (a lightweight, proprietary operating system based on the free and open-source Chromium OS operating system). Google has moved increasingly into hardware; from 2010 to 2015, it partnered with major electronics manufacturers in the production of its Google Nexus devices, and it released multiple hardware products in 2016, including the Google Pixel line of smartphones, Google Home smart speaker, Google Wifi mesh wireless router. Google has also experimented with becoming an Internet carrier (Google Fiber and Google Fi).\n",
      " \n",
      " Google.com is the most visited website worldwide. Several other Google-owned websites also are on the list of most popular websites, including YouTube and Blogger.[13] On the list of most valuable brands, Google is ranked second by Forbes[14] and fourth by Interbrand.[15] It has received significant criticism involving issues such as privacy concerns, tax avoidance, censorship, search neutrality, antitrust and abuse of its monopoly position. "
     ]
    }
   ],
   "source": [
    "f = open(\"google.txt\" , \"r+\")    # IMP code\n",
    "for line in f :\n",
    "    print(line , end = \" \")"
   ]
  },
  {
   "cell_type": "code",
   "execution_count": 14,
   "id": "34916c83",
   "metadata": {},
   "outputs": [
    {
     "data": {
      "text/plain": [
       "22"
      ]
     },
     "execution_count": 14,
     "metadata": {},
     "output_type": "execute_result"
    }
   ],
   "source": [
    "f.write(\"fsadasfsa dsaf asf saf\")"
   ]
  },
  {
   "cell_type": "code",
   "execution_count": 15,
   "id": "f372657f",
   "metadata": {},
   "outputs": [],
   "source": [
    "f.close()"
   ]
  },
  {
   "cell_type": "code",
   "execution_count": 16,
   "id": "0932d67e",
   "metadata": {},
   "outputs": [],
   "source": [
    "f = open(\"google.txt\",\"r+\") # \"r+\" means it try to open file in writing and reading mode."
   ]
  },
  {
   "cell_type": "code",
   "execution_count": 17,
   "id": "3e079f16",
   "metadata": {},
   "outputs": [
    {
     "data": {
      "text/plain": [
       "5"
      ]
     },
     "execution_count": 17,
     "metadata": {},
     "output_type": "execute_result"
    }
   ],
   "source": [
    "f.seek(5)"
   ]
  },
  {
   "cell_type": "code",
   "execution_count": 18,
   "id": "c8502659",
   "metadata": {},
   "outputs": [
    {
     "data": {
      "text/plain": [
       "41"
      ]
     },
     "execution_count": 18,
     "metadata": {},
     "output_type": "execute_result"
    }
   ],
   "source": [
    "f.write(\"this is my file write op at 5th locatoin \")"
   ]
  },
  {
   "cell_type": "code",
   "execution_count": 19,
   "id": "7282ba9f",
   "metadata": {},
   "outputs": [],
   "source": [
    "f.close()"
   ]
  },
  {
   "cell_type": "code",
   "execution_count": 12,
   "id": "95301fd5",
   "metadata": {},
   "outputs": [
    {
     "name": "stdout",
     "output_type": "stream",
     "text": [
      "\u001b[30m\u001b[43m MongoDB\u001b[m\u001b[m/\r\n",
      "1#_iNEURON_PYTHON_4DEC_&_5DEC_2021.ipynb\r\n",
      "10#_iNEURON_PYTHON_12FEB_&_13FEB_2022.ipynb\r\n",
      "10.1#_iNEURON_PYTHON_12FEB_&_13FEB_2022.ipynb\r\n",
      "10.2#_iNEURON_PYTHON_12FEB_&_13FEB_2022.ipynb\r\n",
      "11#_iNEURON_PYTHON_19FEB_&_20FEB_2022.ipynb\r\n",
      "12#_iNEURON_PYTHON_26FEB_&_27FEB_2022.ipynb\r\n",
      "2#_iNEURON_PYTHON_18DEC_&_19DEC_2021.ipynb\r\n",
      "3#_iNEURON_PYTHON_20DEC_&_21DEC_2021.ipynb\r\n",
      "4#_iNEURON_PYTHON_23DEC_2021.ipynb\r\n",
      "5#_iNEURON_PYTHON_8JAN_&_9JAN_2022.ipynb\r\n",
      "6#_iNEURON_PYTHON_15JAN_&_16JAN_2022.ipynb\r\n",
      "7#_iNEURON_PYTHON_22JAN_&_23JAN_2022.ipynb\r\n",
      "7.1#_iNEURON_PYTHON_22JAN_&_23JAN_2022.ipynb\r\n",
      "8#_iNEURON_PYTHON_29JAN_&_30JAN_2022.ipynb\r\n",
      "9#_iNEURON_PYTHON_5FEB_&_6FEB_2022.ipynb\r\n",
      "\u001b[34mDATA SET\u001b[m\u001b[m/\r\n",
      "\u001b[34mFILES\u001b[m\u001b[m/\r\n",
      "\u001b[34mPycharmProjects\u001b[m\u001b[m/\r\n",
      "glass.csv\r\n",
      "glass.data\r\n",
      "google.txt\r\n",
      "ineuron.db\r\n",
      "jobdb.db\r\n",
      "person.db\r\n"
     ]
    }
   ],
   "source": [
    "%ls"
   ]
  },
  {
   "cell_type": "code",
   "execution_count": 11,
   "id": "f67a8da0",
   "metadata": {},
   "outputs": [
    {
     "data": {
      "text/plain": [
       "'/Users/aniketsatishjoshi/Downloads/iNeuron/LECTURES'"
      ]
     },
     "execution_count": 11,
     "metadata": {},
     "output_type": "execute_result"
    }
   ],
   "source": [
    "pwd()"
   ]
  },
  {
   "cell_type": "code",
   "execution_count": 13,
   "id": "242820af",
   "metadata": {},
   "outputs": [],
   "source": [
    "f = open(\"google.txt\" , \"r+\")"
   ]
  },
  {
   "cell_type": "code",
   "execution_count": 14,
   "id": "4b49a464",
   "metadata": {},
   "outputs": [
    {
     "data": {
      "text/plain": [
       "['Googlthis is my file write op at 5th locatoin logy company that specializes in Internet-related services and products, which include online advertising technologies, a search engine, cloud computing, software, and hardware. It is considered one of the Big Five companies in the American information technology industry, along with Amazon, Apple, Meta (Facebook) and Microsoft.[10]\\n',\n",
       " '\\n',\n",
       " \"Google was founded on September 4, 1998, by Larry Page and Sergey Brin while they were Ph.D. students at Stanford University in California. Together they own about 14% of its publicly-listed shares and control 56% of the stockholder voting power through super-voting stock. The company went public via an initial public offering (IPO) in 2004. In 2015, Google was reorganized as a wholly-owned subsidiary of Alphabet Inc.. Google is Alphabet's largest subsidiary and is a holding company for Alphabet's Internet properties and interests. Sundar Pichai was appointed CEO of Google on October 24, 2015, replacing Larry Page, who became the CEO of Alphabet. On December 3, 2019, Pichai also became the CEO of Alphabet.[11]\\n\",\n",
       " '\\n',\n",
       " 'In 2021, the Alphabet Workers Union was founded, mainly composed of Google employees.[12]\\n',\n",
       " '\\n',\n",
       " \"The company's rapid growth since incorporation has included products, acquisitions, and partnerships beyond Google's core search engine, (Google Search). It offers services designed for work and productivity (Google Docs, Google Sheets, and Google Slides), email (Gmail), scheduling and time management (Google Calendar), cloud storage (Google Drive), instant messaging and video chat (Google Duo, Google Chat, and Google Meet), language translation (Google Translate), mapping and navigation (Google Maps, Waze, Google Earth, and Street View), podcast hosting (Google Podcasts), video sharing (YouTube), blog publishing (Blogger), note-taking (Google Keep and Jamboard), and photo organizing and editing (Google Photos). The company leads the development of the Android mobile operating system, the Google Chrome web browser, and Chrome OS (a lightweight, proprietary operating system based on the free and open-source Chromium OS operating system). Google has moved increasingly into hardware; from 2010 to 2015, it partnered with major electronics manufacturers in the production of its Google Nexus devices, and it released multiple hardware products in 2016, including the Google Pixel line of smartphones, Google Home smart speaker, Google Wifi mesh wireless router. Google has also experimented with becoming an Internet carrier (Google Fiber and Google Fi).\\n\",\n",
       " '\\n',\n",
       " 'Google.com is the most visited website worldwide. Several other Google-owned websites also are on the list of most popular websites, including YouTube and Blogger.[13] On the list of most valuable brands, Google is ranked second by Forbes[14] and fourth by Interbrand.[15] It has received significant criticism involving issues such as privacy concerns, tax avoidance, censorship, search neutrality, antitrust and abuse of its monopoly position.fsadasfsa dsaf asf saf']"
      ]
     },
     "execution_count": 14,
     "metadata": {},
     "output_type": "execute_result"
    }
   ],
   "source": [
    "f.readlines()  # Readlines means it is giving each lines seperatly in list format. "
   ]
  },
  {
   "cell_type": "code",
   "execution_count": 15,
   "id": "d4f82773",
   "metadata": {},
   "outputs": [
    {
     "data": {
      "text/plain": [
       "0"
      ]
     },
     "execution_count": 15,
     "metadata": {},
     "output_type": "execute_result"
    }
   ],
   "source": [
    "len(f.readlines()) # it means there are total 9 lines"
   ]
  },
  {
   "cell_type": "code",
   "execution_count": 16,
   "id": "f728109e",
   "metadata": {},
   "outputs": [
    {
     "data": {
      "text/plain": [
       "0"
      ]
     },
     "execution_count": 16,
     "metadata": {},
     "output_type": "execute_result"
    }
   ],
   "source": [
    "f.seek(0)"
   ]
  },
  {
   "cell_type": "code",
   "execution_count": 17,
   "id": "6f4422e1",
   "metadata": {},
   "outputs": [
    {
     "data": {
      "text/plain": [
       "9"
      ]
     },
     "execution_count": 17,
     "metadata": {},
     "output_type": "execute_result"
    }
   ],
   "source": [
    "len(f.readlines()) # it means there are total 9 lines"
   ]
  },
  {
   "cell_type": "code",
   "execution_count": 18,
   "id": "eac8fcda",
   "metadata": {},
   "outputs": [],
   "source": [
    "l = f.readlines()"
   ]
  },
  {
   "cell_type": "code",
   "execution_count": 19,
   "id": "b0f1287a",
   "metadata": {},
   "outputs": [
    {
     "data": {
      "text/plain": [
       "[]"
      ]
     },
     "execution_count": 19,
     "metadata": {},
     "output_type": "execute_result"
    }
   ],
   "source": [
    "l"
   ]
  },
  {
   "cell_type": "code",
   "execution_count": 20,
   "id": "bd89a9e7",
   "metadata": {},
   "outputs": [
    {
     "ename": "IndexError",
     "evalue": "list index out of range",
     "output_type": "error",
     "traceback": [
      "\u001b[0;31m---------------------------------------------------------------------------\u001b[0m",
      "\u001b[0;31mIndexError\u001b[0m                                Traceback (most recent call last)",
      "\u001b[0;32m/var/folders/g0/424mq_gn0jq76h7qlxtqdg_h0000gn/T/ipykernel_17373/1503729234.py\u001b[0m in \u001b[0;36m<module>\u001b[0;34m\u001b[0m\n\u001b[1;32m      1\u001b[0m \u001b[0ml1\u001b[0m  \u001b[0;34m=\u001b[0m \u001b[0;34m[\u001b[0m\u001b[0;34m]\u001b[0m\u001b[0;34m\u001b[0m\u001b[0;34m\u001b[0m\u001b[0m\n\u001b[0;32m----> 2\u001b[0;31m \u001b[0;32mfor\u001b[0m \u001b[0mi\u001b[0m \u001b[0;32min\u001b[0m \u001b[0ml\u001b[0m\u001b[0;34m[\u001b[0m\u001b[0;36m0\u001b[0m\u001b[0;34m]\u001b[0m\u001b[0;34m.\u001b[0m\u001b[0msplit\u001b[0m\u001b[0;34m(\u001b[0m\u001b[0;34m)\u001b[0m\u001b[0;34m:\u001b[0m\u001b[0;34m\u001b[0m\u001b[0;34m\u001b[0m\u001b[0m\n\u001b[0m\u001b[1;32m      3\u001b[0m     \u001b[0ml1\u001b[0m\u001b[0;34m.\u001b[0m\u001b[0mappend\u001b[0m\u001b[0;34m(\u001b[0m\u001b[0mi\u001b[0m\u001b[0;34m[\u001b[0m\u001b[0;36m0\u001b[0m\u001b[0;34m]\u001b[0m\u001b[0;34m)\u001b[0m\u001b[0;34m\u001b[0m\u001b[0;34m\u001b[0m\u001b[0m\n",
      "\u001b[0;31mIndexError\u001b[0m: list index out of range"
     ]
    }
   ],
   "source": [
    "l1  = []\n",
    "for i in l[0].split():\n",
    "    l1.append(i[0])"
   ]
  },
  {
   "cell_type": "code",
   "execution_count": 36,
   "id": "7b020d3c",
   "metadata": {},
   "outputs": [
    {
     "data": {
      "text/plain": [
       "[]"
      ]
     },
     "execution_count": 36,
     "metadata": {},
     "output_type": "execute_result"
    }
   ],
   "source": [
    "l1"
   ]
  },
  {
   "cell_type": "code",
   "execution_count": null,
   "id": "0eb78df7",
   "metadata": {},
   "outputs": [],
   "source": [
    "## SOME IMP MODE\n",
    "\n",
    "r\tOnly for reading. The pointer is located at the start of file and it’s a default mode.\n",
    "rb\tOnly for reading in a binary format. The pointer is located at the start of file and it’s a default mode.\n",
    "r+\tTo opens a file for the both writing and reading. The pointer is located at the start of file.\n",
    "rb+\tFor the both writing and reading operation in binary format. The pointer is located at the start of file.\n",
    "w\tOnly for writing. Check for existing file, if its present overwrites in the exists file. If there is no any existing file then, makes a novel file for the writing.\n",
    "wb\tOnly for writing in a binary format. Check for existing file, if its present overwrites in the exists file. If there is no any existing file then, makes a novel file for the writing.\n",
    "w+\tFor the both writing and reading operation. Check for existing file, if its present overwrites in the exists file. If there is no any existing file then, makes a novel file for the writing and reading.\n",
    "wb+\tFor the both writing and reading operation in binary format. Check for existing file, if its present overwrites in the exists file. If there is no any existing file then, makes a novel file for the writing and reading.\n",
    "a\topens the file for appending; any data written to the file is automatically added to the end. Check for existing file, if its present pointer is set at last of existing file for appending operation. If there is no any existing file then, makes a novel file for the writing."
   ]
  },
  {
   "cell_type": "code",
   "execution_count": 38,
   "id": "7f4b5a6d",
   "metadata": {},
   "outputs": [],
   "source": [
    "# to delete file do following steps\n",
    "import os"
   ]
  },
  {
   "cell_type": "code",
   "execution_count": 39,
   "id": "e08d69e2",
   "metadata": {},
   "outputs": [],
   "source": [
    "os.remove(\"test2.txt\") # file removed"
   ]
  },
  {
   "cell_type": "code",
   "execution_count": 40,
   "id": "2139359d",
   "metadata": {},
   "outputs": [
    {
     "data": {
      "text/plain": [
       "'/Users/aniketsatishjoshi'"
      ]
     },
     "execution_count": 40,
     "metadata": {},
     "output_type": "execute_result"
    }
   ],
   "source": [
    "os.getcwd()"
   ]
  },
  {
   "cell_type": "code",
   "execution_count": null,
   "id": "9360c264",
   "metadata": {},
   "outputs": [],
   "source": []
  }
 ],
 "metadata": {
  "kernelspec": {
   "display_name": "Python 3 (ipykernel)",
   "language": "python",
   "name": "python3"
  },
  "language_info": {
   "codemirror_mode": {
    "name": "ipython",
    "version": 3
   },
   "file_extension": ".py",
   "mimetype": "text/x-python",
   "name": "python",
   "nbconvert_exporter": "python",
   "pygments_lexer": "ipython3",
   "version": "3.7.7"
  }
 },
 "nbformat": 4,
 "nbformat_minor": 5
}
