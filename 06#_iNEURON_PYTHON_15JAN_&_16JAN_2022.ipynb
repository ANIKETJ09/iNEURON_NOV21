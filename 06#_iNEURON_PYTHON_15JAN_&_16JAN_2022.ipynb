{
 "cells": [
  {
   "cell_type": "markdown",
   "id": "21673692",
   "metadata": {},
   "source": [
    "## 15th JAN 2022"
   ]
  },
  {
   "cell_type": "markdown",
   "id": "a39b23d0",
   "metadata": {},
   "source": [
    " # EXCEPTION HANDALLING"
   ]
  },
  {
   "cell_type": "code",
   "execution_count": 2,
   "id": "68d16ef0",
   "metadata": {},
   "outputs": [
    {
     "data": {
      "text/plain": [
       "0.5"
      ]
     },
     "execution_count": 2,
     "metadata": {},
     "output_type": "execute_result"
    }
   ],
   "source": [
    "a=5\n",
    "a/10"
   ]
  },
  {
   "cell_type": "code",
   "execution_count": 3,
   "id": "c7eddbaa",
   "metadata": {},
   "outputs": [
    {
     "ename": "ZeroDivisionError",
     "evalue": "division by zero",
     "output_type": "error",
     "traceback": [
      "\u001b[0;31m---------------------------------------------------------------------------\u001b[0m",
      "\u001b[0;31mZeroDivisionError\u001b[0m                         Traceback (most recent call last)",
      "\u001b[0;32m<ipython-input-3-deacdc4ccabc>\u001b[0m in \u001b[0;36m<module>\u001b[0;34m\u001b[0m\n\u001b[0;32m----> 1\u001b[0;31m \u001b[0ma\u001b[0m\u001b[0;34m/\u001b[0m\u001b[0;36m0\u001b[0m\u001b[0;34m\u001b[0m\u001b[0;34m\u001b[0m\u001b[0m\n\u001b[0m",
      "\u001b[0;31mZeroDivisionError\u001b[0m: division by zero"
     ]
    }
   ],
   "source": [
    "a/0"
   ]
  },
  {
   "cell_type": "code",
   "execution_count": 4,
   "id": "8966cbdf",
   "metadata": {},
   "outputs": [
    {
     "name": "stdout",
     "output_type": "stream",
     "text": [
      "9\n"
     ]
    },
    {
     "data": {
      "text/plain": [
       "0.5555555555555556"
      ]
     },
     "execution_count": 4,
     "metadata": {},
     "output_type": "execute_result"
    }
   ],
   "source": [
    "a = 5\n",
    "b = int(input())\n",
    "a/b"
   ]
  },
  {
   "cell_type": "code",
   "execution_count": 5,
   "id": "99bbe085",
   "metadata": {},
   "outputs": [
    {
     "name": "stdout",
     "output_type": "stream",
     "text": [
      "0\n"
     ]
    },
    {
     "ename": "ZeroDivisionError",
     "evalue": "division by zero",
     "output_type": "error",
     "traceback": [
      "\u001b[0;31m---------------------------------------------------------------------------\u001b[0m",
      "\u001b[0;31mZeroDivisionError\u001b[0m                         Traceback (most recent call last)",
      "\u001b[0;32m<ipython-input-5-a1585f436dde>\u001b[0m in \u001b[0;36m<module>\u001b[0;34m\u001b[0m\n\u001b[1;32m      1\u001b[0m \u001b[0ma\u001b[0m \u001b[0;34m=\u001b[0m \u001b[0;36m5\u001b[0m\u001b[0;34m\u001b[0m\u001b[0;34m\u001b[0m\u001b[0m\n\u001b[1;32m      2\u001b[0m \u001b[0mb\u001b[0m \u001b[0;34m=\u001b[0m \u001b[0mint\u001b[0m\u001b[0;34m(\u001b[0m\u001b[0minput\u001b[0m\u001b[0;34m(\u001b[0m\u001b[0;34m)\u001b[0m\u001b[0;34m)\u001b[0m\u001b[0;34m\u001b[0m\u001b[0;34m\u001b[0m\u001b[0m\n\u001b[0;32m----> 3\u001b[0;31m \u001b[0ma\u001b[0m\u001b[0;34m/\u001b[0m\u001b[0mb\u001b[0m\u001b[0;34m\u001b[0m\u001b[0;34m\u001b[0m\u001b[0m\n\u001b[0m",
      "\u001b[0;31mZeroDivisionError\u001b[0m: division by zero"
     ]
    }
   ],
   "source": [
    "a = 5\n",
    "b = int(input())\n",
    "a/b\n",
    "\n",
    "# Code wise and syntax wise there is no error. \n",
    "# but it will show error i.e. runtime error."
   ]
  },
  {
   "cell_type": "code",
   "execution_count": 9,
   "id": "4eaece80",
   "metadata": {},
   "outputs": [
    {
     "data": {
      "text/plain": [
       "20"
      ]
     },
     "execution_count": 9,
     "metadata": {},
     "output_type": "execute_result"
    }
   ],
   "source": [
    "f = open(\"test.txt\" , \"w\")\n",
    "f.write(\"fsadffsdff fsaf dsaf\")"
   ]
  },
  {
   "cell_type": "code",
   "execution_count": 11,
   "id": "8ace8836",
   "metadata": {},
   "outputs": [
    {
     "ename": "UnsupportedOperation",
     "evalue": "not writable",
     "output_type": "error",
     "traceback": [
      "\u001b[0;31m---------------------------------------------------------------------------\u001b[0m",
      "\u001b[0;31mUnsupportedOperation\u001b[0m                      Traceback (most recent call last)",
      "\u001b[0;32m<ipython-input-11-f1a4ab9f341c>\u001b[0m in \u001b[0;36m<module>\u001b[0;34m\u001b[0m\n\u001b[1;32m      1\u001b[0m \u001b[0mf\u001b[0m \u001b[0;34m=\u001b[0m \u001b[0mopen\u001b[0m\u001b[0;34m(\u001b[0m\u001b[0;34m\"test.txt\"\u001b[0m \u001b[0;34m,\u001b[0m \u001b[0;34m\"r\"\u001b[0m\u001b[0;34m)\u001b[0m      \u001b[0;31m# here we are opening file in read mode and we if are try to write any thing\u001b[0m\u001b[0;34m\u001b[0m\u001b[0;34m\u001b[0m\u001b[0m\n\u001b[1;32m      2\u001b[0m                                 \u001b[0;31m# into it. so it will give us error.\u001b[0m\u001b[0;34m\u001b[0m\u001b[0;34m\u001b[0m\u001b[0;34m\u001b[0m\u001b[0m\n\u001b[0;32m----> 3\u001b[0;31m \u001b[0mf\u001b[0m\u001b[0;34m.\u001b[0m\u001b[0mwrite\u001b[0m\u001b[0;34m(\u001b[0m\u001b[0;34m\"fsadffsdff fsaf dsaf\"\u001b[0m\u001b[0;34m)\u001b[0m \u001b[0;31m# Here it will not execute 3rd line i.e print() because as we know that every code\u001b[0m\u001b[0;34m\u001b[0m\u001b[0;34m\u001b[0m\u001b[0m\n\u001b[0m\u001b[1;32m      4\u001b[0m                                 \u001b[0;31m# execute's itself line by line.\u001b[0m\u001b[0;34m\u001b[0m\u001b[0;34m\u001b[0m\u001b[0;34m\u001b[0m\u001b[0m\n\u001b[1;32m      5\u001b[0m \u001b[0;34m\u001b[0m\u001b[0m\n",
      "\u001b[0;31mUnsupportedOperation\u001b[0m: not writable"
     ]
    }
   ],
   "source": [
    "f = open(\"test.txt\" , \"r\")     # here we are opening file in read mode and we if are try to write any thing \n",
    "                               # into it. so it will give us error.\n",
    "f.write(\"fsadffsdff fsaf dsaf\")# Here it will not execute 3rd line i.e print() because as we know that every \n",
    "                               # code execute's itself line by line so after executing 2 nd line it will show \n",
    "                               # Error and execution processes stop and it will not execute next line of code.\n",
    "print(\"this is my code \")  \n",
    "\n",
    "#                               But see the following code."
   ]
  },
  {
   "cell_type": "code",
   "execution_count": 8,
   "id": "ca86202e",
   "metadata": {},
   "outputs": [
    {
     "name": "stdout",
     "output_type": "stream",
     "text": [
      "there was mistake \n",
      "this is my code \n"
     ]
    }
   ],
   "source": [
    "try:                             # It just a block which protect your entire code.\n",
    "    \n",
    "    f = open('test.txt' , \" r\")  # Here it will not give any kind of Error as above, it will execute \n",
    "                                 # except: command, and will not show any kind of Error.\n",
    "    f.write(\"fdsfds\")\n",
    "except:                          # Here it will execute code line by line but after executing 3rd line it will\n",
    "    print(\"there was mistake \")  # not gives us error. Because of try and except function used in code.\n",
    "\n",
    "    print(\"this is my code \")    # see one thing that after execution of line no 7 as part of try and except \n",
    "                                 # block it is executing the further line of code also i.e line no 9.\n",
    "\n",
    "# If we use 'try block' then after that 'except block' should be used. and try and except block is work for \n",
    "# compile(run time error)only not for other."
   ]
  },
  {
   "cell_type": "code",
   "execution_count": 1,
   "id": "a42a68e6",
   "metadata": {},
   "outputs": [
    {
     "ename": "SyntaxError",
     "evalue": "invalid syntax (2346094588.py, line 7)",
     "output_type": "error",
     "traceback": [
      "\u001b[0;36m  File \u001b[0;32m\"/var/folders/g0/424mq_gn0jq76h7qlxtqdg_h0000gn/T/ipykernel_17379/2346094588.py\"\u001b[0;36m, line \u001b[0;32m7\u001b[0m\n\u001b[0;31m    for i range(len(l)) :\u001b[0m\n\u001b[0m              ^\u001b[0m\n\u001b[0;31mSyntaxError\u001b[0m\u001b[0;31m:\u001b[0m invalid syntax\n"
     ]
    }
   ],
   "source": [
    "## Now after execution of the following code we will get an error. which is syntactcal error. \n",
    "# Means error in writing code. So in try and except logic \" syntactcal type of error\" colud not be protected.\n",
    "\n",
    "l = [4,5,6,7,8,8,9,0]\n",
    "try :\n",
    "    \n",
    "    for i range(len(l)) : \n",
    "        print(l[i])\n",
    "except:\n",
    "    print(\"this is my code\")"
   ]
  },
  {
   "cell_type": "code",
   "execution_count": 2,
   "id": "bbd63d8b",
   "metadata": {},
   "outputs": [
    {
     "name": "stdout",
     "output_type": "stream",
     "text": [
      "[4, 5, 6, 7, 8, 8, 9, 0]\n",
      "[4, 5, 6, 7, 8, 8, 9, 0]\n",
      "[4, 5, 6, 7, 8, 8, 9, 0]\n",
      "[4, 5, 6, 7, 8, 8, 9, 0]\n",
      "[4, 5, 6, 7, 8, 8, 9, 0]\n",
      "[4, 5, 6, 7, 8, 8, 9, 0]\n",
      "[4, 5, 6, 7, 8, 8, 9, 0]\n",
      "[4, 5, 6, 7, 8, 8, 9, 0]\n",
      "[4, 5, 6, 7, 8, 8, 9, 0]\n"
     ]
    }
   ],
   "source": [
    "l = [4,5,6,7,8,8,9,0]\n",
    "for i in range(len(l)+1) :\n",
    "    print(l)"
   ]
  },
  {
   "cell_type": "code",
   "execution_count": 15,
   "id": "ecb8bc7c",
   "metadata": {},
   "outputs": [
    {
     "name": "stdout",
     "output_type": "stream",
     "text": [
      "4\n",
      "5\n",
      "6\n",
      "7\n",
      "8\n",
      "8\n",
      "9\n",
      "0\n"
     ]
    },
    {
     "ename": "IndexError",
     "evalue": "list index out of range",
     "output_type": "error",
     "traceback": [
      "\u001b[0;31m---------------------------------------------------------------------------\u001b[0m",
      "\u001b[0;31mIndexError\u001b[0m                                Traceback (most recent call last)",
      "\u001b[0;32m<ipython-input-15-2f23bc429005>\u001b[0m in \u001b[0;36m<module>\u001b[0;34m\u001b[0m\n\u001b[1;32m      2\u001b[0m \u001b[0;34m\u001b[0m\u001b[0m\n\u001b[1;32m      3\u001b[0m \u001b[0;32mfor\u001b[0m \u001b[0mi\u001b[0m \u001b[0;32min\u001b[0m \u001b[0mrange\u001b[0m\u001b[0;34m(\u001b[0m\u001b[0mlen\u001b[0m\u001b[0;34m(\u001b[0m\u001b[0ml\u001b[0m\u001b[0;34m)\u001b[0m\u001b[0;34m+\u001b[0m\u001b[0;36m1\u001b[0m\u001b[0;34m)\u001b[0m \u001b[0;34m:\u001b[0m\u001b[0;34m\u001b[0m\u001b[0;34m\u001b[0m\u001b[0m\n\u001b[0;32m----> 4\u001b[0;31m     \u001b[0mprint\u001b[0m\u001b[0;34m(\u001b[0m\u001b[0ml\u001b[0m\u001b[0;34m[\u001b[0m\u001b[0mi\u001b[0m\u001b[0;34m]\u001b[0m\u001b[0;34m)\u001b[0m\u001b[0;34m\u001b[0m\u001b[0;34m\u001b[0m\u001b[0m\n\u001b[0m",
      "\u001b[0;31mIndexError\u001b[0m: list index out of range"
     ]
    }
   ],
   "source": [
    "l = [4,5,6,7,8,8,9,0]\n",
    "\n",
    "for i in range(len(l)+1) : # Here it will give us o/p and error also. But see the follownig code.\n",
    "    print(l[i])"
   ]
  },
  {
   "cell_type": "code",
   "execution_count": 17,
   "id": "ab9ab94d",
   "metadata": {},
   "outputs": [
    {
     "name": "stdout",
     "output_type": "stream",
     "text": [
      "4\n",
      "5\n",
      "6\n",
      "7\n",
      "8\n",
      "8\n",
      "9\n",
      "0\n",
      " this is my code\n",
      "fdsfdsdf dsf sfsd \n"
     ]
    }
   ],
   "source": [
    "l = [4,5,6,7,8,8,9,0]           # Here it will not give us error because of \"try block\" and \"except block\".\n",
    "try:\n",
    "    \n",
    "    for i in range(len(l)+1) : \n",
    "        print(l[i])\n",
    "except:\n",
    "    print(\" this is my code\")\n",
    "print(\"fdsfdsdf dsf sfsd \")"
   ]
  },
  {
   "cell_type": "code",
   "execution_count": 19,
   "id": "1b3af0e6",
   "metadata": {},
   "outputs": [
    {
     "name": "stdout",
     "output_type": "stream",
     "text": [
      "4\n",
      "5\n",
      "6\n",
      "7\n",
      "8\n",
      "8\n",
      "9\n",
      "0\n",
      "list index out of range\n",
      "fdsfdsdf dsf sfsd \n"
     ]
    }
   ],
   "source": [
    "l = [4,5,6,7,8,8,9,0]\n",
    "try:\n",
    "    for i in range(len(l)+1) : \n",
    "        print(l[i])\n",
    "except Exception as e :         # Here \"Exception\" is super class, not keyword.\n",
    "    print(e)\n",
    "print(\"fdsfdsdf dsf sfsd \")     # After execution if there is an Error in programe then o/p we will show us\n",
    "                                # printed error because of Exception class."
   ]
  },
  {
   "cell_type": "code",
   "execution_count": 22,
   "id": "9684e9d4",
   "metadata": {},
   "outputs": [
    {
     "name": "stdout",
     "output_type": "stream",
     "text": [
      "dde\n",
      "invalid literal for int() with base 10: 'dde'\n",
      "fsdfdsfsfsf\n"
     ]
    }
   ],
   "source": [
    "try :\n",
    "    a = int(input())\n",
    "    b = int(input())\n",
    "except Exception as e :\n",
    "    print(e)\n",
    "print(\"fsdfdsfsfsf\")\n",
    "\n",
    "# Even with a wrong programe we will get o/p because of try & except. "
   ]
  },
  {
   "cell_type": "markdown",
   "id": "0564fe61",
   "metadata": {},
   "source": [
    "## 16th JAN 2022"
   ]
  },
  {
   "cell_type": "code",
   "execution_count": 23,
   "id": "08fa77b4",
   "metadata": {},
   "outputs": [
    {
     "ename": "SyntaxError",
     "evalue": "unexpected EOF while parsing (<ipython-input-23-bbe38de49b37>, line 4)",
     "output_type": "error",
     "traceback": [
      "\u001b[0;36m  File \u001b[0;32m\"<ipython-input-23-bbe38de49b37>\"\u001b[0;36m, line \u001b[0;32m4\u001b[0m\n\u001b[0;31m    print(\"this is my code after write ops\")\u001b[0m\n\u001b[0m                                            ^\u001b[0m\n\u001b[0;31mSyntaxError\u001b[0m\u001b[0;31m:\u001b[0m unexpected EOF while parsing\n"
     ]
    }
   ],
   "source": [
    "try:\n",
    "    f=open(\"test3\",'r')\n",
    "    f.write(\"this is my code exception handaling\")\n",
    "    print(\"this is my code after write ops\")\n",
    "# Here we missed one thing to write except block.so it will show us an Syntax error."
   ]
  },
  {
   "cell_type": "code",
   "execution_count": 24,
   "id": "06d71699",
   "metadata": {},
   "outputs": [
    {
     "name": "stdout",
     "output_type": "stream",
     "text": [
      "this is my handler\n",
      "1\n",
      "2\n",
      "3\n",
      "4\n",
      "5\n"
     ]
    }
   ],
   "source": [
    "try:\n",
    "    f=open(\"test3\",'r')\n",
    "    f.write(\"this is my code with exception handaling\")\n",
    "    print(\"this is my code after write ops\")\n",
    "except:\n",
    "    print(\"this is my handler\")\n",
    "l=[1,2,3,4,5]\n",
    "for i in l:\n",
    "    print (i)\n",
    "    \n",
    "# now here there is an error 1st line itself it will give us an o/p. because it will thorw cursor of program\n",
    "# in except block execute whatever written in that block"
   ]
  },
  {
   "cell_type": "code",
   "execution_count": 26,
   "id": "bd453ef1",
   "metadata": {},
   "outputs": [
    {
     "name": "stdout",
     "output_type": "stream",
     "text": [
      "this is my handler\n",
      "1\n",
      "2\n",
      "3\n",
      "4\n",
      "5\n"
     ]
    }
   ],
   "source": [
    "try:\n",
    "    f=open(\"test3\",'r')\n",
    "    f.write(\"this is my code exception handaling\")\n",
    "    print(\"this is my code after write ops\")\n",
    "except:\n",
    "    print(\"this is my handler\")\n",
    "try:\n",
    "        \n",
    "    l=[1,2,3,4,5]\n",
    "    for i in l:\n",
    "        print (i)\n",
    "except:\n",
    "    print(\"This is a handler for for loop\")\n",
    "    \n",
    "# Now here in 1st \"try and except\" there is an error.so it is executing the things present inside the except\n",
    "# so that's why it showes \"this is my handler\" but in 1st \"except block\" after execution of print statement,it\n",
    "# will execute all the further things which are present so it will start executing next try and except block. \n",
    "# but with same pattern.firstly try block if there is no error in 2nd try block so it will execute that one only,\n",
    "# else if error found it will execute 2nd except block."
   ]
  },
  {
   "cell_type": "code",
   "execution_count": 28,
   "id": "ef489168",
   "metadata": {},
   "outputs": [
    {
     "name": "stdout",
     "output_type": "stream",
     "text": [
      "sfs\n",
      "invalid literal for int() with base 10: 'sfs'\n"
     ]
    }
   ],
   "source": [
    "try:\n",
    "    d={\"key1\":\"SUDH\",\"key2\":[1,2,3,4,5],\"key3\":(4,5,6,7,78)}\n",
    "    d[\"key4\"]=int(input())\n",
    "except Exception as anik:\n",
    "    print(anik)\n",
    "# It will show us an error as 'sfs' you gave as an i/p it is Wrong. It will print an error.  "
   ]
  },
  {
   "cell_type": "code",
   "execution_count": 31,
   "id": "f2b67b19",
   "metadata": {
    "scrolled": true
   },
   "outputs": [
    {
     "name": "stdout",
     "output_type": "stream",
     "text": [
      "dsc\n"
     ]
    },
    {
     "ename": "ValueError",
     "evalue": "invalid literal for int() with base 10: 'dsc'",
     "output_type": "error",
     "traceback": [
      "\u001b[0;31m---------------------------------------------------------------------------\u001b[0m",
      "\u001b[0;31mValueError\u001b[0m                                Traceback (most recent call last)",
      "\u001b[0;32m<ipython-input-31-7802af4e640b>\u001b[0m in \u001b[0;36m<module>\u001b[0;34m\u001b[0m\n\u001b[1;32m      1\u001b[0m \u001b[0md\u001b[0m\u001b[0;34m=\u001b[0m\u001b[0;34m{\u001b[0m\u001b[0;34m\"key1\"\u001b[0m\u001b[0;34m:\u001b[0m\u001b[0;34m\"SUDH\"\u001b[0m\u001b[0;34m,\u001b[0m\u001b[0;34m\"key2\"\u001b[0m\u001b[0;34m:\u001b[0m\u001b[0;34m[\u001b[0m\u001b[0;36m1\u001b[0m\u001b[0;34m,\u001b[0m\u001b[0;36m2\u001b[0m\u001b[0;34m,\u001b[0m\u001b[0;36m3\u001b[0m\u001b[0;34m,\u001b[0m\u001b[0;36m4\u001b[0m\u001b[0;34m,\u001b[0m\u001b[0;36m5\u001b[0m\u001b[0;34m]\u001b[0m\u001b[0;34m,\u001b[0m\u001b[0;34m\"key3\"\u001b[0m\u001b[0;34m:\u001b[0m\u001b[0;34m(\u001b[0m\u001b[0;36m4\u001b[0m\u001b[0;34m,\u001b[0m\u001b[0;36m5\u001b[0m\u001b[0;34m,\u001b[0m\u001b[0;36m6\u001b[0m\u001b[0;34m,\u001b[0m\u001b[0;36m7\u001b[0m\u001b[0;34m,\u001b[0m\u001b[0;36m78\u001b[0m\u001b[0;34m)\u001b[0m\u001b[0;34m}\u001b[0m\u001b[0;34m\u001b[0m\u001b[0;34m\u001b[0m\u001b[0m\n\u001b[0;32m----> 2\u001b[0;31m \u001b[0md\u001b[0m\u001b[0;34m[\u001b[0m\u001b[0;34m\"key4\"\u001b[0m\u001b[0;34m]\u001b[0m\u001b[0;34m=\u001b[0m\u001b[0mint\u001b[0m\u001b[0;34m(\u001b[0m\u001b[0minput\u001b[0m\u001b[0;34m(\u001b[0m\u001b[0;34m)\u001b[0m\u001b[0;34m)\u001b[0m\u001b[0;34m\u001b[0m\u001b[0;34m\u001b[0m\u001b[0m\n\u001b[0m\u001b[1;32m      3\u001b[0m \u001b[0;34m\u001b[0m\u001b[0m\n\u001b[1;32m      4\u001b[0m \u001b[0;34m\u001b[0m\u001b[0m\n\u001b[1;32m      5\u001b[0m \u001b[0;31m# it will introduce \" value error \".\u001b[0m\u001b[0;34m\u001b[0m\u001b[0;34m\u001b[0m\u001b[0;34m\u001b[0m\u001b[0m\n",
      "\u001b[0;31mValueError\u001b[0m: invalid literal for int() with base 10: 'dsc'"
     ]
    }
   ],
   "source": [
    "d={\"key1\":\"SUDH\",\"key2\":[1,2,3,4,5],\"key3\":(4,5,6,7,78)}\n",
    "d[\"key4\"]=int(input())\n",
    "\n",
    "# It will introduce \" value error \"."
   ]
  },
  {
   "cell_type": "code",
   "execution_count": 32,
   "id": "e14d7794",
   "metadata": {},
   "outputs": [
    {
     "name": "stdout",
     "output_type": "stream",
     "text": [
      "hv\n",
      "invalid literal for int() with base 10: 'hv'\n"
     ]
    }
   ],
   "source": [
    "try:\n",
    "    d={\"key1\":\"SUDH\",\"key2\":[1,2,3,4,5],\"key3\":(4,5,6,7,78)}\n",
    "    d[\"key4\"]=int(input())\n",
    "except  ValueError as anik:  # Here insted of Exception ie. \"super class\" we will use sub class i.e.\"ValueError\"\n",
    "    print(anik)              # "
   ]
  },
  {
   "cell_type": "code",
   "execution_count": 36,
   "id": "cb611d7c",
   "metadata": {},
   "outputs": [
    {
     "name": "stdout",
     "output_type": "stream",
     "text": [
      "23\n"
     ]
    },
    {
     "ename": "FileNotFoundError",
     "evalue": "[Errno 2] No such file or directory: 'test2'",
     "output_type": "error",
     "traceback": [
      "\u001b[0;31m---------------------------------------------------------------------------\u001b[0m",
      "\u001b[0;31mFileNotFoundError\u001b[0m                         Traceback (most recent call last)",
      "\u001b[0;32m<ipython-input-36-83e45585f747>\u001b[0m in \u001b[0;36m<module>\u001b[0;34m\u001b[0m\n\u001b[1;32m      2\u001b[0m     \u001b[0md\u001b[0m\u001b[0;34m=\u001b[0m\u001b[0;34m{\u001b[0m\u001b[0;34m\"key1\"\u001b[0m\u001b[0;34m:\u001b[0m\u001b[0;34m\"SUDH\"\u001b[0m\u001b[0;34m,\u001b[0m\u001b[0;34m\"key2\"\u001b[0m\u001b[0;34m:\u001b[0m\u001b[0;34m[\u001b[0m\u001b[0;36m1\u001b[0m\u001b[0;34m,\u001b[0m\u001b[0;36m2\u001b[0m\u001b[0;34m,\u001b[0m\u001b[0;36m3\u001b[0m\u001b[0;34m,\u001b[0m\u001b[0;36m4\u001b[0m\u001b[0;34m,\u001b[0m\u001b[0;36m5\u001b[0m\u001b[0;34m]\u001b[0m\u001b[0;34m,\u001b[0m\u001b[0;34m\"key3\"\u001b[0m\u001b[0;34m:\u001b[0m\u001b[0;34m(\u001b[0m\u001b[0;36m4\u001b[0m\u001b[0;34m,\u001b[0m\u001b[0;36m5\u001b[0m\u001b[0;34m,\u001b[0m\u001b[0;36m6\u001b[0m\u001b[0;34m,\u001b[0m\u001b[0;36m7\u001b[0m\u001b[0;34m,\u001b[0m\u001b[0;36m78\u001b[0m\u001b[0;34m)\u001b[0m\u001b[0;34m}\u001b[0m\u001b[0;34m\u001b[0m\u001b[0;34m\u001b[0m\u001b[0m\n\u001b[1;32m      3\u001b[0m     \u001b[0md\u001b[0m\u001b[0;34m[\u001b[0m\u001b[0;34m\"key4\"\u001b[0m\u001b[0;34m]\u001b[0m\u001b[0;34m=\u001b[0m\u001b[0mint\u001b[0m\u001b[0;34m(\u001b[0m\u001b[0minput\u001b[0m\u001b[0;34m(\u001b[0m\u001b[0;34m)\u001b[0m\u001b[0;34m)\u001b[0m\u001b[0;34m\u001b[0m\u001b[0;34m\u001b[0m\u001b[0m\n\u001b[0;32m----> 4\u001b[0;31m     \u001b[0mf\u001b[0m\u001b[0;34m=\u001b[0m\u001b[0mopen\u001b[0m\u001b[0;34m(\u001b[0m\u001b[0;34m\"test2\"\u001b[0m\u001b[0;34m,\u001b[0m\u001b[0;34m\"r\"\u001b[0m\u001b[0;34m)\u001b[0m\u001b[0;34m\u001b[0m\u001b[0;34m\u001b[0m\u001b[0m\n\u001b[0m\u001b[1;32m      5\u001b[0m \u001b[0;32mexcept\u001b[0m  \u001b[0mValueError\u001b[0m \u001b[0;32mas\u001b[0m \u001b[0manik\u001b[0m\u001b[0;34m:\u001b[0m\u001b[0;34m\u001b[0m\u001b[0;34m\u001b[0m\u001b[0m\n\u001b[1;32m      6\u001b[0m     \u001b[0mprint\u001b[0m\u001b[0;34m(\u001b[0m\u001b[0manik\u001b[0m\u001b[0;34m)\u001b[0m\u001b[0;34m\u001b[0m\u001b[0;34m\u001b[0m\u001b[0m\n",
      "\u001b[0;31mFileNotFoundError\u001b[0m: [Errno 2] No such file or directory: 'test2'"
     ]
    }
   ],
   "source": [
    "try:\n",
    "    d={\"key1\":\"SUDH\",\"key2\":[1,2,3,4,5],\"key3\":(4,5,6,7,78)}\n",
    "    d[\"key4\"]=int(input())\n",
    "    f=open(\"test2\",\"r\")\n",
    "except  ValueError as anik:\n",
    "    print(anik)\n",
    "    \n",
    "    \n",
    "# Now see what is happening here.if we execute code it will ask i/p and if we give any str. value in it so \n",
    "# it will show us an printed error as we have seen it before also.\n",
    "\n",
    "# But if we give int value when code is asking i/p. then it will execute line no 2 but after execution of \n",
    "# line no. 3 it will give us an error. because in exception handalling i.e. in Except block we said that \n",
    "# handle the ValueError only,apart from this none other error is gonig to handle.but in o/p we will get \n",
    "# \"file not found error\".which is correct as we have mention perticular in code.\n",
    "\n",
    "# Now see the following code and it's o/p."
   ]
  },
  {
   "cell_type": "code",
   "execution_count": 37,
   "id": "a18b26dc",
   "metadata": {},
   "outputs": [
    {
     "name": "stdout",
     "output_type": "stream",
     "text": [
      "23\n",
      "[Errno 2] No such file or directory: 'test2'\n"
     ]
    }
   ],
   "source": [
    "try:\n",
    "    d={\"key1\":\"SUDH\",\"key2\":[1,2,3,4,5],\"key3\":(4,5,6,7,78)}\n",
    "    d[\"key4\"]=int(input())\n",
    "    f=open(\"test2\",\"r\")\n",
    "except Exception as anik:\n",
    "    print(anik)\n",
    "# Now here except is handalling all type of error. "
   ]
  },
  {
   "cell_type": "code",
   "execution_count": 38,
   "id": "5e2120eb",
   "metadata": {},
   "outputs": [
    {
     "name": "stdout",
     "output_type": "stream",
     "text": [
      "23\n",
      "[Errno 2] No such file or directory: 'test2'\n"
     ]
    }
   ],
   "source": [
    "# Now to handle such kind of error which is at cell no.[36],we can write multiple except condition.\n",
    "\n",
    "try:\n",
    "    d={\"key1\":\"SUDH\",\"key2\":[1,2,3,4,5],\"key3\":(4,5,6,7,78)}\n",
    "    d[\"key4\"]=int(input())\n",
    "    f=open(\"test2\",\"r\")\n",
    "except  ValueError as anik:\n",
    "    print(anik)\n",
    "except FileNotFoundError as ani:\n",
    "    print(ani)"
   ]
  },
  {
   "cell_type": "code",
   "execution_count": 39,
   "id": "115d407d",
   "metadata": {},
   "outputs": [
    {
     "name": "stdout",
     "output_type": "stream",
     "text": [
      "sfff\n",
      "invalid literal for int() with base 10: 'sfff'\n"
     ]
    }
   ],
   "source": [
    "# now see how it except will work see the complete herarchy\n",
    "try:\n",
    "    d={\"key1\":\"SUDH\",\"key2\":[1,2,3,4,5],\"key3\":(4,5,6,7,78)}\n",
    "    d[\"key4\"]=int(input())\n",
    "    f=open(\"test2\",\"r\")\n",
    "except Exception as an:\n",
    "    print(an)\n",
    "except  ValueError as anik:\n",
    "    print(anik)\n",
    "except FileNotFoundError as ani:\n",
    "    print(ani)\n",
    "# As we mention exception handdling at 1st postion so it will handle all error and will not produce any \n",
    "# kind of error.  \n",
    "# but if we change the sequence what will happen see below"
   ]
  },
  {
   "cell_type": "code",
   "execution_count": 41,
   "id": "40b151cb",
   "metadata": {},
   "outputs": [
    {
     "name": "stdout",
     "output_type": "stream",
     "text": [
      "34\n",
      "[Errno 2] No such file or directory: 'test2'\n"
     ]
    }
   ],
   "source": [
    "#look Here\n",
    "try:\n",
    "    d={\"key1\":\"SUDH\",\"key2\":[1,2,3,4,5],\"key3\":(4,5,6,7,78)}\n",
    "    d[\"key4\"]=int(input())\n",
    "    f=open(\"test2\",\"r\")\n",
    "except ValueError as anik:\n",
    "    print(anik)\n",
    "except FileNotFoundError as ani:\n",
    "    print(ani)\n",
    "except Exception as an:\n",
    "    print(an)\n",
    "    \n",
    "# 1st if we give value as 'grhg' as an i/p it will execute 1st except.and show this \n",
    "# -->invalid literal for int() with base 10: 'sd'\n",
    "\n",
    "# 2nd if we give value as '343' an i/p then it will execute 2nd except.and show this\n",
    "# -->[Errno 2] No such file or directory: 'test2'\n",
    "\n",
    "# and so on....\n",
    "# now following o/p is of 2nd statement"
   ]
  },
  {
   "cell_type": "code",
   "execution_count": 42,
   "id": "014c5554",
   "metadata": {},
   "outputs": [],
   "source": [
    "## try-except-else block\n",
    "# this is avil in only python only not in any other language lie java or scala."
   ]
  },
  {
   "cell_type": "code",
   "execution_count": 45,
   "id": "34c61094",
   "metadata": {},
   "outputs": [
    {
     "name": "stdout",
     "output_type": "stream",
     "text": [
      "this will execute once my try block will be executed succesfully\n"
     ]
    }
   ],
   "source": [
    "try:\n",
    "    f=open(\"test1.txt\",\"w\")\n",
    "    f.write(\"this is my code in try\")\n",
    "except Exception as e:\n",
    "    print(\"this will handle an error\",e)\n",
    "else:\n",
    "    print(\"this will execute once my try block will be executed succesfully\")\n",
    "    f.close()\n",
    "    \n",
    "# if try block execute succesfully then it will come to else statement directly and execute that part.\n",
    "\n",
    "# But if there ie as error in try block then it will automatically come to except block execute all things \n",
    "# present inside this."
   ]
  },
  {
   "cell_type": "code",
   "execution_count": 49,
   "id": "36fc8a0e",
   "metadata": {},
   "outputs": [
    {
     "name": "stdout",
     "output_type": "stream",
     "text": [
      "sjbdsbdbs [Errno 2] No such file or directory: 'test45.txt'\n",
      "do this for sure\n"
     ]
    }
   ],
   "source": [
    "try:\n",
    "    f=open(\"test45.txt\",\"r\")\n",
    "except Exception as e:\n",
    "    print(\"sjbdsbdbs\",e)\n",
    "finally:\n",
    "    print(\"do this for sure\")"
   ]
  },
  {
   "cell_type": "code",
   "execution_count": 52,
   "id": "be968751",
   "metadata": {},
   "outputs": [
    {
     "name": "stdout",
     "output_type": "stream",
     "text": [
      "sjbdsbdbs [Errno 2] No such file or directory: 'test45.'\n",
      "do this for sure\n"
     ]
    }
   ],
   "source": [
    "# Diff between finally and else statement is \n",
    "# finally will work all the time.\n",
    "# but else will work only when only try block executed successfully.\n",
    "\n",
    "try:\n",
    "    f=open(\"test45.\",\"r\")\n",
    "except Exception as e:\n",
    "    print(\"sjbdsbdbs\",e)\n",
    "else:\n",
    "    print(\"do this on successfuly execution of try block\")\n",
    "finally:\n",
    "    print(\"do this for sure\")\n",
    "# Here there is mistake in 2nd line of code so it will go into except block not in else block. And as we \n",
    "# know that finally will execute all the time so it will execute also."
   ]
  },
  {
   "cell_type": "code",
   "execution_count": 53,
   "id": "7b6260d2",
   "metadata": {},
   "outputs": [
    {
     "name": "stdout",
     "output_type": "stream",
     "text": [
      "do this on successfuly execution of try block\n",
      "do this for sure\n"
     ]
    }
   ],
   "source": [
    "try:\n",
    "    f=open(\"test45.txt\",\"w\")\n",
    "except Exception as e:\n",
    "    print(\"sjbdsbdbs\",e)\n",
    "else:\n",
    "    print(\"do this on successfuly execution of try block\")\n",
    "finally:\n",
    "    print(\"do this for sure\")\n",
    "# Try block executed successfully so it will not go into except block. it directly come to the else \n",
    "# block and then finally block."
   ]
  },
  {
   "cell_type": "code",
   "execution_count": 57,
   "id": "7348d302",
   "metadata": {},
   "outputs": [
    {
     "name": "stdout",
     "output_type": "stream",
     "text": [
      "do this on successfuly execution of try block\n",
      "do this for sure\n",
      "handle this\n",
      "it will come to this block for sure\n"
     ]
    }
   ],
   "source": [
    "try:\n",
    "    f=open(\"test45.txt\",\"w\")\n",
    "except Exception as e:\n",
    "    print(\"sjbdsbdbs\",e)\n",
    "else:\n",
    "    print(\"do this on successfuly execution of try block\")\n",
    "finally:\n",
    "    print(\"do this for sure\")\n",
    "    try:\n",
    "        f=open(\"cghggh\",'r')\n",
    "    except:\n",
    "            print(\"handle this\")\n",
    "    finally:\n",
    "            print(\"it will come to this block for sure\")\n",
    "# we can write try-except-finally in finally also.  "
   ]
  },
  {
   "cell_type": "code",
   "execution_count": null,
   "id": "e94db660",
   "metadata": {},
   "outputs": [],
   "source": [
    "# Q. write a function it will keep on asking integer unless and untill you will not be able to get."
   ]
  },
  {
   "cell_type": "code",
   "execution_count": 1,
   "id": "9282a4eb",
   "metadata": {},
   "outputs": [
    {
     "name": "stdout",
     "output_type": "stream",
     "text": [
      "enter the interger:jhvgh\n",
      "Nah, you did not enter an integer, please enter an integer. ERROR: invalid literal for int() with base 10: 'jhvgh'\n",
      "enter the interger:jhvh\n",
      "Nah, you did not enter an integer, please enter an integer. ERROR: invalid literal for int() with base 10: 'jhvh'\n",
      "enter the interger:vb\n",
      "Nah, you did not enter an integer, please enter an integer. ERROR: invalid literal for int() with base 10: 'vb'\n",
      "enter the interger:78\n"
     ]
    },
    {
     "data": {
      "text/plain": [
       "'yes, you have entered an integer'"
      ]
     },
     "execution_count": 1,
     "metadata": {},
     "output_type": "execute_result"
    }
   ],
   "source": [
    "# ANS1\n",
    "def fun1():\n",
    "    flag=True\n",
    "    while flag:\n",
    "        try:\n",
    "            a=int(input(\"enter the interger:\"))\n",
    "            if type(a)==int:\n",
    "                return \"yes, you have entered an integer\"\n",
    "                flag=False\n",
    "                \n",
    "    \n",
    "        except Exception as e:\n",
    "            print(\"No, you did not enter an integer, please enter an integer. ERROR:\",e)\n",
    "        \n",
    "fun1()"
   ]
  },
  {
   "cell_type": "code",
   "execution_count": 2,
   "id": "67431dfc",
   "metadata": {},
   "outputs": [
    {
     "name": "stdout",
     "output_type": "stream",
     "text": [
      "nc\n",
      "enter the input again invalid literal for int() with base 10: 'nc'\n",
      "vbh\n",
      "enter the input again invalid literal for int() with base 10: 'vbh'\n",
      "89\n"
     ]
    }
   ],
   "source": [
    "#ANS2\n",
    "def integer():\n",
    "        while True:\n",
    "            \"\"\"Function asks for an integer unless provided otherwise\"\"\"\n",
    "            try:\n",
    "                x = int(input())\n",
    "                break\n",
    "            except ValueError as e:\n",
    "                print(\"enter the input again\",e)\n",
    "        \n",
    "integer()"
   ]
  },
  {
   "cell_type": "markdown",
   "id": "625cbb8e",
   "metadata": {},
   "source": [
    "# Raise :- It is keyword which is going to help you out to raise an exception based on your condition."
   ]
  },
  {
   "cell_type": "code",
   "execution_count": 4,
   "id": "c46c6ba1",
   "metadata": {},
   "outputs": [
    {
     "data": {
      "text/plain": [
       "0.6"
      ]
     },
     "execution_count": 4,
     "metadata": {},
     "output_type": "execute_result"
    }
   ],
   "source": [
    "a = 6/10\n",
    "a"
   ]
  },
  {
   "cell_type": "code",
   "execution_count": 5,
   "id": "3227da9b",
   "metadata": {},
   "outputs": [
    {
     "ename": "ZeroDivisionError",
     "evalue": "division by zero",
     "output_type": "error",
     "traceback": [
      "\u001b[0;31m---------------------------------------------------------------------------\u001b[0m",
      "\u001b[0;31mZeroDivisionError\u001b[0m                         Traceback (most recent call last)",
      "\u001b[0;32m<ipython-input-5-0106664d39e8>\u001b[0m in \u001b[0;36m<module>\u001b[0;34m\u001b[0m\n\u001b[0;32m----> 1\u001b[0;31m \u001b[0;36m5\u001b[0m\u001b[0;34m/\u001b[0m\u001b[0;36m0\u001b[0m\u001b[0;34m\u001b[0m\u001b[0;34m\u001b[0m\u001b[0m\n\u001b[0m",
      "\u001b[0;31mZeroDivisionError\u001b[0m: division by zero"
     ]
    }
   ],
   "source": [
    "5/0 # now here while writing python language some one mention this kind of \"Error\" or we can say exception \n",
    "    # over here. "
   ]
  },
  {
   "cell_type": "code",
   "execution_count": 10,
   "id": "e2e738c2",
   "metadata": {
    "scrolled": true
   },
   "outputs": [
    {
     "ename": "Exception",
     "evalue": "-1",
     "output_type": "error",
     "traceback": [
      "\u001b[0;31m---------------------------------------------------------------------------\u001b[0m",
      "\u001b[0;31mException\u001b[0m                                 Traceback (most recent call last)",
      "\u001b[0;32m<ipython-input-10-5e2a380be187>\u001b[0m in \u001b[0;36m<module>\u001b[0;34m\u001b[0m\n\u001b[1;32m      4\u001b[0m     \u001b[0;32mreturn\u001b[0m \u001b[0ma\u001b[0m\u001b[0;34m\u001b[0m\u001b[0;34m\u001b[0m\u001b[0m\n\u001b[1;32m      5\u001b[0m \u001b[0;34m\u001b[0m\u001b[0m\n\u001b[0;32m----> 6\u001b[0;31m \u001b[0mtest\u001b[0m\u001b[0;34m(\u001b[0m\u001b[0;34m-\u001b[0m\u001b[0;36m1\u001b[0m\u001b[0;34m)\u001b[0m\u001b[0;34m\u001b[0m\u001b[0;34m\u001b[0m\u001b[0m\n\u001b[0m\u001b[1;32m      7\u001b[0m \u001b[0;34m\u001b[0m\u001b[0m\n\u001b[1;32m      8\u001b[0m \"\"\"Exception                                 Traceback (most recent call last)\n",
      "\u001b[0;32m<ipython-input-10-5e2a380be187>\u001b[0m in \u001b[0;36mtest\u001b[0;34m(a)\u001b[0m\n\u001b[1;32m      1\u001b[0m \u001b[0;32mdef\u001b[0m \u001b[0mtest\u001b[0m\u001b[0;34m(\u001b[0m\u001b[0ma\u001b[0m\u001b[0;34m)\u001b[0m\u001b[0;34m:\u001b[0m\u001b[0;34m\u001b[0m\u001b[0;34m\u001b[0m\u001b[0m\n\u001b[1;32m      2\u001b[0m     \u001b[0;32mif\u001b[0m \u001b[0ma\u001b[0m\u001b[0;34m<\u001b[0m\u001b[0;36m0\u001b[0m\u001b[0;34m:\u001b[0m\u001b[0;34m\u001b[0m\u001b[0;34m\u001b[0m\u001b[0m\n\u001b[0;32m----> 3\u001b[0;31m         \u001b[0;32mraise\u001b[0m \u001b[0mException\u001b[0m\u001b[0;34m(\u001b[0m\u001b[0ma\u001b[0m\u001b[0;34m)\u001b[0m\u001b[0;34m\u001b[0m\u001b[0;34m\u001b[0m\u001b[0m\n\u001b[0m\u001b[1;32m      4\u001b[0m     \u001b[0;32mreturn\u001b[0m \u001b[0ma\u001b[0m\u001b[0;34m\u001b[0m\u001b[0;34m\u001b[0m\u001b[0m\n\u001b[1;32m      5\u001b[0m \u001b[0;34m\u001b[0m\u001b[0m\n",
      "\u001b[0;31mException\u001b[0m: -1"
     ]
    }
   ],
   "source": [
    "def test(a):\n",
    "    if a<0:\n",
    "        raise Exception(a) # here in Exception(\" \") we an write a message also.\n",
    "    return a\n",
    "\n",
    "test(-1)\n",
    "\n",
    "# If we run this we get error it means some one write this kind of message or exception while developing this\n",
    "# language. \n",
    "\n",
    "\"\"\"Exception                                 Traceback (most recent call last)\n",
    "<ipython-input-8-74fe35c350f5> in <module>\n",
    "      3         raise Exception(a)\n",
    "      4     return a\n",
    "----> 5 test(-1)\n",
    "\n",
    "<ipython-input-8-74fe35c350f5> in test(a)\n",
    "      1 def test(a):\n",
    "      2     if a<0:\n",
    "----> 3         raise Exception(a)\n",
    "      4     return a\n",
    "      5 test(-1)\n",
    "\n",
    "Exception: -1\n",
    "\"\"\""
   ]
  },
  {
   "cell_type": "code",
   "execution_count": 3,
   "id": "3f9881c7",
   "metadata": {},
   "outputs": [
    {
     "ename": "Exception",
     "evalue": "('you have entered a negative value dfsa adsfdsasaf afd', -1)",
     "output_type": "error",
     "traceback": [
      "\u001b[0;31m---------------------------------------------------------------------------\u001b[0m",
      "\u001b[0;31mException\u001b[0m                                 Traceback (most recent call last)",
      "\u001b[0;32m/var/folders/g0/424mq_gn0jq76h7qlxtqdg_h0000gn/T/ipykernel_17379/2723303775.py\u001b[0m in \u001b[0;36m<module>\u001b[0;34m\u001b[0m\n\u001b[1;32m      6\u001b[0m     \u001b[0;32mreturn\u001b[0m \u001b[0ma\u001b[0m\u001b[0;34m\u001b[0m\u001b[0;34m\u001b[0m\u001b[0m\n\u001b[1;32m      7\u001b[0m \u001b[0;34m\u001b[0m\u001b[0m\n\u001b[0;32m----> 8\u001b[0;31m \u001b[0mtest\u001b[0m\u001b[0;34m(\u001b[0m\u001b[0;34m-\u001b[0m\u001b[0;36m1\u001b[0m\u001b[0;34m)\u001b[0m\u001b[0;34m\u001b[0m\u001b[0;34m\u001b[0m\u001b[0m\n\u001b[0m",
      "\u001b[0;32m/var/folders/g0/424mq_gn0jq76h7qlxtqdg_h0000gn/T/ipykernel_17379/2723303775.py\u001b[0m in \u001b[0;36mtest\u001b[0;34m(a)\u001b[0m\n\u001b[1;32m      1\u001b[0m \u001b[0;32mdef\u001b[0m \u001b[0mtest\u001b[0m\u001b[0;34m(\u001b[0m\u001b[0ma\u001b[0m\u001b[0;34m)\u001b[0m\u001b[0;34m:\u001b[0m\u001b[0;34m\u001b[0m\u001b[0;34m\u001b[0m\u001b[0m\n\u001b[1;32m      2\u001b[0m     \u001b[0;32mif\u001b[0m \u001b[0ma\u001b[0m\u001b[0;34m<\u001b[0m\u001b[0;36m0\u001b[0m\u001b[0;34m:\u001b[0m\u001b[0;34m\u001b[0m\u001b[0;34m\u001b[0m\u001b[0m\n\u001b[0;32m----> 3\u001b[0;31m         \u001b[0;32mraise\u001b[0m \u001b[0mException\u001b[0m\u001b[0;34m(\u001b[0m\u001b[0;34m\"you have entered a negative value dfsa adsfdsasaf afd\"\u001b[0m \u001b[0;34m,\u001b[0m \u001b[0ma\u001b[0m\u001b[0;34m)\u001b[0m \u001b[0;31m# here in Exception(\" \")\u001b[0m\u001b[0;34m\u001b[0m\u001b[0;34m\u001b[0m\u001b[0m\n\u001b[0m\u001b[1;32m      4\u001b[0m                                                                                      \u001b[0;31m# we can write a message\u001b[0m\u001b[0;34m\u001b[0m\u001b[0;34m\u001b[0m\u001b[0;34m\u001b[0m\u001b[0m\n\u001b[1;32m      5\u001b[0m                                                                                      \u001b[0;31m# also.\u001b[0m\u001b[0;34m\u001b[0m\u001b[0;34m\u001b[0m\u001b[0;34m\u001b[0m\u001b[0m\n",
      "\u001b[0;31mException\u001b[0m: ('you have entered a negative value dfsa adsfdsasaf afd', -1)"
     ]
    }
   ],
   "source": [
    "def test(a):\n",
    "    if a<0:\n",
    "        raise Exception(\"you have entered a negative value dfsa adsfdsasaf afd\" , a) # here in Exception(\" \") \n",
    "                                                                                     # we can write a message \n",
    "                                                                                     # also.\n",
    "    return a\n",
    "\n",
    "test(-1)\n"
   ]
  },
  {
   "cell_type": "code",
   "execution_count": 13,
   "id": "e18deec5",
   "metadata": {},
   "outputs": [
    {
     "ename": "ZeroDivisionError",
     "evalue": "('you have entered a negative value dfsa adsfdsasaf afd', -1)",
     "output_type": "error",
     "traceback": [
      "\u001b[0;31m---------------------------------------------------------------------------\u001b[0m",
      "\u001b[0;31mZeroDivisionError\u001b[0m                         Traceback (most recent call last)",
      "\u001b[0;32m<ipython-input-13-af7bc42ff857>\u001b[0m in \u001b[0;36m<module>\u001b[0;34m\u001b[0m\n\u001b[1;32m      3\u001b[0m         \u001b[0;32mraise\u001b[0m \u001b[0mZeroDivisionError\u001b[0m\u001b[0;34m(\u001b[0m\u001b[0;34m\"you have entered a negative value dfsa adsfdsasaf afd\"\u001b[0m \u001b[0;34m,\u001b[0m \u001b[0ma\u001b[0m\u001b[0;34m)\u001b[0m\u001b[0;34m\u001b[0m\u001b[0;34m\u001b[0m\u001b[0m\n\u001b[1;32m      4\u001b[0m     \u001b[0;32mreturn\u001b[0m \u001b[0ma\u001b[0m\u001b[0;34m\u001b[0m\u001b[0;34m\u001b[0m\u001b[0m\n\u001b[0;32m----> 5\u001b[0;31m \u001b[0mtest\u001b[0m\u001b[0;34m(\u001b[0m\u001b[0;34m-\u001b[0m\u001b[0;36m1\u001b[0m\u001b[0;34m)\u001b[0m\u001b[0;34m\u001b[0m\u001b[0;34m\u001b[0m\u001b[0m\n\u001b[0m\u001b[1;32m      6\u001b[0m \u001b[0;34m\u001b[0m\u001b[0m\n\u001b[1;32m      7\u001b[0m \u001b[0;31m# here in this code we wrote \"ZeroDivisionError\" after 'raise' and in o/p i.e. in error or in Exception\u001b[0m\u001b[0;34m\u001b[0m\u001b[0;34m\u001b[0m\u001b[0;34m\u001b[0m\u001b[0m\n",
      "\u001b[0;32m<ipython-input-13-af7bc42ff857>\u001b[0m in \u001b[0;36mtest\u001b[0;34m(a)\u001b[0m\n\u001b[1;32m      1\u001b[0m \u001b[0;32mdef\u001b[0m \u001b[0mtest\u001b[0m\u001b[0;34m(\u001b[0m\u001b[0ma\u001b[0m\u001b[0;34m)\u001b[0m\u001b[0;34m:\u001b[0m\u001b[0;34m\u001b[0m\u001b[0;34m\u001b[0m\u001b[0m\n\u001b[1;32m      2\u001b[0m     \u001b[0;32mif\u001b[0m \u001b[0ma\u001b[0m\u001b[0;34m<\u001b[0m\u001b[0;36m4\u001b[0m\u001b[0;34m:\u001b[0m\u001b[0;34m\u001b[0m\u001b[0;34m\u001b[0m\u001b[0m\n\u001b[0;32m----> 3\u001b[0;31m         \u001b[0;32mraise\u001b[0m \u001b[0mZeroDivisionError\u001b[0m\u001b[0;34m(\u001b[0m\u001b[0;34m\"you have entered a negative value dfsa adsfdsasaf afd\"\u001b[0m \u001b[0;34m,\u001b[0m \u001b[0ma\u001b[0m\u001b[0;34m)\u001b[0m\u001b[0;34m\u001b[0m\u001b[0;34m\u001b[0m\u001b[0m\n\u001b[0m\u001b[1;32m      4\u001b[0m     \u001b[0;32mreturn\u001b[0m \u001b[0ma\u001b[0m\u001b[0;34m\u001b[0m\u001b[0;34m\u001b[0m\u001b[0m\n\u001b[1;32m      5\u001b[0m \u001b[0mtest\u001b[0m\u001b[0;34m(\u001b[0m\u001b[0;34m-\u001b[0m\u001b[0;36m1\u001b[0m\u001b[0;34m)\u001b[0m\u001b[0;34m\u001b[0m\u001b[0;34m\u001b[0m\u001b[0m\n",
      "\u001b[0;31mZeroDivisionError\u001b[0m: ('you have entered a negative value dfsa adsfdsasaf afd', -1)"
     ]
    }
   ],
   "source": [
    "def test(a):\n",
    "    if a<4:\n",
    "        raise ZeroDivisionError(\"you have entered a negative value dfsa adsfdsasaf afd\" , a)\n",
    "    return a \n",
    "test(-1)\n",
    "\n",
    "# here in this code we wrote \"ZeroDivisionError\" after 'raise' and in o/p i.e. in error or in Exception \n",
    "# it over write to the previous word i.e. 'Exception'.\n",
    "# here in actual it is not a ZeroDevisionError we just over write on it.In actual it is Exception as we \n",
    "# mentiond it eralier."
   ]
  },
  {
   "cell_type": "code",
   "execution_count": 14,
   "id": "80bed291",
   "metadata": {},
   "outputs": [
    {
     "data": {
      "text/plain": [
       "1"
      ]
     },
     "execution_count": 14,
     "metadata": {},
     "output_type": "execute_result"
    }
   ],
   "source": [
    "# Here we got the answer.\n",
    "def test(a):\n",
    "    if a<0:\n",
    "        raise Exception(a)\n",
    "    return a\n",
    "\n",
    "test(1)"
   ]
  },
  {
   "cell_type": "code",
   "execution_count": 18,
   "id": "a721af1a",
   "metadata": {},
   "outputs": [
    {
     "ename": "ZeroDivisionError",
     "evalue": "('you have entered a negative value dfsa adsfdsasaf afd', 'sudh')",
     "output_type": "error",
     "traceback": [
      "\u001b[0;31m---------------------------------------------------------------------------\u001b[0m",
      "\u001b[0;31mZeroDivisionError\u001b[0m                         Traceback (most recent call last)",
      "\u001b[0;32m<ipython-input-18-c4c8d2391acd>\u001b[0m in \u001b[0;36m<module>\u001b[0;34m\u001b[0m\n\u001b[1;32m      3\u001b[0m         \u001b[0;32mraise\u001b[0m \u001b[0mZeroDivisionError\u001b[0m\u001b[0;34m(\u001b[0m\u001b[0;34m\"you have entered a negative value dfsa adsfdsasaf afd\"\u001b[0m \u001b[0;34m,\u001b[0m \u001b[0ma\u001b[0m\u001b[0;34m)\u001b[0m\u001b[0;34m\u001b[0m\u001b[0;34m\u001b[0m\u001b[0m\n\u001b[1;32m      4\u001b[0m     \u001b[0;32mreturn\u001b[0m \u001b[0ma\u001b[0m\u001b[0;34m\u001b[0m\u001b[0;34m\u001b[0m\u001b[0m\n\u001b[0;32m----> 5\u001b[0;31m \u001b[0mtest\u001b[0m\u001b[0;34m(\u001b[0m\u001b[0;34m\"sudh\"\u001b[0m\u001b[0;34m)\u001b[0m\u001b[0;34m\u001b[0m\u001b[0;34m\u001b[0m\u001b[0m\n\u001b[0m",
      "\u001b[0;32m<ipython-input-18-c4c8d2391acd>\u001b[0m in \u001b[0;36mtest\u001b[0;34m(a)\u001b[0m\n\u001b[1;32m      1\u001b[0m \u001b[0;32mdef\u001b[0m \u001b[0mtest\u001b[0m\u001b[0;34m(\u001b[0m\u001b[0ma\u001b[0m\u001b[0;34m)\u001b[0m \u001b[0;34m:\u001b[0m\u001b[0;34m\u001b[0m\u001b[0;34m\u001b[0m\u001b[0m\n\u001b[1;32m      2\u001b[0m     \u001b[0;32mif\u001b[0m \u001b[0ma\u001b[0m \u001b[0;34m==\u001b[0m \u001b[0;34m\"sudh\"\u001b[0m \u001b[0;34m:\u001b[0m\u001b[0;34m\u001b[0m\u001b[0;34m\u001b[0m\u001b[0m\n\u001b[0;32m----> 3\u001b[0;31m         \u001b[0;32mraise\u001b[0m \u001b[0mZeroDivisionError\u001b[0m\u001b[0;34m(\u001b[0m\u001b[0;34m\"you have entered a negative value dfsa adsfdsasaf afd\"\u001b[0m \u001b[0;34m,\u001b[0m \u001b[0ma\u001b[0m\u001b[0;34m)\u001b[0m\u001b[0;34m\u001b[0m\u001b[0;34m\u001b[0m\u001b[0m\n\u001b[0m\u001b[1;32m      4\u001b[0m     \u001b[0;32mreturn\u001b[0m \u001b[0ma\u001b[0m\u001b[0;34m\u001b[0m\u001b[0;34m\u001b[0m\u001b[0m\n\u001b[1;32m      5\u001b[0m \u001b[0mtest\u001b[0m\u001b[0;34m(\u001b[0m\u001b[0;34m\"sudh\"\u001b[0m\u001b[0;34m)\u001b[0m\u001b[0;34m\u001b[0m\u001b[0;34m\u001b[0m\u001b[0m\n",
      "\u001b[0;31mZeroDivisionError\u001b[0m: ('you have entered a negative value dfsa adsfdsasaf afd', 'sudh')"
     ]
    }
   ],
   "source": [
    "def test(a) :\n",
    "    if a == \"sudh\" :\n",
    "        raise ZeroDivisionError(\"you have entered a negative value dfsa adsfdsasaf afd\" , a)\n",
    "    return a \n",
    "test(\"sudh\")\n",
    "\n",
    "# Here in this case code is correct but in code as we mention the \"raise\" keyword and we put some sort of \n",
    "# Exception so it will give us. and see the following code and compare it it will clear the concept. "
   ]
  },
  {
   "cell_type": "code",
   "execution_count": 19,
   "id": "8828f0a6",
   "metadata": {},
   "outputs": [
    {
     "data": {
      "text/plain": [
       "'asj'"
      ]
     },
     "execution_count": 19,
     "metadata": {},
     "output_type": "execute_result"
    }
   ],
   "source": [
    "def test(a) :\n",
    "    if a == \"sudh\" :\n",
    "        raise ZeroDivisionError(\"you have entered a negative value dfsa adsfdsasaf afd\" , a)\n",
    "    return a \n",
    "test(\"asj\")"
   ]
  },
  {
   "cell_type": "code",
   "execution_count": 21,
   "id": "1cd861fe",
   "metadata": {},
   "outputs": [
    {
     "name": "stdout",
     "output_type": "stream",
     "text": [
      "sudh\n",
      "callinig my raised exceptoin ('you have entered a negative value dfsa adsfdsasaf afd', 'sudh')\n"
     ]
    }
   ],
   "source": [
    "try :\n",
    "    a = input()\n",
    "    test(a)\n",
    "except Exception as e : \n",
    "    print(\"callinig my raised exceptoin\",e)\n",
    "# here code is fine but still except block get executed because in code we called one function which we \n",
    "# have created in above cell and we have mention in it that if \"sudh\"==\"sudh\" happens then show us error.\n",
    "# Now here we called supper class i.e.\"Exception\" but we got one message but it is not inbulit message it is \n",
    "# customize message. \n",
    "\n",
    "# again compare this code with following code your doubt get clear."
   ]
  },
  {
   "cell_type": "code",
   "execution_count": null,
   "id": "36560bd0",
   "metadata": {},
   "outputs": [],
   "source": [
    "# so in a interview if some one is gonig to ask you that by rasing an exception on top of string, so it is \n",
    "# possible to call io Exceptions to overwrite it,it is possible to call ZeroDevisionError. keyboard-\n",
    "# Intrupt error?\n",
    "# Ans:- Yes it is possible i can over write any kind of classes."
   ]
  },
  {
   "cell_type": "code",
   "execution_count": 20,
   "id": "dd57a7f8",
   "metadata": {},
   "outputs": [
    {
     "name": "stdout",
     "output_type": "stream",
     "text": [
      "hgcgh\n"
     ]
    }
   ],
   "source": [
    "try :\n",
    "    a = input()\n",
    "    test(a)\n",
    "except Exception as e : \n",
    "    print(\"callinig my raised exceptoin\",e)"
   ]
  },
  {
   "cell_type": "code",
   "execution_count": 59,
   "id": "2ca2d5a6",
   "metadata": {},
   "outputs": [],
   "source": [
    "# watch video from 1hr.52min to 2hr.4min imp"
   ]
  },
  {
   "cell_type": "markdown",
   "id": "210bf3b9",
   "metadata": {},
   "source": [
    "## LOGGING"
   ]
  },
  {
   "cell_type": "code",
   "execution_count": 23,
   "id": "c10ee969",
   "metadata": {},
   "outputs": [
    {
     "name": "stdout",
     "output_type": "stream",
     "text": [
      "hgfghh\n"
     ]
    }
   ],
   "source": [
    "print(\"hgfghh\")"
   ]
  },
  {
   "cell_type": "code",
   "execution_count": 61,
   "id": "d87883d9",
   "metadata": {},
   "outputs": [],
   "source": [
    "# IN production environment we are not going to use print keyword it is strictly prohibited.\n",
    "# It is uses only for developer referance. In production environment we call a logger insted of print.\n",
    "\n",
    "# Logging is way by which you will be able to keep track fo yor error,warning or debug every thing so that \n",
    "# if go for investigation in future you will be able to do the investigation. whatever std. product weather \n",
    "# its AWS ,GCP, Azure or in other data bases etc."
   ]
  },
  {
   "cell_type": "code",
   "execution_count": null,
   "id": "f28d5fb7",
   "metadata": {},
   "outputs": [],
   "source": [
    "# we can create different kinds of log.\n",
    "# 1. DEBUG  \n",
    "# 2. INFO \n",
    "# 3. WARNING \n",
    "# 4. ERROR \n",
    "# 5. CRITICAL"
   ]
  },
  {
   "cell_type": "code",
   "execution_count": 1,
   "id": "837fd747",
   "metadata": {},
   "outputs": [],
   "source": [
    "import logging"
   ]
  },
  {
   "cell_type": "code",
   "execution_count": 3,
   "id": "c604e3ce",
   "metadata": {},
   "outputs": [],
   "source": [
    "logging.basicConfig(filename=\"test.log\")"
   ]
  },
  {
   "cell_type": "code",
   "execution_count": 4,
   "id": "475cfacf",
   "metadata": {},
   "outputs": [],
   "source": [
    "logging.info(\"this is my info log\")\n",
    "logging.warning(\"this is my warning log\")\n",
    "logging.error(\"this is my error log\")\n",
    "# test.log file will be created. see it on Home."
   ]
  },
  {
   "cell_type": "code",
   "execution_count": 5,
   "id": "73263d26",
   "metadata": {},
   "outputs": [],
   "source": [
    "# if we want to shut down the file then :-\n",
    "# logging.shutdown()    # <--- run this code by removig '#'"
   ]
  },
  {
   "cell_type": "code",
   "execution_count": 2,
   "id": "02d12338",
   "metadata": {},
   "outputs": [],
   "source": [
    "# now here logging.info is not working. means inside the file it is not showing.\n",
    "# so do the following steps.\n",
    "# Add   level=logging.INFO   this into the   logging.basicConfig(filename=\"test.log\") so we will get following \n",
    "# line.\n",
    "\n",
    "# logging.basicConfig(filename=\"test.log\",level=logging.INFO)\n",
    "# Then it will resolve the problem.\n",
    "\n",
    "import logging\n",
    "\n",
    "logging.basicConfig(filename=\"test.log\",level=logging.INFO)\n",
    "\n",
    "logging.info(\"this is my info log\")\n",
    "logging.warning(\"this is my warning log\")\n",
    "logging.error(\"this is my error log\")\n"
   ]
  },
  {
   "cell_type": "code",
   "execution_count": 1,
   "id": "b857784f",
   "metadata": {},
   "outputs": [],
   "source": [
    "# Now here 'level=looging.DEBUG'\n",
    "import logging\n",
    "\n",
    "logging.basicConfig(filename=\"test.log\",level=logging.DEBUG,format='%(asctime)s %(message)s')\n",
    "\n",
    "logging.info(\"this is my info log\")\n",
    "logging.warning(\"this is my warning log\")\n",
    "logging.debug(\"this is my debug log\")"
   ]
  },
  {
   "cell_type": "code",
   "execution_count": 1,
   "id": "9b24a404",
   "metadata": {},
   "outputs": [],
   "source": [
    "# %(levelname)s\n",
    "\n",
    "import logging\n",
    "\n",
    "logging.basicConfig(filename=\"test.log\",level=logging.DEBUG,format='%(asctime)s %(levelname)s %(message)s')\n",
    "\n",
    "logging.info(\"this is my info log\")\n",
    "logging.warning(\"this is my warning log\")\n",
    "logging.debug(\"this is my debug log\")"
   ]
  },
  {
   "cell_type": "code",
   "execution_count": 3,
   "id": "03bacc77",
   "metadata": {},
   "outputs": [],
   "source": [
    "# If we put level= logging.ERROR (1st priority)            <----- go with this all time.\n",
    "# Then it will give 'ERROR log' only into the file.\n",
    "\n",
    "# If we put level= logging.warning (2snd priority)\n",
    "# Then it will give 'ERROR log'and 'Warning log'into the file.\n",
    "\n",
    "# If we put level= logging.INFO (3rd priority)\n",
    "# Then it will give 'ERROR log', 'Warning log', 'INFO log'into the file.\n",
    "\n",
    "# If we put level= logging.DEBUG (4th priority)\n",
    "# Then it will give 'ERROR log', 'Warning log', 'INFO log' and 'DEBUG log'into the file."
   ]
  },
  {
   "cell_type": "code",
   "execution_count": 1,
   "id": "106207b4",
   "metadata": {},
   "outputs": [],
   "source": [
    "import logging\n",
    "logging.basicConfig(filename = \"test11.log\" , level = logging.DEBUG, \n",
    "format ='%(asctime)s %(levelname)s %(message)s' )7"
   ]
  },
  {
   "cell_type": "code",
   "execution_count": 2,
   "id": "8c7b4a74",
   "metadata": {},
   "outputs": [],
   "source": [
    "def divbyzero(a,b) :\n",
    "    logging.info(\"this is a start of my code and i am try to enter %s and %s\" , a,b)\n",
    "    try:\n",
    "        div = a/b\n",
    "        logging.info(\"executed succ\")\n",
    "    except Exception as e :\n",
    "        logging.error(\"Error has happend \")\n",
    "        logging.exception(\"Exception occured \" + str(e))"
   ]
  },
  {
   "cell_type": "code",
   "execution_count": 3,
   "id": "bdee026c",
   "metadata": {},
   "outputs": [],
   "source": [
    "divbyzero(4,5)"
   ]
  },
  {
   "cell_type": "code",
   "execution_count": 3,
   "id": "7e81d861",
   "metadata": {},
   "outputs": [],
   "source": [
    "divbyzero(4,0) # After Executing this none of the message is printed in the consol.\n",
    "# all it will be avil inside the file \"test.log1\"."
   ]
  },
  {
   "cell_type": "code",
   "execution_count": 4,
   "id": "d0225058",
   "metadata": {},
   "outputs": [
    {
     "ename": "ZeroDivisionError",
     "evalue": "division by zero",
     "output_type": "error",
     "traceback": [
      "\u001b[0;31m---------------------------------------------------------------------------\u001b[0m",
      "\u001b[0;31mZeroDivisionError\u001b[0m                         Traceback (most recent call last)",
      "\u001b[0;32m<ipython-input-4-221068dc2815>\u001b[0m in \u001b[0;36m<module>\u001b[0;34m\u001b[0m\n\u001b[0;32m----> 1\u001b[0;31m \u001b[0;36m4\u001b[0m\u001b[0;34m/\u001b[0m\u001b[0;36m0\u001b[0m\u001b[0;34m\u001b[0m\u001b[0;34m\u001b[0m\u001b[0m\n\u001b[0m",
      "\u001b[0;31mZeroDivisionError\u001b[0m: division by zero"
     ]
    }
   ],
   "source": [
    "4/0 # whatever the message is giving below it is in the file also.\n",
    "\n",
    "\"\"\"\n",
    "ZeroDivisionError                         Traceback (most recent call last)\n",
    "<ipython-input-4-221068dc2815> in <module>\n",
    "----> 1 4/0\n",
    "\n",
    "ZeroDivisionError: division by zero\n",
    "\"\"\""
   ]
  },
  {
   "cell_type": "code",
   "execution_count": null,
   "id": "a0051473",
   "metadata": {},
   "outputs": [],
   "source": []
  }
 ],
 "metadata": {
  "kernelspec": {
   "display_name": "Python 3 (ipykernel)",
   "language": "python",
   "name": "python3"
  },
  "language_info": {
   "codemirror_mode": {
    "name": "ipython",
    "version": 3
   },
   "file_extension": ".py",
   "mimetype": "text/x-python",
   "name": "python",
   "nbconvert_exporter": "python",
   "pygments_lexer": "ipython3",
   "version": "3.7.7"
  }
 },
 "nbformat": 4,
 "nbformat_minor": 5
}
