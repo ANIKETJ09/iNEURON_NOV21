{
 "cells": [
  {
   "cell_type": "markdown",
   "metadata": {
    "id": "Jjztv3RoTMVC"
   },
   "source": [
    "# Intro to linear Algebra"
   ]
  },
  {
   "cell_type": "markdown",
   "metadata": {
    "id": "SL4OUe1iTT5R"
   },
   "source": [
    "## Scalars using numpy, pytorch and tensorflow"
   ]
  },
  {
   "cell_type": "code",
   "execution_count": 3,
   "metadata": {},
   "outputs": [
    {
     "name": "stdout",
     "output_type": "stream",
     "text": [
      "Requirement already satisfied: pip in /opt/anaconda3/lib/python3.7/site-packages (22.0.4)\n",
      "Collecting pip\n",
      "  Downloading pip-22.1-py3-none-any.whl (2.1 MB)\n",
      "\u001b[K     |████████████████████████████████| 2.1 MB 1.3 MB/s eta 0:00:01\n",
      "\u001b[?25hInstalling collected packages: pip\n",
      "  Attempting uninstall: pip\n",
      "    Found existing installation: pip 22.0.4\n",
      "    Uninstalling pip-22.0.4:\n",
      "      Successfully uninstalled pip-22.0.4\n",
      "Successfully installed pip-22.1\n",
      "Note: you may need to restart the kernel to use updated packages.\n"
     ]
    }
   ],
   "source": [
    "pip install --upgrade pip"
   ]
  },
  {
   "cell_type": "code",
   "execution_count": 4,
   "metadata": {},
   "outputs": [
    {
     "name": "stdout",
     "output_type": "stream",
     "text": [
      "Requirement already satisfied: torch in /opt/anaconda3/lib/python3.7/site-packages (1.11.0)\n",
      "Requirement already satisfied: typing-extensions in /opt/anaconda3/lib/python3.7/site-packages (from torch) (4.1.1)\n",
      "Note: you may need to restart the kernel to use updated packages.\n"
     ]
    }
   ],
   "source": [
    "pip install torch"
   ]
  },
  {
   "cell_type": "code",
   "execution_count": 1,
   "metadata": {
    "id": "e52kzqzumrBv"
   },
   "outputs": [],
   "source": [
    "import numpy as np\n",
    "import torch\n",
    "import tensorflow as tf\n",
    "import matplotlib.pyplot as plt"
   ]
  },
  {
   "cell_type": "code",
   "execution_count": null,
   "metadata": {
    "id": "qsUR7Et1mxVm"
   },
   "outputs": [],
   "source": [
    "x = np.array([2])\n",
    "x"
   ]
  },
  {
   "cell_type": "code",
   "execution_count": null,
   "metadata": {
    "id": "NcUoNxr5jwcc"
   },
   "outputs": [],
   "source": [
    "np.arange(1,10,2)"
   ]
  },
  {
   "cell_type": "code",
   "execution_count": null,
   "metadata": {
    "id": "4I3x0FgrjwSl"
   },
   "outputs": [],
   "source": [
    "np.linspace(1,10,5)"
   ]
  },
  {
   "cell_type": "code",
   "execution_count": null,
   "metadata": {
    "id": "vgt_ZgJC1H5O"
   },
   "outputs": [],
   "source": [
    "xpt = torch.tensor([2.])\n",
    "xpt"
   ]
  },
  {
   "cell_type": "code",
   "execution_count": null,
   "metadata": {
    "id": "JNhORbRskGFN"
   },
   "outputs": [],
   "source": [
    "type(2)"
   ]
  },
  {
   "cell_type": "code",
   "execution_count": null,
   "metadata": {
    "id": "TMVoJtYekGCl"
   },
   "outputs": [],
   "source": [
    "type(2.0)"
   ]
  },
  {
   "cell_type": "code",
   "execution_count": null,
   "metadata": {
    "id": "g_CG3gOh1H12"
   },
   "outputs": [],
   "source": [
    "xtf = tf.Variable([2.])\n",
    "xtf"
   ]
  },
  {
   "cell_type": "code",
   "execution_count": null,
   "metadata": {
    "id": "xU7QGuFnkmFm"
   },
   "outputs": [],
   "source": [
    "tf.rank(xtf)"
   ]
  },
  {
   "cell_type": "markdown",
   "metadata": {
    "id": "meu0hL-dVvji"
   },
   "source": [
    "## Vectors using numpy, pytorch, tensorflow (Rank 1 Tensor)"
   ]
  },
  {
   "cell_type": "code",
   "execution_count": null,
   "metadata": {
    "id": "1ewt2yMoUxYy"
   },
   "outputs": [],
   "source": [
    "x = np.array([2,3])\n",
    "x"
   ]
  },
  {
   "cell_type": "code",
   "execution_count": null,
   "metadata": {
    "id": "kZfOoDNzUxTL"
   },
   "outputs": [],
   "source": [
    "xpt = torch.tensor([2,3.])\n",
    "xpt"
   ]
  },
  {
   "cell_type": "code",
   "execution_count": null,
   "metadata": {
    "id": "URvW9LaaUxQT"
   },
   "outputs": [],
   "source": [
    "xtf = tf.Variable([2,3.])\n",
    "xtf"
   ]
  },
  {
   "cell_type": "code",
   "execution_count": null,
   "metadata": {
    "id": "VV4IxebPwqYv"
   },
   "outputs": [],
   "source": [
    "tf.rank(xtf)"
   ]
  },
  {
   "cell_type": "code",
   "execution_count": null,
   "metadata": {
    "id": "tkvb7gIqUxJ6"
   },
   "outputs": [],
   "source": [
    "plt.style.use('fivethirtyeight')\n",
    "plt.axhline(y=0, color = 'lightgrey')\n",
    "plt.axvline(x=0, color = 'lightgrey');\n",
    "plt.quiver([0,0],[0,0],[3,2],[1,4], scale=1, color = 'red', scale_units='xy', angles='xy')\n",
    "plt.xlim(-1, 5)\n",
    "plt.ylim(-1, 5)"
   ]
  },
  {
   "cell_type": "markdown",
   "metadata": {
    "id": "EV7woSPtnJyk"
   },
   "source": [
    "## $L^2$ Norm"
   ]
  },
  {
   "cell_type": "code",
   "execution_count": null,
   "metadata": {
    "id": "kcX60G7HnFBy"
   },
   "outputs": [],
   "source": [
    "x = np.array([12,5,6])\n",
    "x"
   ]
  },
  {
   "cell_type": "code",
   "execution_count": null,
   "metadata": {
    "id": "UY9wMIWRnE8z"
   },
   "outputs": [],
   "source": [
    "np.linalg.norm(x)"
   ]
  },
  {
   "cell_type": "code",
   "execution_count": null,
   "metadata": {
    "id": "hwAeB9SSnE51"
   },
   "outputs": [],
   "source": [
    "(12**2+5**2+6**2)**(1/2)"
   ]
  },
  {
   "cell_type": "code",
   "execution_count": null,
   "metadata": {
    "id": "x2UoSjkBlPPs"
   },
   "outputs": [],
   "source": [
    "xpt = torch.tensor([12,5,6.])\n",
    "xpt"
   ]
  },
  {
   "cell_type": "code",
   "execution_count": null,
   "metadata": {
    "id": "MgidN_S1lPHt"
   },
   "outputs": [],
   "source": [
    "torch.norm(xpt)"
   ]
  },
  {
   "cell_type": "code",
   "execution_count": null,
   "metadata": {
    "id": "JmfCk00xlPEc"
   },
   "outputs": [],
   "source": []
  },
  {
   "cell_type": "markdown",
   "metadata": {
    "id": "QT0qK0JatdjN"
   },
   "source": [
    "## Distance formla"
   ]
  },
  {
   "cell_type": "code",
   "execution_count": null,
   "metadata": {
    "id": "ip347VvhtiIN"
   },
   "outputs": [],
   "source": [
    "x = np.array([12,5,6])\n",
    "x"
   ]
  },
  {
   "cell_type": "code",
   "execution_count": null,
   "metadata": {
    "id": "ERE62icwtin8"
   },
   "outputs": [],
   "source": [
    "y = np.array([3,4,9])\n",
    "y"
   ]
  },
  {
   "cell_type": "code",
   "execution_count": null,
   "metadata": {
    "id": "mXY5ujwEtik8"
   },
   "outputs": [],
   "source": [
    "((12-3)**2+(5-4)**2+(6-9)**2)**(1/2)"
   ]
  },
  {
   "cell_type": "code",
   "execution_count": null,
   "metadata": {
    "id": "yYT_6fPqt4-N"
   },
   "outputs": [],
   "source": [
    "np.linalg.norm(x-y)"
   ]
  },
  {
   "cell_type": "markdown",
   "metadata": {
    "id": "SD9wVHaCpf9L"
   },
   "source": [
    "## $L^1$ Norm"
   ]
  },
  {
   "cell_type": "code",
   "execution_count": null,
   "metadata": {
    "id": "mUy4uqQ7JtHV"
   },
   "outputs": [],
   "source": [
    "x = np.array([2,-5,-6])\n",
    "x"
   ]
  },
  {
   "cell_type": "code",
   "execution_count": null,
   "metadata": {
    "id": "q7hZbYlwgCYY"
   },
   "outputs": [],
   "source": [
    "np.abs(2) + np.abs(-5)+np.abs(-6)"
   ]
  },
  {
   "cell_type": "markdown",
   "metadata": {
    "id": "MwoTZM1WqDHk"
   },
   "source": [
    "## Squared $L^2$ Norm"
   ]
  },
  {
   "cell_type": "code",
   "execution_count": null,
   "metadata": {
    "id": "ud_ruSbLpewl"
   },
   "outputs": [],
   "source": [
    "x = np.array([12,5,6])\n",
    "x"
   ]
  },
  {
   "cell_type": "code",
   "execution_count": null,
   "metadata": {
    "id": "tOAgm1k-qV1E"
   },
   "outputs": [],
   "source": [
    "12*12+5*5+6*6"
   ]
  },
  {
   "cell_type": "code",
   "execution_count": null,
   "metadata": {
    "id": "dWWw79VXmI20"
   },
   "outputs": [],
   "source": [
    "12**2+5**2+6**2"
   ]
  },
  {
   "cell_type": "code",
   "execution_count": null,
   "metadata": {
    "id": "WfJR3LM5peuD"
   },
   "outputs": [],
   "source": [
    "np.dot(x,x)"
   ]
  },
  {
   "cell_type": "code",
   "execution_count": null,
   "metadata": {
    "id": "emlSfjx3mQtU"
   },
   "outputs": [],
   "source": []
  },
  {
   "cell_type": "markdown",
   "metadata": {
    "id": "sgnHDcvprRv1"
   },
   "source": [
    "## Rank 2 tensors (Matrices)"
   ]
  },
  {
   "cell_type": "code",
   "execution_count": null,
   "metadata": {
    "id": "jeBB0qmgpeq7"
   },
   "outputs": [],
   "source": [
    "x = np.array([[2,6,5],[9,6,7],[6,5,8]])\n",
    "x"
   ]
  },
  {
   "cell_type": "code",
   "execution_count": null,
   "metadata": {
    "id": "YspAVLshpeoM"
   },
   "outputs": [],
   "source": [
    "x.shape"
   ]
  },
  {
   "cell_type": "code",
   "execution_count": null,
   "metadata": {
    "id": "aVDcrdEcmbqO"
   },
   "outputs": [],
   "source": [
    "xpt = torch.tensor([[2,6,5],[9,6,7],[6,5,8.]])\n",
    "xpt"
   ]
  },
  {
   "cell_type": "code",
   "execution_count": null,
   "metadata": {
    "id": "NPpwQTOeJ5y9"
   },
   "outputs": [],
   "source": [
    "xtf = tf.Variable([[2,6,5],[9,6,7],[6,5,8.]])\n",
    "xtf"
   ]
  },
  {
   "cell_type": "code",
   "execution_count": null,
   "metadata": {
    "id": "yZpCc60XKSFs"
   },
   "outputs": [],
   "source": [
    "tf.rank(xtf)"
   ]
  },
  {
   "cell_type": "markdown",
   "metadata": {
    "id": "kEwNCsubrxEV"
   },
   "source": [
    "### Indexing"
   ]
  },
  {
   "cell_type": "code",
   "execution_count": null,
   "metadata": {
    "id": "GVrr_IneKp3K"
   },
   "outputs": [],
   "source": [
    "x = np.array([[2,6,5],[9,6,7],[6,5,8]])\n",
    "x"
   ]
  },
  {
   "cell_type": "code",
   "execution_count": null,
   "metadata": {
    "id": "soJ-ZM10pelr"
   },
   "outputs": [],
   "source": [
    "x[2]"
   ]
  },
  {
   "cell_type": "code",
   "execution_count": null,
   "metadata": {
    "id": "XdBQy_nPpejv"
   },
   "outputs": [],
   "source": [
    "x[1:,1:]"
   ]
  },
  {
   "cell_type": "code",
   "execution_count": null,
   "metadata": {
    "id": "0jOLT04ym9_F"
   },
   "outputs": [],
   "source": [
    "x[:,1]"
   ]
  },
  {
   "cell_type": "code",
   "execution_count": null,
   "metadata": {
    "id": "hyKehtEWm94D"
   },
   "outputs": [],
   "source": [
    "x[:,:]"
   ]
  },
  {
   "cell_type": "markdown",
   "metadata": {
    "id": "CuKnKx82wKUt"
   },
   "source": [
    "### Matrices in Pytorch and tensorflow"
   ]
  },
  {
   "cell_type": "code",
   "execution_count": null,
   "metadata": {
    "id": "coduFj__pehU"
   },
   "outputs": [],
   "source": [
    "xpt = torch.tensor([[32,20],[12,16],[5,6.]])\n",
    "xpt"
   ]
  },
  {
   "cell_type": "code",
   "execution_count": null,
   "metadata": {
    "id": "81X8b5ua2vwa"
   },
   "outputs": [],
   "source": [
    "torch.linalg.matrix_rank(xpt)"
   ]
  },
  {
   "cell_type": "code",
   "execution_count": null,
   "metadata": {
    "id": "M4P2f0bangqL"
   },
   "outputs": [],
   "source": [
    "(32**2+20**2+12**2+16**2+5**2+6**2)**(1/2)"
   ]
  },
  {
   "cell_type": "code",
   "execution_count": null,
   "metadata": {
    "id": "i_z8BNAmpeeT"
   },
   "outputs": [],
   "source": [
    "torch.norm(xpt)"
   ]
  },
  {
   "cell_type": "code",
   "execution_count": null,
   "metadata": {
    "id": "TErzPBU8pebc"
   },
   "outputs": [],
   "source": [
    "xtf = tf.Variable([[32,20],[12,16],[5,6.]])\n",
    "xtf"
   ]
  },
  {
   "cell_type": "code",
   "execution_count": null,
   "metadata": {
    "id": "JTHDanJLpeWs"
   },
   "outputs": [],
   "source": [
    "tf.rank(xtf)"
   ]
  },
  {
   "cell_type": "markdown",
   "metadata": {
    "id": "fckUFmM4EL83"
   },
   "source": [
    "# Tensor Operations"
   ]
  },
  {
   "cell_type": "markdown",
   "metadata": {
    "id": "_APHSZzSESZP"
   },
   "source": [
    "## Transposition"
   ]
  },
  {
   "cell_type": "code",
   "execution_count": null,
   "metadata": {
    "id": "xrnQOjCA3guc"
   },
   "outputs": [],
   "source": [
    "import numpy as np\n",
    "import torch\n",
    "import tensorflow as tf"
   ]
  },
  {
   "cell_type": "code",
   "execution_count": null,
   "metadata": {
    "id": "KbERR4eVpeTk"
   },
   "outputs": [],
   "source": [
    "x = np.array([[2,3,5],[9,6,8]])\n",
    "x"
   ]
  },
  {
   "cell_type": "code",
   "execution_count": null,
   "metadata": {
    "id": "p01ghsDT76qB"
   },
   "outputs": [],
   "source": [
    "x.shape"
   ]
  },
  {
   "cell_type": "code",
   "execution_count": null,
   "metadata": {
    "id": "O6RF96XSgCVw"
   },
   "outputs": [],
   "source": [
    "x.T"
   ]
  },
  {
   "cell_type": "code",
   "execution_count": null,
   "metadata": {
    "id": "RZ0FKmc87_OJ"
   },
   "outputs": [],
   "source": [
    "x.T.shape"
   ]
  },
  {
   "cell_type": "code",
   "execution_count": null,
   "metadata": {
    "id": "Nr2GQAyagCSy"
   },
   "outputs": [],
   "source": [
    "xpt = torch.tensor([[2,3,5],[9,6,8.]])\n",
    "xpt"
   ]
  },
  {
   "cell_type": "code",
   "execution_count": null,
   "metadata": {
    "id": "1bHSoskLScth"
   },
   "outputs": [],
   "source": [
    "xpt.T"
   ]
  },
  {
   "cell_type": "code",
   "execution_count": null,
   "metadata": {
    "id": "uIsyu3r6Scq5"
   },
   "outputs": [],
   "source": [
    "xtf = tf.Variable([[2,3,5],[9,6,8.]])\n",
    "xtf"
   ]
  },
  {
   "cell_type": "code",
   "execution_count": null,
   "metadata": {
    "id": "4OUD6aD7ScoC"
   },
   "outputs": [],
   "source": [
    "tf.transpose(xtf)"
   ]
  },
  {
   "cell_type": "markdown",
   "metadata": {
    "id": "C1hmDhTCEylJ"
   },
   "source": [
    "## Arithmetic Operations"
   ]
  },
  {
   "cell_type": "code",
   "execution_count": null,
   "metadata": {
    "id": "2CkttWN8gCNo"
   },
   "outputs": [],
   "source": [
    "x = np.array([[2,3,5],[9,6,8]])\n",
    "xpt = torch.tensor([[2,3,5],[9,6,8.]])\n",
    "xtf = tf.Variable([[2,3,5],[9,6,8.]])"
   ]
  },
  {
   "cell_type": "code",
   "execution_count": null,
   "metadata": {
    "id": "oirptwbHoClU"
   },
   "outputs": [],
   "source": [
    "x"
   ]
  },
  {
   "cell_type": "code",
   "execution_count": null,
   "metadata": {
    "id": "aUOInLYkoCdE"
   },
   "outputs": [],
   "source": [
    "xpt"
   ]
  },
  {
   "cell_type": "code",
   "execution_count": null,
   "metadata": {
    "id": "KHP99YEQoCRb"
   },
   "outputs": [],
   "source": [
    "xtf"
   ]
  },
  {
   "cell_type": "code",
   "execution_count": null,
   "metadata": {
    "id": "CwAO6yTRgCLI"
   },
   "outputs": [],
   "source": [
    "x*2"
   ]
  },
  {
   "cell_type": "code",
   "execution_count": null,
   "metadata": {
    "id": "cQYlO_lSgCIo"
   },
   "outputs": [],
   "source": [
    "x+2"
   ]
  },
  {
   "cell_type": "code",
   "execution_count": null,
   "metadata": {
    "id": "3tmZZlbfTGqJ"
   },
   "outputs": [],
   "source": [
    "xpt*2"
   ]
  },
  {
   "cell_type": "code",
   "execution_count": null,
   "metadata": {
    "id": "bFf_8ghATKJh"
   },
   "outputs": [],
   "source": [
    "xtf*2"
   ]
  },
  {
   "cell_type": "code",
   "execution_count": null,
   "metadata": {
    "id": "rzUENdVRTONy"
   },
   "outputs": [],
   "source": [
    "torch.add(xpt,2)"
   ]
  },
  {
   "cell_type": "code",
   "execution_count": null,
   "metadata": {
    "id": "SHsH-k1U-iU4"
   },
   "outputs": [],
   "source": [
    "xpt + 2"
   ]
  },
  {
   "cell_type": "code",
   "execution_count": null,
   "metadata": {
    "id": "rU0LFvbTTYsp"
   },
   "outputs": [],
   "source": [
    "tf.add(xtf,2)"
   ]
  },
  {
   "cell_type": "code",
   "execution_count": null,
   "metadata": {
    "id": "sz4x3Yio-nDI"
   },
   "outputs": [],
   "source": [
    "xtf+2"
   ]
  },
  {
   "cell_type": "code",
   "execution_count": null,
   "metadata": {
    "id": "BSRWc2yVTc8p"
   },
   "outputs": [],
   "source": [
    "torch.mul(xpt,2)"
   ]
  },
  {
   "cell_type": "code",
   "execution_count": null,
   "metadata": {
    "id": "VYDtuK2S-qsI"
   },
   "outputs": [],
   "source": [
    "xpt*2"
   ]
  },
  {
   "cell_type": "code",
   "execution_count": null,
   "metadata": {
    "id": "k2bkdSLhThER"
   },
   "outputs": [],
   "source": [
    "tf.multiply(xtf, 2)"
   ]
  },
  {
   "cell_type": "code",
   "execution_count": null,
   "metadata": {
    "id": "88mudw9m-wxh"
   },
   "outputs": [],
   "source": [
    "xtf*2"
   ]
  },
  {
   "cell_type": "markdown",
   "metadata": {
    "id": "o9jpK8uxTyEK"
   },
   "source": [
    "### Hadamard Operations\n",
    "Element wise operations on matrices of same order"
   ]
  },
  {
   "cell_type": "code",
   "execution_count": null,
   "metadata": {
    "id": "5HZ3sijTTvPZ"
   },
   "outputs": [],
   "source": [
    "x = np.array([[2,3,5],[9,6,8]])\n",
    "xpt = torch.tensor([[2,3,5],[9,6,8.]])\n",
    "xtf = tf.Variable([[2,3,5],[9,6,8.]])"
   ]
  },
  {
   "cell_type": "code",
   "execution_count": null,
   "metadata": {
    "id": "js5O3cesALmY"
   },
   "outputs": [],
   "source": [
    "x"
   ]
  },
  {
   "cell_type": "code",
   "execution_count": null,
   "metadata": {
    "id": "vnCCWJBXAKyg"
   },
   "outputs": [],
   "source": [
    "xpt"
   ]
  },
  {
   "cell_type": "code",
   "execution_count": null,
   "metadata": {
    "id": "ZeN9ooHnAKu_"
   },
   "outputs": [],
   "source": [
    "xtf"
   ]
  },
  {
   "cell_type": "code",
   "execution_count": null,
   "metadata": {
    "id": "0m7D9uvAy2WW"
   },
   "outputs": [],
   "source": [
    "y = x+4\n",
    "y"
   ]
  },
  {
   "cell_type": "code",
   "execution_count": null,
   "metadata": {
    "id": "heY16yerAUb4"
   },
   "outputs": [],
   "source": [
    "x"
   ]
  },
  {
   "cell_type": "code",
   "execution_count": null,
   "metadata": {
    "id": "irIizVY0y2RG"
   },
   "outputs": [],
   "source": [
    "x+y"
   ]
  },
  {
   "cell_type": "code",
   "execution_count": null,
   "metadata": {
    "id": "XoZ2MdoYy2NL"
   },
   "outputs": [],
   "source": [
    "x*y"
   ]
  },
  {
   "cell_type": "code",
   "execution_count": null,
   "metadata": {
    "id": "-t0aZVTXy2KC"
   },
   "outputs": [],
   "source": [
    "y/x"
   ]
  },
  {
   "cell_type": "code",
   "execution_count": null,
   "metadata": {
    "id": "29f-McAZ_Ueh"
   },
   "outputs": [],
   "source": [
    "ypt = torch.add(xpt,2)\n",
    "ypt"
   ]
  },
  {
   "cell_type": "code",
   "execution_count": null,
   "metadata": {
    "id": "jKzxiXzaAj73"
   },
   "outputs": [],
   "source": [
    "xpt"
   ]
  },
  {
   "cell_type": "code",
   "execution_count": null,
   "metadata": {
    "id": "tkaza2lk_a8Y"
   },
   "outputs": [],
   "source": [
    "ypt+xpt"
   ]
  },
  {
   "cell_type": "code",
   "execution_count": null,
   "metadata": {
    "id": "885CSA_4_a14"
   },
   "outputs": [],
   "source": [
    "ypt/xpt"
   ]
  },
  {
   "cell_type": "markdown",
   "metadata": {
    "id": "D49o2Xtmvi1d"
   },
   "source": [
    "## Reduction"
   ]
  },
  {
   "cell_type": "code",
   "execution_count": null,
   "metadata": {
    "id": "Z_j-WyLXvfVX"
   },
   "outputs": [],
   "source": [
    "x = np.array([[2,3,5],[9,6,8]])\n",
    "xpt = torch.tensor([[2,3,5],[9,6,8.]])\n",
    "xtf = tf.Variable([[2,3,5],[9,6,8.]])"
   ]
  },
  {
   "cell_type": "code",
   "execution_count": null,
   "metadata": {
    "id": "Q1ehI5dGvzKB"
   },
   "outputs": [],
   "source": [
    "x"
   ]
  },
  {
   "cell_type": "code",
   "execution_count": null,
   "metadata": {
    "id": "v9GwqeDgvzGp"
   },
   "outputs": [],
   "source": [
    "xpt"
   ]
  },
  {
   "cell_type": "code",
   "execution_count": null,
   "metadata": {
    "id": "_FpSLZNHvzDQ"
   },
   "outputs": [],
   "source": [
    "xtf"
   ]
  },
  {
   "cell_type": "code",
   "execution_count": null,
   "metadata": {
    "id": "UGMuAcK-vtzA"
   },
   "outputs": [],
   "source": [
    "x.sum()"
   ]
  },
  {
   "cell_type": "code",
   "execution_count": null,
   "metadata": {
    "id": "GvNf6ELCvtv_"
   },
   "outputs": [],
   "source": [
    "torch.sum(xpt)"
   ]
  },
  {
   "cell_type": "code",
   "execution_count": null,
   "metadata": {
    "id": "h5ZKgBWlvttA"
   },
   "outputs": [],
   "source": [
    "tf.reduce_sum(xtf)"
   ]
  },
  {
   "cell_type": "code",
   "execution_count": null,
   "metadata": {
    "id": "JmcUUFB_BDWP"
   },
   "outputs": [],
   "source": [
    "x"
   ]
  },
  {
   "cell_type": "code",
   "execution_count": null,
   "metadata": {
    "id": "-uYc8oU5vtp3"
   },
   "outputs": [],
   "source": [
    "x.sum(axis=0)"
   ]
  },
  {
   "cell_type": "code",
   "execution_count": null,
   "metadata": {
    "id": "_9VgKTQyBFT3"
   },
   "outputs": [],
   "source": [
    "x.sum(axis=1)"
   ]
  },
  {
   "cell_type": "code",
   "execution_count": null,
   "metadata": {
    "id": "6rhuXllmvtmx"
   },
   "outputs": [],
   "source": [
    "torch.sum(xpt, 0)"
   ]
  },
  {
   "cell_type": "code",
   "execution_count": null,
   "metadata": {
    "id": "CIX9ZGc8wG2A"
   },
   "outputs": [],
   "source": [
    "tf.reduce_sum(xtf, 1)"
   ]
  },
  {
   "cell_type": "code",
   "execution_count": null,
   "metadata": {
    "id": "tlN2v19qBYdf"
   },
   "outputs": [],
   "source": [
    "x"
   ]
  },
  {
   "cell_type": "code",
   "execution_count": null,
   "metadata": {
    "id": "UCQgUcRY1F0t"
   },
   "outputs": [],
   "source": [
    "x.min(axis=0)"
   ]
  },
  {
   "cell_type": "code",
   "execution_count": null,
   "metadata": {
    "id": "8zv3IPfm3S8U"
   },
   "outputs": [],
   "source": [
    "torch.min(xpt)"
   ]
  },
  {
   "cell_type": "code",
   "execution_count": null,
   "metadata": {
    "id": "g7yr_-s83X9L"
   },
   "outputs": [],
   "source": [
    "tf.reduce_min(xtf)"
   ]
  },
  {
   "cell_type": "markdown",
   "metadata": {
    "id": "SN_Bz6Fs0C-W"
   },
   "source": [
    "## Dot Product"
   ]
  },
  {
   "cell_type": "code",
   "execution_count": null,
   "metadata": {
    "id": "aI-ZGa322-tO"
   },
   "outputs": [],
   "source": [
    "import numpy as np\n",
    "import torch\n",
    "import tensorflow as tf"
   ]
  },
  {
   "cell_type": "code",
   "execution_count": null,
   "metadata": {
    "id": "pSP0ImoN0IFf"
   },
   "outputs": [],
   "source": [
    "x = np.array([2,3,5])\n",
    "xpt = torch.tensor([2,3,5.])\n",
    "xtf = tf.Variable([2,3,5.])"
   ]
  },
  {
   "cell_type": "code",
   "execution_count": null,
   "metadata": {
    "id": "a8dtpISMObsB"
   },
   "outputs": [],
   "source": [
    "x"
   ]
  },
  {
   "cell_type": "code",
   "execution_count": null,
   "metadata": {
    "id": "y25J7dum0ILR"
   },
   "outputs": [],
   "source": [
    "y = x+1\n",
    "y"
   ]
  },
  {
   "cell_type": "code",
   "execution_count": null,
   "metadata": {
    "id": "qlz5-c9w0IIh"
   },
   "outputs": [],
   "source": [
    "np.dot(x,y)"
   ]
  },
  {
   "cell_type": "code",
   "execution_count": null,
   "metadata": {
    "id": "AD3kjjtnOh5i"
   },
   "outputs": [],
   "source": [
    "2*3+3*4+5*6"
   ]
  },
  {
   "cell_type": "code",
   "execution_count": null,
   "metadata": {
    "id": "gUZbnxKo0Vr4"
   },
   "outputs": [],
   "source": [
    "ypt = torch.tensor([9,6,5.])\n",
    "ypt"
   ]
  },
  {
   "cell_type": "code",
   "execution_count": null,
   "metadata": {
    "id": "bAEoZPonOnox"
   },
   "outputs": [],
   "source": [
    "xpt"
   ]
  },
  {
   "cell_type": "code",
   "execution_count": null,
   "metadata": {
    "id": "4n8lEEsY0Vlo"
   },
   "outputs": [],
   "source": [
    "torch.dot(xpt,ypt)"
   ]
  },
  {
   "cell_type": "code",
   "execution_count": null,
   "metadata": {
    "id": "o9yu9DXr0Vi2"
   },
   "outputs": [],
   "source": [
    "ytf = tf.Variable([9,6,5.])\n",
    "ytf"
   ]
  },
  {
   "cell_type": "code",
   "execution_count": null,
   "metadata": {
    "id": "69UGxdbQOuZR"
   },
   "outputs": [],
   "source": [
    "xtf"
   ]
  },
  {
   "cell_type": "code",
   "execution_count": null,
   "metadata": {
    "id": "9zduMcic0Vam"
   },
   "outputs": [],
   "source": [
    "tf.reduce_sum(tf.multiply(xtf, ytf))"
   ]
  },
  {
   "cell_type": "code",
   "execution_count": null,
   "metadata": {
    "id": "7EpLcfrHuT_w"
   },
   "outputs": [],
   "source": [
    "tf.tensordot(xtf,ytf,1)"
   ]
  },
  {
   "cell_type": "markdown",
   "metadata": {
    "id": "kwn_c69kBZ_N"
   },
   "source": [
    "## Orthogonal Vectors"
   ]
  },
  {
   "cell_type": "code",
   "execution_count": null,
   "metadata": {
    "id": "qGqWi7FHBZo2"
   },
   "outputs": [],
   "source": [
    "i = np.array([1,0])\n",
    "i"
   ]
  },
  {
   "cell_type": "code",
   "execution_count": null,
   "metadata": {
    "id": "u5LTNcBZBZlR"
   },
   "outputs": [],
   "source": [
    "j = np.array([0,1])\n",
    "j"
   ]
  },
  {
   "cell_type": "code",
   "execution_count": null,
   "metadata": {
    "id": "9Yb6v1ukBZh7"
   },
   "outputs": [],
   "source": [
    "np.dot(i,j)"
   ]
  },
  {
   "cell_type": "markdown",
   "metadata": {
    "id": "3k9DOZ--ID-B"
   },
   "source": [
    "# Ploting linear equation"
   ]
  },
  {
   "cell_type": "code",
   "execution_count": 2,
   "metadata": {
    "id": "DHGhb5mP-YR-"
   },
   "outputs": [],
   "source": [
    "import numpy as np\n",
    "import matplotlib.pyplot as plt"
   ]
  },
  {
   "cell_type": "code",
   "execution_count": 3,
   "metadata": {
    "id": "BukEBQWwINUJ"
   },
   "outputs": [],
   "source": [
    "x = np.linspace(-10,10,1000)"
   ]
  },
  {
   "cell_type": "code",
   "execution_count": 4,
   "metadata": {
    "id": "xluTBkYcINRA"
   },
   "outputs": [],
   "source": [
    "y1 = 2*x + 1\n",
    "y2 = x + 3"
   ]
  },
  {
   "cell_type": "markdown",
   "metadata": {
    "id": "muLqxZEtLeua"
   },
   "source": [
    "Solve for the equations\n",
    "$$ y = 2x + 1$$\n",
    "$$ y = x + 3 $$\n",
    "gives $$ x = 2$$\n",
    "$$ y = 5 $$"
   ]
  },
  {
   "cell_type": "code",
   "execution_count": 5,
   "metadata": {
    "id": "cB3pLxDXINOY"
   },
   "outputs": [
    {
     "data": {
      "image/png": "[encoded data removed]",
      "text/plain": [
       "<Figure size 600x400 with 1 Axes>"
      ]
     },
     "metadata": {
      "needs_background": "light"
     },
     "output_type": "display_data"
    }
   ],
   "source": [
    "fig,axes = plt.subplots(dpi=100)\n",
    "\n",
    "plt.xlabel('x-axis')\n",
    "plt.ylabel('y-axis')\n",
    "\n",
    "plt.axhline(y = 0, color = 'lightgrey')\n",
    "plt.axvline(x = 0, color= 'lightgrey')\n",
    "\n",
    "plt.axhline(y=5, linestyle='--')\n",
    "plt.axvline(x=2, linestyle='--')\n",
    "\n",
    "axes.set_xlim([-1,5])\n",
    "axes.set_ylim([-1,7])\n",
    "\n",
    "axes.plot(x,y1, color= 'green')\n",
    "axes.plot(x,y2, color = 'blue');"
   ]
  },
  {
   "cell_type": "code",
   "execution_count": 6,
   "metadata": {
    "id": "r6rMWRErDdmm"
   },
   "outputs": [],
   "source": [
    "y1 = 3*x + 1\n",
    "y2 = x + 3"
   ]
  },
  {
   "cell_type": "code",
   "execution_count": 7,
   "metadata": {
    "id": "droYwVnuDdjv"
   },
   "outputs": [
    {
     "data": {
      "image/png": "[encoded data removed]",
      "text/plain": [
       "<Figure size 600x400 with 1 Axes>"
      ]
     },
     "metadata": {
      "needs_background": "light"
     },
     "output_type": "display_data"
    }
   ],
   "source": [
    "fig, axes = plt.subplots(dpi=100)\n",
    "\n",
    "plt.xlabel('x-axis')\n",
    "plt.ylabel('y-axis')\n",
    "\n",
    "plt.axhline(y = 0, color = 'lightgrey')\n",
    "plt.axvline(x = 0, color= 'lightgrey')\n",
    "\n",
    "axes.set_xlim([-1,5])\n",
    "axes.set_ylim([-1,7])\n",
    "\n",
    "axes.plot(x,y1, color= 'green')\n",
    "axes.plot(x,y2, color = 'blue');"
   ]
  },
  {
   "cell_type": "markdown",
   "metadata": {
    "id": "Da008d7vNEHq"
   },
   "source": [
    "# Properties of Matrix"
   ]
  },
  {
   "cell_type": "markdown",
   "metadata": {
    "id": "P2jHKyDHNJpx"
   },
   "source": [
    "## Norm"
   ]
  },
  {
   "cell_type": "code",
   "execution_count": null,
   "metadata": {
    "id": "_1lKXQQICIpP"
   },
   "outputs": [],
   "source": [
    "import numpy as np\n",
    "import torch\n",
    "import tensorflow as tf\n",
    "import matplotlib.pyplot as plt"
   ]
  },
  {
   "cell_type": "code",
   "execution_count": null,
   "metadata": {
    "id": "do8dIp2_INLh"
   },
   "outputs": [],
   "source": [
    "x = np.array([[2,6],[5,8]])\n",
    "x"
   ]
  },
  {
   "cell_type": "code",
   "execution_count": null,
   "metadata": {
    "id": "64HXRwtKINJC"
   },
   "outputs": [],
   "source": [
    "(2**2+6**2+5**2+8**2)**(1/2)"
   ]
  },
  {
   "cell_type": "code",
   "execution_count": null,
   "metadata": {
    "id": "ONwJCUEiUW0r"
   },
   "outputs": [],
   "source": [
    "np.linalg.norm(x)"
   ]
  },
  {
   "cell_type": "code",
   "execution_count": null,
   "metadata": {
    "id": "6jPTpSz1Rl3Q"
   },
   "outputs": [],
   "source": [
    "y = np.array([[2,3,6],[6,5,8],[12,15,9]])\n",
    "y"
   ]
  },
  {
   "cell_type": "code",
   "execution_count": null,
   "metadata": {
    "id": "zAeSeu0eRvzA"
   },
   "outputs": [],
   "source": [
    "np.linalg.norm(y)"
   ]
  },
  {
   "cell_type": "code",
   "execution_count": null,
   "metadata": {
    "id": "bWsYY3YXUfcz"
   },
   "outputs": [],
   "source": [
    "xpt = torch.tensor([[2,6],[5,8.]])\n",
    "xpt"
   ]
  },
  {
   "cell_type": "code",
   "execution_count": null,
   "metadata": {
    "id": "CFtcuhnVUfX7"
   },
   "outputs": [],
   "source": [
    "torch.norm(xpt)"
   ]
  },
  {
   "cell_type": "code",
   "execution_count": null,
   "metadata": {
    "id": "IHQ-KZ3iUfSz"
   },
   "outputs": [],
   "source": [
    "xtf = tf.Variable([[2,6],[5,8.]])\n",
    "xtf"
   ]
  },
  {
   "cell_type": "code",
   "execution_count": null,
   "metadata": {
    "id": "DQARE9OUUfPq"
   },
   "outputs": [],
   "source": [
    "tf.norm(xtf)"
   ]
  },
  {
   "cell_type": "markdown",
   "metadata": {
    "id": "szbC-4TOSx5r"
   },
   "source": [
    "Properties of Norm\n",
    "\n",
    "Absolutely homogeneous:  $ ||Cx|| = |C| ||x|| $\n",
    "\n",
    "Triangular inequality:  $ || x + y|| <= ||x|| + ||y|| $\n",
    "\n",
    "Positive definite:  $ ||x|| >= 0 $ and $ ||x|| = 0 $ implies $ x = 0 $ "
   ]
  },
  {
   "cell_type": "code",
   "execution_count": null,
   "metadata": {
    "id": "JtGC9IClINGh"
   },
   "outputs": [],
   "source": [
    "x = np.array([[2,6],[5,8]])\n",
    "x"
   ]
  },
  {
   "cell_type": "code",
   "execution_count": null,
   "metadata": {
    "id": "0NsnzdSZINDo"
   },
   "outputs": [],
   "source": [
    "y = x+2\n",
    "y"
   ]
  },
  {
   "cell_type": "code",
   "execution_count": null,
   "metadata": {
    "id": "PMFeOODyINAg"
   },
   "outputs": [],
   "source": [
    "np.linalg.norm(2*x)"
   ]
  },
  {
   "cell_type": "code",
   "execution_count": null,
   "metadata": {
    "id": "EZt0Bj7gVF9b"
   },
   "outputs": [],
   "source": [
    "2 * np.linalg.norm(x)"
   ]
  },
  {
   "cell_type": "code",
   "execution_count": null,
   "metadata": {
    "id": "DJP7wG-XSl4P"
   },
   "outputs": [],
   "source": [
    "np.linalg.norm(-5*x)"
   ]
  },
  {
   "cell_type": "code",
   "execution_count": null,
   "metadata": {
    "id": "h8ELOV9QSlsw"
   },
   "outputs": [],
   "source": [
    "5* np.linalg.norm(x)"
   ]
  },
  {
   "cell_type": "code",
   "execution_count": null,
   "metadata": {
    "id": "zLF2gkNJTX-v"
   },
   "outputs": [],
   "source": [
    "x"
   ]
  },
  {
   "cell_type": "code",
   "execution_count": null,
   "metadata": {
    "id": "t9SDku2yTZbH"
   },
   "outputs": [],
   "source": [
    "y"
   ]
  },
  {
   "cell_type": "code",
   "execution_count": null,
   "metadata": {
    "id": "lj7tfjrndgUD"
   },
   "outputs": [],
   "source": [
    "np.linalg.norm(x+y)"
   ]
  },
  {
   "cell_type": "code",
   "execution_count": null,
   "metadata": {
    "id": "VdpC5M-CVF1n"
   },
   "outputs": [],
   "source": [
    "np.linalg.norm(x) + np.linalg.norm(y)"
   ]
  },
  {
   "cell_type": "code",
   "execution_count": null,
   "metadata": {
    "id": "PkVPsHNedBJj"
   },
   "outputs": [],
   "source": [
    "y = np.array([[3,5],[9,7]])\n",
    "y"
   ]
  },
  {
   "cell_type": "code",
   "execution_count": null,
   "metadata": {
    "id": "ggM3mFbPda9r"
   },
   "outputs": [],
   "source": [
    "np.linalg.norm(x+y)"
   ]
  },
  {
   "cell_type": "code",
   "execution_count": null,
   "metadata": {
    "id": "pJlyDtPyc-9U"
   },
   "outputs": [],
   "source": [
    "np.linalg.norm(x) + np.linalg.norm(y)"
   ]
  },
  {
   "cell_type": "code",
   "execution_count": null,
   "metadata": {
    "id": "mHETOMuAVhZz"
   },
   "outputs": [],
   "source": [
    "a = np.zeros_like(x)\n",
    "a"
   ]
  },
  {
   "cell_type": "code",
   "execution_count": null,
   "metadata": {
    "id": "esNJVEqWVFzb"
   },
   "outputs": [],
   "source": [
    "np.linalg.norm(a)"
   ]
  },
  {
   "cell_type": "code",
   "execution_count": null,
   "metadata": {
    "id": "DzVsRvSOVFwj"
   },
   "outputs": [],
   "source": []
  },
  {
   "cell_type": "code",
   "execution_count": null,
   "metadata": {
    "id": "ITV1H1hoVFtj"
   },
   "outputs": [],
   "source": []
  },
  {
   "cell_type": "markdown",
   "metadata": {
    "id": "QBVtJmGsByAW"
   },
   "source": [
    "## Matrix multiplication"
   ]
  },
  {
   "cell_type": "code",
   "execution_count": null,
   "metadata": {
    "id": "hrrkl4OWCmd_"
   },
   "outputs": [],
   "source": [
    "a = np.array([[2,3],[5,6],[7,9]])\n",
    "a"
   ]
  },
  {
   "cell_type": "code",
   "execution_count": null,
   "metadata": {
    "id": "OqvbrxtiCma-"
   },
   "outputs": [],
   "source": [
    "b = np.array([4,9])\n",
    "b"
   ]
  },
  {
   "cell_type": "code",
   "execution_count": null,
   "metadata": {
    "id": "ZdJl2HMyCmYF"
   },
   "outputs": [],
   "source": [
    "np.dot(a,b)"
   ]
  },
  {
   "cell_type": "code",
   "execution_count": null,
   "metadata": {
    "id": "lOCGofb1CmVP"
   },
   "outputs": [],
   "source": [
    "apt = torch.tensor([[2,3],[5,6],[7,9.]])\n",
    "apt"
   ]
  },
  {
   "cell_type": "code",
   "execution_count": null,
   "metadata": {
    "id": "BTFm98a_CmSe"
   },
   "outputs": [],
   "source": [
    "bpt= torch.tensor([4,9.])\n",
    "bpt"
   ]
  },
  {
   "cell_type": "code",
   "execution_count": null,
   "metadata": {
    "id": "vTwL6wi8CmPl"
   },
   "outputs": [],
   "source": [
    "torch.matmul(apt,bpt)"
   ]
  },
  {
   "cell_type": "code",
   "execution_count": null,
   "metadata": {
    "id": "uXIkYPmMCmMl"
   },
   "outputs": [],
   "source": [
    "atf = tf.Variable([[2,3],[5,6],[7,9.]])\n",
    "atf"
   ]
  },
  {
   "cell_type": "code",
   "execution_count": null,
   "metadata": {
    "id": "I9DkuaJ8CmJV"
   },
   "outputs": [],
   "source": [
    "btf = tf.Variable([4,9.])\n",
    "btf"
   ]
  },
  {
   "cell_type": "code",
   "execution_count": null,
   "metadata": {
    "id": "Pa7a-fbVCmBd"
   },
   "outputs": [],
   "source": [
    "tf.linalg.matvec(atf,btf)"
   ]
  },
  {
   "cell_type": "markdown",
   "metadata": {
    "id": "K47Y9EFZXqn-"
   },
   "source": [
    "### Matrix by Matrix multiplication"
   ]
  },
  {
   "cell_type": "code",
   "execution_count": null,
   "metadata": {
    "id": "1a9m2fk_Xwpw"
   },
   "outputs": [],
   "source": [
    "a = np.array([[2,3],[5,6],[7,9]])\n",
    "a"
   ]
  },
  {
   "cell_type": "code",
   "execution_count": null,
   "metadata": {
    "id": "jkWX3fNfXwm9"
   },
   "outputs": [],
   "source": [
    "b = np.array([[4,9],[3,2]])\n",
    "b"
   ]
  },
  {
   "cell_type": "code",
   "execution_count": null,
   "metadata": {
    "id": "ubW6RtDYXwj-"
   },
   "outputs": [],
   "source": [
    "np.dot(a,b)"
   ]
  },
  {
   "cell_type": "code",
   "execution_count": null,
   "metadata": {
    "id": "4uydIeklXv88"
   },
   "outputs": [],
   "source": [
    "apt = torch.tensor([[2,3],[5,6],[7,9.]])\n",
    "apt"
   ]
  },
  {
   "cell_type": "code",
   "execution_count": null,
   "metadata": {
    "id": "5qSOJyEZYBsz"
   },
   "outputs": [],
   "source": [
    "bpt= torch.tensor([[4,9.],[3,2]])\n",
    "bpt"
   ]
  },
  {
   "cell_type": "code",
   "execution_count": null,
   "metadata": {
    "id": "EiWNydyTYBps"
   },
   "outputs": [],
   "source": [
    "torch.matmul(apt,bpt)"
   ]
  },
  {
   "cell_type": "code",
   "execution_count": null,
   "metadata": {
    "id": "dpS_Q5GndntK"
   },
   "outputs": [],
   "source": []
  },
  {
   "cell_type": "code",
   "execution_count": null,
   "metadata": {
    "id": "vgxhgCmUdnnC"
   },
   "outputs": [],
   "source": []
  },
  {
   "cell_type": "markdown",
   "metadata": {
    "id": "m_cjKofyXDP_"
   },
   "source": [
    "For Matrices $ AB \\neq BA $ "
   ]
  },
  {
   "cell_type": "code",
   "execution_count": null,
   "metadata": {
    "id": "vtQtXDGnXC0n"
   },
   "outputs": [],
   "source": [
    "# torch.matmul(bpt,apt)"
   ]
  },
  {
   "cell_type": "markdown",
   "metadata": {
    "id": "BFa303HoEgup"
   },
   "source": [
    "## Symmetric Matrices"
   ]
  },
  {
   "cell_type": "code",
   "execution_count": null,
   "metadata": {
    "id": "ly351SuF-QEr"
   },
   "outputs": [],
   "source": [
    "import numpy as np"
   ]
  },
  {
   "cell_type": "code",
   "execution_count": null,
   "metadata": {
    "id": "iNdtaLQPEmTp"
   },
   "outputs": [],
   "source": [
    "a = np.array([[1,2,3],[2,6,9],[3,9,7]])\n",
    "a"
   ]
  },
  {
   "cell_type": "code",
   "execution_count": null,
   "metadata": {
    "id": "i824fEPcEmQi"
   },
   "outputs": [],
   "source": [
    "a.T"
   ]
  },
  {
   "cell_type": "code",
   "execution_count": null,
   "metadata": {
    "id": "_c4RWSMWD-hT"
   },
   "outputs": [],
   "source": [
    "a == a.T"
   ]
  },
  {
   "cell_type": "markdown",
   "metadata": {
    "id": "05XcTfUJFIwY"
   },
   "source": [
    "## Indentity Matrix"
   ]
  },
  {
   "cell_type": "code",
   "execution_count": null,
   "metadata": {
    "id": "3mp2cH4IFMYH"
   },
   "outputs": [],
   "source": [
    "I = np.array([[1,0,0],[0,1,0],[0,0,1]])\n",
    "I"
   ]
  },
  {
   "cell_type": "code",
   "execution_count": null,
   "metadata": {
    "id": "iMZZLq--FMVM"
   },
   "outputs": [],
   "source": [
    "a = np.array([[2,5],[3,8],[7,9]])\n",
    "a"
   ]
  },
  {
   "cell_type": "code",
   "execution_count": null,
   "metadata": {
    "id": "slpCqiJNFMSX"
   },
   "outputs": [],
   "source": [
    "np.matmul(I,a)"
   ]
  },
  {
   "cell_type": "code",
   "execution_count": null,
   "metadata": {
    "id": "ocg9_YV3Bpu6"
   },
   "outputs": [],
   "source": [
    "a.shape"
   ]
  },
  {
   "cell_type": "code",
   "execution_count": null,
   "metadata": {
    "id": "c7i9kHkNBuQq"
   },
   "outputs": [],
   "source": [
    "np.matmul(I,a).shape"
   ]
  },
  {
   "cell_type": "markdown",
   "metadata": {
    "id": "J33dlRWHyZOi"
   },
   "source": [
    "## Determinanat of a matrix"
   ]
  },
  {
   "cell_type": "code",
   "execution_count": null,
   "metadata": {
    "id": "c5iBOScNyY9y"
   },
   "outputs": [],
   "source": [
    "import numpy as np\n",
    "import torch\n",
    "import tensorflow as tf"
   ]
  },
  {
   "cell_type": "code",
   "execution_count": null,
   "metadata": {
    "colab": {
     "base_uri": "https://localhost:8080/"
    },
    "id": "a7o1RwqzyY6y",
    "outputId": "74c90302-ec1c-492b-b398-f662fc3139d9"
   },
   "outputs": [
    {
     "data": {
      "text/plain": [
       "array([[2, 3],\n",
       "       [6, 7]])"
      ]
     },
     "execution_count": 2,
     "metadata": {},
     "output_type": "execute_result"
    }
   ],
   "source": [
    "a = np.array([[2,3],[6,7]])\n",
    "a"
   ]
  },
  {
   "cell_type": "code",
   "execution_count": null,
   "metadata": {
    "colab": {
     "base_uri": "https://localhost:8080/"
    },
    "id": "KGcTOwIfyY3y",
    "outputId": "36ee54e3-9b7b-4764-c3ab-08589746649d"
   },
   "outputs": [
    {
     "data": {
      "text/plain": [
       "-4.000000000000002"
      ]
     },
     "execution_count": 3,
     "metadata": {},
     "output_type": "execute_result"
    }
   ],
   "source": [
    "np.linalg.det(a)"
   ]
  },
  {
   "cell_type": "code",
   "execution_count": null,
   "metadata": {
    "colab": {
     "base_uri": "https://localhost:8080/"
    },
    "id": "UTIaefujyzna",
    "outputId": "2441d5ab-40c5-48ab-933e-14c8a5755fb9"
   },
   "outputs": [
    {
     "data": {
      "text/plain": [
       "tensor([[2., 3.],\n",
       "        [6., 7.]])"
      ]
     },
     "execution_count": 4,
     "metadata": {},
     "output_type": "execute_result"
    }
   ],
   "source": [
    "apt = torch.tensor([[2,3],[6,7.]])\n",
    "apt"
   ]
  },
  {
   "cell_type": "code",
   "execution_count": null,
   "metadata": {
    "colab": {
     "base_uri": "https://localhost:8080/"
    },
    "id": "K64sipS-y6Sw",
    "outputId": "beac02ff-55d6-4722-c6ca-1f1f9d1c852a"
   },
   "outputs": [
    {
     "data": {
      "text/plain": [
       "tensor(-4.0000)"
      ]
     },
     "execution_count": 5,
     "metadata": {},
     "output_type": "execute_result"
    }
   ],
   "source": [
    "torch.det(apt)"
   ]
  },
  {
   "cell_type": "code",
   "execution_count": null,
   "metadata": {
    "colab": {
     "base_uri": "https://localhost:8080/"
    },
    "id": "ALa3TwAHy6P8",
    "outputId": "f3941da1-8bff-4ad2-cfb3-d03016a359a0"
   },
   "outputs": [
    {
     "data": {
      "text/plain": [
       "<tf.Variable 'Variable:0' shape=(2, 2) dtype=float32, numpy=\n",
       "array([[2., 3.],\n",
       "       [6., 7.]], dtype=float32)>"
      ]
     },
     "execution_count": 9,
     "metadata": {},
     "output_type": "execute_result"
    }
   ],
   "source": [
    "atf = tf.Variable([[2,3],[6,7.]])\n",
    "atf"
   ]
  },
  {
   "cell_type": "code",
   "execution_count": null,
   "metadata": {
    "colab": {
     "base_uri": "https://localhost:8080/"
    },
    "id": "DE7F8Bjmy6Mi",
    "outputId": "348311ca-7eea-460c-cd79-e896dec558a2"
   },
   "outputs": [
    {
     "data": {
      "text/plain": [
       "<tf.Tensor: shape=(), dtype=float32, numpy=-4.0>"
      ]
     },
     "execution_count": 10,
     "metadata": {},
     "output_type": "execute_result"
    }
   ],
   "source": [
    "tf.linalg.det(atf)"
   ]
  },
  {
   "cell_type": "code",
   "execution_count": null,
   "metadata": {
    "colab": {
     "base_uri": "https://localhost:8080/"
    },
    "id": "GVFxmT0DzQ-X",
    "outputId": "d5ad5ad3-6f64-4518-a4bd-45d88e179404"
   },
   "outputs": [
    {
     "data": {
      "text/plain": [
       "array([[ 6,  1,  1],\n",
       "       [ 4, -2,  5],\n",
       "       [ 2,  8,  7]])"
      ]
     },
     "execution_count": 11,
     "metadata": {},
     "output_type": "execute_result"
    }
   ],
   "source": [
    "a = np.array([[6,1,1],[4,-2,5],[2,8,7]])\n",
    "a"
   ]
  },
  {
   "cell_type": "code",
   "execution_count": null,
   "metadata": {
    "colab": {
     "base_uri": "https://localhost:8080/"
    },
    "id": "KCVG0Smg2TIJ",
    "outputId": "7841ccc8-be49-48c8-fc15-0d4e2bc9330c"
   },
   "outputs": [
    {
     "data": {
      "text/plain": [
       "-306.0"
      ]
     },
     "execution_count": 12,
     "metadata": {},
     "output_type": "execute_result"
    }
   ],
   "source": [
    "np.linalg.det(a)"
   ]
  },
  {
   "cell_type": "markdown",
   "metadata": {
    "id": "FCqjpidGFxVu"
   },
   "source": [
    "## Matrix Inversion"
   ]
  },
  {
   "cell_type": "code",
   "execution_count": null,
   "metadata": {
    "id": "BsKbiiDeN5O9"
   },
   "outputs": [],
   "source": [
    "import numpy as np\n",
    "import matplotlib.pyplot as plt"
   ]
  },
  {
   "cell_type": "code",
   "execution_count": null,
   "metadata": {
    "colab": {
     "base_uri": "https://localhost:8080/"
    },
    "id": "E1mH8owbD-eL",
    "outputId": "f169b570-982f-4a6f-af3f-da02a5f01c59"
   },
   "outputs": [
    {
     "data": {
      "text/plain": [
       "array([[2, 3],\n",
       "       [5, 6]])"
      ]
     },
     "execution_count": 2,
     "metadata": {},
     "output_type": "execute_result"
    }
   ],
   "source": [
    "a = np.array([[2,3],[5,6]])\n",
    "a"
   ]
  },
  {
   "cell_type": "code",
   "execution_count": null,
   "metadata": {
    "colab": {
     "base_uri": "https://localhost:8080/"
    },
    "id": "7zBultsZD-a6",
    "outputId": "6d2418c3-a2c7-4f66-a3a6-88e73f194469"
   },
   "outputs": [
    {
     "data": {
      "text/plain": [
       "array([[-2.        ,  1.        ],\n",
       "       [ 1.66666667, -0.66666667]])"
      ]
     },
     "execution_count": 3,
     "metadata": {},
     "output_type": "execute_result"
    }
   ],
   "source": [
    "ainv = np.linalg.inv(a)\n",
    "ainv"
   ]
  },
  {
   "cell_type": "code",
   "execution_count": null,
   "metadata": {
    "colab": {
     "base_uri": "https://localhost:8080/"
    },
    "id": "sB0Xa6NbDu6T",
    "outputId": "43fbdb50-ce85-4551-9616-0ad2a9ea1ee7"
   },
   "outputs": [
    {
     "data": {
      "text/plain": [
       "array([[ 1.00000000e+00,  1.11022302e-16],\n",
       "       [-1.33226763e-15,  1.00000000e+00]])"
      ]
     },
     "execution_count": 4,
     "metadata": {},
     "output_type": "execute_result"
    }
   ],
   "source": [
    "np.dot(a,ainv)"
   ]
  },
  {
   "cell_type": "code",
   "execution_count": null,
   "metadata": {
    "colab": {
     "base_uri": "https://localhost:8080/"
    },
    "id": "wGN_UJpCPjbT",
    "outputId": "fd26d47c-bf76-4a0a-aea4-6b7f6a307668"
   },
   "outputs": [
    {
     "data": {
      "text/plain": [
       "array([[5, 2],\n",
       "       [3, 2]])"
      ]
     },
     "execution_count": 5,
     "metadata": {},
     "output_type": "execute_result"
    }
   ],
   "source": [
    "A = np.array([[5,2],[3,2]])\n",
    "A"
   ]
  },
  {
   "cell_type": "code",
   "execution_count": null,
   "metadata": {
    "colab": {
     "base_uri": "https://localhost:8080/"
    },
    "id": "f0_dedrUPjYS",
    "outputId": "00f3c79c-7767-4a26-d96a-612cb94dc977"
   },
   "outputs": [
    {
     "data": {
      "text/plain": [
       "array([3, 5])"
      ]
     },
     "execution_count": 7,
     "metadata": {},
     "output_type": "execute_result"
    }
   ],
   "source": [
    "B = np.array([3,5])\n",
    "B"
   ]
  },
  {
   "cell_type": "code",
   "execution_count": null,
   "metadata": {
    "colab": {
     "base_uri": "https://localhost:8080/"
    },
    "id": "5s_b3MSNPjVb",
    "outputId": "6a670ee4-5dfe-4288-8a61-a6aa267ceaaf"
   },
   "outputs": [
    {
     "data": {
      "text/plain": [
       "array([-1.,  4.])"
      ]
     },
     "execution_count": 8,
     "metadata": {},
     "output_type": "execute_result"
    }
   ],
   "source": [
    "np.dot(np.linalg.inv(A),B)"
   ]
  },
  {
   "cell_type": "code",
   "execution_count": null,
   "metadata": {
    "id": "aPRNr4CNNJ-0"
   },
   "outputs": [],
   "source": [
    "x = np.linspace(-10,10,1000)"
   ]
  },
  {
   "cell_type": "code",
   "execution_count": null,
   "metadata": {
    "id": "WyGjqETINJ7l"
   },
   "outputs": [],
   "source": [
    "y1 =  (5*x - 3)/-2"
   ]
  },
  {
   "cell_type": "code",
   "execution_count": null,
   "metadata": {
    "id": "j3DBWusxNJ4w"
   },
   "outputs": [],
   "source": [
    "y2 = (3*x -5)/-2"
   ]
  },
  {
   "cell_type": "code",
   "execution_count": null,
   "metadata": {
    "colab": {
     "base_uri": "https://localhost:8080/",
     "height": 387
    },
    "id": "OTi5HzstNJvk",
    "outputId": "e067f0e5-9e42-4412-838b-2d6f987d6679"
   },
   "outputs": [
    {
     "data": {
      "image/png": "[encoded data removed]",
      "text/plain": [
       "<Figure size 600x400 with 1 Axes>"
      ]
     },
     "metadata": {
      "needs_background": "light"
     },
     "output_type": "display_data"
    }
   ],
   "source": [
    "fig, axes = plt.subplots(dpi=100)\n",
    "\n",
    "plt.xlabel('x-axis')\n",
    "plt.ylabel('y-axis')\n",
    "\n",
    "plt.axhline(y = 0, color = 'lightgrey')\n",
    "plt.axvline(x = 0, color= 'lightgrey')\n",
    "\n",
    "plt.axhline(y=4, linestyle='--')\n",
    "plt.axvline(x=-1, linestyle='--')\n",
    "\n",
    "axes.set_xlim([-5,2])\n",
    "axes.set_ylim([-1,7])\n",
    "\n",
    "axes.plot(x,y1, color= 'green')\n",
    "axes.plot(x,y2, color = 'blue');"
   ]
  },
  {
   "cell_type": "code",
   "execution_count": null,
   "metadata": {
    "colab": {
     "base_uri": "https://localhost:8080/"
    },
    "id": "rmAh5cBSS0nU",
    "outputId": "ac817f5c-facd-49fe-e5fe-4309c642186b"
   },
   "outputs": [
    {
     "data": {
      "text/plain": [
       "array([[ 2,  3,  3],\n",
       "       [ 1, -2,  1],\n",
       "       [ 3, -1, -2]])"
      ]
     },
     "execution_count": 13,
     "metadata": {},
     "output_type": "execute_result"
    }
   ],
   "source": [
    "A = np.array([[2,3,3],[1,-2,1],[3,-1,-2]])\n",
    "A"
   ]
  },
  {
   "cell_type": "code",
   "execution_count": null,
   "metadata": {
    "colab": {
     "base_uri": "https://localhost:8080/"
    },
    "id": "jlpv6OqvS0kC",
    "outputId": "911afc55-6767-412d-ab83-873e88ef8444"
   },
   "outputs": [
    {
     "data": {
      "text/plain": [
       "array([ 5, -4,  3])"
      ]
     },
     "execution_count": 14,
     "metadata": {},
     "output_type": "execute_result"
    }
   ],
   "source": [
    "B = np.array([5,-4,3])\n",
    "B"
   ]
  },
  {
   "cell_type": "code",
   "execution_count": null,
   "metadata": {
    "colab": {
     "base_uri": "https://localhost:8080/"
    },
    "id": "9GC6CP5xS0g5",
    "outputId": "6a14ec78-c5e3-4655-82a6-69cacfef4b4c"
   },
   "outputs": [
    {
     "data": {
      "text/plain": [
       "array([ 1.,  2., -1.])"
      ]
     },
     "execution_count": 15,
     "metadata": {},
     "output_type": "execute_result"
    }
   ],
   "source": [
    "np.dot(np.linalg.inv(A),B)"
   ]
  },
  {
   "cell_type": "code",
   "execution_count": null,
   "metadata": {
    "id": "ZeISwMlUN3Uo"
   },
   "outputs": [],
   "source": []
  }
 ],
 "metadata": {
  "colab": {
   "name": "Linear Algebra 1.ipynb",
   "provenance": []
  },
  "kernelspec": {
   "display_name": "Python 3 (ipykernel)",
   "language": "python",
   "name": "python3"
  },
  "language_info": {
   "codemirror_mode": {
    "name": "ipython",
    "version": 3
   },
   "file_extension": ".py",
   "mimetype": "text/x-python",
   "name": "python",
   "nbconvert_exporter": "python",
   "pygments_lexer": "ipython3",
   "version": "3.7.7"
  }
 },
 "nbformat": 4,
 "nbformat_minor": 1
}
