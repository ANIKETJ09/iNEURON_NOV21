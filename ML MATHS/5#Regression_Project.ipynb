{
 "cells": [
  {
   "cell_type": "markdown",
   "metadata": {
    "id": "aJGeQp712ERo"
   },
   "source": [
    "# Regeression using PyTorch"
   ]
  },
  {
   "cell_type": "code",
   "execution_count": null,
   "metadata": {
    "id": "EoTFZiGL1-Uo"
   },
   "outputs": [],
   "source": [
    "import torch\n",
    "import matplotlib.pyplot as plt"
   ]
  },
  {
   "cell_type": "code",
   "execution_count": null,
   "metadata": {
    "colab": {
     "base_uri": "https://localhost:8080/"
    },
    "id": "AQ6U2p0R1-R_",
    "outputId": "c67dabf9-41d3-45e4-c211-b328867bf0b4"
   },
   "outputs": [
    {
     "data": {
      "text/plain": [
       "tensor([ 1.,  2.,  3.,  4.,  5.,  6.,  7.,  8.,  9., 10.])"
      ]
     },
     "execution_count": 2,
     "metadata": {},
     "output_type": "execute_result"
    }
   ],
   "source": [
    "x = torch.tensor([1,2,3,4,5,6,7,8,9,10.])\n",
    "x"
   ]
  },
  {
   "cell_type": "code",
   "execution_count": null,
   "metadata": {
    "colab": {
     "base_uri": "https://localhost:8080/"
    },
    "id": "PumWJlEQ1-Pa",
    "outputId": "29d5b56d-4021-4b8c-bff3-c6a8dab830e1"
   },
   "outputs": [
    {
     "data": {
      "text/plain": [
       "tensor([ 0.7805,  1.8762,  7.8689,  6.8634, 12.0376, 13.9539, 17.2082, 20.4007,\n",
       "        20.9146, 26.5839])"
      ]
     },
     "execution_count": 5,
     "metadata": {},
     "output_type": "execute_result"
    }
   ],
   "source": [
    "y = 3*x - 4 + torch.normal(mean= torch.zeros(len(x)), std=2)\n",
    "y"
   ]
  },
  {
   "cell_type": "code",
   "execution_count": null,
   "metadata": {
    "colab": {
     "base_uri": "https://localhost:8080/"
    },
    "id": "A4Q7DE8c1-MH",
    "outputId": "6a241614-0f6a-44ff-f23d-12257cd4e8b1"
   },
   "outputs": [
    {
     "data": {
      "text/plain": [
       "tensor([ 0.7805,  1.8762,  7.8689,  6.8634, 12.0376, 13.9539, 17.2082, 20.4007,\n",
       "        20.9146, 26.5839])"
      ]
     },
     "execution_count": 7,
     "metadata": {},
     "output_type": "execute_result"
    }
   ],
   "source": [
    "y = torch.tensor([ 0.7805,  1.8762,  7.8689,  6.8634, 12.0376, 13.9539, 17.2082, 20.4007,\n",
    "        20.9146, 26.5839])\n",
    "y"
   ]
  },
  {
   "cell_type": "code",
   "execution_count": null,
   "metadata": {
    "colab": {
     "base_uri": "https://localhost:8080/",
     "height": 265
    },
    "id": "aMDKh2dg1-HR",
    "outputId": "5c70770e-5dd1-4edb-e54c-0b762c02e6ed"
   },
   "outputs": [
    {
     "data": {
      "image/png": "[encoded data removed]",
      "text/plain": [
       "<Figure size 432x288 with 1 Axes>"
      ]
     },
     "metadata": {
      "needs_background": "light"
     },
     "output_type": "display_data"
    }
   ],
   "source": [
    "fig, ax = plt.subplots()\n",
    "_ = ax.scatter(x,y)"
   ]
  },
  {
   "cell_type": "code",
   "execution_count": null,
   "metadata": {
    "colab": {
     "base_uri": "https://localhost:8080/"
    },
    "id": "vWWFYOnv1-Eg",
    "outputId": "c38e8f6b-7e8b-481f-9e2a-2e164a17bf0b"
   },
   "outputs": [
    {
     "data": {
      "text/plain": [
       "tensor([-2.], requires_grad=True)"
      ]
     },
     "execution_count": 9,
     "metadata": {},
     "output_type": "execute_result"
    }
   ],
   "source": [
    "m = torch.tensor([-2.]).requires_grad_()\n",
    "m"
   ]
  },
  {
   "cell_type": "code",
   "execution_count": null,
   "metadata": {
    "colab": {
     "base_uri": "https://localhost:8080/"
    },
    "id": "SlEy2Iqk1-Bz",
    "outputId": "8de73bda-f405-4f7a-adc6-a7e52d81d02d"
   },
   "outputs": [
    {
     "data": {
      "text/plain": [
       "tensor([30.], requires_grad=True)"
      ]
     },
     "execution_count": 10,
     "metadata": {},
     "output_type": "execute_result"
    }
   ],
   "source": [
    "c = torch.tensor([30.]).requires_grad_()\n",
    "c"
   ]
  },
  {
   "cell_type": "code",
   "execution_count": null,
   "metadata": {
    "id": "Y9sVGv2H14Om"
   },
   "outputs": [],
   "source": [
    "def y_line(x_, m_, c_):\n",
    "  return x_*m_ + c_"
   ]
  },
  {
   "cell_type": "code",
   "execution_count": null,
   "metadata": {
    "id": "xJl_dVba25-J"
   },
   "outputs": [],
   "source": [
    "def reg_plot(x_, y_, m_, c_):\n",
    "  fig, ax = plt.subplots()\n",
    "\n",
    "  ax.scatter(x_, y_)\n",
    "\n",
    "  xmin, xmax = ax.get_xlim()\n",
    "  ymin = y_line(xmin, m_, c_)\n",
    "  ymax = y_line(xmax, m_, c_)\n",
    "\n",
    "  ax.set_xlim([xmin, xmax])\n",
    "  _ = ax.plot([xmin, xmax], [ymin, ymax])"
   ]
  },
  {
   "cell_type": "code",
   "execution_count": null,
   "metadata": {
    "colab": {
     "base_uri": "https://localhost:8080/",
     "height": 267
    },
    "id": "qH49pzcq256L",
    "outputId": "ca1d07fe-52d7-4abd-8228-8fd3347b494d"
   },
   "outputs": [
    {
     "data": {
      "image/png": "[encoded data removed]",
      "text/plain": [
       "<Figure size 432x288 with 1 Axes>"
      ]
     },
     "metadata": {
      "needs_background": "light"
     },
     "output_type": "display_data"
    }
   ],
   "source": [
    "reg_plot(x,y,m,c)"
   ]
  },
  {
   "cell_type": "code",
   "execution_count": null,
   "metadata": {
    "colab": {
     "base_uri": "https://localhost:8080/"
    },
    "id": "F0ypBthr2529",
    "outputId": "e66e6cdc-47e3-4526-eb30-59aed7435eb7"
   },
   "outputs": [
    {
     "data": {
      "text/plain": [
       "tensor([28., 26., 24., 22., 20., 18., 16., 14., 12., 10.],\n",
       "       grad_fn=<AddBackward0>)"
      ]
     },
     "execution_count": 14,
     "metadata": {},
     "output_type": "execute_result"
    }
   ],
   "source": [
    "y_cap = y_line(x,m,c)\n",
    "y_cap"
   ]
  },
  {
   "cell_type": "code",
   "execution_count": null,
   "metadata": {
    "id": "hlR5DjHm25z_"
   },
   "outputs": [],
   "source": [
    "def error(y_pred, y_actu): \n",
    "    sigma = torch.sum((y_pred - y_actu)**2)\n",
    "    return sigma/len(y_actu)"
   ]
  },
  {
   "cell_type": "code",
   "execution_count": null,
   "metadata": {
    "colab": {
     "base_uri": "https://localhost:8080/"
    },
    "id": "2XV5kn_J25w4",
    "outputId": "b8d4a2af-47ad-4fe7-da3b-ab45a5f14b16"
   },
   "outputs": [
    {
     "data": {
      "text/plain": [
       "tensor(228.8883, grad_fn=<DivBackward0>)"
      ]
     },
     "execution_count": 16,
     "metadata": {},
     "output_type": "execute_result"
    }
   ],
   "source": [
    "e = error(y_cap, y)\n",
    "e"
   ]
  },
  {
   "cell_type": "code",
   "execution_count": null,
   "metadata": {
    "id": "2LZIkvEE25tg"
   },
   "outputs": [],
   "source": [
    "e.backward()"
   ]
  },
  {
   "cell_type": "code",
   "execution_count": null,
   "metadata": {
    "colab": {
     "base_uri": "https://localhost:8080/"
    },
    "id": "-PkxJ9jI25oQ",
    "outputId": "0a8680fb-fa5e-4312-fd30-fe642909f867"
   },
   "outputs": [
    {
     "data": {
      "text/plain": [
       "tensor([-11.4476])"
      ]
     },
     "execution_count": 18,
     "metadata": {},
     "output_type": "execute_result"
    }
   ],
   "source": [
    "m.grad"
   ]
  },
  {
   "cell_type": "code",
   "execution_count": null,
   "metadata": {
    "colab": {
     "base_uri": "https://localhost:8080/"
    },
    "id": "yDQvOgq025lI",
    "outputId": "4a2da2a1-67fa-4370-f14b-f5157227a751"
   },
   "outputs": [
    {
     "data": {
      "text/plain": [
       "tensor([12.3024])"
      ]
     },
     "execution_count": 19,
     "metadata": {},
     "output_type": "execute_result"
    }
   ],
   "source": [
    "c.grad"
   ]
  },
  {
   "cell_type": "code",
   "execution_count": null,
   "metadata": {
    "id": "Kfvk9pJ44x2S"
   },
   "outputs": [],
   "source": [
    "optimizer = torch.optim.SGD([m, c], lr = .01)"
   ]
  },
  {
   "cell_type": "code",
   "execution_count": null,
   "metadata": {
    "id": "49-2bAKh4-8Z"
   },
   "outputs": [],
   "source": [
    "optimizer.step()"
   ]
  },
  {
   "cell_type": "code",
   "execution_count": null,
   "metadata": {
    "colab": {
     "base_uri": "https://localhost:8080/"
    },
    "id": "1BDdN7Ku5Ca5",
    "outputId": "d24b8fc4-b884-4ba4-b7f4-cd8fd9a8567c"
   },
   "outputs": [
    {
     "data": {
      "text/plain": [
       "tensor([-1.8855], requires_grad=True)"
      ]
     },
     "execution_count": 22,
     "metadata": {},
     "output_type": "execute_result"
    }
   ],
   "source": [
    "m"
   ]
  },
  {
   "cell_type": "code",
   "execution_count": null,
   "metadata": {
    "colab": {
     "base_uri": "https://localhost:8080/"
    },
    "id": "WvFP9EC05EUQ",
    "outputId": "20c4834d-97ed-4c03-8707-a2614fec0f37"
   },
   "outputs": [
    {
     "data": {
      "text/plain": [
       "tensor([29.8770], requires_grad=True)"
      ]
     },
     "execution_count": 23,
     "metadata": {},
     "output_type": "execute_result"
    }
   ],
   "source": [
    "c"
   ]
  },
  {
   "cell_type": "code",
   "execution_count": null,
   "metadata": {
    "colab": {
     "base_uri": "https://localhost:8080/"
    },
    "id": "oTZXnmud5Es5",
    "outputId": "c27137b2-80ab-4c12-8c0b-d534d21fd6f7"
   },
   "outputs": [
    {
     "data": {
      "text/plain": [
       "tensor([27.9915, 26.1059, 24.2204, 22.3349, 20.4494, 18.5638, 16.6783, 14.7928,\n",
       "        12.9073, 11.0217], grad_fn=<AddBackward0>)"
      ]
     },
     "execution_count": 24,
     "metadata": {},
     "output_type": "execute_result"
    }
   ],
   "source": [
    "y_cap = y_line(x,m,c)\n",
    "y_cap"
   ]
  },
  {
   "cell_type": "code",
   "execution_count": null,
   "metadata": {
    "colab": {
     "base_uri": "https://localhost:8080/"
    },
    "id": "hFeNMPLk5Z0B",
    "outputId": "ff254e65-d1d4-4128-f22b-b72de8d74d8f"
   },
   "outputs": [
    {
     "data": {
      "text/plain": [
       "tensor(226.4291, grad_fn=<DivBackward0>)"
      ]
     },
     "execution_count": 25,
     "metadata": {},
     "output_type": "execute_result"
    }
   ],
   "source": [
    "error(y_cap, y)"
   ]
  },
  {
   "cell_type": "code",
   "execution_count": null,
   "metadata": {
    "colab": {
     "base_uri": "https://localhost:8080/",
     "height": 268
    },
    "id": "17IA0ZN55eL5",
    "outputId": "48dce5ba-5bad-4f71-cce6-2f98166a05f2"
   },
   "outputs": [
    {
     "data": {
      "image/png": "[encoded data removed]",
      "text/plain": [
       "<Figure size 432x288 with 1 Axes>"
      ]
     },
     "metadata": {
      "needs_background": "light"
     },
     "output_type": "display_data"
    }
   ],
   "source": [
    "reg_plot(x,y,m,c)"
   ]
  },
  {
   "cell_type": "code",
   "execution_count": null,
   "metadata": {
    "colab": {
     "base_uri": "https://localhost:8080/"
    },
    "id": "k_pfG65v5l4I",
    "outputId": "7b0c62a4-f156-4963-9647-9244e59724d4"
   },
   "outputs": [
    {
     "name": "stdout",
     "output_type": "stream",
     "text": [
      "Epoch 0, error 226.429, m grad -3.986, c grad 13.32\n",
      "Epoch 1, error 224.518, m grad -2.382, c grad 13.49\n",
      "Epoch 2, error 222.646, m grad -2.031, c grad 13.48\n",
      "Epoch 3, error 220.792, m grad -1.95, c grad 13.43\n",
      "Epoch 4, error 218.953, m grad -1.926, c grad 13.38\n",
      "Epoch 5, error 217.13, m grad -1.915, c grad 13.32\n",
      "Epoch 6, error 215.322, m grad -1.906, c grad 13.27\n",
      "Epoch 7, error 213.529, m grad -1.898, c grad 13.21\n",
      "Epoch 8, error 211.751, m grad -1.89, c grad 13.16\n",
      "Epoch 9, error 209.988, m grad -1.882, c grad 13.1\n",
      "Epoch 10, error 208.239, m grad -1.874, c grad 13.05\n",
      "Epoch 11, error 206.506, m grad -1.866, c grad 12.99\n",
      "Epoch 12, error 204.787, m grad -1.858, c grad 12.94\n",
      "Epoch 13, error 203.082, m grad -1.851, c grad 12.88\n",
      "Epoch 14, error 201.392, m grad -1.843, c grad 12.83\n",
      "Epoch 15, error 199.715, m grad -1.835, c grad 12.78\n",
      "Epoch 16, error 198.053, m grad -1.827, c grad 12.72\n",
      "Epoch 17, error 196.405, m grad -1.82, c grad 12.67\n",
      "Epoch 18, error 194.77, m grad -1.812, c grad 12.61\n",
      "Epoch 19, error 193.15, m grad -1.804, c grad 12.56\n",
      "Epoch 20, error 191.543, m grad -1.797, c grad 12.51\n",
      "Epoch 21, error 189.949, m grad -1.789, c grad 12.46\n",
      "Epoch 22, error 188.368, m grad -1.782, c grad 12.4\n",
      "Epoch 23, error 186.801, m grad -1.774, c grad 12.35\n",
      "Epoch 24, error 185.247, m grad -1.767, c grad 12.3\n",
      "Epoch 25, error 183.707, m grad -1.759, c grad 12.25\n",
      "Epoch 26, error 182.179, m grad -1.752, c grad 12.2\n",
      "Epoch 27, error 180.663, m grad -1.745, c grad 12.15\n",
      "Epoch 28, error 179.161, m grad -1.737, c grad 12.09\n",
      "Epoch 29, error 177.671, m grad -1.73, c grad 12.04\n",
      "Epoch 30, error 176.194, m grad -1.723, c grad 11.99\n",
      "Epoch 31, error 174.729, m grad -1.716, c grad 11.94\n",
      "Epoch 32, error 173.276, m grad -1.708, c grad 11.89\n",
      "Epoch 33, error 171.835, m grad -1.701, c grad 11.84\n",
      "Epoch 34, error 170.407, m grad -1.694, c grad 11.79\n",
      "Epoch 35, error 168.99, m grad -1.687, c grad 11.74\n",
      "Epoch 36, error 167.585, m grad -1.68, c grad 11.69\n",
      "Epoch 37, error 166.193, m grad -1.673, c grad 11.65\n",
      "Epoch 38, error 164.811, m grad -1.666, c grad 11.6\n",
      "Epoch 39, error 163.442, m grad -1.659, c grad 11.55\n",
      "Epoch 40, error 162.084, m grad -1.652, c grad 11.5\n",
      "Epoch 41, error 160.737, m grad -1.645, c grad 11.45\n",
      "Epoch 42, error 159.401, m grad -1.638, c grad 11.4\n",
      "Epoch 43, error 158.077, m grad -1.631, c grad 11.35\n",
      "Epoch 44, error 156.764, m grad -1.624, c grad 11.31\n",
      "Epoch 45, error 155.462, m grad -1.617, c grad 11.26\n",
      "Epoch 46, error 154.17, m grad -1.611, c grad 11.21\n",
      "Epoch 47, error 152.89, m grad -1.604, c grad 11.17\n",
      "Epoch 48, error 151.62, m grad -1.597, c grad 11.12\n",
      "Epoch 49, error 150.361, m grad -1.59, c grad 11.07\n",
      "Epoch 50, error 149.113, m grad -1.584, c grad 11.03\n",
      "Epoch 51, error 147.875, m grad -1.577, c grad 10.98\n",
      "Epoch 52, error 146.647, m grad -1.57, c grad 10.93\n",
      "Epoch 53, error 145.429, m grad -1.564, c grad 10.89\n",
      "Epoch 54, error 144.222, m grad -1.557, c grad 10.84\n",
      "Epoch 55, error 143.025, m grad -1.551, c grad 10.8\n",
      "Epoch 56, error 141.838, m grad -1.544, c grad 10.75\n",
      "Epoch 57, error 140.661, m grad -1.538, c grad 10.71\n",
      "Epoch 58, error 139.494, m grad -1.531, c grad 10.66\n",
      "Epoch 59, error 138.336, m grad -1.525, c grad 10.62\n",
      "Epoch 60, error 137.189, m grad -1.518, c grad 10.57\n",
      "Epoch 61, error 136.051, m grad -1.512, c grad 10.53\n",
      "Epoch 62, error 134.922, m grad -1.506, c grad 10.48\n",
      "Epoch 63, error 133.803, m grad -1.499, c grad 10.44\n",
      "Epoch 64, error 132.693, m grad -1.493, c grad 10.39\n",
      "Epoch 65, error 131.593, m grad -1.487, c grad 10.35\n",
      "Epoch 66, error 130.501, m grad -1.481, c grad 10.31\n",
      "Epoch 67, error 129.419, m grad -1.474, c grad 10.26\n",
      "Epoch 68, error 128.346, m grad -1.468, c grad 10.22\n",
      "Epoch 69, error 127.282, m grad -1.462, c grad 10.18\n",
      "Epoch 70, error 126.227, m grad -1.456, c grad 10.14\n",
      "Epoch 71, error 125.181, m grad -1.45, c grad 10.09\n",
      "Epoch 72, error 124.144, m grad -1.444, c grad 10.05\n",
      "Epoch 73, error 123.115, m grad -1.438, c grad 10.01\n",
      "Epoch 74, error 122.095, m grad -1.432, c grad 9.966\n",
      "Epoch 75, error 121.083, m grad -1.426, c grad 9.924\n",
      "Epoch 76, error 120.08, m grad -1.42, c grad 9.883\n",
      "Epoch 77, error 119.085, m grad -1.414, c grad 9.841\n",
      "Epoch 78, error 118.099, m grad -1.408, c grad 9.8\n",
      "Epoch 79, error 117.121, m grad -1.402, c grad 9.759\n",
      "Epoch 80, error 116.151, m grad -1.396, c grad 9.718\n",
      "Epoch 81, error 115.189, m grad -1.39, c grad 9.677\n",
      "Epoch 82, error 114.235, m grad -1.384, c grad 9.636\n",
      "Epoch 83, error 113.289, m grad -1.378, c grad 9.596\n",
      "Epoch 84, error 112.352, m grad -1.373, c grad 9.555\n",
      "Epoch 85, error 111.422, m grad -1.367, c grad 9.515\n",
      "Epoch 86, error 110.5, m grad -1.361, c grad 9.475\n",
      "Epoch 87, error 109.585, m grad -1.355, c grad 9.436\n",
      "Epoch 88, error 108.678, m grad -1.35, c grad 9.396\n",
      "Epoch 89, error 107.779, m grad -1.344, c grad 9.356\n",
      "Epoch 90, error 106.888, m grad -1.338, c grad 9.317\n",
      "Epoch 91, error 106.003, m grad -1.333, c grad 9.278\n",
      "Epoch 92, error 105.127, m grad -1.327, c grad 9.239\n",
      "Epoch 93, error 104.257, m grad -1.322, c grad 9.2\n",
      "Epoch 94, error 103.395, m grad -1.316, c grad 9.162\n",
      "Epoch 95, error 102.54, m grad -1.31, c grad 9.123\n",
      "Epoch 96, error 101.693, m grad -1.305, c grad 9.085\n",
      "Epoch 97, error 100.852, m grad -1.299, c grad 9.047\n",
      "Epoch 98, error 100.018, m grad -1.294, c grad 9.009\n",
      "Epoch 99, error 99.1918, m grad -1.289, c grad 8.971\n",
      "Epoch 100, error 98.3721, m grad -1.283, c grad 8.933\n",
      "Epoch 101, error 97.5594, m grad -1.278, c grad 8.896\n",
      "Epoch 102, error 96.7534, m grad -1.272, c grad 8.858\n",
      "Epoch 103, error 95.9542, m grad -1.267, c grad 8.821\n",
      "Epoch 104, error 95.1617, m grad -1.262, c grad 8.784\n",
      "Epoch 105, error 94.3758, m grad -1.256, c grad 8.747\n",
      "Epoch 106, error 93.5965, m grad -1.251, c grad 8.71\n",
      "Epoch 107, error 92.8238, m grad -1.246, c grad 8.674\n",
      "Epoch 108, error 92.0575, m grad -1.241, c grad 8.637\n",
      "Epoch 109, error 91.2976, m grad -1.235, c grad 8.601\n",
      "Epoch 110, error 90.5441, m grad -1.23, c grad 8.565\n",
      "Epoch 111, error 89.797, m grad -1.225, c grad 8.529\n",
      "Epoch 112, error 89.0561, m grad -1.22, c grad 8.493\n",
      "Epoch 113, error 88.3214, m grad -1.215, c grad 8.458\n",
      "Epoch 114, error 87.5928, m grad -1.21, c grad 8.422\n",
      "Epoch 115, error 86.8704, m grad -1.205, c grad 8.387\n",
      "Epoch 116, error 86.154, m grad -1.2, c grad 8.352\n",
      "Epoch 117, error 85.4436, m grad -1.195, c grad 8.316\n",
      "Epoch 118, error 84.7392, m grad -1.19, c grad 8.282\n",
      "Epoch 119, error 84.0407, m grad -1.185, c grad 8.247\n",
      "Epoch 120, error 83.348, m grad -1.18, c grad 8.212\n",
      "Epoch 121, error 82.6612, m grad -1.175, c grad 8.178\n",
      "Epoch 122, error 81.9801, m grad -1.17, c grad 8.143\n",
      "Epoch 123, error 81.3047, m grad -1.165, c grad 8.109\n",
      "Epoch 124, error 80.635, m grad -1.16, c grad 8.075\n",
      "Epoch 125, error 79.9709, m grad -1.155, c grad 8.041\n",
      "Epoch 126, error 79.3123, m grad -1.15, c grad 8.007\n",
      "Epoch 127, error 78.6593, m grad -1.145, c grad 7.974\n",
      "Epoch 128, error 78.0117, m grad -1.141, c grad 7.94\n",
      "Epoch 129, error 77.3696, m grad -1.136, c grad 7.907\n",
      "Epoch 130, error 76.7328, m grad -1.131, c grad 7.874\n",
      "Epoch 131, error 76.1014, m grad -1.126, c grad 7.841\n",
      "Epoch 132, error 75.4753, m grad -1.121, c grad 7.808\n",
      "Epoch 133, error 74.8544, m grad -1.117, c grad 7.775\n",
      "Epoch 134, error 74.2388, m grad -1.112, c grad 7.742\n",
      "Epoch 135, error 73.6283, m grad -1.107, c grad 7.71\n",
      "Epoch 136, error 73.0229, m grad -1.103, c grad 7.677\n",
      "Epoch 137, error 72.4225, m grad -1.098, c grad 7.645\n",
      "Epoch 138, error 71.8273, m grad -1.094, c grad 7.613\n",
      "Epoch 139, error 71.237, m grad -1.089, c grad 7.581\n",
      "Epoch 140, error 70.6516, m grad -1.084, c grad 7.549\n",
      "Epoch 141, error 70.0712, m grad -1.08, c grad 7.518\n",
      "Epoch 142, error 69.4956, m grad -1.075, c grad 7.486\n",
      "Epoch 143, error 68.9249, m grad -1.071, c grad 7.454\n",
      "Epoch 144, error 68.3589, m grad -1.066, c grad 7.423\n",
      "Epoch 145, error 67.7977, m grad -1.062, c grad 7.392\n",
      "Epoch 146, error 67.2411, m grad -1.057, c grad 7.361\n",
      "Epoch 147, error 66.6893, m grad -1.053, c grad 7.33\n",
      "Epoch 148, error 66.142, m grad -1.048, c grad 7.299\n",
      "Epoch 149, error 65.5994, m grad -1.044, c grad 7.269\n",
      "Epoch 150, error 65.0613, m grad -1.04, c grad 7.238\n",
      "Epoch 151, error 64.5277, m grad -1.035, c grad 7.208\n",
      "Epoch 152, error 63.9986, m grad -1.031, c grad 7.177\n",
      "Epoch 153, error 63.4739, m grad -1.027, c grad 7.147\n",
      "Epoch 154, error 62.9536, m grad -1.022, c grad 7.117\n",
      "Epoch 155, error 62.4377, m grad -1.018, c grad 7.087\n",
      "Epoch 156, error 61.9261, m grad -1.014, c grad 7.058\n",
      "Epoch 157, error 61.4188, m grad -1.01, c grad 7.028\n",
      "Epoch 158, error 60.9157, m grad -1.005, c grad 6.998\n",
      "Epoch 159, error 60.4169, m grad -1.001, c grad 6.969\n",
      "Epoch 160, error 59.9222, m grad -0.9968, c grad 6.94\n",
      "Epoch 161, error 59.4317, m grad -0.9926, c grad 6.911\n",
      "Epoch 162, error 58.9453, m grad -0.9885, c grad 6.882\n",
      "Epoch 163, error 58.463, m grad -0.9843, c grad 6.853\n",
      "Epoch 164, error 57.9847, m grad -0.9802, c grad 6.824\n",
      "Epoch 165, error 57.5104, m grad -0.9761, c grad 6.795\n",
      "Epoch 166, error 57.0401, m grad -0.972, c grad 6.767\n",
      "Epoch 167, error 56.5738, m grad -0.9679, c grad 6.738\n",
      "Epoch 168, error 56.1113, m grad -0.9638, c grad 6.71\n",
      "Epoch 169, error 55.6527, m grad -0.9598, c grad 6.682\n",
      "Epoch 170, error 55.198, m grad -0.9558, c grad 6.654\n",
      "Epoch 171, error 54.7471, m grad -0.9517, c grad 6.626\n",
      "Epoch 172, error 54.3, m grad -0.9477, c grad 6.598\n",
      "Epoch 173, error 53.8566, m grad -0.9438, c grad 6.57\n",
      "Epoch 174, error 53.4169, m grad -0.9398, c grad 6.543\n",
      "Epoch 175, error 52.9809, m grad -0.9359, c grad 6.515\n",
      "Epoch 176, error 52.5486, m grad -0.9319, c grad 6.488\n",
      "Epoch 177, error 52.1198, m grad -0.928, c grad 6.461\n",
      "Epoch 178, error 51.6947, m grad -0.9241, c grad 6.434\n",
      "Epoch 179, error 51.2732, m grad -0.9202, c grad 6.407\n",
      "Epoch 180, error 50.8551, m grad -0.9164, c grad 6.38\n",
      "Epoch 181, error 50.4406, m grad -0.9125, c grad 6.353\n",
      "Epoch 182, error 50.0296, m grad -0.9087, c grad 6.326\n",
      "Epoch 183, error 49.622, m grad -0.9049, c grad 6.3\n",
      "Epoch 184, error 49.2178, m grad -0.9011, c grad 6.273\n",
      "Epoch 185, error 48.817, m grad -0.8973, c grad 6.247\n",
      "Epoch 186, error 48.4196, m grad -0.8935, c grad 6.221\n",
      "Epoch 187, error 48.0255, m grad -0.8898, c grad 6.194\n",
      "Epoch 188, error 47.6347, m grad -0.886, c grad 6.168\n",
      "Epoch 189, error 47.2471, m grad -0.8823, c grad 6.143\n",
      "Epoch 190, error 46.8629, m grad -0.8786, c grad 6.117\n",
      "Epoch 191, error 46.4818, m grad -0.8749, c grad 6.091\n",
      "Epoch 192, error 46.1039, m grad -0.8712, c grad 6.065\n",
      "Epoch 193, error 45.7292, m grad -0.8676, c grad 6.04\n",
      "Epoch 194, error 45.3577, m grad -0.8639, c grad 6.015\n",
      "Epoch 195, error 44.9892, m grad -0.8603, c grad 5.989\n",
      "Epoch 196, error 44.6239, m grad -0.8567, c grad 5.964\n",
      "Epoch 197, error 44.2616, m grad -0.8531, c grad 5.939\n",
      "Epoch 198, error 43.9023, m grad -0.8495, c grad 5.914\n",
      "Epoch 199, error 43.5461, m grad -0.8459, c grad 5.889\n",
      "Epoch 200, error 43.1928, m grad -0.8424, c grad 5.865\n",
      "Epoch 201, error 42.8425, m grad -0.8389, c grad 5.84\n",
      "Epoch 202, error 42.4952, m grad -0.8353, c grad 5.815\n",
      "Epoch 203, error 42.1507, m grad -0.8318, c grad 5.791\n",
      "Epoch 204, error 41.8092, m grad -0.8283, c grad 5.767\n",
      "Epoch 205, error 41.4705, m grad -0.8249, c grad 5.743\n",
      "Epoch 206, error 41.1346, m grad -0.8214, c grad 5.718\n",
      "Epoch 207, error 40.8015, m grad -0.8179, c grad 5.694\n",
      "Epoch 208, error 40.4713, m grad -0.8145, c grad 5.67\n",
      "Epoch 209, error 40.1438, m grad -0.8111, c grad 5.647\n",
      "Epoch 210, error 39.819, m grad -0.8077, c grad 5.623\n",
      "Epoch 211, error 39.497, m grad -0.8043, c grad 5.599\n",
      "Epoch 212, error 39.1777, m grad -0.8009, c grad 5.576\n",
      "Epoch 213, error 38.8611, m grad -0.7975, c grad 5.552\n",
      "Epoch 214, error 38.5471, m grad -0.7942, c grad 5.529\n",
      "Epoch 215, error 38.2357, m grad -0.7909, c grad 5.506\n",
      "Epoch 216, error 37.927, m grad -0.7875, c grad 5.483\n",
      "Epoch 217, error 37.6208, m grad -0.7842, c grad 5.46\n",
      "Epoch 218, error 37.3172, m grad -0.7809, c grad 5.437\n",
      "Epoch 219, error 37.0161, m grad -0.7777, c grad 5.414\n",
      "Epoch 220, error 36.7176, m grad -0.7744, c grad 5.391\n",
      "Epoch 221, error 36.4216, m grad -0.7711, c grad 5.369\n",
      "Epoch 222, error 36.128, m grad -0.7679, c grad 5.346\n",
      "Epoch 223, error 35.837, m grad -0.7647, c grad 5.324\n",
      "Epoch 224, error 35.5483, m grad -0.7615, c grad 5.301\n",
      "Epoch 225, error 35.2621, m grad -0.7583, c grad 5.279\n",
      "Epoch 226, error 34.9783, m grad -0.7551, c grad 5.257\n",
      "Epoch 227, error 34.6968, m grad -0.7519, c grad 5.235\n",
      "Epoch 228, error 34.4177, m grad -0.7488, c grad 5.213\n",
      "Epoch 229, error 34.141, m grad -0.7456, c grad 5.191\n",
      "Epoch 230, error 33.8666, m grad -0.7425, c grad 5.169\n",
      "Epoch 231, error 33.5944, m grad -0.7394, c grad 5.147\n",
      "Epoch 232, error 33.3246, m grad -0.7363, c grad 5.126\n",
      "Epoch 233, error 33.057, m grad -0.7332, c grad 5.104\n",
      "Epoch 234, error 32.7916, m grad -0.7301, c grad 5.083\n",
      "Epoch 235, error 32.5285, m grad -0.727, c grad 5.061\n",
      "Epoch 236, error 32.2676, m grad -0.724, c grad 5.04\n",
      "Epoch 237, error 32.0089, m grad -0.7209, c grad 5.019\n",
      "Epoch 238, error 31.7523, m grad -0.7179, c grad 4.998\n",
      "Epoch 239, error 31.4979, m grad -0.7149, c grad 4.977\n",
      "Epoch 240, error 31.2456, m grad -0.7119, c grad 4.956\n",
      "Epoch 241, error 30.9955, m grad -0.7089, c grad 4.935\n",
      "Epoch 242, error 30.7474, m grad -0.7059, c grad 4.914\n",
      "Epoch 243, error 30.5014, m grad -0.703, c grad 4.894\n",
      "Epoch 244, error 30.2575, m grad -0.7, c grad 4.873\n",
      "Epoch 245, error 30.0156, m grad -0.6971, c grad 4.853\n",
      "Epoch 246, error 29.7757, m grad -0.6941, c grad 4.832\n",
      "Epoch 247, error 29.5379, m grad -0.6912, c grad 4.812\n",
      "Epoch 248, error 29.3021, m grad -0.6883, c grad 4.792\n",
      "Epoch 249, error 29.0682, m grad -0.6854, c grad 4.772\n",
      "Epoch 250, error 28.8363, m grad -0.6825, c grad 4.752\n",
      "Epoch 251, error 28.6063, m grad -0.6797, c grad 4.732\n",
      "Epoch 252, error 28.3783, m grad -0.6768, c grad 4.712\n",
      "Epoch 253, error 28.1521, m grad -0.674, c grad 4.692\n",
      "Epoch 254, error 27.9279, m grad -0.6712, c grad 4.672\n",
      "Epoch 255, error 27.7055, m grad -0.6683, c grad 4.653\n",
      "Epoch 256, error 27.485, m grad -0.6655, c grad 4.633\n",
      "Epoch 257, error 27.2664, m grad -0.6627, c grad 4.614\n",
      "Epoch 258, error 27.0496, m grad -0.66, c grad 4.594\n",
      "Epoch 259, error 26.8346, m grad -0.6572, c grad 4.575\n",
      "Epoch 260, error 26.6214, m grad -0.6544, c grad 4.556\n",
      "Epoch 261, error 26.41, m grad -0.6517, c grad 4.537\n",
      "Epoch 262, error 26.2004, m grad -0.6489, c grad 4.518\n",
      "Epoch 263, error 25.9925, m grad -0.6462, c grad 4.499\n",
      "Epoch 264, error 25.7864, m grad -0.6435, c grad 4.48\n",
      "Epoch 265, error 25.5819, m grad -0.6408, c grad 4.461\n",
      "Epoch 266, error 25.3792, m grad -0.6381, c grad 4.442\n",
      "Epoch 267, error 25.1783, m grad -0.6354, c grad 4.424\n",
      "Epoch 268, error 24.9789, m grad -0.6328, c grad 4.405\n",
      "Epoch 269, error 24.7813, m grad -0.6301, c grad 4.387\n",
      "Epoch 270, error 24.5853, m grad -0.6275, c grad 4.368\n",
      "Epoch 271, error 24.391, m grad -0.6248, c grad 4.35\n",
      "Epoch 272, error 24.1983, m grad -0.6222, c grad 4.332\n",
      "Epoch 273, error 24.0072, m grad -0.6196, c grad 4.313\n",
      "Epoch 274, error 23.8177, m grad -0.617, c grad 4.295\n",
      "Epoch 275, error 23.6298, m grad -0.6144, c grad 4.277\n",
      "Epoch 276, error 23.4434, m grad -0.6118, c grad 4.259\n",
      "Epoch 277, error 23.2587, m grad -0.6092, c grad 4.241\n",
      "Epoch 278, error 23.0754, m grad -0.6067, c grad 4.224\n",
      "Epoch 279, error 22.8938, m grad -0.6041, c grad 4.206\n",
      "Epoch 280, error 22.7136, m grad -0.6016, c grad 4.188\n",
      "Epoch 281, error 22.5349, m grad -0.5991, c grad 4.171\n",
      "Epoch 282, error 22.3578, m grad -0.5966, c grad 4.153\n",
      "Epoch 283, error 22.1821, m grad -0.594, c grad 4.136\n",
      "Epoch 284, error 22.0079, m grad -0.5916, c grad 4.118\n",
      "Epoch 285, error 21.8352, m grad -0.5891, c grad 4.101\n",
      "Epoch 286, error 21.6639, m grad -0.5866, c grad 4.084\n",
      "Epoch 287, error 21.494, m grad -0.5841, c grad 4.067\n",
      "Epoch 288, error 21.3256, m grad -0.5817, c grad 4.05\n",
      "Epoch 289, error 21.1586, m grad -0.5792, c grad 4.033\n",
      "Epoch 290, error 20.993, m grad -0.5768, c grad 4.016\n",
      "Epoch 291, error 20.8287, m grad -0.5744, c grad 3.999\n",
      "Epoch 292, error 20.6659, m grad -0.572, c grad 3.982\n",
      "Epoch 293, error 20.5044, m grad -0.5696, c grad 3.965\n",
      "Epoch 294, error 20.3443, m grad -0.5672, c grad 3.949\n",
      "Epoch 295, error 20.1855, m grad -0.5648, c grad 3.932\n",
      "Epoch 296, error 20.028, m grad -0.5624, c grad 3.915\n",
      "Epoch 297, error 19.8719, m grad -0.5601, c grad 3.899\n",
      "Epoch 298, error 19.717, m grad -0.5577, c grad 3.883\n",
      "Epoch 299, error 19.5635, m grad -0.5554, c grad 3.866\n",
      "Epoch 300, error 19.4112, m grad -0.553, c grad 3.85\n",
      "Epoch 301, error 19.2603, m grad -0.5507, c grad 3.834\n",
      "Epoch 302, error 19.1106, m grad -0.5484, c grad 3.818\n",
      "Epoch 303, error 18.9621, m grad -0.5461, c grad 3.802\n",
      "Epoch 304, error 18.8149, m grad -0.5438, c grad 3.786\n",
      "Epoch 305, error 18.6689, m grad -0.5415, c grad 3.77\n",
      "Epoch 306, error 18.5242, m grad -0.5392, c grad 3.754\n",
      "Epoch 307, error 18.3806, m grad -0.537, c grad 3.738\n",
      "Epoch 308, error 18.2383, m grad -0.5347, c grad 3.723\n",
      "Epoch 309, error 18.0971, m grad -0.5325, c grad 3.707\n",
      "Epoch 310, error 17.9572, m grad -0.5302, c grad 3.691\n",
      "Epoch 311, error 17.8184, m grad -0.528, c grad 3.676\n",
      "Epoch 312, error 17.6808, m grad -0.5258, c grad 3.661\n",
      "Epoch 313, error 17.5443, m grad -0.5236, c grad 3.645\n",
      "Epoch 314, error 17.409, m grad -0.5214, c grad 3.63\n",
      "Epoch 315, error 17.2748, m grad -0.5192, c grad 3.615\n",
      "Epoch 316, error 17.1417, m grad -0.517, c grad 3.599\n",
      "Epoch 317, error 17.0098, m grad -0.5148, c grad 3.584\n",
      "Epoch 318, error 16.8789, m grad -0.5127, c grad 3.569\n",
      "Epoch 319, error 16.7492, m grad -0.5105, c grad 3.554\n",
      "Epoch 320, error 16.6205, m grad -0.5084, c grad 3.539\n",
      "Epoch 321, error 16.4929, m grad -0.5063, c grad 3.524\n",
      "Epoch 322, error 16.3664, m grad -0.5041, c grad 3.51\n",
      "Epoch 323, error 16.2409, m grad -0.502, c grad 3.495\n",
      "Epoch 324, error 16.1165, m grad -0.4999, c grad 3.48\n",
      "Epoch 325, error 15.9932, m grad -0.4978, c grad 3.466\n",
      "Epoch 326, error 15.8709, m grad -0.4957, c grad 3.451\n",
      "Epoch 327, error 15.7496, m grad -0.4936, c grad 3.437\n",
      "Epoch 328, error 15.6293, m grad -0.4916, c grad 3.422\n",
      "Epoch 329, error 15.51, m grad -0.4895, c grad 3.408\n",
      "Epoch 330, error 15.3917, m grad -0.4874, c grad 3.393\n",
      "Epoch 331, error 15.2744, m grad -0.4854, c grad 3.379\n",
      "Epoch 332, error 15.1581, m grad -0.4834, c grad 3.365\n",
      "Epoch 333, error 15.0428, m grad -0.4813, c grad 3.351\n",
      "Epoch 334, error 14.9284, m grad -0.4793, c grad 3.337\n",
      "Epoch 335, error 14.815, m grad -0.4773, c grad 3.323\n",
      "Epoch 336, error 14.7026, m grad -0.4753, c grad 3.309\n",
      "Epoch 337, error 14.5911, m grad -0.4733, c grad 3.295\n",
      "Epoch 338, error 14.4805, m grad -0.4713, c grad 3.281\n",
      "Epoch 339, error 14.3709, m grad -0.4693, c grad 3.267\n",
      "Epoch 340, error 14.2621, m grad -0.4674, c grad 3.254\n",
      "Epoch 341, error 14.1543, m grad -0.4654, c grad 3.24\n",
      "Epoch 342, error 14.0474, m grad -0.4634, c grad 3.226\n",
      "Epoch 343, error 13.9414, m grad -0.4615, c grad 3.213\n",
      "Epoch 344, error 13.8363, m grad -0.4595, c grad 3.199\n",
      "Epoch 345, error 13.732, m grad -0.4576, c grad 3.186\n",
      "Epoch 346, error 13.6286, m grad -0.4557, c grad 3.172\n",
      "Epoch 347, error 13.5261, m grad -0.4538, c grad 3.159\n",
      "Epoch 348, error 13.4245, m grad -0.4519, c grad 3.146\n",
      "Epoch 349, error 13.3237, m grad -0.45, c grad 3.133\n",
      "Epoch 350, error 13.2237, m grad -0.4481, c grad 3.12\n",
      "Epoch 351, error 13.1246, m grad -0.4462, c grad 3.106\n",
      "Epoch 352, error 13.0263, m grad -0.4443, c grad 3.093\n",
      "Epoch 353, error 12.9289, m grad -0.4425, c grad 3.08\n",
      "Epoch 354, error 12.8322, m grad -0.4406, c grad 3.067\n",
      "Epoch 355, error 12.7364, m grad -0.4388, c grad 3.055\n",
      "Epoch 356, error 12.6414, m grad -0.4369, c grad 3.042\n",
      "Epoch 357, error 12.5471, m grad -0.4351, c grad 3.029\n",
      "Epoch 358, error 12.4537, m grad -0.4333, c grad 3.016\n",
      "Epoch 359, error 12.361, m grad -0.4314, c grad 3.004\n",
      "Epoch 360, error 12.2692, m grad -0.4296, c grad 2.991\n",
      "Epoch 361, error 12.178, m grad -0.4278, c grad 2.978\n",
      "Epoch 362, error 12.0877, m grad -0.426, c grad 2.966\n",
      "Epoch 363, error 11.9981, m grad -0.4242, c grad 2.953\n",
      "Epoch 364, error 11.9093, m grad -0.4225, c grad 2.941\n",
      "Epoch 365, error 11.8212, m grad -0.4207, c grad 2.929\n",
      "Epoch 366, error 11.7338, m grad -0.4189, c grad 2.916\n",
      "Epoch 367, error 11.6472, m grad -0.4171, c grad 2.904\n",
      "Epoch 368, error 11.5613, m grad -0.4154, c grad 2.892\n",
      "Epoch 369, error 11.4761, m grad -0.4137, c grad 2.88\n",
      "Epoch 370, error 11.3916, m grad -0.4119, c grad 2.868\n",
      "Epoch 371, error 11.3079, m grad -0.4102, c grad 2.856\n",
      "Epoch 372, error 11.2248, m grad -0.4085, c grad 2.844\n",
      "Epoch 373, error 11.1425, m grad -0.4067, c grad 2.832\n",
      "Epoch 374, error 11.0608, m grad -0.405, c grad 2.82\n",
      "Epoch 375, error 10.9798, m grad -0.4033, c grad 2.808\n",
      "Epoch 376, error 10.8995, m grad -0.4017, c grad 2.796\n",
      "Epoch 377, error 10.8199, m grad -0.4, c grad 2.784\n",
      "Epoch 378, error 10.7409, m grad -0.3983, c grad 2.773\n",
      "Epoch 379, error 10.6626, m grad -0.3966, c grad 2.761\n",
      "Epoch 380, error 10.5849, m grad -0.3949, c grad 2.75\n",
      "Epoch 381, error 10.5079, m grad -0.3933, c grad 2.738\n",
      "Epoch 382, error 10.4316, m grad -0.3916, c grad 2.726\n",
      "Epoch 383, error 10.3559, m grad -0.39, c grad 2.715\n",
      "Epoch 384, error 10.2808, m grad -0.3883, c grad 2.704\n",
      "Epoch 385, error 10.2064, m grad -0.3867, c grad 2.692\n",
      "Epoch 386, error 10.1325, m grad -0.3851, c grad 2.681\n",
      "Epoch 387, error 10.0593, m grad -0.3835, c grad 2.67\n",
      "Epoch 388, error 9.98674, m grad -0.3819, c grad 2.659\n",
      "Epoch 389, error 9.91475, m grad -0.3803, c grad 2.647\n",
      "Epoch 390, error 9.84337, m grad -0.3787, c grad 2.636\n",
      "Epoch 391, error 9.77259, m grad -0.3771, c grad 2.625\n",
      "Epoch 392, error 9.7024, m grad -0.3755, c grad 2.614\n",
      "Epoch 393, error 9.6328, m grad -0.3739, c grad 2.603\n",
      "Epoch 394, error 9.56379, m grad -0.3723, c grad 2.592\n",
      "Epoch 395, error 9.49535, m grad -0.3708, c grad 2.581\n",
      "Epoch 396, error 9.42748, m grad -0.3692, c grad 2.57\n",
      "Epoch 397, error 9.36019, m grad -0.3677, c grad 2.56\n",
      "Epoch 398, error 9.29346, m grad -0.3661, c grad 2.549\n",
      "Epoch 399, error 9.22729, m grad -0.3646, c grad 2.538\n",
      "Epoch 400, error 9.16166, m grad -0.3631, c grad 2.528\n",
      "Epoch 401, error 9.0966, m grad -0.3615, c grad 2.517\n",
      "Epoch 402, error 9.03208, m grad -0.36, c grad 2.506\n",
      "Epoch 403, error 8.9681, m grad -0.3585, c grad 2.496\n",
      "Epoch 404, error 8.90465, m grad -0.357, c grad 2.485\n",
      "Epoch 405, error 8.84173, m grad -0.3555, c grad 2.475\n",
      "Epoch 406, error 8.77935, m grad -0.354, c grad 2.465\n",
      "Epoch 407, error 8.71749, m grad -0.3525, c grad 2.454\n",
      "Epoch 408, error 8.65614, m grad -0.351, c grad 2.444\n",
      "Epoch 409, error 8.59531, m grad -0.3496, c grad 2.434\n",
      "Epoch 410, error 8.53499, m grad -0.3481, c grad 2.423\n",
      "Epoch 411, error 8.47517, m grad -0.3466, c grad 2.413\n",
      "Epoch 412, error 8.41586, m grad -0.3452, c grad 2.403\n",
      "Epoch 413, error 8.35704, m grad -0.3437, c grad 2.393\n",
      "Epoch 414, error 8.29872, m grad -0.3423, c grad 2.383\n",
      "Epoch 415, error 8.24088, m grad -0.3409, c grad 2.373\n",
      "Epoch 416, error 8.18353, m grad -0.3394, c grad 2.363\n",
      "Epoch 417, error 8.12666, m grad -0.338, c grad 2.353\n",
      "Epoch 418, error 8.07027, m grad -0.3366, c grad 2.343\n",
      "Epoch 419, error 8.01435, m grad -0.3352, c grad 2.333\n",
      "Epoch 420, error 7.9589, m grad -0.3338, c grad 2.324\n",
      "Epoch 421, error 7.90391, m grad -0.3323, c grad 2.314\n",
      "Epoch 422, error 7.84938, m grad -0.331, c grad 2.304\n",
      "Epoch 423, error 7.79531, m grad -0.3296, c grad 2.294\n",
      "Epoch 424, error 7.7417, m grad -0.3282, c grad 2.285\n",
      "Epoch 425, error 7.68853, m grad -0.3268, c grad 2.275\n",
      "Epoch 426, error 7.63581, m grad -0.3254, c grad 2.266\n",
      "Epoch 427, error 7.58353, m grad -0.3241, c grad 2.256\n",
      "Epoch 428, error 7.53169, m grad -0.3227, c grad 2.247\n",
      "Epoch 429, error 7.48028, m grad -0.3214, c grad 2.237\n",
      "Epoch 430, error 7.42931, m grad -0.32, c grad 2.228\n",
      "Epoch 431, error 7.37876, m grad -0.3187, c grad 2.218\n",
      "Epoch 432, error 7.32864, m grad -0.3173, c grad 2.209\n",
      "Epoch 433, error 7.27893, m grad -0.316, c grad 2.2\n",
      "Epoch 434, error 7.22964, m grad -0.3146, c grad 2.191\n",
      "Epoch 435, error 7.18077, m grad -0.3133, c grad 2.181\n",
      "Epoch 436, error 7.13231, m grad -0.312, c grad 2.172\n",
      "Epoch 437, error 7.08425, m grad -0.3107, c grad 2.163\n",
      "Epoch 438, error 7.03659, m grad -0.3094, c grad 2.154\n",
      "Epoch 439, error 6.98933, m grad -0.3081, c grad 2.145\n",
      "Epoch 440, error 6.94247, m grad -0.3068, c grad 2.136\n",
      "Epoch 441, error 6.896, m grad -0.3055, c grad 2.127\n",
      "Epoch 442, error 6.84993, m grad -0.3042, c grad 2.118\n",
      "Epoch 443, error 6.80423, m grad -0.303, c grad 2.109\n",
      "Epoch 444, error 6.75892, m grad -0.3017, c grad 2.1\n",
      "Epoch 445, error 6.71399, m grad -0.3004, c grad 2.092\n",
      "Epoch 446, error 6.66944, m grad -0.2992, c grad 2.083\n",
      "Epoch 447, error 6.62526, m grad -0.2979, c grad 2.074\n",
      "Epoch 448, error 6.58145, m grad -0.2967, c grad 2.065\n",
      "Epoch 449, error 6.53801, m grad -0.2954, c grad 2.057\n",
      "Epoch 450, error 6.49493, m grad -0.2942, c grad 2.048\n",
      "Epoch 451, error 6.45221, m grad -0.2929, c grad 2.039\n",
      "Epoch 452, error 6.40986, m grad -0.2917, c grad 2.031\n",
      "Epoch 453, error 6.36785, m grad -0.2905, c grad 2.022\n",
      "Epoch 454, error 6.3262, m grad -0.2893, c grad 2.014\n",
      "Epoch 455, error 6.2849, m grad -0.288, c grad 2.005\n",
      "Epoch 456, error 6.24394, m grad -0.2868, c grad 1.997\n",
      "Epoch 457, error 6.20333, m grad -0.2856, c grad 1.989\n",
      "Epoch 458, error 6.16306, m grad -0.2844, c grad 1.98\n",
      "Epoch 459, error 6.12312, m grad -0.2832, c grad 1.972\n",
      "Epoch 460, error 6.08352, m grad -0.282, c grad 1.964\n",
      "Epoch 461, error 6.04425, m grad -0.2809, c grad 1.955\n",
      "Epoch 462, error 6.00531, m grad -0.2797, c grad 1.947\n",
      "Epoch 463, error 5.9667, m grad -0.2785, c grad 1.939\n",
      "Epoch 464, error 5.92841, m grad -0.2773, c grad 1.931\n",
      "Epoch 465, error 5.89044, m grad -0.2762, c grad 1.923\n",
      "Epoch 466, error 5.85279, m grad -0.275, c grad 1.915\n",
      "Epoch 467, error 5.81545, m grad -0.2739, c grad 1.907\n",
      "Epoch 468, error 5.77843, m grad -0.2727, c grad 1.899\n",
      "Epoch 469, error 5.74172, m grad -0.2716, c grad 1.891\n",
      "Epoch 470, error 5.70532, m grad -0.2704, c grad 1.883\n",
      "Epoch 471, error 5.66922, m grad -0.2693, c grad 1.875\n",
      "Epoch 472, error 5.63342, m grad -0.2681, c grad 1.867\n",
      "Epoch 473, error 5.59793, m grad -0.267, c grad 1.859\n",
      "Epoch 474, error 5.56273, m grad -0.2659, c grad 1.851\n",
      "Epoch 475, error 5.52782, m grad -0.2648, c grad 1.843\n",
      "Epoch 476, error 5.49321, m grad -0.2637, c grad 1.836\n",
      "Epoch 477, error 5.45889, m grad -0.2626, c grad 1.828\n",
      "Epoch 478, error 5.42486, m grad -0.2615, c grad 1.82\n",
      "Epoch 479, error 5.39111, m grad -0.2604, c grad 1.813\n",
      "Epoch 480, error 5.35765, m grad -0.2593, c grad 1.805\n",
      "Epoch 481, error 5.32446, m grad -0.2582, c grad 1.797\n",
      "Epoch 482, error 5.29155, m grad -0.2571, c grad 1.79\n",
      "Epoch 483, error 5.25892, m grad -0.256, c grad 1.782\n",
      "Epoch 484, error 5.22657, m grad -0.2549, c grad 1.775\n",
      "Epoch 485, error 5.19448, m grad -0.2539, c grad 1.767\n",
      "Epoch 486, error 5.16266, m grad -0.2528, c grad 1.76\n",
      "Epoch 487, error 5.13111, m grad -0.2518, c grad 1.753\n",
      "Epoch 488, error 5.09982, m grad -0.2507, c grad 1.745\n",
      "Epoch 489, error 5.0688, m grad -0.2496, c grad 1.738\n",
      "Epoch 490, error 5.03804, m grad -0.2486, c grad 1.731\n",
      "Epoch 491, error 5.00753, m grad -0.2476, c grad 1.723\n",
      "Epoch 492, error 4.97728, m grad -0.2465, c grad 1.716\n",
      "Epoch 493, error 4.94729, m grad -0.2455, c grad 1.709\n",
      "Epoch 494, error 4.91754, m grad -0.2444, c grad 1.702\n",
      "Epoch 495, error 4.88804, m grad -0.2434, c grad 1.695\n",
      "Epoch 496, error 4.85879, m grad -0.2424, c grad 1.688\n",
      "Epoch 497, error 4.82979, m grad -0.2414, c grad 1.68\n",
      "Epoch 498, error 4.80103, m grad -0.2404, c grad 1.673\n",
      "Epoch 499, error 4.77251, m grad -0.2393, c grad 1.666\n",
      "Epoch 500, error 4.74423, m grad -0.2383, c grad 1.659\n",
      "Epoch 501, error 4.71619, m grad -0.2373, c grad 1.652\n",
      "Epoch 502, error 4.68838, m grad -0.2364, c grad 1.645\n",
      "Epoch 503, error 4.6608, m grad -0.2353, c grad 1.639\n",
      "Epoch 504, error 4.63346, m grad -0.2344, c grad 1.632\n",
      "Epoch 505, error 4.60634, m grad -0.2334, c grad 1.625\n",
      "Epoch 506, error 4.57946, m grad -0.2324, c grad 1.618\n",
      "Epoch 507, error 4.55279, m grad -0.2314, c grad 1.611\n",
      "Epoch 508, error 4.52636, m grad -0.2305, c grad 1.604\n",
      "Epoch 509, error 4.50014, m grad -0.2295, c grad 1.598\n",
      "Epoch 510, error 4.47414, m grad -0.2285, c grad 1.591\n",
      "Epoch 511, error 4.44836, m grad -0.2276, c grad 1.584\n",
      "Epoch 512, error 4.4228, m grad -0.2266, c grad 1.578\n",
      "Epoch 513, error 4.39745, m grad -0.2256, c grad 1.571\n",
      "Epoch 514, error 4.37231, m grad -0.2247, c grad 1.564\n",
      "Epoch 515, error 4.34738, m grad -0.2238, c grad 1.558\n",
      "Epoch 516, error 4.32267, m grad -0.2228, c grad 1.551\n",
      "Epoch 517, error 4.29816, m grad -0.2219, c grad 1.545\n",
      "Epoch 518, error 4.27385, m grad -0.221, c grad 1.538\n",
      "Epoch 519, error 4.24975, m grad -0.22, c grad 1.532\n",
      "Epoch 520, error 4.22585, m grad -0.2191, c grad 1.525\n",
      "Epoch 521, error 4.20215, m grad -0.2182, c grad 1.519\n",
      "Epoch 522, error 4.17865, m grad -0.2173, c grad 1.513\n",
      "Epoch 523, error 4.15535, m grad -0.2164, c grad 1.506\n",
      "Epoch 524, error 4.13224, m grad -0.2155, c grad 1.5\n",
      "Epoch 525, error 4.10933, m grad -0.2145, c grad 1.494\n",
      "Epoch 526, error 4.08661, m grad -0.2136, c grad 1.487\n",
      "Epoch 527, error 4.06407, m grad -0.2127, c grad 1.481\n",
      "Epoch 528, error 4.04173, m grad -0.2119, c grad 1.475\n",
      "Epoch 529, error 4.01958, m grad -0.211, c grad 1.469\n",
      "Epoch 530, error 3.99761, m grad -0.2101, c grad 1.463\n",
      "Epoch 531, error 3.97582, m grad -0.2092, c grad 1.456\n",
      "Epoch 532, error 3.95422, m grad -0.2083, c grad 1.45\n",
      "Epoch 533, error 3.9328, m grad -0.2074, c grad 1.444\n",
      "Epoch 534, error 3.91155, m grad -0.2066, c grad 1.438\n",
      "Epoch 535, error 3.89049, m grad -0.2057, c grad 1.432\n",
      "Epoch 536, error 3.8696, m grad -0.2048, c grad 1.426\n",
      "Epoch 537, error 3.84889, m grad -0.204, c grad 1.42\n",
      "Epoch 538, error 3.82835, m grad -0.2031, c grad 1.414\n",
      "Epoch 539, error 3.80798, m grad -0.2023, c grad 1.408\n",
      "Epoch 540, error 3.78779, m grad -0.2014, c grad 1.402\n",
      "Epoch 541, error 3.76776, m grad -0.2006, c grad 1.396\n",
      "Epoch 542, error 3.7479, m grad -0.1997, c grad 1.391\n",
      "Epoch 543, error 3.72821, m grad -0.1989, c grad 1.385\n",
      "Epoch 544, error 3.70868, m grad -0.1981, c grad 1.379\n",
      "Epoch 545, error 3.68932, m grad -0.1972, c grad 1.373\n",
      "Epoch 546, error 3.67011, m grad -0.1964, c grad 1.367\n",
      "Epoch 547, error 3.65107, m grad -0.1956, c grad 1.362\n",
      "Epoch 548, error 3.63219, m grad -0.1947, c grad 1.356\n",
      "Epoch 549, error 3.61347, m grad -0.1939, c grad 1.35\n",
      "Epoch 550, error 3.5949, m grad -0.1931, c grad 1.344\n",
      "Epoch 551, error 3.57649, m grad -0.1923, c grad 1.339\n",
      "Epoch 552, error 3.55823, m grad -0.1915, c grad 1.333\n",
      "Epoch 553, error 3.54013, m grad -0.1907, c grad 1.328\n",
      "Epoch 554, error 3.52218, m grad -0.1899, c grad 1.322\n",
      "Epoch 555, error 3.50438, m grad -0.1891, c grad 1.316\n",
      "Epoch 556, error 3.48673, m grad -0.1883, c grad 1.311\n",
      "Epoch 557, error 3.46922, m grad -0.1875, c grad 1.305\n",
      "Epoch 558, error 3.45187, m grad -0.1867, c grad 1.3\n",
      "Epoch 559, error 3.43466, m grad -0.1859, c grad 1.295\n",
      "Epoch 560, error 3.41759, m grad -0.1852, c grad 1.289\n",
      "Epoch 561, error 3.40066, m grad -0.1844, c grad 1.284\n",
      "Epoch 562, error 3.38388, m grad -0.1836, c grad 1.278\n",
      "Epoch 563, error 3.36724, m grad -0.1828, c grad 1.273\n",
      "Epoch 564, error 3.35074, m grad -0.1821, c grad 1.268\n",
      "Epoch 565, error 3.33437, m grad -0.1813, c grad 1.262\n",
      "Epoch 566, error 3.31815, m grad -0.1805, c grad 1.257\n",
      "Epoch 567, error 3.30206, m grad -0.1798, c grad 1.252\n",
      "Epoch 568, error 3.2861, m grad -0.179, c grad 1.246\n",
      "Epoch 569, error 3.27028, m grad -0.1783, c grad 1.241\n",
      "Epoch 570, error 3.25459, m grad -0.1775, c grad 1.236\n",
      "Epoch 571, error 3.23903, m grad -0.1768, c grad 1.231\n",
      "Epoch 572, error 3.2236, m grad -0.1761, c grad 1.226\n",
      "Epoch 573, error 3.2083, m grad -0.1753, c grad 1.22\n",
      "Epoch 574, error 3.19313, m grad -0.1746, c grad 1.215\n",
      "Epoch 575, error 3.17809, m grad -0.1738, c grad 1.21\n",
      "Epoch 576, error 3.16317, m grad -0.1731, c grad 1.205\n",
      "Epoch 577, error 3.14838, m grad -0.1724, c grad 1.2\n",
      "Epoch 578, error 3.13371, m grad -0.1717, c grad 1.195\n",
      "Epoch 579, error 3.11917, m grad -0.1709, c grad 1.19\n",
      "Epoch 580, error 3.10475, m grad -0.1702, c grad 1.185\n",
      "Epoch 581, error 3.09044, m grad -0.1695, c grad 1.18\n",
      "Epoch 582, error 3.07626, m grad -0.1688, c grad 1.175\n",
      "Epoch 583, error 3.0622, m grad -0.1681, c grad 1.17\n",
      "Epoch 584, error 3.04825, m grad -0.1674, c grad 1.165\n",
      "Epoch 585, error 3.03442, m grad -0.1667, c grad 1.16\n",
      "Epoch 586, error 3.02071, m grad -0.166, c grad 1.155\n",
      "Epoch 587, error 3.00711, m grad -0.1653, c grad 1.151\n",
      "Epoch 588, error 2.99363, m grad -0.1646, c grad 1.146\n",
      "Epoch 589, error 2.98026, m grad -0.1639, c grad 1.141\n",
      "Epoch 590, error 2.967, m grad -0.1632, c grad 1.136\n",
      "Epoch 591, error 2.95385, m grad -0.1625, c grad 1.131\n",
      "Epoch 592, error 2.94081, m grad -0.1618, c grad 1.127\n",
      "Epoch 593, error 2.92788, m grad -0.1612, c grad 1.122\n",
      "Epoch 594, error 2.91507, m grad -0.1605, c grad 1.117\n",
      "Epoch 595, error 2.90235, m grad -0.1598, c grad 1.113\n",
      "Epoch 596, error 2.88975, m grad -0.1591, c grad 1.108\n",
      "Epoch 597, error 2.87725, m grad -0.1585, c grad 1.103\n",
      "Epoch 598, error 2.86485, m grad -0.1578, c grad 1.099\n",
      "Epoch 599, error 2.85256, m grad -0.1571, c grad 1.094\n",
      "Epoch 600, error 2.84037, m grad -0.1565, c grad 1.089\n",
      "Epoch 601, error 2.82828, m grad -0.1558, c grad 1.085\n",
      "Epoch 602, error 2.8163, m grad -0.1552, c grad 1.08\n",
      "Epoch 603, error 2.80442, m grad -0.1545, c grad 1.076\n",
      "Epoch 604, error 2.79263, m grad -0.1539, c grad 1.071\n",
      "Epoch 605, error 2.78094, m grad -0.1532, c grad 1.067\n",
      "Epoch 606, error 2.76936, m grad -0.1526, c grad 1.062\n",
      "Epoch 607, error 2.75786, m grad -0.1519, c grad 1.058\n",
      "Epoch 608, error 2.74647, m grad -0.1513, c grad 1.053\n",
      "Epoch 609, error 2.73517, m grad -0.1507, c grad 1.049\n",
      "Epoch 610, error 2.72397, m grad -0.15, c grad 1.044\n",
      "Epoch 611, error 2.71285, m grad -0.1494, c grad 1.04\n",
      "Epoch 612, error 2.70184, m grad -0.1488, c grad 1.036\n",
      "Epoch 613, error 2.69091, m grad -0.1481, c grad 1.031\n",
      "Epoch 614, error 2.68008, m grad -0.1475, c grad 1.027\n",
      "Epoch 615, error 2.66934, m grad -0.1469, c grad 1.023\n",
      "Epoch 616, error 2.65868, m grad -0.1463, c grad 1.018\n",
      "Epoch 617, error 2.64812, m grad -0.1457, c grad 1.014\n",
      "Epoch 618, error 2.63764, m grad -0.1451, c grad 1.01\n",
      "Epoch 619, error 2.62726, m grad -0.1445, c grad 1.006\n",
      "Epoch 620, error 2.61696, m grad -0.1439, c grad 1.001\n",
      "Epoch 621, error 2.60674, m grad -0.1432, c grad 0.9972\n",
      "Epoch 622, error 2.59661, m grad -0.1426, c grad 0.993\n",
      "Epoch 623, error 2.58657, m grad -0.142, c grad 0.9889\n",
      "Epoch 624, error 2.57661, m grad -0.1414, c grad 0.9847\n",
      "Epoch 625, error 2.56674, m grad -0.1409, c grad 0.9806\n",
      "Epoch 626, error 2.55694, m grad -0.1403, c grad 0.9765\n",
      "Epoch 627, error 2.54723, m grad -0.1397, c grad 0.9723\n",
      "Epoch 628, error 2.5376, m grad -0.1391, c grad 0.9683\n",
      "Epoch 629, error 2.52805, m grad -0.1385, c grad 0.9642\n",
      "Epoch 630, error 2.51859, m grad -0.1379, c grad 0.9602\n",
      "Epoch 631, error 2.5092, m grad -0.1373, c grad 0.9561\n",
      "Epoch 632, error 2.49988, m grad -0.1368, c grad 0.9521\n",
      "Epoch 633, error 2.49065, m grad -0.1362, c grad 0.9481\n",
      "Epoch 634, error 2.4815, m grad -0.1356, c grad 0.9441\n",
      "Epoch 635, error 2.47242, m grad -0.135, c grad 0.9402\n",
      "Epoch 636, error 2.46342, m grad -0.1345, c grad 0.9362\n",
      "Epoch 637, error 2.45449, m grad -0.1339, c grad 0.9323\n",
      "Epoch 638, error 2.44564, m grad -0.1333, c grad 0.9284\n",
      "Epoch 639, error 2.43686, m grad -0.1328, c grad 0.9245\n",
      "Epoch 640, error 2.42816, m grad -0.1322, c grad 0.9206\n",
      "Epoch 641, error 2.41952, m grad -0.1317, c grad 0.9167\n",
      "Epoch 642, error 2.41096, m grad -0.1311, c grad 0.9129\n",
      "Epoch 643, error 2.40248, m grad -0.1306, c grad 0.909\n",
      "Epoch 644, error 2.39406, m grad -0.13, c grad 0.9052\n",
      "Epoch 645, error 2.38572, m grad -0.1295, c grad 0.9014\n",
      "Epoch 646, error 2.37744, m grad -0.1289, c grad 0.8976\n",
      "Epoch 647, error 2.36923, m grad -0.1284, c grad 0.8939\n",
      "Epoch 648, error 2.3611, m grad -0.1279, c grad 0.8901\n",
      "Epoch 649, error 2.35303, m grad -0.1273, c grad 0.8864\n",
      "Epoch 650, error 2.34503, m grad -0.1268, c grad 0.8826\n",
      "Epoch 651, error 2.33709, m grad -0.1262, c grad 0.8789\n",
      "Epoch 652, error 2.32922, m grad -0.1257, c grad 0.8752\n",
      "Epoch 653, error 2.32142, m grad -0.1252, c grad 0.8716\n",
      "Epoch 654, error 2.31368, m grad -0.1247, c grad 0.8679\n",
      "Epoch 655, error 2.30601, m grad -0.1241, c grad 0.8643\n",
      "Epoch 656, error 2.2984, m grad -0.1236, c grad 0.8606\n",
      "Epoch 657, error 2.29086, m grad -0.1231, c grad 0.857\n",
      "Epoch 658, error 2.28338, m grad -0.1226, c grad 0.8534\n",
      "Epoch 659, error 2.27596, m grad -0.1221, c grad 0.8498\n",
      "Epoch 660, error 2.2686, m grad -0.1216, c grad 0.8463\n",
      "Epoch 661, error 2.26131, m grad -0.121, c grad 0.8427\n",
      "Epoch 662, error 2.25408, m grad -0.1205, c grad 0.8392\n",
      "Epoch 663, error 2.2469, m grad -0.12, c grad 0.8357\n",
      "Epoch 664, error 2.23979, m grad -0.1195, c grad 0.8321\n",
      "Epoch 665, error 2.23274, m grad -0.119, c grad 0.8286\n",
      "Epoch 666, error 2.22575, m grad -0.1185, c grad 0.8252\n",
      "Epoch 667, error 2.21881, m grad -0.118, c grad 0.8217\n",
      "Epoch 668, error 2.21194, m grad -0.1175, c grad 0.8183\n",
      "Epoch 669, error 2.20512, m grad -0.117, c grad 0.8148\n",
      "Epoch 670, error 2.19835, m grad -0.1166, c grad 0.8114\n",
      "Epoch 671, error 2.19165, m grad -0.1161, c grad 0.808\n",
      "Epoch 672, error 2.185, m grad -0.1156, c grad 0.8046\n",
      "Epoch 673, error 2.17841, m grad -0.1151, c grad 0.8012\n",
      "Epoch 674, error 2.17187, m grad -0.1146, c grad 0.7979\n",
      "Epoch 675, error 2.16538, m grad -0.1141, c grad 0.7945\n",
      "Epoch 676, error 2.15896, m grad -0.1136, c grad 0.7912\n",
      "Epoch 677, error 2.15258, m grad -0.1132, c grad 0.7878\n",
      "Epoch 678, error 2.14626, m grad -0.1127, c grad 0.7845\n",
      "Epoch 679, error 2.13999, m grad -0.1122, c grad 0.7812\n",
      "Epoch 680, error 2.13377, m grad -0.1117, c grad 0.778\n",
      "Epoch 681, error 2.12761, m grad -0.1113, c grad 0.7747\n",
      "Epoch 682, error 2.1215, m grad -0.1108, c grad 0.7714\n",
      "Epoch 683, error 2.11544, m grad -0.1103, c grad 0.7682\n",
      "Epoch 684, error 2.10943, m grad -0.1099, c grad 0.765\n",
      "Epoch 685, error 2.10347, m grad -0.1094, c grad 0.7618\n",
      "Epoch 686, error 2.09756, m grad -0.109, c grad 0.7586\n",
      "Epoch 687, error 2.09169, m grad -0.1085, c grad 0.7554\n",
      "Epoch 688, error 2.08588, m grad -0.108, c grad 0.7522\n",
      "Epoch 689, error 2.08012, m grad -0.1076, c grad 0.749\n",
      "Epoch 690, error 2.07441, m grad -0.1071, c grad 0.7459\n",
      "Epoch 691, error 2.06874, m grad -0.1067, c grad 0.7428\n",
      "Epoch 692, error 2.06312, m grad -0.1062, c grad 0.7396\n",
      "Epoch 693, error 2.05755, m grad -0.1058, c grad 0.7365\n",
      "Epoch 694, error 2.05202, m grad -0.1054, c grad 0.7334\n",
      "Epoch 695, error 2.04654, m grad -0.1049, c grad 0.7304\n",
      "Epoch 696, error 2.04111, m grad -0.1045, c grad 0.7273\n",
      "Epoch 697, error 2.03572, m grad -0.104, c grad 0.7242\n",
      "Epoch 698, error 2.03038, m grad -0.1036, c grad 0.7212\n",
      "Epoch 699, error 2.02509, m grad -0.1032, c grad 0.7182\n",
      "Epoch 700, error 2.01983, m grad -0.1027, c grad 0.7152\n",
      "Epoch 701, error 2.01462, m grad -0.1023, c grad 0.7122\n",
      "Epoch 702, error 2.00946, m grad -0.1019, c grad 0.7092\n",
      "Epoch 703, error 2.00434, m grad -0.1014, c grad 0.7062\n",
      "Epoch 704, error 1.99926, m grad -0.101, c grad 0.7032\n",
      "Epoch 705, error 1.99422, m grad -0.1006, c grad 0.7003\n",
      "Epoch 706, error 1.98923, m grad -0.1002, c grad 0.6973\n",
      "Epoch 707, error 1.98427, m grad -0.09975, c grad 0.6944\n",
      "Epoch 708, error 1.97936, m grad -0.09932, c grad 0.6915\n",
      "Epoch 709, error 1.97449, m grad -0.0989, c grad 0.6886\n",
      "Epoch 710, error 1.96966, m grad -0.09849, c grad 0.6857\n",
      "Epoch 711, error 1.96487, m grad -0.09808, c grad 0.6828\n",
      "Epoch 712, error 1.96013, m grad -0.09767, c grad 0.6799\n",
      "Epoch 713, error 1.95542, m grad -0.09725, c grad 0.6771\n",
      "Epoch 714, error 1.95075, m grad -0.09685, c grad 0.6742\n",
      "Epoch 715, error 1.94612, m grad -0.09644, c grad 0.6714\n",
      "Epoch 716, error 1.94153, m grad -0.09604, c grad 0.6686\n",
      "Epoch 717, error 1.93697, m grad -0.09563, c grad 0.6658\n",
      "Epoch 718, error 1.93246, m grad -0.09524, c grad 0.663\n",
      "Epoch 719, error 1.92798, m grad -0.09482, c grad 0.6602\n",
      "Epoch 720, error 1.92354, m grad -0.09443, c grad 0.6574\n",
      "Epoch 721, error 1.91914, m grad -0.09404, c grad 0.6547\n",
      "Epoch 722, error 1.91478, m grad -0.09364, c grad 0.6519\n",
      "Epoch 723, error 1.91045, m grad -0.09324, c grad 0.6492\n",
      "Epoch 724, error 1.90615, m grad -0.09286, c grad 0.6465\n",
      "Epoch 725, error 1.9019, m grad -0.09246, c grad 0.6437\n",
      "Epoch 726, error 1.89768, m grad -0.09207, c grad 0.641\n",
      "Epoch 727, error 1.89349, m grad -0.09169, c grad 0.6383\n",
      "Epoch 728, error 1.88934, m grad -0.09131, c grad 0.6357\n",
      "Epoch 729, error 1.88523, m grad -0.09091, c grad 0.633\n",
      "Epoch 730, error 1.88115, m grad -0.09054, c grad 0.6303\n",
      "Epoch 731, error 1.8771, m grad -0.09017, c grad 0.6277\n",
      "Epoch 732, error 1.87309, m grad -0.08979, c grad 0.6251\n",
      "Epoch 733, error 1.86911, m grad -0.08941, c grad 0.6224\n",
      "Epoch 734, error 1.86516, m grad -0.08903, c grad 0.6198\n",
      "Epoch 735, error 1.86125, m grad -0.08866, c grad 0.6172\n",
      "Epoch 736, error 1.85737, m grad -0.08828, c grad 0.6146\n",
      "Epoch 737, error 1.85352, m grad -0.0879, c grad 0.612\n",
      "Epoch 738, error 1.84971, m grad -0.08754, c grad 0.6095\n",
      "Epoch 739, error 1.84592, m grad -0.08717, c grad 0.6069\n",
      "Epoch 740, error 1.84217, m grad -0.08681, c grad 0.6044\n",
      "Epoch 741, error 1.83845, m grad -0.08645, c grad 0.6018\n",
      "Epoch 742, error 1.83476, m grad -0.08608, c grad 0.5993\n",
      "Epoch 743, error 1.8311, m grad -0.08571, c grad 0.5968\n",
      "Epoch 744, error 1.82748, m grad -0.08536, c grad 0.5943\n",
      "Epoch 745, error 1.82388, m grad -0.08501, c grad 0.5918\n",
      "Epoch 746, error 1.82031, m grad -0.08464, c grad 0.5893\n",
      "Epoch 747, error 1.81678, m grad -0.08429, c grad 0.5868\n",
      "Epoch 748, error 1.81327, m grad -0.08392, c grad 0.5844\n",
      "Epoch 749, error 1.80979, m grad -0.08358, c grad 0.5819\n",
      "Epoch 750, error 1.80634, m grad -0.08323, c grad 0.5795\n",
      "Epoch 751, error 1.80292, m grad -0.08288, c grad 0.577\n",
      "Epoch 752, error 1.79953, m grad -0.08254, c grad 0.5746\n",
      "Epoch 753, error 1.79617, m grad -0.08219, c grad 0.5722\n",
      "Epoch 754, error 1.79284, m grad -0.08185, c grad 0.5698\n",
      "Epoch 755, error 1.78953, m grad -0.0815, c grad 0.5674\n",
      "Epoch 756, error 1.78625, m grad -0.08117, c grad 0.565\n",
      "Epoch 757, error 1.783, m grad -0.08083, c grad 0.5626\n",
      "Epoch 758, error 1.77977, m grad -0.08048, c grad 0.5603\n",
      "Epoch 759, error 1.77658, m grad -0.08013, c grad 0.5579\n",
      "Epoch 760, error 1.77341, m grad -0.0798, c grad 0.5556\n",
      "Epoch 761, error 1.77026, m grad -0.07946, c grad 0.5532\n",
      "Epoch 762, error 1.76715, m grad -0.07914, c grad 0.5509\n",
      "Epoch 763, error 1.76406, m grad -0.07881, c grad 0.5486\n",
      "Epoch 764, error 1.76099, m grad -0.07848, c grad 0.5463\n",
      "Epoch 765, error 1.75795, m grad -0.07814, c grad 0.544\n",
      "Epoch 766, error 1.75494, m grad -0.07782, c grad 0.5417\n",
      "Epoch 767, error 1.75195, m grad -0.07749, c grad 0.5394\n",
      "Epoch 768, error 1.74898, m grad -0.07716, c grad 0.5372\n",
      "Epoch 769, error 1.74605, m grad -0.07685, c grad 0.5349\n",
      "Epoch 770, error 1.74313, m grad -0.07652, c grad 0.5327\n",
      "Epoch 771, error 1.74024, m grad -0.07621, c grad 0.5304\n",
      "Epoch 772, error 1.73737, m grad -0.07588, c grad 0.5282\n",
      "Epoch 773, error 1.73453, m grad -0.07556, c grad 0.526\n",
      "Epoch 774, error 1.73171, m grad -0.07525, c grad 0.5238\n",
      "Epoch 775, error 1.72892, m grad -0.07492, c grad 0.5216\n",
      "Epoch 776, error 1.72615, m grad -0.07462, c grad 0.5194\n",
      "Epoch 777, error 1.7234, m grad -0.07429, c grad 0.5172\n",
      "Epoch 778, error 1.72068, m grad -0.07397, c grad 0.515\n",
      "Epoch 779, error 1.71798, m grad -0.07367, c grad 0.5129\n",
      "Epoch 780, error 1.7153, m grad -0.07336, c grad 0.5107\n",
      "Epoch 781, error 1.71264, m grad -0.07304, c grad 0.5086\n",
      "Epoch 782, error 1.71001, m grad -0.07274, c grad 0.5064\n",
      "Epoch 783, error 1.70739, m grad -0.07244, c grad 0.5043\n",
      "Epoch 784, error 1.7048, m grad -0.07214, c grad 0.5022\n",
      "Epoch 785, error 1.70223, m grad -0.07183, c grad 0.5001\n",
      "Epoch 786, error 1.69969, m grad -0.07153, c grad 0.498\n",
      "Epoch 787, error 1.69716, m grad -0.07123, c grad 0.4959\n",
      "Epoch 788, error 1.69466, m grad -0.07093, c grad 0.4938\n",
      "Epoch 789, error 1.69217, m grad -0.07063, c grad 0.4917\n",
      "Epoch 790, error 1.68971, m grad -0.07035, c grad 0.4897\n",
      "Epoch 791, error 1.68727, m grad -0.07005, c grad 0.4876\n",
      "Epoch 792, error 1.68485, m grad -0.06976, c grad 0.4856\n",
      "Epoch 793, error 1.68244, m grad -0.06946, c grad 0.4835\n",
      "Epoch 794, error 1.68006, m grad -0.06917, c grad 0.4815\n",
      "Epoch 795, error 1.6777, m grad -0.06887, c grad 0.4795\n",
      "Epoch 796, error 1.67536, m grad -0.06858, c grad 0.4775\n",
      "Epoch 797, error 1.67304, m grad -0.06831, c grad 0.4755\n",
      "Epoch 798, error 1.67074, m grad -0.06801, c grad 0.4735\n",
      "Epoch 799, error 1.66845, m grad -0.06773, c grad 0.4715\n",
      "Epoch 800, error 1.66619, m grad -0.06744, c grad 0.4695\n",
      "Epoch 801, error 1.66394, m grad -0.06715, c grad 0.4675\n",
      "Epoch 802, error 1.66172, m grad -0.06687, c grad 0.4656\n",
      "Epoch 803, error 1.65951, m grad -0.06659, c grad 0.4636\n",
      "Epoch 804, error 1.65732, m grad -0.06632, c grad 0.4617\n",
      "Epoch 805, error 1.65515, m grad -0.06602, c grad 0.4597\n",
      "Epoch 806, error 1.653, m grad -0.06576, c grad 0.4578\n",
      "Epoch 807, error 1.65086, m grad -0.06549, c grad 0.4559\n",
      "Epoch 808, error 1.64875, m grad -0.06521, c grad 0.454\n",
      "Epoch 809, error 1.64665, m grad -0.06493, c grad 0.452\n",
      "Epoch 810, error 1.64457, m grad -0.06467, c grad 0.4501\n",
      "Epoch 811, error 1.6425, m grad -0.0644, c grad 0.4483\n",
      "Epoch 812, error 1.64046, m grad -0.06412, c grad 0.4464\n",
      "Epoch 813, error 1.63843, m grad -0.06385, c grad 0.4445\n",
      "Epoch 814, error 1.63641, m grad -0.06359, c grad 0.4426\n",
      "Epoch 815, error 1.63442, m grad -0.06332, c grad 0.4408\n",
      "Epoch 816, error 1.63244, m grad -0.06303, c grad 0.4389\n",
      "Epoch 817, error 1.63048, m grad -0.06279, c grad 0.4371\n",
      "Epoch 818, error 1.62853, m grad -0.06252, c grad 0.4352\n",
      "Epoch 819, error 1.6266, m grad -0.06226, c grad 0.4334\n",
      "Epoch 820, error 1.62469, m grad -0.06201, c grad 0.4316\n",
      "Epoch 821, error 1.62279, m grad -0.06173, c grad 0.4298\n",
      "Epoch 822, error 1.62091, m grad -0.06148, c grad 0.428\n",
      "Epoch 823, error 1.61905, m grad -0.06122, c grad 0.4262\n",
      "Epoch 824, error 1.6172, m grad -0.06095, c grad 0.4244\n",
      "Epoch 825, error 1.61536, m grad -0.06069, c grad 0.4226\n",
      "Epoch 826, error 1.61354, m grad -0.06044, c grad 0.4208\n",
      "Epoch 827, error 1.61174, m grad -0.06019, c grad 0.4191\n",
      "Epoch 828, error 1.60995, m grad -0.05993, c grad 0.4173\n",
      "Epoch 829, error 1.60818, m grad -0.05969, c grad 0.4156\n",
      "Epoch 830, error 1.60642, m grad -0.05945, c grad 0.4138\n",
      "Epoch 831, error 1.60467, m grad -0.05921, c grad 0.4121\n",
      "Epoch 832, error 1.60294, m grad -0.05894, c grad 0.4103\n",
      "Epoch 833, error 1.60123, m grad -0.0587, c grad 0.4086\n",
      "Epoch 834, error 1.59953, m grad -0.05846, c grad 0.4069\n",
      "Epoch 835, error 1.59784, m grad -0.0582, c grad 0.4052\n",
      "Epoch 836, error 1.59617, m grad -0.05795, c grad 0.4035\n",
      "Epoch 837, error 1.59451, m grad -0.05771, c grad 0.4018\n",
      "Epoch 838, error 1.59287, m grad -0.05747, c grad 0.4001\n",
      "Epoch 839, error 1.59124, m grad -0.05721, c grad 0.3984\n",
      "Epoch 840, error 1.58962, m grad -0.05698, c grad 0.3968\n",
      "Epoch 841, error 1.58802, m grad -0.05675, c grad 0.3951\n",
      "Epoch 842, error 1.58643, m grad -0.05653, c grad 0.3934\n",
      "Epoch 843, error 1.58485, m grad -0.05628, c grad 0.3918\n",
      "Epoch 844, error 1.58329, m grad -0.05605, c grad 0.3901\n",
      "Epoch 845, error 1.58174, m grad -0.05579, c grad 0.3885\n",
      "Epoch 846, error 1.5802, m grad -0.05557, c grad 0.3869\n",
      "Epoch 847, error 1.57867, m grad -0.05533, c grad 0.3852\n",
      "Epoch 848, error 1.57716, m grad -0.0551, c grad 0.3836\n",
      "Epoch 849, error 1.57566, m grad -0.05487, c grad 0.382\n",
      "Epoch 850, error 1.57418, m grad -0.05463, c grad 0.3804\n",
      "Epoch 851, error 1.57271, m grad -0.05441, c grad 0.3788\n",
      "Epoch 852, error 1.57124, m grad -0.05418, c grad 0.3772\n",
      "Epoch 853, error 1.56979, m grad -0.05394, c grad 0.3756\n",
      "Epoch 854, error 1.56836, m grad -0.05374, c grad 0.3741\n",
      "Epoch 855, error 1.56693, m grad -0.05351, c grad 0.3725\n",
      "Epoch 856, error 1.56552, m grad -0.05329, c grad 0.3709\n",
      "Epoch 857, error 1.56412, m grad -0.05306, c grad 0.3694\n",
      "Epoch 858, error 1.56273, m grad -0.05282, c grad 0.3678\n",
      "Epoch 859, error 1.56135, m grad -0.05262, c grad 0.3663\n",
      "Epoch 860, error 1.55998, m grad -0.05239, c grad 0.3647\n",
      "Epoch 861, error 1.55863, m grad -0.05216, c grad 0.3632\n",
      "Epoch 862, error 1.55729, m grad -0.05194, c grad 0.3617\n",
      "Epoch 863, error 1.55595, m grad -0.05173, c grad 0.3602\n",
      "Epoch 864, error 1.55463, m grad -0.05151, c grad 0.3586\n",
      "Epoch 865, error 1.55332, m grad -0.0513, c grad 0.3571\n",
      "Epoch 866, error 1.55202, m grad -0.05109, c grad 0.3556\n",
      "Epoch 867, error 1.55073, m grad -0.05086, c grad 0.3541\n",
      "Epoch 868, error 1.54946, m grad -0.05066, c grad 0.3527\n",
      "Epoch 869, error 1.54819, m grad -0.05044, c grad 0.3512\n",
      "Epoch 870, error 1.54693, m grad -0.05022, c grad 0.3497\n",
      "Epoch 871, error 1.54569, m grad -0.05002, c grad 0.3482\n",
      "Epoch 872, error 1.54445, m grad -0.04981, c grad 0.3468\n",
      "Epoch 873, error 1.54323, m grad -0.04961, c grad 0.3453\n",
      "Epoch 874, error 1.54202, m grad -0.0494, c grad 0.3439\n",
      "Epoch 875, error 1.54081, m grad -0.04918, c grad 0.3424\n",
      "Epoch 876, error 1.53962, m grad -0.04898, c grad 0.341\n",
      "Epoch 877, error 1.53843, m grad -0.04878, c grad 0.3395\n",
      "Epoch 878, error 1.53726, m grad -0.04857, c grad 0.3381\n",
      "Epoch 879, error 1.53609, m grad -0.04836, c grad 0.3367\n",
      "Epoch 880, error 1.53494, m grad -0.04817, c grad 0.3353\n",
      "Epoch 881, error 1.53379, m grad -0.04797, c grad 0.3339\n",
      "Epoch 882, error 1.53266, m grad -0.04775, c grad 0.3325\n",
      "Epoch 883, error 1.53153, m grad -0.04755, c grad 0.3311\n",
      "Epoch 884, error 1.53042, m grad -0.04736, c grad 0.3297\n",
      "Epoch 885, error 1.52931, m grad -0.04716, c grad 0.3283\n",
      "Epoch 886, error 1.52821, m grad -0.04696, c grad 0.3269\n",
      "Epoch 887, error 1.52712, m grad -0.04675, c grad 0.3256\n",
      "Epoch 888, error 1.52604, m grad -0.04657, c grad 0.3242\n",
      "Epoch 889, error 1.52497, m grad -0.04638, c grad 0.3228\n",
      "Epoch 890, error 1.52391, m grad -0.04618, c grad 0.3215\n",
      "Epoch 891, error 1.52286, m grad -0.04599, c grad 0.3201\n",
      "Epoch 892, error 1.52181, m grad -0.04578, c grad 0.3188\n",
      "Epoch 893, error 1.52078, m grad -0.04559, c grad 0.3174\n",
      "Epoch 894, error 1.51975, m grad -0.04542, c grad 0.3161\n",
      "Epoch 895, error 1.51874, m grad -0.04522, c grad 0.3148\n",
      "Epoch 896, error 1.51773, m grad -0.04501, c grad 0.3135\n",
      "Epoch 897, error 1.51673, m grad -0.04484, c grad 0.3121\n",
      "Epoch 898, error 1.51573, m grad -0.04464, c grad 0.3108\n",
      "Epoch 899, error 1.51475, m grad -0.04447, c grad 0.3095\n",
      "Epoch 900, error 1.51377, m grad -0.04428, c grad 0.3082\n",
      "Epoch 901, error 1.51281, m grad -0.04409, c grad 0.3069\n",
      "Epoch 902, error 1.51185, m grad -0.04391, c grad 0.3056\n",
      "Epoch 903, error 1.5109, m grad -0.04371, c grad 0.3044\n",
      "Epoch 904, error 1.50995, m grad -0.04354, c grad 0.3031\n",
      "Epoch 905, error 1.50902, m grad -0.04336, c grad 0.3018\n",
      "Epoch 906, error 1.50809, m grad -0.04317, c grad 0.3005\n",
      "Epoch 907, error 1.50717, m grad -0.04299, c grad 0.2993\n",
      "Epoch 908, error 1.50626, m grad -0.04281, c grad 0.298\n",
      "Epoch 909, error 1.50535, m grad -0.04262, c grad 0.2968\n",
      "Epoch 910, error 1.50445, m grad -0.04245, c grad 0.2955\n",
      "Epoch 911, error 1.50357, m grad -0.04227, c grad 0.2943\n",
      "Epoch 912, error 1.50268, m grad -0.04209, c grad 0.293\n",
      "Epoch 913, error 1.50181, m grad -0.04191, c grad 0.2918\n",
      "Epoch 914, error 1.50094, m grad -0.04173, c grad 0.2906\n",
      "Epoch 915, error 1.50008, m grad -0.04156, c grad 0.2894\n",
      "Epoch 916, error 1.49923, m grad -0.04141, c grad 0.2882\n",
      "Epoch 917, error 1.49838, m grad -0.04121, c grad 0.2869\n",
      "Epoch 918, error 1.49754, m grad -0.04106, c grad 0.2857\n",
      "Epoch 919, error 1.49671, m grad -0.04087, c grad 0.2845\n",
      "Epoch 920, error 1.49589, m grad -0.04071, c grad 0.2833\n",
      "Epoch 921, error 1.49507, m grad -0.04053, c grad 0.2822\n",
      "Epoch 922, error 1.49426, m grad -0.04036, c grad 0.281\n",
      "Epoch 923, error 1.49346, m grad -0.04019, c grad 0.2798\n",
      "Epoch 924, error 1.49266, m grad -0.04, c grad 0.2786\n",
      "Epoch 925, error 1.49187, m grad -0.03985, c grad 0.2774\n",
      "Epoch 926, error 1.49108, m grad -0.0397, c grad 0.2763\n",
      "Epoch 927, error 1.49031, m grad -0.03952, c grad 0.2751\n",
      "Epoch 928, error 1.48954, m grad -0.03937, c grad 0.274\n",
      "Epoch 929, error 1.48877, m grad -0.03919, c grad 0.2728\n",
      "Epoch 930, error 1.48801, m grad -0.03901, c grad 0.2717\n",
      "Epoch 931, error 1.48726, m grad -0.03887, c grad 0.2705\n",
      "Epoch 932, error 1.48652, m grad -0.0387, c grad 0.2694\n",
      "Epoch 933, error 1.48578, m grad -0.03853, c grad 0.2683\n",
      "Epoch 934, error 1.48504, m grad -0.03838, c grad 0.2671\n",
      "Epoch 935, error 1.48432, m grad -0.0382, c grad 0.266\n",
      "Epoch 936, error 1.4836, m grad -0.03806, c grad 0.2649\n",
      "Epoch 937, error 1.48288, m grad -0.0379, c grad 0.2638\n",
      "Epoch 938, error 1.48217, m grad -0.03773, c grad 0.2627\n",
      "Epoch 939, error 1.48147, m grad -0.03758, c grad 0.2616\n",
      "Epoch 940, error 1.48077, m grad -0.03741, c grad 0.2605\n",
      "Epoch 941, error 1.48008, m grad -0.03726, c grad 0.2594\n",
      "Epoch 942, error 1.4794, m grad -0.0371, c grad 0.2583\n",
      "Epoch 943, error 1.47872, m grad -0.03695, c grad 0.2572\n",
      "Epoch 944, error 1.47804, m grad -0.03679, c grad 0.2561\n",
      "Epoch 945, error 1.47738, m grad -0.03663, c grad 0.255\n",
      "Epoch 946, error 1.47671, m grad -0.03649, c grad 0.254\n",
      "Epoch 947, error 1.47606, m grad -0.03633, c grad 0.2529\n",
      "Epoch 948, error 1.4754, m grad -0.03618, c grad 0.2518\n",
      "Epoch 949, error 1.47476, m grad -0.03603, c grad 0.2508\n",
      "Epoch 950, error 1.47412, m grad -0.03588, c grad 0.2497\n",
      "Epoch 951, error 1.47348, m grad -0.03573, c grad 0.2487\n",
      "Epoch 952, error 1.47285, m grad -0.03557, c grad 0.2476\n",
      "Epoch 953, error 1.47223, m grad -0.03543, c grad 0.2466\n",
      "Epoch 954, error 1.47161, m grad -0.03528, c grad 0.2456\n",
      "Epoch 955, error 1.471, m grad -0.03511, c grad 0.2445\n",
      "Epoch 956, error 1.47039, m grad -0.03497, c grad 0.2435\n",
      "Epoch 957, error 1.46978, m grad -0.03483, c grad 0.2425\n",
      "Epoch 958, error 1.46918, m grad -0.03467, c grad 0.2415\n",
      "Epoch 959, error 1.46859, m grad -0.03454, c grad 0.2405\n",
      "Epoch 960, error 1.468, m grad -0.0344, c grad 0.2394\n",
      "Epoch 961, error 1.46742, m grad -0.03424, c grad 0.2384\n",
      "Epoch 962, error 1.46684, m grad -0.03411, c grad 0.2374\n",
      "Epoch 963, error 1.46626, m grad -0.03395, c grad 0.2364\n",
      "Epoch 964, error 1.46569, m grad -0.03383, c grad 0.2354\n",
      "Epoch 965, error 1.46513, m grad -0.03367, c grad 0.2345\n",
      "Epoch 966, error 1.46457, m grad -0.03355, c grad 0.2335\n",
      "Epoch 967, error 1.46401, m grad -0.0334, c grad 0.2325\n",
      "Epoch 968, error 1.46346, m grad -0.03325, c grad 0.2315\n",
      "Epoch 969, error 1.46292, m grad -0.0331, c grad 0.2305\n",
      "Epoch 970, error 1.46238, m grad -0.03298, c grad 0.2296\n",
      "Epoch 971, error 1.46184, m grad -0.03285, c grad 0.2286\n",
      "Epoch 972, error 1.46131, m grad -0.03269, c grad 0.2277\n",
      "Epoch 973, error 1.46078, m grad -0.03257, c grad 0.2267\n",
      "Epoch 974, error 1.46026, m grad -0.03244, c grad 0.2257\n",
      "Epoch 975, error 1.45974, m grad -0.03229, c grad 0.2248\n",
      "Epoch 976, error 1.45922, m grad -0.03217, c grad 0.2239\n",
      "Epoch 977, error 1.45871, m grad -0.03202, c grad 0.2229\n",
      "Epoch 978, error 1.45821, m grad -0.03189, c grad 0.222\n",
      "Epoch 979, error 1.4577, m grad -0.03175, c grad 0.221\n",
      "Epoch 980, error 1.45721, m grad -0.03161, c grad 0.2201\n",
      "Epoch 981, error 1.45671, m grad -0.03148, c grad 0.2192\n",
      "Epoch 982, error 1.45622, m grad -0.03136, c grad 0.2183\n",
      "Epoch 983, error 1.45574, m grad -0.03122, c grad 0.2174\n",
      "Epoch 984, error 1.45526, m grad -0.0311, c grad 0.2164\n",
      "Epoch 985, error 1.45478, m grad -0.03096, c grad 0.2155\n",
      "Epoch 986, error 1.45431, m grad -0.03084, c grad 0.2146\n",
      "Epoch 987, error 1.45384, m grad -0.0307, c grad 0.2137\n",
      "Epoch 988, error 1.45337, m grad -0.03057, c grad 0.2128\n",
      "Epoch 989, error 1.45291, m grad -0.03044, c grad 0.2119\n",
      "Epoch 990, error 1.45245, m grad -0.03032, c grad 0.211\n",
      "Epoch 991, error 1.452, m grad -0.03018, c grad 0.2102\n",
      "Epoch 992, error 1.45155, m grad -0.03006, c grad 0.2093\n",
      "Epoch 993, error 1.4511, m grad -0.02992, c grad 0.2084\n",
      "Epoch 994, error 1.45066, m grad -0.02982, c grad 0.2075\n",
      "Epoch 995, error 1.45022, m grad -0.02968, c grad 0.2067\n",
      "Epoch 996, error 1.44979, m grad -0.02954, c grad 0.2058\n",
      "Epoch 997, error 1.44936, m grad -0.02944, c grad 0.2049\n",
      "Epoch 998, error 1.44893, m grad -0.0293, c grad 0.2041\n",
      "Epoch 999, error 1.44851, m grad -0.02919, c grad 0.2032\n"
     ]
    }
   ],
   "source": [
    "epoc = 1000\n",
    "for epocs in range(epoc):\n",
    "  optimizer.zero_grad()\n",
    "\n",
    "  y_cap = y_line(x,m,c)\n",
    "  e= error(y_cap, y)\n",
    "\n",
    "  e.backward()\n",
    "  optimizer.step()\n",
    "\n",
    "  print('Epoch {}, error {}, m grad {}, c grad {}'.format(epocs, '%.6g' % e.item(), '%.4g' % m.grad.item(), '%.4g' % c.grad.item()))"
   ]
  },
  {
   "cell_type": "code",
   "execution_count": null,
   "metadata": {
    "colab": {
     "base_uri": "https://localhost:8080/",
     "height": 265
    },
    "id": "_9V61YaJ6SXg",
    "outputId": "73a1cdcc-2c3f-4c5c-c392-078de31fdc5a"
   },
   "outputs": [
    {
     "data": {
      "image/png": "[encoded data removed]",
      "text/plain": [
       "<Figure size 432x288 with 1 Axes>"
      ]
     },
     "metadata": {
      "needs_background": "light"
     },
     "output_type": "display_data"
    }
   ],
   "source": [
    "reg_plot(x,y,m,c)"
   ]
  },
  {
   "cell_type": "code",
   "execution_count": null,
   "metadata": {
    "colab": {
     "base_uri": "https://localhost:8080/"
    },
    "id": "63Wkny386SSp",
    "outputId": "4dcc8af8-68af-4314-a198-f5ef3a0757f4"
   },
   "outputs": [
    {
     "data": {
      "text/plain": [
       "2.7253897190093994"
      ]
     },
     "execution_count": 29,
     "metadata": {},
     "output_type": "execute_result"
    }
   ],
   "source": [
    "m.item()"
   ]
  },
  {
   "cell_type": "code",
   "execution_count": null,
   "metadata": {
    "colab": {
     "base_uri": "https://localhost:8080/"
    },
    "id": "zsN-sqtv6SPa",
    "outputId": "9a413306-d13d-46eb-fc98-d3a4c1e407b0"
   },
   "outputs": [
    {
     "data": {
      "text/plain": [
       "-2.039680004119873"
      ]
     },
     "execution_count": 30,
     "metadata": {},
     "output_type": "execute_result"
    }
   ],
   "source": [
    "c.item()"
   ]
  }
 ],
 "metadata": {
  "colab": {
   "name": "Regression Project.ipynb",
   "provenance": []
  },
  "kernelspec": {
   "display_name": "Python 3 (ipykernel)",
   "language": "python",
   "name": "python3"
  },
  "language_info": {
   "codemirror_mode": {
    "name": "ipython",
    "version": 3
   },
   "file_extension": ".py",
   "mimetype": "text/x-python",
   "name": "python",
   "nbconvert_exporter": "python",
   "pygments_lexer": "ipython3",
   "version": "3.7.7"
  }
 },
 "nbformat": 4,
 "nbformat_minor": 1
}
