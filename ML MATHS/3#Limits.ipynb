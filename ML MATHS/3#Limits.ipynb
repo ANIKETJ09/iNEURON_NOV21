{
 "cells": [
  {
   "cell_type": "markdown",
   "metadata": {
    "id": "PyiXXRE1jtbs"
   },
   "source": [
    "# Differential Calculus"
   ]
  },
  {
   "cell_type": "markdown",
   "metadata": {
    "id": "hS8HFuGZ3Km1"
   },
   "source": [
    "## Slope of a point on curve"
   ]
  },
  {
   "cell_type": "code",
   "execution_count": null,
   "metadata": {
    "id": "kCt1j-okxS1Y"
   },
   "outputs": [],
   "source": [
    "import numpy as np\n",
    "import matplotlib.pyplot as plt"
   ]
  },
  {
   "cell_type": "code",
   "execution_count": null,
   "metadata": {
    "id": "g-EDgigKa-K9"
   },
   "outputs": [],
   "source": [
    "x = np.linspace(-10,10,10000)"
   ]
  },
  {
   "cell_type": "code",
   "execution_count": null,
   "metadata": {
    "id": "LEHSTeWaa-IW"
   },
   "outputs": [],
   "source": [
    "y = x**2 + 3*x + 5"
   ]
  },
  {
   "cell_type": "code",
   "execution_count": null,
   "metadata": {
    "id": "KSbOPha95r-d"
   },
   "outputs": [],
   "source": [
    "y1 = 7*x + 3"
   ]
  },
  {
   "cell_type": "code",
   "execution_count": null,
   "metadata": {
    "id": "HIA1j0QDa-Fv"
   },
   "outputs": [],
   "source": [
    "figure, axes = plt.subplots(dpi=100)\n",
    "plt.axhline(y=0, color = 'lightgrey')\n",
    "plt.axvline(x=0, color = 'lightgrey')\n",
    "plt.axhline(y=2.74)\n",
    "_ = axes.plot(x,y, color='red')"
   ]
  },
  {
   "cell_type": "code",
   "execution_count": null,
   "metadata": {
    "id": "w5wAzqbua99e"
   },
   "outputs": [],
   "source": [
    "figure, axes = plt.subplots(dpi=100)\n",
    "plt.axhline(y=0, color = 'lightgrey')\n",
    "plt.axvline(x=0, color = 'lightgrey')\n",
    "axes.set_xlim(-2.5,0)\n",
    "axes.set_ylim(1.5,3.5)\n",
    "plt.axhline(y=2.74)\n",
    "_ = axes.plot(x,y, color='red')"
   ]
  },
  {
   "cell_type": "code",
   "execution_count": null,
   "metadata": {
    "id": "x7ELCM6ExuoI"
   },
   "outputs": [],
   "source": [
    "figure, axes = plt.subplots(dpi=100)\n",
    "plt.axhline(y=0, color = 'lightgrey')\n",
    "plt.axvline(x=0, color = 'lightgrey')\n",
    "axes.set_xlim(-2,-1)\n",
    "axes.set_ylim(2.25,3.25)\n",
    "plt.axhline(y=2.74)\n",
    "_ = axes.plot(x,y, color='red')"
   ]
  },
  {
   "cell_type": "markdown",
   "metadata": {
    "id": "IZvpyEpZjfzW"
   },
   "source": [
    "## Curve as a Stirght line"
   ]
  },
  {
   "cell_type": "code",
   "execution_count": null,
   "metadata": {
    "id": "Ba6TycMJbAZm"
   },
   "outputs": [],
   "source": [
    "import numpy as np\n",
    "import matplotlib.pyplot as plt"
   ]
  },
  {
   "cell_type": "code",
   "execution_count": null,
   "metadata": {
    "id": "ApFTpvnIbAWV"
   },
   "outputs": [],
   "source": [
    "x = np.linspace(-5,5,1000)"
   ]
  },
  {
   "cell_type": "code",
   "execution_count": null,
   "metadata": {
    "id": "WccejJMXbAT1"
   },
   "outputs": [],
   "source": [
    "y = x**2"
   ]
  },
  {
   "cell_type": "code",
   "execution_count": null,
   "metadata": {
    "id": "aLNGxCI9bAQn"
   },
   "outputs": [],
   "source": [
    "figure, axes = plt.subplots(dpi=100)\n",
    "_ = axes.plot(x,y)"
   ]
  },
  {
   "cell_type": "code",
   "execution_count": null,
   "metadata": {
    "id": "wPcQmVx9bAN0"
   },
   "outputs": [],
   "source": [
    "figure, axes = plt.subplots(dpi=100)\n",
    "axes.set_xlim([-2,2])\n",
    "axes.set_ylim([-1,6])\n",
    "_ = axes.plot(x,y)"
   ]
  },
  {
   "cell_type": "code",
   "execution_count": null,
   "metadata": {
    "id": "owXUpERGa6bE"
   },
   "outputs": [],
   "source": [
    "figure, axes = plt.subplots(dpi=100)\n",
    "axes.set_xlim([-1,1])\n",
    "axes.set_ylim([-1,2])\n",
    "_ = axes.plot(x,y)"
   ]
  },
  {
   "cell_type": "code",
   "execution_count": null,
   "metadata": {
    "id": "S-wwPY7ka-Tf"
   },
   "outputs": [],
   "source": [
    "figure, axes = plt.subplots(dpi=100)\n",
    "axes.set_xlim([-.5,0.5])\n",
    "axes.set_ylim([-1,2])\n",
    "_ = axes.plot(x,y)"
   ]
  },
  {
   "cell_type": "code",
   "execution_count": null,
   "metadata": {
    "id": "-T6v2NUna-Qt"
   },
   "outputs": [],
   "source": [
    "figure, axes = plt.subplots(dpi=100)\n",
    "axes.set_xlim([-.2,.2])\n",
    "axes.set_ylim([-1,2])\n",
    "_ = axes.plot(x,y)"
   ]
  },
  {
   "cell_type": "code",
   "execution_count": null,
   "metadata": {
    "id": "IzNxUqyMa-Ns"
   },
   "outputs": [],
   "source": [
    "figure, axes = plt.subplots(dpi=100)\n",
    "axes.set_xlim([-.01,.01])\n",
    "axes.set_ylim([-1,2])\n",
    "_ = axes.plot(x,y)"
   ]
  },
  {
   "cell_type": "markdown",
   "metadata": {
    "id": "W0B71wa3c_OM"
   },
   "source": [
    "## Limits"
   ]
  },
  {
   "cell_type": "code",
   "execution_count": null,
   "metadata": {
    "id": "sHuwXMXJa96k"
   },
   "outputs": [],
   "source": [
    "import numpy as np\n",
    "import matplotlib.pyplot as plt"
   ]
  },
  {
   "cell_type": "code",
   "execution_count": null,
   "metadata": {
    "id": "5E5NPY0Aa93-"
   },
   "outputs": [],
   "source": [
    "x = np.linspace(-10,10,10000)"
   ]
  },
  {
   "cell_type": "code",
   "execution_count": null,
   "metadata": {
    "id": "U-7jCP1ea91V"
   },
   "outputs": [],
   "source": [
    "y = x**2 + 2*x + 3"
   ]
  },
  {
   "cell_type": "code",
   "execution_count": null,
   "metadata": {
    "id": "H_9WKq-fa9yk"
   },
   "outputs": [],
   "source": [
    "figure, axes = plt.subplots(dpi=100)\n",
    "plt.axhline(y=0, color = 'lightgrey')\n",
    "plt.axvline(x=0, color = 'lightgrey')\n",
    "\n",
    "axes.plot(x, y)"
   ]
  },
  {
   "cell_type": "code",
   "execution_count": null,
   "metadata": {
    "id": "X83WPUbF3d_e"
   },
   "outputs": [],
   "source": [
    "def func(x):\n",
    "  return x**2 + 2*x + 3"
   ]
  },
  {
   "cell_type": "code",
   "execution_count": null,
   "metadata": {
    "id": "9NxnON1H3d8E"
   },
   "outputs": [],
   "source": [
    "func(2)"
   ]
  },
  {
   "cell_type": "code",
   "execution_count": null,
   "metadata": {
    "id": "sFFX-8XU3d4_"
   },
   "outputs": [],
   "source": [
    "func(7)"
   ]
  },
  {
   "cell_type": "code",
   "execution_count": null,
   "metadata": {
    "id": "hP8RH5xhe5Ru"
   },
   "outputs": [],
   "source": [
    "func(-6)"
   ]
  },
  {
   "cell_type": "code",
   "execution_count": null,
   "metadata": {
    "id": "e2xhhalsH2_2"
   },
   "outputs": [],
   "source": [
    "func(25)"
   ]
  },
  {
   "cell_type": "code",
   "execution_count": null,
   "metadata": {
    "id": "f1Qyvx_Ta9tt"
   },
   "outputs": [],
   "source": [
    "figure, axes = plt.subplots(dpi=100)\n",
    "plt.axhline(y=0, color = 'lightgrey')\n",
    "plt.axvline(x=0, color = 'lightgrey')\n",
    "\n",
    "plt.axhline(y = 66, color = 'red', linestyle= '--')\n",
    "plt.axvline(x=7, color = 'red', linestyle='--')\n",
    "\n",
    "plt.axhline(y =27, color = 'orange', linestyle= ':')\n",
    "plt.axvline(x=-6, color = 'orange', linestyle=':')\n",
    "\n",
    "axes.plot(x, y)"
   ]
  },
  {
   "cell_type": "markdown",
   "metadata": {
    "id": "8ITBLIToD24w"
   },
   "source": [
    "$$ \\lim_{x \\to 1} \\frac{x ^2 -1} {x-1} $$"
   ]
  },
  {
   "cell_type": "code",
   "execution_count": null,
   "metadata": {
    "id": "iwe0o5hS9eC2"
   },
   "outputs": [],
   "source": [
    "y = (x**2 -1)/(x-1)"
   ]
  },
  {
   "cell_type": "code",
   "execution_count": null,
   "metadata": {
    "id": "RquPHROr9d_6"
   },
   "outputs": [],
   "source": [
    "figure, axes = plt.subplots(dpi=100)\n",
    "plt.axhline(y=0, color = 'lightgrey')\n",
    "plt.axvline(x=0, color = 'lightgrey')\n",
    "\n",
    "axes.set_ylim(-10,10)\n",
    "\n",
    "axes.plot(x, y)"
   ]
  },
  {
   "cell_type": "code",
   "execution_count": null,
   "metadata": {
    "id": "A9b7oJgDa9qs"
   },
   "outputs": [],
   "source": [
    "def func(x):\n",
    "  return (x**2 -1)/(x-1)"
   ]
  },
  {
   "cell_type": "code",
   "execution_count": null,
   "metadata": {
    "id": "0K1jagzxI4zm"
   },
   "outputs": [],
   "source": [
    "func(2)"
   ]
  },
  {
   "cell_type": "code",
   "execution_count": null,
   "metadata": {
    "id": "oiPRwZRTI4SV"
   },
   "outputs": [],
   "source": [
    "#func(1)"
   ]
  },
  {
   "cell_type": "code",
   "execution_count": null,
   "metadata": {
    "id": "pBg__--SJQ6N"
   },
   "outputs": [],
   "source": [
    "func(1.00000001)"
   ]
  },
  {
   "cell_type": "code",
   "execution_count": null,
   "metadata": {
    "id": "baYU9ozUJQ32"
   },
   "outputs": [],
   "source": [
    "func(.999999)"
   ]
  },
  {
   "cell_type": "code",
   "execution_count": null,
   "metadata": {
    "id": "sNj6eguzJQ1G"
   },
   "outputs": [],
   "source": [
    "func(.99999999999999)"
   ]
  },
  {
   "cell_type": "code",
   "execution_count": null,
   "metadata": {
    "id": "zQ0Jrv4jI4PN"
   },
   "outputs": [],
   "source": [
    "func(4)"
   ]
  },
  {
   "cell_type": "code",
   "execution_count": null,
   "metadata": {
    "id": "ua_HZQGgAguh"
   },
   "outputs": [],
   "source": [
    "figure, axes = plt.subplots(dpi=100)\n",
    "plt.axhline(y=0, color = 'lightgrey')\n",
    "plt.axvline(x=0, color = 'lightgrey')\n",
    "axes.plot(x, y)\n",
    "\n",
    "plt.axhline(y = 2, color = 'red', linestyle= '--')\n",
    "plt.axvline(x=1, color = 'red', linestyle='--')\n",
    "\n",
    "axes.set_ylim(-10,10)"
   ]
  },
  {
   "cell_type": "markdown",
   "metadata": {
    "id": "LWmETstDEnSP"
   },
   "source": [
    "$$ \\lim_{θ \\to 1} \\frac{\\text{tan } θ} {θ} $$"
   ]
  },
  {
   "cell_type": "code",
   "execution_count": null,
   "metadata": {
    "id": "mZsWy72GCAdy"
   },
   "outputs": [],
   "source": [
    "def func(x):\n",
    "  return np.tan(x)/x"
   ]
  },
  {
   "cell_type": "code",
   "execution_count": null,
   "metadata": {
    "id": "bB0HEStwA4ER"
   },
   "outputs": [],
   "source": [
    "func(0)"
   ]
  },
  {
   "cell_type": "code",
   "execution_count": null,
   "metadata": {
    "id": "jLVdx7IvKjw0"
   },
   "outputs": [],
   "source": [
    "func(2)"
   ]
  },
  {
   "cell_type": "code",
   "execution_count": null,
   "metadata": {
    "id": "xfXFFVj0Kncl"
   },
   "outputs": [],
   "source": [
    "func(0.000001)"
   ]
  },
  {
   "cell_type": "code",
   "execution_count": null,
   "metadata": {
    "id": "dqt7uyVbKyNu"
   },
   "outputs": [],
   "source": [
    "func(-.00001)"
   ]
  },
  {
   "cell_type": "code",
   "execution_count": null,
   "metadata": {
    "id": "3HCez8t1Cou4"
   },
   "outputs": [],
   "source": [
    "y = func(x)"
   ]
  },
  {
   "cell_type": "code",
   "execution_count": null,
   "metadata": {
    "id": "6n8OVlFVC9Og"
   },
   "outputs": [],
   "source": [
    "figure, axes = plt.subplots(dpi=100)\n",
    "plt.axhline(y=0, color = 'lightgrey')\n",
    "plt.axvline(x=0, color = 'lightgrey')\n",
    "\n",
    "axes.set_ylim(-10,10)\n",
    "axes.plot(x, y)"
   ]
  },
  {
   "cell_type": "code",
   "execution_count": null,
   "metadata": {
    "id": "f9ULi2qPDJQ3"
   },
   "outputs": [],
   "source": [
    "figure, axes = plt.subplots(dpi=100)\n",
    "plt.axhline(y=0, color = 'lightgrey')\n",
    "plt.axvline(x=0, color = 'lightgrey')\n",
    "\n",
    "plt.axhline(y=1, color='red', linestyle='--')\n",
    "plt.axvline(x=0, color='red', linestyle='--')\n",
    "\n",
    "axes.set_ylim(-10,10)\n",
    "axes.plot(x, y)"
   ]
  },
  {
   "cell_type": "markdown",
   "metadata": {
    "id": "eqK-i8EulJpo"
   },
   "source": [
    "# Derivatives with Delta method"
   ]
  },
  {
   "cell_type": "code",
   "execution_count": null,
   "metadata": {
    "id": "TIs7weiWliF3"
   },
   "outputs": [],
   "source": [
    "import numpy as np\n",
    "import matplotlib.pyplot as plt"
   ]
  },
  {
   "cell_type": "code",
   "execution_count": null,
   "metadata": {
    "id": "oTshVspYoczG"
   },
   "outputs": [],
   "source": [
    "x = np.linspace(-10,10,10000)"
   ]
  },
  {
   "cell_type": "code",
   "execution_count": null,
   "metadata": {
    "id": "JLs2Iq9DlQdo"
   },
   "outputs": [],
   "source": [
    "def func(x):\n",
    "  return x**2 + 3*x + 1"
   ]
  },
  {
   "cell_type": "code",
   "execution_count": null,
   "metadata": {
    "id": "2KEByscQlQ7w"
   },
   "outputs": [],
   "source": [
    "y = func(x)"
   ]
  },
  {
   "cell_type": "code",
   "execution_count": null,
   "metadata": {
    "id": "VLgF1oTblQ4V"
   },
   "outputs": [],
   "source": [
    "figure, axes = plt.subplots(dpi=100)\n",
    "_ = axes.plot(x,y)"
   ]
  },
  {
   "cell_type": "code",
   "execution_count": null,
   "metadata": {
    "id": "_pF7Rg9tlQ1a"
   },
   "outputs": [],
   "source": [
    "func(3)"
   ]
  },
  {
   "cell_type": "code",
   "execution_count": null,
   "metadata": {
    "id": "Y_YuZ6X2lQyQ"
   },
   "outputs": [],
   "source": [
    "figure, axes = plt.subplots(dpi=100)\n",
    "plt.axvline(x=0, color='lightgrey')\n",
    "plt.axhline(y=0, color='lightgrey')\n",
    "\n",
    "plt.scatter(3,19, color = 'purple', zorder=3)\n",
    "_ = axes.plot(x,y)"
   ]
  },
  {
   "cell_type": "code",
   "execution_count": null,
   "metadata": {
    "id": "rDDTfCU4lQvS"
   },
   "outputs": [],
   "source": [
    "func(5)"
   ]
  },
  {
   "cell_type": "code",
   "execution_count": null,
   "metadata": {
    "id": "1l0pDOTqlQr5"
   },
   "outputs": [],
   "source": [
    "figure, axes = plt.subplots(dpi=100)\n",
    "plt.axvline(x=0, color='lightgrey')\n",
    "plt.axhline(y=0, color='lightgrey')\n",
    "\n",
    "plt.scatter(3,19, color = 'purple', zorder=3)\n",
    "plt.scatter(5,41, color = 'red', zorder=3)\n",
    "_ = axes.plot(x,y)"
   ]
  },
  {
   "cell_type": "code",
   "execution_count": null,
   "metadata": {
    "id": "H1dXBM3llQmw"
   },
   "outputs": [],
   "source": [
    "m = (41-19)/(5-3)\n",
    "m"
   ]
  },
  {
   "cell_type": "code",
   "execution_count": null,
   "metadata": {
    "id": "_oe5CSrllQjq"
   },
   "outputs": [],
   "source": [
    "c = 41 - 11*5\n",
    "c"
   ]
  },
  {
   "cell_type": "code",
   "execution_count": null,
   "metadata": {
    "id": "Gj2c-_P5lQhA"
   },
   "outputs": [],
   "source": [
    "y1 = m*x + c"
   ]
  },
  {
   "cell_type": "code",
   "execution_count": null,
   "metadata": {
    "id": "CCYreSpJDJJY"
   },
   "outputs": [],
   "source": [
    "figure, axes = plt.subplots(dpi=100)\n",
    "plt.axvline(x=0, color='lightgrey')\n",
    "plt.axhline(y=0, color='lightgrey')\n",
    "\n",
    "axes.set_ylim(-10,100)\n",
    "\n",
    "plt.scatter(3,19, color = 'purple', zorder=3)\n",
    "plt.scatter(5,41, color = 'red', zorder=3)\n",
    "plt.plot(x,y1, color='orange')\n",
    "_ = axes.plot(x,y)"
   ]
  },
  {
   "cell_type": "code",
   "execution_count": null,
   "metadata": {
    "id": "rYZZ-i2bqe49"
   },
   "outputs": [],
   "source": [
    "func(3.1)"
   ]
  },
  {
   "cell_type": "code",
   "execution_count": null,
   "metadata": {
    "id": "H2-gq6_6s9-b"
   },
   "outputs": [],
   "source": [
    "figure, axes = plt.subplots(dpi=100)\n",
    "plt.axvline(x=0, color='lightgrey')\n",
    "plt.axhline(y=0, color='lightgrey')\n",
    "\n",
    "plt.scatter(3,19, color = 'purple', zorder=3)\n",
    "plt.scatter(3.01,19.91, color = 'red', zorder=3)\n",
    "_ = axes.plot(x,y)"
   ]
  },
  {
   "cell_type": "code",
   "execution_count": null,
   "metadata": {
    "id": "XpUbbRMjtEvr"
   },
   "outputs": [],
   "source": [
    "figure, axes = plt.subplots(dpi=100)\n",
    "plt.axvline(x=0, color='lightgrey')\n",
    "plt.axhline(y=0, color='lightgrey')\n",
    "\n",
    "axes.set_xlim(2.5,3.5)\n",
    "axes.set_ylim(18.5,20.5)\n",
    "\n",
    "plt.scatter(3,19, color = 'purple', zorder=3)\n",
    "plt.scatter(3.1,19.91, color = 'red', zorder=3)\n",
    "_ = axes.plot(x,y)"
   ]
  },
  {
   "cell_type": "code",
   "execution_count": null,
   "metadata": {
    "id": "p6ovKr2MtWbT"
   },
   "outputs": [],
   "source": [
    "m = (19.91-19)/(3.1-3)\n",
    "m"
   ]
  },
  {
   "cell_type": "code",
   "execution_count": null,
   "metadata": {
    "id": "D7eoSCl8uJZz"
   },
   "outputs": [],
   "source": [
    "c = 19-m*3\n",
    "c"
   ]
  },
  {
   "cell_type": "code",
   "execution_count": null,
   "metadata": {
    "id": "JQvYGql2uSrm"
   },
   "outputs": [],
   "source": [
    "y2 = m*x + c"
   ]
  },
  {
   "cell_type": "code",
   "execution_count": null,
   "metadata": {
    "id": "ddS5ZrBHxKWI"
   },
   "outputs": [],
   "source": [
    "figure, axes = plt.subplots(dpi=100)\n",
    "plt.axvline(x=0, color='lightgrey')\n",
    "plt.axhline(y=0, color='lightgrey')\n",
    "\n",
    "axes.set_ylim(-10,100)\n",
    "\n",
    "plt.scatter(3,19, color = 'purple', zorder=3)\n",
    "plt.scatter(3.1,19.91, color = 'red', zorder=3)\n",
    "plt.plot(x,y2, color='orange')\n",
    "_ = axes.plot(x,y)"
   ]
  },
  {
   "cell_type": "code",
   "execution_count": null,
   "metadata": {
    "id": "9hN8ss8WxKTQ"
   },
   "outputs": [],
   "source": [
    "figure, axes = plt.subplots(dpi=100)\n",
    "plt.axvline(x=0, color='lightgrey')\n",
    "plt.axhline(y=0, color='lightgrey')\n",
    "\n",
    "axes.set_xlim(0,5)\n",
    "axes.set_ylim(15,25)\n",
    "\n",
    "plt.scatter(3,19, color = 'purple', zorder=3)\n",
    "plt.scatter(3.1,19.91, color = 'red', zorder=3)\n",
    "plt.plot(x,y2, color='orange')\n",
    "_ = axes.plot(x,y)"
   ]
  },
  {
   "cell_type": "code",
   "execution_count": null,
   "metadata": {
    "id": "28jKiPB_xKQf"
   },
   "outputs": [],
   "source": [
    "def diff(func, x, delta_x):\n",
    "  return (func(x + delta_x) - func(x))/delta_x"
   ]
  },
  {
   "cell_type": "code",
   "execution_count": null,
   "metadata": {
    "id": "y1FXwflNxKLE"
   },
   "outputs": [],
   "source": [
    "delta = [1,.1,.01,.001,.0001]"
   ]
  },
  {
   "cell_type": "code",
   "execution_count": null,
   "metadata": {
    "id": "XdYIjeSVxKH9"
   },
   "outputs": [],
   "source": [
    "for i in delta:\n",
    "  print(diff(func, 3, i))"
   ]
  },
  {
   "cell_type": "markdown",
   "metadata": {
    "id": "A_LHpCjj0cQn"
   },
   "source": [
    "## differentiation using sympy library"
   ]
  },
  {
   "cell_type": "code",
   "execution_count": 1,
   "metadata": {},
   "outputs": [
    {
     "name": "stdout",
     "output_type": "stream",
     "text": [
      "Requirement already satisfied: sympy in /opt/anaconda3/lib/python3.7/site-packages (1.10.1)\n",
      "Requirement already satisfied: mpmath>=0.19 in /opt/anaconda3/lib/python3.7/site-packages (from sympy) (1.2.1)\n",
      "Note: you may need to restart the kernel to use updated packages.\n"
     ]
    }
   ],
   "source": [
    "pip install sympy"
   ]
  },
  {
   "cell_type": "code",
   "execution_count": 1,
   "metadata": {
    "id": "yH1agoiZMwGj"
   },
   "outputs": [],
   "source": [
    "from sympy import *\n",
    "import numpy as np"
   ]
  },
  {
   "cell_type": "code",
   "execution_count": null,
   "metadata": {
    "id": "1p9xqexYMwDk"
   },
   "outputs": [],
   "source": [
    "x = symbols('x')\n",
    "y = 2\n",
    "diff(y)"
   ]
  },
  {
   "cell_type": "code",
   "execution_count": null,
   "metadata": {
    "id": "PILfn86fMwAz"
   },
   "outputs": [],
   "source": [
    "x = symbols('x')\n",
    "y = 2*x\n",
    "diff(y)"
   ]
  },
  {
   "cell_type": "code",
   "execution_count": null,
   "metadata": {
    "id": "OsVCIaNIkJ9U"
   },
   "outputs": [],
   "source": [
    "x = symbols('x')\n",
    "y = 25*x\n",
    "diff(y)"
   ]
  },
  {
   "cell_type": "code",
   "execution_count": null,
   "metadata": {
    "id": "4stLXLvGMv9i"
   },
   "outputs": [],
   "source": [
    "x = symbols('x')\n",
    "y = x\n",
    "diff(y)"
   ]
  },
  {
   "cell_type": "code",
   "execution_count": null,
   "metadata": {
    "id": "KC28x-nTkPAc"
   },
   "outputs": [],
   "source": [
    "diff(x, x)"
   ]
  },
  {
   "cell_type": "code",
   "execution_count": null,
   "metadata": {
    "id": "EvZggU7FMv6r"
   },
   "outputs": [],
   "source": [
    "x = symbols('x')\n",
    "y = x**2\n",
    "diff(y)"
   ]
  },
  {
   "cell_type": "code",
   "execution_count": null,
   "metadata": {
    "id": "j80I1DuWkW1U"
   },
   "outputs": [],
   "source": [
    "diff(x**24, x)"
   ]
  },
  {
   "cell_type": "code",
   "execution_count": null,
   "metadata": {
    "id": "bejAnZa1Mv3r"
   },
   "outputs": [],
   "source": [
    "x = symbols('x')\n",
    "diff(sin(x), x)"
   ]
  },
  {
   "cell_type": "code",
   "execution_count": null,
   "metadata": {
    "id": "xgjw9JStNLHW"
   },
   "outputs": [],
   "source": [
    "diff(cos(x), x)"
   ]
  },
  {
   "cell_type": "code",
   "execution_count": null,
   "metadata": {
    "id": "iaNLBbvJkirl"
   },
   "outputs": [],
   "source": [
    "diff(tan(x),x)"
   ]
  },
  {
   "cell_type": "code",
   "execution_count": null,
   "metadata": {
    "id": "VSQVBFlfNLEm"
   },
   "outputs": [],
   "source": [
    "diff(asin(x),x)"
   ]
  },
  {
   "cell_type": "code",
   "execution_count": null,
   "metadata": {
    "id": "XvpqudR1NLBO"
   },
   "outputs": [],
   "source": [
    "diff(acos(x),x)"
   ]
  },
  {
   "cell_type": "code",
   "execution_count": null,
   "metadata": {
    "id": "YesMzQyhkrvV"
   },
   "outputs": [],
   "source": [
    "diff(atan(x), x)"
   ]
  },
  {
   "cell_type": "markdown",
   "metadata": {
    "id": "CA_mWhe-q_c1"
   },
   "source": [
    "## Sum rule"
   ]
  },
  {
   "cell_type": "markdown",
   "metadata": {
    "id": "AVqPB4tNfAlw"
   },
   "source": [
    "$$ 2x^3 + x^2 $$"
   ]
  },
  {
   "cell_type": "code",
   "execution_count": null,
   "metadata": {
    "id": "2x85ny5exKAV"
   },
   "outputs": [],
   "source": [
    "x = symbols('x')\n",
    "f = 2*x**3 + x**2\n",
    "diff(f)"
   ]
  },
  {
   "cell_type": "code",
   "execution_count": null,
   "metadata": {
    "id": "xU-RBo3RoEgF"
   },
   "outputs": [],
   "source": [
    "diff(sin(x)+ cos(x), x)"
   ]
  },
  {
   "cell_type": "code",
   "execution_count": null,
   "metadata": {
    "id": "GIqc05tNoV2s"
   },
   "outputs": [],
   "source": [
    "diff(sin(x)-cos(x), x)"
   ]
  },
  {
   "cell_type": "markdown",
   "metadata": {
    "id": "PLRog8ixrDvN"
   },
   "source": [
    "## Product Rule"
   ]
  },
  {
   "cell_type": "markdown",
   "metadata": {
    "id": "ynuNkrxceySx"
   },
   "source": [
    "$$ (x^2 + 2x)(x-2) $$"
   ]
  },
  {
   "cell_type": "code",
   "execution_count": null,
   "metadata": {
    "id": "HRMBOxuI04Qd"
   },
   "outputs": [],
   "source": [
    "x = symbols('x')\n",
    "f = (x**2 + 2*x)*(x-2)\n",
    "diff(f)"
   ]
  },
  {
   "cell_type": "markdown",
   "metadata": {
    "id": "OMw68TwKrG6M"
   },
   "source": [
    "## Quotient Rule"
   ]
  },
  {
   "cell_type": "markdown",
   "metadata": {
    "id": "r7pGAySdffcW"
   },
   "source": [
    "$$ \\frac{(x^2 + 2x)}{(x-2)} $$"
   ]
  },
  {
   "cell_type": "code",
   "execution_count": null,
   "metadata": {
    "id": "w-L0zcLIfPWQ"
   },
   "outputs": [],
   "source": [
    "x = symbols('x')\n",
    "f = (x**2 + 2*x)/(x-2)\n",
    "diff(f)"
   ]
  },
  {
   "cell_type": "markdown",
   "metadata": {
    "id": "GCma6biwrKkl"
   },
   "source": [
    "## Chain Rule"
   ]
  },
  {
   "cell_type": "code",
   "execution_count": null,
   "metadata": {
    "id": "QIq4DZZ3rPNM"
   },
   "outputs": [],
   "source": [
    "diff((sin(ln(x))**2), x)"
   ]
  },
  {
   "cell_type": "code",
   "execution_count": null,
   "metadata": {
    "id": "7BC605hErPKW"
   },
   "outputs": [],
   "source": [
    "diff((2*x**2 + 5*x)**2, x)"
   ]
  },
  {
   "cell_type": "code",
   "execution_count": null,
   "metadata": {
    "id": "N8tmEcM2rPHd"
   },
   "outputs": [],
   "source": [
    "diff(2*x**2 + 5*x, x)"
   ]
  },
  {
   "cell_type": "code",
   "execution_count": null,
   "metadata": {
    "id": "v3lKNHq-uDqc"
   },
   "outputs": [],
   "source": [
    "diff((sin(ln(x))**2)*(2*x**2 + 5*x)**2, x)"
   ]
  },
  {
   "cell_type": "markdown",
   "metadata": {
    "id": "yRcvLaui8oa9"
   },
   "source": [
    "# Application of Differentiation"
   ]
  },
  {
   "cell_type": "code",
   "execution_count": null,
   "metadata": {
    "id": "F5B7TMnX8423"
   },
   "outputs": [],
   "source": [
    "import numpy as np\n",
    "import matplotlib.pyplot as plt\n",
    "import sympy as sy"
   ]
  },
  {
   "cell_type": "code",
   "execution_count": null,
   "metadata": {
    "id": "7HlSVUmV840O"
   },
   "outputs": [],
   "source": [
    "a = [i**2 for i in np.linspace(-3,3,10)]"
   ]
  },
  {
   "cell_type": "code",
   "execution_count": null,
   "metadata": {
    "id": "yOKk2roA84xx"
   },
   "outputs": [],
   "source": [
    "plt.plot(a)"
   ]
  },
  {
   "cell_type": "code",
   "execution_count": null,
   "metadata": {
    "id": "UAbDYiKk84u2"
   },
   "outputs": [],
   "source": [
    "d = np.diff(a)"
   ]
  },
  {
   "cell_type": "code",
   "execution_count": null,
   "metadata": {
    "id": "t4gF9QQM84sW"
   },
   "outputs": [],
   "source": [
    "plt.plot(d)\n",
    "plt.axhline(y=0, color = 'lightgrey')\n",
    "plt.axvline(x=0, color = 'lightgrey')"
   ]
  },
  {
   "cell_type": "code",
   "execution_count": null,
   "metadata": {
    "id": "o2Xcd4w384oe"
   },
   "outputs": [],
   "source": [
    "b = [np.sin(i) for i in np.linspace(-3,3,10)]"
   ]
  },
  {
   "cell_type": "code",
   "execution_count": null,
   "metadata": {
    "id": "3jg8Lax4BHXV"
   },
   "outputs": [],
   "source": [
    "plt.plot(b)"
   ]
  },
  {
   "cell_type": "code",
   "execution_count": null,
   "metadata": {
    "id": "9eL8yL5eBHTs"
   },
   "outputs": [],
   "source": [
    "d = np.diff(b)"
   ]
  },
  {
   "cell_type": "code",
   "execution_count": null,
   "metadata": {
    "id": "OFaU3iO1BHRF"
   },
   "outputs": [],
   "source": [
    "plt.plot(d)\n",
    "plt.axhline(y=0, color='lightgrey')"
   ]
  },
  {
   "cell_type": "markdown",
   "metadata": {
    "id": "1YDyUX3R1A7Q"
   },
   "source": [
    "# Autodifferentiation"
   ]
  },
  {
   "cell_type": "markdown",
   "metadata": {
    "id": "wgdpWKE21Hao"
   },
   "source": [
    "## Auto differentiation using pytorch"
   ]
  },
  {
   "cell_type": "code",
   "execution_count": 1,
   "metadata": {
    "executionInfo": {
     "elapsed": 1327,
     "status": "ok",
     "timestamp": 1643635029774,
     "user": {
      "displayName": "Bharath ineuron",
      "photoUrl": "https://lh3.googleusercontent.com/a/default-user=s64",
      "userId": "01889132083399369712"
     },
     "user_tz": -330
    },
    "id": "nvqpQ5mI1AkQ"
   },
   "outputs": [],
   "source": [
    "import torch"
   ]
  },
  {
   "cell_type": "code",
   "execution_count": 2,
   "metadata": {
    "colab": {
     "base_uri": "https://localhost:8080/"
    },
    "executionInfo": {
     "elapsed": 581,
     "status": "ok",
     "timestamp": 1643635034985,
     "user": {
      "displayName": "Bharath ineuron",
      "photoUrl": "https://lh3.googleusercontent.com/a/default-user=s64",
      "userId": "01889132083399369712"
     },
     "user_tz": -330
    },
    "id": "mcMaMkDf1Og_",
    "outputId": "72eba1be-ad66-40fa-d37a-7d35197e9b5f"
   },
   "outputs": [
    {
     "data": {
      "text/plain": [
       "tensor(5.)"
      ]
     },
     "execution_count": 2,
     "metadata": {},
     "output_type": "execute_result"
    }
   ],
   "source": [
    "x = torch.tensor(5.)\n",
    "x"
   ]
  },
  {
   "cell_type": "code",
   "execution_count": 3,
   "metadata": {
    "colab": {
     "base_uri": "https://localhost:8080/"
    },
    "executionInfo": {
     "elapsed": 348,
     "status": "ok",
     "timestamp": 1643635048919,
     "user": {
      "displayName": "Bharath ineuron",
      "photoUrl": "https://lh3.googleusercontent.com/a/default-user=s64",
      "userId": "01889132083399369712"
     },
     "user_tz": -330
    },
    "id": "MsvUjNci1TyO",
    "outputId": "151deb58-7f78-44cd-bc96-17542f37e329"
   },
   "outputs": [
    {
     "data": {
      "text/plain": [
       "tensor(5., requires_grad=True)"
      ]
     },
     "execution_count": 3,
     "metadata": {},
     "output_type": "execute_result"
    }
   ],
   "source": [
    "x.requires_grad_()"
   ]
  },
  {
   "cell_type": "code",
   "execution_count": 4,
   "metadata": {
    "executionInfo": {
     "elapsed": 352,
     "status": "ok",
     "timestamp": 1643635069504,
     "user": {
      "displayName": "Bharath ineuron",
      "photoUrl": "https://lh3.googleusercontent.com/a/default-user=s64",
      "userId": "01889132083399369712"
     },
     "user_tz": -330
    },
    "id": "5WiSzQ971af-"
   },
   "outputs": [],
   "source": [
    "y = x**2 + 2*x"
   ]
  },
  {
   "cell_type": "code",
   "execution_count": 5,
   "metadata": {
    "executionInfo": {
     "elapsed": 351,
     "status": "ok",
     "timestamp": 1643635079948,
     "user": {
      "displayName": "Bharath ineuron",
      "photoUrl": "https://lh3.googleusercontent.com/a/default-user=s64",
      "userId": "01889132083399369712"
     },
     "user_tz": -330
    },
    "id": "8kVIXH921eVu"
   },
   "outputs": [],
   "source": [
    "y.backward()"
   ]
  },
  {
   "cell_type": "code",
   "execution_count": 6,
   "metadata": {
    "colab": {
     "base_uri": "https://localhost:8080/"
    },
    "executionInfo": {
     "elapsed": 323,
     "status": "ok",
     "timestamp": 1643635102813,
     "user": {
      "displayName": "Bharath ineuron",
      "photoUrl": "https://lh3.googleusercontent.com/a/default-user=s64",
      "userId": "01889132083399369712"
     },
     "user_tz": -330
    },
    "id": "ma87O1f41hJO",
    "outputId": "344564e1-6e9f-4cce-f078-7d2226d9d6c5"
   },
   "outputs": [
    {
     "data": {
      "text/plain": [
       "tensor(12.)"
      ]
     },
     "execution_count": 6,
     "metadata": {},
     "output_type": "execute_result"
    }
   ],
   "source": [
    "x.grad"
   ]
  },
  {
   "cell_type": "code",
   "execution_count": 7,
   "metadata": {
    "colab": {
     "base_uri": "https://localhost:8080/"
    },
    "executionInfo": {
     "elapsed": 327,
     "status": "ok",
     "timestamp": 1643635251238,
     "user": {
      "displayName": "Bharath ineuron",
      "photoUrl": "https://lh3.googleusercontent.com/a/default-user=s64",
      "userId": "01889132083399369712"
     },
     "user_tz": -330
    },
    "id": "euVHuMFKQwzK",
    "outputId": "710cbef9-e92c-4b71-cb07-bed67c66bcdf"
   },
   "outputs": [
    {
     "data": {
      "text/plain": [
       "tensor([2., 3., 5.], requires_grad=True)"
      ]
     },
     "execution_count": 7,
     "metadata": {},
     "output_type": "execute_result"
    }
   ],
   "source": [
    "x = torch.tensor([2,3,5.]).requires_grad_()\n",
    "x"
   ]
  },
  {
   "cell_type": "code",
   "execution_count": 8,
   "metadata": {
    "executionInfo": {
     "elapsed": 327,
     "status": "ok",
     "timestamp": 1643635261170,
     "user": {
      "displayName": "Bharath ineuron",
      "photoUrl": "https://lh3.googleusercontent.com/a/default-user=s64",
      "userId": "01889132083399369712"
     },
     "user_tz": -330
    },
    "id": "h_cMjoJIQwqu"
   },
   "outputs": [],
   "source": [
    "y = x**2 + 2*x"
   ]
  },
  {
   "cell_type": "code",
   "execution_count": 10,
   "metadata": {
    "executionInfo": {
     "elapsed": 340,
     "status": "ok",
     "timestamp": 1643635329300,
     "user": {
      "displayName": "Bharath ineuron",
      "photoUrl": "https://lh3.googleusercontent.com/a/default-user=s64",
      "userId": "01889132083399369712"
     },
     "user_tz": -330
    },
    "id": "VoqXhG1hQwn1"
   },
   "outputs": [],
   "source": [
    "y.sum().backward()"
   ]
  },
  {
   "cell_type": "code",
   "execution_count": 11,
   "metadata": {
    "colab": {
     "base_uri": "https://localhost:8080/"
    },
    "executionInfo": {
     "elapsed": 341,
     "status": "ok",
     "timestamp": 1643635333285,
     "user": {
      "displayName": "Bharath ineuron",
      "photoUrl": "https://lh3.googleusercontent.com/a/default-user=s64",
      "userId": "01889132083399369712"
     },
     "user_tz": -330
    },
    "id": "pmA2XS-PQwlI",
    "outputId": "ffd187d5-5268-49d4-93be-aa42e2d48f1a"
   },
   "outputs": [
    {
     "data": {
      "text/plain": [
       "tensor([ 6.,  8., 12.])"
      ]
     },
     "execution_count": 11,
     "metadata": {},
     "output_type": "execute_result"
    }
   ],
   "source": [
    "x.grad"
   ]
  },
  {
   "cell_type": "code",
   "execution_count": null,
   "metadata": {
    "id": "xgCfoScx1iqt"
   },
   "outputs": [],
   "source": []
  },
  {
   "cell_type": "markdown",
   "metadata": {
    "id": "OjD4-rqo5sg1"
   },
   "source": [
    "## Auto Differentiation using TensorFlow"
   ]
  },
  {
   "cell_type": "code",
   "execution_count": 12,
   "metadata": {
    "executionInfo": {
     "elapsed": 6361,
     "status": "ok",
     "timestamp": 1643635374362,
     "user": {
      "displayName": "Bharath ineuron",
      "photoUrl": "https://lh3.googleusercontent.com/a/default-user=s64",
      "userId": "01889132083399369712"
     },
     "user_tz": -330
    },
    "id": "FmEW38yP52rd"
   },
   "outputs": [],
   "source": [
    "import tensorflow as tf"
   ]
  },
  {
   "cell_type": "code",
   "execution_count": 13,
   "metadata": {
    "colab": {
     "base_uri": "https://localhost:8080/"
    },
    "executionInfo": {
     "elapsed": 9,
     "status": "ok",
     "timestamp": 1643635374363,
     "user": {
      "displayName": "Bharath ineuron",
      "photoUrl": "https://lh3.googleusercontent.com/a/default-user=s64",
      "userId": "01889132083399369712"
     },
     "user_tz": -330
    },
    "id": "42pQ1Hvc52oP",
    "outputId": "5b80d424-4eef-4054-f444-789313dc8e08"
   },
   "outputs": [
    {
     "data": {
      "text/plain": [
       "<tf.Variable 'Variable:0' shape=() dtype=float32, numpy=3.0>"
      ]
     },
     "execution_count": 13,
     "metadata": {},
     "output_type": "execute_result"
    }
   ],
   "source": [
    "x = tf.Variable(3.)\n",
    "x"
   ]
  },
  {
   "cell_type": "code",
   "execution_count": 14,
   "metadata": {
    "executionInfo": {
     "elapsed": 359,
     "status": "ok",
     "timestamp": 1643635404518,
     "user": {
      "displayName": "Bharath ineuron",
      "photoUrl": "https://lh3.googleusercontent.com/a/default-user=s64",
      "userId": "01889132083399369712"
     },
     "user_tz": -330
    },
    "id": "GSbkLICd52ls"
   },
   "outputs": [],
   "source": [
    "with tf.GradientTape() as t:\n",
    "  t.watch(x)\n",
    "  y = 2*x**3 + x"
   ]
  },
  {
   "cell_type": "code",
   "execution_count": 15,
   "metadata": {
    "colab": {
     "base_uri": "https://localhost:8080/"
    },
    "executionInfo": {
     "elapsed": 333,
     "status": "ok",
     "timestamp": 1643635450935,
     "user": {
      "displayName": "Bharath ineuron",
      "photoUrl": "https://lh3.googleusercontent.com/a/default-user=s64",
      "userId": "01889132083399369712"
     },
     "user_tz": -330
    },
    "id": "CpqmlD-x52i1",
    "outputId": "dce501bc-1d22-448b-bf2d-38476c503934"
   },
   "outputs": [
    {
     "data": {
      "text/plain": [
       "<tf.Tensor: shape=(), dtype=float32, numpy=55.0>"
      ]
     },
     "execution_count": 15,
     "metadata": {},
     "output_type": "execute_result"
    }
   ],
   "source": [
    "t.gradient(y, x)"
   ]
  }
 ],
 "metadata": {
  "colab": {
   "name": "Limits.ipynb",
   "provenance": []
  },
  "kernelspec": {
   "display_name": "Python 3 (ipykernel)",
   "language": "python",
   "name": "python3"
  },
  "language_info": {
   "codemirror_mode": {
    "name": "ipython",
    "version": 3
   },
   "file_extension": ".py",
   "mimetype": "text/x-python",
   "name": "python",
   "nbconvert_exporter": "python",
   "pygments_lexer": "ipython3",
   "version": "3.7.7"
  }
 },
 "nbformat": 4,
 "nbformat_minor": 1
}
