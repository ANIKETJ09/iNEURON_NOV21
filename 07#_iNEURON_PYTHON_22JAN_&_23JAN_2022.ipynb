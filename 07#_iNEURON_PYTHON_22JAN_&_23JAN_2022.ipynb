{
 "cells": [
  {
   "cell_type": "markdown",
   "id": "f71516a3",
   "metadata": {},
   "source": [
    "###### MODULES & PACKAGES"
   ]
  },
  {
   "cell_type": "markdown",
   "id": "354f2bc0",
   "metadata": {},
   "source": [
    "## MODULES"
   ]
  },
  {
   "cell_type": "code",
   "execution_count": null,
   "id": "84310578",
   "metadata": {},
   "outputs": [],
   "source": [
    "# Paralley open another file also i.e. \" 7.1#_iNEURON_PYTHON_22JAN_&_23JAN_2021 \""
   ]
  },
  {
   "cell_type": "code",
   "execution_count": 1,
   "id": "4256be1c",
   "metadata": {},
   "outputs": [],
   "source": [
    "import os"
   ]
  },
  {
   "cell_type": "code",
   "execution_count": null,
   "id": "141b08fe",
   "metadata": {},
   "outputs": [],
   "source": [
    "# If i created one function in one pynb file and trying to opne or to run that function in another pynb file\n",
    "# so will it be run or will give us error?\n",
    "\n",
    "# ANS:-It will give us an error.\n",
    "\n",
    "# Now Insted of creating function every time for every new pynb file. We can create one .pynb file and store\n",
    "# all functions in it which could help in future.Then in our project file we can import any of the function \n",
    "# from that file to our current project by calling  import _____    <--- file name in which we stored the \n",
    "# function."
   ]
  },
  {
   "cell_type": "code",
   "execution_count": 1,
   "id": "446f3614",
   "metadata": {},
   "outputs": [
    {
     "data": {
      "text/plain": [
       "<_io.TextIOWrapper name='test1.py' mode='w' encoding='UTF-8'>"
      ]
     },
     "execution_count": 1,
     "metadata": {},
     "output_type": "execute_result"
    }
   ],
   "source": [
    "open(\"test1.py\",\"w\")\n",
    "# Here we created one file with .py Extension. and i opened that file and wrote one function.\n",
    "\n",
    "# Now I can import all funtion from this file to this present 7#_iNEURON_PYTHON_22JAN_&_23JAN_2021\n",
    "# .pynb file or any other one also.\n",
    "\n",
    "# see the file 7.1#_iNEURON_PYTHON_22JAN_&_23JAN_2021 here in this file also i imported the function \n",
    "# Successfully"
   ]
  },
  {
   "cell_type": "code",
   "execution_count": 1,
   "id": "e1cc15a1",
   "metadata": {},
   "outputs": [],
   "source": [
    "import test1"
   ]
  },
  {
   "cell_type": "code",
   "execution_count": 2,
   "id": "c9a13809",
   "metadata": {},
   "outputs": [
    {
     "data": {
      "text/plain": [
       "9"
      ]
     },
     "execution_count": 2,
     "metadata": {},
     "output_type": "execute_result"
    }
   ],
   "source": [
    "test1.test(4,5)"
   ]
  },
  {
   "cell_type": "code",
   "execution_count": 3,
   "id": "6715cc60",
   "metadata": {},
   "outputs": [
    {
     "data": {
      "text/plain": [
       "20"
      ]
     },
     "execution_count": 3,
     "metadata": {},
     "output_type": "execute_result"
    }
   ],
   "source": [
    "test1.test1(4,5)"
   ]
  },
  {
   "cell_type": "code",
   "execution_count": 4,
   "id": "81078f86",
   "metadata": {},
   "outputs": [
    {
     "data": {
      "text/plain": [
       "-1"
      ]
     },
     "execution_count": 4,
     "metadata": {},
     "output_type": "execute_result"
    }
   ],
   "source": [
    "test1.test2(4,5)"
   ]
  },
  {
   "cell_type": "code",
   "execution_count": 5,
   "id": "238ba240",
   "metadata": {},
   "outputs": [
    {
     "data": {
      "text/plain": [
       "0.8"
      ]
     },
     "execution_count": 5,
     "metadata": {},
     "output_type": "execute_result"
    }
   ],
   "source": [
    "test1.test3(4,5)"
   ]
  },
  {
   "cell_type": "code",
   "execution_count": null,
   "id": "d3ed0c89",
   "metadata": {},
   "outputs": [],
   "source": [
    "# if i don't want to import every function from the file. and i want to import one specific function then\n",
    "# from test1 import test"
   ]
  },
  {
   "cell_type": "code",
   "execution_count": 4,
   "id": "42758116",
   "metadata": {},
   "outputs": [],
   "source": [
    "from test1 import test"
   ]
  },
  {
   "cell_type": "code",
   "execution_count": 6,
   "id": "8de04472",
   "metadata": {},
   "outputs": [
    {
     "data": {
      "text/plain": [
       "5"
      ]
     },
     "execution_count": 6,
     "metadata": {},
     "output_type": "execute_result"
    }
   ],
   "source": [
    "test(2,3)"
   ]
  },
  {
   "cell_type": "code",
   "execution_count": null,
   "id": "c2f6eec7",
   "metadata": {},
   "outputs": [],
   "source": [
    "# if i want to import every thing then  use * \n",
    "# from test1 import *"
   ]
  },
  {
   "cell_type": "code",
   "execution_count": 7,
   "id": "555402bf",
   "metadata": {},
   "outputs": [],
   "source": [
    "from test1 import *"
   ]
  },
  {
   "cell_type": "code",
   "execution_count": 8,
   "id": "d3f7fcbb",
   "metadata": {},
   "outputs": [
    {
     "data": {
      "text/plain": [
       "7"
      ]
     },
     "execution_count": 8,
     "metadata": {},
     "output_type": "execute_result"
    }
   ],
   "source": [
    "test(2,5)"
   ]
  },
  {
   "cell_type": "code",
   "execution_count": 1,
   "id": "0bd093f5",
   "metadata": {},
   "outputs": [
    {
     "data": {
      "text/plain": [
       "<_io.TextIOWrapper name='my_module.py' mode='w' encoding='UTF-8'>"
      ]
     },
     "execution_count": 1,
     "metadata": {},
     "output_type": "execute_result"
    }
   ],
   "source": [
    "open(\"my_module.py\",\"w\")"
   ]
  },
  {
   "cell_type": "code",
   "execution_count": 2,
   "id": "67e91474",
   "metadata": {},
   "outputs": [
    {
     "name": "stdout",
     "output_type": "stream",
     "text": [
      "1#_iNEURON_PYTHON_4DEC_&_5DEC_2021.ipynb\r\n",
      "2#_iNEURON_PYTHON_18DEC_&_19DEC_2021.ipynb\r\n",
      "3#_iNEURON_PYTHON_20DEC_&_21DEC_2021.ipynb\r\n",
      "4#_iNEURON_PYTHON_23DEC_2021.ipynb\r\n",
      "5#_iNEURON_PYTHON_8JAN_&_9JAN_2021.ipynb\r\n",
      "6#_iNEURON_PYTHON_15JAN_&_16JAN_2021.ipynb\r\n",
      "7#_iNEURON_PYTHON_22JAN_&_23JAN_2021.ipynb\r\n",
      "7.1#_iNEURON_PYTHON_22JAN_&_23JAN_2021.ipynb\r\n",
      "\u001b[34mApplications\u001b[m\u001b[m/\r\n",
      "DATA SCIENCE 1 (NUMPY , PANDAS).ipynb\r\n",
      "DATA SCIENCE 2 (MATPLOTLIB, SEABORN, PANDAS BUILT IN DATA VISUALIZATION, PLOTLY, GEOGRAPHICAL-PLOTING).ipynb\r\n",
      "\u001b[34mDesktop\u001b[m\u001b[m/\r\n",
      "\u001b[34mDocuments\u001b[m\u001b[m/\r\n",
      "\u001b[34mDownloads\u001b[m\u001b[m/\r\n",
      "\u001b[34mLibrary\u001b[m\u001b[m/\r\n",
      "\u001b[34mMovies\u001b[m\u001b[m/\r\n",
      "\u001b[34mMusic\u001b[m\u001b[m/\r\n",
      "PDF & CSV WITH PYTHON .ipynb\r\n",
      "PYTHON 2021.ipynb\r\n",
      "\u001b[34mPictures\u001b[m\u001b[m/\r\n",
      "\u001b[34mPublic\u001b[m\u001b[m/\r\n",
      "Working_Business_Proposal.pdf\r\n",
      "\u001b[34m__pycache__\u001b[m\u001b[m/\r\n",
      "example.csv\r\n",
      "google.txt\r\n",
      "my_module.py\r\n",
      "\u001b[34mseaborn-data\u001b[m\u001b[m/\r\n",
      "test.log\r\n",
      "test.txt\r\n",
      "test1.log\r\n",
      "test1.py\r\n",
      "test1.txt\r\n",
      "test45.txt\r\n",
      "testfile\r\n"
     ]
    }
   ],
   "source": [
    "ls"
   ]
  },
  {
   "cell_type": "code",
   "execution_count": 3,
   "id": "cc1247e4",
   "metadata": {},
   "outputs": [],
   "source": [
    "import my_module"
   ]
  },
  {
   "cell_type": "code",
   "execution_count": 4,
   "id": "6aef08c3",
   "metadata": {},
   "outputs": [
    {
     "data": {
      "text/plain": [
       "['data Science', 'blockchain', 'drone', 'robotics', 'cloud']"
      ]
     },
     "execution_count": 4,
     "metadata": {},
     "output_type": "execute_result"
    }
   ],
   "source": [
    "my_module.get_course()"
   ]
  },
  {
   "cell_type": "code",
   "execution_count": 5,
   "id": "fa5885cf",
   "metadata": {},
   "outputs": [
    {
     "data": {
      "text/plain": [
       "'Greeting from ineuron'"
      ]
     },
     "execution_count": 5,
     "metadata": {},
     "output_type": "execute_result"
    }
   ],
   "source": [
    "my_module.greetings()"
   ]
  },
  {
   "cell_type": "markdown",
   "id": "89625f3d",
   "metadata": {},
   "source": [
    "## PACKAGES"
   ]
  },
  {
   "cell_type": "code",
   "execution_count": null,
   "id": "75f0f1c4",
   "metadata": {},
   "outputs": [],
   "source": [
    "# See video from 1hr.26min to 1hr.41min along with this open \"pycharm\" and see what we have done."
   ]
  },
  {
   "cell_type": "code",
   "execution_count": null,
   "id": "00a5dafb",
   "metadata": {},
   "outputs": [],
   "source": [
    "# Collection of Modules are called as package."
   ]
  },
  {
   "cell_type": "code",
   "execution_count": 6,
   "id": "4e9f07bf",
   "metadata": {},
   "outputs": [],
   "source": [
    "# watch video from 1hr.41min to 2hr.00 min"
   ]
  },
  {
   "cell_type": "code",
   "execution_count": null,
   "id": "bbd41f38",
   "metadata": {},
   "outputs": [],
   "source": [
    "# Task.\n",
    "\n",
    "# create a kind of tool by which you will be able to browse each and every thing in your drive.\n",
    "# list down all the files find weather in current directory that weather pdf is present or not\n",
    "# if pdfis not there do nothing but if there are multiple pdf are avil. then merge it all into one pdf.\n",
    "\n",
    "# by using tkinter or kivy lib.\n",
    "\n",
    "# use all the thing given below:-\n",
    "# 1.use logging.\n",
    "# 2.use moduler coding.\n",
    "# 3.use exception handling"
   ]
  },
  {
   "cell_type": "markdown",
   "id": "df47ec16",
   "metadata": {},
   "source": [
    "## OOP"
   ]
  },
  {
   "cell_type": "code",
   "execution_count": 7,
   "id": "be6e7954",
   "metadata": {},
   "outputs": [],
   "source": [
    "# We can write code without oops concept.\n",
    "# whatever code we wrote till date that's is scripting we can go with that also.\n",
    "# oops concepts gives structurenes to the code."
   ]
  },
  {
   "cell_type": "code",
   "execution_count": 8,
   "id": "1640fbb2",
   "metadata": {},
   "outputs": [],
   "source": [
    "# cup         ---> class\n",
    "# Milton cup  ---> object\n",
    "\n",
    "# string                        ---> class\n",
    "# perticular string i.e. \"ASJ\"  ---> object"
   ]
  },
  {
   "cell_type": "code",
   "execution_count": 9,
   "id": "f55f39aa",
   "metadata": {},
   "outputs": [],
   "source": [
    "class car:\n",
    "    pass"
   ]
  },
  {
   "cell_type": "code",
   "execution_count": null,
   "id": "c225197c",
   "metadata": {},
   "outputs": [],
   "source": [
    "# Remember one thing that whate ever the function which satrs with double underscore and ends with double \n",
    "# underscore then it is callled as inbuilt function of class ------>   __init__"
   ]
  },
  {
   "cell_type": "code",
   "execution_count": 1,
   "id": "106a264d",
   "metadata": {},
   "outputs": [],
   "source": [
    "class car:\n",
    "    def __init__(self,brand_name,fueltype,body_type): # self is just a pointer which is responsible for \n",
    "                                                      # pointing to a classes.\n",
    "        \n",
    "        self.brand_name=brand_name         #          # These all three are called as instance variable or\n",
    "                                                      # object Variable.\n",
    "            \n",
    "        self.fueltype=fueltype             #          # Here in all three we can assigning the value directly\n",
    "                                                      # or we can write input()function also over there.\n",
    "        \n",
    "        self.body_type=body_type           #          \n",
    "                            \n",
    "        \n",
    "    def desc_car(self):                               # whatever the function we write inside the class write \n",
    "                                                      # 'self' at 1st instance.\n",
    "            \n",
    "        print(self.brand_name, self.fueltype, self.body_type)"
   ]
  },
  {
   "cell_type": "code",
   "execution_count": 11,
   "id": "94e3cfa5",
   "metadata": {},
   "outputs": [
    {
     "ename": "TypeError",
     "evalue": "__init__() missing 3 required positional arguments: 'brand_name', 'fueltype', and 'body_type'",
     "output_type": "error",
     "traceback": [
      "\u001b[0;31m---------------------------------------------------------------------------\u001b[0m",
      "\u001b[0;31mTypeError\u001b[0m                                 Traceback (most recent call last)",
      "\u001b[0;32m<ipython-input-11-07ef92281fde>\u001b[0m in \u001b[0;36m<module>\u001b[0;34m\u001b[0m\n\u001b[0;32m----> 1\u001b[0;31m \u001b[0minnova\u001b[0m\u001b[0;34m=\u001b[0m\u001b[0mcar\u001b[0m\u001b[0;34m(\u001b[0m\u001b[0;34m)\u001b[0m\u001b[0;34m\u001b[0m\u001b[0;34m\u001b[0m\u001b[0m\n\u001b[0m\u001b[1;32m      2\u001b[0m \u001b[0;31m# here we get the Error. here car is not the function it's just a class.\u001b[0m\u001b[0;34m\u001b[0m\u001b[0;34m\u001b[0m\u001b[0;34m\u001b[0m\u001b[0m\n\u001b[1;32m      3\u001b[0m \u001b[0;31m# but inside the class we called inbulit function i.e __init__.\u001b[0m\u001b[0;34m\u001b[0m\u001b[0;34m\u001b[0m\u001b[0;34m\u001b[0m\u001b[0m\n\u001b[1;32m      4\u001b[0m \u001b[0;31m# __init__ is called as constructer.\u001b[0m\u001b[0;34m\u001b[0m\u001b[0;34m\u001b[0m\u001b[0;34m\u001b[0m\u001b[0m\n\u001b[1;32m      5\u001b[0m \u001b[0;31m# now constructer is nothing but kind of entity or kind of method or kind of function which helps my class\u001b[0m\u001b[0;34m\u001b[0m\u001b[0;34m\u001b[0m\u001b[0;34m\u001b[0m\u001b[0m\n",
      "\u001b[0;31mTypeError\u001b[0m: __init__() missing 3 required positional arguments: 'brand_name', 'fueltype', and 'body_type'"
     ]
    }
   ],
   "source": [
    "#   |----->called as object. \n",
    "#   |\n",
    " innova=car() # ----> called as Class.\n",
    "\n",
    "# here we get the Error. here car is not the function it's just a class.\n",
    "# but inside the class we called inbulit function i.e __init__.\n",
    "# __init__ is called as constructer.\n",
    "# now constructer is nothing but kind of entity or kind of method or kind of function which helps my class \n",
    "# to take an input or which is responsible to provide data to a perticular class i.e. somthing called as \n",
    "# constructor. "
   ]
  },
  {
   "cell_type": "code",
   "execution_count": 12,
   "id": "59489a6d",
   "metadata": {},
   "outputs": [],
   "source": [
    "innova=car(\"toyota\",\"petrol\",\"SUV\")"
   ]
  },
  {
   "cell_type": "code",
   "execution_count": 13,
   "id": "7078008e",
   "metadata": {},
   "outputs": [
    {
     "data": {
      "text/plain": [
       "'toyota'"
      ]
     },
     "execution_count": 13,
     "metadata": {},
     "output_type": "execute_result"
    }
   ],
   "source": [
    "innova.brand_name"
   ]
  },
  {
   "cell_type": "code",
   "execution_count": 14,
   "id": "4d051570",
   "metadata": {},
   "outputs": [
    {
     "data": {
      "text/plain": [
       "'petrol'"
      ]
     },
     "execution_count": 14,
     "metadata": {},
     "output_type": "execute_result"
    }
   ],
   "source": [
    "innova.fueltype"
   ]
  },
  {
   "cell_type": "code",
   "execution_count": 15,
   "id": "2d2e5f40",
   "metadata": {},
   "outputs": [
    {
     "data": {
      "text/plain": [
       "'SUV'"
      ]
     },
     "execution_count": 15,
     "metadata": {},
     "output_type": "execute_result"
    }
   ],
   "source": [
    "innova.body_type"
   ]
  },
  {
   "cell_type": "code",
   "execution_count": 18,
   "id": "5eb191c6",
   "metadata": {},
   "outputs": [
    {
     "name": "stdout",
     "output_type": "stream",
     "text": [
      "toyota petrol SUV\n"
     ]
    }
   ],
   "source": [
    "innova.desc_car()"
   ]
  },
  {
   "cell_type": "code",
   "execution_count": 20,
   "id": "7399e51d",
   "metadata": {},
   "outputs": [],
   "source": [
    "nexon=car(\"tata\",\"petrol\",\"MINI SUV\") \n",
    "                                       # these are variable of class called as \"object\"\n",
    "fortuner=car(\"toyota\",\"desiel\",\"SUV\")\n",
    "\n",
    "# means nexon and fortuner all are types and car is class i.e. we have written on above line of code."
   ]
  },
  {
   "cell_type": "code",
   "execution_count": 21,
   "id": "c311f003",
   "metadata": {},
   "outputs": [
    {
     "name": "stdout",
     "output_type": "stream",
     "text": [
      "tata petrol MINI SUV\n"
     ]
    }
   ],
   "source": [
    "nexon.desc_car()"
   ]
  },
  {
   "cell_type": "code",
   "execution_count": 22,
   "id": "69f6d4b9",
   "metadata": {},
   "outputs": [
    {
     "name": "stdout",
     "output_type": "stream",
     "text": [
      "toyota desiel SUV\n"
     ]
    }
   ],
   "source": [
    "fortuner.desc_car()"
   ]
  },
  {
   "cell_type": "code",
   "execution_count": 1,
   "id": "5f06c69e",
   "metadata": {},
   "outputs": [],
   "source": [
    "a=  10    # Here 'a' is 'variable' ie. object of 'int' class.\n",
    "s= \"ASJ\"  # Here 's' is 'variable' ie. object of 'str'class."
   ]
  },
  {
   "cell_type": "markdown",
   "id": "40caf34f",
   "metadata": {},
   "source": [
    "## 23 JAN"
   ]
  },
  {
   "cell_type": "code",
   "execution_count": 3,
   "id": "24d88e74",
   "metadata": {},
   "outputs": [],
   "source": [
    "class car:\n",
    "    def __init__(sudh , body_type, engine , fuel_type):\n",
    "        \n",
    "        sudh.body_type = body_type     #\n",
    "        sudh.engine = engine           # All three are called as variables.\n",
    "        sudh.fuel_type= fuel_type      #\n",
    "                                       \n",
    "                                       # whatever the functions we write inside the class are called as methods. \n",
    "                                       # we can write n no of functions in class so all functions are called as \n",
    "                                       # method. \n",
    "    def test(sudh) :                    \n",
    "        print(\"this is my first method in my car class\")\n",
    "        \n",
    "# Now what is self i.e. here it is 'sudh'?\n",
    "# It is not reserve keyword we can use any thing but whenever you are trying to create any type of function\n",
    "# or whenever you are trying to define any kind of variable inside init. you are suppose to take very 1st type \n",
    "# as pointer i.e. 'self',or 'ASJ'.\n",
    "\n",
    "# so this pointer (i.e. self) by helping by class to create link in between a class variable and the value that \n",
    "# we have passed at the time of creation of class variable.\n",
    "\n",
    "\n",
    "# __init__ is called automatically when you called car class.It just provide data to class It is just mediater.\n"
   ]
  },
  {
   "cell_type": "code",
   "execution_count": 4,
   "id": "d733572d",
   "metadata": {},
   "outputs": [],
   "source": [
    "class car:\n",
    "    def __init__(ASJ,body_type,engine,fuel_type):\n",
    "        \n",
    "        ASJ.a = body_type\n",
    "        ASJ.b = engine\n",
    "        ASJ.c = fuel_type\n",
    "        \n",
    "    def test(ASJ) : \n",
    "        print(\"this is my first method in my car class\")\n",
    "\n",
    "# now see the line no.4,5,6 from above cell. and compare with line 4,5,6 with same cell.\n",
    "# now we can write any thing with poiter i.e. ASJ here. as we write ASJ.a or ASJ.b etc. like that."
   ]
  },
  {
   "cell_type": "code",
   "execution_count": 5,
   "id": "83d1ee08",
   "metadata": {},
   "outputs": [],
   "source": [
    "fortuner=car(\"toyota\",\"bs4\",\"SUV\")"
   ]
  },
  {
   "cell_type": "code",
   "execution_count": 6,
   "id": "db75ba00",
   "metadata": {},
   "outputs": [
    {
     "data": {
      "text/plain": [
       "'toyota'"
      ]
     },
     "execution_count": 6,
     "metadata": {},
     "output_type": "execute_result"
    }
   ],
   "source": [
    "fortuner.a"
   ]
  },
  {
   "cell_type": "code",
   "execution_count": 7,
   "id": "54204c6f",
   "metadata": {},
   "outputs": [
    {
     "data": {
      "text/plain": [
       "'bs4'"
      ]
     },
     "execution_count": 7,
     "metadata": {},
     "output_type": "execute_result"
    }
   ],
   "source": [
    "fortuner.b"
   ]
  },
  {
   "cell_type": "code",
   "execution_count": 8,
   "id": "e651f286",
   "metadata": {},
   "outputs": [
    {
     "name": "stdout",
     "output_type": "stream",
     "text": [
      "tihs is my first method in my car clas\n"
     ]
    }
   ],
   "source": [
    "fortuner.test()\n",
    "\n",
    "# now here in function i.e in () we don't need to be assign or write anything. because we allready define in \n",
    "# the class.so it is taking that automatically.  def test(ASJ) : \n",
    "#                                                          ^\n",
    "#                                                          |\n",
    "#                                                          |_______\n",
    "\n",
    "# Here it is working but if call following function outside the class. so it will not execute. it will show us \n",
    "# error it will ask for 1 argument.\n",
    "\n",
    "# def test(ASJ) : \n",
    "#    print(\"this is my first method in my car class\")\n",
    "\n",
    "# SEE in next cell."
   ]
  },
  {
   "cell_type": "code",
   "execution_count": 10,
   "id": "14bc5bab",
   "metadata": {},
   "outputs": [
    {
     "ename": "TypeError",
     "evalue": "test() missing 1 required positional argument: 'ASJ'",
     "output_type": "error",
     "traceback": [
      "\u001b[0;31m---------------------------------------------------------------------------\u001b[0m",
      "\u001b[0;31mTypeError\u001b[0m                                 Traceback (most recent call last)",
      "\u001b[0;32m<ipython-input-10-b1fbdd3af9ed>\u001b[0m in \u001b[0;36m<module>\u001b[0;34m\u001b[0m\n\u001b[1;32m      2\u001b[0m     \u001b[0mprint\u001b[0m\u001b[0;34m(\u001b[0m\u001b[0;34m\"this is my first method in my car class\"\u001b[0m\u001b[0;34m)\u001b[0m\u001b[0;34m\u001b[0m\u001b[0;34m\u001b[0m\u001b[0m\n\u001b[1;32m      3\u001b[0m \u001b[0;34m\u001b[0m\u001b[0m\n\u001b[0;32m----> 4\u001b[0;31m \u001b[0mtest\u001b[0m\u001b[0;34m(\u001b[0m\u001b[0;34m)\u001b[0m\u001b[0;34m\u001b[0m\u001b[0;34m\u001b[0m\u001b[0m\n\u001b[0m",
      "\u001b[0;31mTypeError\u001b[0m: test() missing 1 required positional argument: 'ASJ'"
     ]
    }
   ],
   "source": [
    "def test(ASJ):\n",
    "    print(\"this is my first method in my car class\")\n",
    "\n",
    "test()"
   ]
  },
  {
   "cell_type": "code",
   "execution_count": 11,
   "id": "1241eb92",
   "metadata": {},
   "outputs": [],
   "source": [
    "class car:\n",
    "    def test(ASJ):\n",
    "        print(\"this is my first method in my car class\")\n",
    "# It is not compulsary to pass the data to class with the help of __init__ function. still we can write the \n",
    "# class.\n",
    "# see the following code. It is working."
   ]
  },
  {
   "cell_type": "code",
   "execution_count": 12,
   "id": "b66a1276",
   "metadata": {},
   "outputs": [
    {
     "name": "stdout",
     "output_type": "stream",
     "text": [
      "this is my first method in my car class\n"
     ]
    }
   ],
   "source": [
    "x=car()\n",
    "x.test()"
   ]
  },
  {
   "cell_type": "code",
   "execution_count": 13,
   "id": "a517c733",
   "metadata": {},
   "outputs": [
    {
     "name": "stdout",
     "output_type": "stream",
     "text": [
      "<class '__main__.car'>\n"
     ]
    }
   ],
   "source": [
    "print(type(x))\n",
    "\n",
    "# __main__ is super class of the all class."
   ]
  },
  {
   "cell_type": "code",
   "execution_count": 14,
   "id": "d8a90f97",
   "metadata": {},
   "outputs": [],
   "source": [
    "class list_parser :\n",
    "    def __init__(self , l):\n",
    "        self.l = l \n",
    "    \n",
    "    def parcer(self):\n",
    "        if type(self.l) == list :\n",
    "            for i in self.l:\n",
    "                print(i)\n",
    "                \n",
    "    def reverser_list(self) :\n",
    "        if type(self.l) == list:\n",
    "            return self.l [::-1]"
   ]
  },
  {
   "cell_type": "code",
   "execution_count": 15,
   "id": "71f6a2db",
   "metadata": {},
   "outputs": [],
   "source": [
    "c = list_parser([2,3,4,6,7,78])"
   ]
  },
  {
   "cell_type": "code",
   "execution_count": 19,
   "id": "956e7b24",
   "metadata": {},
   "outputs": [
    {
     "name": "stdout",
     "output_type": "stream",
     "text": [
      "2\n",
      "3\n",
      "4\n",
      "6\n",
      "7\n",
      "78\n"
     ]
    },
    {
     "data": {
      "text/plain": [
       "[78, 7, 6, 4, 3, 2]"
      ]
     },
     "execution_count": 19,
     "metadata": {},
     "output_type": "execute_result"
    }
   ],
   "source": [
    "c.parcer()\n",
    "c.reverser_list()"
   ]
  },
  {
   "cell_type": "code",
   "execution_count": null,
   "id": "92e3fde3",
   "metadata": {},
   "outputs": [],
   "source": [
    "# create a class for dictonary parsing \n",
    "\n",
    "# 1. write a functoin to give all the keys.\n",
    "# 2. write a function to give all the values.\n",
    "# 3. write a function to throw an exception in case of input is not dictonary.\n",
    "# 4. write a function to take user input and then parse a key and value out of dictonary.\n",
    "# 5. write a function to insert new key value pair into dictonary.\n"
   ]
  },
  {
   "cell_type": "code",
   "execution_count": null,
   "id": "e0cf783a",
   "metadata": {},
   "outputs": [],
   "source": [
    "# Here code is fine but missing of __init__ . so go with the next code.\n",
    "class dict_parse:\n",
    "    \n",
    "    def keys_dict(self,d):\n",
    "        for i in d.keys():\n",
    "            print(i)\n",
    "            \n",
    "    def keys_dict(self,d):\n",
    "        for i in d.values():\n",
    "            print(i)\n",
    "    \n",
    "    def dict_check(self,d):\n",
    "        if(type(d) != dict):\n",
    "            raise Exception(\"input not dictionary\")\n",
    "    \n",
    "    def dict_in(self,d,a=int(input())):\n",
    "        print(d[a])\n",
    "        \n",
    "    def dict_input(self,d,key,value):\n",
    "        d[key]=value\n"
   ]
  },
  {
   "cell_type": "code",
   "execution_count": 23,
   "id": "af59106b",
   "metadata": {},
   "outputs": [],
   "source": [
    "class dict_parsing:\n",
    "    \n",
    "    def __init__(self,a):\n",
    "        self.a = a\n",
    "    \n",
    "    def getkeys(self):\n",
    "        if self.notdict():\n",
    "            return list(self.a.keys())\n",
    "        \n",
    "    def getvalues(self):\n",
    "        if self.notdict():\n",
    "            return list(self.a.values())\n",
    "        \n",
    "    def notdict(self):\n",
    "        if type(self.a) != dict:\n",
    "            raise Exception(self.a,'Not a dictionary')\n",
    "        return 1     # If return 1 means 'true'. If it is 1 i.e.'true' then it will go into the if statement.\n",
    "                     # Execute whtever things present in it.\n",
    "                     \n",
    "                     # But if it return 0 means 'False'. it will raise Exception and it will stop executing \n",
    "                     # code. it will not go to the if statement.\n",
    "        \n",
    "    def userinput(self):\n",
    "        self.a = eval(input())        # Here eval is used because we want dict as an o/p.\n",
    "        print(self.a,type(self.a))\n",
    "        print(self.getkeys())\n",
    "        print(self.getvalues())\n",
    "        \n",
    "    def insertion(self,k,v):\n",
    "        self.a[k] = v"
   ]
  },
  {
   "cell_type": "code",
   "execution_count": 26,
   "id": "d115d8eb",
   "metadata": {},
   "outputs": [],
   "source": [
    "d = dict_parsing({\"AJ\":[4,5,6,7,67],\"ASJ\":91096})"
   ]
  },
  {
   "cell_type": "code",
   "execution_count": 27,
   "id": "24db7c2c",
   "metadata": {},
   "outputs": [
    {
     "data": {
      "text/plain": [
       "['AJ', 'ASJ']"
      ]
     },
     "execution_count": 27,
     "metadata": {},
     "output_type": "execute_result"
    }
   ],
   "source": [
    "d.getkeys()"
   ]
  },
  {
   "cell_type": "code",
   "execution_count": 28,
   "id": "5fb2bce9",
   "metadata": {},
   "outputs": [
    {
     "data": {
      "text/plain": [
       "[[4, 5, 6, 7, 67], 91096]"
      ]
     },
     "execution_count": 28,
     "metadata": {},
     "output_type": "execute_result"
    }
   ],
   "source": [
    "d.getvalues()"
   ]
  },
  {
   "cell_type": "code",
   "execution_count": 29,
   "id": "928586f9",
   "metadata": {},
   "outputs": [
    {
     "ename": "Exception",
     "evalue": "([4, 5, 6, 7, 67], 'Not a dictionary')",
     "output_type": "error",
     "traceback": [
      "\u001b[0;31m---------------------------------------------------------------------------\u001b[0m",
      "\u001b[0;31mException\u001b[0m                                 Traceback (most recent call last)",
      "\u001b[0;32m<ipython-input-29-d7177988b193>\u001b[0m in \u001b[0;36m<module>\u001b[0;34m\u001b[0m\n\u001b[1;32m      1\u001b[0m \u001b[0;31m# now if we give this then see what will happen.it will give us error.\u001b[0m\u001b[0;34m\u001b[0m\u001b[0;34m\u001b[0m\u001b[0;34m\u001b[0m\u001b[0m\n\u001b[1;32m      2\u001b[0m \u001b[0md\u001b[0m \u001b[0;34m=\u001b[0m \u001b[0mdict_parsing\u001b[0m\u001b[0;34m(\u001b[0m\u001b[0;34m[\u001b[0m\u001b[0;36m4\u001b[0m\u001b[0;34m,\u001b[0m\u001b[0;36m5\u001b[0m\u001b[0;34m,\u001b[0m\u001b[0;36m6\u001b[0m\u001b[0;34m,\u001b[0m\u001b[0;36m7\u001b[0m\u001b[0;34m,\u001b[0m\u001b[0;36m67\u001b[0m\u001b[0;34m]\u001b[0m\u001b[0;34m)\u001b[0m\u001b[0;34m\u001b[0m\u001b[0;34m\u001b[0m\u001b[0m\n\u001b[0;32m----> 3\u001b[0;31m \u001b[0md\u001b[0m\u001b[0;34m.\u001b[0m\u001b[0mnotdict\u001b[0m\u001b[0;34m(\u001b[0m\u001b[0;34m)\u001b[0m\u001b[0;34m\u001b[0m\u001b[0;34m\u001b[0m\u001b[0m\n\u001b[0m",
      "\u001b[0;32m<ipython-input-23-7cc86f026716>\u001b[0m in \u001b[0;36mnotdict\u001b[0;34m(self)\u001b[0m\n\u001b[1;32m     14\u001b[0m     \u001b[0;32mdef\u001b[0m \u001b[0mnotdict\u001b[0m\u001b[0;34m(\u001b[0m\u001b[0mself\u001b[0m\u001b[0;34m)\u001b[0m\u001b[0;34m:\u001b[0m\u001b[0;34m\u001b[0m\u001b[0;34m\u001b[0m\u001b[0m\n\u001b[1;32m     15\u001b[0m         \u001b[0;32mif\u001b[0m \u001b[0mtype\u001b[0m\u001b[0;34m(\u001b[0m\u001b[0mself\u001b[0m\u001b[0;34m.\u001b[0m\u001b[0ma\u001b[0m\u001b[0;34m)\u001b[0m \u001b[0;34m!=\u001b[0m \u001b[0mdict\u001b[0m\u001b[0;34m:\u001b[0m\u001b[0;34m\u001b[0m\u001b[0;34m\u001b[0m\u001b[0m\n\u001b[0;32m---> 16\u001b[0;31m             \u001b[0;32mraise\u001b[0m \u001b[0mException\u001b[0m\u001b[0;34m(\u001b[0m\u001b[0mself\u001b[0m\u001b[0;34m.\u001b[0m\u001b[0ma\u001b[0m\u001b[0;34m,\u001b[0m\u001b[0;34m'Not a dictionary'\u001b[0m\u001b[0;34m)\u001b[0m\u001b[0;34m\u001b[0m\u001b[0;34m\u001b[0m\u001b[0m\n\u001b[0m\u001b[1;32m     17\u001b[0m         \u001b[0;32mreturn\u001b[0m \u001b[0;36m1\u001b[0m     \u001b[0;31m# If return 1 means 'true'. If it is 1 i.e.'true' then it will go into the if statement.\u001b[0m\u001b[0;34m\u001b[0m\u001b[0;34m\u001b[0m\u001b[0m\n\u001b[1;32m     18\u001b[0m                      \u001b[0;31m# Execute whtever things present in it.\u001b[0m\u001b[0;34m\u001b[0m\u001b[0;34m\u001b[0m\u001b[0;34m\u001b[0m\u001b[0m\n",
      "\u001b[0;31mException\u001b[0m: ([4, 5, 6, 7, 67], 'Not a dictionary')"
     ]
    }
   ],
   "source": [
    "# now if we give this then see what will happen.it will give us error.\n",
    "d = dict_parsing([4,5,6,7,67])\n",
    "d.notdict()"
   ]
  },
  {
   "cell_type": "code",
   "execution_count": 31,
   "id": "31e0cfce",
   "metadata": {},
   "outputs": [
    {
     "name": "stdout",
     "output_type": "stream",
     "text": [
      "{\"k\":\"fdsfs\"}\n",
      "{'k': 'fdsfs'} <class 'dict'>\n",
      "['k']\n",
      "['fdsfs']\n"
     ]
    }
   ],
   "source": [
    "d.userinput()"
   ]
  },
  {
   "cell_type": "code",
   "execution_count": 32,
   "id": "019fa78a",
   "metadata": {},
   "outputs": [],
   "source": [
    "d.insertion(\"k1\",[435,6,56,5])"
   ]
  },
  {
   "cell_type": "code",
   "execution_count": null,
   "id": "a7c8514f",
   "metadata": {},
   "outputs": [],
   "source": [
    "class dict_Parser:\n",
    "    def __init__ (self,dic):\n",
    "        if type(dic) != dict:\n",
    "            raise ValueError(\"Input is not dictionary\")\n",
    "        self.dictionary = dic\n",
    "        \n",
    "    def get_keys(self):\n",
    "        return self.dictionary.keys()\n",
    "    def get_values(self):\n",
    "        return self.dictionary.values()\n",
    "    def take_input(self):\n",
    "        a = input(\"enter key\")\n",
    "        b = input(\"enter value\")\n",
    "        self.dictionary[a] = b\n",
    "    def insert_key_val_pair(self,key,value):\n",
    "        self.dictionary[key] = value"
   ]
  },
  {
   "cell_type": "code",
   "execution_count": 33,
   "id": "8511af24",
   "metadata": {},
   "outputs": [],
   "source": [
    "class not_a_dictionary(Exception):\n",
    "    pass\n",
    "\n",
    "\n",
    "class dictionary():\n",
    "    def __init__(self,d):\n",
    "        self.d=d\n",
    "    \n",
    "    def return_keys(self):\n",
    "        return(self.d.keys())\n",
    "    \n",
    "    def return_values(self):\n",
    "        return(self.d.values())\n",
    "    \n",
    "    def check_dict(self):\n",
    "        if type(self.d)!=dict:\n",
    "            raise(not_a_dictionary)\n",
    "            \n",
    "    def parse_dict(self):\n",
    "        self.d={}\n",
    "        while(True):\n",
    "            key=input(\"Enter your key. Press -1 to exit \")\n",
    "            value= input(\"Enter your value. Press -1 to exit \")\n",
    "            \n",
    "            if key=='-1' or value=='-1':\n",
    "                break\n",
    "            \n",
    "            self.d[key]=value\n",
    "        print(\"Now your dictionary is: \", self.d)\n",
    "            \n",
    "        \n",
    "    def add_key_value(self,key,value):\n",
    "        self.d[key]=value"
   ]
  },
  {
   "cell_type": "code",
   "execution_count": 36,
   "id": "31909ec9",
   "metadata": {},
   "outputs": [],
   "source": [
    "class dictionary_parser:\n",
    "    \n",
    "    def __init__(self):\n",
    "        d = eval(input())\n",
    "        if type(d) == dict:\n",
    "                print('Go ahead')\n",
    "        else:\n",
    "            raise Exception('Not a Dictionary')\n",
    "        self.d = d\n",
    "    \n",
    "    def get_keys(self):\n",
    "        return self.d.keys()\n",
    "    \n",
    "    def get_values(self):\n",
    "        return self.d.values()\n",
    "    \n",
    "    def add_values(self, k, v):\n",
    "        self.d[k] = v\n",
    "        return self.d"
   ]
  },
  {
   "cell_type": "code",
   "execution_count": 37,
   "id": "d95eaf18",
   "metadata": {},
   "outputs": [
    {
     "data": {
      "text/plain": [
       "<_io.TextIOWrapper name='mydict.py' mode='w' encoding='UTF-8'>"
      ]
     },
     "execution_count": 37,
     "metadata": {},
     "output_type": "execute_result"
    }
   ],
   "source": [
    "# We created one file with .py extension then i stored class code into it. and i will use that code in future.\n",
    "open(\"mydict.py\" , \"w\")"
   ]
  },
  {
   "cell_type": "code",
   "execution_count": 38,
   "id": "446e627e",
   "metadata": {},
   "outputs": [
    {
     "name": "stdout",
     "output_type": "stream",
     "text": [
      "1#_iNEURON_PYTHON_4DEC_&_5DEC_2021.ipynb\r\n",
      "2#_iNEURON_PYTHON_18DEC_&_19DEC_2021.ipynb\r\n",
      "3#_iNEURON_PYTHON_20DEC_&_21DEC_2021.ipynb\r\n",
      "4#_iNEURON_PYTHON_23DEC_2021.ipynb\r\n",
      "5#_iNEURON_PYTHON_8JAN_&_9JAN_2021.ipynb\r\n",
      "6#_iNEURON_PYTHON_15JAN_&_16JAN_2021.ipynb\r\n",
      "7#_iNEURON_PYTHON_22JAN_&_23JAN_2021.ipynb\r\n",
      "7.1#_iNEURON_PYTHON_22JAN_&_23JAN_2021.ipynb\r\n",
      "8#_iNEURON_PYTHON_29JAN_&_30JAN_2021.ipynb\r\n",
      "\u001b[34mApplications\u001b[m\u001b[m/\r\n",
      "DATA SCIENCE 1 (NUMPY , PANDAS).ipynb\r\n",
      "DATA SCIENCE 2 (MATPLOTLIB, SEABORN, PANDAS BUILT IN DATA VISUALIZATION, PLOTLY, GEOGRAPHICAL-PLOTING).ipynb\r\n",
      "\u001b[34mDesktop\u001b[m\u001b[m/\r\n",
      "\u001b[34mDocuments\u001b[m\u001b[m/\r\n",
      "\u001b[34mDownloads\u001b[m\u001b[m/\r\n",
      "\u001b[34mLibrary\u001b[m\u001b[m/\r\n",
      "\u001b[34mMovies\u001b[m\u001b[m/\r\n",
      "\u001b[34mMusic\u001b[m\u001b[m/\r\n",
      "PDF & CSV WITH PYTHON .ipynb\r\n",
      "PYTHON 2021.ipynb\r\n",
      "\u001b[34mPictures\u001b[m\u001b[m/\r\n",
      "\u001b[34mPublic\u001b[m\u001b[m/\r\n",
      "\u001b[34mPycharmProjects\u001b[m\u001b[m/\r\n",
      "Working_Business_Proposal.pdf\r\n",
      "\u001b[34m__pycache__\u001b[m\u001b[m/\r\n",
      "example.csv\r\n",
      "google.txt\r\n",
      "my_module.py\r\n",
      "mydict.py\r\n",
      "\u001b[34mseaborn-data\u001b[m\u001b[m/\r\n",
      "test.log\r\n",
      "test.txt\r\n",
      "test1.log\r\n",
      "test1.py\r\n",
      "test1.txt\r\n",
      "test45.txt\r\n",
      "testfile\r\n"
     ]
    }
   ],
   "source": [
    "ls"
   ]
  },
  {
   "cell_type": "code",
   "execution_count": null,
   "id": "f00ad4d2",
   "metadata": {},
   "outputs": [],
   "source": [
    "# 1"
   ]
  },
  {
   "cell_type": "code",
   "execution_count": 39,
   "id": "b4f2a7f1",
   "metadata": {},
   "outputs": [],
   "source": [
    "import mydict"
   ]
  },
  {
   "cell_type": "code",
   "execution_count": 40,
   "id": "9c45b705",
   "metadata": {},
   "outputs": [],
   "source": [
    "d=mydict.dict_parsing({\"k1\":\"ASJ\",\"k2\":[1,2,3,4]})"
   ]
  },
  {
   "cell_type": "code",
   "execution_count": 41,
   "id": "c20940bf",
   "metadata": {},
   "outputs": [
    {
     "data": {
      "text/plain": [
       "['k1', 'k2']"
      ]
     },
     "execution_count": 41,
     "metadata": {},
     "output_type": "execute_result"
    }
   ],
   "source": [
    "d.getkeys()"
   ]
  },
  {
   "cell_type": "code",
   "execution_count": 42,
   "id": "dbc4c3eb",
   "metadata": {},
   "outputs": [
    {
     "data": {
      "text/plain": [
       "['ASJ', [1, 2, 3, 4]]"
      ]
     },
     "execution_count": 42,
     "metadata": {},
     "output_type": "execute_result"
    }
   ],
   "source": [
    "d.getvalues()"
   ]
  },
  {
   "cell_type": "code",
   "execution_count": null,
   "id": "eed92d40",
   "metadata": {},
   "outputs": [],
   "source": [
    "#2"
   ]
  },
  {
   "cell_type": "code",
   "execution_count": 43,
   "id": "62075946",
   "metadata": {},
   "outputs": [],
   "source": [
    "import mydict"
   ]
  },
  {
   "cell_type": "code",
   "execution_count": null,
   "id": "fdf3919c",
   "metadata": {},
   "outputs": [],
   "source": [
    "from mydict import dict_parsing"
   ]
  },
  {
   "cell_type": "code",
   "execution_count": 44,
   "id": "491dae0c",
   "metadata": {},
   "outputs": [],
   "source": [
    "d = mydict.dict_parsing({\"k1\" : \"sudh\" , \"k2\" : [1,2,3,4,5]})"
   ]
  },
  {
   "cell_type": "code",
   "execution_count": 45,
   "id": "d044b694",
   "metadata": {},
   "outputs": [
    {
     "data": {
      "text/plain": [
       "['k1', 'k2']"
      ]
     },
     "execution_count": 45,
     "metadata": {},
     "output_type": "execute_result"
    }
   ],
   "source": [
    "d.getkeys()"
   ]
  },
  {
   "cell_type": "code",
   "execution_count": 46,
   "id": "0a9a95af",
   "metadata": {},
   "outputs": [
    {
     "data": {
      "text/plain": [
       "['sudh', [1, 2, 3, 4, 5]]"
      ]
     },
     "execution_count": 46,
     "metadata": {},
     "output_type": "execute_result"
    }
   ],
   "source": [
    "d.getvalues()"
   ]
  },
  {
   "cell_type": "code",
   "execution_count": null,
   "id": "9487dba8",
   "metadata": {},
   "outputs": [],
   "source": [
    "# 3"
   ]
  },
  {
   "cell_type": "code",
   "execution_count": 49,
   "id": "9b2b7a63",
   "metadata": {},
   "outputs": [],
   "source": [
    "from mydict import dict_parsing"
   ]
  },
  {
   "cell_type": "code",
   "execution_count": 50,
   "id": "745bcb87",
   "metadata": {},
   "outputs": [],
   "source": [
    "d1 = dict_parsing({\"k1\" : \"sudh\" , \"k2\" : [1,2,3,4,5]})"
   ]
  },
  {
   "cell_type": "code",
   "execution_count": 51,
   "id": "81f40c9f",
   "metadata": {},
   "outputs": [
    {
     "data": {
      "text/plain": [
       "['k1', 'k2']"
      ]
     },
     "execution_count": 51,
     "metadata": {},
     "output_type": "execute_result"
    }
   ],
   "source": [
    "d1.getkeys()"
   ]
  },
  {
   "cell_type": "code",
   "execution_count": 52,
   "id": "4e9f969b",
   "metadata": {},
   "outputs": [
    {
     "data": {
      "text/plain": [
       "['sudh', [1, 2, 3, 4, 5]]"
      ]
     },
     "execution_count": 52,
     "metadata": {},
     "output_type": "execute_result"
    }
   ],
   "source": [
    "d.getvalues()"
   ]
  },
  {
   "cell_type": "code",
   "execution_count": 1,
   "id": "2c214078",
   "metadata": {},
   "outputs": [],
   "source": [
    "## we can create many class into same file i.e. also called as module.\n",
    "# GO and see the file mydict.py\n",
    "\n",
    "from mydict import dict_parsing1"
   ]
  },
  {
   "cell_type": "code",
   "execution_count": 2,
   "id": "cf184d0e",
   "metadata": {},
   "outputs": [],
   "source": [
    "d2 = dict_parsing1({\"k1\" : \"sudh\" , \"k2\" : [1,2,3,4,5]})"
   ]
  },
  {
   "cell_type": "code",
   "execution_count": 3,
   "id": "2de519e5",
   "metadata": {},
   "outputs": [
    {
     "data": {
      "text/plain": [
       "['sudh', [1, 2, 3, 4, 5]]"
      ]
     },
     "execution_count": 3,
     "metadata": {},
     "output_type": "execute_result"
    }
   ],
   "source": [
    "d2.getvalues()"
   ]
  },
  {
   "cell_type": "code",
   "execution_count": null,
   "id": "2e894a2d",
   "metadata": {},
   "outputs": [],
   "source": [
    "# q1 . Create your own package for all the list function \n",
    "# q2 . Create your onw package for all the tuple function\n",
    "# q3 . Create your own package for all dictonary function\n",
    "# q4 . Create your own package for all the set function\n",
    "\n",
    "# restriction:\n",
    "#    always use exception handling.\n",
    "#    never use print statement. \n",
    "#    always use logging while writing a code and log every activity performed by code in respective logging \n",
    "#    file.\n",
    "    \n",
    "# you have to submit this by next sunday : before 30th of jan 10 AM IST \n",
    "# sudhanshu@ineuron.ai\n",
    "\n"
   ]
  }
 ],
 "metadata": {
  "kernelspec": {
   "display_name": "Python 3 (ipykernel)",
   "language": "python",
   "name": "python3"
  },
  "language_info": {
   "codemirror_mode": {
    "name": "ipython",
    "version": 3
   },
   "file_extension": ".py",
   "mimetype": "text/x-python",
   "name": "python",
   "nbconvert_exporter": "python",
   "pygments_lexer": "ipython3",
   "version": "3.7.7"
  }
 },
 "nbformat": 4,
 "nbformat_minor": 5
}
